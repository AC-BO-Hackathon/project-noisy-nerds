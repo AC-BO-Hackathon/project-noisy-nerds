{
 "cells": [
  {
   "cell_type": "code",
   "execution_count": 9,
   "metadata": {},
   "outputs": [
    {
     "name": "stderr",
     "output_type": "stream",
     "text": [
      "2024-03-28 22:39:28,614\tINFO worker.py:1558 -- Calling ray.init() again after it has already been called.\n"
     ]
    },
    {
     "name": "stdout",
     "output_type": "stream",
     "text": [
      "Started problem 4 noise 10 budget 10 seed 0, time: 1.00s\n",
      "\u001b[36m(worker pid=5984)\u001b[0m Starting iteration 0, total time: 0.000 seconds.\n",
      "Started problem 4 noise 10 budget 10 seed 0, time: 2.12s\n",
      "\u001b[36m(worker pid=5984)\u001b[0m New candidate: tensor([[-500.]], dtype=torch.float64), tensor([257.0693], dtype=torch.float64)\n"
     ]
    },
    {
     "name": "stderr",
     "output_type": "stream",
     "text": [
      "\u001b[36m(worker pid=18444)\u001b[0m c:\\Users\\queim\\micromambaenv\\envs\\mobo\\lib\\site-packages\\gpytorch\\likelihoods\\noise_models.py:148: NumericalWarning: Very small noise values detected. This will likely lead to numerical instabilities. Rounding small noise values up to 1e-06.\n",
      "\u001b[36m(worker pid=18444)\u001b[0m   warnings.warn(\n"
     ]
    },
    {
     "name": "stdout",
     "output_type": "stream",
     "text": [
      "Started problem 4 noise 100 budget 10 seed 0, time: 3.27s\n"
     ]
    },
    {
     "name": "stderr",
     "output_type": "stream",
     "text": [
      "\u001b[36m(worker pid=18444)\u001b[0m c:\\Users\\queim\\micromambaenv\\envs\\mobo\\lib\\site-packages\\gpytorch\\likelihoods\\noise_models.py:148: NumericalWarning: Very small noise values detected. This will likely lead to numerical instabilities. Rounding small noise values up to 1e-06.\n",
      "\u001b[36m(worker pid=18444)\u001b[0m   warnings.warn(\n"
     ]
    },
    {
     "name": "stdout",
     "output_type": "stream",
     "text": [
      "Started problem 4 noise 100 budget 10 seed 0, time: 4.39s\n",
      "Started problem 10 noise 10 budget 10 seed 0, time: 5.53s\n",
      "Started problem 10 noise 10 budget 10 seed 0, time: 6.66s\n",
      "\u001b[36m(worker pid=12024)\u001b[0m Starting iteration 0, total time: 0.000 seconds.\u001b[32m [repeated 12x across cluster]\u001b[0m\n"
     ]
    },
    {
     "name": "stderr",
     "output_type": "stream",
     "text": [
      "\u001b[36m(worker pid=18444)\u001b[0m c:\\Users\\queim\\micromambaenv\\envs\\mobo\\lib\\site-packages\\gpytorch\\likelihoods\\noise_models.py:148: NumericalWarning: Very small noise values detected. This will likely lead to numerical instabilities. Rounding small noise values up to 1e-06.\u001b[32m [repeated 5x across cluster]\u001b[0m\n",
      "\u001b[36m(worker pid=18444)\u001b[0m   warnings.warn(\u001b[32m [repeated 5x across cluster]\u001b[0m\n"
     ]
    },
    {
     "name": "stdout",
     "output_type": "stream",
     "text": [
      "\u001b[36m(worker pid=18444)\u001b[0m New candidate: tensor([[-221.4744]], dtype=torch.float64), tensor([591.3097], dtype=torch.float64)\u001b[32m [repeated 8x across cluster]\u001b[0m\n",
      "Started problem 10 noise 100 budget 10 seed 0, time: 7.82s\n",
      "Started problem 10 noise 100 budget 10 seed 0, time: 9.02s\n",
      "Started problem 4 noise 10 budget 10 seed 1, time: 10.27s\n",
      "Started problem 4 noise 10 budget 10 seed 1, time: 11.52s\n",
      "\u001b[36m(worker pid=5244)\u001b[0m Starting iteration 3, total time: 7.398 seconds.\u001b[32m [repeated 13x across cluster]\u001b[0m\n",
      "Started problem 4 noise 100 budget 10 seed 1, time: 12.77s\n",
      "\u001b[36m(worker pid=12436)\u001b[0m New candidate: tensor([[455.8119]], dtype=torch.float64), tensor([160.6682], dtype=torch.float64)\u001b[32m [repeated 11x across cluster]\u001b[0m\n"
     ]
    },
    {
     "name": "stderr",
     "output_type": "stream",
     "text": [
      "\u001b[36m(worker pid=12436)\u001b[0m c:\\Users\\queim\\micromambaenv\\envs\\mobo\\lib\\site-packages\\gpytorch\\likelihoods\\noise_models.py:148: NumericalWarning: Very small noise values detected. This will likely lead to numerical instabilities. Rounding small noise values up to 1e-06.\u001b[32m [repeated 6x across cluster]\u001b[0m\n",
      "\u001b[36m(worker pid=12436)\u001b[0m   warnings.warn(\u001b[32m [repeated 6x across cluster]\u001b[0m\n"
     ]
    },
    {
     "name": "stdout",
     "output_type": "stream",
     "text": [
      "Started problem 4 noise 100 budget 10 seed 1, time: 13.98s\n",
      "Started problem 10 noise 10 budget 10 seed 1, time: 15.18s\n",
      "\u001b[36m(worker pid=12436)\u001b[0m Starting iteration 2, total time: 8.225 seconds.\u001b[32m [repeated 10x across cluster]\u001b[0m\n"
     ]
    },
    {
     "name": "stderr",
     "output_type": "stream",
     "text": [
      "\u001b[36m(worker pid=18444)\u001b[0m c:\\Users\\queim\\micromambaenv\\envs\\mobo\\lib\\site-packages\\gpytorch\\likelihoods\\noise_models.py:148: NumericalWarning: Very small noise values detected. This will likely lead to numerical instabilities. Rounding small noise values up to 1e-06.\u001b[32m [repeated 7x across cluster]\u001b[0m\n",
      "\u001b[36m(worker pid=18444)\u001b[0m   warnings.warn(\u001b[32m [repeated 7x across cluster]\u001b[0m\n"
     ]
    },
    {
     "name": "stdout",
     "output_type": "stream",
     "text": [
      "\u001b[36m(worker pid=18444)\u001b[0m New candidate: tensor([[-310.3727]], dtype=torch.float64), tensor([130.3428], dtype=torch.float64)\u001b[32m [repeated 13x across cluster]\u001b[0m\n"
     ]
    },
    {
     "name": "stderr",
     "output_type": "stream",
     "text": [
      "\u001b[36m(worker pid=12436)\u001b[0m c:\\Users\\queim\\micromambaenv\\envs\\mobo\\lib\\site-packages\\gpytorch\\likelihoods\\noise_models.py:148: NumericalWarning: Very small noise values detected. This will likely lead to numerical instabilities. Rounding small noise values up to 1e-06.\u001b[32m [repeated 5x across cluster]\u001b[0m\n",
      "\u001b[36m(worker pid=12436)\u001b[0m   warnings.warn(\u001b[32m [repeated 5x across cluster]\u001b[0m\n"
     ]
    },
    {
     "name": "stdout",
     "output_type": "stream",
     "text": [
      "\u001b[36m(worker pid=12436)\u001b[0m Starting iteration 4, total time: 14.192 seconds.\u001b[32m [repeated 16x across cluster]\u001b[0m\n",
      "\u001b[36m(worker pid=12436)\u001b[0m New candidate: tensor([[451.2381]], dtype=torch.float64), tensor([123.9714], dtype=torch.float64)\u001b[32m [repeated 11x across cluster]\u001b[0m\n",
      "Started problem 10 noise 10 budget 10 seed 1, time: 27.88s\n",
      "\u001b[36m(worker pid=20068)\u001b[0m Starting iteration 7, total time: 23.087 seconds.\u001b[32m [repeated 15x across cluster]\u001b[0m\n",
      "\u001b[36m(worker pid=20068)\u001b[0m New candidate: tensor([[370.4692]], dtype=torch.float64), tensor([290.3323], dtype=torch.float64)\u001b[32m [repeated 15x across cluster]\u001b[0m\n"
     ]
    },
    {
     "name": "stderr",
     "output_type": "stream",
     "text": [
      "\u001b[36m(worker pid=5244)\u001b[0m c:\\Users\\queim\\micromambaenv\\envs\\mobo\\lib\\site-packages\\gpytorch\\likelihoods\\noise_models.py:148: NumericalWarning: Very small noise values detected. This will likely lead to numerical instabilities. Rounding small noise values up to 1e-06.\u001b[32m [repeated 8x across cluster]\u001b[0m\n",
      "\u001b[36m(worker pid=5244)\u001b[0m   warnings.warn(\u001b[32m [repeated 8x across cluster]\u001b[0m\n"
     ]
    },
    {
     "name": "stdout",
     "output_type": "stream",
     "text": [
      "Started problem 10 noise 100 budget 10 seed 1, time: 32.42s\n",
      "Started problem 10 noise 100 budget 10 seed 1, time: 33.60s\n"
     ]
    },
    {
     "name": "stderr",
     "output_type": "stream",
     "text": [
      "\u001b[36m(worker pid=18444)\u001b[0m c:\\Users\\queim\\micromambaenv\\envs\\mobo\\lib\\site-packages\\gpytorch\\likelihoods\\noise_models.py:148: NumericalWarning: Very small noise values detected. This will likely lead to numerical instabilities. Rounding small noise values up to 1e-06.\u001b[32m [repeated 8x across cluster]\u001b[0m\n",
      "\u001b[36m(worker pid=18444)\u001b[0m   warnings.warn(\u001b[32m [repeated 8x across cluster]\u001b[0m\n"
     ]
    },
    {
     "name": "stdout",
     "output_type": "stream",
     "text": [
      "\u001b[36m(worker pid=18444)\u001b[0m Starting iteration 1, total time: 2.755 seconds.\u001b[32m [repeated 13x across cluster]\u001b[0m\n",
      "\u001b[36m(worker pid=18444)\u001b[0m New candidate: tensor([[500.]], dtype=torch.float64), tensor([608.2261], dtype=torch.float64)\u001b[32m [repeated 13x across cluster]\u001b[0m\n",
      "0\n",
      "0\n"
     ]
    },
    {
     "name": "stderr",
     "output_type": "stream",
     "text": [
      "\u001b[36m(worker pid=12024)\u001b[0m c:\\Users\\queim\\micromambaenv\\envs\\mobo\\lib\\site-packages\\gpytorch\\likelihoods\\noise_models.py:148: NumericalWarning: Very small noise values detected. This will likely lead to numerical instabilities. Rounding small noise values up to 1e-06.\u001b[32m [repeated 7x across cluster]\u001b[0m\n",
      "\u001b[36m(worker pid=12024)\u001b[0m   warnings.warn(\u001b[32m [repeated 7x across cluster]\u001b[0m\n"
     ]
    },
    {
     "name": "stdout",
     "output_type": "stream",
     "text": [
      "\u001b[36m(worker pid=20068)\u001b[0m Starting iteration 0, total time: 0.000 seconds.\u001b[32m [repeated 14x across cluster]\u001b[0m\n",
      "\u001b[36m(worker pid=12024)\u001b[0m New candidate: tensor([[420.7220]], dtype=torch.float64), tensor([-8.5333], dtype=torch.float64)\u001b[32m [repeated 15x across cluster]\u001b[0m\n",
      "0\n",
      "0\n",
      "0\n",
      "\u001b[36m(worker pid=5984)\u001b[0m Starting iteration 6, total time: 18.163 seconds.\u001b[32m [repeated 14x across cluster]\u001b[0m\n",
      "\u001b[36m(worker pid=5984)\u001b[0m New candidate: tensor([[-500.]], dtype=torch.float64), tensor([235.9000], dtype=torch.float64)\u001b[32m [repeated 13x across cluster]\u001b[0m\n"
     ]
    },
    {
     "name": "stderr",
     "output_type": "stream",
     "text": [
      "\u001b[36m(worker pid=13296)\u001b[0m c:\\Users\\queim\\micromambaenv\\envs\\mobo\\lib\\site-packages\\gpytorch\\likelihoods\\noise_models.py:148: NumericalWarning: Very small noise values detected. This will likely lead to numerical instabilities. Rounding small noise values up to 1e-06.\u001b[32m [repeated 9x across cluster]\u001b[0m\n",
      "\u001b[36m(worker pid=13296)\u001b[0m   warnings.warn(\u001b[32m [repeated 9x across cluster]\u001b[0m\n"
     ]
    },
    {
     "name": "stdout",
     "output_type": "stream",
     "text": [
      "\u001b[36m(worker pid=20068)\u001b[0m Starting iteration 4, total time: 12.347 seconds.\u001b[32m [repeated 12x across cluster]\u001b[0m\n",
      "\u001b[36m(worker pid=20068)\u001b[0m New candidate: tensor([[47.6366]], dtype=torch.float64), tensor([387.5126], dtype=torch.float64)\u001b[32m [repeated 12x across cluster]\u001b[0m\n"
     ]
    },
    {
     "name": "stderr",
     "output_type": "stream",
     "text": [
      "\u001b[36m(worker pid=1928)\u001b[0m c:\\Users\\queim\\micromambaenv\\envs\\mobo\\lib\\site-packages\\gpytorch\\likelihoods\\noise_models.py:148: NumericalWarning: Very small noise values detected. This will likely lead to numerical instabilities. Rounding small noise values up to 1e-06.\u001b[32m [repeated 6x across cluster]\u001b[0m\n",
      "\u001b[36m(worker pid=1928)\u001b[0m   warnings.warn(\u001b[32m [repeated 6x across cluster]\u001b[0m\n",
      "\u001b[36m(worker pid=13296)\u001b[0m c:\\Users\\queim\\micromambaenv\\envs\\mobo\\lib\\site-packages\\botorch\\optim\\optimize.py:367: RuntimeWarning: Optimization failed in `gen_candidates_scipy` with the following warning(s):\n",
      "\u001b[36m(worker pid=13296)\u001b[0m [OptimizationWarning('Optimization failed within `scipy.optimize.minimize` with status 2 and message ABNORMAL_TERMINATION_IN_LNSRCH.')]\n",
      "\u001b[36m(worker pid=13296)\u001b[0m Trying again with a new set of initial conditions.\n",
      "\u001b[36m(worker pid=13296)\u001b[0m   warnings.warn(first_warn_msg, RuntimeWarning)\n"
     ]
    },
    {
     "name": "stdout",
     "output_type": "stream",
     "text": [
      "\u001b[36m(worker pid=13296)\u001b[0m Starting iteration 3, total time: 15.013 seconds.\u001b[32m [repeated 13x across cluster]\u001b[0m\n",
      "\u001b[36m(worker pid=13296)\u001b[0m New candidate: tensor([[407.8906]], dtype=torch.float64), tensor([-10.9544], dtype=torch.float64)\u001b[32m [repeated 13x across cluster]\u001b[0m\n",
      "0\n"
     ]
    },
    {
     "name": "stderr",
     "output_type": "stream",
     "text": [
      "\u001b[36m(worker pid=18444)\u001b[0m c:\\Users\\queim\\micromambaenv\\envs\\mobo\\lib\\site-packages\\gpytorch\\likelihoods\\noise_models.py:148: NumericalWarning: Very small noise values detected. This will likely lead to numerical instabilities. Rounding small noise values up to 1e-06.\u001b[32m [repeated 7x across cluster]\u001b[0m\n",
      "\u001b[36m(worker pid=18444)\u001b[0m   warnings.warn(\u001b[32m [repeated 7x across cluster]\u001b[0m\n"
     ]
    },
    {
     "name": "stdout",
     "output_type": "stream",
     "text": [
      "\u001b[36m(worker pid=20068)\u001b[0m Starting iteration 7, total time: 22.743 seconds.\u001b[32m [repeated 9x across cluster]\u001b[0m\n",
      "\u001b[36m(worker pid=20068)\u001b[0m New candidate: tensor([[395.9327]], dtype=torch.float64), tensor([74.1132], dtype=torch.float64)\u001b[32m [repeated 10x across cluster]\u001b[0m\n"
     ]
    },
    {
     "name": "stderr",
     "output_type": "stream",
     "text": [
      "\u001b[36m(worker pid=18444)\u001b[0m c:\\Users\\queim\\micromambaenv\\envs\\mobo\\lib\\site-packages\\gpytorch\\likelihoods\\noise_models.py:148: NumericalWarning: Very small noise values detected. This will likely lead to numerical instabilities. Rounding small noise values up to 1e-06.\u001b[32m [repeated 8x across cluster]\u001b[0m\n",
      "\u001b[36m(worker pid=18444)\u001b[0m   warnings.warn(\u001b[32m [repeated 8x across cluster]\u001b[0m\n"
     ]
    },
    {
     "name": "stdout",
     "output_type": "stream",
     "text": [
      "0\n",
      "0\n",
      "\u001b[36m(worker pid=20068)\u001b[0m Starting iteration 9, total time: 29.110 seconds.\u001b[32m [repeated 12x across cluster]\u001b[0m\n",
      "\u001b[36m(worker pid=20068)\u001b[0m New candidate: tensor([[364.4596]], dtype=torch.float64), tensor([332.3226], dtype=torch.float64)\u001b[32m [repeated 14x across cluster]\u001b[0m\n",
      "0\n",
      "0\n"
     ]
    },
    {
     "name": "stderr",
     "output_type": "stream",
     "text": [
      "\u001b[36m(worker pid=13296)\u001b[0m c:\\Users\\queim\\micromambaenv\\envs\\mobo\\lib\\site-packages\\gpytorch\\likelihoods\\noise_models.py:148: NumericalWarning: Very small noise values detected. This will likely lead to numerical instabilities. Rounding small noise values up to 1e-06.\u001b[32m [repeated 7x across cluster]\u001b[0m\n",
      "\u001b[36m(worker pid=13296)\u001b[0m   warnings.warn(\u001b[32m [repeated 7x across cluster]\u001b[0m\n"
     ]
    },
    {
     "name": "stdout",
     "output_type": "stream",
     "text": [
      "0\n",
      "0\n",
      "\u001b[36m(worker pid=13296)\u001b[0m Starting iteration 9, total time: 31.273 seconds.\u001b[32m [repeated 6x across cluster]\u001b[0m\n",
      "\u001b[36m(worker pid=13296)\u001b[0m New candidate: tensor([[455.3359]], dtype=torch.float64), tensor([200.7786], dtype=torch.float64)\u001b[32m [repeated 11x across cluster]\u001b[0m\n",
      "0\n",
      "all experiments done, time: 74.30s\n"
     ]
    }
   ],
   "source": [
    "import torch\n",
    "import pandas as pd\n",
    "from run_grid_experiments import run_grid_experiments\n",
    "\n",
    "seeds = [0,1]\n",
    "n_inits = [4, 10]\n",
    "noise_levels = [10, 100]\n",
    "# budgets = [10, 20, 50]\n",
    "noise_bools = [True, False]\n",
    "budget = 10\n",
    "\n",
    "run_grid_experiments(seeds, n_inits, noise_levels, noise_bools, budget)"
   ]
  },
  {
   "cell_type": "code",
   "execution_count": 10,
   "metadata": {},
   "outputs": [
    {
     "name": "stderr",
     "output_type": "stream",
     "text": [
      "C:\\Users\\queim\\AppData\\Local\\Temp\\ipykernel_16892\\636701015.py:10: FutureWarning: The behavior of DataFrame concatenation with empty or all-NA entries is deprecated. In a future version, this will no longer exclude empty or all-NA columns when determining the result dtypes. To retain the old behavior, exclude the relevant entries before the concat operation.\n",
      "  df = pd.concat([df, pd.DataFrame({\"n_init\": [n_init], \"noise_level\": [noise_level], \"seed\": [seed], \"noise_bool\": [noise_bool], \"best\": [sliding_min[-1].item()]})])\n"
     ]
    },
    {
     "data": {
      "text/html": [
       "<div>\n",
       "<style scoped>\n",
       "    .dataframe tbody tr th:only-of-type {\n",
       "        vertical-align: middle;\n",
       "    }\n",
       "\n",
       "    .dataframe tbody tr th {\n",
       "        vertical-align: top;\n",
       "    }\n",
       "\n",
       "    .dataframe thead th {\n",
       "        text-align: right;\n",
       "    }\n",
       "</style>\n",
       "<table border=\"1\" class=\"dataframe\">\n",
       "  <thead>\n",
       "    <tr style=\"text-align: right;\">\n",
       "      <th></th>\n",
       "      <th>n_init</th>\n",
       "      <th>noise_level</th>\n",
       "      <th>seed</th>\n",
       "      <th>noise_bool</th>\n",
       "      <th>best</th>\n",
       "    </tr>\n",
       "  </thead>\n",
       "  <tbody>\n",
       "    <tr>\n",
       "      <th>0</th>\n",
       "      <td>4</td>\n",
       "      <td>10</td>\n",
       "      <td>0</td>\n",
       "      <td>True</td>\n",
       "      <td>207.341003</td>\n",
       "    </tr>\n",
       "    <tr>\n",
       "      <th>0</th>\n",
       "      <td>4</td>\n",
       "      <td>10</td>\n",
       "      <td>1</td>\n",
       "      <td>True</td>\n",
       "      <td>42.158676</td>\n",
       "    </tr>\n",
       "    <tr>\n",
       "      <th>0</th>\n",
       "      <td>4</td>\n",
       "      <td>100</td>\n",
       "      <td>0</td>\n",
       "      <td>True</td>\n",
       "      <td>120.417244</td>\n",
       "    </tr>\n",
       "    <tr>\n",
       "      <th>0</th>\n",
       "      <td>4</td>\n",
       "      <td>100</td>\n",
       "      <td>1</td>\n",
       "      <td>True</td>\n",
       "      <td>42.158676</td>\n",
       "    </tr>\n",
       "    <tr>\n",
       "      <th>0</th>\n",
       "      <td>10</td>\n",
       "      <td>10</td>\n",
       "      <td>0</td>\n",
       "      <td>True</td>\n",
       "      <td>1.374434</td>\n",
       "    </tr>\n",
       "    <tr>\n",
       "      <th>0</th>\n",
       "      <td>10</td>\n",
       "      <td>10</td>\n",
       "      <td>1</td>\n",
       "      <td>True</td>\n",
       "      <td>42.158676</td>\n",
       "    </tr>\n",
       "    <tr>\n",
       "      <th>0</th>\n",
       "      <td>10</td>\n",
       "      <td>100</td>\n",
       "      <td>0</td>\n",
       "      <td>True</td>\n",
       "      <td>102.431664</td>\n",
       "    </tr>\n",
       "    <tr>\n",
       "      <th>0</th>\n",
       "      <td>10</td>\n",
       "      <td>100</td>\n",
       "      <td>1</td>\n",
       "      <td>True</td>\n",
       "      <td>42.158676</td>\n",
       "    </tr>\n",
       "    <tr>\n",
       "      <th>0</th>\n",
       "      <td>4</td>\n",
       "      <td>10</td>\n",
       "      <td>0</td>\n",
       "      <td>False</td>\n",
       "      <td>118.466827</td>\n",
       "    </tr>\n",
       "    <tr>\n",
       "      <th>0</th>\n",
       "      <td>4</td>\n",
       "      <td>10</td>\n",
       "      <td>1</td>\n",
       "      <td>False</td>\n",
       "      <td>0.138172</td>\n",
       "    </tr>\n",
       "    <tr>\n",
       "      <th>0</th>\n",
       "      <td>4</td>\n",
       "      <td>100</td>\n",
       "      <td>0</td>\n",
       "      <td>False</td>\n",
       "      <td>118.751045</td>\n",
       "    </tr>\n",
       "    <tr>\n",
       "      <th>0</th>\n",
       "      <td>4</td>\n",
       "      <td>100</td>\n",
       "      <td>1</td>\n",
       "      <td>False</td>\n",
       "      <td>13.000295</td>\n",
       "    </tr>\n",
       "    <tr>\n",
       "      <th>0</th>\n",
       "      <td>10</td>\n",
       "      <td>10</td>\n",
       "      <td>0</td>\n",
       "      <td>False</td>\n",
       "      <td>0.007694</td>\n",
       "    </tr>\n",
       "    <tr>\n",
       "      <th>0</th>\n",
       "      <td>10</td>\n",
       "      <td>10</td>\n",
       "      <td>1</td>\n",
       "      <td>False</td>\n",
       "      <td>0.265530</td>\n",
       "    </tr>\n",
       "    <tr>\n",
       "      <th>0</th>\n",
       "      <td>10</td>\n",
       "      <td>100</td>\n",
       "      <td>0</td>\n",
       "      <td>False</td>\n",
       "      <td>25.227522</td>\n",
       "    </tr>\n",
       "    <tr>\n",
       "      <th>0</th>\n",
       "      <td>10</td>\n",
       "      <td>100</td>\n",
       "      <td>1</td>\n",
       "      <td>False</td>\n",
       "      <td>0.034306</td>\n",
       "    </tr>\n",
       "  </tbody>\n",
       "</table>\n",
       "</div>"
      ],
      "text/plain": [
       "  n_init noise_level seed noise_bool        best\n",
       "0      4          10    0       True  207.341003\n",
       "0      4          10    1       True   42.158676\n",
       "0      4         100    0       True  120.417244\n",
       "0      4         100    1       True   42.158676\n",
       "0     10          10    0       True    1.374434\n",
       "0     10          10    1       True   42.158676\n",
       "0     10         100    0       True  102.431664\n",
       "0     10         100    1       True   42.158676\n",
       "0      4          10    0      False  118.466827\n",
       "0      4          10    1      False    0.138172\n",
       "0      4         100    0      False  118.751045\n",
       "0      4         100    1      False   13.000295\n",
       "0     10          10    0      False    0.007694\n",
       "0     10          10    1      False    0.265530\n",
       "0     10         100    0      False   25.227522\n",
       "0     10         100    1      False    0.034306"
      ]
     },
     "execution_count": 10,
     "metadata": {},
     "output_type": "execute_result"
    }
   ],
   "source": [
    "df = pd.DataFrame(columns=[\"n_init\", \"noise_level\", \"seed\", \"noise_bool\", \"best\"])\n",
    "for noise_bool in noise_bools:\n",
    "    for n_init in n_inits:\n",
    "        for noise_level in noise_levels:\n",
    "            for seed in seeds:\n",
    "                X, Y, Y_real, model = torch.load(f\"results/Schwe_n_init_{n_init}_noiselvl_{noise_level}_budget_{budget}_seed_{seed}_noise_{noise_bool}.pt\")\n",
    "                sliding_min = torch.zeros(Y.shape[0])\n",
    "                for i in range(Y_real.shape[0]):\n",
    "                    sliding_min[i] = Y_real[:i+1].min().item()\n",
    "                df = pd.concat([df, pd.DataFrame({\"n_init\": [n_init], \"noise_level\": [noise_level], \"seed\": [seed], \"noise_bool\": [noise_bool], \"best\": [sliding_min[-1].item()]})])\n",
    "                \n",
    "df                "
   ]
  },
  {
   "cell_type": "code",
   "execution_count": 11,
   "metadata": {},
   "outputs": [
    {
     "name": "stdout",
     "output_type": "stream",
     "text": [
      "GP with noise\n"
     ]
    },
    {
     "data": {
      "text/html": [
       "<style type=\"text/css\">\n",
       "#T_644a7_row0_col0, #T_644a7_row0_col1, #T_644a7_row0_col2, #T_644a7_row0_col3 {\n",
       "  background-color: #fde725;\n",
       "  color: #000000;\n",
       "}\n",
       "#T_644a7_row1_col0, #T_644a7_row1_col1, #T_644a7_row1_col2, #T_644a7_row1_col3 {\n",
       "  background-color: #440154;\n",
       "  color: #f1f1f1;\n",
       "}\n",
       "</style>\n",
       "<table id=\"T_644a7\">\n",
       "  <thead>\n",
       "    <tr>\n",
       "      <th class=\"blank level0\" >&nbsp;</th>\n",
       "      <th id=\"T_644a7_level0_col0\" class=\"col_heading level0 col0\" colspan=\"4\">best</th>\n",
       "    </tr>\n",
       "    <tr>\n",
       "      <th class=\"blank level1\" >&nbsp;</th>\n",
       "      <th id=\"T_644a7_level1_col0\" class=\"col_heading level1 col0\" colspan=\"2\">mean</th>\n",
       "      <th id=\"T_644a7_level1_col2\" class=\"col_heading level1 col2\" colspan=\"2\">std</th>\n",
       "    </tr>\n",
       "    <tr>\n",
       "      <th class=\"index_name level2\" >noise_level</th>\n",
       "      <th id=\"T_644a7_level2_col0\" class=\"col_heading level2 col0\" >10</th>\n",
       "      <th id=\"T_644a7_level2_col1\" class=\"col_heading level2 col1\" >100</th>\n",
       "      <th id=\"T_644a7_level2_col2\" class=\"col_heading level2 col2\" >10</th>\n",
       "      <th id=\"T_644a7_level2_col3\" class=\"col_heading level2 col3\" >100</th>\n",
       "    </tr>\n",
       "    <tr>\n",
       "      <th class=\"index_name level0\" >n_init</th>\n",
       "      <th class=\"blank col0\" >&nbsp;</th>\n",
       "      <th class=\"blank col1\" >&nbsp;</th>\n",
       "      <th class=\"blank col2\" >&nbsp;</th>\n",
       "      <th class=\"blank col3\" >&nbsp;</th>\n",
       "    </tr>\n",
       "  </thead>\n",
       "  <tbody>\n",
       "    <tr>\n",
       "      <th id=\"T_644a7_level0_row0\" class=\"row_heading level0 row0\" >4</th>\n",
       "      <td id=\"T_644a7_row0_col0\" class=\"data row0 col0\" >124.75</td>\n",
       "      <td id=\"T_644a7_row0_col1\" class=\"data row0 col1\" >81.29</td>\n",
       "      <td id=\"T_644a7_row0_col2\" class=\"data row0 col2\" >116.80</td>\n",
       "      <td id=\"T_644a7_row0_col3\" class=\"data row0 col3\" >55.34</td>\n",
       "    </tr>\n",
       "    <tr>\n",
       "      <th id=\"T_644a7_level0_row1\" class=\"row_heading level0 row1\" >10</th>\n",
       "      <td id=\"T_644a7_row1_col0\" class=\"data row1 col0\" >21.77</td>\n",
       "      <td id=\"T_644a7_row1_col1\" class=\"data row1 col1\" >72.30</td>\n",
       "      <td id=\"T_644a7_row1_col2\" class=\"data row1 col2\" >28.84</td>\n",
       "      <td id=\"T_644a7_row1_col3\" class=\"data row1 col3\" >42.62</td>\n",
       "    </tr>\n",
       "  </tbody>\n",
       "</table>\n"
      ],
      "text/plain": [
       "<pandas.io.formats.style.Styler at 0x187b71d2e80>"
      ]
     },
     "metadata": {},
     "output_type": "display_data"
    },
    {
     "name": "stdout",
     "output_type": "stream",
     "text": [
      "GP without noise\n"
     ]
    },
    {
     "data": {
      "text/html": [
       "<style type=\"text/css\">\n",
       "#T_df68b_row0_col0, #T_df68b_row0_col1, #T_df68b_row0_col2, #T_df68b_row0_col3 {\n",
       "  background-color: #fde725;\n",
       "  color: #000000;\n",
       "}\n",
       "#T_df68b_row1_col0, #T_df68b_row1_col1, #T_df68b_row1_col2, #T_df68b_row1_col3 {\n",
       "  background-color: #440154;\n",
       "  color: #f1f1f1;\n",
       "}\n",
       "</style>\n",
       "<table id=\"T_df68b\">\n",
       "  <thead>\n",
       "    <tr>\n",
       "      <th class=\"blank level0\" >&nbsp;</th>\n",
       "      <th id=\"T_df68b_level0_col0\" class=\"col_heading level0 col0\" colspan=\"4\">best</th>\n",
       "    </tr>\n",
       "    <tr>\n",
       "      <th class=\"blank level1\" >&nbsp;</th>\n",
       "      <th id=\"T_df68b_level1_col0\" class=\"col_heading level1 col0\" colspan=\"2\">mean</th>\n",
       "      <th id=\"T_df68b_level1_col2\" class=\"col_heading level1 col2\" colspan=\"2\">std</th>\n",
       "    </tr>\n",
       "    <tr>\n",
       "      <th class=\"index_name level2\" >noise_level</th>\n",
       "      <th id=\"T_df68b_level2_col0\" class=\"col_heading level2 col0\" >10</th>\n",
       "      <th id=\"T_df68b_level2_col1\" class=\"col_heading level2 col1\" >100</th>\n",
       "      <th id=\"T_df68b_level2_col2\" class=\"col_heading level2 col2\" >10</th>\n",
       "      <th id=\"T_df68b_level2_col3\" class=\"col_heading level2 col3\" >100</th>\n",
       "    </tr>\n",
       "    <tr>\n",
       "      <th class=\"index_name level0\" >n_init</th>\n",
       "      <th class=\"blank col0\" >&nbsp;</th>\n",
       "      <th class=\"blank col1\" >&nbsp;</th>\n",
       "      <th class=\"blank col2\" >&nbsp;</th>\n",
       "      <th class=\"blank col3\" >&nbsp;</th>\n",
       "    </tr>\n",
       "  </thead>\n",
       "  <tbody>\n",
       "    <tr>\n",
       "      <th id=\"T_df68b_level0_row0\" class=\"row_heading level0 row0\" >4</th>\n",
       "      <td id=\"T_df68b_row0_col0\" class=\"data row0 col0\" >59.30</td>\n",
       "      <td id=\"T_df68b_row0_col1\" class=\"data row0 col1\" >65.88</td>\n",
       "      <td id=\"T_df68b_row0_col2\" class=\"data row0 col2\" >83.67</td>\n",
       "      <td id=\"T_df68b_row0_col3\" class=\"data row0 col3\" >74.78</td>\n",
       "    </tr>\n",
       "    <tr>\n",
       "      <th id=\"T_df68b_level0_row1\" class=\"row_heading level0 row1\" >10</th>\n",
       "      <td id=\"T_df68b_row1_col0\" class=\"data row1 col0\" >0.14</td>\n",
       "      <td id=\"T_df68b_row1_col1\" class=\"data row1 col1\" >12.63</td>\n",
       "      <td id=\"T_df68b_row1_col2\" class=\"data row1 col2\" >0.18</td>\n",
       "      <td id=\"T_df68b_row1_col3\" class=\"data row1 col3\" >17.81</td>\n",
       "    </tr>\n",
       "  </tbody>\n",
       "</table>\n"
      ],
      "text/plain": [
       "<pandas.io.formats.style.Styler at 0x187b71d2e80>"
      ]
     },
     "metadata": {},
     "output_type": "display_data"
    }
   ],
   "source": [
    "df_no_noise = df[df[\"noise_bool\"] == False]\n",
    "df_noise = df[df[\"noise_bool\"] == True]\n",
    "# df = df.groupby([\"n_init\", \"noise_level\", \"noise_bool\"]).agg({\"min\": [\"mean\", \"std\"]})\n",
    "df_no_noise = df_no_noise.groupby([\"n_init\", \"noise_level\"]).agg({\"best\": [\"mean\", \"std\"]})\n",
    "df_noise = df_noise.groupby([\"n_init\", \"noise_level\"]).agg({\"best\": [\"mean\", \"std\"]})\n",
    "print(\"GP with noise\")\n",
    "display(df_noise.unstack().style.format(\"{:.2f}\").background_gradient(cmap='viridis'))\n",
    "print(\"GP without noise\")\n",
    "display(df_no_noise.unstack().style.format(\"{:.2f}\").background_gradient(cmap='viridis'))"
   ]
  }
 ],
 "metadata": {
  "kernelspec": {
   "display_name": "Python 3",
   "language": "python",
   "name": "python3"
  },
  "language_info": {
   "codemirror_mode": {
    "name": "ipython",
    "version": 3
   },
   "file_extension": ".py",
   "mimetype": "text/x-python",
   "name": "python",
   "nbconvert_exporter": "python",
   "pygments_lexer": "ipython3",
   "version": "3.9.18"
  }
 },
 "nbformat": 4,
 "nbformat_minor": 2
}
