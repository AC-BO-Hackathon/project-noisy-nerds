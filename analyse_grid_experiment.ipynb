{
 "cells": [
  {
   "cell_type": "code",
   "execution_count": 40,
   "metadata": {},
   "outputs": [
    {
     "name": "stdout",
     "output_type": "stream",
     "text": [
      "SMOKE_TEST None\n"
     ]
    },
    {
     "name": "stderr",
     "output_type": "stream",
     "text": [
      "2024-03-28 05:16:37,097\tINFO worker.py:1724 -- Started a local Ray instance.\n"
     ]
    },
    {
     "name": "stdout",
     "output_type": "stream",
     "text": [
      "Started problem 2 noise 0.01 budget 10 seed 0, time: 1.15s\n",
      "Started problem 2 noise 0.01 budget 10 seed 0, time: 2.33s\n",
      "Started problem 2 noise 0.1 budget 10 seed 0, time: 3.49s\n",
      "Started problem 2 noise 0.1 budget 10 seed 0, time: 4.71s\n",
      "Started problem 2 noise 1.0 budget 10 seed 0, time: 5.95s\n",
      "\u001b[36m(pid=13260)\u001b[0m SMOKE_TEST None\n",
      "\u001b[36m(worker pid=13260)\u001b[0m Starting iteration 0, total time: 0.000 seconds.\n",
      "Started problem 2 noise 1.0 budget 10 seed 0, time: 7.22s\n",
      "Started problem 4 noise 0.01 budget 10 seed 0, time: 8.49s\n"
     ]
    },
    {
     "name": "stderr",
     "output_type": "stream",
     "text": [
      "\u001b[36m(worker pid=11308)\u001b[0m c:\\Users\\queim\\micromambaenv\\envs\\mobo\\lib\\site-packages\\gpytorch\\likelihoods\\noise_models.py:148: NumericalWarning: Very small noise values detected. This will likely lead to numerical instabilities. Rounding small noise values up to 1e-06.\n",
      "\u001b[36m(worker pid=11308)\u001b[0m   warnings.warn(\n"
     ]
    },
    {
     "name": "stdout",
     "output_type": "stream",
     "text": [
      "\u001b[36m(worker pid=13260)\u001b[0m New candidate: tensor([[-500.]], dtype=torch.float64), tensor([238.4035], dtype=torch.float64)\n",
      "Started problem 4 noise 0.01 budget 10 seed 0, time: 9.76s\n",
      "Started problem 4 noise 0.1 budget 10 seed 0, time: 11.04s\n"
     ]
    },
    {
     "name": "stderr",
     "output_type": "stream",
     "text": [
      "\u001b[36m(worker pid=11308)\u001b[0m c:\\Users\\queim\\micromambaenv\\envs\\mobo\\lib\\site-packages\\gpytorch\\likelihoods\\noise_models.py:148: NumericalWarning: Very small noise values detected. This will likely lead to numerical instabilities. Rounding small noise values up to 1e-06.\n",
      "\u001b[36m(worker pid=11308)\u001b[0m   warnings.warn(\n"
     ]
    },
    {
     "name": "stdout",
     "output_type": "stream",
     "text": [
      "Started problem 4 noise 0.1 budget 10 seed 0, time: 12.30s\n",
      "\u001b[36m(pid=11152)\u001b[0m SMOKE_TEST None\u001b[32m [repeated 2x across cluster] (Ray deduplicates logs by default. Set RAY_DEDUP_LOGS=0 to disable log deduplication, or see https://docs.ray.io/en/master/ray-observability/ray-logging.html#log-deduplication for more options.)\u001b[0m\n",
      "\u001b[36m(worker pid=13260)\u001b[0m Starting iteration 2, total time: 5.538 seconds.\u001b[32m [repeated 5x across cluster]\u001b[0m\n",
      "Started problem 4 noise 1.0 budget 10 seed 0, time: 13.61s\n"
     ]
    },
    {
     "name": "stderr",
     "output_type": "stream",
     "text": [
      "\u001b[36m(worker pid=11308)\u001b[0m c:\\Users\\queim\\micromambaenv\\envs\\mobo\\lib\\site-packages\\gpytorch\\likelihoods\\noise_models.py:148: NumericalWarning: Very small noise values detected. This will likely lead to numerical instabilities. Rounding small noise values up to 1e-06.\u001b[32m [repeated 2x across cluster]\u001b[0m\n",
      "\u001b[36m(worker pid=11308)\u001b[0m   warnings.warn(\u001b[32m [repeated 2x across cluster]\u001b[0m\n"
     ]
    },
    {
     "name": "stdout",
     "output_type": "stream",
     "text": [
      "\u001b[36m(worker pid=11308)\u001b[0m New candidate: tensor([[500.]], dtype=torch.float64), tensor([599.5945], dtype=torch.float64)\u001b[32m [repeated 4x across cluster]\u001b[0m\n",
      "Started problem 4 noise 1.0 budget 10 seed 0, time: 14.93s\n",
      "Started problem 6 noise 0.01 budget 10 seed 0, time: 16.24s\n",
      "\u001b[36m(pid=26380)\u001b[0m SMOKE_TEST None\u001b[32m [repeated 2x across cluster]\u001b[0m\n",
      "\u001b[36m(worker pid=11308)\u001b[0m Starting iteration 3, total time: 9.158 seconds.\u001b[32m [repeated 8x across cluster]\u001b[0m\n"
     ]
    },
    {
     "name": "stderr",
     "output_type": "stream",
     "text": [
      "\u001b[36m(worker pid=10364)\u001b[0m c:\\Users\\queim\\micromambaenv\\envs\\mobo\\lib\\site-packages\\gpytorch\\likelihoods\\noise_models.py:148: NumericalWarning: Very small noise values detected. This will likely lead to numerical instabilities. Rounding small noise values up to 1e-06.\u001b[32m [repeated 4x across cluster]\u001b[0m\n",
      "\u001b[36m(worker pid=10364)\u001b[0m   warnings.warn(\u001b[32m [repeated 4x across cluster]\u001b[0m\n"
     ]
    },
    {
     "name": "stdout",
     "output_type": "stream",
     "text": [
      "\u001b[36m(worker pid=10364)\u001b[0m New candidate: tensor([[500.]], dtype=torch.float64), tensor([599.7961], dtype=torch.float64)\u001b[32m [repeated 7x across cluster]\u001b[0m\n",
      "\u001b[36m(pid=5304)\u001b[0m SMOKE_TEST None\u001b[32m [repeated 3x across cluster]\u001b[0m\n",
      "\u001b[36m(worker pid=11152)\u001b[0m Starting iteration 4, total time: 12.772 seconds.\u001b[32m [repeated 12x across cluster]\u001b[0m\n"
     ]
    },
    {
     "name": "stderr",
     "output_type": "stream",
     "text": [
      "\u001b[36m(worker pid=5304)\u001b[0m c:\\Users\\queim\\micromambaenv\\envs\\mobo\\lib\\site-packages\\gpytorch\\likelihoods\\noise_models.py:148: NumericalWarning: Very small noise values detected. This will likely lead to numerical instabilities. Rounding small noise values up to 1e-06.\u001b[32m [repeated 7x across cluster]\u001b[0m\n",
      "\u001b[36m(worker pid=5304)\u001b[0m   warnings.warn(\u001b[32m [repeated 7x across cluster]\u001b[0m\n"
     ]
    },
    {
     "name": "stdout",
     "output_type": "stream",
     "text": [
      "\u001b[36m(worker pid=5304)\u001b[0m New candidate: tensor([[-500.]], dtype=torch.float64), tensor([238.4124], dtype=torch.float64)\u001b[32m [repeated 11x across cluster]\u001b[0m\n",
      "\u001b[36m(worker pid=26380)\u001b[0m Starting iteration 4, total time: 12.941 seconds.\u001b[32m [repeated 14x across cluster]\u001b[0m\n"
     ]
    },
    {
     "name": "stderr",
     "output_type": "stream",
     "text": [
      "\u001b[36m(worker pid=11308)\u001b[0m c:\\Users\\queim\\micromambaenv\\envs\\mobo\\lib\\site-packages\\gpytorch\\likelihoods\\noise_models.py:148: NumericalWarning: Very small noise values detected. This will likely lead to numerical instabilities. Rounding small noise values up to 1e-06.\u001b[32m [repeated 6x across cluster]\u001b[0m\n",
      "\u001b[36m(worker pid=11308)\u001b[0m   warnings.warn(\u001b[32m [repeated 6x across cluster]\u001b[0m\n"
     ]
    },
    {
     "name": "stdout",
     "output_type": "stream",
     "text": [
      "\u001b[36m(worker pid=11308)\u001b[0m New candidate: tensor([[139.5930]], dtype=torch.float64), tensor([514.2790], dtype=torch.float64)\u001b[32m [repeated 13x across cluster]\u001b[0m\n",
      "\u001b[36m(worker pid=13260)\u001b[0m Starting iteration 8, total time: 26.648 seconds.\u001b[32m [repeated 11x across cluster]\u001b[0m\n",
      "\u001b[36m(worker pid=23920)\u001b[0m New candidate: tensor([[-210.6462]], dtype=torch.float64), tensor([614.8742], dtype=torch.float64)\u001b[32m [repeated 11x across cluster]\u001b[0m\n"
     ]
    },
    {
     "name": "stderr",
     "output_type": "stream",
     "text": [
      "\u001b[36m(worker pid=11308)\u001b[0m c:\\Users\\queim\\micromambaenv\\envs\\mobo\\lib\\site-packages\\gpytorch\\likelihoods\\noise_models.py:148: NumericalWarning: Very small noise values detected. This will likely lead to numerical instabilities. Rounding small noise values up to 1e-06.\u001b[32m [repeated 6x across cluster]\u001b[0m\n",
      "\u001b[36m(worker pid=11308)\u001b[0m   warnings.warn(\u001b[32m [repeated 6x across cluster]\u001b[0m\n"
     ]
    },
    {
     "name": "stdout",
     "output_type": "stream",
     "text": [
      "\u001b[36m(worker pid=5304)\u001b[0m Starting iteration 5, total time: 16.357 seconds.\u001b[32m [repeated 14x across cluster]\u001b[0m\n",
      "Started problem 6 noise 0.01 budget 10 seed 0, time: 40.08s\n",
      "\u001b[36m(worker pid=13260)\u001b[0m New candidate: tensor([[14.5189]], dtype=torch.float64), tensor([427.9994], dtype=torch.float64)\u001b[32m [repeated 14x across cluster]\u001b[0m\n"
     ]
    },
    {
     "name": "stderr",
     "output_type": "stream",
     "text": [
      "\u001b[36m(worker pid=5304)\u001b[0m c:\\Users\\queim\\micromambaenv\\envs\\mobo\\lib\\site-packages\\gpytorch\\likelihoods\\noise_models.py:148: NumericalWarning: Very small noise values detected. This will likely lead to numerical instabilities. Rounding small noise values up to 1e-06.\u001b[32m [repeated 9x across cluster]\u001b[0m\n",
      "\u001b[36m(worker pid=5304)\u001b[0m   warnings.warn(\u001b[32m [repeated 9x across cluster]\u001b[0m\n"
     ]
    },
    {
     "name": "stdout",
     "output_type": "stream",
     "text": [
      "Started problem 6 noise 0.1 budget 10 seed 0, time: 41.45s\n",
      "Started problem 6 noise 0.1 budget 10 seed 0, time: 42.82s\n",
      "\u001b[36m(worker pid=23920)\u001b[0m Starting iteration 7, total time: 22.562 seconds.\u001b[32m [repeated 13x across cluster]\u001b[0m\n"
     ]
    },
    {
     "name": "stderr",
     "output_type": "stream",
     "text": [
      "\u001b[36m(worker pid=11308)\u001b[0m c:\\Users\\queim\\micromambaenv\\envs\\mobo\\lib\\site-packages\\botorch\\optim\\optimize.py:367: RuntimeWarning: Optimization failed in `gen_candidates_scipy` with the following warning(s):\n",
      "\u001b[36m(worker pid=11308)\u001b[0m [NumericalWarning('A not p.d., added jitter of 1.0e-08 to the diagonal'), NumericalWarning('A not p.d., added jitter of 1.0e-08 to the diagonal'), OptimizationWarning('Optimization failed within `scipy.optimize.minimize` with status 2 and message ABNORMAL_TERMINATION_IN_LNSRCH.'), NumericalWarning('A not p.d., added jitter of 1.0e-08 to the diagonal'), NumericalWarning('A not p.d., added jitter of 1.0e-08 to the diagonal')]\n",
      "\u001b[36m(worker pid=11308)\u001b[0m Trying again with a new set of initial conditions.\n",
      "\u001b[36m(worker pid=11308)\u001b[0m   warnings.warn(first_warn_msg, RuntimeWarning)\n"
     ]
    },
    {
     "name": "stdout",
     "output_type": "stream",
     "text": [
      "\u001b[36m(worker pid=13260)\u001b[0m New candidate: tensor([[-366.4503]], dtype=torch.float64), tensor([524.8431], dtype=torch.float64)\u001b[32m [repeated 14x across cluster]\u001b[0m\n"
     ]
    },
    {
     "name": "stderr",
     "output_type": "stream",
     "text": [
      "\u001b[36m(worker pid=10364)\u001b[0m c:\\Users\\queim\\micromambaenv\\envs\\mobo\\lib\\site-packages\\gpytorch\\likelihoods\\noise_models.py:148: NumericalWarning: Very small noise values detected. This will likely lead to numerical instabilities. Rounding small noise values up to 1e-06.\u001b[32m [repeated 8x across cluster]\u001b[0m\n",
      "\u001b[36m(worker pid=10364)\u001b[0m   warnings.warn(\u001b[32m [repeated 8x across cluster]\u001b[0m\n"
     ]
    },
    {
     "name": "stdout",
     "output_type": "stream",
     "text": [
      "Started problem 6 noise 1.0 budget 10 seed 0, time: 47.45s\n",
      "Started problem 6 noise 1.0 budget 10 seed 0, time: 48.73s\n",
      "\u001b[36m(worker pid=29676)\u001b[0m Starting iteration 0, total time: 0.000 seconds.\u001b[32m [repeated 13x across cluster]\u001b[0m\n",
      "Started problem 8 noise 0.01 budget 10 seed 0, time: 50.09s\n"
     ]
    },
    {
     "name": "stderr",
     "output_type": "stream",
     "text": [
      "\u001b[36m(worker pid=29676)\u001b[0m c:\\Users\\queim\\micromambaenv\\envs\\mobo\\lib\\site-packages\\gpytorch\\likelihoods\\noise_models.py:148: NumericalWarning: Very small noise values detected. This will likely lead to numerical instabilities. Rounding small noise values up to 1e-06.\u001b[32m [repeated 6x across cluster]\u001b[0m\n",
      "\u001b[36m(worker pid=29676)\u001b[0m   warnings.warn(\u001b[32m [repeated 6x across cluster]\u001b[0m\n"
     ]
    },
    {
     "name": "stdout",
     "output_type": "stream",
     "text": [
      "\u001b[36m(worker pid=29676)\u001b[0m New candidate: tensor([[500.]], dtype=torch.float64), tensor([599.5816], dtype=torch.float64)\u001b[32m [repeated 14x across cluster]\u001b[0m\n"
     ]
    },
    {
     "name": "stderr",
     "output_type": "stream",
     "text": [
      "\u001b[36m(worker pid=10364)\u001b[0m c:\\Users\\queim\\micromambaenv\\envs\\mobo\\lib\\site-packages\\botorch\\optim\\optimize.py:367: RuntimeWarning: Optimization failed in `gen_candidates_scipy` with the following warning(s):\n",
      "\u001b[36m(worker pid=10364)\u001b[0m [OptimizationWarning('Optimization failed within `scipy.optimize.minimize` with status 2 and message ABNORMAL_TERMINATION_IN_LNSRCH.')]\n",
      "\u001b[36m(worker pid=10364)\u001b[0m Trying again with a new set of initial conditions.\n",
      "\u001b[36m(worker pid=10364)\u001b[0m   warnings.warn(first_warn_msg, RuntimeWarning)\n"
     ]
    },
    {
     "name": "stdout",
     "output_type": "stream",
     "text": [
      "Started problem 8 noise 0.01 budget 10 seed 0, time: 53.88s\n",
      "\u001b[36m(worker pid=11308)\u001b[0m Starting iteration 4, total time: 14.870 seconds.\u001b[32m [repeated 12x across cluster]\u001b[0m\n",
      "Started problem 8 noise 0.1 budget 10 seed 0, time: 55.83s\n",
      "\u001b[36m(worker pid=11152)\u001b[0m New candidate: tensor([[-33.9809]], dtype=torch.float64), tensor([403.9808], dtype=torch.float64)\u001b[32m [repeated 13x across cluster]\u001b[0m\n"
     ]
    },
    {
     "name": "stderr",
     "output_type": "stream",
     "text": [
      "\u001b[36m(worker pid=5304)\u001b[0m c:\\Users\\queim\\micromambaenv\\envs\\mobo\\lib\\site-packages\\gpytorch\\likelihoods\\noise_models.py:148: NumericalWarning: Very small noise values detected. This will likely lead to numerical instabilities. Rounding small noise values up to 1e-06.\u001b[32m [repeated 8x across cluster]\u001b[0m\n",
      "\u001b[36m(worker pid=5304)\u001b[0m   warnings.warn(\u001b[32m [repeated 8x across cluster]\u001b[0m\n"
     ]
    },
    {
     "name": "stdout",
     "output_type": "stream",
     "text": [
      "\u001b[36m(worker pid=11152)\u001b[0m Starting iteration 6, total time: 18.962 seconds.\u001b[32m [repeated 15x across cluster]\u001b[0m\n",
      "\u001b[36m(worker pid=11308)\u001b[0m New candidate: tensor([[151.9244]], dtype=torch.float64), tensor([455.2001], dtype=torch.float64)\u001b[32m [repeated 16x across cluster]\u001b[0m\n"
     ]
    },
    {
     "name": "stderr",
     "output_type": "stream",
     "text": [
      "\u001b[36m(worker pid=5304)\u001b[0m c:\\Users\\queim\\micromambaenv\\envs\\mobo\\lib\\site-packages\\gpytorch\\likelihoods\\noise_models.py:148: NumericalWarning: Very small noise values detected. This will likely lead to numerical instabilities. Rounding small noise values up to 1e-06.\u001b[32m [repeated 8x across cluster]\u001b[0m\n",
      "\u001b[36m(worker pid=5304)\u001b[0m   warnings.warn(\u001b[32m [repeated 8x across cluster]\u001b[0m\n"
     ]
    },
    {
     "name": "stdout",
     "output_type": "stream",
     "text": [
      "\u001b[36m(worker pid=23920)\u001b[0m Starting iteration 5, total time: 13.611 seconds.\u001b[32m [repeated 16x across cluster]\u001b[0m\n",
      "\u001b[36m(worker pid=23920)\u001b[0m New candidate: tensor([[-194.1547]], dtype=torch.float64), tensor([609.2873], dtype=torch.float64)\u001b[32m [repeated 16x across cluster]\u001b[0m\n"
     ]
    },
    {
     "name": "stderr",
     "output_type": "stream",
     "text": [
      "\u001b[36m(worker pid=29676)\u001b[0m c:\\Users\\queim\\micromambaenv\\envs\\mobo\\lib\\site-packages\\gpytorch\\likelihoods\\noise_models.py:148: NumericalWarning: Very small noise values detected. This will likely lead to numerical instabilities. Rounding small noise values up to 1e-06.\u001b[32m [repeated 8x across cluster]\u001b[0m\n",
      "\u001b[36m(worker pid=29676)\u001b[0m   warnings.warn(\u001b[32m [repeated 8x across cluster]\u001b[0m\n"
     ]
    },
    {
     "name": "stdout",
     "output_type": "stream",
     "text": [
      "Started problem 8 noise 0.1 budget 10 seed 0, time: 71.24s\n",
      "\u001b[36m(worker pid=23920)\u001b[0m Starting iteration 7, total time: 19.449 seconds.\u001b[32m [repeated 16x across cluster]\u001b[0m\n",
      "Started problem 8 noise 1.0 budget 10 seed 0, time: 74.59s\n",
      "\u001b[36m(worker pid=10364)\u001b[0m New candidate: tensor([[165.3069]], dtype=torch.float64), tensor([373.0400], dtype=torch.float64)\u001b[32m [repeated 15x across cluster]\u001b[0m\n"
     ]
    },
    {
     "name": "stderr",
     "output_type": "stream",
     "text": [
      "\u001b[36m(worker pid=10364)\u001b[0m c:\\Users\\queim\\micromambaenv\\envs\\mobo\\lib\\site-packages\\gpytorch\\likelihoods\\noise_models.py:148: NumericalWarning: Very small noise values detected. This will likely lead to numerical instabilities. Rounding small noise values up to 1e-06.\u001b[32m [repeated 7x across cluster]\u001b[0m\n",
      "\u001b[36m(worker pid=10364)\u001b[0m   warnings.warn(\u001b[32m [repeated 7x across cluster]\u001b[0m\n"
     ]
    },
    {
     "name": "stdout",
     "output_type": "stream",
     "text": [
      "Started problem 8 noise 1.0 budget 10 seed 0, time: 76.03s\n",
      "Started problem 10 noise 0.01 budget 10 seed 0, time: 77.84s\n",
      "\u001b[36m(worker pid=26380)\u001b[0m Starting iteration 0, total time: 0.000 seconds.\u001b[32m [repeated 14x across cluster]\u001b[0m\n",
      "Started problem 10 noise 0.01 budget 10 seed 0, time: 79.89s\n"
     ]
    },
    {
     "name": "stderr",
     "output_type": "stream",
     "text": [
      "\u001b[36m(worker pid=26380)\u001b[0m c:\\Users\\queim\\micromambaenv\\envs\\mobo\\lib\\site-packages\\gpytorch\\likelihoods\\noise_models.py:148: NumericalWarning: Very small noise values detected. This will likely lead to numerical instabilities. Rounding small noise values up to 1e-06.\u001b[32m [repeated 7x across cluster]\u001b[0m\n",
      "\u001b[36m(worker pid=26380)\u001b[0m   warnings.warn(\u001b[32m [repeated 7x across cluster]\u001b[0m\n"
     ]
    },
    {
     "name": "stdout",
     "output_type": "stream",
     "text": [
      "\u001b[36m(worker pid=26380)\u001b[0m New candidate: tensor([[500.]], dtype=torch.float64), tensor([599.5710], dtype=torch.float64)\u001b[32m [repeated 13x across cluster]\u001b[0m\n",
      "Started problem 10 noise 0.1 budget 10 seed 0, time: 83.05s\n",
      "\u001b[36m(worker pid=26380)\u001b[0m Starting iteration 2, total time: 6.233 seconds.\u001b[32m [repeated 14x across cluster]\u001b[0m\n",
      "Started problem 10 noise 0.1 budget 10 seed 0, time: 84.39s\n",
      "\u001b[36m(worker pid=10364)\u001b[0m New candidate: tensor([[500.]], dtype=torch.float64), tensor([599.4688], dtype=torch.float64)\u001b[32m [repeated 14x across cluster]\u001b[0m\n"
     ]
    },
    {
     "name": "stderr",
     "output_type": "stream",
     "text": [
      "\u001b[36m(worker pid=26380)\u001b[0m c:\\Users\\queim\\micromambaenv\\envs\\mobo\\lib\\site-packages\\gpytorch\\likelihoods\\noise_models.py:148: NumericalWarning: Very small noise values detected. This will likely lead to numerical instabilities. Rounding small noise values up to 1e-06.\u001b[32m [repeated 9x across cluster]\u001b[0m\n",
      "\u001b[36m(worker pid=26380)\u001b[0m   warnings.warn(\u001b[32m [repeated 9x across cluster]\u001b[0m\n",
      "\u001b[36m(worker pid=5304)\u001b[0m c:\\Users\\queim\\micromambaenv\\envs\\mobo\\lib\\site-packages\\botorch\\optim\\optimize.py:367: RuntimeWarning: Optimization failed in `gen_candidates_scipy` with the following warning(s):\n",
      "\u001b[36m(worker pid=5304)\u001b[0m [OptimizationWarning('Optimization failed within `scipy.optimize.minimize` with status 2 and message ABNORMAL_TERMINATION_IN_LNSRCH.')]\n",
      "\u001b[36m(worker pid=5304)\u001b[0m Trying again with a new set of initial conditions.\n",
      "\u001b[36m(worker pid=5304)\u001b[0m   warnings.warn(first_warn_msg, RuntimeWarning)\n"
     ]
    },
    {
     "name": "stdout",
     "output_type": "stream",
     "text": [
      "\u001b[36m(worker pid=10364)\u001b[0m Starting iteration 2, total time: 6.261 seconds.\u001b[32m [repeated 13x across cluster]\u001b[0m\n",
      "\u001b[36m(worker pid=26380)\u001b[0m New candidate: tensor([[-349.1740]], dtype=torch.float64), tensor([362.2102], dtype=torch.float64)\u001b[32m [repeated 12x across cluster]\u001b[0m\n",
      "Started problem 10 noise 1.0 budget 10 seed 0, time: 91.98s\n"
     ]
    },
    {
     "name": "stderr",
     "output_type": "stream",
     "text": [
      "\u001b[36m(worker pid=23920)\u001b[0m c:\\Users\\queim\\micromambaenv\\envs\\mobo\\lib\\site-packages\\gpytorch\\likelihoods\\noise_models.py:148: NumericalWarning: Very small noise values detected. This will likely lead to numerical instabilities. Rounding small noise values up to 1e-06.\u001b[32m [repeated 7x across cluster]\u001b[0m\n",
      "\u001b[36m(worker pid=23920)\u001b[0m   warnings.warn(\u001b[32m [repeated 7x across cluster]\u001b[0m\n",
      "\u001b[36m(worker pid=23920)\u001b[0m c:\\Users\\queim\\micromambaenv\\envs\\mobo\\lib\\site-packages\\botorch\\optim\\optimize.py:367: RuntimeWarning: Optimization failed in `gen_candidates_scipy` with the following warning(s):\n",
      "\u001b[36m(worker pid=23920)\u001b[0m [OptimizationWarning('Optimization failed within `scipy.optimize.minimize` with status 2 and message ABNORMAL_TERMINATION_IN_LNSRCH.')]\n",
      "\u001b[36m(worker pid=23920)\u001b[0m Trying again with a new set of initial conditions.\n",
      "\u001b[36m(worker pid=23920)\u001b[0m   warnings.warn(first_warn_msg, RuntimeWarning)\n"
     ]
    },
    {
     "name": "stdout",
     "output_type": "stream",
     "text": [
      "\u001b[36m(worker pid=5304)\u001b[0m Starting iteration 1, total time: 3.567 seconds.\u001b[32m [repeated 12x across cluster]\u001b[0m\n",
      "\u001b[36m(worker pid=11308)\u001b[0m New candidate: tensor([[19.4747]], dtype=torch.float64), tensor([437.5959], dtype=torch.float64)\u001b[32m [repeated 11x across cluster]\u001b[0m\n"
     ]
    },
    {
     "name": "stderr",
     "output_type": "stream",
     "text": [
      "\u001b[36m(worker pid=10364)\u001b[0m c:\\Users\\queim\\micromambaenv\\envs\\mobo\\lib\\site-packages\\botorch\\optim\\optimize.py:367: RuntimeWarning: Optimization failed in `gen_candidates_scipy` with the following warning(s):\n",
      "\u001b[36m(worker pid=10364)\u001b[0m [OptimizationWarning('Optimization failed within `scipy.optimize.minimize` with status 2 and message ABNORMAL_TERMINATION_IN_LNSRCH.')]\n",
      "\u001b[36m(worker pid=10364)\u001b[0m Trying again with a new set of initial conditions.\n",
      "\u001b[36m(worker pid=10364)\u001b[0m   warnings.warn(first_warn_msg, RuntimeWarning)\n",
      "\u001b[36m(worker pid=26380)\u001b[0m c:\\Users\\queim\\micromambaenv\\envs\\mobo\\lib\\site-packages\\gpytorch\\likelihoods\\noise_models.py:148: NumericalWarning: Very small noise values detected. This will likely lead to numerical instabilities. Rounding small noise values up to 1e-06.\u001b[32m [repeated 6x across cluster]\u001b[0m\n",
      "\u001b[36m(worker pid=26380)\u001b[0m   warnings.warn(\u001b[32m [repeated 6x across cluster]\u001b[0m\n"
     ]
    },
    {
     "name": "stdout",
     "output_type": "stream",
     "text": [
      "\u001b[36m(worker pid=11308)\u001b[0m Starting iteration 8, total time: 25.884 seconds.\u001b[32m [repeated 10x across cluster]\u001b[0m\n",
      "\u001b[36m(worker pid=29676)\u001b[0m New candidate: tensor([[-330.7235]], dtype=torch.float64), tensor([215.2656], dtype=torch.float64)\u001b[32m [repeated 11x across cluster]\u001b[0m\n"
     ]
    },
    {
     "name": "stderr",
     "output_type": "stream",
     "text": [
      "\u001b[36m(worker pid=5304)\u001b[0m c:\\Users\\queim\\micromambaenv\\envs\\mobo\\lib\\site-packages\\botorch\\optim\\optimize.py:367: RuntimeWarning: Optimization failed in `gen_candidates_scipy` with the following warning(s):\n",
      "\u001b[36m(worker pid=5304)\u001b[0m [OptimizationWarning('Optimization failed within `scipy.optimize.minimize` with status 2 and message ABNORMAL_TERMINATION_IN_LNSRCH.')]\n",
      "\u001b[36m(worker pid=5304)\u001b[0m Trying again with a new set of initial conditions.\n",
      "\u001b[36m(worker pid=5304)\u001b[0m   warnings.warn(first_warn_msg, RuntimeWarning)\n",
      "\u001b[36m(worker pid=23920)\u001b[0m c:\\Users\\queim\\micromambaenv\\envs\\mobo\\lib\\site-packages\\gpytorch\\likelihoods\\noise_models.py:148: NumericalWarning: Very small noise values detected. This will likely lead to numerical instabilities. Rounding small noise values up to 1e-06.\u001b[32m [repeated 5x across cluster]\u001b[0m\n",
      "\u001b[36m(worker pid=23920)\u001b[0m   warnings.warn(\u001b[32m [repeated 5x across cluster]\u001b[0m\n"
     ]
    },
    {
     "name": "stdout",
     "output_type": "stream",
     "text": [
      "Started problem 10 noise 1.0 budget 10 seed 0, time: 104.44s\n",
      "\u001b[36m(worker pid=11152)\u001b[0m Starting iteration 9, total time: 31.145 seconds.\u001b[32m [repeated 12x across cluster]\u001b[0m\n",
      "Started problem 2 noise 0.01 budget 10 seed 1, time: 107.08s\n",
      "\u001b[36m(worker pid=5304)\u001b[0m New candidate: tensor([[-350.3297]], dtype=torch.float64), tensor([374.1686], dtype=torch.float64)\u001b[32m [repeated 13x across cluster]\u001b[0m\n",
      "Started problem 2 noise 0.01 budget 10 seed 1, time: 109.48s\n"
     ]
    },
    {
     "name": "stderr",
     "output_type": "stream",
     "text": [
      "\u001b[36m(worker pid=11308)\u001b[0m c:\\Users\\queim\\micromambaenv\\envs\\mobo\\lib\\site-packages\\gpytorch\\likelihoods\\noise_models.py:148: NumericalWarning: Very small noise values detected. This will likely lead to numerical instabilities. Rounding small noise values up to 1e-06.\u001b[32m [repeated 9x across cluster]\u001b[0m\n",
      "\u001b[36m(worker pid=11308)\u001b[0m   warnings.warn(\u001b[32m [repeated 9x across cluster]\u001b[0m\n"
     ]
    },
    {
     "name": "stdout",
     "output_type": "stream",
     "text": [
      "\u001b[36m(worker pid=13260)\u001b[0m Starting iteration 2, total time: 6.148 seconds.\u001b[32m [repeated 11x across cluster]\u001b[0m\n",
      "Started problem 2 noise 0.1 budget 10 seed 1, time: 110.79s\n",
      "\u001b[36m(worker pid=11308)\u001b[0m New candidate: tensor([[431.1796]], dtype=torch.float64), tensor([13.1537], dtype=torch.float64)\u001b[32m [repeated 12x across cluster]\u001b[0m\n"
     ]
    },
    {
     "name": "stderr",
     "output_type": "stream",
     "text": [
      "\u001b[36m(worker pid=11152)\u001b[0m c:\\Users\\queim\\micromambaenv\\envs\\mobo\\lib\\site-packages\\botorch\\optim\\optimize.py:367: RuntimeWarning: Optimization failed in `gen_candidates_scipy` with the following warning(s):\n",
      "\u001b[36m(worker pid=11152)\u001b[0m [NumericalWarning('A not p.d., added jitter of 1.0e-08 to the diagonal'), NumericalWarning('A not p.d., added jitter of 1.0e-08 to the diagonal'), NumericalWarning('A not p.d., added jitter of 1.0e-08 to the diagonal'), NumericalWarning('A not p.d., added jitter of 1.0e-08 to the diagonal'), OptimizationWarning('Optimization failed within `scipy.optimize.minimize` with status 2 and message ABNORMAL_TERMINATION_IN_LNSRCH.'), NumericalWarning('A not p.d., added jitter of 1.0e-08 to the diagonal')]\n",
      "\u001b[36m(worker pid=11152)\u001b[0m Trying again with a new set of initial conditions.\n",
      "\u001b[36m(worker pid=11152)\u001b[0m   warnings.warn(first_warn_msg, RuntimeWarning)\n",
      "\u001b[36m(worker pid=5304)\u001b[0m c:\\Users\\queim\\micromambaenv\\envs\\mobo\\lib\\site-packages\\gpytorch\\likelihoods\\noise_models.py:148: NumericalWarning: Very small noise values detected. This will likely lead to numerical instabilities. Rounding small noise values up to 1e-06.\u001b[32m [repeated 6x across cluster]\u001b[0m\n",
      "\u001b[36m(worker pid=5304)\u001b[0m   warnings.warn(\u001b[32m [repeated 6x across cluster]\u001b[0m\n"
     ]
    },
    {
     "name": "stdout",
     "output_type": "stream",
     "text": [
      "\u001b[36m(worker pid=10364)\u001b[0m Starting iteration 8, total time: 31.750 seconds.\u001b[32m [repeated 10x across cluster]\u001b[0m\n",
      "Started problem 2 noise 0.1 budget 10 seed 1, time: 117.00s\n"
     ]
    },
    {
     "name": "stderr",
     "output_type": "stream",
     "text": [
      "\u001b[36m(worker pid=5304)\u001b[0m [OptimizationWarning('Optimization failed within `scipy.optimize.minimize` with status 2 and message ABNORMAL_TERMINATION_IN_LNSRCH.')]\n"
     ]
    },
    {
     "name": "stdout",
     "output_type": "stream",
     "text": [
      "\u001b[36m(worker pid=26380)\u001b[0m New candidate: tensor([[500.]], dtype=torch.float64), tensor([599.7161], dtype=torch.float64)\u001b[32m [repeated 9x across cluster]\u001b[0m\n"
     ]
    },
    {
     "name": "stderr",
     "output_type": "stream",
     "text": [
      "\u001b[36m(worker pid=5304)\u001b[0m c:\\Users\\queim\\micromambaenv\\envs\\mobo\\lib\\site-packages\\botorch\\optim\\optimize.py:367: RuntimeWarning: Optimization failed in `gen_candidates_scipy` with the following warning(s):\n",
      "\u001b[36m(worker pid=5304)\u001b[0m Trying again with a new set of initial conditions.\n",
      "\u001b[36m(worker pid=5304)\u001b[0m   warnings.warn(first_warn_msg, RuntimeWarning)\n",
      "\u001b[36m(worker pid=5304)\u001b[0m c:\\Users\\queim\\micromambaenv\\envs\\mobo\\lib\\site-packages\\gpytorch\\likelihoods\\noise_models.py:148: NumericalWarning: Very small noise values detected. This will likely lead to numerical instabilities. Rounding small noise values up to 1e-06.\u001b[32m [repeated 7x across cluster]\u001b[0m\n",
      "\u001b[36m(worker pid=5304)\u001b[0m   warnings.warn(\u001b[32m [repeated 7x across cluster]\u001b[0m\n"
     ]
    },
    {
     "name": "stdout",
     "output_type": "stream",
     "text": [
      "\u001b[36m(worker pid=5304)\u001b[0m Starting iteration 7, total time: 29.613 seconds.\u001b[32m [repeated 11x across cluster]\u001b[0m\n",
      "Started problem 2 noise 1.0 budget 10 seed 1, time: 122.75s\n",
      "\u001b[36m(worker pid=10364)\u001b[0m New candidate: tensor([[349.8151]], dtype=torch.float64), tensor([469.7429], dtype=torch.float64)\u001b[32m [repeated 12x across cluster]\u001b[0m\n",
      "Started problem 2 noise 1.0 budget 10 seed 1, time: 125.72s\n",
      "\u001b[36m(worker pid=26380)\u001b[0m Starting iteration 3, total time: 9.940 seconds.\u001b[32m [repeated 10x across cluster]\u001b[0m\n"
     ]
    },
    {
     "name": "stderr",
     "output_type": "stream",
     "text": [
      "\u001b[36m(worker pid=23920)\u001b[0m c:\\Users\\queim\\micromambaenv\\envs\\mobo\\lib\\site-packages\\gpytorch\\likelihoods\\noise_models.py:148: NumericalWarning: Very small noise values detected. This will likely lead to numerical instabilities. Rounding small noise values up to 1e-06.\u001b[32m [repeated 6x across cluster]\u001b[0m\n",
      "\u001b[36m(worker pid=23920)\u001b[0m   warnings.warn(\u001b[32m [repeated 6x across cluster]\u001b[0m\n"
     ]
    },
    {
     "name": "stdout",
     "output_type": "stream",
     "text": [
      "\u001b[36m(worker pid=11308)\u001b[0m New candidate: tensor([[-395.2393]], dtype=torch.float64), tensor([758.0537], dtype=torch.float64)\u001b[32m [repeated 12x across cluster]\u001b[0m\n"
     ]
    },
    {
     "name": "stderr",
     "output_type": "stream",
     "text": [
      "\u001b[36m(worker pid=5304)\u001b[0m c:\\Users\\queim\\micromambaenv\\envs\\mobo\\lib\\site-packages\\gpytorch\\likelihoods\\noise_models.py:148: NumericalWarning: Very small noise values detected. This will likely lead to numerical instabilities. Rounding small noise values up to 1e-06.\u001b[32m [repeated 6x across cluster]\u001b[0m\n",
      "\u001b[36m(worker pid=5304)\u001b[0m   warnings.warn(\u001b[32m [repeated 6x across cluster]\u001b[0m\n"
     ]
    },
    {
     "name": "stdout",
     "output_type": "stream",
     "text": [
      "\u001b[36m(worker pid=23920)\u001b[0m Starting iteration 2, total time: 8.417 seconds.\u001b[32m [repeated 10x across cluster]\u001b[0m\n",
      "Started problem 4 noise 0.01 budget 10 seed 1, time: 132.43s\n",
      "\u001b[36m(worker pid=10364)\u001b[0m New candidate: tensor([[-500.]], dtype=torch.float64), tensor([238.4024], dtype=torch.float64)\u001b[32m [repeated 12x across cluster]\u001b[0m\n"
     ]
    },
    {
     "name": "stderr",
     "output_type": "stream",
     "text": [
      "\u001b[36m(worker pid=11152)\u001b[0m c:\\Users\\queim\\micromambaenv\\envs\\mobo\\lib\\site-packages\\botorch\\optim\\optimize.py:367: RuntimeWarning: Optimization failed in `gen_candidates_scipy` with the following warning(s):\n",
      "\u001b[36m(worker pid=11152)\u001b[0m [NumericalWarning('A not p.d., added jitter of 1.0e-08 to the diagonal'), NumericalWarning('A not p.d., added jitter of 1.0e-08 to the diagonal'), OptimizationWarning('Optimization failed within `scipy.optimize.minimize` with status 2 and message ABNORMAL_TERMINATION_IN_LNSRCH.'), NumericalWarning('A not p.d., added jitter of 1.0e-08 to the diagonal'), NumericalWarning('A not p.d., added jitter of 1.0e-08 to the diagonal')]\n",
      "\u001b[36m(worker pid=11152)\u001b[0m Trying again with a new set of initial conditions.\n",
      "\u001b[36m(worker pid=11152)\u001b[0m   warnings.warn(first_warn_msg, RuntimeWarning)\n",
      "\u001b[36m(worker pid=29676)\u001b[0m [OptimizationWarning('Optimization failed within `scipy.optimize.minimize` with status 2 and message ABNORMAL_TERMINATION_IN_LNSRCH.')]\n",
      "\u001b[36m(worker pid=11308)\u001b[0m c:\\Users\\queim\\micromambaenv\\envs\\mobo\\lib\\site-packages\\gpytorch\\likelihoods\\noise_models.py:148: NumericalWarning: Very small noise values detected. This will likely lead to numerical instabilities. Rounding small noise values up to 1e-06.\u001b[32m [repeated 6x across cluster]\u001b[0m\n",
      "\u001b[36m(worker pid=11308)\u001b[0m   warnings.warn(\u001b[32m [repeated 6x across cluster]\u001b[0m\n"
     ]
    },
    {
     "name": "stdout",
     "output_type": "stream",
     "text": [
      "\u001b[36m(worker pid=11308)\u001b[0m Starting iteration 9, total time: 31.250 seconds.\u001b[32m [repeated 13x across cluster]\u001b[0m\n",
      "Started problem 4 noise 0.01 budget 10 seed 1, time: 139.13s\n",
      "\u001b[36m(worker pid=13260)\u001b[0m New candidate: tensor([[219.4622]], dtype=torch.float64), tensor([247.8814], dtype=torch.float64)\u001b[32m [repeated 10x across cluster]\u001b[0m\n"
     ]
    },
    {
     "name": "stderr",
     "output_type": "stream",
     "text": [
      "\u001b[36m(worker pid=29676)\u001b[0m c:\\Users\\queim\\micromambaenv\\envs\\mobo\\lib\\site-packages\\botorch\\optim\\optimize.py:367: RuntimeWarning: Optimization failed in `gen_candidates_scipy` with the following warning(s):\n",
      "\u001b[36m(worker pid=29676)\u001b[0m Trying again with a new set of initial conditions.\n",
      "\u001b[36m(worker pid=29676)\u001b[0m   warnings.warn(first_warn_msg, RuntimeWarning)\n"
     ]
    },
    {
     "name": "stdout",
     "output_type": "stream",
     "text": [
      "\u001b[36m(worker pid=11152)\u001b[0m Starting iteration 7, total time: 33.871 seconds.\u001b[32m [repeated 10x across cluster]\u001b[0m\n"
     ]
    },
    {
     "name": "stderr",
     "output_type": "stream",
     "text": [
      "\u001b[36m(worker pid=11308)\u001b[0m c:\\Users\\queim\\micromambaenv\\envs\\mobo\\lib\\site-packages\\gpytorch\\likelihoods\\noise_models.py:148: NumericalWarning: Very small noise values detected. This will likely lead to numerical instabilities. Rounding small noise values up to 1e-06.\u001b[32m [repeated 5x across cluster]\u001b[0m\n",
      "\u001b[36m(worker pid=11308)\u001b[0m   warnings.warn(\u001b[32m [repeated 5x across cluster]\u001b[0m\n"
     ]
    },
    {
     "name": "stdout",
     "output_type": "stream",
     "text": [
      "Started problem 4 noise 0.1 budget 10 seed 1, time: 143.49s\n",
      "\u001b[36m(worker pid=11308)\u001b[0m New candidate: tensor([[242.8150]], dtype=torch.float64), tensor([388.5509], dtype=torch.float64)\u001b[32m [repeated 11x across cluster]\u001b[0m\n",
      "\u001b[36m(worker pid=10364)\u001b[0m Starting iteration 7, total time: 23.435 seconds.\u001b[32m [repeated 14x across cluster]\u001b[0m\n"
     ]
    },
    {
     "name": "stderr",
     "output_type": "stream",
     "text": [
      "\u001b[36m(worker pid=29676)\u001b[0m c:\\Users\\queim\\micromambaenv\\envs\\mobo\\lib\\site-packages\\gpytorch\\likelihoods\\noise_models.py:148: NumericalWarning: Very small noise values detected. This will likely lead to numerical instabilities. Rounding small noise values up to 1e-06.\u001b[32m [repeated 7x across cluster]\u001b[0m\n",
      "\u001b[36m(worker pid=29676)\u001b[0m   warnings.warn(\u001b[32m [repeated 7x across cluster]\u001b[0m\n"
     ]
    },
    {
     "name": "stdout",
     "output_type": "stream",
     "text": [
      "\u001b[36m(worker pid=26380)\u001b[0m New candidate: tensor([[127.6187]], dtype=torch.float64), tensor([539.9996], dtype=torch.float64)\u001b[32m [repeated 12x across cluster]\u001b[0m\n",
      "Started problem 4 noise 0.1 budget 10 seed 1, time: 153.02s\n",
      "\u001b[36m(worker pid=13260)\u001b[0m Starting iteration 5, total time: 15.195 seconds.\u001b[32m [repeated 10x across cluster]\u001b[0m\n"
     ]
    },
    {
     "name": "stderr",
     "output_type": "stream",
     "text": [
      "\u001b[36m(worker pid=29676)\u001b[0m c:\\Users\\queim\\micromambaenv\\envs\\mobo\\lib\\site-packages\\botorch\\optim\\optimize.py:367: RuntimeWarning: Optimization failed in `gen_candidates_scipy` with the following warning(s):\n",
      "\u001b[36m(worker pid=29676)\u001b[0m [OptimizationWarning('Optimization failed within `scipy.optimize.minimize` with status 2 and message ABNORMAL_TERMINATION_IN_LNSRCH.')]\n",
      "\u001b[36m(worker pid=29676)\u001b[0m Trying again with a new set of initial conditions.\n",
      "\u001b[36m(worker pid=29676)\u001b[0m   warnings.warn(first_warn_msg, RuntimeWarning)\n"
     ]
    },
    {
     "name": "stdout",
     "output_type": "stream",
     "text": [
      "Started problem 4 noise 1.0 budget 10 seed 1, time: 154.37s\n"
     ]
    },
    {
     "name": "stderr",
     "output_type": "stream",
     "text": [
      "\u001b[36m(worker pid=29676)\u001b[0m c:\\Users\\queim\\micromambaenv\\envs\\mobo\\lib\\site-packages\\gpytorch\\likelihoods\\noise_models.py:148: NumericalWarning: Very small noise values detected. This will likely lead to numerical instabilities. Rounding small noise values up to 1e-06.\u001b[32m [repeated 7x across cluster]\u001b[0m\n",
      "\u001b[36m(worker pid=29676)\u001b[0m   warnings.warn(\u001b[32m [repeated 7x across cluster]\u001b[0m\n"
     ]
    },
    {
     "name": "stdout",
     "output_type": "stream",
     "text": [
      "Started problem 4 noise 1.0 budget 10 seed 1, time: 156.93s\n",
      "\u001b[36m(worker pid=23920)\u001b[0m New candidate: tensor([[-303.9571]], dtype=torch.float64), tensor([118.4931], dtype=torch.float64)\u001b[32m [repeated 11x across cluster]\u001b[0m\n",
      "\u001b[36m(worker pid=26380)\u001b[0m Starting iteration 2, total time: 5.840 seconds.\u001b[32m [repeated 10x across cluster]\u001b[0m\n"
     ]
    },
    {
     "name": "stderr",
     "output_type": "stream",
     "text": [
      "\u001b[36m(worker pid=23920)\u001b[0m c:\\Users\\queim\\micromambaenv\\envs\\mobo\\lib\\site-packages\\botorch\\optim\\optimize.py:367: RuntimeWarning: Optimization failed in `gen_candidates_scipy` with the following warning(s):\n",
      "\u001b[36m(worker pid=23920)\u001b[0m [OptimizationWarning('Optimization failed within `scipy.optimize.minimize` with status 2 and message ABNORMAL_TERMINATION_IN_LNSRCH.')]\n",
      "\u001b[36m(worker pid=23920)\u001b[0m Trying again with a new set of initial conditions.\n",
      "\u001b[36m(worker pid=23920)\u001b[0m   warnings.warn(first_warn_msg, RuntimeWarning)\n",
      "\u001b[36m(worker pid=10364)\u001b[0m c:\\Users\\queim\\micromambaenv\\envs\\mobo\\lib\\site-packages\\gpytorch\\likelihoods\\noise_models.py:148: NumericalWarning: Very small noise values detected. This will likely lead to numerical instabilities. Rounding small noise values up to 1e-06.\u001b[32m [repeated 6x across cluster]\u001b[0m\n",
      "\u001b[36m(worker pid=10364)\u001b[0m   warnings.warn(\u001b[32m [repeated 6x across cluster]\u001b[0m\n"
     ]
    },
    {
     "name": "stdout",
     "output_type": "stream",
     "text": [
      "Started problem 6 noise 0.01 budget 10 seed 1, time: 161.86s\n"
     ]
    },
    {
     "name": "stderr",
     "output_type": "stream",
     "text": [
      "\u001b[36m(worker pid=23920)\u001b[0m c:\\Users\\queim\\micromambaenv\\envs\\mobo\\lib\\site-packages\\botorch\\optim\\optimize.py:367: RuntimeWarning: Optimization failed in `gen_candidates_scipy` with the following warning(s):\n",
      "\u001b[36m(worker pid=23920)\u001b[0m [OptimizationWarning('Optimization failed within `scipy.optimize.minimize` with status 2 and message ABNORMAL_TERMINATION_IN_LNSRCH.')]\n",
      "\u001b[36m(worker pid=23920)\u001b[0m Trying again with a new set of initial conditions.\n",
      "\u001b[36m(worker pid=23920)\u001b[0m   warnings.warn(first_warn_msg, RuntimeWarning)\n"
     ]
    },
    {
     "name": "stdout",
     "output_type": "stream",
     "text": [
      "\u001b[36m(worker pid=10364)\u001b[0m New candidate: tensor([[500.]], dtype=torch.float64), tensor([599.5807], dtype=torch.float64)\u001b[32m [repeated 13x across cluster]\u001b[0m\n",
      "\u001b[36m(worker pid=11152)\u001b[0m Starting iteration 3, total time: 11.494 seconds.\u001b[32m [repeated 12x across cluster]\u001b[0m\n"
     ]
    },
    {
     "name": "stderr",
     "output_type": "stream",
     "text": [
      "\u001b[36m(worker pid=11308)\u001b[0m c:\\Users\\queim\\micromambaenv\\envs\\mobo\\lib\\site-packages\\gpytorch\\likelihoods\\noise_models.py:148: NumericalWarning: Very small noise values detected. This will likely lead to numerical instabilities. Rounding small noise values up to 1e-06.\u001b[32m [repeated 6x across cluster]\u001b[0m\n",
      "\u001b[36m(worker pid=11308)\u001b[0m   warnings.warn(\u001b[32m [repeated 6x across cluster]\u001b[0m\n"
     ]
    },
    {
     "name": "stdout",
     "output_type": "stream",
     "text": [
      "\u001b[36m(worker pid=26380)\u001b[0m New candidate: tensor([[339.0733]], dtype=torch.float64), tensor([563.8048], dtype=torch.float64)\u001b[32m [repeated 12x across cluster]\u001b[0m\n",
      "Started problem 6 noise 0.01 budget 10 seed 1, time: 169.41s\n"
     ]
    },
    {
     "name": "stderr",
     "output_type": "stream",
     "text": [
      "\u001b[36m(worker pid=11308)\u001b[0m c:\\Users\\queim\\micromambaenv\\envs\\mobo\\lib\\site-packages\\botorch\\optim\\optimize.py:367: RuntimeWarning: Optimization failed in `gen_candidates_scipy` with the following warning(s):\n",
      "\u001b[36m(worker pid=11308)\u001b[0m [OptimizationWarning('Optimization failed within `scipy.optimize.minimize` with status 2 and message ABNORMAL_TERMINATION_IN_LNSRCH.')]\n",
      "\u001b[36m(worker pid=11308)\u001b[0m Trying again with a new set of initial conditions.\n",
      "\u001b[36m(worker pid=11308)\u001b[0m   warnings.warn(first_warn_msg, RuntimeWarning)\n"
     ]
    },
    {
     "name": "stdout",
     "output_type": "stream",
     "text": [
      "Started problem 6 noise 0.1 budget 10 seed 1, time: 170.92s\n"
     ]
    },
    {
     "name": "stderr",
     "output_type": "stream",
     "text": [
      "\u001b[36m(worker pid=10364)\u001b[0m c:\\Users\\queim\\micromambaenv\\envs\\mobo\\lib\\site-packages\\gpytorch\\likelihoods\\noise_models.py:148: NumericalWarning: Very small noise values detected. This will likely lead to numerical instabilities. Rounding small noise values up to 1e-06.\u001b[32m [repeated 6x across cluster]\u001b[0m\n",
      "\u001b[36m(worker pid=10364)\u001b[0m   warnings.warn(\u001b[32m [repeated 6x across cluster]\u001b[0m\n"
     ]
    },
    {
     "name": "stdout",
     "output_type": "stream",
     "text": [
      "\u001b[36m(worker pid=10364)\u001b[0m Starting iteration 3, total time: 10.153 seconds.\u001b[32m [repeated 13x across cluster]\u001b[0m\n",
      "Started problem 6 noise 0.1 budget 10 seed 1, time: 172.38s\n",
      "\u001b[36m(worker pid=26380)\u001b[0m New candidate: tensor([[-59.2630]], dtype=torch.float64), tensor([476.7675], dtype=torch.float64)\u001b[32m [repeated 8x across cluster]\u001b[0m\n",
      "\u001b[36m(worker pid=23920)\u001b[0m Starting iteration 1, total time: 5.100 seconds.\u001b[32m [repeated 10x across cluster]\u001b[0m\n"
     ]
    },
    {
     "name": "stderr",
     "output_type": "stream",
     "text": [
      "\u001b[36m(worker pid=13260)\u001b[0m c:\\Users\\queim\\micromambaenv\\envs\\mobo\\lib\\site-packages\\gpytorch\\likelihoods\\noise_models.py:148: NumericalWarning: Very small noise values detected. This will likely lead to numerical instabilities. Rounding small noise values up to 1e-06.\u001b[32m [repeated 6x across cluster]\u001b[0m\n",
      "\u001b[36m(worker pid=13260)\u001b[0m   warnings.warn(\u001b[32m [repeated 6x across cluster]\u001b[0m\n"
     ]
    },
    {
     "name": "stdout",
     "output_type": "stream",
     "text": [
      "\u001b[36m(worker pid=5304)\u001b[0m New candidate: tensor([[33.2251]], dtype=torch.float64), tensor([435.6392], dtype=torch.float64)\u001b[32m [repeated 11x across cluster]\u001b[0m\n"
     ]
    },
    {
     "name": "stderr",
     "output_type": "stream",
     "text": [
      "\u001b[36m(worker pid=10364)\u001b[0m c:\\Users\\queim\\micromambaenv\\envs\\mobo\\lib\\site-packages\\gpytorch\\likelihoods\\noise_models.py:148: NumericalWarning: Very small noise values detected. This will likely lead to numerical instabilities. Rounding small noise values up to 1e-06.\u001b[32m [repeated 5x across cluster]\u001b[0m\n",
      "\u001b[36m(worker pid=10364)\u001b[0m   warnings.warn(\u001b[32m [repeated 5x across cluster]\u001b[0m\n"
     ]
    },
    {
     "name": "stdout",
     "output_type": "stream",
     "text": [
      "\u001b[36m(worker pid=10364)\u001b[0m Starting iteration 6, total time: 20.879 seconds.\u001b[32m [repeated 11x across cluster]\u001b[0m\n",
      "\u001b[36m(worker pid=11308)\u001b[0m New candidate: tensor([[156.7309]], dtype=torch.float64), tensor([426.5164], dtype=torch.float64)\u001b[32m [repeated 10x across cluster]\u001b[0m\n"
     ]
    },
    {
     "name": "stderr",
     "output_type": "stream",
     "text": [
      "\u001b[36m(worker pid=10364)\u001b[0m c:\\Users\\queim\\micromambaenv\\envs\\mobo\\lib\\site-packages\\botorch\\optim\\optimize.py:367: RuntimeWarning: Optimization failed in `gen_candidates_scipy` with the following warning(s):\n",
      "\u001b[36m(worker pid=10364)\u001b[0m [OptimizationWarning('Optimization failed within `scipy.optimize.minimize` with status 2 and message ABNORMAL_TERMINATION_IN_LNSRCH.')]\n",
      "\u001b[36m(worker pid=10364)\u001b[0m Trying again with a new set of initial conditions.\n",
      "\u001b[36m(worker pid=10364)\u001b[0m   warnings.warn(first_warn_msg, RuntimeWarning)\n",
      "\u001b[36m(worker pid=13260)\u001b[0m c:\\Users\\queim\\micromambaenv\\envs\\mobo\\lib\\site-packages\\gpytorch\\likelihoods\\noise_models.py:148: NumericalWarning: Very small noise values detected. This will likely lead to numerical instabilities. Rounding small noise values up to 1e-06.\u001b[32m [repeated 4x across cluster]\u001b[0m\n",
      "\u001b[36m(worker pid=13260)\u001b[0m   warnings.warn(\u001b[32m [repeated 4x across cluster]\u001b[0m\n"
     ]
    },
    {
     "name": "stdout",
     "output_type": "stream",
     "text": [
      "\u001b[36m(worker pid=13260)\u001b[0m Starting iteration 5, total time: 17.665 seconds.\u001b[32m [repeated 10x across cluster]\u001b[0m\n",
      "\u001b[36m(worker pid=13260)\u001b[0m New candidate: tensor([[259.5776]], dtype=torch.float64), tensor([520.8659], dtype=torch.float64)\u001b[32m [repeated 11x across cluster]\u001b[0m\n",
      "Started problem 6 noise 1.0 budget 10 seed 1, time: 190.66s\n",
      "Started problem 6 noise 1.0 budget 10 seed 1, time: 192.20s\n",
      "\u001b[36m(worker pid=11152)\u001b[0m Starting iteration 9, total time: 39.471 seconds.\u001b[32m [repeated 9x across cluster]\u001b[0m\n"
     ]
    },
    {
     "name": "stderr",
     "output_type": "stream",
     "text": [
      "\u001b[36m(worker pid=11152)\u001b[0m c:\\Users\\queim\\micromambaenv\\envs\\mobo\\lib\\site-packages\\gpytorch\\likelihoods\\noise_models.py:148: NumericalWarning: Very small noise values detected. This will likely lead to numerical instabilities. Rounding small noise values up to 1e-06.\u001b[32m [repeated 6x across cluster]\u001b[0m\n",
      "\u001b[36m(worker pid=11152)\u001b[0m   warnings.warn(\u001b[32m [repeated 6x across cluster]\u001b[0m\n"
     ]
    },
    {
     "name": "stdout",
     "output_type": "stream",
     "text": [
      "Started problem 8 noise 0.01 budget 10 seed 1, time: 194.30s\n",
      "\u001b[36m(worker pid=23920)\u001b[0m New candidate: tensor([[-50.0829]], dtype=torch.float64), tensor([455.0102], dtype=torch.float64)\u001b[32m [repeated 9x across cluster]\u001b[0m\n",
      "\u001b[36m(worker pid=11152)\u001b[0m Starting iteration 0, total time: 0.000 seconds.\u001b[32m [repeated 12x across cluster]\u001b[0m\n"
     ]
    },
    {
     "name": "stderr",
     "output_type": "stream",
     "text": [
      "\u001b[36m(worker pid=13260)\u001b[0m c:\\Users\\queim\\micromambaenv\\envs\\mobo\\lib\\site-packages\\botorch\\optim\\optimize.py:367: RuntimeWarning: Optimization failed in `gen_candidates_scipy` with the following warning(s):\n",
      "\u001b[36m(worker pid=13260)\u001b[0m [OptimizationWarning('Optimization failed within `scipy.optimize.minimize` with status 2 and message ABNORMAL_TERMINATION_IN_LNSRCH.')]\n",
      "\u001b[36m(worker pid=13260)\u001b[0m Trying again with a new set of initial conditions.\n",
      "\u001b[36m(worker pid=13260)\u001b[0m   warnings.warn(first_warn_msg, RuntimeWarning)\n",
      "\u001b[36m(worker pid=11152)\u001b[0m c:\\Users\\queim\\micromambaenv\\envs\\mobo\\lib\\site-packages\\gpytorch\\likelihoods\\noise_models.py:148: NumericalWarning: Very small noise values detected. This will likely lead to numerical instabilities. Rounding small noise values up to 1e-06.\u001b[32m [repeated 8x across cluster]\u001b[0m\n",
      "\u001b[36m(worker pid=11152)\u001b[0m   warnings.warn(\u001b[32m [repeated 8x across cluster]\u001b[0m\n"
     ]
    },
    {
     "name": "stdout",
     "output_type": "stream",
     "text": [
      "Started problem 8 noise 0.01 budget 10 seed 1, time: 198.54s\n",
      "\u001b[36m(worker pid=10364)\u001b[0m New candidate: tensor([[-299.6165]], dtype=torch.float64), tensor([119.5035], dtype=torch.float64)\u001b[32m [repeated 7x across cluster]\u001b[0m\n",
      "Started problem 8 noise 0.1 budget 10 seed 1, time: 201.87s\n",
      "\u001b[36m(worker pid=11308)\u001b[0m Starting iteration 3, total time: 13.371 seconds.\u001b[32m [repeated 9x across cluster]\u001b[0m\n"
     ]
    },
    {
     "name": "stderr",
     "output_type": "stream",
     "text": [
      "\u001b[36m(worker pid=10364)\u001b[0m c:\\Users\\queim\\micromambaenv\\envs\\mobo\\lib\\site-packages\\gpytorch\\likelihoods\\noise_models.py:148: NumericalWarning: Very small noise values detected. This will likely lead to numerical instabilities. Rounding small noise values up to 1e-06.\u001b[32m [repeated 6x across cluster]\u001b[0m\n",
      "\u001b[36m(worker pid=10364)\u001b[0m   warnings.warn(\u001b[32m [repeated 6x across cluster]\u001b[0m\n"
     ]
    },
    {
     "name": "stdout",
     "output_type": "stream",
     "text": [
      "Started problem 8 noise 0.1 budget 10 seed 1, time: 205.59s\n",
      "\u001b[36m(worker pid=26380)\u001b[0m New candidate: tensor([[419.3371]], dtype=torch.float64), tensor([0.3389], dtype=torch.float64)\u001b[32m [repeated 12x across cluster]\u001b[0m\n",
      "\u001b[36m(worker pid=11308)\u001b[0m Starting iteration 4, total time: 17.544 seconds.\u001b[32m [repeated 11x across cluster]\u001b[0m\n",
      "Started problem 8 noise 1.0 budget 10 seed 1, time: 210.01s\n"
     ]
    },
    {
     "name": "stderr",
     "output_type": "stream",
     "text": [
      "\u001b[36m(worker pid=26380)\u001b[0m c:\\Users\\queim\\micromambaenv\\envs\\mobo\\lib\\site-packages\\gpytorch\\likelihoods\\noise_models.py:148: NumericalWarning: Very small noise values detected. This will likely lead to numerical instabilities. Rounding small noise values up to 1e-06.\u001b[32m [repeated 8x across cluster]\u001b[0m\n",
      "\u001b[36m(worker pid=26380)\u001b[0m   warnings.warn(\u001b[32m [repeated 8x across cluster]\u001b[0m\n"
     ]
    },
    {
     "name": "stdout",
     "output_type": "stream",
     "text": [
      "\u001b[36m(worker pid=10364)\u001b[0m New candidate: tensor([[419.3050]], dtype=torch.float64), tensor([0.3809], dtype=torch.float64)\u001b[32m [repeated 11x across cluster]\u001b[0m\n",
      "\u001b[36m(worker pid=10364)\u001b[0m Starting iteration 4, total time: 13.287 seconds.\u001b[32m [repeated 11x across cluster]\u001b[0m\n"
     ]
    },
    {
     "name": "stderr",
     "output_type": "stream",
     "text": [
      "\u001b[36m(worker pid=29676)\u001b[0m c:\\Users\\queim\\micromambaenv\\envs\\mobo\\lib\\site-packages\\botorch\\optim\\optimize.py:367: RuntimeWarning: Optimization failed in `gen_candidates_scipy` with the following warning(s):\n",
      "\u001b[36m(worker pid=29676)\u001b[0m [OptimizationWarning('Optimization failed within `scipy.optimize.minimize` with status 2 and message ABNORMAL_TERMINATION_IN_LNSRCH.')]\n",
      "\u001b[36m(worker pid=29676)\u001b[0m Trying again with a new set of initial conditions.\n",
      "\u001b[36m(worker pid=29676)\u001b[0m   warnings.warn(first_warn_msg, RuntimeWarning)\n",
      "\u001b[36m(worker pid=13260)\u001b[0m c:\\Users\\queim\\micromambaenv\\envs\\mobo\\lib\\site-packages\\gpytorch\\likelihoods\\noise_models.py:148: NumericalWarning: Very small noise values detected. This will likely lead to numerical instabilities. Rounding small noise values up to 1e-06.\u001b[32m [repeated 6x across cluster]\u001b[0m\n",
      "\u001b[36m(worker pid=13260)\u001b[0m   warnings.warn(\u001b[32m [repeated 6x across cluster]\u001b[0m\n"
     ]
    },
    {
     "name": "stdout",
     "output_type": "stream",
     "text": [
      "\u001b[36m(worker pid=13260)\u001b[0m New candidate: tensor([[480.9437]], dtype=torch.float64), tensor([389.0365], dtype=torch.float64)\u001b[32m [repeated 9x across cluster]\u001b[0m\n",
      "Started problem 8 noise 1.0 budget 10 seed 1, time: 218.17s\n",
      "\u001b[36m(worker pid=13260)\u001b[0m Starting iteration 3, total time: 10.274 seconds.\u001b[32m [repeated 9x across cluster]\u001b[0m\n",
      "\u001b[36m(worker pid=11308)\u001b[0m New candidate: tensor([[-130.3979]], dtype=torch.float64), tensor([300.1079], dtype=torch.float64)\u001b[32m [repeated 11x across cluster]\u001b[0m\n"
     ]
    },
    {
     "name": "stderr",
     "output_type": "stream",
     "text": [
      "\u001b[36m(worker pid=10364)\u001b[0m c:\\Users\\queim\\micromambaenv\\envs\\mobo\\lib\\site-packages\\gpytorch\\likelihoods\\noise_models.py:148: NumericalWarning: Very small noise values detected. This will likely lead to numerical instabilities. Rounding small noise values up to 1e-06.\u001b[32m [repeated 5x across cluster]\u001b[0m\n",
      "\u001b[36m(worker pid=10364)\u001b[0m   warnings.warn(\u001b[32m [repeated 5x across cluster]\u001b[0m\n",
      "\u001b[36m(worker pid=29676)\u001b[0m c:\\Users\\queim\\micromambaenv\\envs\\mobo\\lib\\site-packages\\botorch\\optim\\optimize.py:367: RuntimeWarning: Optimization failed in `gen_candidates_scipy` with the following warning(s):\n",
      "\u001b[36m(worker pid=29676)\u001b[0m [OptimizationWarning('Optimization failed within `scipy.optimize.minimize` with status 2 and message ABNORMAL_TERMINATION_IN_LNSRCH.')]\n",
      "\u001b[36m(worker pid=29676)\u001b[0m Trying again with a new set of initial conditions.\n",
      "\u001b[36m(worker pid=29676)\u001b[0m   warnings.warn(first_warn_msg, RuntimeWarning)\n"
     ]
    },
    {
     "name": "stdout",
     "output_type": "stream",
     "text": [
      "\u001b[36m(worker pid=10364)\u001b[0m Starting iteration 7, total time: 23.496 seconds.\u001b[32m [repeated 11x across cluster]\u001b[0m\n",
      "\u001b[36m(worker pid=23920)\u001b[0m New candidate: tensor([[-500.]], dtype=torch.float64), tensor([238.4084], dtype=torch.float64)\u001b[32m [repeated 11x across cluster]\u001b[0m\n"
     ]
    },
    {
     "name": "stderr",
     "output_type": "stream",
     "text": [
      "\u001b[36m(worker pid=10364)\u001b[0m c:\\Users\\queim\\micromambaenv\\envs\\mobo\\lib\\site-packages\\gpytorch\\likelihoods\\noise_models.py:148: NumericalWarning: Very small noise values detected. This will likely lead to numerical instabilities. Rounding small noise values up to 1e-06.\u001b[32m [repeated 6x across cluster]\u001b[0m\n",
      "\u001b[36m(worker pid=10364)\u001b[0m   warnings.warn(\u001b[32m [repeated 6x across cluster]\u001b[0m\n"
     ]
    },
    {
     "name": "stdout",
     "output_type": "stream",
     "text": [
      "\u001b[36m(worker pid=23920)\u001b[0m Starting iteration 4, total time: 12.458 seconds.\u001b[32m [repeated 12x across cluster]\u001b[0m\n",
      "\u001b[36m(worker pid=26380)\u001b[0m New candidate: tensor([[421.2228]], dtype=torch.float64), tensor([0.0195], dtype=torch.float64)\u001b[32m [repeated 11x across cluster]\u001b[0m\n",
      "Started problem 10 noise 0.01 budget 10 seed 1, time: 233.20s\n"
     ]
    },
    {
     "name": "stderr",
     "output_type": "stream",
     "text": [
      "\u001b[36m(worker pid=13260)\u001b[0m c:\\Users\\queim\\micromambaenv\\envs\\mobo\\lib\\site-packages\\gpytorch\\likelihoods\\noise_models.py:148: NumericalWarning: Very small noise values detected. This will likely lead to numerical instabilities. Rounding small noise values up to 1e-06.\u001b[32m [repeated 8x across cluster]\u001b[0m\n",
      "\u001b[36m(worker pid=13260)\u001b[0m   warnings.warn(\u001b[32m [repeated 8x across cluster]\u001b[0m\n"
     ]
    },
    {
     "name": "stdout",
     "output_type": "stream",
     "text": [
      "\u001b[36m(worker pid=10364)\u001b[0m Starting iteration 0, total time: 0.000 seconds.\u001b[32m [repeated 9x across cluster]\u001b[0m\n",
      "Started problem 10 noise 0.01 budget 10 seed 1, time: 236.07s\n",
      "Started problem 10 noise 0.1 budget 10 seed 1, time: 237.55s\n",
      "\u001b[36m(worker pid=13260)\u001b[0m New candidate: tensor([[25.8501]], dtype=torch.float64), tensor([442.6817], dtype=torch.float64)\u001b[32m [repeated 10x across cluster]\u001b[0m\n",
      "Started problem 10 noise 0.1 budget 10 seed 1, time: 238.98s\n"
     ]
    },
    {
     "name": "stderr",
     "output_type": "stream",
     "text": [
      "\u001b[36m(worker pid=11308)\u001b[0m c:\\Users\\queim\\micromambaenv\\envs\\mobo\\lib\\site-packages\\gpytorch\\likelihoods\\noise_models.py:148: NumericalWarning: Very small noise values detected. This will likely lead to numerical instabilities. Rounding small noise values up to 1e-06.\u001b[32m [repeated 6x across cluster]\u001b[0m\n",
      "\u001b[36m(worker pid=11308)\u001b[0m   warnings.warn(\u001b[32m [repeated 6x across cluster]\u001b[0m\n"
     ]
    },
    {
     "name": "stdout",
     "output_type": "stream",
     "text": [
      "\u001b[36m(worker pid=29676)\u001b[0m Starting iteration 2, total time: 9.002 seconds.\u001b[32m [repeated 11x across cluster]\u001b[0m\n",
      "Started problem 10 noise 1.0 budget 10 seed 1, time: 243.38s\n",
      "\u001b[36m(worker pid=23920)\u001b[0m New candidate: tensor([[-283.2684]], dtype=torch.float64), tensor([163.7023], dtype=torch.float64)\u001b[32m [repeated 11x across cluster]\u001b[0m\n"
     ]
    },
    {
     "name": "stderr",
     "output_type": "stream",
     "text": [
      "\u001b[36m(worker pid=11152)\u001b[0m c:\\Users\\queim\\micromambaenv\\envs\\mobo\\lib\\site-packages\\gpytorch\\likelihoods\\noise_models.py:148: NumericalWarning: Very small noise values detected. This will likely lead to numerical instabilities. Rounding small noise values up to 1e-06.\u001b[32m [repeated 6x across cluster]\u001b[0m\n",
      "\u001b[36m(worker pid=11152)\u001b[0m   warnings.warn(\u001b[32m [repeated 6x across cluster]\u001b[0m\n"
     ]
    },
    {
     "name": "stdout",
     "output_type": "stream",
     "text": [
      "Started problem 10 noise 1.0 budget 10 seed 1, time: 246.47s\n"
     ]
    },
    {
     "name": "stderr",
     "output_type": "stream",
     "text": [
      "\u001b[36m(worker pid=13260)\u001b[0m c:\\Users\\queim\\micromambaenv\\envs\\mobo\\lib\\site-packages\\botorch\\optim\\optimize.py:367: RuntimeWarning: Optimization failed in `gen_candidates_scipy` with the following warning(s):\n",
      "\u001b[36m(worker pid=13260)\u001b[0m [OptimizationWarning('Optimization failed within `scipy.optimize.minimize` with status 2 and message ABNORMAL_TERMINATION_IN_LNSRCH.')]\n",
      "\u001b[36m(worker pid=13260)\u001b[0m Trying again with a new set of initial conditions.\n",
      "\u001b[36m(worker pid=13260)\u001b[0m   warnings.warn(first_warn_msg, RuntimeWarning)\n"
     ]
    },
    {
     "name": "stdout",
     "output_type": "stream",
     "text": [
      "\u001b[36m(worker pid=5304)\u001b[0m Starting iteration 0, total time: 0.000 seconds.\u001b[32m [repeated 11x across cluster]\u001b[0m\n",
      "\u001b[36m(worker pid=29676)\u001b[0m New candidate: tensor([[423.2956]], dtype=torch.float64), tensor([0.6630], dtype=torch.float64)\u001b[32m [repeated 10x across cluster]\u001b[0m\n"
     ]
    },
    {
     "name": "stderr",
     "output_type": "stream",
     "text": [
      "\u001b[36m(worker pid=11152)\u001b[0m c:\\Users\\queim\\micromambaenv\\envs\\mobo\\lib\\site-packages\\gpytorch\\likelihoods\\noise_models.py:148: NumericalWarning: Very small noise values detected. This will likely lead to numerical instabilities. Rounding small noise values up to 1e-06.\u001b[32m [repeated 3x across cluster]\u001b[0m\n",
      "\u001b[36m(worker pid=11152)\u001b[0m   warnings.warn(\u001b[32m [repeated 3x across cluster]\u001b[0m\n"
     ]
    },
    {
     "name": "stdout",
     "output_type": "stream",
     "text": [
      "\u001b[36m(worker pid=29676)\u001b[0m Starting iteration 5, total time: 20.089 seconds.\u001b[32m [repeated 11x across cluster]\u001b[0m\n",
      "Started problem 2 noise 0.01 budget 10 seed 2, time: 252.94s\n",
      "\u001b[36m(worker pid=5304)\u001b[0m New candidate: tensor([[-500.]], dtype=torch.float64), tensor([238.3731], dtype=torch.float64)\u001b[32m [repeated 9x across cluster]\u001b[0m\n"
     ]
    },
    {
     "name": "stderr",
     "output_type": "stream",
     "text": [
      "\u001b[36m(worker pid=13260)\u001b[0m c:\\Users\\queim\\micromambaenv\\envs\\mobo\\lib\\site-packages\\gpytorch\\likelihoods\\noise_models.py:148: NumericalWarning: Very small noise values detected. This will likely lead to numerical instabilities. Rounding small noise values up to 1e-06.\u001b[32m [repeated 7x across cluster]\u001b[0m\n",
      "\u001b[36m(worker pid=13260)\u001b[0m   warnings.warn(\u001b[32m [repeated 7x across cluster]\u001b[0m\n"
     ]
    },
    {
     "name": "stdout",
     "output_type": "stream",
     "text": [
      "\u001b[36m(worker pid=5304)\u001b[0m Starting iteration 3, total time: 10.805 seconds.\u001b[32m [repeated 10x across cluster]\u001b[0m\n",
      "Started problem 2 noise 0.01 budget 10 seed 2, time: 258.51s\n",
      "\u001b[36m(worker pid=26380)\u001b[0m New candidate: tensor([[58.5060]], dtype=torch.float64), tensor([361.3186], dtype=torch.float64)\u001b[32m [repeated 9x across cluster]\u001b[0m\n"
     ]
    },
    {
     "name": "stderr",
     "output_type": "stream",
     "text": [
      "\u001b[36m(worker pid=11152)\u001b[0m c:\\Users\\queim\\micromambaenv\\envs\\mobo\\lib\\site-packages\\botorch\\optim\\optimize.py:367: RuntimeWarning: Optimization failed in `gen_candidates_scipy` with the following warning(s):\n",
      "\u001b[36m(worker pid=11152)\u001b[0m [OptimizationWarning('Optimization failed within `scipy.optimize.minimize` with status 2 and message ABNORMAL_TERMINATION_IN_LNSRCH.')]\n",
      "\u001b[36m(worker pid=11152)\u001b[0m Trying again with a new set of initial conditions.\n",
      "\u001b[36m(worker pid=11152)\u001b[0m   warnings.warn(first_warn_msg, RuntimeWarning)\n"
     ]
    },
    {
     "name": "stdout",
     "output_type": "stream",
     "text": [
      "\u001b[36m(worker pid=26380)\u001b[0m Starting iteration 7, total time: 27.107 seconds.\u001b[32m [repeated 8x across cluster]\u001b[0m\n"
     ]
    },
    {
     "name": "stderr",
     "output_type": "stream",
     "text": [
      "\u001b[36m(worker pid=29676)\u001b[0m c:\\Users\\queim\\micromambaenv\\envs\\mobo\\lib\\site-packages\\gpytorch\\likelihoods\\noise_models.py:148: NumericalWarning: Very small noise values detected. This will likely lead to numerical instabilities. Rounding small noise values up to 1e-06.\u001b[32m [repeated 5x across cluster]\u001b[0m\n",
      "\u001b[36m(worker pid=29676)\u001b[0m   warnings.warn(\u001b[32m [repeated 5x across cluster]\u001b[0m\n"
     ]
    },
    {
     "name": "stdout",
     "output_type": "stream",
     "text": [
      "\u001b[36m(worker pid=10364)\u001b[0m New candidate: tensor([[-283.2569]], dtype=torch.float64), tensor([163.8564], dtype=torch.float64)\u001b[32m [repeated 10x across cluster]\u001b[0m\n"
     ]
    },
    {
     "name": "stderr",
     "output_type": "stream",
     "text": [
      "\u001b[36m(worker pid=11152)\u001b[0m c:\\Users\\queim\\micromambaenv\\envs\\mobo\\lib\\site-packages\\gpytorch\\likelihoods\\noise_models.py:148: NumericalWarning: Very small noise values detected. This will likely lead to numerical instabilities. Rounding small noise values up to 1e-06.\u001b[32m [repeated 5x across cluster]\u001b[0m\n",
      "\u001b[36m(worker pid=11152)\u001b[0m   warnings.warn(\u001b[32m [repeated 5x across cluster]\u001b[0m\n"
     ]
    },
    {
     "name": "stdout",
     "output_type": "stream",
     "text": [
      "\u001b[36m(worker pid=11152)\u001b[0m Starting iteration 5, total time: 26.755 seconds.\u001b[32m [repeated 11x across cluster]\u001b[0m\n"
     ]
    },
    {
     "name": "stderr",
     "output_type": "stream",
     "text": [
      "\u001b[36m(worker pid=11308)\u001b[0m c:\\Users\\queim\\micromambaenv\\envs\\mobo\\lib\\site-packages\\botorch\\optim\\optimize.py:367: RuntimeWarning: Optimization failed in `gen_candidates_scipy` with the following warning(s):\n",
      "\u001b[36m(worker pid=11308)\u001b[0m [OptimizationWarning('Optimization failed within `scipy.optimize.minimize` with status 2 and message ABNORMAL_TERMINATION_IN_LNSRCH.')]\n",
      "\u001b[36m(worker pid=11308)\u001b[0m Trying again with a new set of initial conditions.\n",
      "\u001b[36m(worker pid=11308)\u001b[0m   warnings.warn(first_warn_msg, RuntimeWarning)\n"
     ]
    },
    {
     "name": "stdout",
     "output_type": "stream",
     "text": [
      "\u001b[36m(worker pid=13260)\u001b[0m New candidate: tensor([[-289.6109]], dtype=torch.float64), tensor([139.1617], dtype=torch.float64)\u001b[32m [repeated 11x across cluster]\u001b[0m\n",
      "Started problem 2 noise 0.1 budget 10 seed 2, time: 272.20s\n",
      "\u001b[36m(worker pid=23920)\u001b[0m Starting iteration 4, total time: 16.254 seconds.\u001b[32m [repeated 8x across cluster]\u001b[0m\n",
      "Started problem 2 noise 0.1 budget 10 seed 2, time: 275.67s\n",
      "\u001b[36m(worker pid=11308)\u001b[0m New candidate: tensor([[421.4555]], dtype=torch.float64), tensor([-0.0801], dtype=torch.float64)\u001b[32m [repeated 7x across cluster]\u001b[0m\n"
     ]
    },
    {
     "name": "stderr",
     "output_type": "stream",
     "text": [
      "\u001b[36m(worker pid=11308)\u001b[0m c:\\Users\\queim\\micromambaenv\\envs\\mobo\\lib\\site-packages\\gpytorch\\likelihoods\\noise_models.py:148: NumericalWarning: Very small noise values detected. This will likely lead to numerical instabilities. Rounding small noise values up to 1e-06.\u001b[32m [repeated 5x across cluster]\u001b[0m\n",
      "\u001b[36m(worker pid=11308)\u001b[0m   warnings.warn(\u001b[32m [repeated 5x across cluster]\u001b[0m\n"
     ]
    },
    {
     "name": "stdout",
     "output_type": "stream",
     "text": [
      "\u001b[36m(worker pid=26380)\u001b[0m Starting iteration 1, total time: 5.039 seconds.\u001b[32m [repeated 8x across cluster]\u001b[0m\n",
      "\u001b[36m(worker pid=23920)\u001b[0m New candidate: tensor([[379.1839]], dtype=torch.float64), tensor([197.8249], dtype=torch.float64)\u001b[32m [repeated 8x across cluster]\u001b[0m\n"
     ]
    },
    {
     "name": "stderr",
     "output_type": "stream",
     "text": [
      "\u001b[36m(worker pid=13260)\u001b[0m c:\\Users\\queim\\micromambaenv\\envs\\mobo\\lib\\site-packages\\gpytorch\\likelihoods\\noise_models.py:148: NumericalWarning: Very small noise values detected. This will likely lead to numerical instabilities. Rounding small noise values up to 1e-06.\u001b[32m [repeated 5x across cluster]\u001b[0m\n",
      "\u001b[36m(worker pid=13260)\u001b[0m   warnings.warn(\u001b[32m [repeated 5x across cluster]\u001b[0m\n"
     ]
    },
    {
     "name": "stdout",
     "output_type": "stream",
     "text": [
      "Started problem 2 noise 1.0 budget 10 seed 2, time: 283.55s\n"
     ]
    },
    {
     "name": "stderr",
     "output_type": "stream",
     "text": [
      "\u001b[36m(worker pid=11308)\u001b[0m c:\\Users\\queim\\micromambaenv\\envs\\mobo\\lib\\site-packages\\botorch\\optim\\optimize.py:367: RuntimeWarning: Optimization failed in `gen_candidates_scipy` with the following warning(s):\n",
      "\u001b[36m(worker pid=11308)\u001b[0m [OptimizationWarning('Optimization failed within `scipy.optimize.minimize` with status 2 and message ABNORMAL_TERMINATION_IN_LNSRCH.')]\n",
      "\u001b[36m(worker pid=11308)\u001b[0m Trying again with a new set of initial conditions.\n",
      "\u001b[36m(worker pid=11308)\u001b[0m   warnings.warn(first_warn_msg, RuntimeWarning)\n"
     ]
    },
    {
     "name": "stdout",
     "output_type": "stream",
     "text": [
      "\u001b[36m(worker pid=13260)\u001b[0m Starting iteration 7, total time: 33.795 seconds.\u001b[32m [repeated 7x across cluster]\u001b[0m\n",
      "\u001b[36m(worker pid=11152)\u001b[0m New candidate: tensor([[401.1191]], dtype=torch.float64), tensor([48.1779], dtype=torch.float64)\u001b[32m [repeated 8x across cluster]\u001b[0m\n"
     ]
    },
    {
     "name": "stderr",
     "output_type": "stream",
     "text": [
      "\u001b[36m(worker pid=11308)\u001b[0m c:\\Users\\queim\\micromambaenv\\envs\\mobo\\lib\\site-packages\\gpytorch\\likelihoods\\noise_models.py:148: NumericalWarning: Very small noise values detected. This will likely lead to numerical instabilities. Rounding small noise values up to 1e-06.\u001b[32m [repeated 6x across cluster]\u001b[0m\n",
      "\u001b[36m(worker pid=11308)\u001b[0m   warnings.warn(\u001b[32m [repeated 6x across cluster]\u001b[0m\n"
     ]
    },
    {
     "name": "stdout",
     "output_type": "stream",
     "text": [
      "Started problem 2 noise 1.0 budget 10 seed 2, time: 289.18s\n"
     ]
    },
    {
     "name": "stderr",
     "output_type": "stream",
     "text": [
      "\u001b[36m(worker pid=13260)\u001b[0m c:\\Users\\queim\\micromambaenv\\envs\\mobo\\lib\\site-packages\\botorch\\optim\\optimize.py:367: RuntimeWarning: Optimization failed in `gen_candidates_scipy` with the following warning(s):\n",
      "\u001b[36m(worker pid=13260)\u001b[0m [OptimizationWarning('Optimization failed within `scipy.optimize.minimize` with status 2 and message ABNORMAL_TERMINATION_IN_LNSRCH.')]\n",
      "\u001b[36m(worker pid=13260)\u001b[0m Trying again with a new set of initial conditions.\n",
      "\u001b[36m(worker pid=13260)\u001b[0m   warnings.warn(first_warn_msg, RuntimeWarning)\n"
     ]
    },
    {
     "name": "stdout",
     "output_type": "stream",
     "text": [
      "\u001b[36m(worker pid=29676)\u001b[0m Starting iteration 3, total time: 17.535 seconds.\u001b[32m [repeated 7x across cluster]\u001b[0m\n",
      "Started problem 4 noise 0.01 budget 10 seed 2, time: 292.32s\n"
     ]
    },
    {
     "name": "stderr",
     "output_type": "stream",
     "text": [
      "\u001b[36m(worker pid=13260)\u001b[0m c:\\Users\\queim\\micromambaenv\\envs\\mobo\\lib\\site-packages\\gpytorch\\likelihoods\\noise_models.py:148: NumericalWarning: Very small noise values detected. This will likely lead to numerical instabilities. Rounding small noise values up to 1e-06.\u001b[32m [repeated 5x across cluster]\u001b[0m\n",
      "\u001b[36m(worker pid=13260)\u001b[0m   warnings.warn(\u001b[32m [repeated 5x across cluster]\u001b[0m\n"
     ]
    },
    {
     "name": "stdout",
     "output_type": "stream",
     "text": [
      "\u001b[36m(worker pid=13260)\u001b[0m New candidate: tensor([[422.6121]], dtype=torch.float64), tensor([0.3322], dtype=torch.float64)\u001b[32m [repeated 9x across cluster]\u001b[0m\n",
      "Started problem 4 noise 0.01 budget 10 seed 2, time: 293.80s\n",
      "\u001b[36m(worker pid=5304)\u001b[0m Starting iteration 1, total time: 4.613 seconds.\u001b[32m [repeated 10x across cluster]\u001b[0m\n"
     ]
    },
    {
     "name": "stderr",
     "output_type": "stream",
     "text": [
      "\u001b[36m(worker pid=13260)\u001b[0m c:\\Users\\queim\\micromambaenv\\envs\\mobo\\lib\\site-packages\\botorch\\optim\\optimize.py:367: RuntimeWarning: Optimization failed in `gen_candidates_scipy` with the following warning(s):\n",
      "\u001b[36m(worker pid=13260)\u001b[0m [OptimizationWarning('Optimization failed within `scipy.optimize.minimize` with status 2 and message ABNORMAL_TERMINATION_IN_LNSRCH.')]\n",
      "\u001b[36m(worker pid=13260)\u001b[0m Trying again with a new set of initial conditions.\n",
      "\u001b[36m(worker pid=13260)\u001b[0m   warnings.warn(first_warn_msg, RuntimeWarning)\n"
     ]
    },
    {
     "name": "stdout",
     "output_type": "stream",
     "text": [
      "\u001b[36m(worker pid=23920)\u001b[0m New candidate: tensor([[220.0513]], dtype=torch.float64), tensor([250.1605], dtype=torch.float64)\u001b[32m [repeated 8x across cluster]\u001b[0m\n"
     ]
    },
    {
     "name": "stderr",
     "output_type": "stream",
     "text": [
      "\u001b[36m(worker pid=11152)\u001b[0m c:\\Users\\queim\\micromambaenv\\envs\\mobo\\lib\\site-packages\\gpytorch\\likelihoods\\noise_models.py:148: NumericalWarning: Very small noise values detected. This will likely lead to numerical instabilities. Rounding small noise values up to 1e-06.\u001b[32m [repeated 4x across cluster]\u001b[0m\n",
      "\u001b[36m(worker pid=11152)\u001b[0m   warnings.warn(\u001b[32m [repeated 4x across cluster]\u001b[0m\n"
     ]
    },
    {
     "name": "stdout",
     "output_type": "stream",
     "text": [
      "\u001b[36m(worker pid=11308)\u001b[0m Starting iteration 3, total time: 13.537 seconds.\u001b[32m [repeated 10x across cluster]\u001b[0m\n",
      "\u001b[36m(worker pid=23920)\u001b[0m New candidate: tensor([[400.4539]], dtype=torch.float64), tensor([51.5641], dtype=torch.float64)\u001b[32m [repeated 10x across cluster]\u001b[0m\n"
     ]
    },
    {
     "name": "stderr",
     "output_type": "stream",
     "text": [
      "\u001b[36m(worker pid=13260)\u001b[0m c:\\Users\\queim\\micromambaenv\\envs\\mobo\\lib\\site-packages\\gpytorch\\likelihoods\\noise_models.py:148: NumericalWarning: Very small noise values detected. This will likely lead to numerical instabilities. Rounding small noise values up to 1e-06.\u001b[32m [repeated 7x across cluster]\u001b[0m\n",
      "\u001b[36m(worker pid=13260)\u001b[0m   warnings.warn(\u001b[32m [repeated 7x across cluster]\u001b[0m\n",
      "\u001b[36m(worker pid=29676)\u001b[0m c:\\Users\\queim\\micromambaenv\\envs\\mobo\\lib\\site-packages\\botorch\\optim\\optimize.py:367: RuntimeWarning: Optimization failed in `gen_candidates_scipy` with the following warning(s):\n",
      "\u001b[36m(worker pid=29676)\u001b[0m [OptimizationWarning('Optimization failed within `scipy.optimize.minimize` with status 2 and message ABNORMAL_TERMINATION_IN_LNSRCH.')]\n",
      "\u001b[36m(worker pid=29676)\u001b[0m Trying again with a new set of initial conditions.\n",
      "\u001b[36m(worker pid=29676)\u001b[0m   warnings.warn(first_warn_msg, RuntimeWarning)\n"
     ]
    },
    {
     "name": "stdout",
     "output_type": "stream",
     "text": [
      "Started problem 4 noise 0.1 budget 10 seed 2, time: 305.51s\n",
      "\u001b[36m(worker pid=11152)\u001b[0m Starting iteration 4, total time: 15.496 seconds.\u001b[32m [repeated 9x across cluster]\u001b[0m\n",
      "Started problem 4 noise 0.1 budget 10 seed 2, time: 310.05s\n",
      "\u001b[36m(worker pid=11308)\u001b[0m New candidate: tensor([[60.1855]], dtype=torch.float64), tensor([359.0799], dtype=torch.float64)\u001b[32m [repeated 11x across cluster]\u001b[0m\n"
     ]
    },
    {
     "name": "stderr",
     "output_type": "stream",
     "text": [
      "\u001b[36m(worker pid=13260)\u001b[0m c:\\Users\\queim\\micromambaenv\\envs\\mobo\\lib\\site-packages\\gpytorch\\likelihoods\\noise_models.py:148: NumericalWarning: Very small noise values detected. This will likely lead to numerical instabilities. Rounding small noise values up to 1e-06.\u001b[32m [repeated 4x across cluster]\u001b[0m\n",
      "\u001b[36m(worker pid=13260)\u001b[0m   warnings.warn(\u001b[32m [repeated 4x across cluster]\u001b[0m\n",
      "\u001b[36m(worker pid=10364)\u001b[0m c:\\Users\\queim\\micromambaenv\\envs\\mobo\\lib\\site-packages\\botorch\\optim\\optimize.py:367: RuntimeWarning: Optimization failed in `gen_candidates_scipy` with the following warning(s):\n",
      "\u001b[36m(worker pid=10364)\u001b[0m [OptimizationWarning('Optimization failed within `scipy.optimize.minimize` with status 2 and message ABNORMAL_TERMINATION_IN_LNSRCH.')]\n",
      "\u001b[36m(worker pid=10364)\u001b[0m Trying again with a new set of initial conditions.\n",
      "\u001b[36m(worker pid=10364)\u001b[0m   warnings.warn(first_warn_msg, RuntimeWarning)\n"
     ]
    },
    {
     "name": "stdout",
     "output_type": "stream",
     "text": [
      "\u001b[36m(worker pid=13260)\u001b[0m Starting iteration 2, total time: 7.593 seconds.\u001b[32m [repeated 7x across cluster]\u001b[0m\n",
      "\u001b[36m(worker pid=11308)\u001b[0m New candidate: tensor([[-71.2434]], dtype=torch.float64), tensor([478.3039], dtype=torch.float64)\u001b[32m [repeated 8x across cluster]\u001b[0m\n"
     ]
    },
    {
     "name": "stderr",
     "output_type": "stream",
     "text": [
      "\u001b[36m(worker pid=13260)\u001b[0m c:\\Users\\queim\\micromambaenv\\envs\\mobo\\lib\\site-packages\\gpytorch\\likelihoods\\noise_models.py:148: NumericalWarning: Very small noise values detected. This will likely lead to numerical instabilities. Rounding small noise values up to 1e-06.\u001b[32m [repeated 4x across cluster]\u001b[0m\n",
      "\u001b[36m(worker pid=13260)\u001b[0m   warnings.warn(\u001b[32m [repeated 4x across cluster]\u001b[0m\n"
     ]
    },
    {
     "name": "stdout",
     "output_type": "stream",
     "text": [
      "\u001b[36m(worker pid=13260)\u001b[0m Starting iteration 3, total time: 14.358 seconds.\u001b[32m [repeated 8x across cluster]\u001b[0m\n",
      "\u001b[36m(worker pid=11308)\u001b[0m New candidate: tensor([[352.6976]], dtype=torch.float64), tensor([443.3986], dtype=torch.float64)\u001b[32m [repeated 8x across cluster]\u001b[0m\n",
      "\u001b[36m(worker pid=23920)\u001b[0m Starting iteration 3, total time: 15.323 seconds.\u001b[32m [repeated 11x across cluster]\u001b[0m\n"
     ]
    },
    {
     "name": "stderr",
     "output_type": "stream",
     "text": [
      "\u001b[36m(worker pid=11152)\u001b[0m c:\\Users\\queim\\micromambaenv\\envs\\mobo\\lib\\site-packages\\gpytorch\\likelihoods\\noise_models.py:148: NumericalWarning: Very small noise values detected. This will likely lead to numerical instabilities. Rounding small noise values up to 1e-06.\u001b[32m [repeated 7x across cluster]\u001b[0m\n",
      "\u001b[36m(worker pid=11152)\u001b[0m   warnings.warn(\u001b[32m [repeated 7x across cluster]\u001b[0m\n"
     ]
    },
    {
     "name": "stdout",
     "output_type": "stream",
     "text": [
      "Started problem 4 noise 1.0 budget 10 seed 2, time: 326.65s\n",
      "\u001b[36m(worker pid=29676)\u001b[0m New candidate: tensor([[421.4453]], dtype=torch.float64), tensor([0.0870], dtype=torch.float64)\u001b[32m [repeated 9x across cluster]\u001b[0m\n",
      "Started problem 4 noise 1.0 budget 10 seed 2, time: 328.39s\n",
      "\u001b[36m(worker pid=26380)\u001b[0m Starting iteration 1, total time: 4.222 seconds.\u001b[32m [repeated 9x across cluster]\u001b[0m\n"
     ]
    },
    {
     "name": "stderr",
     "output_type": "stream",
     "text": [
      "\u001b[36m(worker pid=11152)\u001b[0m c:\\Users\\queim\\micromambaenv\\envs\\mobo\\lib\\site-packages\\gpytorch\\likelihoods\\noise_models.py:148: NumericalWarning: Very small noise values detected. This will likely lead to numerical instabilities. Rounding small noise values up to 1e-06.\u001b[32m [repeated 6x across cluster]\u001b[0m\n",
      "\u001b[36m(worker pid=11152)\u001b[0m   warnings.warn(\u001b[32m [repeated 6x across cluster]\u001b[0m\n"
     ]
    },
    {
     "name": "stdout",
     "output_type": "stream",
     "text": [
      "\u001b[36m(worker pid=23920)\u001b[0m New candidate: tensor([[60.7442]], dtype=torch.float64), tensor([358.8514], dtype=torch.float64)\u001b[32m [repeated 10x across cluster]\u001b[0m\n",
      "\u001b[36m(worker pid=11152)\u001b[0m Starting iteration 9, total time: 43.902 seconds.\u001b[32m [repeated 9x across cluster]\u001b[0m\n",
      "Started problem 6 noise 0.01 budget 10 seed 2, time: 336.45s\n",
      "Started problem 6 noise 0.01 budget 10 seed 2, time: 337.94s\n"
     ]
    },
    {
     "name": "stderr",
     "output_type": "stream",
     "text": [
      "\u001b[36m(worker pid=10364)\u001b[0m c:\\Users\\queim\\micromambaenv\\envs\\mobo\\lib\\site-packages\\gpytorch\\likelihoods\\noise_models.py:148: NumericalWarning: Very small noise values detected. This will likely lead to numerical instabilities. Rounding small noise values up to 1e-06.\u001b[32m [repeated 6x across cluster]\u001b[0m\n",
      "\u001b[36m(worker pid=10364)\u001b[0m   warnings.warn(\u001b[32m [repeated 6x across cluster]\u001b[0m\n"
     ]
    },
    {
     "name": "stdout",
     "output_type": "stream",
     "text": [
      "\u001b[36m(worker pid=10364)\u001b[0m New candidate: tensor([[-500.]], dtype=torch.float64), tensor([238.9766], dtype=torch.float64)\u001b[32m [repeated 9x across cluster]\u001b[0m\n"
     ]
    },
    {
     "name": "stderr",
     "output_type": "stream",
     "text": [
      "\u001b[36m(worker pid=26380)\u001b[0m c:\\Users\\queim\\micromambaenv\\envs\\mobo\\lib\\site-packages\\botorch\\optim\\optimize.py:367: RuntimeWarning: Optimization failed in `gen_candidates_scipy` with the following warning(s):\n",
      "\u001b[36m(worker pid=26380)\u001b[0m [OptimizationWarning('Optimization failed within `scipy.optimize.minimize` with status 2 and message ABNORMAL_TERMINATION_IN_LNSRCH.')]\n",
      "\u001b[36m(worker pid=26380)\u001b[0m Trying again with a new set of initial conditions.\n",
      "\u001b[36m(worker pid=26380)\u001b[0m   warnings.warn(first_warn_msg, RuntimeWarning)\n"
     ]
    },
    {
     "name": "stdout",
     "output_type": "stream",
     "text": [
      "Started problem 6 noise 0.1 budget 10 seed 2, time: 339.92s\n",
      "\u001b[36m(worker pid=10364)\u001b[0m Starting iteration 0, total time: 0.000 seconds.\u001b[32m [repeated 6x across cluster]\u001b[0m\n",
      "Started problem 6 noise 0.1 budget 10 seed 2, time: 341.56s\n"
     ]
    },
    {
     "name": "stderr",
     "output_type": "stream",
     "text": [
      "\u001b[36m(worker pid=13260)\u001b[0m c:\\Users\\queim\\micromambaenv\\envs\\mobo\\lib\\site-packages\\gpytorch\\likelihoods\\noise_models.py:148: NumericalWarning: Very small noise values detected. This will likely lead to numerical instabilities. Rounding small noise values up to 1e-06.\u001b[32m [repeated 5x across cluster]\u001b[0m\n",
      "\u001b[36m(worker pid=13260)\u001b[0m   warnings.warn(\u001b[32m [repeated 5x across cluster]\u001b[0m\n",
      "\u001b[36m(worker pid=26380)\u001b[0m c:\\Users\\queim\\micromambaenv\\envs\\mobo\\lib\\site-packages\\botorch\\optim\\optimize.py:389: RuntimeWarning: Optimization failed on the second try, after generating a new set of initial conditions.\n"
     ]
    },
    {
     "name": "stdout",
     "output_type": "stream",
     "text": [
      "\u001b[36m(worker pid=13260)\u001b[0m New candidate: tensor([[430.7882]], dtype=torch.float64), tensor([12.0632], dtype=torch.float64)\u001b[32m [repeated 7x across cluster]\u001b[0m\n"
     ]
    },
    {
     "name": "stderr",
     "output_type": "stream",
     "text": [
      "\u001b[36m(worker pid=11308)\u001b[0m c:\\Users\\queim\\micromambaenv\\envs\\mobo\\lib\\site-packages\\botorch\\optim\\optimize.py:367: RuntimeWarning: Optimization failed in `gen_candidates_scipy` with the following warning(s):\n",
      "\u001b[36m(worker pid=11308)\u001b[0m [OptimizationWarning('Optimization failed within `scipy.optimize.minimize` with status 2 and message ABNORMAL_TERMINATION_IN_LNSRCH.')]\n",
      "\u001b[36m(worker pid=11308)\u001b[0m Trying again with a new set of initial conditions.\n",
      "\u001b[36m(worker pid=11308)\u001b[0m   warnings.warn(first_warn_msg, RuntimeWarning)\n"
     ]
    },
    {
     "name": "stdout",
     "output_type": "stream",
     "text": [
      "\u001b[36m(worker pid=29676)\u001b[0m Starting iteration 4, total time: 18.488 seconds.\u001b[32m [repeated 10x across cluster]\u001b[0m\n"
     ]
    },
    {
     "name": "stderr",
     "output_type": "stream",
     "text": [
      "\u001b[36m(worker pid=11308)\u001b[0m c:\\Users\\queim\\micromambaenv\\envs\\mobo\\lib\\site-packages\\gpytorch\\likelihoods\\noise_models.py:148: NumericalWarning: Very small noise values detected. This will likely lead to numerical instabilities. Rounding small noise values up to 1e-06.\u001b[32m [repeated 6x across cluster]\u001b[0m\n",
      "\u001b[36m(worker pid=11308)\u001b[0m   warnings.warn(\u001b[32m [repeated 7x across cluster]\u001b[0m\n"
     ]
    },
    {
     "name": "stdout",
     "output_type": "stream",
     "text": [
      "\u001b[36m(worker pid=11308)\u001b[0m New candidate: tensor([[-349.7572]], dtype=torch.float64), tensor([367.4822], dtype=torch.float64)\u001b[32m [repeated 11x across cluster]\u001b[0m\n",
      "\u001b[36m(worker pid=10364)\u001b[0m Starting iteration 3, total time: 13.924 seconds.\u001b[32m [repeated 10x across cluster]\u001b[0m\n",
      "Started problem 6 noise 1.0 budget 10 seed 2, time: 354.14s\n"
     ]
    },
    {
     "name": "stderr",
     "output_type": "stream",
     "text": [
      "\u001b[36m(worker pid=13260)\u001b[0m c:\\Users\\queim\\micromambaenv\\envs\\mobo\\lib\\site-packages\\gpytorch\\likelihoods\\noise_models.py:148: NumericalWarning: Very small noise values detected. This will likely lead to numerical instabilities. Rounding small noise values up to 1e-06.\u001b[32m [repeated 5x across cluster]\u001b[0m\n",
      "\u001b[36m(worker pid=13260)\u001b[0m   warnings.warn(\u001b[32m [repeated 5x across cluster]\u001b[0m\n"
     ]
    },
    {
     "name": "stdout",
     "output_type": "stream",
     "text": [
      "\u001b[36m(worker pid=5304)\u001b[0m New candidate: tensor([[-428.2759]], dtype=torch.float64), tensor([831.1028], dtype=torch.float64)\u001b[32m [repeated 10x across cluster]\u001b[0m\n",
      "\u001b[36m(worker pid=5304)\u001b[0m Starting iteration 5, total time: 21.075 seconds.\u001b[32m [repeated 13x across cluster]\u001b[0m\n",
      "Started problem 6 noise 1.0 budget 10 seed 2, time: 358.25s\n",
      "\u001b[36m(worker pid=5304)\u001b[0m New candidate: tensor([[125.5204]], dtype=torch.float64), tensor([541.7065], dtype=torch.float64)\u001b[32m [repeated 13x across cluster]\u001b[0m\n"
     ]
    },
    {
     "name": "stderr",
     "output_type": "stream",
     "text": [
      "\u001b[36m(worker pid=26380)\u001b[0m c:\\Users\\queim\\micromambaenv\\envs\\mobo\\lib\\site-packages\\gpytorch\\likelihoods\\noise_models.py:148: NumericalWarning: Very small noise values detected. This will likely lead to numerical instabilities. Rounding small noise values up to 1e-06.\u001b[32m [repeated 7x across cluster]\u001b[0m\n",
      "\u001b[36m(worker pid=26380)\u001b[0m   warnings.warn(\u001b[32m [repeated 7x across cluster]\u001b[0m\n"
     ]
    },
    {
     "name": "stdout",
     "output_type": "stream",
     "text": [
      "\u001b[36m(worker pid=13260)\u001b[0m Starting iteration 2, total time: 7.223 seconds.\u001b[32m [repeated 10x across cluster]\u001b[0m\n",
      "\u001b[36m(worker pid=23920)\u001b[0m New candidate: tensor([[67.0226]], dtype=torch.float64), tensor([355.6261], dtype=torch.float64)\u001b[32m [repeated 12x across cluster]\u001b[0m\n"
     ]
    },
    {
     "name": "stderr",
     "output_type": "stream",
     "text": [
      "\u001b[36m(worker pid=10364)\u001b[0m c:\\Users\\queim\\micromambaenv\\envs\\mobo\\lib\\site-packages\\gpytorch\\likelihoods\\noise_models.py:148: NumericalWarning: Very small noise values detected. This will likely lead to numerical instabilities. Rounding small noise values up to 1e-06.\u001b[32m [repeated 6x across cluster]\u001b[0m\n",
      "\u001b[36m(worker pid=10364)\u001b[0m   warnings.warn(\u001b[32m [repeated 6x across cluster]\u001b[0m\n"
     ]
    },
    {
     "name": "stdout",
     "output_type": "stream",
     "text": [
      "\u001b[36m(worker pid=10364)\u001b[0m Starting iteration 7, total time: 29.338 seconds.\u001b[32m [repeated 11x across cluster]\u001b[0m\n",
      "Started problem 8 noise 0.01 budget 10 seed 2, time: 371.70s\n",
      "\u001b[36m(worker pid=10364)\u001b[0m New candidate: tensor([[-296.3666]], dtype=torch.float64), tensor([123.4420], dtype=torch.float64)\u001b[32m [repeated 10x across cluster]\u001b[0m\n"
     ]
    },
    {
     "name": "stderr",
     "output_type": "stream",
     "text": [
      "\u001b[36m(worker pid=26380)\u001b[0m c:\\Users\\queim\\micromambaenv\\envs\\mobo\\lib\\site-packages\\gpytorch\\likelihoods\\noise_models.py:148: NumericalWarning: Very small noise values detected. This will likely lead to numerical instabilities. Rounding small noise values up to 1e-06.\u001b[32m [repeated 8x across cluster]\u001b[0m\n",
      "\u001b[36m(worker pid=26380)\u001b[0m   warnings.warn(\u001b[32m [repeated 8x across cluster]\u001b[0m\n"
     ]
    },
    {
     "name": "stdout",
     "output_type": "stream",
     "text": [
      "\u001b[36m(worker pid=13260)\u001b[0m Starting iteration 5, total time: 17.151 seconds.\u001b[32m [repeated 11x across cluster]\u001b[0m\n",
      "Started problem 8 noise 0.01 budget 10 seed 2, time: 374.80s\n",
      "Started problem 8 noise 0.1 budget 10 seed 2, time: 377.56s\n",
      "\u001b[36m(worker pid=11308)\u001b[0m New candidate: tensor([[386.8818]], dtype=torch.float64), tensor([136.1810], dtype=torch.float64)\u001b[32m [repeated 12x across cluster]\u001b[0m\n",
      "\u001b[36m(worker pid=23920)\u001b[0m Starting iteration 6, total time: 21.760 seconds.\u001b[32m [repeated 10x across cluster]\u001b[0m\n"
     ]
    },
    {
     "name": "stderr",
     "output_type": "stream",
     "text": [
      "\u001b[36m(worker pid=13260)\u001b[0m c:\\Users\\queim\\micromambaenv\\envs\\mobo\\lib\\site-packages\\gpytorch\\likelihoods\\noise_models.py:148: NumericalWarning: Very small noise values detected. This will likely lead to numerical instabilities. Rounding small noise values up to 1e-06.\u001b[32m [repeated 6x across cluster]\u001b[0m\n",
      "\u001b[36m(worker pid=13260)\u001b[0m   warnings.warn(\u001b[32m [repeated 6x across cluster]\u001b[0m\n"
     ]
    },
    {
     "name": "stdout",
     "output_type": "stream",
     "text": [
      "Started problem 8 noise 0.1 budget 10 seed 2, time: 381.39s\n",
      "Started problem 8 noise 1.0 budget 10 seed 2, time: 382.78s\n",
      "\u001b[36m(worker pid=11152)\u001b[0m New candidate: tensor([[-500.]], dtype=torch.float64), tensor([238.8966], dtype=torch.float64)\u001b[32m [repeated 10x across cluster]\u001b[0m\n",
      "Started problem 8 noise 1.0 budget 10 seed 2, time: 384.18s\n",
      "\u001b[36m(worker pid=13260)\u001b[0m Starting iteration 8, total time: 28.449 seconds.\u001b[32m [repeated 10x across cluster]\u001b[0m\n"
     ]
    },
    {
     "name": "stderr",
     "output_type": "stream",
     "text": [
      "\u001b[36m(worker pid=10364)\u001b[0m c:\\Users\\queim\\micromambaenv\\envs\\mobo\\lib\\site-packages\\gpytorch\\likelihoods\\noise_models.py:148: NumericalWarning: Very small noise values detected. This will likely lead to numerical instabilities. Rounding small noise values up to 1e-06.\u001b[32m [repeated 7x across cluster]\u001b[0m\n",
      "\u001b[36m(worker pid=10364)\u001b[0m   warnings.warn(\u001b[32m [repeated 7x across cluster]\u001b[0m\n"
     ]
    },
    {
     "name": "stdout",
     "output_type": "stream",
     "text": [
      "\u001b[36m(worker pid=26380)\u001b[0m New candidate: tensor([[367.1162]], dtype=torch.float64), tensor([306.6477], dtype=torch.float64)\u001b[32m [repeated 10x across cluster]\u001b[0m\n",
      "\u001b[36m(worker pid=29676)\u001b[0m Starting iteration 4, total time: 16.961 seconds.\u001b[32m [repeated 12x across cluster]\u001b[0m\n"
     ]
    },
    {
     "name": "stderr",
     "output_type": "stream",
     "text": [
      "\u001b[36m(worker pid=13260)\u001b[0m c:\\Users\\queim\\micromambaenv\\envs\\mobo\\lib\\site-packages\\gpytorch\\likelihoods\\noise_models.py:148: NumericalWarning: Very small noise values detected. This will likely lead to numerical instabilities. Rounding small noise values up to 1e-06.\u001b[32m [repeated 7x across cluster]\u001b[0m\n",
      "\u001b[36m(worker pid=13260)\u001b[0m   warnings.warn(\u001b[32m [repeated 7x across cluster]\u001b[0m\n"
     ]
    },
    {
     "name": "stdout",
     "output_type": "stream",
     "text": [
      "Started problem 10 noise 0.01 budget 10 seed 2, time: 392.68s\n",
      "\u001b[36m(worker pid=11152)\u001b[0m New candidate: tensor([[367.0235]], dtype=torch.float64), tensor([306.7043], dtype=torch.float64)\u001b[32m [repeated 13x across cluster]\u001b[0m\n",
      "\u001b[36m(worker pid=13260)\u001b[0m Starting iteration 1, total time: 3.617 seconds.\u001b[32m [repeated 11x across cluster]\u001b[0m\n",
      "Started problem 10 noise 0.01 budget 10 seed 2, time: 397.27s\n"
     ]
    },
    {
     "name": "stderr",
     "output_type": "stream",
     "text": [
      "\u001b[36m(worker pid=5304)\u001b[0m c:\\Users\\queim\\micromambaenv\\envs\\mobo\\lib\\site-packages\\gpytorch\\likelihoods\\noise_models.py:148: NumericalWarning: Very small noise values detected. This will likely lead to numerical instabilities. Rounding small noise values up to 1e-06.\u001b[32m [repeated 7x across cluster]\u001b[0m\n",
      "\u001b[36m(worker pid=5304)\u001b[0m   warnings.warn(\u001b[32m [repeated 7x across cluster]\u001b[0m\n"
     ]
    },
    {
     "name": "stdout",
     "output_type": "stream",
     "text": [
      "\u001b[36m(worker pid=13260)\u001b[0m New candidate: tensor([[-325.9922]], dtype=torch.float64), tensor([186.4192], dtype=torch.float64)\u001b[32m [repeated 9x across cluster]\u001b[0m\n",
      "\u001b[36m(worker pid=23920)\u001b[0m Starting iteration 1, total time: 4.216 seconds.\u001b[32m [repeated 11x across cluster]\u001b[0m\n"
     ]
    },
    {
     "name": "stderr",
     "output_type": "stream",
     "text": [
      "\u001b[36m(worker pid=13260)\u001b[0m c:\\Users\\queim\\micromambaenv\\envs\\mobo\\lib\\site-packages\\gpytorch\\likelihoods\\noise_models.py:148: NumericalWarning: Very small noise values detected. This will likely lead to numerical instabilities. Rounding small noise values up to 1e-06.\u001b[32m [repeated 6x across cluster]\u001b[0m\n",
      "\u001b[36m(worker pid=13260)\u001b[0m   warnings.warn(\u001b[32m [repeated 6x across cluster]\u001b[0m\n"
     ]
    },
    {
     "name": "stdout",
     "output_type": "stream",
     "text": [
      "\u001b[36m(worker pid=11152)\u001b[0m New candidate: tensor([[195.3344]], dtype=torch.float64), tensor([226.2150], dtype=torch.float64)\u001b[32m [repeated 11x across cluster]\u001b[0m\n",
      "\u001b[36m(worker pid=10364)\u001b[0m Starting iteration 7, total time: 25.392 seconds.\u001b[32m [repeated 12x across cluster]\u001b[0m\n"
     ]
    },
    {
     "name": "stderr",
     "output_type": "stream",
     "text": [
      "\u001b[36m(worker pid=5304)\u001b[0m c:\\Users\\queim\\micromambaenv\\envs\\mobo\\lib\\site-packages\\gpytorch\\likelihoods\\noise_models.py:148: NumericalWarning: Very small noise values detected. This will likely lead to numerical instabilities. Rounding small noise values up to 1e-06.\u001b[32m [repeated 6x across cluster]\u001b[0m\n",
      "\u001b[36m(worker pid=5304)\u001b[0m   warnings.warn(\u001b[32m [repeated 6x across cluster]\u001b[0m\n"
     ]
    },
    {
     "name": "stdout",
     "output_type": "stream",
     "text": [
      "\u001b[36m(worker pid=26380)\u001b[0m New candidate: tensor([[304.3039]], dtype=torch.float64), tensor([719.1803], dtype=torch.float64)\u001b[32m [repeated 11x across cluster]\u001b[0m\n",
      "\u001b[36m(worker pid=29676)\u001b[0m Starting iteration 9, total time: 39.304 seconds.\u001b[32m [repeated 10x across cluster]\u001b[0m\n"
     ]
    },
    {
     "name": "stderr",
     "output_type": "stream",
     "text": [
      "\u001b[36m(worker pid=13260)\u001b[0m c:\\Users\\queim\\micromambaenv\\envs\\mobo\\lib\\site-packages\\gpytorch\\likelihoods\\noise_models.py:148: NumericalWarning: Very small noise values detected. This will likely lead to numerical instabilities. Rounding small noise values up to 1e-06.\u001b[32m [repeated 5x across cluster]\u001b[0m\n",
      "\u001b[36m(worker pid=13260)\u001b[0m   warnings.warn(\u001b[32m [repeated 5x across cluster]\u001b[0m\n"
     ]
    },
    {
     "name": "stdout",
     "output_type": "stream",
     "text": [
      "Started problem 10 noise 0.1 budget 10 seed 2, time: 416.41s\n",
      "\u001b[36m(worker pid=26380)\u001b[0m New candidate: tensor([[-113.2019]], dtype=torch.float64), tensor([312.8168], dtype=torch.float64)\u001b[32m [repeated 10x across cluster]\u001b[0m\n",
      "\u001b[36m(worker pid=29676)\u001b[0m Starting iteration 0, total time: 0.000 seconds.\u001b[32m [repeated 8x across cluster]\u001b[0m\n",
      "Started problem 10 noise 0.1 budget 10 seed 2, time: 418.20s\n",
      "Started problem 10 noise 1.0 budget 10 seed 2, time: 419.63s\n"
     ]
    },
    {
     "name": "stderr",
     "output_type": "stream",
     "text": [
      "\u001b[36m(worker pid=13260)\u001b[0m c:\\Users\\queim\\micromambaenv\\envs\\mobo\\lib\\site-packages\\gpytorch\\likelihoods\\noise_models.py:148: NumericalWarning: Very small noise values detected. This will likely lead to numerical instabilities. Rounding small noise values up to 1e-06.\u001b[32m [repeated 8x across cluster]\u001b[0m\n",
      "\u001b[36m(worker pid=13260)\u001b[0m   warnings.warn(\u001b[32m [repeated 8x across cluster]\u001b[0m\n"
     ]
    },
    {
     "name": "stdout",
     "output_type": "stream",
     "text": [
      "Started problem 10 noise 1.0 budget 10 seed 2, time: 421.12s\n",
      "0\n",
      "\u001b[36m(worker pid=23920)\u001b[0m New candidate: tensor([[-131.4509]], dtype=torch.float64), tensor([301.6516], dtype=torch.float64)\u001b[32m [repeated 10x across cluster]\u001b[0m\n"
     ]
    },
    {
     "name": "stderr",
     "output_type": "stream",
     "text": [
      "\u001b[36m(worker pid=5304)\u001b[0m c:\\Users\\queim\\micromambaenv\\envs\\mobo\\lib\\site-packages\\botorch\\optim\\optimize.py:367: RuntimeWarning: Optimization failed in `gen_candidates_scipy` with the following warning(s):\n",
      "\u001b[36m(worker pid=5304)\u001b[0m [OptimizationWarning('Optimization failed within `scipy.optimize.minimize` with status 2 and message ABNORMAL_TERMINATION_IN_LNSRCH.')]\n",
      "\u001b[36m(worker pid=5304)\u001b[0m Trying again with a new set of initial conditions.\n",
      "\u001b[36m(worker pid=5304)\u001b[0m   warnings.warn(first_warn_msg, RuntimeWarning)\n"
     ]
    },
    {
     "name": "stdout",
     "output_type": "stream",
     "text": [
      "\u001b[36m(worker pid=11152)\u001b[0m Starting iteration 1, total time: 4.467 seconds.\u001b[32m [repeated 10x across cluster]\u001b[0m\n",
      "0\n"
     ]
    },
    {
     "name": "stderr",
     "output_type": "stream",
     "text": [
      "\u001b[36m(worker pid=10364)\u001b[0m c:\\Users\\queim\\micromambaenv\\envs\\mobo\\lib\\site-packages\\gpytorch\\likelihoods\\noise_models.py:148: NumericalWarning: Very small noise values detected. This will likely lead to numerical instabilities. Rounding small noise values up to 1e-06.\u001b[32m [repeated 2x across cluster]\u001b[0m\n",
      "\u001b[36m(worker pid=10364)\u001b[0m   warnings.warn(\u001b[32m [repeated 2x across cluster]\u001b[0m\n"
     ]
    },
    {
     "name": "stdout",
     "output_type": "stream",
     "text": [
      "\u001b[36m(worker pid=29676)\u001b[0m New candidate: tensor([[351.2055]], dtype=torch.float64), tensor([456.3065], dtype=torch.float64)\u001b[32m [repeated 6x across cluster]\u001b[0m\n",
      "\u001b[36m(worker pid=5304)\u001b[0m Starting iteration 1, total time: 11.225 seconds.\u001b[32m [repeated 6x across cluster]\u001b[0m\n"
     ]
    },
    {
     "name": "stderr",
     "output_type": "stream",
     "text": [
      "\u001b[36m(worker pid=10364)\u001b[0m c:\\Users\\queim\\micromambaenv\\envs\\mobo\\lib\\site-packages\\gpytorch\\likelihoods\\noise_models.py:148: NumericalWarning: Very small noise values detected. This will likely lead to numerical instabilities. Rounding small noise values up to 1e-06.\u001b[32m [repeated 4x across cluster]\u001b[0m\n",
      "\u001b[36m(worker pid=10364)\u001b[0m   warnings.warn(\u001b[32m [repeated 4x across cluster]\u001b[0m\n"
     ]
    },
    {
     "name": "stdout",
     "output_type": "stream",
     "text": [
      "\u001b[36m(worker pid=26380)\u001b[0m New candidate: tensor([[-281.5970]], dtype=torch.float64), tensor([171.6314], dtype=torch.float64)\u001b[32m [repeated 8x across cluster]\u001b[0m\n",
      "\u001b[36m(worker pid=11308)\u001b[0m Starting iteration 2, total time: 9.821 seconds.\u001b[32m [repeated 10x across cluster]\u001b[0m\n",
      "0\n"
     ]
    },
    {
     "name": "stderr",
     "output_type": "stream",
     "text": [
      "\u001b[36m(worker pid=13260)\u001b[0m c:\\Users\\queim\\micromambaenv\\envs\\mobo\\lib\\site-packages\\gpytorch\\likelihoods\\noise_models.py:148: NumericalWarning: Very small noise values detected. This will likely lead to numerical instabilities. Rounding small noise values up to 1e-06.\u001b[32m [repeated 7x across cluster]\u001b[0m\n",
      "\u001b[36m(worker pid=13260)\u001b[0m   warnings.warn(\u001b[32m [repeated 7x across cluster]\u001b[0m\n"
     ]
    },
    {
     "name": "stdout",
     "output_type": "stream",
     "text": [
      "\u001b[36m(worker pid=11308)\u001b[0m New candidate: tensor([[500.]], dtype=torch.float64), tensor([599.5762], dtype=torch.float64)\u001b[32m [repeated 11x across cluster]\u001b[0m\n",
      "\u001b[36m(worker pid=29676)\u001b[0m Starting iteration 5, total time: 22.026 seconds.\u001b[32m [repeated 9x across cluster]\u001b[0m\n",
      "\u001b[36m(worker pid=23920)\u001b[0m New candidate: tensor([[399.0926]], dtype=torch.float64), tensor([58.5408], dtype=torch.float64)\u001b[32m [repeated 10x across cluster]\u001b[0m\n",
      "\u001b[36m(worker pid=29676)\u001b[0m Starting iteration 6, total time: 25.794 seconds.\u001b[32m [repeated 8x across cluster]\u001b[0m\n",
      "0\n"
     ]
    },
    {
     "name": "stderr",
     "output_type": "stream",
     "text": [
      "\u001b[36m(worker pid=13260)\u001b[0m c:\\Users\\queim\\micromambaenv\\envs\\mobo\\lib\\site-packages\\gpytorch\\likelihoods\\noise_models.py:148: NumericalWarning: Very small noise values detected. This will likely lead to numerical instabilities. Rounding small noise values up to 1e-06.\u001b[32m [repeated 6x across cluster]\u001b[0m\n",
      "\u001b[36m(worker pid=13260)\u001b[0m   warnings.warn(\u001b[32m [repeated 6x across cluster]\u001b[0m\n",
      "\u001b[36m(worker pid=5304)\u001b[0m c:\\Users\\queim\\micromambaenv\\envs\\mobo\\lib\\site-packages\\botorch\\optim\\optimize.py:367: RuntimeWarning: Optimization failed in `gen_candidates_scipy` with the following warning(s):\n",
      "\u001b[36m(worker pid=5304)\u001b[0m [OptimizationWarning('Optimization failed within `scipy.optimize.minimize` with status 2 and message ABNORMAL_TERMINATION_IN_LNSRCH.')]\n",
      "\u001b[36m(worker pid=5304)\u001b[0m Trying again with a new set of initial conditions.\n",
      "\u001b[36m(worker pid=5304)\u001b[0m   warnings.warn(first_warn_msg, RuntimeWarning)\n"
     ]
    },
    {
     "name": "stdout",
     "output_type": "stream",
     "text": [
      "\u001b[36m(worker pid=11152)\u001b[0m New candidate: tensor([[40.5840]], dtype=torch.float64), tensor([415.4415], dtype=torch.float64)\u001b[32m [repeated 10x across cluster]\u001b[0m\n",
      "\u001b[36m(worker pid=11152)\u001b[0m Starting iteration 7, total time: 31.019 seconds.\u001b[32m [repeated 11x across cluster]\u001b[0m\n"
     ]
    },
    {
     "name": "stderr",
     "output_type": "stream",
     "text": [
      "\u001b[36m(worker pid=26380)\u001b[0m c:\\Users\\queim\\micromambaenv\\envs\\mobo\\lib\\site-packages\\gpytorch\\likelihoods\\noise_models.py:148: NumericalWarning: Very small noise values detected. This will likely lead to numerical instabilities. Rounding small noise values up to 1e-06.\u001b[32m [repeated 5x across cluster]\u001b[0m\n",
      "\u001b[36m(worker pid=26380)\u001b[0m   warnings.warn(\u001b[32m [repeated 5x across cluster]\u001b[0m\n",
      "\u001b[36m(worker pid=10364)\u001b[0m c:\\Users\\queim\\micromambaenv\\envs\\mobo\\lib\\site-packages\\botorch\\optim\\optimize.py:367: RuntimeWarning: Optimization failed in `gen_candidates_scipy` with the following warning(s):\n",
      "\u001b[36m(worker pid=10364)\u001b[0m [OptimizationWarning('Optimization failed within `scipy.optimize.minimize` with status 2 and message ABNORMAL_TERMINATION_IN_LNSRCH.'), OptimizationWarning('Optimization failed within `scipy.optimize.minimize` with status 2 and message ABNORMAL_TERMINATION_IN_LNSRCH.')]\n",
      "\u001b[36m(worker pid=10364)\u001b[0m Trying again with a new set of initial conditions.\n",
      "\u001b[36m(worker pid=10364)\u001b[0m   warnings.warn(first_warn_msg, RuntimeWarning)\n",
      "\u001b[36m(worker pid=26380)\u001b[0m c:\\Users\\queim\\micromambaenv\\envs\\mobo\\lib\\site-packages\\gpytorch\\likelihoods\\noise_models.py:148: NumericalWarning: Very small noise values detected. This will likely lead to numerical instabilities. Rounding small noise values up to 1e-06.\u001b[32m [repeated 4x across cluster]\u001b[0m\n",
      "\u001b[36m(worker pid=26380)\u001b[0m   warnings.warn(\u001b[32m [repeated 4x across cluster]\u001b[0m\n"
     ]
    },
    {
     "name": "stdout",
     "output_type": "stream",
     "text": [
      "\u001b[36m(worker pid=13260)\u001b[0m New candidate: tensor([[413.1906]], dtype=torch.float64), tensor([7.6418], dtype=torch.float64)\u001b[32m [repeated 11x across cluster]\u001b[0m\n",
      "\u001b[36m(worker pid=13260)\u001b[0m Starting iteration 5, total time: 19.580 seconds.\u001b[32m [repeated 11x across cluster]\u001b[0m\n",
      "0\n"
     ]
    },
    {
     "name": "stderr",
     "output_type": "stream",
     "text": [
      "\u001b[36m(worker pid=26380)\u001b[0m [OptimizationWarning('Optimization failed within `scipy.optimize.minimize` with status 2 and message ABNORMAL_TERMINATION_IN_LNSRCH.')]\n",
      "\u001b[36m(worker pid=10364)\u001b[0m c:\\Users\\queim\\micromambaenv\\envs\\mobo\\lib\\site-packages\\botorch\\optim\\optimize.py:389: RuntimeWarning: Optimization failed on the second try, after generating a new set of initial conditions.\n"
     ]
    },
    {
     "name": "stdout",
     "output_type": "stream",
     "text": [
      "0\n",
      "\u001b[36m(worker pid=11308)\u001b[0m New candidate: tensor([[-94.1265]], dtype=torch.float64), tensor([393.3504], dtype=torch.float64)\u001b[32m [repeated 11x across cluster]\u001b[0m\n",
      "\u001b[36m(worker pid=11308)\u001b[0m Starting iteration 8, total time: 37.378 seconds.\u001b[32m [repeated 10x across cluster]\u001b[0m\n"
     ]
    },
    {
     "name": "stderr",
     "output_type": "stream",
     "text": [
      "\u001b[36m(worker pid=26380)\u001b[0m c:\\Users\\queim\\micromambaenv\\envs\\mobo\\lib\\site-packages\\botorch\\optim\\optimize.py:367: RuntimeWarning: Optimization failed in `gen_candidates_scipy` with the following warning(s):\n",
      "\u001b[36m(worker pid=26380)\u001b[0m Trying again with a new set of initial conditions.\n",
      "\u001b[36m(worker pid=26380)\u001b[0m   warnings.warn(first_warn_msg, RuntimeWarning)\n",
      "\u001b[36m(worker pid=26380)\u001b[0m c:\\Users\\queim\\micromambaenv\\envs\\mobo\\lib\\site-packages\\gpytorch\\likelihoods\\noise_models.py:148: NumericalWarning: Very small noise values detected. This will likely lead to numerical instabilities. Rounding small noise values up to 1e-06.\u001b[32m [repeated 7x across cluster]\u001b[0m\n",
      "\u001b[36m(worker pid=26380)\u001b[0m   warnings.warn(\u001b[32m [repeated 8x across cluster]\u001b[0m\n",
      "\u001b[36m(worker pid=10364)\u001b[0m c:\\Users\\queim\\micromambaenv\\envs\\mobo\\lib\\site-packages\\botorch\\optim\\optimize.py:367: RuntimeWarning: Optimization failed in `gen_candidates_scipy` with the following warning(s):\n",
      "\u001b[36m(worker pid=10364)\u001b[0m Trying again with a new set of initial conditions.\n",
      "\u001b[36m(worker pid=10364)\u001b[0m   warnings.warn(first_warn_msg, RuntimeWarning)\n",
      "\u001b[36m(worker pid=10364)\u001b[0m [OptimizationWarning('Optimization failed within `scipy.optimize.minimize` with status 2 and message ABNORMAL_TERMINATION_IN_LNSRCH.')]\n",
      "\u001b[36m(worker pid=11308)\u001b[0m [NumericalWarning('A not p.d., added jitter of 1.0e-08 to the diagonal'), NumericalWarning('A not p.d., added jitter of 1.0e-08 to the diagonal'), NumericalWarning('A not p.d., added jitter of 1.0e-08 to the diagonal'), NumericalWarning('A not p.d., added jitter of 1.0e-08 to the diagonal'), OptimizationWarning('Optimization failed within `scipy.optimize.minimize` with status 2 and message ABNORMAL_TERMINATION_IN_LNSRCH.'), NumericalWarning('A not p.d., added jitter of 1.0e-08 to the diagonal'), NumericalWarning('A not p.d., added jitter of 1.0e-08 to the diagonal'), NumericalWarning('A not p.d., added jitter of 1.0e-08 to the diagonal'), NumericalWarning('A not p.d., added jitter of 1.0e-08 to the diagonal')]\n"
     ]
    },
    {
     "name": "stdout",
     "output_type": "stream",
     "text": [
      "0\n",
      "\u001b[36m(worker pid=29676)\u001b[0m New candidate: tensor([[179.8027]], dtype=torch.float64), tensor([287.0650], dtype=torch.float64)\u001b[32m [repeated 8x across cluster]\u001b[0m\n",
      "\u001b[36m(worker pid=29676)\u001b[0m Starting iteration 2, total time: 7.422 seconds.\u001b[32m [repeated 7x across cluster]\u001b[0m\n",
      "0\n"
     ]
    },
    {
     "name": "stderr",
     "output_type": "stream",
     "text": [
      "\u001b[36m(worker pid=10364)\u001b[0m [OptimizationWarning('Optimization failed within `scipy.optimize.minimize` with status 2 and message ABNORMAL_TERMINATION_IN_LNSRCH.')]\n",
      "\u001b[36m(worker pid=13260)\u001b[0m c:\\Users\\queim\\micromambaenv\\envs\\mobo\\lib\\site-packages\\gpytorch\\likelihoods\\noise_models.py:148: NumericalWarning: Very small noise values detected. This will likely lead to numerical instabilities. Rounding small noise values up to 1e-06.\u001b[32m [repeated 8x across cluster]\u001b[0m\n",
      "\u001b[36m(worker pid=13260)\u001b[0m   warnings.warn(\u001b[32m [repeated 8x across cluster]\u001b[0m\n",
      "\u001b[36m(worker pid=10364)\u001b[0m c:\\Users\\queim\\micromambaenv\\envs\\mobo\\lib\\site-packages\\botorch\\optim\\optimize.py:367: RuntimeWarning: Optimization failed in `gen_candidates_scipy` with the following warning(s):\u001b[32m [repeated 2x across cluster]\u001b[0m\n",
      "\u001b[36m(worker pid=10364)\u001b[0m Trying again with a new set of initial conditions.\u001b[32m [repeated 2x across cluster]\u001b[0m\n",
      "\u001b[36m(worker pid=10364)\u001b[0m   warnings.warn(first_warn_msg, RuntimeWarning)\u001b[32m [repeated 2x across cluster]\u001b[0m\n"
     ]
    },
    {
     "name": "stdout",
     "output_type": "stream",
     "text": [
      "0\n",
      "\u001b[36m(worker pid=13260)\u001b[0m New candidate: tensor([[420.9739]], dtype=torch.float64), tensor([-0.0748], dtype=torch.float64)\u001b[32m [repeated 9x across cluster]\u001b[0m\n",
      "\u001b[36m(worker pid=13260)\u001b[0m Starting iteration 9, total time: 35.767 seconds.\u001b[32m [repeated 7x across cluster]\u001b[0m\n",
      "0\n"
     ]
    },
    {
     "name": "stderr",
     "output_type": "stream",
     "text": [
      "\u001b[36m(worker pid=13260)\u001b[0m [OptimizationWarning('Optimization failed within `scipy.optimize.minimize` with status 2 and message ABNORMAL_TERMINATION_IN_LNSRCH.')]\n",
      "\u001b[36m(worker pid=13260)\u001b[0m c:\\Users\\queim\\micromambaenv\\envs\\mobo\\lib\\site-packages\\gpytorch\\likelihoods\\noise_models.py:148: NumericalWarning: Very small noise values detected. This will likely lead to numerical instabilities. Rounding small noise values up to 1e-06.\u001b[32m [repeated 6x across cluster]\u001b[0m\n",
      "\u001b[36m(worker pid=13260)\u001b[0m   warnings.warn(\u001b[32m [repeated 6x across cluster]\u001b[0m\n",
      "\u001b[36m(worker pid=13260)\u001b[0m c:\\Users\\queim\\micromambaenv\\envs\\mobo\\lib\\site-packages\\botorch\\optim\\optimize.py:367: RuntimeWarning: Optimization failed in `gen_candidates_scipy` with the following warning(s):\n",
      "\u001b[36m(worker pid=13260)\u001b[0m Trying again with a new set of initial conditions.\n",
      "\u001b[36m(worker pid=13260)\u001b[0m   warnings.warn(first_warn_msg, RuntimeWarning)\n"
     ]
    },
    {
     "name": "stdout",
     "output_type": "stream",
     "text": [
      "0\n",
      "\u001b[36m(worker pid=23920)\u001b[0m New candidate: tensor([[407.8553]], dtype=torch.float64), tensor([21.4103], dtype=torch.float64)\u001b[32m [repeated 8x across cluster]\u001b[0m\n",
      "\u001b[36m(worker pid=29676)\u001b[0m Starting iteration 6, total time: 17.385 seconds.\u001b[32m [repeated 5x across cluster]\u001b[0m\n",
      "0\n"
     ]
    },
    {
     "name": "stderr",
     "output_type": "stream",
     "text": [
      "\u001b[36m(worker pid=29676)\u001b[0m c:\\Users\\queim\\micromambaenv\\envs\\mobo\\lib\\site-packages\\botorch\\optim\\optimize.py:367: RuntimeWarning: Optimization failed in `gen_candidates_scipy` with the following warning(s):\n",
      "\u001b[36m(worker pid=29676)\u001b[0m [OptimizationWarning('Optimization failed within `scipy.optimize.minimize` with status 2 and message ABNORMAL_TERMINATION_IN_LNSRCH.')]\n",
      "\u001b[36m(worker pid=29676)\u001b[0m Trying again with a new set of initial conditions.\n",
      "\u001b[36m(worker pid=29676)\u001b[0m   warnings.warn(first_warn_msg, RuntimeWarning)\n",
      "\u001b[36m(worker pid=29676)\u001b[0m c:\\Users\\queim\\micromambaenv\\envs\\mobo\\lib\\site-packages\\gpytorch\\likelihoods\\noise_models.py:148: NumericalWarning: Very small noise values detected. This will likely lead to numerical instabilities. Rounding small noise values up to 1e-06.\u001b[32m [repeated 3x across cluster]\u001b[0m\n",
      "\u001b[36m(worker pid=29676)\u001b[0m   warnings.warn(\u001b[32m [repeated 3x across cluster]\u001b[0m\n"
     ]
    },
    {
     "name": "stdout",
     "output_type": "stream",
     "text": [
      "\u001b[36m(worker pid=29676)\u001b[0m New candidate: tensor([[421.8449]], dtype=torch.float64), tensor([1.2719], dtype=torch.float64)\u001b[32m [repeated 2x across cluster]\u001b[0m\n",
      "\u001b[36m(worker pid=29676)\u001b[0m Starting iteration 8, total time: 24.529 seconds.\u001b[32m [repeated 2x across cluster]\u001b[0m\n"
     ]
    },
    {
     "name": "stderr",
     "output_type": "stream",
     "text": [
      "\u001b[36m(worker pid=29676)\u001b[0m c:\\Users\\queim\\micromambaenv\\envs\\mobo\\lib\\site-packages\\botorch\\optim\\optimize.py:367: RuntimeWarning: Optimization failed in `gen_candidates_scipy` with the following warning(s):\n",
      "\u001b[36m(worker pid=29676)\u001b[0m [OptimizationWarning('Optimization failed within `scipy.optimize.minimize` with status 2 and message ABNORMAL_TERMINATION_IN_LNSRCH.')]\n",
      "\u001b[36m(worker pid=29676)\u001b[0m Trying again with a new set of initial conditions.\n",
      "\u001b[36m(worker pid=29676)\u001b[0m   warnings.warn(first_warn_msg, RuntimeWarning)\n",
      "\u001b[36m(worker pid=29676)\u001b[0m c:\\Users\\queim\\micromambaenv\\envs\\mobo\\lib\\site-packages\\gpytorch\\likelihoods\\noise_models.py:148: NumericalWarning: Very small noise values detected. This will likely lead to numerical instabilities. Rounding small noise values up to 1e-06.\u001b[32m [repeated 2x across cluster]\u001b[0m\n",
      "\u001b[36m(worker pid=29676)\u001b[0m   warnings.warn(\u001b[32m [repeated 2x across cluster]\u001b[0m\n",
      "\u001b[36m(worker pid=29676)\u001b[0m c:\\Users\\queim\\micromambaenv\\envs\\mobo\\lib\\site-packages\\botorch\\optim\\optimize.py:367: RuntimeWarning: Optimization failed in `gen_candidates_scipy` with the following warning(s):\n",
      "\u001b[36m(worker pid=29676)\u001b[0m [OptimizationWarning('Optimization failed within `scipy.optimize.minimize` with status 2 and message ABNORMAL_TERMINATION_IN_LNSRCH.'), OptimizationWarning('Optimization failed within `scipy.optimize.minimize` with status 2 and message ABNORMAL_TERMINATION_IN_LNSRCH.')]\n",
      "\u001b[36m(worker pid=29676)\u001b[0m Trying again with a new set of initial conditions.\n",
      "\u001b[36m(worker pid=29676)\u001b[0m   warnings.warn(first_warn_msg, RuntimeWarning)\n"
     ]
    },
    {
     "name": "stdout",
     "output_type": "stream",
     "text": [
      "\u001b[36m(worker pid=29676)\u001b[0m New candidate: tensor([[422.5996]], dtype=torch.float64), tensor([0.3448], dtype=torch.float64)\u001b[32m [repeated 2x across cluster]\u001b[0m\n",
      "\u001b[36m(worker pid=29676)\u001b[0m Starting iteration 9, total time: 27.854 seconds.\n",
      "0\n",
      "all experiments done, time: 490.79s\n"
     ]
    }
   ],
   "source": [
    "import torch\n",
    "import pandas as pd\n",
    "from run_grid_experiments import run_grid_experiments\n",
    "\n",
    "seeds = [0,1,2]\n",
    "n_inits = [2, 4, 6 ,8, 10]\n",
    "noise_levels = [0.01, 0.1, 1.]\n",
    "# budgets = [10, 20, 50]\n",
    "noise_bools = [True, False]\n",
    "budget = 10\n",
    "\n",
    "run_grid_experiments(seeds, n_inits, noise_levels, noise_bools, budget)\n"
   ]
  },
  {
   "cell_type": "code",
   "execution_count": 41,
   "metadata": {},
   "outputs": [
    {
     "name": "stderr",
     "output_type": "stream",
     "text": [
      "C:\\Users\\queim\\AppData\\Local\\Temp\\ipykernel_15664\\3020836113.py:10: FutureWarning: The behavior of DataFrame concatenation with empty or all-NA entries is deprecated. In a future version, this will no longer exclude empty or all-NA columns when determining the result dtypes. To retain the old behavior, exclude the relevant entries before the concat operation.\n",
      "  df = pd.concat([df, pd.DataFrame({\"n_init\": [n_init], \"noise_level\": [noise_level], \"seed\": [seed], \"noise_bool\": [noise_bool], \"best\": [sliding_min[-1].item()]})])\n"
     ]
    },
    {
     "data": {
      "text/html": [
       "<div>\n",
       "<style scoped>\n",
       "    .dataframe tbody tr th:only-of-type {\n",
       "        vertical-align: middle;\n",
       "    }\n",
       "\n",
       "    .dataframe tbody tr th {\n",
       "        vertical-align: top;\n",
       "    }\n",
       "\n",
       "    .dataframe thead th {\n",
       "        text-align: right;\n",
       "    }\n",
       "</style>\n",
       "<table border=\"1\" class=\"dataframe\">\n",
       "  <thead>\n",
       "    <tr style=\"text-align: right;\">\n",
       "      <th></th>\n",
       "      <th>n_init</th>\n",
       "      <th>noise_level</th>\n",
       "      <th>seed</th>\n",
       "      <th>noise_bool</th>\n",
       "      <th>best</th>\n",
       "    </tr>\n",
       "  </thead>\n",
       "  <tbody>\n",
       "    <tr>\n",
       "      <th>0</th>\n",
       "      <td>2</td>\n",
       "      <td>0.01</td>\n",
       "      <td>0</td>\n",
       "      <td>True</td>\n",
       "      <td>238.403534</td>\n",
       "    </tr>\n",
       "    <tr>\n",
       "      <th>0</th>\n",
       "      <td>2</td>\n",
       "      <td>0.01</td>\n",
       "      <td>1</td>\n",
       "      <td>True</td>\n",
       "      <td>42.152557</td>\n",
       "    </tr>\n",
       "    <tr>\n",
       "      <th>0</th>\n",
       "      <td>2</td>\n",
       "      <td>0.01</td>\n",
       "      <td>2</td>\n",
       "      <td>True</td>\n",
       "      <td>118.625458</td>\n",
       "    </tr>\n",
       "    <tr>\n",
       "      <th>0</th>\n",
       "      <td>2</td>\n",
       "      <td>0.10</td>\n",
       "      <td>0</td>\n",
       "      <td>True</td>\n",
       "      <td>238.491608</td>\n",
       "    </tr>\n",
       "    <tr>\n",
       "      <th>0</th>\n",
       "      <td>2</td>\n",
       "      <td>0.10</td>\n",
       "      <td>1</td>\n",
       "      <td>True</td>\n",
       "      <td>42.097500</td>\n",
       "    </tr>\n",
       "    <tr>\n",
       "      <th>...</th>\n",
       "      <td>...</td>\n",
       "      <td>...</td>\n",
       "      <td>...</td>\n",
       "      <td>...</td>\n",
       "      <td>...</td>\n",
       "    </tr>\n",
       "    <tr>\n",
       "      <th>0</th>\n",
       "      <td>10</td>\n",
       "      <td>0.10</td>\n",
       "      <td>1</td>\n",
       "      <td>False</td>\n",
       "      <td>-0.108989</td>\n",
       "    </tr>\n",
       "    <tr>\n",
       "      <th>0</th>\n",
       "      <td>10</td>\n",
       "      <td>0.10</td>\n",
       "      <td>2</td>\n",
       "      <td>False</td>\n",
       "      <td>-0.074771</td>\n",
       "    </tr>\n",
       "    <tr>\n",
       "      <th>0</th>\n",
       "      <td>10</td>\n",
       "      <td>1.00</td>\n",
       "      <td>0</td>\n",
       "      <td>False</td>\n",
       "      <td>-0.549255</td>\n",
       "    </tr>\n",
       "    <tr>\n",
       "      <th>0</th>\n",
       "      <td>10</td>\n",
       "      <td>1.00</td>\n",
       "      <td>1</td>\n",
       "      <td>False</td>\n",
       "      <td>-1.931614</td>\n",
       "    </tr>\n",
       "    <tr>\n",
       "      <th>0</th>\n",
       "      <td>10</td>\n",
       "      <td>1.00</td>\n",
       "      <td>2</td>\n",
       "      <td>False</td>\n",
       "      <td>-0.017878</td>\n",
       "    </tr>\n",
       "  </tbody>\n",
       "</table>\n",
       "<p>90 rows × 5 columns</p>\n",
       "</div>"
      ],
      "text/plain": [
       "   n_init  noise_level seed noise_bool        best\n",
       "0       2         0.01    0       True  238.403534\n",
       "0       2         0.01    1       True   42.152557\n",
       "0       2         0.01    2       True  118.625458\n",
       "0       2         0.10    0       True  238.491608\n",
       "0       2         0.10    1       True   42.097500\n",
       "..    ...          ...  ...        ...         ...\n",
       "0      10         0.10    1      False   -0.108989\n",
       "0      10         0.10    2      False   -0.074771\n",
       "0      10         1.00    0      False   -0.549255\n",
       "0      10         1.00    1      False   -1.931614\n",
       "0      10         1.00    2      False   -0.017878\n",
       "\n",
       "[90 rows x 5 columns]"
      ]
     },
     "execution_count": 41,
     "metadata": {},
     "output_type": "execute_result"
    }
   ],
   "source": [
    "df = pd.DataFrame(columns=[\"n_init\", \"noise_level\", \"seed\", \"noise_bool\", \"best\"])\n",
    "for noise_bool in noise_bools:\n",
    "    for n_init in n_inits:\n",
    "        for noise_level in noise_levels:\n",
    "            for seed in seeds:\n",
    "                X, Y, model = torch.load(f\"results/Schwe_n_init_{n_init}_noiselvl_{noise_level}_budget_{budget}_seed_{seed}_noise_{noise_bool}.pt\")\n",
    "                sliding_min = torch.zeros(Y.shape[0])\n",
    "                for i in range(Y.shape[0]):\n",
    "                    sliding_min[i] = Y[:i+1].min().item()\n",
    "                df = pd.concat([df, pd.DataFrame({\"n_init\": [n_init], \"noise_level\": [noise_level], \"seed\": [seed], \"noise_bool\": [noise_bool], \"best\": [sliding_min[-1].item()]})])\n",
    "                \n",
    "df                "
   ]
  },
  {
   "cell_type": "code",
   "execution_count": 42,
   "metadata": {},
   "outputs": [
    {
     "data": {
      "text/html": [
       "<style type=\"text/css\">\n",
       "#T_56ce6_row0_col0, #T_56ce6_row0_col1, #T_56ce6_row0_col2, #T_56ce6_row0_col3, #T_56ce6_row0_col4, #T_56ce6_row0_col5 {\n",
       "  background-color: #fde725;\n",
       "  color: #000000;\n",
       "}\n",
       "#T_56ce6_row1_col0, #T_56ce6_row1_col2, #T_56ce6_row1_col3, #T_56ce6_row1_col5, #T_56ce6_row2_col1, #T_56ce6_row3_col4 {\n",
       "  background-color: #440154;\n",
       "  color: #f1f1f1;\n",
       "}\n",
       "#T_56ce6_row1_col1 {\n",
       "  background-color: #2d708e;\n",
       "  color: #f1f1f1;\n",
       "}\n",
       "#T_56ce6_row1_col4 {\n",
       "  background-color: #e2e418;\n",
       "  color: #000000;\n",
       "}\n",
       "#T_56ce6_row2_col0 {\n",
       "  background-color: #3e4a89;\n",
       "  color: #f1f1f1;\n",
       "}\n",
       "#T_56ce6_row2_col2 {\n",
       "  background-color: #3e4989;\n",
       "  color: #f1f1f1;\n",
       "}\n",
       "#T_56ce6_row2_col3, #T_56ce6_row3_col2 {\n",
       "  background-color: #287c8e;\n",
       "  color: #f1f1f1;\n",
       "}\n",
       "#T_56ce6_row2_col4 {\n",
       "  background-color: #355f8d;\n",
       "  color: #f1f1f1;\n",
       "}\n",
       "#T_56ce6_row2_col5 {\n",
       "  background-color: #297a8e;\n",
       "  color: #f1f1f1;\n",
       "}\n",
       "#T_56ce6_row3_col0 {\n",
       "  background-color: #2a788e;\n",
       "  color: #f1f1f1;\n",
       "}\n",
       "#T_56ce6_row3_col1 {\n",
       "  background-color: #3e4c8a;\n",
       "  color: #f1f1f1;\n",
       "}\n",
       "#T_56ce6_row3_col3 {\n",
       "  background-color: #443983;\n",
       "  color: #f1f1f1;\n",
       "}\n",
       "#T_56ce6_row3_col5 {\n",
       "  background-color: #46337f;\n",
       "  color: #f1f1f1;\n",
       "}\n",
       "#T_56ce6_row4_col0, #T_56ce6_row4_col2, #T_56ce6_row4_col5 {\n",
       "  background-color: #365c8d;\n",
       "  color: #f1f1f1;\n",
       "}\n",
       "#T_56ce6_row4_col1 {\n",
       "  background-color: #481b6d;\n",
       "  color: #f1f1f1;\n",
       "}\n",
       "#T_56ce6_row4_col3 {\n",
       "  background-color: #34608d;\n",
       "  color: #f1f1f1;\n",
       "}\n",
       "#T_56ce6_row4_col4 {\n",
       "  background-color: #297b8e;\n",
       "  color: #f1f1f1;\n",
       "}\n",
       "</style>\n",
       "<table id=\"T_56ce6\">\n",
       "  <thead>\n",
       "    <tr>\n",
       "      <th class=\"blank level0\" >&nbsp;</th>\n",
       "      <th id=\"T_56ce6_level0_col0\" class=\"col_heading level0 col0\" colspan=\"6\">best</th>\n",
       "    </tr>\n",
       "    <tr>\n",
       "      <th class=\"blank level1\" >&nbsp;</th>\n",
       "      <th id=\"T_56ce6_level1_col0\" class=\"col_heading level1 col0\" colspan=\"3\">mean</th>\n",
       "      <th id=\"T_56ce6_level1_col3\" class=\"col_heading level1 col3\" colspan=\"3\">std</th>\n",
       "    </tr>\n",
       "    <tr>\n",
       "      <th class=\"index_name level2\" >noise_level</th>\n",
       "      <th id=\"T_56ce6_level2_col0\" class=\"col_heading level2 col0\" >0.010000</th>\n",
       "      <th id=\"T_56ce6_level2_col1\" class=\"col_heading level2 col1\" >0.100000</th>\n",
       "      <th id=\"T_56ce6_level2_col2\" class=\"col_heading level2 col2\" >1.000000</th>\n",
       "      <th id=\"T_56ce6_level2_col3\" class=\"col_heading level2 col3\" >0.010000</th>\n",
       "      <th id=\"T_56ce6_level2_col4\" class=\"col_heading level2 col4\" >0.100000</th>\n",
       "      <th id=\"T_56ce6_level2_col5\" class=\"col_heading level2 col5\" >1.000000</th>\n",
       "    </tr>\n",
       "    <tr>\n",
       "      <th class=\"index_name level0\" >n_init</th>\n",
       "      <th class=\"blank col0\" >&nbsp;</th>\n",
       "      <th class=\"blank col1\" >&nbsp;</th>\n",
       "      <th class=\"blank col2\" >&nbsp;</th>\n",
       "      <th class=\"blank col3\" >&nbsp;</th>\n",
       "      <th class=\"blank col4\" >&nbsp;</th>\n",
       "      <th class=\"blank col5\" >&nbsp;</th>\n",
       "    </tr>\n",
       "  </thead>\n",
       "  <tbody>\n",
       "    <tr>\n",
       "      <th id=\"T_56ce6_level0_row0\" class=\"row_heading level0 row0\" >2</th>\n",
       "      <td id=\"T_56ce6_row0_col0\" class=\"data row0 col0\" >133.060516</td>\n",
       "      <td id=\"T_56ce6_row0_col1\" class=\"data row0 col1\" >133.059017</td>\n",
       "      <td id=\"T_56ce6_row0_col2\" class=\"data row0 col2\" >133.044090</td>\n",
       "      <td id=\"T_56ce6_row0_col3\" class=\"data row0 col3\" >98.918601</td>\n",
       "      <td id=\"T_56ce6_row0_col4\" class=\"data row0 col4\" >98.993537</td>\n",
       "      <td id=\"T_56ce6_row0_col5\" class=\"data row0 col5\" >99.743231</td>\n",
       "    </tr>\n",
       "    <tr>\n",
       "      <th id=\"T_56ce6_level0_row1\" class=\"row_heading level0 row1\" >4</th>\n",
       "      <td id=\"T_56ce6_row1_col0\" class=\"data row1 col0\" >23.649794</td>\n",
       "      <td id=\"T_56ce6_row1_col1\" class=\"data row1 col1\" >79.130511</td>\n",
       "      <td id=\"T_56ce6_row1_col2\" class=\"data row1 col2\" >23.141135</td>\n",
       "      <td id=\"T_56ce6_row1_col3\" class=\"data row1 col3\" >17.577673</td>\n",
       "      <td id=\"T_56ce6_row1_col4\" class=\"data row1 col4\" >96.076976</td>\n",
       "      <td id=\"T_56ce6_row1_col5\" class=\"data row1 col5\" >18.302944</td>\n",
       "    </tr>\n",
       "    <tr>\n",
       "      <th id=\"T_56ce6_level0_row2\" class=\"row_heading level0 row2\" >6</th>\n",
       "      <td id=\"T_56ce6_row2_col0\" class=\"data row2 col0\" >48.190267</td>\n",
       "      <td id=\"T_56ce6_row2_col1\" class=\"data row2 col1\" >48.110093</td>\n",
       "      <td id=\"T_56ce6_row2_col2\" class=\"data row2 col2\" >47.318253</td>\n",
       "      <td id=\"T_56ce6_row2_col3\" class=\"data row2 col3\" >51.479015</td>\n",
       "      <td id=\"T_56ce6_row2_col4\" class=\"data row2 col4\" >51.481557</td>\n",
       "      <td id=\"T_56ce6_row2_col5\" class=\"data row2 col5\" >51.493613</td>\n",
       "    </tr>\n",
       "    <tr>\n",
       "      <th id=\"T_56ce6_level0_row3\" class=\"row_heading level0 row3\" >8</th>\n",
       "      <td id=\"T_56ce6_row3_col0\" class=\"data row3 col0\" >67.550369</td>\n",
       "      <td id=\"T_56ce6_row3_col1\" class=\"data row3 col1\" >67.657415</td>\n",
       "      <td id=\"T_56ce6_row3_col2\" class=\"data row3 col2\" >68.743473</td>\n",
       "      <td id=\"T_56ce6_row3_col3\" class=\"data row3 col3\" >31.231584</td>\n",
       "      <td id=\"T_56ce6_row3_col4\" class=\"data row3 col4\" >31.135856</td>\n",
       "      <td id=\"T_56ce6_row3_col5\" class=\"data row3 col5\" >30.332036</td>\n",
       "    </tr>\n",
       "    <tr>\n",
       "      <th id=\"T_56ce6_level0_row4\" class=\"row_heading level0 row4\" >10</th>\n",
       "      <td id=\"T_56ce6_row4_col0\" class=\"data row4 col0\" >55.202637</td>\n",
       "      <td id=\"T_56ce6_row4_col1\" class=\"data row4 col1\" >54.272648</td>\n",
       "      <td id=\"T_56ce6_row4_col2\" class=\"data row4 col2\" >54.803856</td>\n",
       "      <td id=\"T_56ce6_row4_col3\" class=\"data row4 col3\" >42.234441</td>\n",
       "      <td id=\"T_56ce6_row4_col4\" class=\"data row4 col4\" >59.174685</td>\n",
       "      <td id=\"T_56ce6_row4_col5\" class=\"data row4 col5\" >41.636230</td>\n",
       "    </tr>\n",
       "  </tbody>\n",
       "</table>\n"
      ],
      "text/plain": [
       "<pandas.io.formats.style.Styler at 0x2ac05f4cc70>"
      ]
     },
     "metadata": {},
     "output_type": "display_data"
    },
    {
     "data": {
      "text/html": [
       "<style type=\"text/css\">\n",
       "#T_c6579_row0_col0, #T_c6579_row0_col1 {\n",
       "  background-color: #d5e21a;\n",
       "  color: #000000;\n",
       "}\n",
       "#T_c6579_row0_col2 {\n",
       "  background-color: #d0e11c;\n",
       "  color: #000000;\n",
       "}\n",
       "#T_c6579_row0_col3, #T_c6579_row0_col4, #T_c6579_row0_col5, #T_c6579_row1_col0, #T_c6579_row1_col1, #T_c6579_row1_col2 {\n",
       "  background-color: #fde725;\n",
       "  color: #000000;\n",
       "}\n",
       "#T_c6579_row1_col3, #T_c6579_row1_col4 {\n",
       "  background-color: #1f9a8a;\n",
       "  color: #f1f1f1;\n",
       "}\n",
       "#T_c6579_row1_col5 {\n",
       "  background-color: #1f978b;\n",
       "  color: #f1f1f1;\n",
       "}\n",
       "#T_c6579_row2_col0, #T_c6579_row2_col1, #T_c6579_row2_col3, #T_c6579_row2_col4, #T_c6579_row2_col5, #T_c6579_row3_col0, #T_c6579_row3_col1, #T_c6579_row3_col3, #T_c6579_row3_col4, #T_c6579_row3_col5, #T_c6579_row4_col0, #T_c6579_row4_col1, #T_c6579_row4_col2, #T_c6579_row4_col3, #T_c6579_row4_col4, #T_c6579_row4_col5 {\n",
       "  background-color: #440154;\n",
       "  color: #f1f1f1;\n",
       "}\n",
       "#T_c6579_row2_col2, #T_c6579_row3_col2 {\n",
       "  background-color: #440256;\n",
       "  color: #f1f1f1;\n",
       "}\n",
       "</style>\n",
       "<table id=\"T_c6579\">\n",
       "  <thead>\n",
       "    <tr>\n",
       "      <th class=\"blank level0\" >&nbsp;</th>\n",
       "      <th id=\"T_c6579_level0_col0\" class=\"col_heading level0 col0\" colspan=\"6\">best</th>\n",
       "    </tr>\n",
       "    <tr>\n",
       "      <th class=\"blank level1\" >&nbsp;</th>\n",
       "      <th id=\"T_c6579_level1_col0\" class=\"col_heading level1 col0\" colspan=\"3\">mean</th>\n",
       "      <th id=\"T_c6579_level1_col3\" class=\"col_heading level1 col3\" colspan=\"3\">std</th>\n",
       "    </tr>\n",
       "    <tr>\n",
       "      <th class=\"index_name level2\" >noise_level</th>\n",
       "      <th id=\"T_c6579_level2_col0\" class=\"col_heading level2 col0\" >0.010000</th>\n",
       "      <th id=\"T_c6579_level2_col1\" class=\"col_heading level2 col1\" >0.100000</th>\n",
       "      <th id=\"T_c6579_level2_col2\" class=\"col_heading level2 col2\" >1.000000</th>\n",
       "      <th id=\"T_c6579_level2_col3\" class=\"col_heading level2 col3\" >0.010000</th>\n",
       "      <th id=\"T_c6579_level2_col4\" class=\"col_heading level2 col4\" >0.100000</th>\n",
       "      <th id=\"T_c6579_level2_col5\" class=\"col_heading level2 col5\" >1.000000</th>\n",
       "    </tr>\n",
       "    <tr>\n",
       "      <th class=\"index_name level0\" >n_init</th>\n",
       "      <th class=\"blank col0\" >&nbsp;</th>\n",
       "      <th class=\"blank col1\" >&nbsp;</th>\n",
       "      <th class=\"blank col2\" >&nbsp;</th>\n",
       "      <th class=\"blank col3\" >&nbsp;</th>\n",
       "      <th class=\"blank col4\" >&nbsp;</th>\n",
       "      <th class=\"blank col5\" >&nbsp;</th>\n",
       "    </tr>\n",
       "  </thead>\n",
       "  <tbody>\n",
       "    <tr>\n",
       "      <th id=\"T_c6579_level0_row0\" class=\"row_heading level0 row0\" >2</th>\n",
       "      <td id=\"T_c6579_row0_col0\" class=\"data row0 col0\" >74.096831</td>\n",
       "      <td id=\"T_c6579_row0_col1\" class=\"data row0 col1\" >74.092218</td>\n",
       "      <td id=\"T_c6579_row0_col2\" class=\"data row0 col2\" >74.063016</td>\n",
       "      <td id=\"T_c6579_row0_col3\" class=\"data row0 col3\" >126.082897</td>\n",
       "      <td id=\"T_c6579_row0_col4\" class=\"data row0 col4\" >126.206706</td>\n",
       "      <td id=\"T_c6579_row0_col5\" class=\"data row0 col5\" >127.244658</td>\n",
       "    </tr>\n",
       "    <tr>\n",
       "      <th id=\"T_c6579_level0_row1\" class=\"row_heading level0 row1\" >4</th>\n",
       "      <td id=\"T_c6579_row1_col0\" class=\"data row1 col0\" >79.067017</td>\n",
       "      <td id=\"T_c6579_row1_col1\" class=\"data row1 col1\" >79.107048</td>\n",
       "      <td id=\"T_c6579_row1_col2\" class=\"data row1 col2\" >79.734544</td>\n",
       "      <td id=\"T_c6579_row1_col3\" class=\"data row1 col3\" >68.430105</td>\n",
       "      <td id=\"T_c6579_row1_col4\" class=\"data row1 col4\" >68.327820</td>\n",
       "      <td id=\"T_c6579_row1_col5\" class=\"data row1 col5\" >67.513591</td>\n",
       "    </tr>\n",
       "    <tr>\n",
       "      <th id=\"T_c6579_level0_row2\" class=\"row_heading level0 row2\" >6</th>\n",
       "      <td id=\"T_c6579_row2_col0\" class=\"data row2 col0\" >0.168898</td>\n",
       "      <td id=\"T_c6579_row2_col1\" class=\"data row2 col1\" >0.195790</td>\n",
       "      <td id=\"T_c6579_row2_col2\" class=\"data row2 col2\" >-0.221462</td>\n",
       "      <td id=\"T_c6579_row2_col3\" class=\"data row2 col3\" >0.271862</td>\n",
       "      <td id=\"T_c6579_row2_col4\" class=\"data row2 col4\" >0.201810</td>\n",
       "      <td id=\"T_c6579_row2_col5\" class=\"data row2 col5\" >0.777112</td>\n",
       "    </tr>\n",
       "    <tr>\n",
       "      <th id=\"T_c6579_level0_row3\" class=\"row_heading level0 row3\" >8</th>\n",
       "      <td id=\"T_c6579_row3_col0\" class=\"data row3 col0\" >0.008823</td>\n",
       "      <td id=\"T_c6579_row3_col1\" class=\"data row3 col1\" >0.014245</td>\n",
       "      <td id=\"T_c6579_row3_col2\" class=\"data row3 col2\" >-0.299356</td>\n",
       "      <td id=\"T_c6579_row3_col3\" class=\"data row3 col3\" >0.006000</td>\n",
       "      <td id=\"T_c6579_row3_col4\" class=\"data row3 col4\" >0.100765</td>\n",
       "      <td id=\"T_c6579_row3_col5\" class=\"data row3 col5\" >0.695021</td>\n",
       "    </tr>\n",
       "    <tr>\n",
       "      <th id=\"T_c6579_level0_row4\" class=\"row_heading level0 row4\" >10</th>\n",
       "      <td id=\"T_c6579_row4_col0\" class=\"data row4 col0\" >0.001599</td>\n",
       "      <td id=\"T_c6579_row4_col1\" class=\"data row4 col1\" >-0.083678</td>\n",
       "      <td id=\"T_c6579_row4_col2\" class=\"data row4 col2\" >-0.832915</td>\n",
       "      <td id=\"T_c6579_row4_col3\" class=\"data row4 col3\" >0.015737</td>\n",
       "      <td id=\"T_c6579_row4_col4\" class=\"data row4 col4\" >0.022238</td>\n",
       "      <td id=\"T_c6579_row4_col5\" class=\"data row4 col5\" >0.987899</td>\n",
       "    </tr>\n",
       "  </tbody>\n",
       "</table>\n"
      ],
      "text/plain": [
       "<pandas.io.formats.style.Styler at 0x2ac08477d00>"
      ]
     },
     "metadata": {},
     "output_type": "display_data"
    }
   ],
   "source": [
    "df_no_noise = df[df[\"noise_bool\"] == False]\n",
    "df_noise = df[df[\"noise_bool\"] == True]\n",
    "# df = df.groupby([\"n_init\", \"noise_level\", \"noise_bool\"]).agg({\"min\": [\"mean\", \"std\"]})\n",
    "df_no_noise = df_no_noise.groupby([\"n_init\", \"noise_level\"]).agg({\"best\": [\"mean\", \"std\"]})\n",
    "df_noise = df_noise.groupby([\"n_init\", \"noise_level\"]).agg({\"best\": [\"mean\", \"std\"]})\n",
    "display(df_noise.unstack().style.background_gradient(cmap='viridis'))\n",
    "display(df_no_noise.unstack().style.background_gradient(cmap='viridis'))"
   ]
  }
 ],
 "metadata": {
  "kernelspec": {
   "display_name": "Python 3",
   "language": "python",
   "name": "python3"
  },
  "language_info": {
   "codemirror_mode": {
    "name": "ipython",
    "version": 3
   },
   "file_extension": ".py",
   "mimetype": "text/x-python",
   "name": "python",
   "nbconvert_exporter": "python",
   "pygments_lexer": "ipython3",
   "version": "3.9.18"
  }
 },
 "nbformat": 4,
 "nbformat_minor": 2
}
