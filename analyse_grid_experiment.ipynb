{
 "cells": [
  {
   "cell_type": "code",
   "execution_count": 4,
   "metadata": {},
   "outputs": [
    {
     "name": "stderr",
     "output_type": "stream",
     "text": [
      "2024-03-28 23:45:15,122\tINFO worker.py:1558 -- Calling ray.init() again after it has already been called.\n"
     ]
    },
    {
     "name": "stdout",
     "output_type": "stream",
     "text": [
      "Started 1 2 noise 10 budget 30 seed 0, time: 1.00s\n",
      "\u001b[36m(worker pid=7436)\u001b[0m Starting iteration 0, total time: 0.000 seconds.\n",
      "Started 2 2 noise 10 budget 30 seed 0, time: 2.13s\n"
     ]
    },
    {
     "name": "stderr",
     "output_type": "stream",
     "text": [
      "\u001b[36m(worker pid=21600)\u001b[0m c:\\Users\\queim\\micromambaenv\\envs\\mobo\\lib\\site-packages\\gpytorch\\likelihoods\\noise_models.py:148: NumericalWarning: Very small noise values detected. This will likely lead to numerical instabilities. Rounding small noise values up to 1e-06.\n",
      "\u001b[36m(worker pid=21600)\u001b[0m   warnings.warn(\n"
     ]
    },
    {
     "name": "stdout",
     "output_type": "stream",
     "text": [
      "\u001b[36m(worker pid=7436)\u001b[0m New candidate: tensor([[ 39.7946, -50.0000]], dtype=torch.float64), tensor([882.1972], dtype=torch.float64)\n",
      "Started 3 2 noise 20 budget 30 seed 0, time: 3.25s\n"
     ]
    },
    {
     "name": "stderr",
     "output_type": "stream",
     "text": [
      "\u001b[36m(worker pid=21600)\u001b[0m c:\\Users\\queim\\micromambaenv\\envs\\mobo\\lib\\site-packages\\gpytorch\\likelihoods\\noise_models.py:148: NumericalWarning: Very small noise values detected. This will likely lead to numerical instabilities. Rounding small noise values up to 1e-06.\n",
      "\u001b[36m(worker pid=21600)\u001b[0m   warnings.warn(\n"
     ]
    },
    {
     "name": "stdout",
     "output_type": "stream",
     "text": [
      "Started 4 2 noise 20 budget 30 seed 0, time: 4.37s\n",
      "\u001b[36m(worker pid=7436)\u001b[0m New candidate: tensor([[-22.9021,  -8.9259]], dtype=torch.float64), tensor([838.9029], dtype=torch.float64)\n",
      "Started 5 10 noise 10 budget 30 seed 0, time: 5.51s\n",
      "\u001b[36m(worker pid=21600)\u001b[0m Starting iteration 2, total time: 4.108 seconds.\u001b[32m [repeated 9x across cluster]\u001b[0m\n",
      "Started 6 10 noise 10 budget 30 seed 0, time: 6.65s\n",
      "Started 7 10 noise 20 budget 30 seed 0, time: 7.79s\n",
      "\u001b[36m(worker pid=18916)\u001b[0m New candidate: tensor([[ 28.1781, -50.0000]], dtype=torch.float64), tensor([916.3048], dtype=torch.float64)\u001b[32m [repeated 3x across cluster]\u001b[0m\n"
     ]
    },
    {
     "name": "stderr",
     "output_type": "stream",
     "text": [
      "\u001b[36m(worker pid=21600)\u001b[0m c:\\Users\\queim\\micromambaenv\\envs\\mobo\\lib\\site-packages\\gpytorch\\likelihoods\\noise_models.py:148: NumericalWarning: Very small noise values detected. This will likely lead to numerical instabilities. Rounding small noise values up to 1e-06.\u001b[32m [repeated 5x across cluster]\u001b[0m\n",
      "\u001b[36m(worker pid=21600)\u001b[0m   warnings.warn(\u001b[32m [repeated 5x across cluster]\u001b[0m\n"
     ]
    },
    {
     "name": "stdout",
     "output_type": "stream",
     "text": [
      "Started 8 10 noise 20 budget 30 seed 0, time: 8.94s\n",
      "\u001b[36m(worker pid=18916)\u001b[0m New candidate: tensor([[-12.7701,  -7.1403]], dtype=torch.float64), tensor([880.6680], dtype=torch.float64)\u001b[32m [repeated 5x across cluster]\u001b[0mStarted 9 2 noise 10 budget 30 seed 1, time: 10.13s\n",
      "\n",
      "Started 10 2 noise 10 budget 30 seed 1, time: 11.48s\n",
      "\u001b[36m(worker pid=19872)\u001b[0m Starting iteration 3, total time: 9.211 seconds.\u001b[32m [repeated 12x across cluster]\u001b[0m\n",
      "Started 11 2 noise 20 budget 30 seed 1, time: 12.75s\n",
      "\u001b[36m(worker pid=11148)\u001b[0m New candidate: tensor([[ 19.8383, -13.8344]], dtype=torch.float64), tensor([851.0293], dtype=torch.float64)\u001b[32m [repeated 2x across cluster]\u001b[0m\n",
      "Started 12 2 noise 20 budget 30 seed 1, time: 14.01s\n"
     ]
    },
    {
     "name": "stderr",
     "output_type": "stream",
     "text": [
      "\u001b[36m(worker pid=8932)\u001b[0m c:\\Users\\queim\\micromambaenv\\envs\\mobo\\lib\\site-packages\\gpytorch\\likelihoods\\noise_models.py:148: NumericalWarning: Very small noise values detected. This will likely lead to numerical instabilities. Rounding small noise values up to 1e-06.\u001b[32m [repeated 5x across cluster]\u001b[0m\n",
      "\u001b[36m(worker pid=8932)\u001b[0m   warnings.warn(\u001b[32m [repeated 5x across cluster]\u001b[0m\n"
     ]
    },
    {
     "name": "stdout",
     "output_type": "stream",
     "text": [
      "Started 13 10 noise 10 budget 30 seed 1, time: 15.27s\n",
      "\u001b[36m(worker pid=16224)\u001b[0m New candidate: tensor([[-4.0885, -4.4151]], dtype=torch.float64), tensor([859.9963], dtype=torch.float64)\u001b[32m [repeated 3x across cluster]\u001b[0m\n",
      "\u001b[36m(worker pid=19872)\u001b[0m Starting iteration 4, total time: 14.475 seconds.\u001b[32m [repeated 8x across cluster]\u001b[0m\n",
      "\u001b[36m(worker pid=8932)\u001b[0m New candidate: tensor([[ -2.3311, -25.0347]], dtype=torch.float64), tensor([845.3985], dtype=torch.float64)\u001b[32m [repeated 7x across cluster]\u001b[0m\n"
     ]
    },
    {
     "name": "stderr",
     "output_type": "stream",
     "text": [
      "\u001b[36m(worker pid=18916)\u001b[0m c:\\Users\\queim\\micromambaenv\\envs\\mobo\\lib\\site-packages\\gpytorch\\likelihoods\\noise_models.py:148: NumericalWarning: Very small noise values detected. This will likely lead to numerical instabilities. Rounding small noise values up to 1e-06.\u001b[32m [repeated 5x across cluster]\u001b[0m\n",
      "\u001b[36m(worker pid=18916)\u001b[0m   warnings.warn(\u001b[32m [repeated 5x across cluster]\u001b[0m\n"
     ]
    },
    {
     "name": "stdout",
     "output_type": "stream",
     "text": [
      "\u001b[36m(worker pid=11148)\u001b[0m New candidate: tensor([[-43.2568,  -9.9327]], dtype=torch.float64), tensor([858.0034], dtype=torch.float64)\u001b[32m [repeated 5x across cluster]\u001b[0m\n",
      "\u001b[36m(worker pid=21600)\u001b[0m Starting iteration 6, total time: 20.949 seconds.\u001b[32m [repeated 10x across cluster]\u001b[0m\n",
      "\u001b[36m(worker pid=2788)\u001b[0m New candidate: tensor([[ 50., -50.]], dtype=torch.float64), tensor([853.1866], dtype=torch.float64)\u001b[32m [repeated 3x across cluster]\u001b[0m\n"
     ]
    },
    {
     "name": "stderr",
     "output_type": "stream",
     "text": [
      "\u001b[36m(worker pid=11148)\u001b[0m c:\\Users\\queim\\micromambaenv\\envs\\mobo\\lib\\site-packages\\gpytorch\\likelihoods\\noise_models.py:148: NumericalWarning: Very small noise values detected. This will likely lead to numerical instabilities. Rounding small noise values up to 1e-06.\u001b[32m [repeated 5x across cluster]\u001b[0m\n",
      "\u001b[36m(worker pid=11148)\u001b[0m   warnings.warn(\u001b[32m [repeated 5x across cluster]\u001b[0m\n"
     ]
    },
    {
     "name": "stdout",
     "output_type": "stream",
     "text": [
      "\u001b[36m(worker pid=18916)\u001b[0m New candidate: tensor([[4.6972, 0.5243]], dtype=torch.float64), tensor([852.7343], dtype=torch.float64)\u001b[32m [repeated 5x across cluster]\u001b[0m\n",
      "\u001b[36m(worker pid=18916)\u001b[0m Starting iteration 6, total time: 23.759 seconds.\u001b[32m [repeated 11x across cluster]\u001b[0m\n"
     ]
    },
    {
     "name": "stderr",
     "output_type": "stream",
     "text": [
      "\u001b[36m(worker pid=11148)\u001b[0m c:\\Users\\queim\\micromambaenv\\envs\\mobo\\lib\\site-packages\\gpytorch\\likelihoods\\noise_models.py:148: NumericalWarning: Very small noise values detected. This will likely lead to numerical instabilities. Rounding small noise values up to 1e-06.\u001b[32m [repeated 4x across cluster]\u001b[0m\n",
      "\u001b[36m(worker pid=11148)\u001b[0m   warnings.warn(\u001b[32m [repeated 4x across cluster]\u001b[0m\n"
     ]
    },
    {
     "name": "stdout",
     "output_type": "stream",
     "text": [
      "\u001b[36m(worker pid=11148)\u001b[0m New candidate: tensor([[  7.8979, -27.8577]], dtype=torch.float64), tensor([816.3171], dtype=torch.float64)\u001b[32m [repeated 7x across cluster]\u001b[0m\n",
      "\u001b[36m(worker pid=2788)\u001b[0m New candidate: tensor([[-41.7001, -19.7992]], dtype=torch.float64), tensor([834.9580], dtype=torch.float64)\u001b[32m [repeated 5x across cluster]\u001b[0m\n",
      "\u001b[36m(worker pid=7436)\u001b[0m Starting iteration 9, total time: 32.832 seconds.\u001b[32m [repeated 9x across cluster]\u001b[0m\n"
     ]
    },
    {
     "name": "stderr",
     "output_type": "stream",
     "text": [
      "\u001b[36m(worker pid=11148)\u001b[0m c:\\Users\\queim\\micromambaenv\\envs\\mobo\\lib\\site-packages\\gpytorch\\likelihoods\\noise_models.py:148: NumericalWarning: Very small noise values detected. This will likely lead to numerical instabilities. Rounding small noise values up to 1e-06.\u001b[32m [repeated 4x across cluster]\u001b[0m\n",
      "\u001b[36m(worker pid=11148)\u001b[0m   warnings.warn(\u001b[32m [repeated 4x across cluster]\u001b[0m\n"
     ]
    },
    {
     "name": "stdout",
     "output_type": "stream",
     "text": [
      "\u001b[36m(worker pid=18916)\u001b[0m New candidate: tensor([[ -3.4078, -32.0686]], dtype=torch.float64), tensor([820.5409], dtype=torch.float64)\n",
      "\u001b[36m(worker pid=2788)\u001b[0m New candidate: tensor([[ 50.0000, -32.3497]], dtype=torch.float64), tensor([791.0505], dtype=torch.float64)\n",
      "\u001b[36m(worker pid=11148)\u001b[0m New candidate: tensor([[-34.1875,  36.2613]], dtype=torch.float64), tensor([836.2319], dtype=torch.float64)\u001b[32m [repeated 6x across cluster]\u001b[0m\n",
      "\u001b[36m(worker pid=7436)\u001b[0m Starting iteration 10, total time: 38.054 seconds.\u001b[32m [repeated 8x across cluster]\u001b[0m\n"
     ]
    },
    {
     "name": "stderr",
     "output_type": "stream",
     "text": [
      "\u001b[36m(worker pid=8932)\u001b[0m c:\\Users\\queim\\micromambaenv\\envs\\mobo\\lib\\site-packages\\gpytorch\\likelihoods\\noise_models.py:148: NumericalWarning: Very small noise values detected. This will likely lead to numerical instabilities. Rounding small noise values up to 1e-06.\u001b[32m [repeated 5x across cluster]\u001b[0m\n",
      "\u001b[36m(worker pid=8932)\u001b[0m   warnings.warn(\u001b[32m [repeated 5x across cluster]\u001b[0m\n"
     ]
    },
    {
     "name": "stdout",
     "output_type": "stream",
     "text": [
      "\u001b[36m(worker pid=8932)\u001b[0m New candidate: tensor([[ 5.2522, -8.2017]], dtype=torch.float64), tensor([866.1509], dtype=torch.float64)\n",
      "\u001b[36m(worker pid=18916)\u001b[0m New candidate: tensor([[-46.5142,  50.0000]], dtype=torch.float64), tensor([829.1963], dtype=torch.float64)\u001b[32m [repeated 10x across cluster]\u001b[0m\n",
      "\u001b[36m(worker pid=19872)\u001b[0m Starting iteration 10, total time: 41.094 seconds.\u001b[32m [repeated 9x across cluster]\u001b[0m\n",
      "\u001b[36m(worker pid=8932)\u001b[0m New candidate: tensor([[  5.2899, -32.8627]], dtype=torch.float64), tensor([812.7245], dtype=torch.float64)\n",
      "\u001b[36m(worker pid=7436)\u001b[0m New candidate: tensor([[-18.3506, -27.5281]], dtype=torch.float64), tensor([798.8012], dtype=torch.float64)\u001b[32m [repeated 9x across cluster]\u001b[0m\n"
     ]
    },
    {
     "name": "stderr",
     "output_type": "stream",
     "text": [
      "\u001b[36m(worker pid=11148)\u001b[0m c:\\Users\\queim\\micromambaenv\\envs\\mobo\\lib\\site-packages\\gpytorch\\likelihoods\\noise_models.py:148: NumericalWarning: Very small noise values detected. This will likely lead to numerical instabilities. Rounding small noise values up to 1e-06.\u001b[32m [repeated 7x across cluster]\u001b[0m\n",
      "\u001b[36m(worker pid=11148)\u001b[0m   warnings.warn(\u001b[32m [repeated 7x across cluster]\u001b[0m\n"
     ]
    },
    {
     "name": "stdout",
     "output_type": "stream",
     "text": [
      "\u001b[36m(worker pid=18916)\u001b[0m Starting iteration 11, total time: 45.223 seconds.\u001b[32m [repeated 10x across cluster]\u001b[0m\n",
      "\u001b[36m(worker pid=8932)\u001b[0m New candidate: tensor([[  3.2589, -33.8143]], dtype=torch.float64), tensor([825.7982], dtype=torch.float64)\n",
      "\u001b[36m(worker pid=7436)\u001b[0m New candidate: tensor([[-30.2566, -27.0914]], dtype=torch.float64), tensor([797.1991], dtype=torch.float64)\u001b[32m [repeated 7x across cluster]\u001b[0m\n"
     ]
    },
    {
     "name": "stderr",
     "output_type": "stream",
     "text": [
      "\u001b[36m(worker pid=11148)\u001b[0m c:\\Users\\queim\\micromambaenv\\envs\\mobo\\lib\\site-packages\\gpytorch\\likelihoods\\noise_models.py:148: NumericalWarning: Very small noise values detected. This will likely lead to numerical instabilities. Rounding small noise values up to 1e-06.\u001b[32m [repeated 4x across cluster]\u001b[0m\n",
      "\u001b[36m(worker pid=11148)\u001b[0m   warnings.warn(\u001b[32m [repeated 4x across cluster]\u001b[0m\n"
     ]
    },
    {
     "name": "stdout",
     "output_type": "stream",
     "text": [
      "\u001b[36m(worker pid=18916)\u001b[0m Starting iteration 12, total time: 50.454 seconds.\u001b[32m [repeated 9x across cluster]\u001b[0m\n",
      "\u001b[36m(worker pid=8932)\u001b[0m New candidate: tensor([[  7.2373, -29.8487]], dtype=torch.float64), tensor([795.9076], dtype=torch.float64)\n",
      "\u001b[36m(worker pid=7436)\u001b[0m New candidate: tensor([[-50.0000, -19.9661]], dtype=torch.float64), tensor([857.3711], dtype=torch.float64)\u001b[32m [repeated 6x across cluster]\u001b[0m\n"
     ]
    },
    {
     "name": "stderr",
     "output_type": "stream",
     "text": [
      "\u001b[36m(worker pid=11148)\u001b[0m c:\\Users\\queim\\micromambaenv\\envs\\mobo\\lib\\site-packages\\gpytorch\\likelihoods\\noise_models.py:148: NumericalWarning: Very small noise values detected. This will likely lead to numerical instabilities. Rounding small noise values up to 1e-06.\u001b[32m [repeated 4x across cluster]\u001b[0m\n",
      "\u001b[36m(worker pid=11148)\u001b[0m   warnings.warn(\u001b[32m [repeated 4x across cluster]\u001b[0m\n"
     ]
    },
    {
     "name": "stdout",
     "output_type": "stream",
     "text": [
      "\u001b[36m(worker pid=18916)\u001b[0m Starting iteration 13, total time: 55.355 seconds.\u001b[32m [repeated 8x across cluster]\u001b[0m\n",
      "\u001b[36m(worker pid=8932)\u001b[0m New candidate: tensor([[ 11.8526, -28.3617]], dtype=torch.float64), tensor([767.2271], dtype=torch.float64)\n",
      "\u001b[36m(worker pid=7436)\u001b[0m New candidate: tensor([[-24.7510, -30.9211]], dtype=torch.float64), tensor([808.5573], dtype=torch.float64)\u001b[32m [repeated 6x across cluster]\u001b[0m\n",
      "\u001b[36m(worker pid=2788)\u001b[0m New candidate: tensor([[ 50.0000, -17.2480]], dtype=torch.float64), tensor([736.8433], dtype=torch.float64)\n"
     ]
    },
    {
     "name": "stderr",
     "output_type": "stream",
     "text": [
      "\u001b[36m(worker pid=18916)\u001b[0m c:\\Users\\queim\\micromambaenv\\envs\\mobo\\lib\\site-packages\\gpytorch\\likelihoods\\noise_models.py:148: NumericalWarning: Very small noise values detected. This will likely lead to numerical instabilities. Rounding small noise values up to 1e-06.\u001b[32m [repeated 4x across cluster]\u001b[0m\n",
      "\u001b[36m(worker pid=18916)\u001b[0m   warnings.warn(\u001b[32m [repeated 4x across cluster]\u001b[0m\n"
     ]
    },
    {
     "name": "stdout",
     "output_type": "stream",
     "text": [
      "\u001b[36m(worker pid=8932)\u001b[0m Starting iteration 12, total time: 57.665 seconds.\u001b[32m [repeated 9x across cluster]\u001b[0m\n",
      "\u001b[36m(worker pid=18916)\u001b[0m New candidate: tensor([[38.4051, 50.0000]], dtype=torch.float64), tensor([835.7031], dtype=torch.float64)\u001b[32m [repeated 5x across cluster]\u001b[0m\n",
      "\u001b[36m(worker pid=7436)\u001b[0m New candidate: tensor([[ 40.3226, -12.8266]], dtype=torch.float64), tensor([827.7604], dtype=torch.float64)\u001b[32m [repeated 3x across cluster]\u001b[0m\n"
     ]
    },
    {
     "name": "stderr",
     "output_type": "stream",
     "text": [
      "\u001b[36m(worker pid=11148)\u001b[0m c:\\Users\\queim\\micromambaenv\\envs\\mobo\\lib\\site-packages\\gpytorch\\likelihoods\\noise_models.py:148: NumericalWarning: Very small noise values detected. This will likely lead to numerical instabilities. Rounding small noise values up to 1e-06.\u001b[32m [repeated 5x across cluster]\u001b[0m\n",
      "\u001b[36m(worker pid=11148)\u001b[0m   warnings.warn(\u001b[32m [repeated 5x across cluster]\u001b[0m\n"
     ]
    },
    {
     "name": "stdout",
     "output_type": "stream",
     "text": [
      "\u001b[36m(worker pid=18916)\u001b[0m Starting iteration 16, total time: 69.325 seconds.\u001b[32m [repeated 9x across cluster]\u001b[0m\n",
      "\u001b[36m(worker pid=18916)\u001b[0m New candidate: tensor([[50., 50.]], dtype=torch.float64), tensor([762.9765], dtype=torch.float64)\u001b[32m [repeated 5x across cluster]\u001b[0m\n",
      "\u001b[36m(worker pid=19872)\u001b[0m New candidate: tensor([[ 50.0000, -23.6988]], dtype=torch.float64), tensor([775.0076], dtype=torch.float64)\u001b[32m [repeated 3x across cluster]\u001b[0m\n"
     ]
    },
    {
     "name": "stderr",
     "output_type": "stream",
     "text": [
      "\u001b[36m(worker pid=11148)\u001b[0m c:\\Users\\queim\\micromambaenv\\envs\\mobo\\lib\\site-packages\\gpytorch\\likelihoods\\noise_models.py:148: NumericalWarning: Very small noise values detected. This will likely lead to numerical instabilities. Rounding small noise values up to 1e-06.\u001b[32m [repeated 4x across cluster]\u001b[0m\n",
      "\u001b[36m(worker pid=11148)\u001b[0m   warnings.warn(\u001b[32m [repeated 4x across cluster]\u001b[0m\n"
     ]
    },
    {
     "name": "stdout",
     "output_type": "stream",
     "text": [
      "\u001b[36m(worker pid=8932)\u001b[0m Starting iteration 14, total time: 69.723 seconds.\u001b[32m [repeated 7x across cluster]\u001b[0m\n",
      "\u001b[36m(worker pid=18916)\u001b[0m New candidate: tensor([[-50., -50.]], dtype=torch.float64), tensor([915.1133], dtype=torch.float64)\u001b[32m [repeated 5x across cluster]\u001b[0m\n",
      "\u001b[36m(worker pid=19872)\u001b[0m New candidate: tensor([[ 41.1306, -24.0083]], dtype=torch.float64), tensor([815.3022], dtype=torch.float64)\u001b[32m [repeated 2x across cluster]\u001b[0m\n"
     ]
    },
    {
     "name": "stderr",
     "output_type": "stream",
     "text": [
      "\u001b[36m(worker pid=11148)\u001b[0m c:\\Users\\queim\\micromambaenv\\envs\\mobo\\lib\\site-packages\\gpytorch\\likelihoods\\noise_models.py:148: NumericalWarning: Very small noise values detected. This will likely lead to numerical instabilities. Rounding small noise values up to 1e-06.\u001b[32m [repeated 3x across cluster]\u001b[0m\n",
      "\u001b[36m(worker pid=11148)\u001b[0m   warnings.warn(\u001b[32m [repeated 3x across cluster]\u001b[0m\n"
     ]
    },
    {
     "name": "stdout",
     "output_type": "stream",
     "text": [
      "\u001b[36m(worker pid=8932)\u001b[0m Starting iteration 15, total time: 75.540 seconds.\u001b[32m [repeated 7x across cluster]\u001b[0m\n",
      "\u001b[36m(worker pid=2788)\u001b[0m New candidate: tensor([[50.0000, -2.2373]], dtype=torch.float64), tensor([789.9104], dtype=torch.float64)\u001b[32m [repeated 2x across cluster]\u001b[0m\n",
      "\u001b[36m(worker pid=19872)\u001b[0m New candidate: tensor([[ 50.0000, -28.7868]], dtype=torch.float64), tensor([762.5755], dtype=torch.float64)\u001b[32m [repeated 5x across cluster]\u001b[0m\n"
     ]
    },
    {
     "name": "stderr",
     "output_type": "stream",
     "text": [
      "\u001b[36m(worker pid=18916)\u001b[0m c:\\Users\\queim\\micromambaenv\\envs\\mobo\\lib\\site-packages\\gpytorch\\likelihoods\\noise_models.py:148: NumericalWarning: Very small noise values detected. This will likely lead to numerical instabilities. Rounding small noise values up to 1e-06.\u001b[32m [repeated 3x across cluster]\u001b[0m\n",
      "\u001b[36m(worker pid=18916)\u001b[0m   warnings.warn(\u001b[32m [repeated 3x across cluster]\u001b[0m\n"
     ]
    },
    {
     "name": "stdout",
     "output_type": "stream",
     "text": [
      "\u001b[36m(worker pid=18916)\u001b[0m Starting iteration 20, total time: 86.525 seconds.\u001b[32m [repeated 7x across cluster]\u001b[0m\n",
      "\u001b[36m(worker pid=18916)\u001b[0m New candidate: tensor([[50.0000, -9.9561]], dtype=torch.float64), tensor([815.4584], dtype=torch.float64)\u001b[32m [repeated 4x across cluster]\u001b[0m\n",
      "\u001b[36m(worker pid=2788)\u001b[0m New candidate: tensor([[ -8.7837, -32.1145]], dtype=torch.float64), tensor([866.3542], dtype=torch.float64)\u001b[32m [repeated 2x across cluster]\u001b[0m\n"
     ]
    },
    {
     "name": "stderr",
     "output_type": "stream",
     "text": [
      "\u001b[36m(worker pid=8932)\u001b[0m c:\\Users\\queim\\micromambaenv\\envs\\mobo\\lib\\site-packages\\gpytorch\\likelihoods\\noise_models.py:148: NumericalWarning: Very small noise values detected. This will likely lead to numerical instabilities. Rounding small noise values up to 1e-06.\u001b[32m [repeated 3x across cluster]\u001b[0m\n",
      "\u001b[36m(worker pid=8932)\u001b[0m   warnings.warn(\u001b[32m [repeated 3x across cluster]\u001b[0m\n"
     ]
    },
    {
     "name": "stdout",
     "output_type": "stream",
     "text": [
      "\u001b[36m(worker pid=18916)\u001b[0m Starting iteration 21, total time: 92.081 seconds.\u001b[32m [repeated 7x across cluster]\u001b[0m\n",
      "\u001b[36m(worker pid=16224)\u001b[0m New candidate: tensor([[40.0832, -6.2144]], dtype=torch.float64), tensor([840.2569], dtype=torch.float64)\u001b[32m [repeated 3x across cluster]\u001b[0m\n",
      "\u001b[36m(worker pid=18916)\u001b[0m New candidate: tensor([[ 3.3151, 50.0000]], dtype=torch.float64), tensor([816.5994], dtype=torch.float64)\u001b[32m [repeated 4x across cluster]\u001b[0m\n"
     ]
    },
    {
     "name": "stderr",
     "output_type": "stream",
     "text": [
      "\u001b[36m(worker pid=8932)\u001b[0m c:\\Users\\queim\\micromambaenv\\envs\\mobo\\lib\\site-packages\\gpytorch\\likelihoods\\noise_models.py:148: NumericalWarning: Very small noise values detected. This will likely lead to numerical instabilities. Rounding small noise values up to 1e-06.\u001b[32m [repeated 3x across cluster]\u001b[0m\n",
      "\u001b[36m(worker pid=8932)\u001b[0m   warnings.warn(\u001b[32m [repeated 3x across cluster]\u001b[0m\n"
     ]
    },
    {
     "name": "stdout",
     "output_type": "stream",
     "text": [
      "\u001b[36m(worker pid=18916)\u001b[0m Starting iteration 22, total time: 98.173 seconds.\u001b[32m [repeated 7x across cluster]\u001b[0m\n",
      "\u001b[36m(worker pid=11148)\u001b[0m New candidate: tensor([[-25.1044,  50.0000]], dtype=torch.float64), tensor([776.6532], dtype=torch.float64)\u001b[32m [repeated 4x across cluster]\u001b[0m\n",
      "\u001b[36m(worker pid=18916)\u001b[0m New candidate: tensor([[ 8.3266, 50.0000]], dtype=torch.float64), tensor([785.5709], dtype=torch.float64)\u001b[32m [repeated 3x across cluster]\u001b[0m\n"
     ]
    },
    {
     "name": "stderr",
     "output_type": "stream",
     "text": [
      "\u001b[36m(worker pid=21600)\u001b[0m c:\\Users\\queim\\micromambaenv\\envs\\mobo\\lib\\site-packages\\botorch\\optim\\initializers.py:432: BadInitialCandidatesWarning: Unable to find non-zero acquisition function values - initial conditions are being selected randomly.\n",
      "\u001b[36m(worker pid=8932)\u001b[0m c:\\Users\\queim\\micromambaenv\\envs\\mobo\\lib\\site-packages\\gpytorch\\likelihoods\\noise_models.py:148: NumericalWarning: Very small noise values detected. This will likely lead to numerical instabilities. Rounding small noise values up to 1e-06.\u001b[32m [repeated 4x across cluster]\u001b[0m\n",
      "\u001b[36m(worker pid=8932)\u001b[0m   warnings.warn(\u001b[32m [repeated 5x across cluster]\u001b[0m\n"
     ]
    },
    {
     "name": "stdout",
     "output_type": "stream",
     "text": [
      "\u001b[36m(worker pid=16224)\u001b[0m Starting iteration 20, total time: 103.254 seconds.\u001b[32m [repeated 7x across cluster]\u001b[0m\n",
      "\u001b[36m(worker pid=16224)\u001b[0m New candidate: tensor([[-27.1338, -29.3408]], dtype=torch.float64), tensor([806.4444], dtype=torch.float64)\u001b[32m [repeated 4x across cluster]\u001b[0m\n",
      "\u001b[36m(worker pid=8932)\u001b[0m New candidate: tensor([[ 11.7550, -20.6524]], dtype=torch.float64), tensor([817.1873], dtype=torch.float64)\u001b[32m [repeated 3x across cluster]\u001b[0m\n"
     ]
    },
    {
     "name": "stderr",
     "output_type": "stream",
     "text": [
      "\u001b[36m(worker pid=8932)\u001b[0m c:\\Users\\queim\\micromambaenv\\envs\\mobo\\lib\\site-packages\\gpytorch\\likelihoods\\noise_models.py:148: NumericalWarning: Very small noise values detected. This will likely lead to numerical instabilities. Rounding small noise values up to 1e-06.\u001b[32m [repeated 3x across cluster]\u001b[0m\n",
      "\u001b[36m(worker pid=8932)\u001b[0m   warnings.warn(\u001b[32m [repeated 3x across cluster]\u001b[0m\n"
     ]
    },
    {
     "name": "stdout",
     "output_type": "stream",
     "text": [
      "\u001b[36m(worker pid=2788)\u001b[0m Starting iteration 20, total time: 106.290 seconds.\u001b[32m [repeated 9x across cluster]\u001b[0m\n",
      "\u001b[36m(worker pid=19872)\u001b[0m New candidate: tensor([[50.0000, 20.1912]], dtype=torch.float64), tensor([867.6270], dtype=torch.float64)\u001b[32m [repeated 6x across cluster]\u001b[0m\n",
      "\u001b[36m(worker pid=2788)\u001b[0m New candidate: tensor([[ 50.0000, -14.1050]], dtype=torch.float64), tensor([823.7826], dtype=torch.float64)\u001b[32m [repeated 3x across cluster]\u001b[0m\n"
     ]
    },
    {
     "name": "stderr",
     "output_type": "stream",
     "text": [
      "\u001b[36m(worker pid=8932)\u001b[0m c:\\Users\\queim\\micromambaenv\\envs\\mobo\\lib\\site-packages\\gpytorch\\likelihoods\\noise_models.py:148: NumericalWarning: Very small noise values detected. This will likely lead to numerical instabilities. Rounding small noise values up to 1e-06.\u001b[32m [repeated 2x across cluster]\u001b[0m\n",
      "\u001b[36m(worker pid=8932)\u001b[0m   warnings.warn(\u001b[32m [repeated 2x across cluster]\u001b[0m\n"
     ]
    },
    {
     "name": "stdout",
     "output_type": "stream",
     "text": [
      "\u001b[36m(worker pid=7436)\u001b[0m Starting iteration 25, total time: 118.353 seconds.\u001b[32m [repeated 7x across cluster]\u001b[0m\n",
      "\u001b[36m(worker pid=19872)\u001b[0m New candidate: tensor([[-50.0000, -17.6397]], dtype=torch.float64), tensor([828.9475], dtype=torch.float64)\u001b[32m [repeated 5x across cluster]\u001b[0m\n",
      "\u001b[36m(worker pid=7436)\u001b[0m New candidate: tensor([[ 50.0000, -13.8943]], dtype=torch.float64), tensor([795.2972], dtype=torch.float64)\u001b[32m [repeated 2x across cluster]\u001b[0m\n"
     ]
    },
    {
     "name": "stderr",
     "output_type": "stream",
     "text": [
      "\u001b[36m(worker pid=8932)\u001b[0m c:\\Users\\queim\\micromambaenv\\envs\\mobo\\lib\\site-packages\\gpytorch\\likelihoods\\noise_models.py:148: NumericalWarning: Very small noise values detected. This will likely lead to numerical instabilities. Rounding small noise values up to 1e-06.\u001b[32m [repeated 2x across cluster]\u001b[0m\n",
      "\u001b[36m(worker pid=8932)\u001b[0m   warnings.warn(\u001b[32m [repeated 2x across cluster]\u001b[0m\n"
     ]
    },
    {
     "name": "stdout",
     "output_type": "stream",
     "text": [
      "\u001b[36m(worker pid=2788)\u001b[0m Starting iteration 22, total time: 116.780 seconds.\u001b[32m [repeated 9x across cluster]\u001b[0m\n",
      "\u001b[36m(worker pid=2788)\u001b[0m New candidate: tensor([[-50.0000,  -7.0270]], dtype=torch.float64), tensor([884.2838], dtype=torch.float64)\u001b[32m [repeated 8x across cluster]\u001b[0m\n",
      "\u001b[36m(worker pid=8932)\u001b[0m New candidate: tensor([[ 11.5881, -28.4256]], dtype=torch.float64), tensor([820.9236], dtype=torch.float64)\n"
     ]
    },
    {
     "name": "stderr",
     "output_type": "stream",
     "text": [
      "\u001b[36m(worker pid=8932)\u001b[0m c:\\Users\\queim\\micromambaenv\\envs\\mobo\\lib\\site-packages\\gpytorch\\likelihoods\\noise_models.py:148: NumericalWarning: Very small noise values detected. This will likely lead to numerical instabilities. Rounding small noise values up to 1e-06.\u001b[32m [repeated 4x across cluster]\u001b[0m\n",
      "\u001b[36m(worker pid=8932)\u001b[0m   warnings.warn(\u001b[32m [repeated 4x across cluster]\u001b[0m\n"
     ]
    },
    {
     "name": "stdout",
     "output_type": "stream",
     "text": [
      "\u001b[36m(worker pid=8932)\u001b[0m New candidate: tensor([[ 10.3265, -38.3447]], dtype=torch.float64), tensor([842.7911], dtype=torch.float64)\n",
      "\u001b[36m(worker pid=7436)\u001b[0m Starting iteration 27, total time: 128.574 seconds.\u001b[32m [repeated 6x across cluster]\u001b[0m\n",
      "\u001b[36m(worker pid=21600)\u001b[0m New candidate: tensor([[50.0000, 46.3396]], dtype=torch.float64), tensor([753.8016], dtype=torch.float64)\u001b[32m [repeated 2x across cluster]\u001b[0m\n",
      "\u001b[36m(worker pid=19872)\u001b[0m New candidate: tensor([[ 50.0000, -27.0164]], dtype=torch.float64), tensor([809.2819], dtype=torch.float64)\u001b[32m [repeated 5x across cluster]\u001b[0m\n"
     ]
    },
    {
     "name": "stderr",
     "output_type": "stream",
     "text": [
      "\u001b[36m(worker pid=21600)\u001b[0m c:\\Users\\queim\\micromambaenv\\envs\\mobo\\lib\\site-packages\\gpytorch\\likelihoods\\noise_models.py:148: NumericalWarning: Very small noise values detected. This will likely lead to numerical instabilities. Rounding small noise values up to 1e-06.\u001b[32m [repeated 5x across cluster]\u001b[0m\n",
      "\u001b[36m(worker pid=21600)\u001b[0m   warnings.warn(\u001b[32m [repeated 5x across cluster]\u001b[0m\n"
     ]
    },
    {
     "name": "stdout",
     "output_type": "stream",
     "text": [
      "\u001b[36m(worker pid=21600)\u001b[0m Starting iteration 20, total time: 132.525 seconds.\u001b[32m [repeated 6x across cluster]\u001b[0m\n",
      "\u001b[36m(worker pid=16224)\u001b[0m New candidate: tensor([[50., 50.]], dtype=torch.float64), tensor([763.6005], dtype=torch.float64)\u001b[32m [repeated 3x across cluster]\u001b[0m\n",
      "\u001b[36m(worker pid=2788)\u001b[0m New candidate: tensor([[ 25.7630, -16.6807]], dtype=torch.float64), tensor([808.9346], dtype=torch.float64)\u001b[32m [repeated 4x across cluster]\u001b[0m\n",
      "\u001b[36m(worker pid=2788)\u001b[0m Starting iteration 25, total time: 133.565 seconds.\u001b[32m [repeated 11x across cluster]\u001b[0m\n",
      "\u001b[36m(worker pid=16224)\u001b[0m New candidate: tensor([[42.8940, 50.0000]], dtype=torch.float64), tensor([792.8038], dtype=torch.float64)\u001b[32m [repeated 4x across cluster]\u001b[0m\n"
     ]
    },
    {
     "name": "stderr",
     "output_type": "stream",
     "text": [
      "\u001b[36m(worker pid=8932)\u001b[0m c:\\Users\\queim\\micromambaenv\\envs\\mobo\\lib\\site-packages\\gpytorch\\likelihoods\\noise_models.py:148: NumericalWarning: Very small noise values detected. This will likely lead to numerical instabilities. Rounding small noise values up to 1e-06.\u001b[32m [repeated 6x across cluster]\u001b[0m\n",
      "\u001b[36m(worker pid=8932)\u001b[0m   warnings.warn(\u001b[32m [repeated 6x across cluster]\u001b[0m\n"
     ]
    },
    {
     "name": "stdout",
     "output_type": "stream",
     "text": [
      "\u001b[36m(worker pid=8932)\u001b[0m New candidate: tensor([[ 30.9688, -28.6224]], dtype=torch.float64), tensor([828.3876], dtype=torch.float64)\u001b[32m [repeated 6x across cluster]\u001b[0m\n",
      "Started 14 10 noise 10 budget 30 seed 1, time: 145.49s\n",
      "\u001b[36m(worker pid=7436)\u001b[0m Starting iteration 1, total time: 4.049 seconds.\u001b[32m [repeated 9x across cluster]\u001b[0m\n",
      "\u001b[36m(worker pid=7436)\u001b[0m New candidate: tensor([[-50., -50.]], dtype=torch.float64), tensor([903.5702], dtype=torch.float64)\u001b[32m [repeated 5x across cluster]\u001b[0m\n"
     ]
    },
    {
     "name": "stderr",
     "output_type": "stream",
     "text": [
      "\u001b[36m(worker pid=8932)\u001b[0m c:\\Users\\queim\\micromambaenv\\envs\\mobo\\lib\\site-packages\\gpytorch\\likelihoods\\noise_models.py:148: NumericalWarning: Very small noise values detected. This will likely lead to numerical instabilities. Rounding small noise values up to 1e-06.\u001b[32m [repeated 4x across cluster]\u001b[0m\n",
      "\u001b[36m(worker pid=8932)\u001b[0m   warnings.warn(\u001b[32m [repeated 4x across cluster]\u001b[0m\n"
     ]
    },
    {
     "name": "stdout",
     "output_type": "stream",
     "text": [
      "\u001b[36m(worker pid=8932)\u001b[0m New candidate: tensor([[ -8.4299, -28.6028]], dtype=torch.float64), tensor([820.0672], dtype=torch.float64)\u001b[32m [repeated 3x across cluster]\u001b[0m\n",
      "Started 15 10 noise 20 budget 30 seed 1, time: 151.66s\n",
      "\u001b[36m(worker pid=7436)\u001b[0m Starting iteration 2, total time: 9.295 seconds.\u001b[32m [repeated 8x across cluster]\u001b[0m\n",
      "\u001b[36m(worker pid=2788)\u001b[0m New candidate: tensor([[31.3218, -5.0777]], dtype=torch.float64), tensor([886.3668], dtype=torch.float64)\u001b[32m [repeated 6x across cluster]\u001b[0m\n",
      "\u001b[36m(worker pid=16224)\u001b[0m New candidate: tensor([[ -3.9800, -50.0000]], dtype=torch.float64), tensor([873.1629], dtype=torch.float64)\u001b[32m [repeated 3x across cluster]\u001b[0m\n"
     ]
    },
    {
     "name": "stderr",
     "output_type": "stream",
     "text": [
      "\u001b[36m(worker pid=18916)\u001b[0m c:\\Users\\queim\\micromambaenv\\envs\\mobo\\lib\\site-packages\\gpytorch\\likelihoods\\noise_models.py:148: NumericalWarning: Very small noise values detected. This will likely lead to numerical instabilities. Rounding small noise values up to 1e-06.\u001b[32m [repeated 6x across cluster]\u001b[0m\n",
      "\u001b[36m(worker pid=18916)\u001b[0m   warnings.warn(\u001b[32m [repeated 6x across cluster]\u001b[0m\n"
     ]
    },
    {
     "name": "stdout",
     "output_type": "stream",
     "text": [
      "Started 16 10 noise 20 budget 30 seed 1, time: 156.41s\n",
      "\u001b[36m(worker pid=7436)\u001b[0m Starting iteration 3, total time: 14.962 seconds.\u001b[32m [repeated 9x across cluster]\u001b[0m\n",
      "\u001b[36m(worker pid=11148)\u001b[0m New candidate: tensor([[-26.1165,  44.1587]], dtype=torch.float64), tensor([810.5547], dtype=torch.float64)\u001b[32m [repeated 2x across cluster]\u001b[0m\n",
      "\u001b[36m(worker pid=7436)\u001b[0m New candidate: tensor([[ -3.1083, -11.8278]], dtype=torch.float64), tensor([846.2030], dtype=torch.float64)\u001b[32m [repeated 5x across cluster]\u001b[0m\n"
     ]
    },
    {
     "name": "stderr",
     "output_type": "stream",
     "text": [
      "\u001b[36m(worker pid=19872)\u001b[0m c:\\Users\\queim\\micromambaenv\\envs\\mobo\\lib\\site-packages\\gpytorch\\likelihoods\\noise_models.py:148: NumericalWarning: Very small noise values detected. This will likely lead to numerical instabilities. Rounding small noise values up to 1e-06.\u001b[32m [repeated 5x across cluster]\u001b[0m\n",
      "\u001b[36m(worker pid=19872)\u001b[0m   warnings.warn(\u001b[32m [repeated 5x across cluster]\u001b[0m\n"
     ]
    },
    {
     "name": "stdout",
     "output_type": "stream",
     "text": [
      "0\n",
      "\u001b[36m(worker pid=18916)\u001b[0m Starting iteration 2, total time: 9.647 seconds.\u001b[32m [repeated 9x across cluster]\u001b[0m\n",
      "\u001b[36m(worker pid=11148)\u001b[0m New candidate: tensor([[-25.6619,  50.0000]], dtype=torch.float64), tensor([790.4702], dtype=torch.float64)\u001b[32m [repeated 4x across cluster]\u001b[0m\n",
      "\u001b[36m(worker pid=18916)\u001b[0m New candidate: tensor([[  7.2330, -26.9222]], dtype=torch.float64), tensor([789.4201], dtype=torch.float64)\u001b[32m [repeated 5x across cluster]\u001b[0m\n",
      "0\n"
     ]
    },
    {
     "name": "stderr",
     "output_type": "stream",
     "text": [
      "\u001b[36m(worker pid=8932)\u001b[0m c:\\Users\\queim\\micromambaenv\\envs\\mobo\\lib\\site-packages\\gpytorch\\likelihoods\\noise_models.py:148: NumericalWarning: Very small noise values detected. This will likely lead to numerical instabilities. Rounding small noise values up to 1e-06.\u001b[32m [repeated 8x across cluster]\u001b[0m\n",
      "\u001b[36m(worker pid=8932)\u001b[0m   warnings.warn(\u001b[32m [repeated 8x across cluster]\u001b[0m\n"
     ]
    },
    {
     "name": "stdout",
     "output_type": "stream",
     "text": [
      "0\n",
      "\u001b[36m(worker pid=19872)\u001b[0m Starting iteration 4, total time: 19.373 seconds.\u001b[32m [repeated 8x across cluster]\u001b[0m\n",
      "\u001b[36m(worker pid=19872)\u001b[0m New candidate: tensor([[-15.2542, -10.3626]], dtype=torch.float64), tensor([835.2637], dtype=torch.float64)\u001b[32m [repeated 3x across cluster]\u001b[0m\n",
      "\u001b[36m(worker pid=19872)\u001b[0m New candidate: tensor([[ 13.9418, -34.5552]], dtype=torch.float64), tensor([809.1237], dtype=torch.float64)\u001b[32m [repeated 5x across cluster]\u001b[0m\n",
      "0\n"
     ]
    },
    {
     "name": "stderr",
     "output_type": "stream",
     "text": [
      "\u001b[36m(worker pid=8932)\u001b[0m c:\\Users\\queim\\micromambaenv\\envs\\mobo\\lib\\site-packages\\gpytorch\\likelihoods\\noise_models.py:148: NumericalWarning: Very small noise values detected. This will likely lead to numerical instabilities. Rounding small noise values up to 1e-06.\u001b[32m [repeated 6x across cluster]\u001b[0m\n",
      "\u001b[36m(worker pid=8932)\u001b[0m   warnings.warn(\u001b[32m [repeated 6x across cluster]\u001b[0m\n"
     ]
    },
    {
     "name": "stdout",
     "output_type": "stream",
     "text": [
      "\u001b[36m(worker pid=2788)\u001b[0m Starting iteration 2, total time: 9.338 seconds.\u001b[32m [repeated 10x across cluster]\u001b[0m\n",
      "\u001b[36m(worker pid=2788)\u001b[0m New candidate: tensor([[-24.6997,  47.8755]], dtype=torch.float64), tensor([765.0407], dtype=torch.float64)\u001b[32m [repeated 5x across cluster]\u001b[0m\n",
      "\u001b[36m(worker pid=18916)\u001b[0m New candidate: tensor([[ -0.6654, -12.1565]], dtype=torch.float64), tensor([788.3081], dtype=torch.float64)\u001b[32m [repeated 5x across cluster]\u001b[0m\n"
     ]
    },
    {
     "name": "stderr",
     "output_type": "stream",
     "text": [
      "\u001b[36m(worker pid=19872)\u001b[0m c:\\Users\\queim\\micromambaenv\\envs\\mobo\\lib\\site-packages\\gpytorch\\likelihoods\\noise_models.py:148: NumericalWarning: Very small noise values detected. This will likely lead to numerical instabilities. Rounding small noise values up to 1e-06.\u001b[32m [repeated 5x across cluster]\u001b[0m\n",
      "\u001b[36m(worker pid=19872)\u001b[0m   warnings.warn(\u001b[32m [repeated 5x across cluster]\u001b[0m\n"
     ]
    },
    {
     "name": "stdout",
     "output_type": "stream",
     "text": [
      "\u001b[36m(worker pid=7436)\u001b[0m Starting iteration 8, total time: 37.944 seconds.\u001b[32m [repeated 11x across cluster]\u001b[0m\n",
      "\u001b[36m(worker pid=16224)\u001b[0m New candidate: tensor([[-5.1859, -7.0773]], dtype=torch.float64), tensor([799.1559], dtype=torch.float64)\u001b[32m [repeated 5x across cluster]\u001b[0m\n",
      "\u001b[36m(worker pid=7436)\u001b[0m New candidate: tensor([[ -0.8872, -24.8199]], dtype=torch.float64), tensor([812.2661], dtype=torch.float64)\u001b[32m [repeated 6x across cluster]\u001b[0m\n"
     ]
    },
    {
     "name": "stderr",
     "output_type": "stream",
     "text": [
      "\u001b[36m(worker pid=16224)\u001b[0m c:\\Users\\queim\\micromambaenv\\envs\\mobo\\lib\\site-packages\\gpytorch\\likelihoods\\noise_models.py:148: NumericalWarning: Very small noise values detected. This will likely lead to numerical instabilities. Rounding small noise values up to 1e-06.\u001b[32m [repeated 6x across cluster]\u001b[0m\n",
      "\u001b[36m(worker pid=16224)\u001b[0m   warnings.warn(\u001b[32m [repeated 6x across cluster]\u001b[0m\n"
     ]
    },
    {
     "name": "stdout",
     "output_type": "stream",
     "text": [
      "\u001b[36m(worker pid=2788)\u001b[0m Starting iteration 5, total time: 21.111 seconds.\u001b[32m [repeated 10x across cluster]\u001b[0m\n",
      "\u001b[36m(worker pid=2788)\u001b[0m New candidate: tensor([[-50.0000,  40.9712]], dtype=torch.float64), tensor([879.9357], dtype=torch.float64)\u001b[32m [repeated 9x across cluster]\u001b[0m\n",
      "\u001b[36m(worker pid=16224)\u001b[0m New candidate: tensor([[ -5.2461, -25.6446]], dtype=torch.float64), tensor([852.7321], dtype=torch.float64)\n",
      "\u001b[36m(worker pid=19872)\u001b[0m New candidate: tensor([[ 43.2992, -38.5375]], dtype=torch.float64), tensor([819.8991], dtype=torch.float64)\n"
     ]
    },
    {
     "name": "stderr",
     "output_type": "stream",
     "text": [
      "\u001b[36m(worker pid=8932)\u001b[0m c:\\Users\\queim\\micromambaenv\\envs\\mobo\\lib\\site-packages\\gpytorch\\likelihoods\\noise_models.py:148: NumericalWarning: Very small noise values detected. This will likely lead to numerical instabilities. Rounding small noise values up to 1e-06.\u001b[32m [repeated 5x across cluster]\u001b[0m\n",
      "\u001b[36m(worker pid=8932)\u001b[0m   warnings.warn(\u001b[32m [repeated 5x across cluster]\u001b[0m\n"
     ]
    },
    {
     "name": "stdout",
     "output_type": "stream",
     "text": [
      "\u001b[36m(worker pid=8932)\u001b[0m Starting iteration 6, total time: 25.745 seconds.\u001b[32m [repeated 9x across cluster]\u001b[0m\n",
      "\u001b[36m(worker pid=11148)\u001b[0m New candidate: tensor([[-32.0303,  50.0000]], dtype=torch.float64), tensor([806.4923], dtype=torch.float64)\u001b[32m [repeated 5x across cluster]\u001b[0m\n",
      "\u001b[36m(worker pid=8932)\u001b[0m New candidate: tensor([[ 50.0000, -10.4556]], dtype=torch.float64), tensor([790.5641], dtype=torch.float64)\u001b[32m [repeated 3x across cluster]\u001b[0m\n",
      "0\n"
     ]
    },
    {
     "name": "stderr",
     "output_type": "stream",
     "text": [
      "\u001b[36m(worker pid=19872)\u001b[0m c:\\Users\\queim\\micromambaenv\\envs\\mobo\\lib\\site-packages\\gpytorch\\likelihoods\\noise_models.py:148: NumericalWarning: Very small noise values detected. This will likely lead to numerical instabilities. Rounding small noise values up to 1e-06.\u001b[32m [repeated 6x across cluster]\u001b[0m\n",
      "\u001b[36m(worker pid=19872)\u001b[0m   warnings.warn(\u001b[32m [repeated 6x across cluster]\u001b[0m\n"
     ]
    },
    {
     "name": "stdout",
     "output_type": "stream",
     "text": [
      "\u001b[36m(worker pid=19872)\u001b[0m Starting iteration 10, total time: 48.259 seconds.\u001b[32m [repeated 9x across cluster]\u001b[0m\n",
      "\u001b[36m(worker pid=19872)\u001b[0m New candidate: tensor([[-14.4521, -20.6974]], dtype=torch.float64), tensor([788.0802], dtype=torch.float64)\u001b[32m [repeated 6x across cluster]\u001b[0m\n",
      "\u001b[36m(worker pid=21600)\u001b[0m New candidate: tensor([[ 48.5349, -38.2677]], dtype=torch.float64), tensor([807.3869], dtype=torch.float64)\u001b[32m [repeated 3x across cluster]\u001b[0m\n",
      "\u001b[36m(worker pid=18916)\u001b[0m Starting iteration 10, total time: 49.010 seconds.\u001b[32m [repeated 9x across cluster]\u001b[0m\n",
      "\u001b[36m(worker pid=18916)\u001b[0m New candidate: tensor([[-12.7355,  -9.1832]], dtype=torch.float64), tensor([792.5068], dtype=torch.float64)\u001b[32m [repeated 8x across cluster]\u001b[0m\n",
      "\u001b[36m(worker pid=19872)\u001b[0m New candidate: tensor([[ 19.2634, -43.2288]], dtype=torch.float64), tensor([865.4372], dtype=torch.float64)\n",
      "\u001b[36m(worker pid=11148)\u001b[0m New candidate: tensor([[ 50., -50.]], dtype=torch.float64), tensor([820.4086], dtype=torch.float64)\n"
     ]
    },
    {
     "name": "stderr",
     "output_type": "stream",
     "text": [
      "\u001b[36m(worker pid=8932)\u001b[0m c:\\Users\\queim\\micromambaenv\\envs\\mobo\\lib\\site-packages\\gpytorch\\likelihoods\\noise_models.py:148: NumericalWarning: Very small noise values detected. This will likely lead to numerical instabilities. Rounding small noise values up to 1e-06.\u001b[32m [repeated 5x across cluster]\u001b[0m\n",
      "\u001b[36m(worker pid=8932)\u001b[0m   warnings.warn(\u001b[32m [repeated 5x across cluster]\u001b[0m\n"
     ]
    },
    {
     "name": "stdout",
     "output_type": "stream",
     "text": [
      "\u001b[36m(worker pid=18916)\u001b[0m Starting iteration 11, total time: 54.396 seconds.\u001b[32m [repeated 8x across cluster]\u001b[0m\n",
      "\u001b[36m(worker pid=18916)\u001b[0m New candidate: tensor([[-28.7328, -10.3676]], dtype=torch.float64), tensor([807.7967], dtype=torch.float64)\u001b[32m [repeated 5x across cluster]\u001b[0m\n",
      "\u001b[36m(worker pid=16224)\u001b[0m New candidate: tensor([[ -2.0508, -20.0832]], dtype=torch.float64), tensor([849.6891], dtype=torch.float64)\u001b[32m [repeated 2x across cluster]\u001b[0m\n"
     ]
    },
    {
     "name": "stderr",
     "output_type": "stream",
     "text": [
      "\u001b[36m(worker pid=21600)\u001b[0m c:\\Users\\queim\\micromambaenv\\envs\\mobo\\lib\\site-packages\\gpytorch\\likelihoods\\noise_models.py:148: NumericalWarning: Very small noise values detected. This will likely lead to numerical instabilities. Rounding small noise values up to 1e-06.\u001b[32m [repeated 5x across cluster]\u001b[0m\n",
      "\u001b[36m(worker pid=21600)\u001b[0m   warnings.warn(\u001b[32m [repeated 5x across cluster]\u001b[0m\n"
     ]
    },
    {
     "name": "stdout",
     "output_type": "stream",
     "text": [
      "\u001b[36m(worker pid=8932)\u001b[0m Starting iteration 11, total time: 47.945 seconds.\u001b[32m [repeated 9x across cluster]\u001b[0m\n",
      "\u001b[36m(worker pid=8932)\u001b[0m New candidate: tensor([[-37.2390,  32.6825]], dtype=torch.float64), tensor([837.7983], dtype=torch.float64)\u001b[32m [repeated 7x across cluster]\u001b[0m\n",
      "\u001b[36m(worker pid=18916)\u001b[0m New candidate: tensor([[ -9.7445, -15.3912]], dtype=torch.float64), tensor([819.6380], dtype=torch.float64)\u001b[32m [repeated 2x across cluster]\u001b[0m\n"
     ]
    },
    {
     "name": "stderr",
     "output_type": "stream",
     "text": [
      "\u001b[36m(worker pid=21600)\u001b[0m c:\\Users\\queim\\micromambaenv\\envs\\mobo\\lib\\site-packages\\gpytorch\\likelihoods\\noise_models.py:148: NumericalWarning: Very small noise values detected. This will likely lead to numerical instabilities. Rounding small noise values up to 1e-06.\u001b[32m [repeated 4x across cluster]\u001b[0m\n",
      "\u001b[36m(worker pid=21600)\u001b[0m   warnings.warn(\u001b[32m [repeated 4x across cluster]\u001b[0m\n"
     ]
    },
    {
     "name": "stdout",
     "output_type": "stream",
     "text": [
      "\u001b[36m(worker pid=2788)\u001b[0m Starting iteration 12, total time: 55.075 seconds.\u001b[32m [repeated 9x across cluster]\u001b[0m\n",
      "\u001b[36m(worker pid=2788)\u001b[0m New candidate: tensor([[-29.2553,  50.0000]], dtype=torch.float64), tensor([791.5271], dtype=torch.float64)\u001b[32m [repeated 8x across cluster]\u001b[0m\n",
      "\u001b[36m(worker pid=16224)\u001b[0m New candidate: tensor([[ -0.4768, -12.8039]], dtype=torch.float64), tensor([826.4063], dtype=torch.float64)\n"
     ]
    },
    {
     "name": "stderr",
     "output_type": "stream",
     "text": [
      "\u001b[36m(worker pid=19872)\u001b[0m c:\\Users\\queim\\micromambaenv\\envs\\mobo\\lib\\site-packages\\gpytorch\\likelihoods\\noise_models.py:148: NumericalWarning: Very small noise values detected. This will likely lead to numerical instabilities. Rounding small noise values up to 1e-06.\u001b[32m [repeated 5x across cluster]\u001b[0m\n",
      "\u001b[36m(worker pid=19872)\u001b[0m   warnings.warn(\u001b[32m [repeated 5x across cluster]\u001b[0m\n"
     ]
    },
    {
     "name": "stdout",
     "output_type": "stream",
     "text": [
      "\u001b[36m(worker pid=19872)\u001b[0m New candidate: tensor([[  5.7003, -22.8672]], dtype=torch.float64), tensor([809.5272], dtype=torch.float64)\n",
      "\u001b[36m(worker pid=2788)\u001b[0m Starting iteration 13, total time: 60.470 seconds.\u001b[32m [repeated 8x across cluster]\u001b[0m\n",
      "\u001b[36m(worker pid=2788)\u001b[0m New candidate: tensor([[43.7032, 50.0000]], dtype=torch.float64), tensor([797.4740], dtype=torch.float64)\u001b[32m [repeated 6x across cluster]\u001b[0m\n",
      "\u001b[36m(worker pid=18916)\u001b[0m New candidate: tensor([[ -6.5204, -50.0000]], dtype=torch.float64), tensor([873.5776], dtype=torch.float64)\u001b[32m [repeated 2x across cluster]\u001b[0m\n"
     ]
    },
    {
     "name": "stderr",
     "output_type": "stream",
     "text": [
      "\u001b[36m(worker pid=19872)\u001b[0m c:\\Users\\queim\\micromambaenv\\envs\\mobo\\lib\\site-packages\\gpytorch\\likelihoods\\noise_models.py:148: NumericalWarning: Very small noise values detected. This will likely lead to numerical instabilities. Rounding small noise values up to 1e-06.\u001b[32m [repeated 4x across cluster]\u001b[0m\n",
      "\u001b[36m(worker pid=19872)\u001b[0m   warnings.warn(\u001b[32m [repeated 4x across cluster]\u001b[0m\n"
     ]
    },
    {
     "name": "stdout",
     "output_type": "stream",
     "text": [
      "\u001b[36m(worker pid=7436)\u001b[0m Starting iteration 18, total time: 87.896 seconds.\u001b[32m [repeated 9x across cluster]\u001b[0m\n",
      "\u001b[36m(worker pid=7436)\u001b[0m New candidate: tensor([[40.3901, 50.0000]], dtype=torch.float64), tensor([805.4399], dtype=torch.float64)\u001b[32m [repeated 7x across cluster]\u001b[0m\n",
      "\u001b[36m(worker pid=18916)\u001b[0m New candidate: tensor([[  7.3687, -16.1100]], dtype=torch.float64), tensor([805.0210], dtype=torch.float64)\u001b[32m [repeated 2x across cluster]\u001b[0m\n"
     ]
    },
    {
     "name": "stderr",
     "output_type": "stream",
     "text": [
      "\u001b[36m(worker pid=19872)\u001b[0m c:\\Users\\queim\\micromambaenv\\envs\\mobo\\lib\\site-packages\\gpytorch\\likelihoods\\noise_models.py:148: NumericalWarning: Very small noise values detected. This will likely lead to numerical instabilities. Rounding small noise values up to 1e-06.\u001b[32m [repeated 4x across cluster]\u001b[0m\n",
      "\u001b[36m(worker pid=19872)\u001b[0m   warnings.warn(\u001b[32m [repeated 4x across cluster]\u001b[0m\n"
     ]
    },
    {
     "name": "stdout",
     "output_type": "stream",
     "text": [
      "\u001b[36m(worker pid=2788)\u001b[0m Starting iteration 15, total time: 70.966 seconds.\u001b[32m [repeated 6x across cluster]\u001b[0m\n",
      "\u001b[36m(worker pid=21600)\u001b[0m New candidate: tensor([[41.4368, 14.5369]], dtype=torch.float64), tensor([823.0945], dtype=torch.float64)\u001b[32m [repeated 3x across cluster]\u001b[0m\n",
      "\u001b[36m(worker pid=19872)\u001b[0m New candidate: tensor([[ 40.3352, -35.4813]], dtype=torch.float64), tensor([829.6786], dtype=torch.float64)\u001b[32m [repeated 4x across cluster]\u001b[0m\n"
     ]
    },
    {
     "name": "stderr",
     "output_type": "stream",
     "text": [
      "\u001b[36m(worker pid=21600)\u001b[0m c:\\Users\\queim\\micromambaenv\\envs\\mobo\\lib\\site-packages\\gpytorch\\likelihoods\\noise_models.py:148: NumericalWarning: Very small noise values detected. This will likely lead to numerical instabilities. Rounding small noise values up to 1e-06.\u001b[32m [repeated 5x across cluster]\u001b[0m\n",
      "\u001b[36m(worker pid=21600)\u001b[0m   warnings.warn(\u001b[32m [repeated 5x across cluster]\u001b[0m\n"
     ]
    },
    {
     "name": "stdout",
     "output_type": "stream",
     "text": [
      "\u001b[36m(worker pid=7436)\u001b[0m Starting iteration 20, total time: 98.177 seconds.\u001b[32m [repeated 10x across cluster]\u001b[0m\n",
      "\u001b[36m(worker pid=7436)\u001b[0m New candidate: tensor([[-23.9160,  21.9873]], dtype=torch.float64), tensor([847.8563], dtype=torch.float64)\u001b[32m [repeated 7x across cluster]\u001b[0m\n",
      "\u001b[36m(worker pid=16224)\u001b[0m New candidate: tensor([[ -0.0502, -19.0402]], dtype=torch.float64), tensor([816.6353], dtype=torch.float64)\n",
      "\u001b[36m(worker pid=19872)\u001b[0m New candidate: tensor([[ 50.0000, -32.5339]], dtype=torch.float64), tensor([773.7052], dtype=torch.float64)\n"
     ]
    },
    {
     "name": "stderr",
     "output_type": "stream",
     "text": [
      "\u001b[36m(worker pid=19872)\u001b[0m c:\\Users\\queim\\micromambaenv\\envs\\mobo\\lib\\site-packages\\gpytorch\\likelihoods\\noise_models.py:148: NumericalWarning: Very small noise values detected. This will likely lead to numerical instabilities. Rounding small noise values up to 1e-06.\u001b[32m [repeated 3x across cluster]\u001b[0m\n",
      "\u001b[36m(worker pid=19872)\u001b[0m   warnings.warn(\u001b[32m [repeated 3x across cluster]\u001b[0m\n"
     ]
    },
    {
     "name": "stdout",
     "output_type": "stream",
     "text": [
      "\u001b[36m(worker pid=2788)\u001b[0m Starting iteration 17, total time: 81.008 seconds.\u001b[32m [repeated 7x across cluster]\u001b[0m\n",
      "\u001b[36m(worker pid=2788)\u001b[0m New candidate: tensor([[-31.4983, -50.0000]], dtype=torch.float64), tensor([852.5990], dtype=torch.float64)\u001b[32m [repeated 6x across cluster]\u001b[0m\n"
     ]
    },
    {
     "name": "stderr",
     "output_type": "stream",
     "text": [
      "\u001b[36m(worker pid=8932)\u001b[0m c:\\Users\\queim\\micromambaenv\\envs\\mobo\\lib\\site-packages\\gpytorch\\likelihoods\\noise_models.py:148: NumericalWarning: Very small noise values detected. This will likely lead to numerical instabilities. Rounding small noise values up to 1e-06.\u001b[32m [repeated 3x across cluster]\u001b[0m\n",
      "\u001b[36m(worker pid=8932)\u001b[0m   warnings.warn(\u001b[32m [repeated 3x across cluster]\u001b[0m\n"
     ]
    },
    {
     "name": "stdout",
     "output_type": "stream",
     "text": [
      "\u001b[36m(worker pid=19872)\u001b[0m New candidate: tensor([[ 50.0000, -30.7047]], dtype=torch.float64), tensor([793.2208], dtype=torch.float64)\n",
      "\u001b[36m(worker pid=7436)\u001b[0m Starting iteration 22, total time: 108.773 seconds.\u001b[32m [repeated 7x across cluster]\u001b[0m\n",
      "\u001b[36m(worker pid=7436)\u001b[0m New candidate: tensor([[50.0000, 17.2285]], dtype=torch.float64), tensor([822.1293], dtype=torch.float64)\u001b[32m [repeated 6x across cluster]\u001b[0m\n"
     ]
    },
    {
     "name": "stderr",
     "output_type": "stream",
     "text": [
      "\u001b[36m(worker pid=19872)\u001b[0m c:\\Users\\queim\\micromambaenv\\envs\\mobo\\lib\\site-packages\\gpytorch\\likelihoods\\noise_models.py:148: NumericalWarning: Very small noise values detected. This will likely lead to numerical instabilities. Rounding small noise values up to 1e-06.\u001b[32m [repeated 5x across cluster]\u001b[0m\n",
      "\u001b[36m(worker pid=19872)\u001b[0m   warnings.warn(\u001b[32m [repeated 5x across cluster]\u001b[0m\n"
     ]
    },
    {
     "name": "stdout",
     "output_type": "stream",
     "text": [
      "\u001b[36m(worker pid=8932)\u001b[0m New candidate: tensor([[ 50.0000, -13.6179]], dtype=torch.float64), tensor([786.0627], dtype=torch.float64)\u001b[32m [repeated 3x across cluster]\u001b[0m\n",
      "\u001b[36m(worker pid=2788)\u001b[0m Starting iteration 19, total time: 91.827 seconds.\u001b[32m [repeated 9x across cluster]\u001b[0m\n",
      "\u001b[36m(worker pid=2788)\u001b[0m New candidate: tensor([[-15.4671,  -7.8007]], dtype=torch.float64), tensor([826.9511], dtype=torch.float64)\u001b[32m [repeated 6x across cluster]\u001b[0m\n"
     ]
    },
    {
     "name": "stderr",
     "output_type": "stream",
     "text": [
      "\u001b[36m(worker pid=19872)\u001b[0m c:\\Users\\queim\\micromambaenv\\envs\\mobo\\lib\\site-packages\\gpytorch\\likelihoods\\noise_models.py:148: NumericalWarning: Very small noise values detected. This will likely lead to numerical instabilities. Rounding small noise values up to 1e-06.\u001b[32m [repeated 4x across cluster]\u001b[0m\n",
      "\u001b[36m(worker pid=19872)\u001b[0m   warnings.warn(\u001b[32m [repeated 4x across cluster]\u001b[0m\n"
     ]
    },
    {
     "name": "stdout",
     "output_type": "stream",
     "text": [
      "\u001b[36m(worker pid=19872)\u001b[0m New candidate: tensor([[ 38.7456, -31.9759]], dtype=torch.float64), tensor([826.4608], dtype=torch.float64)\n",
      "\u001b[36m(worker pid=2788)\u001b[0m New candidate: tensor([[ 45.8373, -13.7136]], dtype=torch.float64), tensor([814.5100], dtype=torch.float64)\n",
      "\u001b[36m(worker pid=2788)\u001b[0m Starting iteration 20, total time: 96.914 seconds.\u001b[32m [repeated 7x across cluster]\u001b[0m\n",
      "\u001b[36m(worker pid=7436)\u001b[0m New candidate: tensor([[-30.4446,  50.0000]], dtype=torch.float64), tensor([774.5900], dtype=torch.float64)\u001b[32m [repeated 5x across cluster]\u001b[0m\n"
     ]
    },
    {
     "name": "stderr",
     "output_type": "stream",
     "text": [
      "\u001b[36m(worker pid=19872)\u001b[0m c:\\Users\\queim\\micromambaenv\\envs\\mobo\\lib\\site-packages\\gpytorch\\likelihoods\\noise_models.py:148: NumericalWarning: Very small noise values detected. This will likely lead to numerical instabilities. Rounding small noise values up to 1e-06.\u001b[32m [repeated 5x across cluster]\u001b[0m\n",
      "\u001b[36m(worker pid=19872)\u001b[0m   warnings.warn(\u001b[32m [repeated 5x across cluster]\u001b[0m\n"
     ]
    },
    {
     "name": "stdout",
     "output_type": "stream",
     "text": [
      "\u001b[36m(worker pid=18916)\u001b[0m New candidate: tensor([[ 50.0000, -17.3952]], dtype=torch.float64), tensor([805.6346], dtype=torch.float64)\u001b[32m [repeated 5x across cluster]\u001b[0m\n",
      "\u001b[36m(worker pid=18916)\u001b[0m Starting iteration 23, total time: 113.456 seconds.\u001b[32m [repeated 10x across cluster]\u001b[0m\n",
      "\u001b[36m(worker pid=2788)\u001b[0m New candidate: tensor([[50.0000, 10.5149]], dtype=torch.float64), tensor([796.6671], dtype=torch.float64)\u001b[32m [repeated 5x across cluster]\u001b[0m\n"
     ]
    },
    {
     "name": "stderr",
     "output_type": "stream",
     "text": [
      "\u001b[36m(worker pid=19872)\u001b[0m c:\\Users\\queim\\micromambaenv\\envs\\mobo\\lib\\site-packages\\gpytorch\\likelihoods\\noise_models.py:148: NumericalWarning: Very small noise values detected. This will likely lead to numerical instabilities. Rounding small noise values up to 1e-06.\u001b[32m [repeated 4x across cluster]\u001b[0m\n",
      "\u001b[36m(worker pid=19872)\u001b[0m   warnings.warn(\u001b[32m [repeated 4x across cluster]\u001b[0m\n"
     ]
    },
    {
     "name": "stdout",
     "output_type": "stream",
     "text": [
      "\u001b[36m(worker pid=2788)\u001b[0m New candidate: tensor([[ 41.7309, -34.3034]], dtype=torch.float64), tensor([812.4763], dtype=torch.float64)\u001b[32m [repeated 3x across cluster]\u001b[0m\n",
      "\u001b[36m(worker pid=19872)\u001b[0m Starting iteration 24, total time: 123.603 seconds.\u001b[32m [repeated 7x across cluster]\u001b[0m\n",
      "\u001b[36m(worker pid=19872)\u001b[0m New candidate: tensor([[-33.2006,  -1.5149]], dtype=torch.float64), tensor([816.0258], dtype=torch.float64)\u001b[32m [repeated 4x across cluster]\u001b[0m\n",
      "\u001b[36m(worker pid=2788)\u001b[0m New candidate: tensor([[ 50.0000, -28.5068]], dtype=torch.float64), tensor([772.5629], dtype=torch.float64)\u001b[32m [repeated 3x across cluster]\u001b[0m\n",
      "\u001b[36m(worker pid=18916)\u001b[0m Starting iteration 25, total time: 124.341 seconds.\u001b[32m [repeated 8x across cluster]\u001b[0m\n",
      "\u001b[36m(worker pid=18916)\u001b[0m New candidate: tensor([[-8.5319, 50.0000]], dtype=torch.float64), tensor([801.9322], dtype=torch.float64)\u001b[32m [repeated 5x across cluster]\u001b[0m\n"
     ]
    },
    {
     "name": "stderr",
     "output_type": "stream",
     "text": [
      "\u001b[36m(worker pid=21600)\u001b[0m c:\\Users\\queim\\micromambaenv\\envs\\mobo\\lib\\site-packages\\gpytorch\\likelihoods\\noise_models.py:148: NumericalWarning: Very small noise values detected. This will likely lead to numerical instabilities. Rounding small noise values up to 1e-06.\u001b[32m [repeated 4x across cluster]\u001b[0m\n",
      "\u001b[36m(worker pid=21600)\u001b[0m   warnings.warn(\u001b[32m [repeated 4x across cluster]\u001b[0m\n"
     ]
    },
    {
     "name": "stdout",
     "output_type": "stream",
     "text": [
      "\u001b[36m(worker pid=16224)\u001b[0m New candidate: tensor([[  3.1303, -18.8035]], dtype=torch.float64), tensor([803.7331], dtype=torch.float64)\n",
      "\u001b[36m(worker pid=19872)\u001b[0m Starting iteration 26, total time: 134.097 seconds.\u001b[32m [repeated 9x across cluster]\u001b[0m\n",
      "\u001b[36m(worker pid=19872)\u001b[0m New candidate: tensor([[-50.0000,   2.1180]], dtype=torch.float64), tensor([861.9473], dtype=torch.float64)\u001b[32m [repeated 8x across cluster]\u001b[0m\n",
      "\u001b[36m(worker pid=11148)\u001b[0m New candidate: tensor([[ 50.0000, -31.2472]], dtype=torch.float64), tensor([768.8106], dtype=torch.float64)\n"
     ]
    },
    {
     "name": "stderr",
     "output_type": "stream",
     "text": [
      "\u001b[36m(worker pid=8932)\u001b[0m c:\\Users\\queim\\micromambaenv\\envs\\mobo\\lib\\site-packages\\gpytorch\\likelihoods\\noise_models.py:148: NumericalWarning: Very small noise values detected. This will likely lead to numerical instabilities. Rounding small noise values up to 1e-06.\u001b[32m [repeated 5x across cluster]\u001b[0m\n",
      "\u001b[36m(worker pid=8932)\u001b[0m   warnings.warn(\u001b[32m [repeated 5x across cluster]\u001b[0m\n"
     ]
    },
    {
     "name": "stdout",
     "output_type": "stream",
     "text": [
      "\u001b[36m(worker pid=11148)\u001b[0m Starting iteration 24, total time: 118.792 seconds.\u001b[32m [repeated 10x across cluster]\u001b[0m\n",
      "\u001b[36m(worker pid=18916)\u001b[0m New candidate: tensor([[-24.4003,  50.0000]], dtype=torch.float64), tensor([773.3922], dtype=torch.float64)\u001b[32m [repeated 6x across cluster]\u001b[0m\n"
     ]
    },
    {
     "name": "stderr",
     "output_type": "stream",
     "text": [
      "\u001b[36m(worker pid=8932)\u001b[0m c:\\Users\\queim\\micromambaenv\\envs\\mobo\\lib\\site-packages\\gpytorch\\likelihoods\\noise_models.py:148: NumericalWarning: Very small noise values detected. This will likely lead to numerical instabilities. Rounding small noise values up to 1e-06.\u001b[32m [repeated 5x across cluster]\u001b[0m\n",
      "\u001b[36m(worker pid=8932)\u001b[0m   warnings.warn(\u001b[32m [repeated 5x across cluster]\u001b[0m\n"
     ]
    },
    {
     "name": "stdout",
     "output_type": "stream",
     "text": [
      "\u001b[36m(worker pid=8932)\u001b[0m New candidate: tensor([[ 50.0000, -14.8577]], dtype=torch.float64), tensor([785.9328], dtype=torch.float64)\u001b[32m [repeated 4x across cluster]\u001b[0m\n"
     ]
    },
    {
     "name": "stderr",
     "output_type": "stream",
     "text": [
      "\u001b[36m(worker pid=8932)\u001b[0m c:\\Users\\queim\\micromambaenv\\envs\\mobo\\lib\\site-packages\\gpytorch\\likelihoods\\noise_models.py:148: NumericalWarning: Very small noise values detected. This will likely lead to numerical instabilities. Rounding small noise values up to 1e-06.\u001b[32m [repeated 4x across cluster]\u001b[0m\n",
      "\u001b[36m(worker pid=8932)\u001b[0m   warnings.warn(\u001b[32m [repeated 4x across cluster]\u001b[0m\n"
     ]
    },
    {
     "name": "stdout",
     "output_type": "stream",
     "text": [
      "\u001b[36m(worker pid=8932)\u001b[0m Starting iteration 24, total time: 129.253 seconds.\u001b[32m [repeated 8x across cluster]\u001b[0m\n",
      "\u001b[36m(worker pid=8932)\u001b[0m New candidate: tensor([[-20.3774,  46.9667]], dtype=torch.float64), tensor([784.1892], dtype=torch.float64)\u001b[32m [repeated 4x across cluster]\u001b[0m\n",
      "\u001b[36m(worker pid=11148)\u001b[0m New candidate: tensor([[ 42.7733, -13.8050]], dtype=torch.float64), tensor([806.1760], dtype=torch.float64)\u001b[32m [repeated 3x across cluster]\u001b[0m\n"
     ]
    },
    {
     "name": "stderr",
     "output_type": "stream",
     "text": [
      "\u001b[36m(worker pid=16224)\u001b[0m c:\\Users\\queim\\micromambaenv\\envs\\mobo\\lib\\site-packages\\gpytorch\\likelihoods\\noise_models.py:148: NumericalWarning: Very small noise values detected. This will likely lead to numerical instabilities. Rounding small noise values up to 1e-06.\u001b[32m [repeated 6x across cluster]\u001b[0m\n",
      "\u001b[36m(worker pid=16224)\u001b[0m   warnings.warn(\u001b[32m [repeated 6x across cluster]\u001b[0m\n"
     ]
    },
    {
     "name": "stdout",
     "output_type": "stream",
     "text": [
      "\u001b[36m(worker pid=16224)\u001b[0m Starting iteration 29, total time: 141.661 seconds.\u001b[32m [repeated 9x across cluster]\u001b[0m\n",
      "\u001b[36m(worker pid=8932)\u001b[0m New candidate: tensor([[-23.1438,  44.4639]], dtype=torch.float64), tensor([791.5253], dtype=torch.float64)\u001b[32m [repeated 7x across cluster]\u001b[0m\n",
      "\u001b[36m(worker pid=16224)\u001b[0m New candidate: tensor([[  1.3242, -19.8745]], dtype=torch.float64), tensor([803.6881], dtype=torch.float64)\u001b[32m [repeated 2x across cluster]\u001b[0m\n",
      "0\n",
      "0\n",
      "0\n",
      "\u001b[36m(worker pid=2788)\u001b[0m Starting iteration 29, total time: 141.226 seconds.\u001b[32m [repeated 5x across cluster]\u001b[0m\n",
      "\u001b[36m(worker pid=2788)\u001b[0m New candidate: tensor([[-23.2098,  50.0000]], dtype=torch.float64), tensor([796.0394], dtype=torch.float64)\u001b[32m [repeated 7x across cluster]\u001b[0m\n",
      "\u001b[36m(worker pid=18916)\u001b[0m New candidate: tensor([[ 50., -50.]], dtype=torch.float64), tensor([830.0307], dtype=torch.float64)\n",
      "\u001b[36m(worker pid=11148)\u001b[0m New candidate: tensor([[ 50.0000, -26.6882]], dtype=torch.float64), tensor([783.2225], dtype=torch.float64)\n"
     ]
    },
    {
     "name": "stderr",
     "output_type": "stream",
     "text": [
      "\u001b[36m(worker pid=21600)\u001b[0m c:\\Users\\queim\\micromambaenv\\envs\\mobo\\lib\\site-packages\\gpytorch\\likelihoods\\noise_models.py:148: NumericalWarning: Very small noise values detected. This will likely lead to numerical instabilities. Rounding small noise values up to 1e-06.\u001b[32m [repeated 5x across cluster]\u001b[0m\n",
      "\u001b[36m(worker pid=21600)\u001b[0m   warnings.warn(\u001b[32m [repeated 5x across cluster]\u001b[0m\n"
     ]
    },
    {
     "name": "stdout",
     "output_type": "stream",
     "text": [
      "0\n"
     ]
    },
    {
     "name": "stderr",
     "output_type": "stream",
     "text": [
      "\u001b[36m(worker pid=21600)\u001b[0m c:\\Users\\queim\\micromambaenv\\envs\\mobo\\lib\\site-packages\\gpytorch\\likelihoods\\noise_models.py:148: NumericalWarning: Very small noise values detected. This will likely lead to numerical instabilities. Rounding small noise values up to 1e-06.\u001b[32m [repeated 3x across cluster]\u001b[0m\n",
      "\u001b[36m(worker pid=21600)\u001b[0m   warnings.warn(\u001b[32m [repeated 3x across cluster]\u001b[0m\n"
     ]
    },
    {
     "name": "stdout",
     "output_type": "stream",
     "text": [
      "\u001b[36m(worker pid=21600)\u001b[0m Starting iteration 25, total time: 116.711 seconds.\u001b[32m [repeated 6x across cluster]\u001b[0m\n",
      "\u001b[36m(worker pid=21600)\u001b[0m New candidate: tensor([[48.4517,  3.3870]], dtype=torch.float64), tensor([790.9030], dtype=torch.float64)\u001b[32m [repeated 5x across cluster]\u001b[0m\n",
      "\u001b[36m(worker pid=2788)\u001b[0m New candidate: tensor([[ 5.9724, 50.0000]], dtype=torch.float64), tensor([806.1060], dtype=torch.float64)\n",
      "\u001b[36m(worker pid=11148)\u001b[0m New candidate: tensor([[ 43.3958, -23.9999]], dtype=torch.float64), tensor([816.2181], dtype=torch.float64)\n",
      "0\n"
     ]
    },
    {
     "name": "stderr",
     "output_type": "stream",
     "text": [
      "\u001b[36m(worker pid=7436)\u001b[0m c:\\Users\\queim\\micromambaenv\\envs\\mobo\\lib\\site-packages\\botorch\\optim\\initializers.py:432: BadInitialCandidatesWarning: Unable to find non-zero acquisition function values - initial conditions are being selected randomly.\n"
     ]
    },
    {
     "name": "stdout",
     "output_type": "stream",
     "text": [
      "0\n"
     ]
    },
    {
     "name": "stderr",
     "output_type": "stream",
     "text": [
      "\u001b[36m(worker pid=8932)\u001b[0m c:\\Users\\queim\\micromambaenv\\envs\\mobo\\lib\\site-packages\\gpytorch\\likelihoods\\noise_models.py:148: NumericalWarning: Very small noise values detected. This will likely lead to numerical instabilities. Rounding small noise values up to 1e-06.\u001b[32m [repeated 5x across cluster]\u001b[0m\n",
      "\u001b[36m(worker pid=8932)\u001b[0m   warnings.warn(\u001b[32m [repeated 6x across cluster]\u001b[0m\n"
     ]
    },
    {
     "name": "stdout",
     "output_type": "stream",
     "text": [
      "\u001b[36m(worker pid=21600)\u001b[0m Starting iteration 27, total time: 120.961 seconds.\u001b[32m [repeated 4x across cluster]\u001b[0m\n",
      "\u001b[36m(worker pid=8932)\u001b[0m New candidate: tensor([[-16.5342,  45.6331]], dtype=torch.float64), tensor([811.4356], dtype=torch.float64)\u001b[32m [repeated 6x across cluster]\u001b[0m\n",
      "0\n",
      "0\n",
      "all experiments done, time: 324.22s\n"
     ]
    }
   ],
   "source": [
    "import torch\n",
    "import pandas as pd\n",
    "from run_grid_experiments import run_grid_experiments\n",
    "\n",
    "seeds = list(range(2))\n",
    "n_inits = [2,10]\n",
    "noise_levels = [10, 20]\n",
    "noise_bools = [True, False]\n",
    "budget = 30\n",
    "run_grid_experiments(seeds, n_inits, noise_levels, noise_bools, budget)"
   ]
  },
  {
   "cell_type": "code",
   "execution_count": 5,
   "metadata": {},
   "outputs": [
    {
     "name": "stderr",
     "output_type": "stream",
     "text": [
      "C:\\Users\\queim\\AppData\\Local\\Temp\\ipykernel_18664\\636701015.py:10: FutureWarning: The behavior of DataFrame concatenation with empty or all-NA entries is deprecated. In a future version, this will no longer exclude empty or all-NA columns when determining the result dtypes. To retain the old behavior, exclude the relevant entries before the concat operation.\n",
      "  df = pd.concat([df, pd.DataFrame({\"n_init\": [n_init], \"noise_level\": [noise_level], \"seed\": [seed], \"noise_bool\": [noise_bool], \"best\": [sliding_min[-1].item()]})])\n"
     ]
    },
    {
     "data": {
      "text/html": [
       "<div>\n",
       "<style scoped>\n",
       "    .dataframe tbody tr th:only-of-type {\n",
       "        vertical-align: middle;\n",
       "    }\n",
       "\n",
       "    .dataframe tbody tr th {\n",
       "        vertical-align: top;\n",
       "    }\n",
       "\n",
       "    .dataframe thead th {\n",
       "        text-align: right;\n",
       "    }\n",
       "</style>\n",
       "<table border=\"1\" class=\"dataframe\">\n",
       "  <thead>\n",
       "    <tr style=\"text-align: right;\">\n",
       "      <th></th>\n",
       "      <th>n_init</th>\n",
       "      <th>noise_level</th>\n",
       "      <th>seed</th>\n",
       "      <th>noise_bool</th>\n",
       "      <th>best</th>\n",
       "    </tr>\n",
       "  </thead>\n",
       "  <tbody>\n",
       "    <tr>\n",
       "      <th>0</th>\n",
       "      <td>2</td>\n",
       "      <td>10</td>\n",
       "      <td>0</td>\n",
       "      <td>True</td>\n",
       "      <td>767.079651</td>\n",
       "    </tr>\n",
       "    <tr>\n",
       "      <th>0</th>\n",
       "      <td>2</td>\n",
       "      <td>10</td>\n",
       "      <td>1</td>\n",
       "      <td>True</td>\n",
       "      <td>767.079651</td>\n",
       "    </tr>\n",
       "    <tr>\n",
       "      <th>0</th>\n",
       "      <td>2</td>\n",
       "      <td>20</td>\n",
       "      <td>0</td>\n",
       "      <td>True</td>\n",
       "      <td>767.079651</td>\n",
       "    </tr>\n",
       "    <tr>\n",
       "      <th>0</th>\n",
       "      <td>2</td>\n",
       "      <td>20</td>\n",
       "      <td>1</td>\n",
       "      <td>True</td>\n",
       "      <td>767.079651</td>\n",
       "    </tr>\n",
       "    <tr>\n",
       "      <th>0</th>\n",
       "      <td>10</td>\n",
       "      <td>10</td>\n",
       "      <td>0</td>\n",
       "      <td>True</td>\n",
       "      <td>767.079651</td>\n",
       "    </tr>\n",
       "    <tr>\n",
       "      <th>0</th>\n",
       "      <td>10</td>\n",
       "      <td>10</td>\n",
       "      <td>1</td>\n",
       "      <td>True</td>\n",
       "      <td>767.079651</td>\n",
       "    </tr>\n",
       "    <tr>\n",
       "      <th>0</th>\n",
       "      <td>10</td>\n",
       "      <td>20</td>\n",
       "      <td>0</td>\n",
       "      <td>True</td>\n",
       "      <td>767.079651</td>\n",
       "    </tr>\n",
       "    <tr>\n",
       "      <th>0</th>\n",
       "      <td>10</td>\n",
       "      <td>20</td>\n",
       "      <td>1</td>\n",
       "      <td>True</td>\n",
       "      <td>767.079651</td>\n",
       "    </tr>\n",
       "    <tr>\n",
       "      <th>0</th>\n",
       "      <td>2</td>\n",
       "      <td>10</td>\n",
       "      <td>0</td>\n",
       "      <td>False</td>\n",
       "      <td>767.079651</td>\n",
       "    </tr>\n",
       "    <tr>\n",
       "      <th>0</th>\n",
       "      <td>2</td>\n",
       "      <td>10</td>\n",
       "      <td>1</td>\n",
       "      <td>False</td>\n",
       "      <td>781.773621</td>\n",
       "    </tr>\n",
       "    <tr>\n",
       "      <th>0</th>\n",
       "      <td>2</td>\n",
       "      <td>20</td>\n",
       "      <td>0</td>\n",
       "      <td>False</td>\n",
       "      <td>767.079651</td>\n",
       "    </tr>\n",
       "    <tr>\n",
       "      <th>0</th>\n",
       "      <td>2</td>\n",
       "      <td>20</td>\n",
       "      <td>1</td>\n",
       "      <td>False</td>\n",
       "      <td>794.947937</td>\n",
       "    </tr>\n",
       "    <tr>\n",
       "      <th>0</th>\n",
       "      <td>10</td>\n",
       "      <td>10</td>\n",
       "      <td>0</td>\n",
       "      <td>False</td>\n",
       "      <td>778.442871</td>\n",
       "    </tr>\n",
       "    <tr>\n",
       "      <th>0</th>\n",
       "      <td>10</td>\n",
       "      <td>10</td>\n",
       "      <td>1</td>\n",
       "      <td>False</td>\n",
       "      <td>779.081116</td>\n",
       "    </tr>\n",
       "    <tr>\n",
       "      <th>0</th>\n",
       "      <td>10</td>\n",
       "      <td>20</td>\n",
       "      <td>0</td>\n",
       "      <td>False</td>\n",
       "      <td>801.972839</td>\n",
       "    </tr>\n",
       "    <tr>\n",
       "      <th>0</th>\n",
       "      <td>10</td>\n",
       "      <td>20</td>\n",
       "      <td>1</td>\n",
       "      <td>False</td>\n",
       "      <td>794.947937</td>\n",
       "    </tr>\n",
       "  </tbody>\n",
       "</table>\n",
       "</div>"
      ],
      "text/plain": [
       "  n_init noise_level seed noise_bool        best\n",
       "0      2          10    0       True  767.079651\n",
       "0      2          10    1       True  767.079651\n",
       "0      2          20    0       True  767.079651\n",
       "0      2          20    1       True  767.079651\n",
       "0     10          10    0       True  767.079651\n",
       "0     10          10    1       True  767.079651\n",
       "0     10          20    0       True  767.079651\n",
       "0     10          20    1       True  767.079651\n",
       "0      2          10    0      False  767.079651\n",
       "0      2          10    1      False  781.773621\n",
       "0      2          20    0      False  767.079651\n",
       "0      2          20    1      False  794.947937\n",
       "0     10          10    0      False  778.442871\n",
       "0     10          10    1      False  779.081116\n",
       "0     10          20    0      False  801.972839\n",
       "0     10          20    1      False  794.947937"
      ]
     },
     "execution_count": 5,
     "metadata": {},
     "output_type": "execute_result"
    }
   ],
   "source": [
    "df = pd.DataFrame(columns=[\"n_init\", \"noise_level\", \"seed\", \"noise_bool\", \"best\"])\n",
    "for noise_bool in noise_bools:\n",
    "    for n_init in n_inits:\n",
    "        for noise_level in noise_levels:\n",
    "            for seed in seeds:\n",
    "                X, Y, Y_real, model = torch.load(f\"results/Schwe_n_init_{n_init}_noiselvl_{noise_level}_budget_{budget}_seed_{seed}_noise_{noise_bool}.pt\")\n",
    "                sliding_min = torch.zeros(Y.shape[0])\n",
    "                for i in range(Y_real.shape[0]):\n",
    "                    sliding_min[i] = Y_real[:i+1].min().item()\n",
    "                df = pd.concat([df, pd.DataFrame({\"n_init\": [n_init], \"noise_level\": [noise_level], \"seed\": [seed], \"noise_bool\": [noise_bool], \"best\": [sliding_min[-1].item()]})])\n",
    "                \n",
    "df                "
   ]
  },
  {
   "cell_type": "code",
   "execution_count": 6,
   "metadata": {},
   "outputs": [
    {
     "name": "stdout",
     "output_type": "stream",
     "text": [
      "GP with noise\n"
     ]
    },
    {
     "data": {
      "text/html": [
       "<style type=\"text/css\">\n",
       "#T_c6db0_row0_col0, #T_c6db0_row0_col1, #T_c6db0_row0_col2, #T_c6db0_row0_col3, #T_c6db0_row1_col0, #T_c6db0_row1_col1, #T_c6db0_row1_col2, #T_c6db0_row1_col3 {\n",
       "  background-color: #440154;\n",
       "  color: #f1f1f1;\n",
       "}\n",
       "</style>\n",
       "<table id=\"T_c6db0\">\n",
       "  <thead>\n",
       "    <tr>\n",
       "      <th class=\"blank level0\" >&nbsp;</th>\n",
       "      <th id=\"T_c6db0_level0_col0\" class=\"col_heading level0 col0\" colspan=\"4\">best</th>\n",
       "    </tr>\n",
       "    <tr>\n",
       "      <th class=\"blank level1\" >&nbsp;</th>\n",
       "      <th id=\"T_c6db0_level1_col0\" class=\"col_heading level1 col0\" colspan=\"2\">mean</th>\n",
       "      <th id=\"T_c6db0_level1_col2\" class=\"col_heading level1 col2\" colspan=\"2\">std</th>\n",
       "    </tr>\n",
       "    <tr>\n",
       "      <th class=\"index_name level2\" >noise_level</th>\n",
       "      <th id=\"T_c6db0_level2_col0\" class=\"col_heading level2 col0\" >10</th>\n",
       "      <th id=\"T_c6db0_level2_col1\" class=\"col_heading level2 col1\" >20</th>\n",
       "      <th id=\"T_c6db0_level2_col2\" class=\"col_heading level2 col2\" >10</th>\n",
       "      <th id=\"T_c6db0_level2_col3\" class=\"col_heading level2 col3\" >20</th>\n",
       "    </tr>\n",
       "    <tr>\n",
       "      <th class=\"index_name level0\" >n_init</th>\n",
       "      <th class=\"blank col0\" >&nbsp;</th>\n",
       "      <th class=\"blank col1\" >&nbsp;</th>\n",
       "      <th class=\"blank col2\" >&nbsp;</th>\n",
       "      <th class=\"blank col3\" >&nbsp;</th>\n",
       "    </tr>\n",
       "  </thead>\n",
       "  <tbody>\n",
       "    <tr>\n",
       "      <th id=\"T_c6db0_level0_row0\" class=\"row_heading level0 row0\" >2</th>\n",
       "      <td id=\"T_c6db0_row0_col0\" class=\"data row0 col0\" >767.08</td>\n",
       "      <td id=\"T_c6db0_row0_col1\" class=\"data row0 col1\" >767.08</td>\n",
       "      <td id=\"T_c6db0_row0_col2\" class=\"data row0 col2\" >0.00</td>\n",
       "      <td id=\"T_c6db0_row0_col3\" class=\"data row0 col3\" >0.00</td>\n",
       "    </tr>\n",
       "    <tr>\n",
       "      <th id=\"T_c6db0_level0_row1\" class=\"row_heading level0 row1\" >10</th>\n",
       "      <td id=\"T_c6db0_row1_col0\" class=\"data row1 col0\" >767.08</td>\n",
       "      <td id=\"T_c6db0_row1_col1\" class=\"data row1 col1\" >767.08</td>\n",
       "      <td id=\"T_c6db0_row1_col2\" class=\"data row1 col2\" >0.00</td>\n",
       "      <td id=\"T_c6db0_row1_col3\" class=\"data row1 col3\" >0.00</td>\n",
       "    </tr>\n",
       "  </tbody>\n",
       "</table>\n"
      ],
      "text/plain": [
       "<pandas.io.formats.style.Styler at 0x1f047627820>"
      ]
     },
     "metadata": {},
     "output_type": "display_data"
    },
    {
     "name": "stdout",
     "output_type": "stream",
     "text": [
      "GP without noise\n"
     ]
    },
    {
     "data": {
      "text/html": [
       "<style type=\"text/css\">\n",
       "#T_6e897_row0_col0, #T_6e897_row0_col1, #T_6e897_row1_col2, #T_6e897_row1_col3 {\n",
       "  background-color: #440154;\n",
       "  color: #f1f1f1;\n",
       "}\n",
       "#T_6e897_row0_col2, #T_6e897_row0_col3, #T_6e897_row1_col0, #T_6e897_row1_col1 {\n",
       "  background-color: #fde725;\n",
       "  color: #000000;\n",
       "}\n",
       "</style>\n",
       "<table id=\"T_6e897\">\n",
       "  <thead>\n",
       "    <tr>\n",
       "      <th class=\"blank level0\" >&nbsp;</th>\n",
       "      <th id=\"T_6e897_level0_col0\" class=\"col_heading level0 col0\" colspan=\"4\">best</th>\n",
       "    </tr>\n",
       "    <tr>\n",
       "      <th class=\"blank level1\" >&nbsp;</th>\n",
       "      <th id=\"T_6e897_level1_col0\" class=\"col_heading level1 col0\" colspan=\"2\">mean</th>\n",
       "      <th id=\"T_6e897_level1_col2\" class=\"col_heading level1 col2\" colspan=\"2\">std</th>\n",
       "    </tr>\n",
       "    <tr>\n",
       "      <th class=\"index_name level2\" >noise_level</th>\n",
       "      <th id=\"T_6e897_level2_col0\" class=\"col_heading level2 col0\" >10</th>\n",
       "      <th id=\"T_6e897_level2_col1\" class=\"col_heading level2 col1\" >20</th>\n",
       "      <th id=\"T_6e897_level2_col2\" class=\"col_heading level2 col2\" >10</th>\n",
       "      <th id=\"T_6e897_level2_col3\" class=\"col_heading level2 col3\" >20</th>\n",
       "    </tr>\n",
       "    <tr>\n",
       "      <th class=\"index_name level0\" >n_init</th>\n",
       "      <th class=\"blank col0\" >&nbsp;</th>\n",
       "      <th class=\"blank col1\" >&nbsp;</th>\n",
       "      <th class=\"blank col2\" >&nbsp;</th>\n",
       "      <th class=\"blank col3\" >&nbsp;</th>\n",
       "    </tr>\n",
       "  </thead>\n",
       "  <tbody>\n",
       "    <tr>\n",
       "      <th id=\"T_6e897_level0_row0\" class=\"row_heading level0 row0\" >2</th>\n",
       "      <td id=\"T_6e897_row0_col0\" class=\"data row0 col0\" >774.43</td>\n",
       "      <td id=\"T_6e897_row0_col1\" class=\"data row0 col1\" >781.01</td>\n",
       "      <td id=\"T_6e897_row0_col2\" class=\"data row0 col2\" >10.39</td>\n",
       "      <td id=\"T_6e897_row0_col3\" class=\"data row0 col3\" >19.71</td>\n",
       "    </tr>\n",
       "    <tr>\n",
       "      <th id=\"T_6e897_level0_row1\" class=\"row_heading level0 row1\" >10</th>\n",
       "      <td id=\"T_6e897_row1_col0\" class=\"data row1 col0\" >778.76</td>\n",
       "      <td id=\"T_6e897_row1_col1\" class=\"data row1 col1\" >798.46</td>\n",
       "      <td id=\"T_6e897_row1_col2\" class=\"data row1 col2\" >0.45</td>\n",
       "      <td id=\"T_6e897_row1_col3\" class=\"data row1 col3\" >4.97</td>\n",
       "    </tr>\n",
       "  </tbody>\n",
       "</table>\n"
      ],
      "text/plain": [
       "<pandas.io.formats.style.Styler at 0x1f0473d6160>"
      ]
     },
     "metadata": {},
     "output_type": "display_data"
    }
   ],
   "source": [
    "df_no_noise = df[df[\"noise_bool\"] == False]\n",
    "df_noise = df[df[\"noise_bool\"] == True]\n",
    "# df = df.groupby([\"n_init\", \"noise_level\", \"noise_bool\"]).agg({\"min\": [\"mean\", \"std\"]})\n",
    "df_no_noise = df_no_noise.groupby([\"n_init\", \"noise_level\"]).agg({\"best\": [\"mean\", \"std\"]})\n",
    "df_noise = df_noise.groupby([\"n_init\", \"noise_level\"]).agg({\"best\": [\"mean\", \"std\"]})\n",
    "print(\"GP with noise\")\n",
    "display(df_noise.unstack().style.format(\"{:.2f}\").background_gradient(cmap='viridis'))\n",
    "print(\"GP without noise\")\n",
    "display(df_no_noise.unstack().style.format(\"{:.2f}\").background_gradient(cmap='viridis'))"
   ]
  }
 ],
 "metadata": {
  "kernelspec": {
   "display_name": "Python 3",
   "language": "python",
   "name": "python3"
  },
  "language_info": {
   "codemirror_mode": {
    "name": "ipython",
    "version": 3
   },
   "file_extension": ".py",
   "mimetype": "text/x-python",
   "name": "python",
   "nbconvert_exporter": "python",
   "pygments_lexer": "ipython3",
   "version": "3.9.18"
  }
 },
 "nbformat": 4,
 "nbformat_minor": 2
}
