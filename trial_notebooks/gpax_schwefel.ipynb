{
 "cells": [
  {
   "cell_type": "code",
   "execution_count": 23,
   "id": "f64ae931",
   "metadata": {},
   "outputs": [],
   "source": [
    "from src.schwefel import SchwefelProblem\n",
    "from time import time\n",
    "import gpax\n",
    "import numpyro"
   ]
  },
  {
   "cell_type": "code",
   "execution_count": 38,
   "id": "b01fe3e8",
   "metadata": {},
   "outputs": [],
   "source": [
    "\n",
    "\n",
    "def schwefel_1d(x):\n",
    "\n",
    "    return 418.9829  - x * np.sin(np.sqrt(np.abs(x)))\n",
    "\n",
    "def schwefel_nd(args):\n",
    "    output = 0\n",
    "    \n",
    "    for dim in range(args):\n",
    "        output += schwefel_1d(args[dim])\n",
    "\n",
    "def add_gaussian_noise(signal, noise_level):\n",
    "\n",
    "    return signal + np.random.normal(0, noise_level, 1)[0]\n",
    "\n",
    "def schwefel_1d_with_noise(x, noise_level = 0.01):\n",
    "    # Calculate the Schwefel function value\n",
    "\n",
    "    schwefel_value = schwefel_1d(x)\n",
    "\n",
    "    # Add Gaussian noise to the Schwefel function value\n",
    "\n",
    "    noisy_schwefel_value = add_gaussian_noise(schwefel_value, noise_level)\n",
    "\n",
    "    return noisy_schwefel_value\n",
    "\n",
    "def schwefel_nd_with_noise(args, noise_level = 0.01):\n",
    "    # Calculate the Schwefel function value\n",
    "\n",
    "    schwefel_value = schwefel_nd(args)\n",
    "\n",
    "    # Add Gaussian noise to the Schwefel function value\n",
    "\n",
    "    noisy_schwefel_value = add_gaussian_noise(schwefel_value, noise_level)\n",
    "\n",
    "    return noisy_schwefel_value\n",
    "\n",
    "\n"
   ]
  },
  {
   "cell_type": "code",
   "execution_count": 39,
   "id": "ecbf7466",
   "metadata": {},
   "outputs": [],
   "source": [
    "\n",
    "def create_data(seed, n_init, noise_level):\n",
    "\n",
    "    np.random.seed(seed)\n",
    "    X_bounds = np.array([-500,  500])\n",
    "    X = np.random.uniform(X_bounds[0], X_bounds[1], size=( n_init,))\n",
    "    X = np.append(X, X_bounds)\n",
    "    X = np.sort(X)\n",
    "    y = schwefel_1d_with_noise(X, noise_level = noise_level)\n",
    "\n",
    "    X_unmeasured = np.linspace(X_bounds[0], X_bounds[1], 200)\n",
    "    ground_truth = schwefel_1d_with_noise(X_unmeasured, noise_level = 0)\n",
    "    \n",
    "    return X, y, X_unmeasured, ground_truth\n"
   ]
  },
  {
   "cell_type": "code",
   "execution_count": 40,
   "id": "ae1578be",
   "metadata": {},
   "outputs": [],
   "source": [
    "noise_prior = lambda: numpyro.sample(\"noise\", numpyro.distributions.HalfNormal(0.01))"
   ]
  },
  {
   "cell_type": "code",
   "execution_count": 41,
   "id": "5ba4e33f",
   "metadata": {},
   "outputs": [],
   "source": [
    "def gp_kernel_prior():\n",
    "    length = numpyro.sample(\"k_length\", numpyro.distributions.Uniform(0.1, 2)) #0.1 2\n",
    "    scale = numpyro.sample(\"k_scale\", numpyro.distributions.LogNormal(0, 1))\n",
    "    # the hyperparameters are returned as dictionary\n",
    "    return {\"k_length\": length, \"k_scale\": scale}"
   ]
  },
  {
   "cell_type": "code",
   "execution_count": 42,
   "id": "e4efc886",
   "metadata": {},
   "outputs": [],
   "source": [
    "def step(X_measured, y_measured, X_unmeasured):\n",
    "    # Get random number generator keys for training and prediction\n",
    "    rng_key1, rng_key2 = gpax.utils.get_keys()\n",
    "    # Initialize GP model\n",
    "    gp_model = gpax.ExactGP(1, kernel='Matern', kernel_prior=gp_kernel_prior, noise_prior=noise_prior)\n",
    "    #gpax.ExactGP(1, kernel='Matern')\n",
    "    # Run HMC to obtain posterior samples for the GP model parameters\n",
    "    gp_model.fit(rng_key1, X_measured, y_measured)\n",
    "    # Get predictions (we don't need this step for optimization - only for visualization purposes)\n",
    "    y_pred, y_sampled = gp_model.predict(rng_key2, X_unmeasured, noiseless=True, n= 10)\n",
    "\n",
    "    # Compute acquisition function\n",
    "\n",
    "    #Upper confidence bound\n",
    "    #obj = gpax.acquisition.UCB(rng_key2, gp_model, X_unmeasured, beta= 10, maximize=False, noiseless=True)\n",
    "\n",
    "    #Expected improvement\n",
    "    obj = gpax.acquisition.EI(rng_key2, gp_model, X_unmeasured, xi=0.01, maximize=False, n=10, noiseless=True) #xi = 0.01\n",
    "\n",
    "    # pure uncertainty-based\n",
    "    #obj = gpax.acquisition.UE(rng_key2, gp_model, X_unmeasured, noiseless=True)\n",
    "\n",
    "    return obj, (y_pred, y_sampled)"
   ]
  },
  {
   "cell_type": "code",
   "execution_count": 43,
   "id": "23e5cdaf",
   "metadata": {},
   "outputs": [],
   "source": [
    "def run_gp(num_steps, X, y, X_unmeasured, ground_truth, schwefel_1d_with_noise, noise_level ):\n",
    "    for e in range(num_steps):\n",
    "        print(\"\\nStep {}/{}\".format(e+1, num_steps))\n",
    "        # Compute acquisition function\n",
    "        acq, (y_pred, y_sampled) = step(X, y, X_unmeasured)\n",
    "        # Get the next point to evaluate\n",
    "        idx = acq.argmin()\n",
    "        next_point = X_unmeasured[idx:idx+1]\n",
    "\n",
    "        # Measure the point\n",
    "        next_point_value = schwefel_1d_with_noise(next_point, noise_level)\n",
    "        #Note that in experiment this is the step when you go to the lab. Strong insentive to learn how to make convergence faster!\n",
    "\n",
    "        # Update measured data\n",
    "        X = np.append(X, X_unmeasured[idx:idx+1])\n",
    "        y = np.append(y, next_point_value)\n",
    "\n",
    "#         # Plot observed points, mean prediction, and acqusition function\n",
    "#         lower_b = y_pred - y_sampled.std(axis=(0,1))\n",
    "#         upper_b = y_pred + y_sampled.std(axis=(0,1))\n",
    "#         fig, (ax1, ax2) = plt.subplots(1, 2, dpi=100, figsize=(14, 5.5))\n",
    "#         ax1.scatter(X[:-1], y[:-1], marker='x', c='k', label=\"Observations\", s=64)\n",
    "#         ax1.fill_between(X_unmeasured, lower_b, upper_b, color='r', alpha=0.3, label=\"Model uncertainty\")\n",
    "#         ax2.plot(X_unmeasured, acq, lw=2, c='orangered', label='Acquisition function')\n",
    "#         ax2.scatter(X_unmeasured[idx], acq[idx], s=90, c='orangered', label='Next point to measure')\n",
    "#         for ax in fig.axes:\n",
    "#             ax.plot(X_unmeasured, y_pred, lw=2, c='b', label='Posterior mean')\n",
    "#             ax.plot(X_unmeasured, ground_truth, label='Ground truth')\n",
    "#             #ax.set_ylim(3.0, 8)\n",
    "#             ax.set_xlabel(\"$X$\", fontsize=16)\n",
    "#             ax.set_ylabel(\"$y$\", fontsize=16)\n",
    "#             ax.legend(loc='best', fontsize=10)\n",
    "#         plt.show()\n",
    "    # Quantifying prediction accuracy\n",
    "    mse = np.mean((y_pred - ground_truth)**2)\n",
    "    average_uncertainty = np.mean(y_sampled.std(axis=(0,1)))    \n",
    "    return mse, average_uncertainty"
   ]
  },
  {
   "cell_type": "markdown",
   "id": "e2771527",
   "metadata": {},
   "source": [
    "# run experiments"
   ]
  },
  {
   "cell_type": "code",
   "execution_count": 46,
   "id": "c0a4327d",
   "metadata": {},
   "outputs": [],
   "source": [
    "import itertools\n",
    "import pandas as pd\n",
    "\n",
    "def grid_search(seeds, n_inits, noise_levels):\n",
    "    results = []  # Initialize an empty list to store results\n",
    "\n",
    "    # Iterate over all combinations of seeds, n_inits, and noise_levels\n",
    "    for seed, n_init, noise_level in itertools.product(seeds, n_inits, noise_levels):\n",
    "        print(f\"Seed: {seed}, n_init: {n_init}, Noise Level: {noise_level}\")\n",
    "        \n",
    "        # Create data for the current combination\n",
    "        X, y, X_unmeasured, ground_truth = create_data(seed, n_init, noise_level)\n",
    "        \n",
    "        # Run Gaussian Process (GP) optimization/modeling for the current combination\n",
    "        mse, average_uncertainty = run_gp(5, X, y, X_unmeasured, ground_truth, schwefel_1d_with_noise, noise_level)\n",
    "        \n",
    "        # Collect the results\n",
    "        results.append({\n",
    "            \"Seed\": seed,\n",
    "            \"n_init\": n_init,\n",
    "            \"Noise_Level\": noise_level,\n",
    "            \"MSE\": mse,\n",
    "            \"Average_Uncertainty\": average_uncertainty\n",
    "        })\n",
    "\n",
    "    # Convert the results to a pandas DataFrame for easy analysis and reporting\n",
    "    results_df = pd.DataFrame(results)\n",
    "    \n",
    "    return results_df\n",
    "\n",
    "\n"
   ]
  },
  {
   "cell_type": "code",
   "execution_count": 48,
   "id": "63b0451c",
   "metadata": {},
   "outputs": [
    {
     "name": "stdout",
     "output_type": "stream",
     "text": [
      "Seed: 1, n_init: 10, Noise Level: 0\n",
      "\n",
      "Step 1/5\n"
     ]
    },
    {
     "name": "stderr",
     "output_type": "stream",
     "text": [
      "sample: 100%|█| 4000/4000 [00:18<00:00, 219.94it/s, 3 steps of\n"
     ]
    },
    {
     "name": "stdout",
     "output_type": "stream",
     "text": [
      "\n",
      "                mean       std    median      5.0%     95.0%     n_eff     r_hat\n",
      "  k_length      0.68      0.00      0.68      0.68      0.68      1.26      1.00\n",
      "   k_scale    453.36      0.00    453.36    453.36    453.36       nan       nan\n",
      "     noise      0.01      0.00      0.01      0.01      0.01      0.50      1.00\n",
      "\n",
      "\n",
      "Step 2/5\n"
     ]
    },
    {
     "name": "stderr",
     "output_type": "stream",
     "text": [
      "/lustre/isaac/scratch/upratius/projects/gpax/gpax/models/gp.py:111: FutureWarning: `noise_prior` is deprecated and will be removed in a future version. Please use `noise_prior_dist` instead, which accepts an instance of a numpyro.distributions Distribution object, e.g., `dist.HalfNormal(scale=0.1)`, rather than a function that calls `numpyro.sample`.\n",
      "  warnings.warn(\n",
      "/lustre/isaac/scratch/upratius/projects/gpax/gpax/models/gp.py:119: UserWarning: `kernel_prior` will remain available for complex priors. However, for modifying only the lengthscales, it is recommended to use `lengthscale_prior_dist` instead. `lengthscale_prior_dist` accepts an instance of a numpyro.distributions Distribution object, e.g., `dist.Gamma(2, 5)`, rather than a function that calls `numpyro.sample`.\n",
      "  warnings.warn(\n",
      "sample: 100%|█| 4000/4000 [00:21<00:00, 184.16it/s, 6 steps of\n"
     ]
    },
    {
     "name": "stdout",
     "output_type": "stream",
     "text": [
      "\n",
      "                mean       std    median      5.0%     95.0%     n_eff     r_hat\n",
      "  k_length      0.68      0.00      0.68      0.68      0.68      0.50      1.00\n",
      "   k_scale     43.01      0.00     43.01     43.00     43.01      6.19      1.21\n",
      "     noise      0.01      0.00      0.01      0.01      0.01      0.50      1.00\n",
      "\n",
      "\n",
      "Step 3/5\n"
     ]
    },
    {
     "name": "stderr",
     "output_type": "stream",
     "text": [
      "/lustre/isaac/scratch/upratius/projects/gpax/gpax/models/gp.py:111: FutureWarning: `noise_prior` is deprecated and will be removed in a future version. Please use `noise_prior_dist` instead, which accepts an instance of a numpyro.distributions Distribution object, e.g., `dist.HalfNormal(scale=0.1)`, rather than a function that calls `numpyro.sample`.\n",
      "  warnings.warn(\n",
      "/lustre/isaac/scratch/upratius/projects/gpax/gpax/models/gp.py:119: UserWarning: `kernel_prior` will remain available for complex priors. However, for modifying only the lengthscales, it is recommended to use `lengthscale_prior_dist` instead. `lengthscale_prior_dist` accepts an instance of a numpyro.distributions Distribution object, e.g., `dist.Gamma(2, 5)`, rather than a function that calls `numpyro.sample`.\n",
      "  warnings.warn(\n",
      "sample: 100%|█| 4000/4000 [00:28<00:00, 140.09it/s, 9 steps of\n"
     ]
    },
    {
     "name": "stdout",
     "output_type": "stream",
     "text": [
      "\n",
      "                mean       std    median      5.0%     95.0%     n_eff     r_hat\n",
      "  k_length      0.65      0.00      0.65      0.65      0.65     66.33      1.00\n",
      "   k_scale     32.17      0.00     32.17     32.17     32.17      0.50      1.00\n",
      "     noise      0.01      0.00      0.01      0.01      0.01      0.50      1.00\n",
      "\n",
      "\n",
      "Step 4/5\n"
     ]
    },
    {
     "name": "stderr",
     "output_type": "stream",
     "text": [
      "/lustre/isaac/scratch/upratius/projects/gpax/gpax/models/gp.py:111: FutureWarning: `noise_prior` is deprecated and will be removed in a future version. Please use `noise_prior_dist` instead, which accepts an instance of a numpyro.distributions Distribution object, e.g., `dist.HalfNormal(scale=0.1)`, rather than a function that calls `numpyro.sample`.\n",
      "  warnings.warn(\n",
      "/lustre/isaac/scratch/upratius/projects/gpax/gpax/models/gp.py:119: UserWarning: `kernel_prior` will remain available for complex priors. However, for modifying only the lengthscales, it is recommended to use `lengthscale_prior_dist` instead. `lengthscale_prior_dist` accepts an instance of a numpyro.distributions Distribution object, e.g., `dist.Gamma(2, 5)`, rather than a function that calls `numpyro.sample`.\n",
      "  warnings.warn(\n",
      "sample: 100%|█| 4000/4000 [00:29<00:00, 134.14it/s, 19 steps o\n"
     ]
    },
    {
     "name": "stdout",
     "output_type": "stream",
     "text": [
      "\n",
      "                mean       std    median      5.0%     95.0%     n_eff     r_hat\n",
      "  k_length      0.67      0.00      0.67      0.67      0.67    103.83      1.00\n",
      "   k_scale     62.30      0.00     62.30     62.30     62.30      0.50      1.00\n",
      "     noise      0.01      0.00      0.01      0.01      0.01      0.50      1.00\n",
      "\n",
      "\n",
      "Step 5/5\n"
     ]
    },
    {
     "name": "stderr",
     "output_type": "stream",
     "text": [
      "/lustre/isaac/scratch/upratius/projects/gpax/gpax/models/gp.py:111: FutureWarning: `noise_prior` is deprecated and will be removed in a future version. Please use `noise_prior_dist` instead, which accepts an instance of a numpyro.distributions Distribution object, e.g., `dist.HalfNormal(scale=0.1)`, rather than a function that calls `numpyro.sample`.\n",
      "  warnings.warn(\n",
      "/lustre/isaac/scratch/upratius/projects/gpax/gpax/models/gp.py:119: UserWarning: `kernel_prior` will remain available for complex priors. However, for modifying only the lengthscales, it is recommended to use `lengthscale_prior_dist` instead. `lengthscale_prior_dist` accepts an instance of a numpyro.distributions Distribution object, e.g., `dist.Gamma(2, 5)`, rather than a function that calls `numpyro.sample`.\n",
      "  warnings.warn(\n",
      "sample: 100%|█| 4000/4000 [00:33<00:00, 120.15it/s, 1 steps of\n"
     ]
    },
    {
     "name": "stdout",
     "output_type": "stream",
     "text": [
      "\n",
      "                mean       std    median      5.0%     95.0%     n_eff     r_hat\n",
      "  k_length      0.68      0.00      0.68      0.68      0.68      0.50      1.00\n",
      "   k_scale     23.13      0.00     23.13     23.13     23.13      0.50      1.00\n",
      "     noise      0.01      0.00      0.01      0.01      0.01      0.50      1.00\n",
      "\n",
      "Seed: 1, n_init: 10, Noise Level: 0.01\n",
      "\n",
      "Step 1/5\n"
     ]
    },
    {
     "name": "stderr",
     "output_type": "stream",
     "text": [
      "/lustre/isaac/scratch/upratius/projects/gpax/gpax/models/gp.py:111: FutureWarning: `noise_prior` is deprecated and will be removed in a future version. Please use `noise_prior_dist` instead, which accepts an instance of a numpyro.distributions Distribution object, e.g., `dist.HalfNormal(scale=0.1)`, rather than a function that calls `numpyro.sample`.\n",
      "  warnings.warn(\n",
      "/lustre/isaac/scratch/upratius/projects/gpax/gpax/models/gp.py:119: UserWarning: `kernel_prior` will remain available for complex priors. However, for modifying only the lengthscales, it is recommended to use `lengthscale_prior_dist` instead. `lengthscale_prior_dist` accepts an instance of a numpyro.distributions Distribution object, e.g., `dist.Gamma(2, 5)`, rather than a function that calls `numpyro.sample`.\n",
      "  warnings.warn(\n",
      "sample: 100%|█| 4000/4000 [00:20<00:00, 194.76it/s, 10 steps o\n"
     ]
    },
    {
     "name": "stdout",
     "output_type": "stream",
     "text": [
      "\n",
      "                mean       std    median      5.0%     95.0%     n_eff     r_hat\n",
      "  k_length      0.68      0.00      0.68      0.68      0.68      0.85      1.00\n",
      "   k_scale     51.21      0.00     51.21     51.21     51.21     10.25      1.11\n",
      "     noise      0.01      0.00      0.01      0.01      0.01      0.50      1.00\n",
      "\n",
      "\n",
      "Step 2/5\n"
     ]
    },
    {
     "name": "stderr",
     "output_type": "stream",
     "text": [
      "/lustre/isaac/scratch/upratius/projects/gpax/gpax/models/gp.py:111: FutureWarning: `noise_prior` is deprecated and will be removed in a future version. Please use `noise_prior_dist` instead, which accepts an instance of a numpyro.distributions Distribution object, e.g., `dist.HalfNormal(scale=0.1)`, rather than a function that calls `numpyro.sample`.\n",
      "  warnings.warn(\n",
      "/lustre/isaac/scratch/upratius/projects/gpax/gpax/models/gp.py:119: UserWarning: `kernel_prior` will remain available for complex priors. However, for modifying only the lengthscales, it is recommended to use `lengthscale_prior_dist` instead. `lengthscale_prior_dist` accepts an instance of a numpyro.distributions Distribution object, e.g., `dist.Gamma(2, 5)`, rather than a function that calls `numpyro.sample`.\n",
      "  warnings.warn(\n",
      "sample: 100%|█| 4000/4000 [00:25<00:00, 155.65it/s, 24 steps o\n"
     ]
    },
    {
     "name": "stdout",
     "output_type": "stream",
     "text": [
      "\n",
      "                mean       std    median      5.0%     95.0%     n_eff     r_hat\n",
      "  k_length      0.67      0.00      0.67      0.67      0.67    111.50      1.00\n",
      "   k_scale     55.50      0.00     55.50     55.50     55.50       nan       nan\n",
      "     noise      0.01      0.00      0.01      0.01      0.01       nan       nan\n",
      "\n",
      "\n",
      "Step 3/5\n"
     ]
    },
    {
     "name": "stderr",
     "output_type": "stream",
     "text": [
      "/lustre/isaac/scratch/upratius/projects/gpax/gpax/models/gp.py:111: FutureWarning: `noise_prior` is deprecated and will be removed in a future version. Please use `noise_prior_dist` instead, which accepts an instance of a numpyro.distributions Distribution object, e.g., `dist.HalfNormal(scale=0.1)`, rather than a function that calls `numpyro.sample`.\n",
      "  warnings.warn(\n",
      "/lustre/isaac/scratch/upratius/projects/gpax/gpax/models/gp.py:119: UserWarning: `kernel_prior` will remain available for complex priors. However, for modifying only the lengthscales, it is recommended to use `lengthscale_prior_dist` instead. `lengthscale_prior_dist` accepts an instance of a numpyro.distributions Distribution object, e.g., `dist.Gamma(2, 5)`, rather than a function that calls `numpyro.sample`.\n",
      "  warnings.warn(\n",
      "sample: 100%|█| 4000/4000 [00:33<00:00, 121.13it/s, 59 steps o\n"
     ]
    },
    {
     "name": "stdout",
     "output_type": "stream",
     "text": [
      "\n",
      "                mean       std    median      5.0%     95.0%     n_eff     r_hat\n",
      "  k_length      0.68      0.00      0.68      0.68      0.68      0.50      1.00\n",
      "   k_scale     15.22      0.00     15.22     15.22     15.22      0.50      1.00\n",
      "     noise      0.01      0.00      0.01      0.01      0.01      0.50      1.00\n",
      "\n",
      "\n",
      "Step 4/5\n"
     ]
    },
    {
     "name": "stderr",
     "output_type": "stream",
     "text": [
      "/lustre/isaac/scratch/upratius/projects/gpax/gpax/models/gp.py:111: FutureWarning: `noise_prior` is deprecated and will be removed in a future version. Please use `noise_prior_dist` instead, which accepts an instance of a numpyro.distributions Distribution object, e.g., `dist.HalfNormal(scale=0.1)`, rather than a function that calls `numpyro.sample`.\n",
      "  warnings.warn(\n",
      "/lustre/isaac/scratch/upratius/projects/gpax/gpax/models/gp.py:119: UserWarning: `kernel_prior` will remain available for complex priors. However, for modifying only the lengthscales, it is recommended to use `lengthscale_prior_dist` instead. `lengthscale_prior_dist` accepts an instance of a numpyro.distributions Distribution object, e.g., `dist.Gamma(2, 5)`, rather than a function that calls `numpyro.sample`.\n",
      "  warnings.warn(\n",
      "sample: 100%|█| 4000/4000 [00:31<00:00, 128.46it/s, 4 steps of\n"
     ]
    },
    {
     "name": "stdout",
     "output_type": "stream",
     "text": [
      "\n",
      "                mean       std    median      5.0%     95.0%     n_eff     r_hat\n",
      "  k_length      0.67      0.00      0.67      0.67      0.67      0.50      1.00\n",
      "   k_scale     39.38      0.00     39.38     39.38     39.38       nan       nan\n",
      "     noise      0.01      0.00      0.01      0.01      0.01      0.50      1.00\n",
      "\n",
      "\n",
      "Step 5/5\n"
     ]
    },
    {
     "name": "stderr",
     "output_type": "stream",
     "text": [
      "/lustre/isaac/scratch/upratius/projects/gpax/gpax/models/gp.py:111: FutureWarning: `noise_prior` is deprecated and will be removed in a future version. Please use `noise_prior_dist` instead, which accepts an instance of a numpyro.distributions Distribution object, e.g., `dist.HalfNormal(scale=0.1)`, rather than a function that calls `numpyro.sample`.\n",
      "  warnings.warn(\n",
      "/lustre/isaac/scratch/upratius/projects/gpax/gpax/models/gp.py:119: UserWarning: `kernel_prior` will remain available for complex priors. However, for modifying only the lengthscales, it is recommended to use `lengthscale_prior_dist` instead. `lengthscale_prior_dist` accepts an instance of a numpyro.distributions Distribution object, e.g., `dist.Gamma(2, 5)`, rather than a function that calls `numpyro.sample`.\n",
      "  warnings.warn(\n",
      "sample: 100%|█| 4000/4000 [00:35<00:00, 113.39it/s, 1023 steps\n"
     ]
    },
    {
     "name": "stdout",
     "output_type": "stream",
     "text": [
      "\n",
      "                mean       std    median      5.0%     95.0%     n_eff     r_hat\n",
      "  k_length      0.67      0.00      0.67      0.67      0.67       nan       nan\n",
      "   k_scale      1.44      0.00      1.44      1.44      1.44      0.50      1.00\n",
      "     noise      0.01      0.00      0.01      0.01      0.01      0.50      1.00\n",
      "\n",
      "Seed: 1, n_init: 10, Noise Level: 0.1\n",
      "\n",
      "Step 1/5\n"
     ]
    },
    {
     "name": "stderr",
     "output_type": "stream",
     "text": [
      "/lustre/isaac/scratch/upratius/projects/gpax/gpax/models/gp.py:111: FutureWarning: `noise_prior` is deprecated and will be removed in a future version. Please use `noise_prior_dist` instead, which accepts an instance of a numpyro.distributions Distribution object, e.g., `dist.HalfNormal(scale=0.1)`, rather than a function that calls `numpyro.sample`.\n",
      "  warnings.warn(\n",
      "/lustre/isaac/scratch/upratius/projects/gpax/gpax/models/gp.py:119: UserWarning: `kernel_prior` will remain available for complex priors. However, for modifying only the lengthscales, it is recommended to use `lengthscale_prior_dist` instead. `lengthscale_prior_dist` accepts an instance of a numpyro.distributions Distribution object, e.g., `dist.Gamma(2, 5)`, rather than a function that calls `numpyro.sample`.\n",
      "  warnings.warn(\n",
      "sample: 100%|█| 4000/4000 [00:27<00:00, 143.14it/s, 1023 steps\n"
     ]
    },
    {
     "name": "stdout",
     "output_type": "stream",
     "text": [
      "\n",
      "                mean       std    median      5.0%     95.0%     n_eff     r_hat\n",
      "  k_length      0.67      0.00      0.67      0.67      0.67       nan       nan\n",
      "   k_scale      1.43      0.00      1.43      1.43      1.43      2.54      2.68\n",
      "     noise      0.01      0.00      0.01      0.01      0.01      0.50      1.00\n",
      "\n",
      "\n",
      "Step 2/5\n"
     ]
    },
    {
     "name": "stderr",
     "output_type": "stream",
     "text": [
      "/lustre/isaac/scratch/upratius/projects/gpax/gpax/models/gp.py:111: FutureWarning: `noise_prior` is deprecated and will be removed in a future version. Please use `noise_prior_dist` instead, which accepts an instance of a numpyro.distributions Distribution object, e.g., `dist.HalfNormal(scale=0.1)`, rather than a function that calls `numpyro.sample`.\n",
      "  warnings.warn(\n",
      "/lustre/isaac/scratch/upratius/projects/gpax/gpax/models/gp.py:119: UserWarning: `kernel_prior` will remain available for complex priors. However, for modifying only the lengthscales, it is recommended to use `lengthscale_prior_dist` instead. `lengthscale_prior_dist` accepts an instance of a numpyro.distributions Distribution object, e.g., `dist.Gamma(2, 5)`, rather than a function that calls `numpyro.sample`.\n",
      "  warnings.warn(\n",
      "sample: 100%|█| 4000/4000 [00:31<00:00, 126.65it/s, 1023 steps\n"
     ]
    },
    {
     "name": "stdout",
     "output_type": "stream",
     "text": [
      "\n",
      "                mean       std    median      5.0%     95.0%     n_eff     r_hat\n",
      "  k_length      0.67      0.00      0.67      0.67      0.67      0.50      1.00\n",
      "   k_scale      2.29      0.00      2.29      2.29      2.29      0.50      1.00\n",
      "     noise      0.01      0.00      0.01      0.01      0.01      0.50      1.00\n",
      "\n",
      "\n",
      "Step 3/5\n"
     ]
    },
    {
     "name": "stderr",
     "output_type": "stream",
     "text": [
      "/lustre/isaac/scratch/upratius/projects/gpax/gpax/models/gp.py:111: FutureWarning: `noise_prior` is deprecated and will be removed in a future version. Please use `noise_prior_dist` instead, which accepts an instance of a numpyro.distributions Distribution object, e.g., `dist.HalfNormal(scale=0.1)`, rather than a function that calls `numpyro.sample`.\n",
      "  warnings.warn(\n",
      "/lustre/isaac/scratch/upratius/projects/gpax/gpax/models/gp.py:119: UserWarning: `kernel_prior` will remain available for complex priors. However, for modifying only the lengthscales, it is recommended to use `lengthscale_prior_dist` instead. `lengthscale_prior_dist` accepts an instance of a numpyro.distributions Distribution object, e.g., `dist.Gamma(2, 5)`, rather than a function that calls `numpyro.sample`.\n",
      "  warnings.warn(\n",
      "sample: 100%|█| 4000/4000 [00:27<00:00, 147.69it/s, 4 steps of\n"
     ]
    },
    {
     "name": "stdout",
     "output_type": "stream",
     "text": [
      "\n",
      "                mean       std    median      5.0%     95.0%     n_eff     r_hat\n",
      "  k_length      0.66      0.00      0.66      0.66      0.66     33.72      1.00\n",
      "   k_scale    110.68      0.00    110.68    110.68    110.68      0.50      1.00\n",
      "     noise      0.01      0.00      0.01      0.01      0.01      0.50      1.00\n",
      "\n",
      "\n",
      "Step 4/5\n"
     ]
    },
    {
     "name": "stderr",
     "output_type": "stream",
     "text": [
      "/lustre/isaac/scratch/upratius/projects/gpax/gpax/models/gp.py:111: FutureWarning: `noise_prior` is deprecated and will be removed in a future version. Please use `noise_prior_dist` instead, which accepts an instance of a numpyro.distributions Distribution object, e.g., `dist.HalfNormal(scale=0.1)`, rather than a function that calls `numpyro.sample`.\n",
      "  warnings.warn(\n",
      "/lustre/isaac/scratch/upratius/projects/gpax/gpax/models/gp.py:119: UserWarning: `kernel_prior` will remain available for complex priors. However, for modifying only the lengthscales, it is recommended to use `lengthscale_prior_dist` instead. `lengthscale_prior_dist` accepts an instance of a numpyro.distributions Distribution object, e.g., `dist.Gamma(2, 5)`, rather than a function that calls `numpyro.sample`.\n",
      "  warnings.warn(\n",
      "sample: 100%|█| 4000/4000 [00:32<00:00, 123.35it/s, 46 steps o\n"
     ]
    },
    {
     "name": "stdout",
     "output_type": "stream",
     "text": [
      "\n",
      "                mean       std    median      5.0%     95.0%     n_eff     r_hat\n",
      "  k_length      0.55      0.00      0.55      0.55      0.55     25.39      1.02\n",
      "   k_scale     61.08      0.00     61.08     61.08     61.08      0.50      1.00\n",
      "     noise      0.01      0.00      0.01      0.01      0.01      0.50      1.00\n",
      "\n",
      "\n",
      "Step 5/5\n"
     ]
    },
    {
     "name": "stderr",
     "output_type": "stream",
     "text": [
      "/lustre/isaac/scratch/upratius/projects/gpax/gpax/models/gp.py:111: FutureWarning: `noise_prior` is deprecated and will be removed in a future version. Please use `noise_prior_dist` instead, which accepts an instance of a numpyro.distributions Distribution object, e.g., `dist.HalfNormal(scale=0.1)`, rather than a function that calls `numpyro.sample`.\n",
      "  warnings.warn(\n",
      "/lustre/isaac/scratch/upratius/projects/gpax/gpax/models/gp.py:119: UserWarning: `kernel_prior` will remain available for complex priors. However, for modifying only the lengthscales, it is recommended to use `lengthscale_prior_dist` instead. `lengthscale_prior_dist` accepts an instance of a numpyro.distributions Distribution object, e.g., `dist.Gamma(2, 5)`, rather than a function that calls `numpyro.sample`.\n",
      "  warnings.warn(\n",
      "sample: 100%|█| 4000/4000 [00:36<00:00, 110.28it/s, 1023 steps\n"
     ]
    },
    {
     "name": "stdout",
     "output_type": "stream",
     "text": [
      "\n",
      "                mean       std    median      5.0%     95.0%     n_eff     r_hat\n",
      "  k_length      0.67      0.00      0.67      0.67      0.67      0.50      1.00\n",
      "   k_scale      2.29      0.00      2.29      2.29      2.29       nan       nan\n",
      "     noise      0.01      0.00      0.01      0.01      0.01       nan       nan\n",
      "\n",
      "Seed: 1, n_init: 10, Noise Level: 0.5\n",
      "\n",
      "Step 1/5\n"
     ]
    },
    {
     "name": "stderr",
     "output_type": "stream",
     "text": [
      "/lustre/isaac/scratch/upratius/projects/gpax/gpax/models/gp.py:111: FutureWarning: `noise_prior` is deprecated and will be removed in a future version. Please use `noise_prior_dist` instead, which accepts an instance of a numpyro.distributions Distribution object, e.g., `dist.HalfNormal(scale=0.1)`, rather than a function that calls `numpyro.sample`.\n",
      "  warnings.warn(\n",
      "/lustre/isaac/scratch/upratius/projects/gpax/gpax/models/gp.py:119: UserWarning: `kernel_prior` will remain available for complex priors. However, for modifying only the lengthscales, it is recommended to use `lengthscale_prior_dist` instead. `lengthscale_prior_dist` accepts an instance of a numpyro.distributions Distribution object, e.g., `dist.Gamma(2, 5)`, rather than a function that calls `numpyro.sample`.\n",
      "  warnings.warn(\n",
      "sample: 100%|█| 4000/4000 [00:27<00:00, 143.49it/s, 1023 steps\n"
     ]
    },
    {
     "name": "stdout",
     "output_type": "stream",
     "text": [
      "\n",
      "                mean       std    median      5.0%     95.0%     n_eff     r_hat\n",
      "  k_length      0.67      0.00      0.67      0.67      0.67       nan       nan\n",
      "   k_scale      1.43      0.00      1.43      1.43      1.43      0.50      1.00\n",
      "     noise      0.01      0.00      0.01      0.01      0.01      0.50      1.00\n",
      "\n",
      "\n",
      "Step 2/5\n"
     ]
    },
    {
     "name": "stderr",
     "output_type": "stream",
     "text": [
      "/lustre/isaac/scratch/upratius/projects/gpax/gpax/models/gp.py:111: FutureWarning: `noise_prior` is deprecated and will be removed in a future version. Please use `noise_prior_dist` instead, which accepts an instance of a numpyro.distributions Distribution object, e.g., `dist.HalfNormal(scale=0.1)`, rather than a function that calls `numpyro.sample`.\n",
      "  warnings.warn(\n",
      "/lustre/isaac/scratch/upratius/projects/gpax/gpax/models/gp.py:119: UserWarning: `kernel_prior` will remain available for complex priors. However, for modifying only the lengthscales, it is recommended to use `lengthscale_prior_dist` instead. `lengthscale_prior_dist` accepts an instance of a numpyro.distributions Distribution object, e.g., `dist.Gamma(2, 5)`, rather than a function that calls `numpyro.sample`.\n",
      "  warnings.warn(\n",
      "sample: 100%|█| 4000/4000 [00:29<00:00, 134.99it/s, 42 steps o\n"
     ]
    },
    {
     "name": "stdout",
     "output_type": "stream",
     "text": [
      "\n",
      "                mean       std    median      5.0%     95.0%     n_eff     r_hat\n",
      "  k_length      0.65      0.00      0.65      0.65      0.65       nan       nan\n",
      "   k_scale     22.43      0.00     22.43     22.43     22.43      0.50      1.00\n",
      "     noise      0.01      0.00      0.01      0.01      0.01      0.50      1.00\n",
      "\n",
      "\n",
      "Step 3/5\n"
     ]
    },
    {
     "name": "stderr",
     "output_type": "stream",
     "text": [
      "/lustre/isaac/scratch/upratius/projects/gpax/gpax/models/gp.py:111: FutureWarning: `noise_prior` is deprecated and will be removed in a future version. Please use `noise_prior_dist` instead, which accepts an instance of a numpyro.distributions Distribution object, e.g., `dist.HalfNormal(scale=0.1)`, rather than a function that calls `numpyro.sample`.\n",
      "  warnings.warn(\n",
      "/lustre/isaac/scratch/upratius/projects/gpax/gpax/models/gp.py:119: UserWarning: `kernel_prior` will remain available for complex priors. However, for modifying only the lengthscales, it is recommended to use `lengthscale_prior_dist` instead. `lengthscale_prior_dist` accepts an instance of a numpyro.distributions Distribution object, e.g., `dist.Gamma(2, 5)`, rather than a function that calls `numpyro.sample`.\n",
      "  warnings.warn(\n",
      "sample: 100%|█| 4000/4000 [00:28<00:00, 140.47it/s, 10 steps o\n"
     ]
    },
    {
     "name": "stdout",
     "output_type": "stream",
     "text": [
      "\n",
      "                mean       std    median      5.0%     95.0%     n_eff     r_hat\n",
      "  k_length      0.68      0.00      0.68      0.68      0.68       nan       nan\n",
      "   k_scale     19.19      0.00     19.19     19.19     19.19       nan       nan\n",
      "     noise      0.01      0.00      0.01      0.01      0.01      0.50      1.00\n",
      "\n",
      "\n",
      "Step 4/5\n"
     ]
    },
    {
     "name": "stderr",
     "output_type": "stream",
     "text": [
      "/lustre/isaac/scratch/upratius/projects/gpax/gpax/models/gp.py:111: FutureWarning: `noise_prior` is deprecated and will be removed in a future version. Please use `noise_prior_dist` instead, which accepts an instance of a numpyro.distributions Distribution object, e.g., `dist.HalfNormal(scale=0.1)`, rather than a function that calls `numpyro.sample`.\n",
      "  warnings.warn(\n",
      "/lustre/isaac/scratch/upratius/projects/gpax/gpax/models/gp.py:119: UserWarning: `kernel_prior` will remain available for complex priors. However, for modifying only the lengthscales, it is recommended to use `lengthscale_prior_dist` instead. `lengthscale_prior_dist` accepts an instance of a numpyro.distributions Distribution object, e.g., `dist.Gamma(2, 5)`, rather than a function that calls `numpyro.sample`.\n",
      "  warnings.warn(\n",
      "sample: 100%|█| 4000/4000 [00:34<00:00, 114.43it/s, 59 steps o\n"
     ]
    },
    {
     "name": "stdout",
     "output_type": "stream",
     "text": [
      "\n",
      "                mean       std    median      5.0%     95.0%     n_eff     r_hat\n",
      "  k_length      0.65      0.00      0.65      0.65      0.65      0.50      1.00\n",
      "   k_scale     19.17      0.00     19.17     19.17     19.17      0.50      1.00\n",
      "     noise      0.01      0.00      0.01      0.01      0.01      0.50      1.00\n",
      "\n",
      "\n",
      "Step 5/5\n"
     ]
    },
    {
     "name": "stderr",
     "output_type": "stream",
     "text": [
      "/lustre/isaac/scratch/upratius/projects/gpax/gpax/models/gp.py:111: FutureWarning: `noise_prior` is deprecated and will be removed in a future version. Please use `noise_prior_dist` instead, which accepts an instance of a numpyro.distributions Distribution object, e.g., `dist.HalfNormal(scale=0.1)`, rather than a function that calls `numpyro.sample`.\n",
      "  warnings.warn(\n",
      "/lustre/isaac/scratch/upratius/projects/gpax/gpax/models/gp.py:119: UserWarning: `kernel_prior` will remain available for complex priors. However, for modifying only the lengthscales, it is recommended to use `lengthscale_prior_dist` instead. `lengthscale_prior_dist` accepts an instance of a numpyro.distributions Distribution object, e.g., `dist.Gamma(2, 5)`, rather than a function that calls `numpyro.sample`.\n",
      "  warnings.warn(\n",
      "sample: 100%|█| 4000/4000 [00:36<00:00, 109.37it/s, 1023 steps\n"
     ]
    },
    {
     "name": "stdout",
     "output_type": "stream",
     "text": [
      "\n",
      "                mean       std    median      5.0%     95.0%     n_eff     r_hat\n",
      "  k_length      0.67      0.00      0.67      0.67      0.67       nan       nan\n",
      "   k_scale      1.43      0.00      1.43      1.43      1.43      0.50      1.00\n",
      "     noise      0.01      0.00      0.01      0.01      0.01      0.50      1.00\n",
      "\n",
      "Seed: 1, n_init: 15, Noise Level: 0\n",
      "\n",
      "Step 1/5\n"
     ]
    },
    {
     "name": "stderr",
     "output_type": "stream",
     "text": [
      "/lustre/isaac/scratch/upratius/projects/gpax/gpax/models/gp.py:111: FutureWarning: `noise_prior` is deprecated and will be removed in a future version. Please use `noise_prior_dist` instead, which accepts an instance of a numpyro.distributions Distribution object, e.g., `dist.HalfNormal(scale=0.1)`, rather than a function that calls `numpyro.sample`.\n",
      "  warnings.warn(\n",
      "/lustre/isaac/scratch/upratius/projects/gpax/gpax/models/gp.py:119: UserWarning: `kernel_prior` will remain available for complex priors. However, for modifying only the lengthscales, it is recommended to use `lengthscale_prior_dist` instead. `lengthscale_prior_dist` accepts an instance of a numpyro.distributions Distribution object, e.g., `dist.Gamma(2, 5)`, rather than a function that calls `numpyro.sample`.\n",
      "  warnings.warn(\n",
      "sample: 100%|█| 4000/4000 [00:42<00:00, 94.46it/s, 907 steps o\n"
     ]
    },
    {
     "name": "stdout",
     "output_type": "stream",
     "text": [
      "\n",
      "                mean       std    median      5.0%     95.0%     n_eff     r_hat\n",
      "  k_length      0.67      0.00      0.67      0.67      0.67     11.89      1.05\n",
      "   k_scale     21.37      0.00     21.37     21.37     21.37      0.50      1.00\n",
      "     noise      0.01      0.00      0.01      0.01      0.01      0.50      1.00\n",
      "\n",
      "\n",
      "Step 2/5\n"
     ]
    },
    {
     "name": "stderr",
     "output_type": "stream",
     "text": [
      "/lustre/isaac/scratch/upratius/projects/gpax/gpax/models/gp.py:111: FutureWarning: `noise_prior` is deprecated and will be removed in a future version. Please use `noise_prior_dist` instead, which accepts an instance of a numpyro.distributions Distribution object, e.g., `dist.HalfNormal(scale=0.1)`, rather than a function that calls `numpyro.sample`.\n",
      "  warnings.warn(\n",
      "/lustre/isaac/scratch/upratius/projects/gpax/gpax/models/gp.py:119: UserWarning: `kernel_prior` will remain available for complex priors. However, for modifying only the lengthscales, it is recommended to use `lengthscale_prior_dist` instead. `lengthscale_prior_dist` accepts an instance of a numpyro.distributions Distribution object, e.g., `dist.Gamma(2, 5)`, rather than a function that calls `numpyro.sample`.\n",
      "  warnings.warn(\n",
      "sample: 100%|█| 4000/4000 [00:42<00:00, 93.05it/s, 2 steps of \n"
     ]
    },
    {
     "name": "stdout",
     "output_type": "stream",
     "text": [
      "\n",
      "                mean       std    median      5.0%     95.0%     n_eff     r_hat\n",
      "  k_length      0.69      0.00      0.69      0.69      0.69      0.50      1.00\n",
      "   k_scale     19.05      0.00     19.05     19.05     19.05       nan       nan\n",
      "     noise      0.01      0.00      0.01      0.01      0.01      0.50      1.00\n",
      "\n",
      "\n",
      "Step 3/5\n"
     ]
    },
    {
     "name": "stderr",
     "output_type": "stream",
     "text": [
      "/lustre/isaac/scratch/upratius/projects/gpax/gpax/models/gp.py:111: FutureWarning: `noise_prior` is deprecated and will be removed in a future version. Please use `noise_prior_dist` instead, which accepts an instance of a numpyro.distributions Distribution object, e.g., `dist.HalfNormal(scale=0.1)`, rather than a function that calls `numpyro.sample`.\n",
      "  warnings.warn(\n",
      "/lustre/isaac/scratch/upratius/projects/gpax/gpax/models/gp.py:119: UserWarning: `kernel_prior` will remain available for complex priors. However, for modifying only the lengthscales, it is recommended to use `lengthscale_prior_dist` instead. `lengthscale_prior_dist` accepts an instance of a numpyro.distributions Distribution object, e.g., `dist.Gamma(2, 5)`, rather than a function that calls `numpyro.sample`.\n",
      "  warnings.warn(\n",
      "sample: 100%|█| 4000/4000 [00:52<00:00, 76.33it/s, 1023 steps \n"
     ]
    },
    {
     "name": "stdout",
     "output_type": "stream",
     "text": [
      "\n",
      "                mean       std    median      5.0%     95.0%     n_eff     r_hat\n",
      "  k_length      0.68      0.00      0.68      0.68      0.68      0.50      1.00\n",
      "   k_scale      4.72      0.00      4.72      4.72      4.72       nan       nan\n",
      "     noise      0.01      0.00      0.01      0.01      0.01      0.50      1.00\n",
      "\n",
      "\n",
      "Step 4/5\n"
     ]
    },
    {
     "name": "stderr",
     "output_type": "stream",
     "text": [
      "/lustre/isaac/scratch/upratius/projects/gpax/gpax/models/gp.py:111: FutureWarning: `noise_prior` is deprecated and will be removed in a future version. Please use `noise_prior_dist` instead, which accepts an instance of a numpyro.distributions Distribution object, e.g., `dist.HalfNormal(scale=0.1)`, rather than a function that calls `numpyro.sample`.\n",
      "  warnings.warn(\n",
      "/lustre/isaac/scratch/upratius/projects/gpax/gpax/models/gp.py:119: UserWarning: `kernel_prior` will remain available for complex priors. However, for modifying only the lengthscales, it is recommended to use `lengthscale_prior_dist` instead. `lengthscale_prior_dist` accepts an instance of a numpyro.distributions Distribution object, e.g., `dist.Gamma(2, 5)`, rather than a function that calls `numpyro.sample`.\n",
      "  warnings.warn(\n",
      "sample: 100%|█| 4000/4000 [00:45<00:00, 87.51it/s, 2 steps of \n"
     ]
    },
    {
     "name": "stdout",
     "output_type": "stream",
     "text": [
      "\n",
      "                mean       std    median      5.0%     95.0%     n_eff     r_hat\n",
      "  k_length      0.58      0.00      0.58      0.58      0.58     43.14      1.00\n",
      "   k_scale    213.11      0.00    213.11    213.11    213.11      0.50      1.00\n",
      "     noise      0.01      0.00      0.01      0.01      0.01      0.50      1.00\n",
      "\n",
      "\n",
      "Step 5/5\n"
     ]
    },
    {
     "name": "stderr",
     "output_type": "stream",
     "text": [
      "/lustre/isaac/scratch/upratius/projects/gpax/gpax/models/gp.py:111: FutureWarning: `noise_prior` is deprecated and will be removed in a future version. Please use `noise_prior_dist` instead, which accepts an instance of a numpyro.distributions Distribution object, e.g., `dist.HalfNormal(scale=0.1)`, rather than a function that calls `numpyro.sample`.\n",
      "  warnings.warn(\n",
      "/lustre/isaac/scratch/upratius/projects/gpax/gpax/models/gp.py:119: UserWarning: `kernel_prior` will remain available for complex priors. However, for modifying only the lengthscales, it is recommended to use `lengthscale_prior_dist` instead. `lengthscale_prior_dist` accepts an instance of a numpyro.distributions Distribution object, e.g., `dist.Gamma(2, 5)`, rather than a function that calls `numpyro.sample`.\n",
      "  warnings.warn(\n",
      "sample: 100%|█| 4000/4000 [00:59<00:00, 67.51it/s, 4 steps of \n"
     ]
    },
    {
     "name": "stdout",
     "output_type": "stream",
     "text": [
      "\n",
      "                mean       std    median      5.0%     95.0%     n_eff     r_hat\n",
      "  k_length      0.69      0.00      0.69      0.69      0.69      0.50      1.00\n",
      "   k_scale     19.44      0.00     19.44     19.44     19.44      0.50      1.00\n",
      "     noise      0.01      0.00      0.01      0.01      0.01      0.50      1.00\n",
      "\n",
      "Seed: 1, n_init: 15, Noise Level: 0.01\n",
      "\n",
      "Step 1/5\n"
     ]
    },
    {
     "name": "stderr",
     "output_type": "stream",
     "text": [
      "/lustre/isaac/scratch/upratius/projects/gpax/gpax/models/gp.py:111: FutureWarning: `noise_prior` is deprecated and will be removed in a future version. Please use `noise_prior_dist` instead, which accepts an instance of a numpyro.distributions Distribution object, e.g., `dist.HalfNormal(scale=0.1)`, rather than a function that calls `numpyro.sample`.\n",
      "  warnings.warn(\n",
      "/lustre/isaac/scratch/upratius/projects/gpax/gpax/models/gp.py:119: UserWarning: `kernel_prior` will remain available for complex priors. However, for modifying only the lengthscales, it is recommended to use `lengthscale_prior_dist` instead. `lengthscale_prior_dist` accepts an instance of a numpyro.distributions Distribution object, e.g., `dist.Gamma(2, 5)`, rather than a function that calls `numpyro.sample`.\n",
      "  warnings.warn(\n",
      "sample: 100%|█| 4000/4000 [00:36<00:00, 109.75it/s, 8 steps of\n"
     ]
    },
    {
     "name": "stdout",
     "output_type": "stream",
     "text": [
      "\n",
      "                mean       std    median      5.0%     95.0%     n_eff     r_hat\n",
      "  k_length      0.64      0.00      0.64      0.64      0.64      0.50      1.00\n",
      "   k_scale     29.13      0.00     29.13     29.13     29.13       nan       nan\n",
      "     noise      0.01      0.00      0.01      0.01      0.01      0.50      1.00\n",
      "\n",
      "\n",
      "Step 2/5\n"
     ]
    },
    {
     "name": "stderr",
     "output_type": "stream",
     "text": [
      "/lustre/isaac/scratch/upratius/projects/gpax/gpax/models/gp.py:111: FutureWarning: `noise_prior` is deprecated and will be removed in a future version. Please use `noise_prior_dist` instead, which accepts an instance of a numpyro.distributions Distribution object, e.g., `dist.HalfNormal(scale=0.1)`, rather than a function that calls `numpyro.sample`.\n",
      "  warnings.warn(\n",
      "/lustre/isaac/scratch/upratius/projects/gpax/gpax/models/gp.py:119: UserWarning: `kernel_prior` will remain available for complex priors. However, for modifying only the lengthscales, it is recommended to use `lengthscale_prior_dist` instead. `lengthscale_prior_dist` accepts an instance of a numpyro.distributions Distribution object, e.g., `dist.Gamma(2, 5)`, rather than a function that calls `numpyro.sample`.\n",
      "  warnings.warn(\n",
      "sample: 100%|█| 4000/4000 [00:45<00:00, 87.38it/s, 1023 steps \n"
     ]
    },
    {
     "name": "stdout",
     "output_type": "stream",
     "text": [
      "\n",
      "                mean       std    median      5.0%     95.0%     n_eff     r_hat\n",
      "  k_length      0.67      0.00      0.67      0.67      0.67       nan       nan\n",
      "   k_scale      1.43      0.00      1.43      1.43      1.43      0.50      1.00\n",
      "     noise      0.01      0.00      0.01      0.01      0.01      0.50      1.00\n",
      "\n",
      "\n",
      "Step 3/5\n"
     ]
    },
    {
     "name": "stderr",
     "output_type": "stream",
     "text": [
      "/lustre/isaac/scratch/upratius/projects/gpax/gpax/models/gp.py:111: FutureWarning: `noise_prior` is deprecated and will be removed in a future version. Please use `noise_prior_dist` instead, which accepts an instance of a numpyro.distributions Distribution object, e.g., `dist.HalfNormal(scale=0.1)`, rather than a function that calls `numpyro.sample`.\n",
      "  warnings.warn(\n",
      "/lustre/isaac/scratch/upratius/projects/gpax/gpax/models/gp.py:119: UserWarning: `kernel_prior` will remain available for complex priors. However, for modifying only the lengthscales, it is recommended to use `lengthscale_prior_dist` instead. `lengthscale_prior_dist` accepts an instance of a numpyro.distributions Distribution object, e.g., `dist.Gamma(2, 5)`, rather than a function that calls `numpyro.sample`.\n",
      "  warnings.warn(\n",
      "sample: 100%|█| 4000/4000 [00:51<00:00, 77.59it/s, 1023 steps \n"
     ]
    },
    {
     "name": "stdout",
     "output_type": "stream",
     "text": [
      "\n",
      "                mean       std    median      5.0%     95.0%     n_eff     r_hat\n",
      "  k_length      0.68      0.00      0.68      0.68      0.68     26.94      1.08\n",
      "   k_scale     31.46      0.00     31.46     31.46     31.46       nan       nan\n",
      "     noise      0.01      0.00      0.01      0.01      0.01      0.50      1.00\n",
      "\n",
      "\n",
      "Step 4/5\n"
     ]
    },
    {
     "name": "stderr",
     "output_type": "stream",
     "text": [
      "/lustre/isaac/scratch/upratius/projects/gpax/gpax/models/gp.py:111: FutureWarning: `noise_prior` is deprecated and will be removed in a future version. Please use `noise_prior_dist` instead, which accepts an instance of a numpyro.distributions Distribution object, e.g., `dist.HalfNormal(scale=0.1)`, rather than a function that calls `numpyro.sample`.\n",
      "  warnings.warn(\n",
      "/lustre/isaac/scratch/upratius/projects/gpax/gpax/models/gp.py:119: UserWarning: `kernel_prior` will remain available for complex priors. However, for modifying only the lengthscales, it is recommended to use `lengthscale_prior_dist` instead. `lengthscale_prior_dist` accepts an instance of a numpyro.distributions Distribution object, e.g., `dist.Gamma(2, 5)`, rather than a function that calls `numpyro.sample`.\n",
      "  warnings.warn(\n",
      "sample: 100%|█| 4000/4000 [00:52<00:00, 75.96it/s, 1023 steps \n"
     ]
    },
    {
     "name": "stdout",
     "output_type": "stream",
     "text": [
      "\n",
      "                mean       std    median      5.0%     95.0%     n_eff     r_hat\n",
      "  k_length      0.67      0.00      0.67      0.67      0.67      0.50      1.00\n",
      "   k_scale      1.44      0.00      1.44      1.44      1.44      0.50      1.00\n",
      "     noise      0.01      0.00      0.01      0.01      0.01      0.50      1.00\n",
      "\n",
      "\n",
      "Step 5/5\n"
     ]
    },
    {
     "name": "stderr",
     "output_type": "stream",
     "text": [
      "/lustre/isaac/scratch/upratius/projects/gpax/gpax/models/gp.py:111: FutureWarning: `noise_prior` is deprecated and will be removed in a future version. Please use `noise_prior_dist` instead, which accepts an instance of a numpyro.distributions Distribution object, e.g., `dist.HalfNormal(scale=0.1)`, rather than a function that calls `numpyro.sample`.\n",
      "  warnings.warn(\n",
      "/lustre/isaac/scratch/upratius/projects/gpax/gpax/models/gp.py:119: UserWarning: `kernel_prior` will remain available for complex priors. However, for modifying only the lengthscales, it is recommended to use `lengthscale_prior_dist` instead. `lengthscale_prior_dist` accepts an instance of a numpyro.distributions Distribution object, e.g., `dist.Gamma(2, 5)`, rather than a function that calls `numpyro.sample`.\n",
      "  warnings.warn(\n",
      "sample: 100%|█| 4000/4000 [01:01<00:00, 64.91it/s, 764 steps o\n"
     ]
    },
    {
     "name": "stdout",
     "output_type": "stream",
     "text": [
      "\n",
      "                mean       std    median      5.0%     95.0%     n_eff     r_hat\n",
      "  k_length      0.65      0.00      0.65      0.65      0.65     52.69      1.00\n",
      "   k_scale     18.97      0.00     18.97     18.97     18.97       nan       nan\n",
      "     noise      0.01      0.00      0.01      0.01      0.01       nan       nan\n",
      "\n",
      "Seed: 1, n_init: 15, Noise Level: 0.1\n",
      "\n",
      "Step 1/5\n"
     ]
    },
    {
     "name": "stderr",
     "output_type": "stream",
     "text": [
      "/lustre/isaac/scratch/upratius/projects/gpax/gpax/models/gp.py:111: FutureWarning: `noise_prior` is deprecated and will be removed in a future version. Please use `noise_prior_dist` instead, which accepts an instance of a numpyro.distributions Distribution object, e.g., `dist.HalfNormal(scale=0.1)`, rather than a function that calls `numpyro.sample`.\n",
      "  warnings.warn(\n",
      "/lustre/isaac/scratch/upratius/projects/gpax/gpax/models/gp.py:119: UserWarning: `kernel_prior` will remain available for complex priors. However, for modifying only the lengthscales, it is recommended to use `lengthscale_prior_dist` instead. `lengthscale_prior_dist` accepts an instance of a numpyro.distributions Distribution object, e.g., `dist.Gamma(2, 5)`, rather than a function that calls `numpyro.sample`.\n",
      "  warnings.warn(\n",
      "sample: 100%|█| 4000/4000 [00:38<00:00, 105.02it/s, 14 steps o\n"
     ]
    },
    {
     "name": "stdout",
     "output_type": "stream",
     "text": [
      "\n",
      "                mean       std    median      5.0%     95.0%     n_eff     r_hat\n",
      "  k_length      0.69      0.00      0.69      0.69      0.69     17.26      1.05\n",
      "   k_scale     26.21      0.00     26.21     26.21     26.21      0.50      1.00\n",
      "     noise      0.01      0.00      0.01      0.01      0.01      0.50      1.00\n",
      "\n",
      "\n",
      "Step 2/5\n"
     ]
    },
    {
     "name": "stderr",
     "output_type": "stream",
     "text": [
      "/lustre/isaac/scratch/upratius/projects/gpax/gpax/models/gp.py:111: FutureWarning: `noise_prior` is deprecated and will be removed in a future version. Please use `noise_prior_dist` instead, which accepts an instance of a numpyro.distributions Distribution object, e.g., `dist.HalfNormal(scale=0.1)`, rather than a function that calls `numpyro.sample`.\n",
      "  warnings.warn(\n",
      "/lustre/isaac/scratch/upratius/projects/gpax/gpax/models/gp.py:119: UserWarning: `kernel_prior` will remain available for complex priors. However, for modifying only the lengthscales, it is recommended to use `lengthscale_prior_dist` instead. `lengthscale_prior_dist` accepts an instance of a numpyro.distributions Distribution object, e.g., `dist.Gamma(2, 5)`, rather than a function that calls `numpyro.sample`.\n",
      "  warnings.warn(\n",
      "sample: 100%|█| 4000/4000 [00:37<00:00, 107.60it/s, 21 steps o\n"
     ]
    },
    {
     "name": "stdout",
     "output_type": "stream",
     "text": [
      "\n",
      "                mean       std    median      5.0%     95.0%     n_eff     r_hat\n",
      "  k_length      0.63      0.00      0.63      0.63      0.63      0.52      1.00\n",
      "   k_scale     59.03      0.00     59.03     59.03     59.03      0.50      1.00\n",
      "     noise      0.01      0.00      0.01      0.01      0.01      0.50      1.00\n",
      "\n",
      "\n",
      "Step 3/5\n"
     ]
    },
    {
     "name": "stderr",
     "output_type": "stream",
     "text": [
      "/lustre/isaac/scratch/upratius/projects/gpax/gpax/models/gp.py:111: FutureWarning: `noise_prior` is deprecated and will be removed in a future version. Please use `noise_prior_dist` instead, which accepts an instance of a numpyro.distributions Distribution object, e.g., `dist.HalfNormal(scale=0.1)`, rather than a function that calls `numpyro.sample`.\n",
      "  warnings.warn(\n",
      "/lustre/isaac/scratch/upratius/projects/gpax/gpax/models/gp.py:119: UserWarning: `kernel_prior` will remain available for complex priors. However, for modifying only the lengthscales, it is recommended to use `lengthscale_prior_dist` instead. `lengthscale_prior_dist` accepts an instance of a numpyro.distributions Distribution object, e.g., `dist.Gamma(2, 5)`, rather than a function that calls `numpyro.sample`.\n",
      "  warnings.warn(\n",
      "sample: 100%|█| 4000/4000 [00:49<00:00, 80.36it/s, 42 steps of\n"
     ]
    },
    {
     "name": "stdout",
     "output_type": "stream",
     "text": [
      "\n",
      "                mean       std    median      5.0%     95.0%     n_eff     r_hat\n",
      "  k_length      0.68      0.00      0.68      0.68      0.68      0.50      1.00\n",
      "   k_scale     20.04      0.00     20.04     20.04     20.04       nan       nan\n",
      "     noise      0.01      0.00      0.01      0.01      0.01       nan       nan\n",
      "\n",
      "\n",
      "Step 4/5\n"
     ]
    },
    {
     "name": "stderr",
     "output_type": "stream",
     "text": [
      "/lustre/isaac/scratch/upratius/projects/gpax/gpax/models/gp.py:111: FutureWarning: `noise_prior` is deprecated and will be removed in a future version. Please use `noise_prior_dist` instead, which accepts an instance of a numpyro.distributions Distribution object, e.g., `dist.HalfNormal(scale=0.1)`, rather than a function that calls `numpyro.sample`.\n",
      "  warnings.warn(\n",
      "/lustre/isaac/scratch/upratius/projects/gpax/gpax/models/gp.py:119: UserWarning: `kernel_prior` will remain available for complex priors. However, for modifying only the lengthscales, it is recommended to use `lengthscale_prior_dist` instead. `lengthscale_prior_dist` accepts an instance of a numpyro.distributions Distribution object, e.g., `dist.Gamma(2, 5)`, rather than a function that calls `numpyro.sample`.\n",
      "  warnings.warn(\n",
      "sample: 100%|█| 4000/4000 [00:54<00:00, 73.99it/s, 1023 steps \n"
     ]
    },
    {
     "name": "stdout",
     "output_type": "stream",
     "text": [
      "\n",
      "                mean       std    median      5.0%     95.0%     n_eff     r_hat\n",
      "  k_length      0.67      0.00      0.67      0.67      0.67      0.50      1.00\n",
      "   k_scale      1.43      0.00      1.43      1.43      1.43      0.50      1.00\n",
      "     noise      0.01      0.00      0.01      0.01      0.01      0.50      1.00\n",
      "\n",
      "\n",
      "Step 5/5\n"
     ]
    },
    {
     "name": "stderr",
     "output_type": "stream",
     "text": [
      "/lustre/isaac/scratch/upratius/projects/gpax/gpax/models/gp.py:111: FutureWarning: `noise_prior` is deprecated and will be removed in a future version. Please use `noise_prior_dist` instead, which accepts an instance of a numpyro.distributions Distribution object, e.g., `dist.HalfNormal(scale=0.1)`, rather than a function that calls `numpyro.sample`.\n",
      "  warnings.warn(\n",
      "/lustre/isaac/scratch/upratius/projects/gpax/gpax/models/gp.py:119: UserWarning: `kernel_prior` will remain available for complex priors. However, for modifying only the lengthscales, it is recommended to use `lengthscale_prior_dist` instead. `lengthscale_prior_dist` accepts an instance of a numpyro.distributions Distribution object, e.g., `dist.Gamma(2, 5)`, rather than a function that calls `numpyro.sample`.\n",
      "  warnings.warn(\n",
      "sample: 100%|█| 4000/4000 [00:45<00:00, 88.47it/s, 2 steps of \n"
     ]
    },
    {
     "name": "stdout",
     "output_type": "stream",
     "text": [
      "\n",
      "                mean       std    median      5.0%     95.0%     n_eff     r_hat\n",
      "  k_length      0.71      0.00      0.71      0.71      0.71      0.51      1.00\n",
      "   k_scale   1767.44      0.00   1767.44   1767.44   1767.44      0.50      1.00\n",
      "     noise      0.01      0.00      0.01      0.01      0.01      0.50      1.00\n",
      "\n",
      "Seed: 1, n_init: 15, Noise Level: 0.5\n",
      "\n",
      "Step 1/5\n"
     ]
    },
    {
     "name": "stderr",
     "output_type": "stream",
     "text": [
      "/lustre/isaac/scratch/upratius/projects/gpax/gpax/models/gp.py:111: FutureWarning: `noise_prior` is deprecated and will be removed in a future version. Please use `noise_prior_dist` instead, which accepts an instance of a numpyro.distributions Distribution object, e.g., `dist.HalfNormal(scale=0.1)`, rather than a function that calls `numpyro.sample`.\n",
      "  warnings.warn(\n",
      "/lustre/isaac/scratch/upratius/projects/gpax/gpax/models/gp.py:119: UserWarning: `kernel_prior` will remain available for complex priors. However, for modifying only the lengthscales, it is recommended to use `lengthscale_prior_dist` instead. `lengthscale_prior_dist` accepts an instance of a numpyro.distributions Distribution object, e.g., `dist.Gamma(2, 5)`, rather than a function that calls `numpyro.sample`.\n",
      "  warnings.warn(\n",
      "sample: 100%|█| 4000/4000 [00:41<00:00, 95.97it/s, 1023 steps \n"
     ]
    },
    {
     "name": "stdout",
     "output_type": "stream",
     "text": [
      "\n",
      "                mean       std    median      5.0%     95.0%     n_eff     r_hat\n",
      "  k_length      0.68      0.00      0.68      0.68      0.68       nan       nan\n",
      "   k_scale      3.31      0.00      3.31      3.31      3.31      0.50      1.00\n",
      "     noise      0.01      0.00      0.01      0.01      0.01      0.50      1.00\n",
      "\n",
      "\n",
      "Step 2/5\n"
     ]
    },
    {
     "name": "stderr",
     "output_type": "stream",
     "text": [
      "/lustre/isaac/scratch/upratius/projects/gpax/gpax/models/gp.py:111: FutureWarning: `noise_prior` is deprecated and will be removed in a future version. Please use `noise_prior_dist` instead, which accepts an instance of a numpyro.distributions Distribution object, e.g., `dist.HalfNormal(scale=0.1)`, rather than a function that calls `numpyro.sample`.\n",
      "  warnings.warn(\n",
      "/lustre/isaac/scratch/upratius/projects/gpax/gpax/models/gp.py:119: UserWarning: `kernel_prior` will remain available for complex priors. However, for modifying only the lengthscales, it is recommended to use `lengthscale_prior_dist` instead. `lengthscale_prior_dist` accepts an instance of a numpyro.distributions Distribution object, e.g., `dist.Gamma(2, 5)`, rather than a function that calls `numpyro.sample`.\n",
      "  warnings.warn(\n",
      "sample: 100%|█| 4000/4000 [00:46<00:00, 86.92it/s, 1023 steps \n"
     ]
    },
    {
     "name": "stdout",
     "output_type": "stream",
     "text": [
      "\n",
      "                mean       std    median      5.0%     95.0%     n_eff     r_hat\n",
      "  k_length      0.68      0.00      0.68      0.68      0.68      0.50      1.00\n",
      "   k_scale      2.58      0.00      2.58      2.58      2.58      0.50      1.00\n",
      "     noise      0.01      0.00      0.01      0.01      0.01      0.50      1.00\n",
      "\n",
      "\n",
      "Step 3/5\n"
     ]
    },
    {
     "name": "stderr",
     "output_type": "stream",
     "text": [
      "/lustre/isaac/scratch/upratius/projects/gpax/gpax/models/gp.py:111: FutureWarning: `noise_prior` is deprecated and will be removed in a future version. Please use `noise_prior_dist` instead, which accepts an instance of a numpyro.distributions Distribution object, e.g., `dist.HalfNormal(scale=0.1)`, rather than a function that calls `numpyro.sample`.\n",
      "  warnings.warn(\n",
      "/lustre/isaac/scratch/upratius/projects/gpax/gpax/models/gp.py:119: UserWarning: `kernel_prior` will remain available for complex priors. However, for modifying only the lengthscales, it is recommended to use `lengthscale_prior_dist` instead. `lengthscale_prior_dist` accepts an instance of a numpyro.distributions Distribution object, e.g., `dist.Gamma(2, 5)`, rather than a function that calls `numpyro.sample`.\n",
      "  warnings.warn(\n",
      "sample: 100%|█| 4000/4000 [00:52<00:00, 76.68it/s, 1023 steps \n"
     ]
    },
    {
     "name": "stdout",
     "output_type": "stream",
     "text": [
      "\n",
      "                mean       std    median      5.0%     95.0%     n_eff     r_hat\n",
      "  k_length      0.67      0.00      0.67      0.67      0.67      0.50      1.00\n",
      "   k_scale      1.43      0.00      1.43      1.43      1.43      0.50      1.00\n",
      "     noise      0.01      0.00      0.01      0.01      0.01      0.50      1.00\n",
      "\n",
      "\n",
      "Step 4/5\n"
     ]
    },
    {
     "name": "stderr",
     "output_type": "stream",
     "text": [
      "/lustre/isaac/scratch/upratius/projects/gpax/gpax/models/gp.py:111: FutureWarning: `noise_prior` is deprecated and will be removed in a future version. Please use `noise_prior_dist` instead, which accepts an instance of a numpyro.distributions Distribution object, e.g., `dist.HalfNormal(scale=0.1)`, rather than a function that calls `numpyro.sample`.\n",
      "  warnings.warn(\n",
      "/lustre/isaac/scratch/upratius/projects/gpax/gpax/models/gp.py:119: UserWarning: `kernel_prior` will remain available for complex priors. However, for modifying only the lengthscales, it is recommended to use `lengthscale_prior_dist` instead. `lengthscale_prior_dist` accepts an instance of a numpyro.distributions Distribution object, e.g., `dist.Gamma(2, 5)`, rather than a function that calls `numpyro.sample`.\n",
      "  warnings.warn(\n",
      "sample: 100%|█| 4000/4000 [00:53<00:00, 74.14it/s, 1023 steps \n"
     ]
    },
    {
     "name": "stdout",
     "output_type": "stream",
     "text": [
      "\n",
      "                mean       std    median      5.0%     95.0%     n_eff     r_hat\n",
      "  k_length      0.70      0.00      0.70      0.70      0.70     10.83      1.00\n",
      "   k_scale     43.37      0.00     43.37     43.37     43.37      0.50      1.00\n",
      "     noise      0.01      0.00      0.01      0.01      0.01      0.50      1.00\n",
      "\n",
      "\n",
      "Step 5/5\n"
     ]
    },
    {
     "name": "stderr",
     "output_type": "stream",
     "text": [
      "/lustre/isaac/scratch/upratius/projects/gpax/gpax/models/gp.py:111: FutureWarning: `noise_prior` is deprecated and will be removed in a future version. Please use `noise_prior_dist` instead, which accepts an instance of a numpyro.distributions Distribution object, e.g., `dist.HalfNormal(scale=0.1)`, rather than a function that calls `numpyro.sample`.\n",
      "  warnings.warn(\n",
      "/lustre/isaac/scratch/upratius/projects/gpax/gpax/models/gp.py:119: UserWarning: `kernel_prior` will remain available for complex priors. However, for modifying only the lengthscales, it is recommended to use `lengthscale_prior_dist` instead. `lengthscale_prior_dist` accepts an instance of a numpyro.distributions Distribution object, e.g., `dist.Gamma(2, 5)`, rather than a function that calls `numpyro.sample`.\n",
      "  warnings.warn(\n",
      "sample: 100%|█| 4000/4000 [00:57<00:00, 70.15it/s, 7 steps of \n"
     ]
    },
    {
     "name": "stdout",
     "output_type": "stream",
     "text": [
      "\n",
      "                mean       std    median      5.0%     95.0%     n_eff     r_hat\n",
      "  k_length      0.68      0.00      0.68      0.68      0.68      0.50      1.00\n",
      "   k_scale     23.98      0.00     23.98     23.98     23.98      0.50      1.00\n",
      "     noise      0.01      0.00      0.01      0.01      0.01       nan       nan\n",
      "\n",
      "Seed: 1, n_init: 20, Noise Level: 0\n",
      "\n",
      "Step 1/5\n"
     ]
    },
    {
     "name": "stderr",
     "output_type": "stream",
     "text": [
      "/lustre/isaac/scratch/upratius/projects/gpax/gpax/models/gp.py:111: FutureWarning: `noise_prior` is deprecated and will be removed in a future version. Please use `noise_prior_dist` instead, which accepts an instance of a numpyro.distributions Distribution object, e.g., `dist.HalfNormal(scale=0.1)`, rather than a function that calls `numpyro.sample`.\n",
      "  warnings.warn(\n",
      "/lustre/isaac/scratch/upratius/projects/gpax/gpax/models/gp.py:119: UserWarning: `kernel_prior` will remain available for complex priors. However, for modifying only the lengthscales, it is recommended to use `lengthscale_prior_dist` instead. `lengthscale_prior_dist` accepts an instance of a numpyro.distributions Distribution object, e.g., `dist.Gamma(2, 5)`, rather than a function that calls `numpyro.sample`.\n",
      "  warnings.warn(\n",
      "sample: 100%|█| 4000/4000 [01:04<00:00, 61.87it/s, 222 steps o\n"
     ]
    },
    {
     "name": "stdout",
     "output_type": "stream",
     "text": [
      "\n",
      "                mean       std    median      5.0%     95.0%     n_eff     r_hat\n",
      "  k_length      0.68      0.00      0.68      0.68      0.68      0.50      1.00\n",
      "   k_scale     22.21      0.00     22.21     22.21     22.21      0.50      1.00\n",
      "     noise      0.01      0.00      0.01      0.01      0.01      0.50      1.00\n",
      "\n",
      "\n",
      "Step 2/5\n"
     ]
    },
    {
     "name": "stderr",
     "output_type": "stream",
     "text": [
      "/lustre/isaac/scratch/upratius/projects/gpax/gpax/models/gp.py:111: FutureWarning: `noise_prior` is deprecated and will be removed in a future version. Please use `noise_prior_dist` instead, which accepts an instance of a numpyro.distributions Distribution object, e.g., `dist.HalfNormal(scale=0.1)`, rather than a function that calls `numpyro.sample`.\n",
      "  warnings.warn(\n",
      "/lustre/isaac/scratch/upratius/projects/gpax/gpax/models/gp.py:119: UserWarning: `kernel_prior` will remain available for complex priors. However, for modifying only the lengthscales, it is recommended to use `lengthscale_prior_dist` instead. `lengthscale_prior_dist` accepts an instance of a numpyro.distributions Distribution object, e.g., `dist.Gamma(2, 5)`, rather than a function that calls `numpyro.sample`.\n",
      "  warnings.warn(\n",
      "sample: 100%|█| 4000/4000 [01:12<00:00, 54.81it/s, 1023 steps \n"
     ]
    },
    {
     "name": "stdout",
     "output_type": "stream",
     "text": [
      "\n",
      "                mean       std    median      5.0%     95.0%     n_eff     r_hat\n",
      "  k_length      0.68      0.00      0.68      0.68      0.68      0.50      1.00\n",
      "   k_scale      9.48      0.00      9.48      9.48      9.48       nan       nan\n",
      "     noise      0.01      0.00      0.01      0.01      0.01       nan       nan\n",
      "\n",
      "\n",
      "Step 3/5\n"
     ]
    },
    {
     "name": "stderr",
     "output_type": "stream",
     "text": [
      "/lustre/isaac/scratch/upratius/projects/gpax/gpax/models/gp.py:111: FutureWarning: `noise_prior` is deprecated and will be removed in a future version. Please use `noise_prior_dist` instead, which accepts an instance of a numpyro.distributions Distribution object, e.g., `dist.HalfNormal(scale=0.1)`, rather than a function that calls `numpyro.sample`.\n",
      "  warnings.warn(\n",
      "/lustre/isaac/scratch/upratius/projects/gpax/gpax/models/gp.py:119: UserWarning: `kernel_prior` will remain available for complex priors. However, for modifying only the lengthscales, it is recommended to use `lengthscale_prior_dist` instead. `lengthscale_prior_dist` accepts an instance of a numpyro.distributions Distribution object, e.g., `dist.Gamma(2, 5)`, rather than a function that calls `numpyro.sample`.\n",
      "  warnings.warn(\n",
      "sample: 100%|█| 4000/4000 [01:02<00:00, 63.88it/s, 526 steps o\n"
     ]
    },
    {
     "name": "stdout",
     "output_type": "stream",
     "text": [
      "\n",
      "                mean       std    median      5.0%     95.0%     n_eff     r_hat\n",
      "  k_length      0.68      0.00      0.68      0.68      0.68     44.27      1.01\n",
      "   k_scale     23.40      0.00     23.40     23.40     23.40      0.50      1.00\n",
      "     noise      0.01      0.00      0.01      0.01      0.01      0.50      1.00\n",
      "\n",
      "\n",
      "Step 4/5\n"
     ]
    },
    {
     "name": "stderr",
     "output_type": "stream",
     "text": [
      "/lustre/isaac/scratch/upratius/projects/gpax/gpax/models/gp.py:111: FutureWarning: `noise_prior` is deprecated and will be removed in a future version. Please use `noise_prior_dist` instead, which accepts an instance of a numpyro.distributions Distribution object, e.g., `dist.HalfNormal(scale=0.1)`, rather than a function that calls `numpyro.sample`.\n",
      "  warnings.warn(\n",
      "/lustre/isaac/scratch/upratius/projects/gpax/gpax/models/gp.py:119: UserWarning: `kernel_prior` will remain available for complex priors. However, for modifying only the lengthscales, it is recommended to use `lengthscale_prior_dist` instead. `lengthscale_prior_dist` accepts an instance of a numpyro.distributions Distribution object, e.g., `dist.Gamma(2, 5)`, rather than a function that calls `numpyro.sample`.\n",
      "  warnings.warn(\n",
      "sample: 100%|█| 4000/4000 [01:13<00:00, 54.58it/s, 1023 steps \n"
     ]
    },
    {
     "name": "stdout",
     "output_type": "stream",
     "text": [
      "\n",
      "                mean       std    median      5.0%     95.0%     n_eff     r_hat\n",
      "  k_length      0.68      0.00      0.68      0.68      0.68       nan       nan\n",
      "   k_scale      9.27      0.00      9.27      9.27      9.27       nan       nan\n",
      "     noise      0.01      0.00      0.01      0.01      0.01      0.50      1.00\n",
      "\n",
      "\n",
      "Step 5/5\n"
     ]
    },
    {
     "name": "stderr",
     "output_type": "stream",
     "text": [
      "/lustre/isaac/scratch/upratius/projects/gpax/gpax/models/gp.py:111: FutureWarning: `noise_prior` is deprecated and will be removed in a future version. Please use `noise_prior_dist` instead, which accepts an instance of a numpyro.distributions Distribution object, e.g., `dist.HalfNormal(scale=0.1)`, rather than a function that calls `numpyro.sample`.\n",
      "  warnings.warn(\n",
      "/lustre/isaac/scratch/upratius/projects/gpax/gpax/models/gp.py:119: UserWarning: `kernel_prior` will remain available for complex priors. However, for modifying only the lengthscales, it is recommended to use `lengthscale_prior_dist` instead. `lengthscale_prior_dist` accepts an instance of a numpyro.distributions Distribution object, e.g., `dist.Gamma(2, 5)`, rather than a function that calls `numpyro.sample`.\n",
      "  warnings.warn(\n",
      "sample: 100%|█| 4000/4000 [01:07<00:00, 58.88it/s, 2 steps of \n"
     ]
    },
    {
     "name": "stdout",
     "output_type": "stream",
     "text": [
      "\n",
      "                mean       std    median      5.0%     95.0%     n_eff     r_hat\n",
      "  k_length      0.71      0.00      0.71      0.71      0.71     12.33      1.01\n",
      "   k_scale    158.38      0.00    158.38    158.38    158.38       nan       nan\n",
      "     noise      0.01      0.00      0.01      0.01      0.01      0.50      1.00\n",
      "\n",
      "Seed: 1, n_init: 20, Noise Level: 0.01\n",
      "\n",
      "Step 1/5\n"
     ]
    },
    {
     "name": "stderr",
     "output_type": "stream",
     "text": [
      "/lustre/isaac/scratch/upratius/projects/gpax/gpax/models/gp.py:111: FutureWarning: `noise_prior` is deprecated and will be removed in a future version. Please use `noise_prior_dist` instead, which accepts an instance of a numpyro.distributions Distribution object, e.g., `dist.HalfNormal(scale=0.1)`, rather than a function that calls `numpyro.sample`.\n",
      "  warnings.warn(\n",
      "/lustre/isaac/scratch/upratius/projects/gpax/gpax/models/gp.py:119: UserWarning: `kernel_prior` will remain available for complex priors. However, for modifying only the lengthscales, it is recommended to use `lengthscale_prior_dist` instead. `lengthscale_prior_dist` accepts an instance of a numpyro.distributions Distribution object, e.g., `dist.Gamma(2, 5)`, rather than a function that calls `numpyro.sample`.\n",
      "  warnings.warn(\n",
      "sample: 100%|█| 4000/4000 [01:01<00:00, 65.36it/s, 2 steps of \n"
     ]
    },
    {
     "name": "stdout",
     "output_type": "stream",
     "text": [
      "\n",
      "                mean       std    median      5.0%     95.0%     n_eff     r_hat\n",
      "  k_length      0.69      0.00      0.69      0.69      0.69       nan       nan\n",
      "   k_scale     22.11      0.00     22.11     22.11     22.11      0.50      1.00\n",
      "     noise      0.01      0.00      0.01      0.01      0.01      0.50      1.00\n",
      "\n",
      "\n",
      "Step 2/5\n"
     ]
    },
    {
     "name": "stderr",
     "output_type": "stream",
     "text": [
      "/lustre/isaac/scratch/upratius/projects/gpax/gpax/models/gp.py:111: FutureWarning: `noise_prior` is deprecated and will be removed in a future version. Please use `noise_prior_dist` instead, which accepts an instance of a numpyro.distributions Distribution object, e.g., `dist.HalfNormal(scale=0.1)`, rather than a function that calls `numpyro.sample`.\n",
      "  warnings.warn(\n",
      "/lustre/isaac/scratch/upratius/projects/gpax/gpax/models/gp.py:119: UserWarning: `kernel_prior` will remain available for complex priors. However, for modifying only the lengthscales, it is recommended to use `lengthscale_prior_dist` instead. `lengthscale_prior_dist` accepts an instance of a numpyro.distributions Distribution object, e.g., `dist.Gamma(2, 5)`, rather than a function that calls `numpyro.sample`.\n",
      "  warnings.warn(\n",
      "sample: 100%|█| 4000/4000 [01:04<00:00, 62.27it/s, 3 steps of \n"
     ]
    },
    {
     "name": "stdout",
     "output_type": "stream",
     "text": [
      "\n",
      "                mean       std    median      5.0%     95.0%     n_eff     r_hat\n",
      "  k_length      0.69      0.00      0.69      0.69      0.69       nan       nan\n",
      "   k_scale     43.46      0.00     43.46     43.46     43.46       nan       nan\n",
      "     noise      0.01      0.00      0.01      0.01      0.01       nan       nan\n",
      "\n",
      "\n",
      "Step 3/5\n"
     ]
    },
    {
     "name": "stderr",
     "output_type": "stream",
     "text": [
      "/lustre/isaac/scratch/upratius/projects/gpax/gpax/models/gp.py:111: FutureWarning: `noise_prior` is deprecated and will be removed in a future version. Please use `noise_prior_dist` instead, which accepts an instance of a numpyro.distributions Distribution object, e.g., `dist.HalfNormal(scale=0.1)`, rather than a function that calls `numpyro.sample`.\n",
      "  warnings.warn(\n",
      "/lustre/isaac/scratch/upratius/projects/gpax/gpax/models/gp.py:119: UserWarning: `kernel_prior` will remain available for complex priors. However, for modifying only the lengthscales, it is recommended to use `lengthscale_prior_dist` instead. `lengthscale_prior_dist` accepts an instance of a numpyro.distributions Distribution object, e.g., `dist.Gamma(2, 5)`, rather than a function that calls `numpyro.sample`.\n",
      "  warnings.warn(\n",
      "sample: 100%|█| 4000/4000 [00:57<00:00, 70.05it/s, 8 steps of \n"
     ]
    },
    {
     "name": "stdout",
     "output_type": "stream",
     "text": [
      "\n",
      "                mean       std    median      5.0%     95.0%     n_eff     r_hat\n",
      "  k_length      0.68      0.00      0.68      0.68      0.68      9.87      1.96\n",
      "   k_scale     29.56      0.00     29.56     29.56     29.56      0.50      1.00\n",
      "     noise      0.01      0.00      0.01      0.01      0.01      0.50      1.00\n",
      "\n",
      "\n",
      "Step 4/5\n"
     ]
    },
    {
     "name": "stderr",
     "output_type": "stream",
     "text": [
      "/lustre/isaac/scratch/upratius/projects/gpax/gpax/models/gp.py:111: FutureWarning: `noise_prior` is deprecated and will be removed in a future version. Please use `noise_prior_dist` instead, which accepts an instance of a numpyro.distributions Distribution object, e.g., `dist.HalfNormal(scale=0.1)`, rather than a function that calls `numpyro.sample`.\n",
      "  warnings.warn(\n",
      "/lustre/isaac/scratch/upratius/projects/gpax/gpax/models/gp.py:119: UserWarning: `kernel_prior` will remain available for complex priors. However, for modifying only the lengthscales, it is recommended to use `lengthscale_prior_dist` instead. `lengthscale_prior_dist` accepts an instance of a numpyro.distributions Distribution object, e.g., `dist.Gamma(2, 5)`, rather than a function that calls `numpyro.sample`.\n",
      "  warnings.warn(\n",
      "sample: 100%|█| 4000/4000 [01:12<00:00, 55.42it/s, 1023 steps \n"
     ]
    },
    {
     "name": "stdout",
     "output_type": "stream",
     "text": [
      "\n",
      "                mean       std    median      5.0%     95.0%     n_eff     r_hat\n",
      "  k_length      0.68      0.00      0.68      0.68      0.68      0.50      1.00\n",
      "   k_scale     10.78      0.00     10.78     10.78     10.78      0.50      1.00\n",
      "     noise      0.01      0.00      0.01      0.01      0.01      0.50      1.00\n",
      "\n",
      "\n",
      "Step 5/5\n"
     ]
    },
    {
     "name": "stderr",
     "output_type": "stream",
     "text": [
      "/lustre/isaac/scratch/upratius/projects/gpax/gpax/models/gp.py:111: FutureWarning: `noise_prior` is deprecated and will be removed in a future version. Please use `noise_prior_dist` instead, which accepts an instance of a numpyro.distributions Distribution object, e.g., `dist.HalfNormal(scale=0.1)`, rather than a function that calls `numpyro.sample`.\n",
      "  warnings.warn(\n",
      "/lustre/isaac/scratch/upratius/projects/gpax/gpax/models/gp.py:119: UserWarning: `kernel_prior` will remain available for complex priors. However, for modifying only the lengthscales, it is recommended to use `lengthscale_prior_dist` instead. `lengthscale_prior_dist` accepts an instance of a numpyro.distributions Distribution object, e.g., `dist.Gamma(2, 5)`, rather than a function that calls `numpyro.sample`.\n",
      "  warnings.warn(\n",
      "sample: 100%|█| 4000/4000 [01:15<00:00, 52.91it/s, 37 steps of\n"
     ]
    },
    {
     "name": "stdout",
     "output_type": "stream",
     "text": [
      "\n",
      "                mean       std    median      5.0%     95.0%     n_eff     r_hat\n",
      "  k_length      0.69      0.00      0.69      0.69      0.69      0.50      1.00\n",
      "   k_scale     13.89      0.00     13.89     13.89     13.89      0.50      1.00\n",
      "     noise      0.01      0.00      0.01      0.01      0.01      0.50      1.00\n",
      "\n",
      "Seed: 1, n_init: 20, Noise Level: 0.1\n",
      "\n",
      "Step 1/5\n"
     ]
    },
    {
     "name": "stderr",
     "output_type": "stream",
     "text": [
      "/lustre/isaac/scratch/upratius/projects/gpax/gpax/models/gp.py:111: FutureWarning: `noise_prior` is deprecated and will be removed in a future version. Please use `noise_prior_dist` instead, which accepts an instance of a numpyro.distributions Distribution object, e.g., `dist.HalfNormal(scale=0.1)`, rather than a function that calls `numpyro.sample`.\n",
      "  warnings.warn(\n",
      "/lustre/isaac/scratch/upratius/projects/gpax/gpax/models/gp.py:119: UserWarning: `kernel_prior` will remain available for complex priors. However, for modifying only the lengthscales, it is recommended to use `lengthscale_prior_dist` instead. `lengthscale_prior_dist` accepts an instance of a numpyro.distributions Distribution object, e.g., `dist.Gamma(2, 5)`, rather than a function that calls `numpyro.sample`.\n",
      "  warnings.warn(\n",
      "sample: 100%|█| 4000/4000 [00:37<00:00, 108.08it/s, 2 steps of\n"
     ]
    },
    {
     "name": "stdout",
     "output_type": "stream",
     "text": [
      "\n",
      "                mean       std    median      5.0%     95.0%     n_eff     r_hat\n",
      "  k_length      0.75      0.00      0.75      0.75      0.75      0.55      1.00\n",
      "   k_scale   3627.27      0.00   3627.27   3627.27   3627.27      0.50      1.00\n",
      "     noise      0.01      0.00      0.01      0.01      0.01      0.50      1.00\n",
      "\n",
      "\n",
      "Step 2/5\n"
     ]
    },
    {
     "name": "stderr",
     "output_type": "stream",
     "text": [
      "/lustre/isaac/scratch/upratius/projects/gpax/gpax/models/gp.py:111: FutureWarning: `noise_prior` is deprecated and will be removed in a future version. Please use `noise_prior_dist` instead, which accepts an instance of a numpyro.distributions Distribution object, e.g., `dist.HalfNormal(scale=0.1)`, rather than a function that calls `numpyro.sample`.\n",
      "  warnings.warn(\n",
      "/lustre/isaac/scratch/upratius/projects/gpax/gpax/models/gp.py:119: UserWarning: `kernel_prior` will remain available for complex priors. However, for modifying only the lengthscales, it is recommended to use `lengthscale_prior_dist` instead. `lengthscale_prior_dist` accepts an instance of a numpyro.distributions Distribution object, e.g., `dist.Gamma(2, 5)`, rather than a function that calls `numpyro.sample`.\n",
      "  warnings.warn(\n",
      "sample: 100%|█| 4000/4000 [00:53<00:00, 75.01it/s, 65 steps of\n"
     ]
    },
    {
     "name": "stdout",
     "output_type": "stream",
     "text": [
      "\n",
      "                mean       std    median      5.0%     95.0%     n_eff     r_hat\n",
      "  k_length      0.70      0.00      0.70      0.70      0.70    129.84      1.00\n",
      "   k_scale    368.42      0.00    368.42    368.42    368.42      0.50      1.00\n",
      "     noise      0.01      0.00      0.01      0.01      0.01      0.50      1.00\n",
      "\n",
      "\n",
      "Step 3/5\n"
     ]
    },
    {
     "name": "stderr",
     "output_type": "stream",
     "text": [
      "/lustre/isaac/scratch/upratius/projects/gpax/gpax/models/gp.py:111: FutureWarning: `noise_prior` is deprecated and will be removed in a future version. Please use `noise_prior_dist` instead, which accepts an instance of a numpyro.distributions Distribution object, e.g., `dist.HalfNormal(scale=0.1)`, rather than a function that calls `numpyro.sample`.\n",
      "  warnings.warn(\n",
      "/lustre/isaac/scratch/upratius/projects/gpax/gpax/models/gp.py:119: UserWarning: `kernel_prior` will remain available for complex priors. However, for modifying only the lengthscales, it is recommended to use `lengthscale_prior_dist` instead. `lengthscale_prior_dist` accepts an instance of a numpyro.distributions Distribution object, e.g., `dist.Gamma(2, 5)`, rather than a function that calls `numpyro.sample`.\n",
      "  warnings.warn(\n",
      "sample: 100%|█| 4000/4000 [00:54<00:00, 73.63it/s, 20 steps of\n"
     ]
    },
    {
     "name": "stdout",
     "output_type": "stream",
     "text": [
      "\n",
      "                mean       std    median      5.0%     95.0%     n_eff     r_hat\n",
      "  k_length      0.71      0.00      0.71      0.71      0.71      0.50      1.00\n",
      "   k_scale    141.89      0.00    141.89    141.89    141.89      0.50      1.00\n",
      "     noise      0.01      0.00      0.01      0.01      0.01      0.50      1.00\n",
      "\n",
      "\n",
      "Step 4/5\n"
     ]
    },
    {
     "name": "stderr",
     "output_type": "stream",
     "text": [
      "/lustre/isaac/scratch/upratius/projects/gpax/gpax/models/gp.py:111: FutureWarning: `noise_prior` is deprecated and will be removed in a future version. Please use `noise_prior_dist` instead, which accepts an instance of a numpyro.distributions Distribution object, e.g., `dist.HalfNormal(scale=0.1)`, rather than a function that calls `numpyro.sample`.\n",
      "  warnings.warn(\n",
      "/lustre/isaac/scratch/upratius/projects/gpax/gpax/models/gp.py:119: UserWarning: `kernel_prior` will remain available for complex priors. However, for modifying only the lengthscales, it is recommended to use `lengthscale_prior_dist` instead. `lengthscale_prior_dist` accepts an instance of a numpyro.distributions Distribution object, e.g., `dist.Gamma(2, 5)`, rather than a function that calls `numpyro.sample`.\n",
      "  warnings.warn(\n",
      "sample: 100%|█| 4000/4000 [01:05<00:00, 60.87it/s, 15 steps of\n"
     ]
    },
    {
     "name": "stdout",
     "output_type": "stream",
     "text": [
      "\n",
      "                mean       std    median      5.0%     95.0%     n_eff     r_hat\n",
      "  k_length      0.64      0.00      0.64      0.64      0.64       nan       nan\n",
      "   k_scale     29.60      0.00     29.60     29.60     29.60      0.50      1.00\n",
      "     noise      0.01      0.00      0.01      0.01      0.01      0.50      1.00\n",
      "\n",
      "\n",
      "Step 5/5\n"
     ]
    },
    {
     "name": "stderr",
     "output_type": "stream",
     "text": [
      "/lustre/isaac/scratch/upratius/projects/gpax/gpax/models/gp.py:111: FutureWarning: `noise_prior` is deprecated and will be removed in a future version. Please use `noise_prior_dist` instead, which accepts an instance of a numpyro.distributions Distribution object, e.g., `dist.HalfNormal(scale=0.1)`, rather than a function that calls `numpyro.sample`.\n",
      "  warnings.warn(\n",
      "/lustre/isaac/scratch/upratius/projects/gpax/gpax/models/gp.py:119: UserWarning: `kernel_prior` will remain available for complex priors. However, for modifying only the lengthscales, it is recommended to use `lengthscale_prior_dist` instead. `lengthscale_prior_dist` accepts an instance of a numpyro.distributions Distribution object, e.g., `dist.Gamma(2, 5)`, rather than a function that calls `numpyro.sample`.\n",
      "  warnings.warn(\n",
      "sample: 100%|█| 4000/4000 [00:59<00:00, 67.46it/s, 128 steps o\n"
     ]
    },
    {
     "name": "stdout",
     "output_type": "stream",
     "text": [
      "\n",
      "                mean       std    median      5.0%     95.0%     n_eff     r_hat\n",
      "  k_length      0.65      0.00      0.65      0.65      0.65     41.78      1.05\n",
      "   k_scale     95.80      0.00     95.80     95.80     95.80      0.50      1.00\n",
      "     noise      0.01      0.00      0.01      0.01      0.01      0.50      1.00\n",
      "\n",
      "Seed: 1, n_init: 20, Noise Level: 0.5\n",
      "\n",
      "Step 1/5\n"
     ]
    },
    {
     "name": "stderr",
     "output_type": "stream",
     "text": [
      "/lustre/isaac/scratch/upratius/projects/gpax/gpax/models/gp.py:111: FutureWarning: `noise_prior` is deprecated and will be removed in a future version. Please use `noise_prior_dist` instead, which accepts an instance of a numpyro.distributions Distribution object, e.g., `dist.HalfNormal(scale=0.1)`, rather than a function that calls `numpyro.sample`.\n",
      "  warnings.warn(\n",
      "/lustre/isaac/scratch/upratius/projects/gpax/gpax/models/gp.py:119: UserWarning: `kernel_prior` will remain available for complex priors. However, for modifying only the lengthscales, it is recommended to use `lengthscale_prior_dist` instead. `lengthscale_prior_dist` accepts an instance of a numpyro.distributions Distribution object, e.g., `dist.Gamma(2, 5)`, rather than a function that calls `numpyro.sample`.\n",
      "  warnings.warn(\n",
      "sample: 100%|█| 4000/4000 [00:53<00:00, 75.17it/s, 3 steps of \n"
     ]
    },
    {
     "name": "stdout",
     "output_type": "stream",
     "text": [
      "\n",
      "                mean       std    median      5.0%     95.0%     n_eff     r_hat\n",
      "  k_length      0.69      0.00      0.69      0.69      0.69      0.50      1.00\n",
      "   k_scale     41.47      0.00     41.47     41.47     41.47       nan       nan\n",
      "     noise      0.01      0.00      0.01      0.01      0.01      0.50      1.00\n",
      "\n",
      "\n",
      "Step 2/5\n"
     ]
    },
    {
     "name": "stderr",
     "output_type": "stream",
     "text": [
      "/lustre/isaac/scratch/upratius/projects/gpax/gpax/models/gp.py:111: FutureWarning: `noise_prior` is deprecated and will be removed in a future version. Please use `noise_prior_dist` instead, which accepts an instance of a numpyro.distributions Distribution object, e.g., `dist.HalfNormal(scale=0.1)`, rather than a function that calls `numpyro.sample`.\n",
      "  warnings.warn(\n",
      "/lustre/isaac/scratch/upratius/projects/gpax/gpax/models/gp.py:119: UserWarning: `kernel_prior` will remain available for complex priors. However, for modifying only the lengthscales, it is recommended to use `lengthscale_prior_dist` instead. `lengthscale_prior_dist` accepts an instance of a numpyro.distributions Distribution object, e.g., `dist.Gamma(2, 5)`, rather than a function that calls `numpyro.sample`.\n",
      "  warnings.warn(\n",
      "sample: 100%|█| 4000/4000 [01:01<00:00, 64.98it/s, 120 steps o\n"
     ]
    },
    {
     "name": "stdout",
     "output_type": "stream",
     "text": [
      "\n",
      "                mean       std    median      5.0%     95.0%     n_eff     r_hat\n",
      "  k_length      0.66      0.00      0.66      0.66      0.66      2.40      1.06\n",
      "   k_scale     55.54      0.00     55.54     55.54     55.54      0.50      1.00\n",
      "     noise      0.01      0.00      0.01      0.01      0.01      0.50      1.00\n",
      "\n",
      "\n",
      "Step 3/5\n"
     ]
    },
    {
     "name": "stderr",
     "output_type": "stream",
     "text": [
      "/lustre/isaac/scratch/upratius/projects/gpax/gpax/models/gp.py:111: FutureWarning: `noise_prior` is deprecated and will be removed in a future version. Please use `noise_prior_dist` instead, which accepts an instance of a numpyro.distributions Distribution object, e.g., `dist.HalfNormal(scale=0.1)`, rather than a function that calls `numpyro.sample`.\n",
      "  warnings.warn(\n",
      "/lustre/isaac/scratch/upratius/projects/gpax/gpax/models/gp.py:119: UserWarning: `kernel_prior` will remain available for complex priors. However, for modifying only the lengthscales, it is recommended to use `lengthscale_prior_dist` instead. `lengthscale_prior_dist` accepts an instance of a numpyro.distributions Distribution object, e.g., `dist.Gamma(2, 5)`, rather than a function that calls `numpyro.sample`.\n",
      "  warnings.warn(\n",
      "sample: 100%|█| 4000/4000 [00:57<00:00, 69.45it/s, 4 steps of \n"
     ]
    },
    {
     "name": "stdout",
     "output_type": "stream",
     "text": [
      "\n",
      "                mean       std    median      5.0%     95.0%     n_eff     r_hat\n",
      "  k_length      0.68      0.00      0.68      0.68      0.68      0.50      1.00\n",
      "   k_scale     22.33      0.00     22.33     22.33     22.33      0.50      1.00\n",
      "     noise      0.01      0.00      0.01      0.01      0.01      0.50      1.00\n",
      "\n",
      "\n",
      "Step 4/5\n"
     ]
    },
    {
     "name": "stderr",
     "output_type": "stream",
     "text": [
      "/lustre/isaac/scratch/upratius/projects/gpax/gpax/models/gp.py:111: FutureWarning: `noise_prior` is deprecated and will be removed in a future version. Please use `noise_prior_dist` instead, which accepts an instance of a numpyro.distributions Distribution object, e.g., `dist.HalfNormal(scale=0.1)`, rather than a function that calls `numpyro.sample`.\n",
      "  warnings.warn(\n",
      "/lustre/isaac/scratch/upratius/projects/gpax/gpax/models/gp.py:119: UserWarning: `kernel_prior` will remain available for complex priors. However, for modifying only the lengthscales, it is recommended to use `lengthscale_prior_dist` instead. `lengthscale_prior_dist` accepts an instance of a numpyro.distributions Distribution object, e.g., `dist.Gamma(2, 5)`, rather than a function that calls `numpyro.sample`.\n",
      "  warnings.warn(\n",
      "sample: 100%|█| 4000/4000 [01:11<00:00, 55.70it/s, 1023 steps \n"
     ]
    },
    {
     "name": "stdout",
     "output_type": "stream",
     "text": [
      "\n",
      "                mean       std    median      5.0%     95.0%     n_eff     r_hat\n",
      "  k_length      0.68      0.00      0.68      0.68      0.68      0.50      1.00\n",
      "   k_scale      9.28      0.00      9.28      9.28      9.28      0.50      1.00\n",
      "     noise      0.01      0.00      0.01      0.01      0.01      0.50      1.00\n",
      "\n",
      "\n",
      "Step 5/5\n"
     ]
    },
    {
     "name": "stderr",
     "output_type": "stream",
     "text": [
      "/lustre/isaac/scratch/upratius/projects/gpax/gpax/models/gp.py:111: FutureWarning: `noise_prior` is deprecated and will be removed in a future version. Please use `noise_prior_dist` instead, which accepts an instance of a numpyro.distributions Distribution object, e.g., `dist.HalfNormal(scale=0.1)`, rather than a function that calls `numpyro.sample`.\n",
      "  warnings.warn(\n",
      "/lustre/isaac/scratch/upratius/projects/gpax/gpax/models/gp.py:119: UserWarning: `kernel_prior` will remain available for complex priors. However, for modifying only the lengthscales, it is recommended to use `lengthscale_prior_dist` instead. `lengthscale_prior_dist` accepts an instance of a numpyro.distributions Distribution object, e.g., `dist.Gamma(2, 5)`, rather than a function that calls `numpyro.sample`.\n",
      "  warnings.warn(\n",
      "sample: 100%|█| 4000/4000 [01:17<00:00, 51.53it/s, 710 steps o\n"
     ]
    },
    {
     "name": "stdout",
     "output_type": "stream",
     "text": [
      "\n",
      "                mean       std    median      5.0%     95.0%     n_eff     r_hat\n",
      "  k_length      0.68      0.00      0.68      0.68      0.68    252.71      1.01\n",
      "   k_scale     33.28      0.00     33.28     33.28     33.28      0.50      1.00\n",
      "     noise      0.01      0.00      0.01      0.01      0.01      0.50      1.00\n",
      "\n",
      "Seed: 2, n_init: 10, Noise Level: 0\n",
      "\n",
      "Step 1/5\n"
     ]
    },
    {
     "name": "stderr",
     "output_type": "stream",
     "text": [
      "/lustre/isaac/scratch/upratius/projects/gpax/gpax/models/gp.py:111: FutureWarning: `noise_prior` is deprecated and will be removed in a future version. Please use `noise_prior_dist` instead, which accepts an instance of a numpyro.distributions Distribution object, e.g., `dist.HalfNormal(scale=0.1)`, rather than a function that calls `numpyro.sample`.\n",
      "  warnings.warn(\n",
      "/lustre/isaac/scratch/upratius/projects/gpax/gpax/models/gp.py:119: UserWarning: `kernel_prior` will remain available for complex priors. However, for modifying only the lengthscales, it is recommended to use `lengthscale_prior_dist` instead. `lengthscale_prior_dist` accepts an instance of a numpyro.distributions Distribution object, e.g., `dist.Gamma(2, 5)`, rather than a function that calls `numpyro.sample`.\n",
      "  warnings.warn(\n",
      "sample: 100%|█| 4000/4000 [00:02<00:00, 1381.43it/s, 7 steps o\n"
     ]
    },
    {
     "name": "stdout",
     "output_type": "stream",
     "text": [
      "\n",
      "                mean       std    median      5.0%     95.0%     n_eff     r_hat\n",
      "  k_length      1.37      0.44      1.47      0.72      1.99   1667.02      1.00\n",
      "   k_scale  77684.52  19737.01  74845.76  47334.99 106374.62   1028.83      1.00\n",
      "     noise      0.01      0.01      0.01      0.00      0.02   1466.18      1.00\n",
      "\n",
      "\n",
      "Step 2/5\n"
     ]
    },
    {
     "name": "stderr",
     "output_type": "stream",
     "text": [
      "/lustre/isaac/scratch/upratius/projects/gpax/gpax/models/gp.py:111: FutureWarning: `noise_prior` is deprecated and will be removed in a future version. Please use `noise_prior_dist` instead, which accepts an instance of a numpyro.distributions Distribution object, e.g., `dist.HalfNormal(scale=0.1)`, rather than a function that calls `numpyro.sample`.\n",
      "  warnings.warn(\n",
      "/lustre/isaac/scratch/upratius/projects/gpax/gpax/models/gp.py:119: UserWarning: `kernel_prior` will remain available for complex priors. However, for modifying only the lengthscales, it is recommended to use `lengthscale_prior_dist` instead. `lengthscale_prior_dist` accepts an instance of a numpyro.distributions Distribution object, e.g., `dist.Gamma(2, 5)`, rather than a function that calls `numpyro.sample`.\n",
      "  warnings.warn(\n",
      "sample: 100%|█| 4000/4000 [00:31<00:00, 125.74it/s, 1023 steps\n"
     ]
    },
    {
     "name": "stdout",
     "output_type": "stream",
     "text": [
      "\n",
      "                mean       std    median      5.0%     95.0%     n_eff     r_hat\n",
      "  k_length      0.78      0.00      0.78      0.78      0.78      2.52      3.55\n",
      "   k_scale   1322.64      0.07   1322.67   1322.67   1322.67     10.24      1.11\n",
      "     noise      0.01      0.00      0.01      0.01      0.01      0.50      1.00\n",
      "\n",
      "\n",
      "Step 3/5\n"
     ]
    },
    {
     "name": "stderr",
     "output_type": "stream",
     "text": [
      "/lustre/isaac/scratch/upratius/projects/gpax/gpax/models/gp.py:111: FutureWarning: `noise_prior` is deprecated and will be removed in a future version. Please use `noise_prior_dist` instead, which accepts an instance of a numpyro.distributions Distribution object, e.g., `dist.HalfNormal(scale=0.1)`, rather than a function that calls `numpyro.sample`.\n",
      "  warnings.warn(\n",
      "/lustre/isaac/scratch/upratius/projects/gpax/gpax/models/gp.py:119: UserWarning: `kernel_prior` will remain available for complex priors. However, for modifying only the lengthscales, it is recommended to use `lengthscale_prior_dist` instead. `lengthscale_prior_dist` accepts an instance of a numpyro.distributions Distribution object, e.g., `dist.Gamma(2, 5)`, rather than a function that calls `numpyro.sample`.\n",
      "  warnings.warn(\n",
      "sample: 100%|█| 4000/4000 [00:33<00:00, 118.31it/s, 1023 steps\n"
     ]
    },
    {
     "name": "stdout",
     "output_type": "stream",
     "text": [
      "\n",
      "                mean       std    median      5.0%     95.0%     n_eff     r_hat\n",
      "  k_length      0.72      0.00      0.72      0.72      0.72      2.42      3.45\n",
      "   k_scale    730.23      0.00    730.23    730.23    730.23      0.50      1.00\n",
      "     noise      0.01      0.00      0.01      0.01      0.01      0.50      1.00\n",
      "\n",
      "\n",
      "Step 4/5\n"
     ]
    },
    {
     "name": "stderr",
     "output_type": "stream",
     "text": [
      "/lustre/isaac/scratch/upratius/projects/gpax/gpax/models/gp.py:111: FutureWarning: `noise_prior` is deprecated and will be removed in a future version. Please use `noise_prior_dist` instead, which accepts an instance of a numpyro.distributions Distribution object, e.g., `dist.HalfNormal(scale=0.1)`, rather than a function that calls `numpyro.sample`.\n",
      "  warnings.warn(\n",
      "/lustre/isaac/scratch/upratius/projects/gpax/gpax/models/gp.py:119: UserWarning: `kernel_prior` will remain available for complex priors. However, for modifying only the lengthscales, it is recommended to use `lengthscale_prior_dist` instead. `lengthscale_prior_dist` accepts an instance of a numpyro.distributions Distribution object, e.g., `dist.Gamma(2, 5)`, rather than a function that calls `numpyro.sample`.\n",
      "  warnings.warn(\n",
      "sample: 100%|█| 4000/4000 [00:37<00:00, 105.32it/s, 1023 steps\n"
     ]
    },
    {
     "name": "stdout",
     "output_type": "stream",
     "text": [
      "\n",
      "                mean       std    median      5.0%     95.0%     n_eff     r_hat\n",
      "  k_length      0.80      0.02      0.80      0.78      0.83      2.63      2.48\n",
      "   k_scale  14139.49   1284.56  13997.53  12068.98  15933.91      2.57      2.74\n",
      "     noise      0.01      0.00      0.01      0.01      0.01      3.42      1.99\n",
      "\n",
      "\n",
      "Step 5/5\n"
     ]
    },
    {
     "name": "stderr",
     "output_type": "stream",
     "text": [
      "/lustre/isaac/scratch/upratius/projects/gpax/gpax/models/gp.py:111: FutureWarning: `noise_prior` is deprecated and will be removed in a future version. Please use `noise_prior_dist` instead, which accepts an instance of a numpyro.distributions Distribution object, e.g., `dist.HalfNormal(scale=0.1)`, rather than a function that calls `numpyro.sample`.\n",
      "  warnings.warn(\n",
      "/lustre/isaac/scratch/upratius/projects/gpax/gpax/models/gp.py:119: UserWarning: `kernel_prior` will remain available for complex priors. However, for modifying only the lengthscales, it is recommended to use `lengthscale_prior_dist` instead. `lengthscale_prior_dist` accepts an instance of a numpyro.distributions Distribution object, e.g., `dist.Gamma(2, 5)`, rather than a function that calls `numpyro.sample`.\n",
      "  warnings.warn(\n",
      "sample: 100%|█| 4000/4000 [00:36<00:00, 109.84it/s, 1023 steps\n"
     ]
    },
    {
     "name": "stdout",
     "output_type": "stream",
     "text": [
      "\n",
      "                mean       std    median      5.0%     95.0%     n_eff     r_hat\n",
      "  k_length      0.73      0.00      0.73      0.73      0.73      2.50      2.75\n",
      "   k_scale    770.65      0.00    770.65    770.65    770.65      0.50      1.00\n",
      "     noise      0.01      0.00      0.01      0.01      0.01      0.50      1.00\n",
      "\n",
      "Seed: 2, n_init: 10, Noise Level: 0.01\n",
      "\n",
      "Step 1/5\n"
     ]
    },
    {
     "name": "stderr",
     "output_type": "stream",
     "text": [
      "/lustre/isaac/scratch/upratius/projects/gpax/gpax/models/gp.py:111: FutureWarning: `noise_prior` is deprecated and will be removed in a future version. Please use `noise_prior_dist` instead, which accepts an instance of a numpyro.distributions Distribution object, e.g., `dist.HalfNormal(scale=0.1)`, rather than a function that calls `numpyro.sample`.\n",
      "  warnings.warn(\n",
      "/lustre/isaac/scratch/upratius/projects/gpax/gpax/models/gp.py:119: UserWarning: `kernel_prior` will remain available for complex priors. However, for modifying only the lengthscales, it is recommended to use `lengthscale_prior_dist` instead. `lengthscale_prior_dist` accepts an instance of a numpyro.distributions Distribution object, e.g., `dist.Gamma(2, 5)`, rather than a function that calls `numpyro.sample`.\n",
      "  warnings.warn(\n",
      "sample: 100%|█| 4000/4000 [00:02<00:00, 1369.12it/s, 7 steps o\n"
     ]
    },
    {
     "name": "stdout",
     "output_type": "stream",
     "text": [
      "\n",
      "                mean       std    median      5.0%     95.0%     n_eff     r_hat\n",
      "  k_length      1.37      0.44      1.45      0.71      2.00   1405.14      1.00\n",
      "   k_scale  77769.19  19278.49  75023.91  46533.59 104351.18   1023.67      1.00\n",
      "     noise      0.01      0.01      0.01      0.00      0.02   1126.38      1.00\n",
      "\n",
      "\n",
      "Step 2/5\n"
     ]
    },
    {
     "name": "stderr",
     "output_type": "stream",
     "text": [
      "/lustre/isaac/scratch/upratius/projects/gpax/gpax/models/gp.py:111: FutureWarning: `noise_prior` is deprecated and will be removed in a future version. Please use `noise_prior_dist` instead, which accepts an instance of a numpyro.distributions Distribution object, e.g., `dist.HalfNormal(scale=0.1)`, rather than a function that calls `numpyro.sample`.\n",
      "  warnings.warn(\n",
      "/lustre/isaac/scratch/upratius/projects/gpax/gpax/models/gp.py:119: UserWarning: `kernel_prior` will remain available for complex priors. However, for modifying only the lengthscales, it is recommended to use `lengthscale_prior_dist` instead. `lengthscale_prior_dist` accepts an instance of a numpyro.distributions Distribution object, e.g., `dist.Gamma(2, 5)`, rather than a function that calls `numpyro.sample`.\n",
      "  warnings.warn(\n",
      "sample: 100%|█| 4000/4000 [00:16<00:00, 240.32it/s, 299 steps \n"
     ]
    },
    {
     "name": "stdout",
     "output_type": "stream",
     "text": [
      "\n",
      "                mean       std    median      5.0%     95.0%     n_eff     r_hat\n",
      "  k_length      1.33      0.00      1.33      1.33      1.33      4.48      1.24\n",
      "   k_scale  42100.00      5.49  42099.73  42090.94  42108.29      5.03      1.39\n",
      "     noise      0.01      0.00      0.01      0.01      0.01      6.31      1.02\n",
      "\n",
      "\n",
      "Step 3/5\n"
     ]
    },
    {
     "name": "stderr",
     "output_type": "stream",
     "text": [
      "/lustre/isaac/scratch/upratius/projects/gpax/gpax/models/gp.py:111: FutureWarning: `noise_prior` is deprecated and will be removed in a future version. Please use `noise_prior_dist` instead, which accepts an instance of a numpyro.distributions Distribution object, e.g., `dist.HalfNormal(scale=0.1)`, rather than a function that calls `numpyro.sample`.\n",
      "  warnings.warn(\n",
      "/lustre/isaac/scratch/upratius/projects/gpax/gpax/models/gp.py:119: UserWarning: `kernel_prior` will remain available for complex priors. However, for modifying only the lengthscales, it is recommended to use `lengthscale_prior_dist` instead. `lengthscale_prior_dist` accepts an instance of a numpyro.distributions Distribution object, e.g., `dist.Gamma(2, 5)`, rather than a function that calls `numpyro.sample`.\n",
      "  warnings.warn(\n",
      "sample: 100%|█| 4000/4000 [00:33<00:00, 118.59it/s, 1023 steps\n"
     ]
    },
    {
     "name": "stdout",
     "output_type": "stream",
     "text": [
      "\n",
      "                mean       std    median      5.0%     95.0%     n_eff     r_hat\n",
      "  k_length      0.76      0.00      0.76      0.75      0.76      2.42      3.21\n",
      "   k_scale    898.89      0.00    898.89    898.89    898.89      0.50      1.00\n",
      "     noise      0.01      0.00      0.01      0.01      0.01      0.50      1.00\n",
      "\n",
      "\n",
      "Step 4/5\n"
     ]
    },
    {
     "name": "stderr",
     "output_type": "stream",
     "text": [
      "/lustre/isaac/scratch/upratius/projects/gpax/gpax/models/gp.py:111: FutureWarning: `noise_prior` is deprecated and will be removed in a future version. Please use `noise_prior_dist` instead, which accepts an instance of a numpyro.distributions Distribution object, e.g., `dist.HalfNormal(scale=0.1)`, rather than a function that calls `numpyro.sample`.\n",
      "  warnings.warn(\n",
      "/lustre/isaac/scratch/upratius/projects/gpax/gpax/models/gp.py:119: UserWarning: `kernel_prior` will remain available for complex priors. However, for modifying only the lengthscales, it is recommended to use `lengthscale_prior_dist` instead. `lengthscale_prior_dist` accepts an instance of a numpyro.distributions Distribution object, e.g., `dist.Gamma(2, 5)`, rather than a function that calls `numpyro.sample`.\n",
      "  warnings.warn(\n",
      "sample: 100%|█| 4000/4000 [00:37<00:00, 107.37it/s, 1023 steps\n"
     ]
    },
    {
     "name": "stdout",
     "output_type": "stream",
     "text": [
      "\n",
      "                mean       std    median      5.0%     95.0%     n_eff     r_hat\n",
      "  k_length      0.72      0.00      0.72      0.72      0.73      2.59      2.77\n",
      "   k_scale   1049.96      0.00   1049.96   1049.96   1049.96      0.50      1.00\n",
      "     noise      0.01      0.00      0.01      0.01      0.01      0.50      1.00\n",
      "\n",
      "\n",
      "Step 5/5\n"
     ]
    },
    {
     "name": "stderr",
     "output_type": "stream",
     "text": [
      "/lustre/isaac/scratch/upratius/projects/gpax/gpax/models/gp.py:111: FutureWarning: `noise_prior` is deprecated and will be removed in a future version. Please use `noise_prior_dist` instead, which accepts an instance of a numpyro.distributions Distribution object, e.g., `dist.HalfNormal(scale=0.1)`, rather than a function that calls `numpyro.sample`.\n",
      "  warnings.warn(\n",
      "/lustre/isaac/scratch/upratius/projects/gpax/gpax/models/gp.py:119: UserWarning: `kernel_prior` will remain available for complex priors. However, for modifying only the lengthscales, it is recommended to use `lengthscale_prior_dist` instead. `lengthscale_prior_dist` accepts an instance of a numpyro.distributions Distribution object, e.g., `dist.Gamma(2, 5)`, rather than a function that calls `numpyro.sample`.\n",
      "  warnings.warn(\n",
      "sample: 100%|█| 4000/4000 [00:35<00:00, 111.18it/s, 1023 steps\n"
     ]
    },
    {
     "name": "stdout",
     "output_type": "stream",
     "text": [
      "\n",
      "                mean       std    median      5.0%     95.0%     n_eff     r_hat\n",
      "  k_length      0.80      0.00      0.80      0.80      0.81      2.56      3.11\n",
      "   k_scale  11041.06    377.98  11029.73  10460.64  11624.72      2.71      2.63\n",
      "     noise      0.01      0.00      0.01      0.01      0.01      3.11      2.36\n",
      "\n",
      "Seed: 2, n_init: 10, Noise Level: 0.1\n",
      "\n",
      "Step 1/5\n"
     ]
    },
    {
     "name": "stderr",
     "output_type": "stream",
     "text": [
      "/lustre/isaac/scratch/upratius/projects/gpax/gpax/models/gp.py:111: FutureWarning: `noise_prior` is deprecated and will be removed in a future version. Please use `noise_prior_dist` instead, which accepts an instance of a numpyro.distributions Distribution object, e.g., `dist.HalfNormal(scale=0.1)`, rather than a function that calls `numpyro.sample`.\n",
      "  warnings.warn(\n",
      "/lustre/isaac/scratch/upratius/projects/gpax/gpax/models/gp.py:119: UserWarning: `kernel_prior` will remain available for complex priors. However, for modifying only the lengthscales, it is recommended to use `lengthscale_prior_dist` instead. `lengthscale_prior_dist` accepts an instance of a numpyro.distributions Distribution object, e.g., `dist.Gamma(2, 5)`, rather than a function that calls `numpyro.sample`.\n",
      "  warnings.warn(\n",
      "sample: 100%|█| 4000/4000 [00:02<00:00, 1359.35it/s, 15 steps \n"
     ]
    },
    {
     "name": "stdout",
     "output_type": "stream",
     "text": [
      "\n",
      "                mean       std    median      5.0%     95.0%     n_eff     r_hat\n",
      "  k_length      1.37      0.44      1.46      0.72      2.00   1399.38      1.00\n",
      "   k_scale  76932.52  19242.04  73795.89  44063.46 104610.05   1136.90      1.00\n",
      "     noise      0.01      0.01      0.01      0.00      0.02   1497.74      1.00\n",
      "\n",
      "\n",
      "Step 2/5\n"
     ]
    },
    {
     "name": "stderr",
     "output_type": "stream",
     "text": [
      "/lustre/isaac/scratch/upratius/projects/gpax/gpax/models/gp.py:111: FutureWarning: `noise_prior` is deprecated and will be removed in a future version. Please use `noise_prior_dist` instead, which accepts an instance of a numpyro.distributions Distribution object, e.g., `dist.HalfNormal(scale=0.1)`, rather than a function that calls `numpyro.sample`.\n",
      "  warnings.warn(\n",
      "/lustre/isaac/scratch/upratius/projects/gpax/gpax/models/gp.py:119: UserWarning: `kernel_prior` will remain available for complex priors. However, for modifying only the lengthscales, it is recommended to use `lengthscale_prior_dist` instead. `lengthscale_prior_dist` accepts an instance of a numpyro.distributions Distribution object, e.g., `dist.Gamma(2, 5)`, rather than a function that calls `numpyro.sample`.\n",
      "  warnings.warn(\n",
      "sample: 100%|█| 4000/4000 [00:28<00:00, 142.58it/s, 73 steps o\n"
     ]
    },
    {
     "name": "stdout",
     "output_type": "stream",
     "text": [
      "\n",
      "                mean       std    median      5.0%     95.0%     n_eff     r_hat\n",
      "  k_length      0.57      0.01      0.57      0.56      0.58      2.48      3.09\n",
      "   k_scale  34279.02   5444.43  33814.66  26670.43  43931.08      2.81      2.21\n",
      "     noise      0.01      0.00      0.01      0.01      0.01      3.56      1.58\n",
      "\n",
      "\n",
      "Step 3/5\n"
     ]
    },
    {
     "name": "stderr",
     "output_type": "stream",
     "text": [
      "/lustre/isaac/scratch/upratius/projects/gpax/gpax/models/gp.py:111: FutureWarning: `noise_prior` is deprecated and will be removed in a future version. Please use `noise_prior_dist` instead, which accepts an instance of a numpyro.distributions Distribution object, e.g., `dist.HalfNormal(scale=0.1)`, rather than a function that calls `numpyro.sample`.\n",
      "  warnings.warn(\n",
      "/lustre/isaac/scratch/upratius/projects/gpax/gpax/models/gp.py:119: UserWarning: `kernel_prior` will remain available for complex priors. However, for modifying only the lengthscales, it is recommended to use `lengthscale_prior_dist` instead. `lengthscale_prior_dist` accepts an instance of a numpyro.distributions Distribution object, e.g., `dist.Gamma(2, 5)`, rather than a function that calls `numpyro.sample`.\n",
      "  warnings.warn(\n",
      "sample: 100%|█| 4000/4000 [00:33<00:00, 118.47it/s, 1023 steps\n"
     ]
    },
    {
     "name": "stdout",
     "output_type": "stream",
     "text": [
      "\n",
      "                mean       std    median      5.0%     95.0%     n_eff     r_hat\n",
      "  k_length      0.75      0.00      0.75      0.75      0.75      2.60      3.24\n",
      "   k_scale    875.17      0.00    875.17    875.17    875.17      0.50      1.00\n",
      "     noise      0.01      0.00      0.01      0.01      0.01      0.50      1.00\n",
      "\n",
      "\n",
      "Step 4/5\n"
     ]
    },
    {
     "name": "stderr",
     "output_type": "stream",
     "text": [
      "/lustre/isaac/scratch/upratius/projects/gpax/gpax/models/gp.py:111: FutureWarning: `noise_prior` is deprecated and will be removed in a future version. Please use `noise_prior_dist` instead, which accepts an instance of a numpyro.distributions Distribution object, e.g., `dist.HalfNormal(scale=0.1)`, rather than a function that calls `numpyro.sample`.\n",
      "  warnings.warn(\n",
      "/lustre/isaac/scratch/upratius/projects/gpax/gpax/models/gp.py:119: UserWarning: `kernel_prior` will remain available for complex priors. However, for modifying only the lengthscales, it is recommended to use `lengthscale_prior_dist` instead. `lengthscale_prior_dist` accepts an instance of a numpyro.distributions Distribution object, e.g., `dist.Gamma(2, 5)`, rather than a function that calls `numpyro.sample`.\n",
      "  warnings.warn(\n",
      "sample: 100%|█| 4000/4000 [00:36<00:00, 109.10it/s, 1023 steps\n"
     ]
    },
    {
     "name": "stdout",
     "output_type": "stream",
     "text": [
      "\n",
      "                mean       std    median      5.0%     95.0%     n_eff     r_hat\n",
      "  k_length      0.98      0.00      0.98      0.98      0.99      3.88      1.72\n",
      "   k_scale  31298.88   6078.77  33533.25  21089.32  40153.30      2.86      2.38\n",
      "     noise      0.01      0.00      0.01      0.01      0.01      9.27      1.11\n",
      "\n",
      "\n",
      "Step 5/5\n"
     ]
    },
    {
     "name": "stderr",
     "output_type": "stream",
     "text": [
      "/lustre/isaac/scratch/upratius/projects/gpax/gpax/models/gp.py:111: FutureWarning: `noise_prior` is deprecated and will be removed in a future version. Please use `noise_prior_dist` instead, which accepts an instance of a numpyro.distributions Distribution object, e.g., `dist.HalfNormal(scale=0.1)`, rather than a function that calls `numpyro.sample`.\n",
      "  warnings.warn(\n",
      "/lustre/isaac/scratch/upratius/projects/gpax/gpax/models/gp.py:119: UserWarning: `kernel_prior` will remain available for complex priors. However, for modifying only the lengthscales, it is recommended to use `lengthscale_prior_dist` instead. `lengthscale_prior_dist` accepts an instance of a numpyro.distributions Distribution object, e.g., `dist.Gamma(2, 5)`, rather than a function that calls `numpyro.sample`.\n",
      "  warnings.warn(\n",
      "sample: 100%|█| 4000/4000 [00:35<00:00, 112.14it/s, 1023 steps\n"
     ]
    },
    {
     "name": "stdout",
     "output_type": "stream",
     "text": [
      "\n",
      "                mean       std    median      5.0%     95.0%     n_eff     r_hat\n",
      "  k_length      0.76      0.00      0.76      0.75      0.76      2.48      3.09\n",
      "   k_scale    781.51      0.00    781.51    781.51    781.51      0.50      1.00\n",
      "     noise      0.01      0.00      0.01      0.01      0.01      0.50      1.00\n",
      "\n",
      "Seed: 2, n_init: 10, Noise Level: 0.5\n",
      "\n",
      "Step 1/5\n"
     ]
    },
    {
     "name": "stderr",
     "output_type": "stream",
     "text": [
      "/lustre/isaac/scratch/upratius/projects/gpax/gpax/models/gp.py:111: FutureWarning: `noise_prior` is deprecated and will be removed in a future version. Please use `noise_prior_dist` instead, which accepts an instance of a numpyro.distributions Distribution object, e.g., `dist.HalfNormal(scale=0.1)`, rather than a function that calls `numpyro.sample`.\n",
      "  warnings.warn(\n",
      "/lustre/isaac/scratch/upratius/projects/gpax/gpax/models/gp.py:119: UserWarning: `kernel_prior` will remain available for complex priors. However, for modifying only the lengthscales, it is recommended to use `lengthscale_prior_dist` instead. `lengthscale_prior_dist` accepts an instance of a numpyro.distributions Distribution object, e.g., `dist.Gamma(2, 5)`, rather than a function that calls `numpyro.sample`.\n",
      "  warnings.warn(\n",
      "sample: 100%|█| 4000/4000 [00:02<00:00, 1364.35it/s, 7 steps o\n"
     ]
    },
    {
     "name": "stdout",
     "output_type": "stream",
     "text": [
      "\n",
      "                mean       std    median      5.0%     95.0%     n_eff     r_hat\n",
      "  k_length      1.37      0.45      1.44      0.72      2.00   1317.19      1.00\n",
      "   k_scale  78146.24  20451.55  75144.06  48157.69 107827.02   1008.43      1.00\n",
      "     noise      0.01      0.01      0.01      0.00      0.02   1466.19      1.00\n",
      "\n",
      "\n",
      "Step 2/5\n"
     ]
    },
    {
     "name": "stderr",
     "output_type": "stream",
     "text": [
      "/lustre/isaac/scratch/upratius/projects/gpax/gpax/models/gp.py:111: FutureWarning: `noise_prior` is deprecated and will be removed in a future version. Please use `noise_prior_dist` instead, which accepts an instance of a numpyro.distributions Distribution object, e.g., `dist.HalfNormal(scale=0.1)`, rather than a function that calls `numpyro.sample`.\n",
      "  warnings.warn(\n",
      "/lustre/isaac/scratch/upratius/projects/gpax/gpax/models/gp.py:119: UserWarning: `kernel_prior` will remain available for complex priors. However, for modifying only the lengthscales, it is recommended to use `lengthscale_prior_dist` instead. `lengthscale_prior_dist` accepts an instance of a numpyro.distributions Distribution object, e.g., `dist.Gamma(2, 5)`, rather than a function that calls `numpyro.sample`.\n",
      "  warnings.warn(\n",
      "sample: 100%|█| 4000/4000 [00:32<00:00, 121.95it/s, 1023 steps\n"
     ]
    },
    {
     "name": "stdout",
     "output_type": "stream",
     "text": [
      "\n",
      "                mean       std    median      5.0%     95.0%     n_eff     r_hat\n",
      "  k_length      0.70      0.00      0.70      0.70      0.71      2.43      3.41\n",
      "   k_scale    415.63      0.00    415.63    415.63    415.63      0.50      1.00\n",
      "     noise      0.01      0.00      0.01      0.01      0.01      0.50      1.00\n",
      "\n",
      "\n",
      "Step 3/5\n"
     ]
    },
    {
     "name": "stderr",
     "output_type": "stream",
     "text": [
      "/lustre/isaac/scratch/upratius/projects/gpax/gpax/models/gp.py:111: FutureWarning: `noise_prior` is deprecated and will be removed in a future version. Please use `noise_prior_dist` instead, which accepts an instance of a numpyro.distributions Distribution object, e.g., `dist.HalfNormal(scale=0.1)`, rather than a function that calls `numpyro.sample`.\n",
      "  warnings.warn(\n",
      "/lustre/isaac/scratch/upratius/projects/gpax/gpax/models/gp.py:119: UserWarning: `kernel_prior` will remain available for complex priors. However, for modifying only the lengthscales, it is recommended to use `lengthscale_prior_dist` instead. `lengthscale_prior_dist` accepts an instance of a numpyro.distributions Distribution object, e.g., `dist.Gamma(2, 5)`, rather than a function that calls `numpyro.sample`.\n",
      "  warnings.warn(\n",
      "sample: 100%|█| 4000/4000 [00:34<00:00, 117.27it/s, 1023 steps\n"
     ]
    },
    {
     "name": "stdout",
     "output_type": "stream",
     "text": [
      "\n",
      "                mean       std    median      5.0%     95.0%     n_eff     r_hat\n",
      "  k_length      1.12      0.00      1.12      1.12      1.12      3.34      1.87\n",
      "   k_scale  10019.22      0.00  10019.22  10019.22  10019.22      0.50      1.00\n",
      "     noise      0.01      0.00      0.01      0.01      0.01       nan       nan\n",
      "\n",
      "\n",
      "Step 4/5\n"
     ]
    },
    {
     "name": "stderr",
     "output_type": "stream",
     "text": [
      "/lustre/isaac/scratch/upratius/projects/gpax/gpax/models/gp.py:111: FutureWarning: `noise_prior` is deprecated and will be removed in a future version. Please use `noise_prior_dist` instead, which accepts an instance of a numpyro.distributions Distribution object, e.g., `dist.HalfNormal(scale=0.1)`, rather than a function that calls `numpyro.sample`.\n",
      "  warnings.warn(\n",
      "/lustre/isaac/scratch/upratius/projects/gpax/gpax/models/gp.py:119: UserWarning: `kernel_prior` will remain available for complex priors. However, for modifying only the lengthscales, it is recommended to use `lengthscale_prior_dist` instead. `lengthscale_prior_dist` accepts an instance of a numpyro.distributions Distribution object, e.g., `dist.Gamma(2, 5)`, rather than a function that calls `numpyro.sample`.\n",
      "  warnings.warn(\n",
      "sample: 100%|█| 4000/4000 [00:38<00:00, 103.47it/s, 1023 steps\n"
     ]
    },
    {
     "name": "stdout",
     "output_type": "stream",
     "text": [
      "\n",
      "                mean       std    median      5.0%     95.0%     n_eff     r_hat\n",
      "  k_length      0.61      0.00      0.61      0.61      0.61      2.62      2.93\n",
      "   k_scale    145.20      0.00    145.20    145.20    145.20       nan       nan\n",
      "     noise      0.01      0.00      0.01      0.01      0.01      0.50      1.00\n",
      "\n",
      "\n",
      "Step 5/5\n"
     ]
    },
    {
     "name": "stderr",
     "output_type": "stream",
     "text": [
      "/lustre/isaac/scratch/upratius/projects/gpax/gpax/models/gp.py:111: FutureWarning: `noise_prior` is deprecated and will be removed in a future version. Please use `noise_prior_dist` instead, which accepts an instance of a numpyro.distributions Distribution object, e.g., `dist.HalfNormal(scale=0.1)`, rather than a function that calls `numpyro.sample`.\n",
      "  warnings.warn(\n",
      "/lustre/isaac/scratch/upratius/projects/gpax/gpax/models/gp.py:119: UserWarning: `kernel_prior` will remain available for complex priors. However, for modifying only the lengthscales, it is recommended to use `lengthscale_prior_dist` instead. `lengthscale_prior_dist` accepts an instance of a numpyro.distributions Distribution object, e.g., `dist.Gamma(2, 5)`, rather than a function that calls `numpyro.sample`.\n",
      "  warnings.warn(\n",
      "sample: 100%|█| 4000/4000 [00:35<00:00, 112.26it/s, 1023 steps\n"
     ]
    },
    {
     "name": "stdout",
     "output_type": "stream",
     "text": [
      "\n",
      "                mean       std    median      5.0%     95.0%     n_eff     r_hat\n",
      "  k_length      0.71      0.00      0.71      0.71      0.71      2.81      3.08\n",
      "   k_scale     51.69      0.00     51.69     51.69     51.69      0.50      1.00\n",
      "     noise      0.01      0.00      0.01      0.01      0.01      0.50      1.00\n",
      "\n",
      "Seed: 2, n_init: 15, Noise Level: 0\n",
      "\n",
      "Step 1/5\n"
     ]
    },
    {
     "name": "stderr",
     "output_type": "stream",
     "text": [
      "/lustre/isaac/scratch/upratius/projects/gpax/gpax/models/gp.py:111: FutureWarning: `noise_prior` is deprecated and will be removed in a future version. Please use `noise_prior_dist` instead, which accepts an instance of a numpyro.distributions Distribution object, e.g., `dist.HalfNormal(scale=0.1)`, rather than a function that calls `numpyro.sample`.\n",
      "  warnings.warn(\n",
      "/lustre/isaac/scratch/upratius/projects/gpax/gpax/models/gp.py:119: UserWarning: `kernel_prior` will remain available for complex priors. However, for modifying only the lengthscales, it is recommended to use `lengthscale_prior_dist` instead. `lengthscale_prior_dist` accepts an instance of a numpyro.distributions Distribution object, e.g., `dist.Gamma(2, 5)`, rather than a function that calls `numpyro.sample`.\n",
      "  warnings.warn(\n",
      "sample: 100%|█| 4000/4000 [00:03<00:00, 1331.88it/s, 7 steps o\n"
     ]
    },
    {
     "name": "stdout",
     "output_type": "stream",
     "text": [
      "\n",
      "                mean       std    median      5.0%     95.0%     n_eff     r_hat\n",
      "  k_length      1.53      0.37      1.63      1.01      2.00   1339.42      1.00\n",
      "   k_scale  87519.71  20460.04  84588.73  53983.97 117041.66   1122.05      1.00\n",
      "     noise      0.01      0.01      0.01      0.00      0.02   1468.50      1.00\n",
      "\n",
      "\n",
      "Step 2/5\n"
     ]
    },
    {
     "name": "stderr",
     "output_type": "stream",
     "text": [
      "/lustre/isaac/scratch/upratius/projects/gpax/gpax/models/gp.py:111: FutureWarning: `noise_prior` is deprecated and will be removed in a future version. Please use `noise_prior_dist` instead, which accepts an instance of a numpyro.distributions Distribution object, e.g., `dist.HalfNormal(scale=0.1)`, rather than a function that calls `numpyro.sample`.\n",
      "  warnings.warn(\n",
      "/lustre/isaac/scratch/upratius/projects/gpax/gpax/models/gp.py:119: UserWarning: `kernel_prior` will remain available for complex priors. However, for modifying only the lengthscales, it is recommended to use `lengthscale_prior_dist` instead. `lengthscale_prior_dist` accepts an instance of a numpyro.distributions Distribution object, e.g., `dist.Gamma(2, 5)`, rather than a function that calls `numpyro.sample`.\n",
      "  warnings.warn(\n",
      "sample: 100%|█| 4000/4000 [00:46<00:00, 86.38it/s, 1023 steps \n"
     ]
    },
    {
     "name": "stdout",
     "output_type": "stream",
     "text": [
      "\n",
      "                mean       std    median      5.0%     95.0%     n_eff     r_hat\n",
      "  k_length      1.02      0.02      1.01      0.99      1.05      2.51      2.63\n",
      "   k_scale  34436.52    359.54  34392.83  33947.11  35061.64      3.35      2.12\n",
      "     noise      0.01      0.00      0.01      0.01      0.01      5.20      1.84\n",
      "\n",
      "\n",
      "Step 3/5\n"
     ]
    },
    {
     "name": "stderr",
     "output_type": "stream",
     "text": [
      "/lustre/isaac/scratch/upratius/projects/gpax/gpax/models/gp.py:111: FutureWarning: `noise_prior` is deprecated and will be removed in a future version. Please use `noise_prior_dist` instead, which accepts an instance of a numpyro.distributions Distribution object, e.g., `dist.HalfNormal(scale=0.1)`, rather than a function that calls `numpyro.sample`.\n",
      "  warnings.warn(\n",
      "/lustre/isaac/scratch/upratius/projects/gpax/gpax/models/gp.py:119: UserWarning: `kernel_prior` will remain available for complex priors. However, for modifying only the lengthscales, it is recommended to use `lengthscale_prior_dist` instead. `lengthscale_prior_dist` accepts an instance of a numpyro.distributions Distribution object, e.g., `dist.Gamma(2, 5)`, rather than a function that calls `numpyro.sample`.\n",
      "  warnings.warn(\n",
      "sample: 100%|█| 4000/4000 [00:51<00:00, 77.26it/s, 1023 steps \n"
     ]
    },
    {
     "name": "stdout",
     "output_type": "stream",
     "text": [
      "\n",
      "                mean       std    median      5.0%     95.0%     n_eff     r_hat\n",
      "  k_length      0.64      0.00      0.64      0.64      0.64      2.58      3.41\n",
      "   k_scale   3486.92      0.00   3486.92   3486.92   3486.92       nan       nan\n",
      "     noise      0.01      0.00      0.01      0.01      0.01      9.53      1.30\n",
      "\n",
      "\n",
      "Step 4/5\n"
     ]
    },
    {
     "name": "stderr",
     "output_type": "stream",
     "text": [
      "/lustre/isaac/scratch/upratius/projects/gpax/gpax/models/gp.py:111: FutureWarning: `noise_prior` is deprecated and will be removed in a future version. Please use `noise_prior_dist` instead, which accepts an instance of a numpyro.distributions Distribution object, e.g., `dist.HalfNormal(scale=0.1)`, rather than a function that calls `numpyro.sample`.\n",
      "  warnings.warn(\n",
      "/lustre/isaac/scratch/upratius/projects/gpax/gpax/models/gp.py:119: UserWarning: `kernel_prior` will remain available for complex priors. However, for modifying only the lengthscales, it is recommended to use `lengthscale_prior_dist` instead. `lengthscale_prior_dist` accepts an instance of a numpyro.distributions Distribution object, e.g., `dist.Gamma(2, 5)`, rather than a function that calls `numpyro.sample`.\n",
      "  warnings.warn(\n",
      "sample: 100%|█| 4000/4000 [00:44<00:00, 90.43it/s, 154 steps o\n"
     ]
    },
    {
     "name": "stdout",
     "output_type": "stream",
     "text": [
      "\n",
      "                mean       std    median      5.0%     95.0%     n_eff     r_hat\n",
      "  k_length      0.86      0.00      0.86      0.86      0.86      7.68      1.05\n",
      "   k_scale  33469.60      5.34  33469.00  33461.31  33478.26      7.82      1.04\n",
      "     noise      0.01      0.00      0.01      0.01      0.01      0.50      1.00\n",
      "\n",
      "\n",
      "Step 5/5\n"
     ]
    },
    {
     "name": "stderr",
     "output_type": "stream",
     "text": [
      "/lustre/isaac/scratch/upratius/projects/gpax/gpax/models/gp.py:111: FutureWarning: `noise_prior` is deprecated and will be removed in a future version. Please use `noise_prior_dist` instead, which accepts an instance of a numpyro.distributions Distribution object, e.g., `dist.HalfNormal(scale=0.1)`, rather than a function that calls `numpyro.sample`.\n",
      "  warnings.warn(\n",
      "/lustre/isaac/scratch/upratius/projects/gpax/gpax/models/gp.py:119: UserWarning: `kernel_prior` will remain available for complex priors. However, for modifying only the lengthscales, it is recommended to use `lengthscale_prior_dist` instead. `lengthscale_prior_dist` accepts an instance of a numpyro.distributions Distribution object, e.g., `dist.Gamma(2, 5)`, rather than a function that calls `numpyro.sample`.\n",
      "  warnings.warn(\n",
      "sample: 100%|█| 4000/4000 [00:56<00:00, 70.67it/s, 14 steps of\n"
     ]
    },
    {
     "name": "stdout",
     "output_type": "stream",
     "text": [
      "\n",
      "                mean       std    median      5.0%     95.0%     n_eff     r_hat\n",
      "  k_length      0.84      0.00      0.84      0.84      0.84      2.56      2.90\n",
      "   k_scale  32029.86    741.37  32171.88  30797.09  32993.38      5.79      1.54\n",
      "     noise      0.01      0.00      0.01      0.01      0.01      3.43      2.11\n",
      "\n",
      "Seed: 2, n_init: 15, Noise Level: 0.01\n",
      "\n",
      "Step 1/5\n"
     ]
    },
    {
     "name": "stderr",
     "output_type": "stream",
     "text": [
      "/lustre/isaac/scratch/upratius/projects/gpax/gpax/models/gp.py:111: FutureWarning: `noise_prior` is deprecated and will be removed in a future version. Please use `noise_prior_dist` instead, which accepts an instance of a numpyro.distributions Distribution object, e.g., `dist.HalfNormal(scale=0.1)`, rather than a function that calls `numpyro.sample`.\n",
      "  warnings.warn(\n",
      "/lustre/isaac/scratch/upratius/projects/gpax/gpax/models/gp.py:119: UserWarning: `kernel_prior` will remain available for complex priors. However, for modifying only the lengthscales, it is recommended to use `lengthscale_prior_dist` instead. `lengthscale_prior_dist` accepts an instance of a numpyro.distributions Distribution object, e.g., `dist.Gamma(2, 5)`, rather than a function that calls `numpyro.sample`.\n",
      "  warnings.warn(\n",
      "sample: 100%|█| 4000/4000 [00:03<00:00, 1328.13it/s, 7 steps o\n"
     ]
    },
    {
     "name": "stdout",
     "output_type": "stream",
     "text": [
      "\n",
      "                mean       std    median      5.0%     95.0%     n_eff     r_hat\n",
      "  k_length      1.52      0.38      1.62      0.96      2.00   1356.37      1.00\n",
      "   k_scale  86537.73  21212.71  83274.28  55043.46 117774.72   1280.80      1.00\n",
      "     noise      0.01      0.01      0.01      0.00      0.02    998.80      1.00\n",
      "\n",
      "\n",
      "Step 2/5\n"
     ]
    },
    {
     "name": "stderr",
     "output_type": "stream",
     "text": [
      "/lustre/isaac/scratch/upratius/projects/gpax/gpax/models/gp.py:111: FutureWarning: `noise_prior` is deprecated and will be removed in a future version. Please use `noise_prior_dist` instead, which accepts an instance of a numpyro.distributions Distribution object, e.g., `dist.HalfNormal(scale=0.1)`, rather than a function that calls `numpyro.sample`.\n",
      "  warnings.warn(\n",
      "/lustre/isaac/scratch/upratius/projects/gpax/gpax/models/gp.py:119: UserWarning: `kernel_prior` will remain available for complex priors. However, for modifying only the lengthscales, it is recommended to use `lengthscale_prior_dist` instead. `lengthscale_prior_dist` accepts an instance of a numpyro.distributions Distribution object, e.g., `dist.Gamma(2, 5)`, rather than a function that calls `numpyro.sample`.\n",
      "  warnings.warn(\n",
      "sample: 100%|█| 4000/4000 [00:09<00:00, 428.27it/s, 4 steps of\n"
     ]
    },
    {
     "name": "stdout",
     "output_type": "stream",
     "text": [
      "\n",
      "                mean       std    median      5.0%     95.0%     n_eff     r_hat\n",
      "  k_length      1.06      0.00      1.06      1.06      1.06      0.66      1.00\n",
      "   k_scale  40269.16      0.00  40269.16  40269.16  40269.16      0.50      1.00\n",
      "     noise      0.01      0.00      0.01      0.01      0.01      0.50      1.00\n",
      "\n",
      "\n",
      "Step 3/5\n"
     ]
    },
    {
     "name": "stderr",
     "output_type": "stream",
     "text": [
      "/lustre/isaac/scratch/upratius/projects/gpax/gpax/models/gp.py:111: FutureWarning: `noise_prior` is deprecated and will be removed in a future version. Please use `noise_prior_dist` instead, which accepts an instance of a numpyro.distributions Distribution object, e.g., `dist.HalfNormal(scale=0.1)`, rather than a function that calls `numpyro.sample`.\n",
      "  warnings.warn(\n",
      "/lustre/isaac/scratch/upratius/projects/gpax/gpax/models/gp.py:119: UserWarning: `kernel_prior` will remain available for complex priors. However, for modifying only the lengthscales, it is recommended to use `lengthscale_prior_dist` instead. `lengthscale_prior_dist` accepts an instance of a numpyro.distributions Distribution object, e.g., `dist.Gamma(2, 5)`, rather than a function that calls `numpyro.sample`.\n",
      "  warnings.warn(\n",
      "sample: 100%|█| 4000/4000 [00:52<00:00, 76.43it/s, 1023 steps \n"
     ]
    },
    {
     "name": "stdout",
     "output_type": "stream",
     "text": [
      "\n",
      "                mean       std    median      5.0%     95.0%     n_eff     r_hat\n",
      "  k_length      0.79      0.00      0.79      0.79      0.79      2.43      3.51\n",
      "   k_scale   1027.18      0.00   1027.18   1027.18   1027.18      0.50      1.00\n",
      "     noise      0.01      0.00      0.01      0.01      0.01      0.50      1.00\n",
      "\n",
      "\n",
      "Step 4/5\n"
     ]
    },
    {
     "name": "stderr",
     "output_type": "stream",
     "text": [
      "/lustre/isaac/scratch/upratius/projects/gpax/gpax/models/gp.py:111: FutureWarning: `noise_prior` is deprecated and will be removed in a future version. Please use `noise_prior_dist` instead, which accepts an instance of a numpyro.distributions Distribution object, e.g., `dist.HalfNormal(scale=0.1)`, rather than a function that calls `numpyro.sample`.\n",
      "  warnings.warn(\n",
      "/lustre/isaac/scratch/upratius/projects/gpax/gpax/models/gp.py:119: UserWarning: `kernel_prior` will remain available for complex priors. However, for modifying only the lengthscales, it is recommended to use `lengthscale_prior_dist` instead. `lengthscale_prior_dist` accepts an instance of a numpyro.distributions Distribution object, e.g., `dist.Gamma(2, 5)`, rather than a function that calls `numpyro.sample`.\n",
      "  warnings.warn(\n",
      "sample: 100%|█| 4000/4000 [00:51<00:00, 77.78it/s, 1023 steps \n"
     ]
    },
    {
     "name": "stdout",
     "output_type": "stream",
     "text": [
      "\n",
      "                mean       std    median      5.0%     95.0%     n_eff     r_hat\n",
      "  k_length      0.80      0.00      0.80      0.80      0.80      0.50      1.00\n",
      "   k_scale  33483.21      0.00  33483.21  33483.21  33483.21      0.50      1.00\n",
      "     noise      0.01      0.00      0.01      0.01      0.01      0.50      1.00\n",
      "\n",
      "\n",
      "Step 5/5\n"
     ]
    },
    {
     "name": "stderr",
     "output_type": "stream",
     "text": [
      "/lustre/isaac/scratch/upratius/projects/gpax/gpax/models/gp.py:111: FutureWarning: `noise_prior` is deprecated and will be removed in a future version. Please use `noise_prior_dist` instead, which accepts an instance of a numpyro.distributions Distribution object, e.g., `dist.HalfNormal(scale=0.1)`, rather than a function that calls `numpyro.sample`.\n",
      "  warnings.warn(\n",
      "/lustre/isaac/scratch/upratius/projects/gpax/gpax/models/gp.py:119: UserWarning: `kernel_prior` will remain available for complex priors. However, for modifying only the lengthscales, it is recommended to use `lengthscale_prior_dist` instead. `lengthscale_prior_dist` accepts an instance of a numpyro.distributions Distribution object, e.g., `dist.Gamma(2, 5)`, rather than a function that calls `numpyro.sample`.\n",
      "  warnings.warn(\n",
      "sample: 100%|█| 4000/4000 [01:01<00:00, 65.37it/s, 1023 steps \n"
     ]
    },
    {
     "name": "stdout",
     "output_type": "stream",
     "text": [
      "\n",
      "                mean       std    median      5.0%     95.0%     n_eff     r_hat\n",
      "  k_length      0.80      0.00      0.80      0.80      0.80      2.70      2.33\n",
      "   k_scale   1012.96      0.00   1012.96   1012.96   1012.96      0.50      1.00\n",
      "     noise      0.01      0.00      0.01      0.01      0.01       nan       nan\n",
      "\n",
      "Seed: 2, n_init: 15, Noise Level: 0.1\n",
      "\n",
      "Step 1/5\n"
     ]
    },
    {
     "name": "stderr",
     "output_type": "stream",
     "text": [
      "/lustre/isaac/scratch/upratius/projects/gpax/gpax/models/gp.py:111: FutureWarning: `noise_prior` is deprecated and will be removed in a future version. Please use `noise_prior_dist` instead, which accepts an instance of a numpyro.distributions Distribution object, e.g., `dist.HalfNormal(scale=0.1)`, rather than a function that calls `numpyro.sample`.\n",
      "  warnings.warn(\n",
      "/lustre/isaac/scratch/upratius/projects/gpax/gpax/models/gp.py:119: UserWarning: `kernel_prior` will remain available for complex priors. However, for modifying only the lengthscales, it is recommended to use `lengthscale_prior_dist` instead. `lengthscale_prior_dist` accepts an instance of a numpyro.distributions Distribution object, e.g., `dist.Gamma(2, 5)`, rather than a function that calls `numpyro.sample`.\n",
      "  warnings.warn(\n",
      "sample: 100%|█| 4000/4000 [00:03<00:00, 1283.64it/s, 7 steps o\n"
     ]
    },
    {
     "name": "stdout",
     "output_type": "stream",
     "text": [
      "\n",
      "                mean       std    median      5.0%     95.0%     n_eff     r_hat\n",
      "  k_length      1.54      0.39      1.63      0.97      2.00   1412.43      1.00\n",
      "   k_scale  88030.25  20978.13  84436.31  58139.70 121263.59    969.50      1.00\n",
      "     noise      0.01      0.01      0.01      0.00      0.02   1462.23      1.00\n",
      "\n",
      "\n",
      "Step 2/5\n"
     ]
    },
    {
     "name": "stderr",
     "output_type": "stream",
     "text": [
      "/lustre/isaac/scratch/upratius/projects/gpax/gpax/models/gp.py:111: FutureWarning: `noise_prior` is deprecated and will be removed in a future version. Please use `noise_prior_dist` instead, which accepts an instance of a numpyro.distributions Distribution object, e.g., `dist.HalfNormal(scale=0.1)`, rather than a function that calls `numpyro.sample`.\n",
      "  warnings.warn(\n",
      "/lustre/isaac/scratch/upratius/projects/gpax/gpax/models/gp.py:119: UserWarning: `kernel_prior` will remain available for complex priors. However, for modifying only the lengthscales, it is recommended to use `lengthscale_prior_dist` instead. `lengthscale_prior_dist` accepts an instance of a numpyro.distributions Distribution object, e.g., `dist.Gamma(2, 5)`, rather than a function that calls `numpyro.sample`.\n",
      "  warnings.warn(\n",
      "sample: 100%|█| 4000/4000 [00:36<00:00, 110.50it/s, 1023 steps\n"
     ]
    },
    {
     "name": "stdout",
     "output_type": "stream",
     "text": [
      "\n",
      "                mean       std    median      5.0%     95.0%     n_eff     r_hat\n",
      "  k_length      0.85      0.01      0.85      0.84      0.88      2.41      3.31\n",
      "   k_scale  59930.79   3737.75  60122.50  54468.01  65680.98      6.86      1.01\n",
      "     noise      0.01      0.00      0.01      0.01      0.01      2.96      2.56\n",
      "\n",
      "\n",
      "Step 3/5\n"
     ]
    },
    {
     "name": "stderr",
     "output_type": "stream",
     "text": [
      "/lustre/isaac/scratch/upratius/projects/gpax/gpax/models/gp.py:111: FutureWarning: `noise_prior` is deprecated and will be removed in a future version. Please use `noise_prior_dist` instead, which accepts an instance of a numpyro.distributions Distribution object, e.g., `dist.HalfNormal(scale=0.1)`, rather than a function that calls `numpyro.sample`.\n",
      "  warnings.warn(\n",
      "/lustre/isaac/scratch/upratius/projects/gpax/gpax/models/gp.py:119: UserWarning: `kernel_prior` will remain available for complex priors. However, for modifying only the lengthscales, it is recommended to use `lengthscale_prior_dist` instead. `lengthscale_prior_dist` accepts an instance of a numpyro.distributions Distribution object, e.g., `dist.Gamma(2, 5)`, rather than a function that calls `numpyro.sample`.\n",
      "  warnings.warn(\n",
      "sample: 100%|█| 4000/4000 [00:51<00:00, 77.59it/s, 1023 steps \n"
     ]
    },
    {
     "name": "stdout",
     "output_type": "stream",
     "text": [
      "\n",
      "                mean       std    median      5.0%     95.0%     n_eff     r_hat\n",
      "  k_length      0.77      0.00      0.77      0.77      0.77      2.94      2.00\n",
      "   k_scale   1017.46      0.00   1017.46   1017.46   1017.46      0.50      1.00\n",
      "     noise      0.01      0.00      0.01      0.01      0.01      0.50      1.00\n",
      "\n",
      "\n",
      "Step 4/5\n"
     ]
    },
    {
     "name": "stderr",
     "output_type": "stream",
     "text": [
      "/lustre/isaac/scratch/upratius/projects/gpax/gpax/models/gp.py:111: FutureWarning: `noise_prior` is deprecated and will be removed in a future version. Please use `noise_prior_dist` instead, which accepts an instance of a numpyro.distributions Distribution object, e.g., `dist.HalfNormal(scale=0.1)`, rather than a function that calls `numpyro.sample`.\n",
      "  warnings.warn(\n",
      "/lustre/isaac/scratch/upratius/projects/gpax/gpax/models/gp.py:119: UserWarning: `kernel_prior` will remain available for complex priors. However, for modifying only the lengthscales, it is recommended to use `lengthscale_prior_dist` instead. `lengthscale_prior_dist` accepts an instance of a numpyro.distributions Distribution object, e.g., `dist.Gamma(2, 5)`, rather than a function that calls `numpyro.sample`.\n",
      "  warnings.warn(\n",
      "sample: 100%|█| 4000/4000 [00:28<00:00, 142.06it/s, 2 steps of\n"
     ]
    },
    {
     "name": "stdout",
     "output_type": "stream",
     "text": [
      "\n",
      "                mean       std    median      5.0%     95.0%     n_eff     r_hat\n",
      "  k_length      1.48      0.00      1.48      1.48      1.48       nan       nan\n",
      "   k_scale  33536.13      0.00  33536.13  33536.13  33536.13      0.50      1.00\n",
      "     noise      0.01      0.00      0.01      0.01      0.01       nan       nan\n",
      "\n",
      "\n",
      "Step 5/5\n"
     ]
    },
    {
     "name": "stderr",
     "output_type": "stream",
     "text": [
      "/lustre/isaac/scratch/upratius/projects/gpax/gpax/models/gp.py:111: FutureWarning: `noise_prior` is deprecated and will be removed in a future version. Please use `noise_prior_dist` instead, which accepts an instance of a numpyro.distributions Distribution object, e.g., `dist.HalfNormal(scale=0.1)`, rather than a function that calls `numpyro.sample`.\n",
      "  warnings.warn(\n",
      "/lustre/isaac/scratch/upratius/projects/gpax/gpax/models/gp.py:119: UserWarning: `kernel_prior` will remain available for complex priors. However, for modifying only the lengthscales, it is recommended to use `lengthscale_prior_dist` instead. `lengthscale_prior_dist` accepts an instance of a numpyro.distributions Distribution object, e.g., `dist.Gamma(2, 5)`, rather than a function that calls `numpyro.sample`.\n",
      "  warnings.warn(\n",
      "sample: 100%|█| 4000/4000 [00:44<00:00, 89.27it/s, 1023 steps \n"
     ]
    },
    {
     "name": "stdout",
     "output_type": "stream",
     "text": [
      "\n",
      "                mean       std    median      5.0%     95.0%     n_eff     r_hat\n",
      "  k_length      0.98      0.00      0.98      0.97      0.98      2.56      4.84\n",
      "   k_scale  43486.80     31.29  43491.35  43437.86  43529.67      3.94      1.15\n",
      "     noise      0.01      0.00      0.01      0.01      0.01      3.74      1.89\n",
      "\n",
      "Seed: 2, n_init: 15, Noise Level: 0.5\n",
      "\n",
      "Step 1/5\n"
     ]
    },
    {
     "name": "stderr",
     "output_type": "stream",
     "text": [
      "/lustre/isaac/scratch/upratius/projects/gpax/gpax/models/gp.py:111: FutureWarning: `noise_prior` is deprecated and will be removed in a future version. Please use `noise_prior_dist` instead, which accepts an instance of a numpyro.distributions Distribution object, e.g., `dist.HalfNormal(scale=0.1)`, rather than a function that calls `numpyro.sample`.\n",
      "  warnings.warn(\n",
      "/lustre/isaac/scratch/upratius/projects/gpax/gpax/models/gp.py:119: UserWarning: `kernel_prior` will remain available for complex priors. However, for modifying only the lengthscales, it is recommended to use `lengthscale_prior_dist` instead. `lengthscale_prior_dist` accepts an instance of a numpyro.distributions Distribution object, e.g., `dist.Gamma(2, 5)`, rather than a function that calls `numpyro.sample`.\n",
      "  warnings.warn(\n",
      "sample: 100%|█| 4000/4000 [00:03<00:00, 1301.86it/s, 7 steps o\n"
     ]
    },
    {
     "name": "stdout",
     "output_type": "stream",
     "text": [
      "\n",
      "                mean       std    median      5.0%     95.0%     n_eff     r_hat\n",
      "  k_length      1.53      0.38      1.61      0.98      2.00   1580.83      1.00\n",
      "   k_scale  86985.98  21150.47  84024.19  57585.51 119230.65   1301.04      1.00\n",
      "     noise      0.01      0.01      0.01      0.00      0.02   1223.35      1.00\n",
      "\n",
      "\n",
      "Step 2/5\n"
     ]
    },
    {
     "name": "stderr",
     "output_type": "stream",
     "text": [
      "/lustre/isaac/scratch/upratius/projects/gpax/gpax/models/gp.py:111: FutureWarning: `noise_prior` is deprecated and will be removed in a future version. Please use `noise_prior_dist` instead, which accepts an instance of a numpyro.distributions Distribution object, e.g., `dist.HalfNormal(scale=0.1)`, rather than a function that calls `numpyro.sample`.\n",
      "  warnings.warn(\n",
      "/lustre/isaac/scratch/upratius/projects/gpax/gpax/models/gp.py:119: UserWarning: `kernel_prior` will remain available for complex priors. However, for modifying only the lengthscales, it is recommended to use `lengthscale_prior_dist` instead. `lengthscale_prior_dist` accepts an instance of a numpyro.distributions Distribution object, e.g., `dist.Gamma(2, 5)`, rather than a function that calls `numpyro.sample`.\n",
      "  warnings.warn(\n",
      "sample: 100%|█| 4000/4000 [00:46<00:00, 86.77it/s, 1023 steps \n"
     ]
    },
    {
     "name": "stdout",
     "output_type": "stream",
     "text": [
      "\n",
      "                mean       std    median      5.0%     95.0%     n_eff     r_hat\n",
      "  k_length      0.90      0.00      0.90      0.89      0.90      2.43      3.26\n",
      "   k_scale    873.22      0.00    873.22    873.22    873.22      0.50      1.00\n",
      "     noise      0.01      0.00      0.01      0.01      0.01      0.50      1.00\n",
      "\n",
      "\n",
      "Step 3/5\n"
     ]
    },
    {
     "name": "stderr",
     "output_type": "stream",
     "text": [
      "/lustre/isaac/scratch/upratius/projects/gpax/gpax/models/gp.py:111: FutureWarning: `noise_prior` is deprecated and will be removed in a future version. Please use `noise_prior_dist` instead, which accepts an instance of a numpyro.distributions Distribution object, e.g., `dist.HalfNormal(scale=0.1)`, rather than a function that calls `numpyro.sample`.\n",
      "  warnings.warn(\n",
      "/lustre/isaac/scratch/upratius/projects/gpax/gpax/models/gp.py:119: UserWarning: `kernel_prior` will remain available for complex priors. However, for modifying only the lengthscales, it is recommended to use `lengthscale_prior_dist` instead. `lengthscale_prior_dist` accepts an instance of a numpyro.distributions Distribution object, e.g., `dist.Gamma(2, 5)`, rather than a function that calls `numpyro.sample`.\n",
      "  warnings.warn(\n",
      "sample: 100%|█| 4000/4000 [00:52<00:00, 75.72it/s, 1023 steps \n"
     ]
    },
    {
     "name": "stdout",
     "output_type": "stream",
     "text": [
      "\n",
      "                mean       std    median      5.0%     95.0%     n_eff     r_hat\n",
      "  k_length      0.71      0.00      0.71      0.71      0.71      3.35      2.19\n",
      "   k_scale    216.43      0.00    216.43    216.43    216.43      0.50      1.00\n",
      "     noise      0.01      0.00      0.01      0.01      0.01       nan       nan\n",
      "\n",
      "\n",
      "Step 4/5\n"
     ]
    },
    {
     "name": "stderr",
     "output_type": "stream",
     "text": [
      "/lustre/isaac/scratch/upratius/projects/gpax/gpax/models/gp.py:111: FutureWarning: `noise_prior` is deprecated and will be removed in a future version. Please use `noise_prior_dist` instead, which accepts an instance of a numpyro.distributions Distribution object, e.g., `dist.HalfNormal(scale=0.1)`, rather than a function that calls `numpyro.sample`.\n",
      "  warnings.warn(\n",
      "/lustre/isaac/scratch/upratius/projects/gpax/gpax/models/gp.py:119: UserWarning: `kernel_prior` will remain available for complex priors. However, for modifying only the lengthscales, it is recommended to use `lengthscale_prior_dist` instead. `lengthscale_prior_dist` accepts an instance of a numpyro.distributions Distribution object, e.g., `dist.Gamma(2, 5)`, rather than a function that calls `numpyro.sample`.\n",
      "  warnings.warn(\n",
      "sample: 100%|█| 4000/4000 [00:51<00:00, 77.57it/s, 1023 steps \n"
     ]
    },
    {
     "name": "stdout",
     "output_type": "stream",
     "text": [
      "\n",
      "                mean       std    median      5.0%     95.0%     n_eff     r_hat\n",
      "  k_length      1.06      0.00      1.06      1.06      1.07      2.39      3.61\n",
      "   k_scale   3997.68    294.03   4012.69   3541.05   4426.89      2.49      2.78\n",
      "     noise      0.01      0.00      0.01      0.01      0.01      3.52      2.05\n",
      "\n",
      "\n",
      "Step 5/5\n"
     ]
    },
    {
     "name": "stderr",
     "output_type": "stream",
     "text": [
      "/lustre/isaac/scratch/upratius/projects/gpax/gpax/models/gp.py:111: FutureWarning: `noise_prior` is deprecated and will be removed in a future version. Please use `noise_prior_dist` instead, which accepts an instance of a numpyro.distributions Distribution object, e.g., `dist.HalfNormal(scale=0.1)`, rather than a function that calls `numpyro.sample`.\n",
      "  warnings.warn(\n",
      "/lustre/isaac/scratch/upratius/projects/gpax/gpax/models/gp.py:119: UserWarning: `kernel_prior` will remain available for complex priors. However, for modifying only the lengthscales, it is recommended to use `lengthscale_prior_dist` instead. `lengthscale_prior_dist` accepts an instance of a numpyro.distributions Distribution object, e.g., `dist.Gamma(2, 5)`, rather than a function that calls `numpyro.sample`.\n",
      "  warnings.warn(\n",
      "sample: 100%|█| 4000/4000 [01:01<00:00, 64.66it/s, 1023 steps \n"
     ]
    },
    {
     "name": "stdout",
     "output_type": "stream",
     "text": [
      "\n",
      "                mean       std    median      5.0%     95.0%     n_eff     r_hat\n",
      "  k_length      0.73      0.00      0.73      0.73      0.73      4.38      1.59\n",
      "   k_scale     66.19      0.00     66.19     66.19     66.19       nan       nan\n",
      "     noise      0.01      0.00      0.01      0.01      0.01      0.50      1.00\n",
      "\n",
      "Seed: 2, n_init: 20, Noise Level: 0\n",
      "\n",
      "Step 1/5\n"
     ]
    },
    {
     "name": "stderr",
     "output_type": "stream",
     "text": [
      "/lustre/isaac/scratch/upratius/projects/gpax/gpax/models/gp.py:111: FutureWarning: `noise_prior` is deprecated and will be removed in a future version. Please use `noise_prior_dist` instead, which accepts an instance of a numpyro.distributions Distribution object, e.g., `dist.HalfNormal(scale=0.1)`, rather than a function that calls `numpyro.sample`.\n",
      "  warnings.warn(\n",
      "/lustre/isaac/scratch/upratius/projects/gpax/gpax/models/gp.py:119: UserWarning: `kernel_prior` will remain available for complex priors. However, for modifying only the lengthscales, it is recommended to use `lengthscale_prior_dist` instead. `lengthscale_prior_dist` accepts an instance of a numpyro.distributions Distribution object, e.g., `dist.Gamma(2, 5)`, rather than a function that calls `numpyro.sample`.\n",
      "  warnings.warn(\n",
      "sample: 100%|█| 4000/4000 [00:03<00:00, 1269.91it/s, 7 steps o\n"
     ]
    },
    {
     "name": "stdout",
     "output_type": "stream",
     "text": [
      "\n",
      "                mean       std    median      5.0%     95.0%     n_eff     r_hat\n",
      "  k_length      1.49      0.42      1.59      0.88      2.00   1200.97      1.00\n",
      "   k_scale 118164.95  26672.58 114027.52  78118.53 157083.81   1027.62      1.00\n",
      "     noise      0.01      0.01      0.01      0.00      0.02   1473.49      1.00\n",
      "\n",
      "\n",
      "Step 2/5\n"
     ]
    },
    {
     "name": "stderr",
     "output_type": "stream",
     "text": [
      "/lustre/isaac/scratch/upratius/projects/gpax/gpax/models/gp.py:111: FutureWarning: `noise_prior` is deprecated and will be removed in a future version. Please use `noise_prior_dist` instead, which accepts an instance of a numpyro.distributions Distribution object, e.g., `dist.HalfNormal(scale=0.1)`, rather than a function that calls `numpyro.sample`.\n",
      "  warnings.warn(\n",
      "/lustre/isaac/scratch/upratius/projects/gpax/gpax/models/gp.py:119: UserWarning: `kernel_prior` will remain available for complex priors. However, for modifying only the lengthscales, it is recommended to use `lengthscale_prior_dist` instead. `lengthscale_prior_dist` accepts an instance of a numpyro.distributions Distribution object, e.g., `dist.Gamma(2, 5)`, rather than a function that calls `numpyro.sample`.\n",
      "  warnings.warn(\n",
      "sample: 100%|█| 4000/4000 [00:14<00:00, 278.66it/s, 445 steps \n"
     ]
    },
    {
     "name": "stdout",
     "output_type": "stream",
     "text": [
      "\n",
      "                mean       std    median      5.0%     95.0%     n_eff     r_hat\n",
      "  k_length      1.36      0.00      1.36      1.36      1.36      6.42      1.09\n",
      "   k_scale  38612.71     10.01  38610.38  38600.81  38630.97      4.92      1.52\n",
      "     noise      0.01      0.00      0.01      0.01      0.01     12.88      1.18\n",
      "\n",
      "\n",
      "Step 3/5\n"
     ]
    },
    {
     "name": "stderr",
     "output_type": "stream",
     "text": [
      "/lustre/isaac/scratch/upratius/projects/gpax/gpax/models/gp.py:111: FutureWarning: `noise_prior` is deprecated and will be removed in a future version. Please use `noise_prior_dist` instead, which accepts an instance of a numpyro.distributions Distribution object, e.g., `dist.HalfNormal(scale=0.1)`, rather than a function that calls `numpyro.sample`.\n",
      "  warnings.warn(\n",
      "/lustre/isaac/scratch/upratius/projects/gpax/gpax/models/gp.py:119: UserWarning: `kernel_prior` will remain available for complex priors. However, for modifying only the lengthscales, it is recommended to use `lengthscale_prior_dist` instead. `lengthscale_prior_dist` accepts an instance of a numpyro.distributions Distribution object, e.g., `dist.Gamma(2, 5)`, rather than a function that calls `numpyro.sample`.\n",
      "  warnings.warn(\n",
      "sample: 100%|█| 4000/4000 [01:01<00:00, 64.79it/s, 1023 steps \n"
     ]
    },
    {
     "name": "stdout",
     "output_type": "stream",
     "text": [
      "\n",
      "                mean       std    median      5.0%     95.0%     n_eff     r_hat\n",
      "  k_length      0.78      0.00      0.78      0.78      0.78      2.66      2.62\n",
      "   k_scale   2825.90      0.00   2825.90   2825.90   2825.90      0.50      1.00\n",
      "     noise      0.01      0.00      0.01      0.01      0.01       nan       nan\n",
      "\n",
      "\n",
      "Step 4/5\n"
     ]
    },
    {
     "name": "stderr",
     "output_type": "stream",
     "text": [
      "/lustre/isaac/scratch/upratius/projects/gpax/gpax/models/gp.py:111: FutureWarning: `noise_prior` is deprecated and will be removed in a future version. Please use `noise_prior_dist` instead, which accepts an instance of a numpyro.distributions Distribution object, e.g., `dist.HalfNormal(scale=0.1)`, rather than a function that calls `numpyro.sample`.\n",
      "  warnings.warn(\n",
      "/lustre/isaac/scratch/upratius/projects/gpax/gpax/models/gp.py:119: UserWarning: `kernel_prior` will remain available for complex priors. However, for modifying only the lengthscales, it is recommended to use `lengthscale_prior_dist` instead. `lengthscale_prior_dist` accepts an instance of a numpyro.distributions Distribution object, e.g., `dist.Gamma(2, 5)`, rather than a function that calls `numpyro.sample`.\n",
      "  warnings.warn(\n",
      "sample: 100%|█| 4000/4000 [00:52<00:00, 76.91it/s, 4 steps of \n"
     ]
    },
    {
     "name": "stdout",
     "output_type": "stream",
     "text": [
      "\n",
      "                mean       std    median      5.0%     95.0%     n_eff     r_hat\n",
      "  k_length      0.80      0.00      0.80      0.80      0.80      4.62      1.27\n",
      "   k_scale  36894.27   2131.50  37918.45  33092.84  38763.09      3.80      1.48\n",
      "     noise      0.01      0.00      0.01      0.01      0.01      3.11      1.83\n",
      "\n",
      "\n",
      "Step 5/5\n"
     ]
    },
    {
     "name": "stderr",
     "output_type": "stream",
     "text": [
      "/lustre/isaac/scratch/upratius/projects/gpax/gpax/models/gp.py:111: FutureWarning: `noise_prior` is deprecated and will be removed in a future version. Please use `noise_prior_dist` instead, which accepts an instance of a numpyro.distributions Distribution object, e.g., `dist.HalfNormal(scale=0.1)`, rather than a function that calls `numpyro.sample`.\n",
      "  warnings.warn(\n",
      "/lustre/isaac/scratch/upratius/projects/gpax/gpax/models/gp.py:119: UserWarning: `kernel_prior` will remain available for complex priors. However, for modifying only the lengthscales, it is recommended to use `lengthscale_prior_dist` instead. `lengthscale_prior_dist` accepts an instance of a numpyro.distributions Distribution object, e.g., `dist.Gamma(2, 5)`, rather than a function that calls `numpyro.sample`.\n",
      "  warnings.warn(\n",
      "sample: 100%|█| 4000/4000 [01:18<00:00, 51.17it/s, 1023 steps \n"
     ]
    },
    {
     "name": "stdout",
     "output_type": "stream",
     "text": [
      "\n",
      "                mean       std    median      5.0%     95.0%     n_eff     r_hat\n",
      "  k_length      0.75      0.00      0.75      0.75      0.75      2.68      2.43\n",
      "   k_scale   1570.49      0.00   1570.49   1570.49   1570.49      0.50      1.00\n",
      "     noise      0.01      0.00      0.01      0.01      0.01      0.50      1.00\n",
      "\n",
      "Seed: 2, n_init: 20, Noise Level: 0.01\n",
      "\n",
      "Step 1/5\n"
     ]
    },
    {
     "name": "stderr",
     "output_type": "stream",
     "text": [
      "/lustre/isaac/scratch/upratius/projects/gpax/gpax/models/gp.py:111: FutureWarning: `noise_prior` is deprecated and will be removed in a future version. Please use `noise_prior_dist` instead, which accepts an instance of a numpyro.distributions Distribution object, e.g., `dist.HalfNormal(scale=0.1)`, rather than a function that calls `numpyro.sample`.\n",
      "  warnings.warn(\n",
      "/lustre/isaac/scratch/upratius/projects/gpax/gpax/models/gp.py:119: UserWarning: `kernel_prior` will remain available for complex priors. However, for modifying only the lengthscales, it is recommended to use `lengthscale_prior_dist` instead. `lengthscale_prior_dist` accepts an instance of a numpyro.distributions Distribution object, e.g., `dist.Gamma(2, 5)`, rather than a function that calls `numpyro.sample`.\n",
      "  warnings.warn(\n",
      "sample: 100%|█| 4000/4000 [00:03<00:00, 1271.76it/s, 7 steps o\n"
     ]
    },
    {
     "name": "stdout",
     "output_type": "stream",
     "text": [
      "\n",
      "                mean       std    median      5.0%     95.0%     n_eff     r_hat\n",
      "  k_length      1.50      0.40      1.60      0.87      2.00   1672.10      1.00\n",
      "   k_scale 116911.77  25761.19 113579.77  74720.73 153895.17   1332.34      1.00\n",
      "     noise      0.01      0.01      0.01      0.00      0.02   1418.84      1.00\n",
      "\n",
      "\n",
      "Step 2/5\n"
     ]
    },
    {
     "name": "stderr",
     "output_type": "stream",
     "text": [
      "/lustre/isaac/scratch/upratius/projects/gpax/gpax/models/gp.py:111: FutureWarning: `noise_prior` is deprecated and will be removed in a future version. Please use `noise_prior_dist` instead, which accepts an instance of a numpyro.distributions Distribution object, e.g., `dist.HalfNormal(scale=0.1)`, rather than a function that calls `numpyro.sample`.\n",
      "  warnings.warn(\n",
      "/lustre/isaac/scratch/upratius/projects/gpax/gpax/models/gp.py:119: UserWarning: `kernel_prior` will remain available for complex priors. However, for modifying only the lengthscales, it is recommended to use `lengthscale_prior_dist` instead. `lengthscale_prior_dist` accepts an instance of a numpyro.distributions Distribution object, e.g., `dist.Gamma(2, 5)`, rather than a function that calls `numpyro.sample`.\n",
      "  warnings.warn(\n",
      "sample: 100%|█| 4000/4000 [00:26<00:00, 149.17it/s, 49 steps o\n"
     ]
    },
    {
     "name": "stdout",
     "output_type": "stream",
     "text": [
      "\n",
      "                mean       std    median      5.0%     95.0%     n_eff     r_hat\n",
      "  k_length      0.73      0.00      0.73      0.73      0.73      5.04      1.08\n",
      "   k_scale  45344.56   2409.35  46301.34  41283.48  48429.14      3.15      1.70\n",
      "     noise      0.01      0.00      0.01      0.01      0.01      6.74      1.43\n",
      "\n",
      "\n",
      "Step 3/5\n"
     ]
    },
    {
     "name": "stderr",
     "output_type": "stream",
     "text": [
      "/lustre/isaac/scratch/upratius/projects/gpax/gpax/models/gp.py:111: FutureWarning: `noise_prior` is deprecated and will be removed in a future version. Please use `noise_prior_dist` instead, which accepts an instance of a numpyro.distributions Distribution object, e.g., `dist.HalfNormal(scale=0.1)`, rather than a function that calls `numpyro.sample`.\n",
      "  warnings.warn(\n",
      "/lustre/isaac/scratch/upratius/projects/gpax/gpax/models/gp.py:119: UserWarning: `kernel_prior` will remain available for complex priors. However, for modifying only the lengthscales, it is recommended to use `lengthscale_prior_dist` instead. `lengthscale_prior_dist` accepts an instance of a numpyro.distributions Distribution object, e.g., `dist.Gamma(2, 5)`, rather than a function that calls `numpyro.sample`.\n",
      "  warnings.warn(\n",
      "sample: 100%|█| 4000/4000 [01:03<00:00, 63.17it/s, 1023 steps \n"
     ]
    },
    {
     "name": "stdout",
     "output_type": "stream",
     "text": [
      "\n",
      "                mean       std    median      5.0%     95.0%     n_eff     r_hat\n",
      "  k_length      0.74      0.00      0.74      0.74      0.74      2.43      3.77\n",
      "   k_scale   1386.61      0.00   1386.61   1386.61   1386.61       nan       nan\n",
      "     noise      0.01      0.00      0.01      0.01      0.01      0.50      1.00\n",
      "\n",
      "\n",
      "Step 4/5\n"
     ]
    },
    {
     "name": "stderr",
     "output_type": "stream",
     "text": [
      "/lustre/isaac/scratch/upratius/projects/gpax/gpax/models/gp.py:111: FutureWarning: `noise_prior` is deprecated and will be removed in a future version. Please use `noise_prior_dist` instead, which accepts an instance of a numpyro.distributions Distribution object, e.g., `dist.HalfNormal(scale=0.1)`, rather than a function that calls `numpyro.sample`.\n",
      "  warnings.warn(\n",
      "/lustre/isaac/scratch/upratius/projects/gpax/gpax/models/gp.py:119: UserWarning: `kernel_prior` will remain available for complex priors. However, for modifying only the lengthscales, it is recommended to use `lengthscale_prior_dist` instead. `lengthscale_prior_dist` accepts an instance of a numpyro.distributions Distribution object, e.g., `dist.Gamma(2, 5)`, rather than a function that calls `numpyro.sample`.\n",
      "  warnings.warn(\n",
      "sample: 100%|█| 4000/4000 [01:11<00:00, 55.99it/s, 1023 steps \n"
     ]
    },
    {
     "name": "stdout",
     "output_type": "stream",
     "text": [
      "\n",
      "                mean       std    median      5.0%     95.0%     n_eff     r_hat\n",
      "  k_length      0.88      0.00      0.88      0.88      0.88      2.57      2.90\n",
      "   k_scale   1705.12      0.00   1705.12   1705.12   1705.12      0.50      1.00\n",
      "     noise      0.01      0.00      0.01      0.01      0.01      0.50      1.00\n",
      "\n",
      "\n",
      "Step 5/5\n"
     ]
    },
    {
     "name": "stderr",
     "output_type": "stream",
     "text": [
      "/lustre/isaac/scratch/upratius/projects/gpax/gpax/models/gp.py:111: FutureWarning: `noise_prior` is deprecated and will be removed in a future version. Please use `noise_prior_dist` instead, which accepts an instance of a numpyro.distributions Distribution object, e.g., `dist.HalfNormal(scale=0.1)`, rather than a function that calls `numpyro.sample`.\n",
      "  warnings.warn(\n",
      "/lustre/isaac/scratch/upratius/projects/gpax/gpax/models/gp.py:119: UserWarning: `kernel_prior` will remain available for complex priors. However, for modifying only the lengthscales, it is recommended to use `lengthscale_prior_dist` instead. `lengthscale_prior_dist` accepts an instance of a numpyro.distributions Distribution object, e.g., `dist.Gamma(2, 5)`, rather than a function that calls `numpyro.sample`.\n",
      "  warnings.warn(\n",
      "sample: 100%|█| 4000/4000 [01:19<00:00, 50.52it/s, 1023 steps \n"
     ]
    },
    {
     "name": "stdout",
     "output_type": "stream",
     "text": [
      "\n",
      "                mean       std    median      5.0%     95.0%     n_eff     r_hat\n",
      "  k_length      0.72      0.00      0.72      0.72      0.72      2.43      3.49\n",
      "   k_scale   1499.16      0.00   1499.16   1499.16   1499.16      0.50      1.00\n",
      "     noise      0.01      0.00      0.01      0.01      0.01      0.50      1.00\n",
      "\n",
      "Seed: 2, n_init: 20, Noise Level: 0.1\n",
      "\n",
      "Step 1/5\n"
     ]
    },
    {
     "name": "stderr",
     "output_type": "stream",
     "text": [
      "/lustre/isaac/scratch/upratius/projects/gpax/gpax/models/gp.py:111: FutureWarning: `noise_prior` is deprecated and will be removed in a future version. Please use `noise_prior_dist` instead, which accepts an instance of a numpyro.distributions Distribution object, e.g., `dist.HalfNormal(scale=0.1)`, rather than a function that calls `numpyro.sample`.\n",
      "  warnings.warn(\n",
      "/lustre/isaac/scratch/upratius/projects/gpax/gpax/models/gp.py:119: UserWarning: `kernel_prior` will remain available for complex priors. However, for modifying only the lengthscales, it is recommended to use `lengthscale_prior_dist` instead. `lengthscale_prior_dist` accepts an instance of a numpyro.distributions Distribution object, e.g., `dist.Gamma(2, 5)`, rather than a function that calls `numpyro.sample`.\n",
      "  warnings.warn(\n",
      "sample: 100%|█| 4000/4000 [00:03<00:00, 1253.16it/s, 7 steps o\n"
     ]
    },
    {
     "name": "stdout",
     "output_type": "stream",
     "text": [
      "\n",
      "                mean       std    median      5.0%     95.0%     n_eff     r_hat\n",
      "  k_length      1.48      0.41      1.57      0.85      2.00   1376.79      1.00\n",
      "   k_scale 118090.76  25711.47 115393.38  78558.57 155900.17   1266.75      1.00\n",
      "     noise      0.01      0.01      0.01      0.00      0.02   1253.46      1.00\n",
      "\n",
      "\n",
      "Step 2/5\n"
     ]
    },
    {
     "name": "stderr",
     "output_type": "stream",
     "text": [
      "/lustre/isaac/scratch/upratius/projects/gpax/gpax/models/gp.py:111: FutureWarning: `noise_prior` is deprecated and will be removed in a future version. Please use `noise_prior_dist` instead, which accepts an instance of a numpyro.distributions Distribution object, e.g., `dist.HalfNormal(scale=0.1)`, rather than a function that calls `numpyro.sample`.\n",
      "  warnings.warn(\n",
      "/lustre/isaac/scratch/upratius/projects/gpax/gpax/models/gp.py:119: UserWarning: `kernel_prior` will remain available for complex priors. However, for modifying only the lengthscales, it is recommended to use `lengthscale_prior_dist` instead. `lengthscale_prior_dist` accepts an instance of a numpyro.distributions Distribution object, e.g., `dist.Gamma(2, 5)`, rather than a function that calls `numpyro.sample`.\n",
      "  warnings.warn(\n",
      "sample: 100%|█| 4000/4000 [01:13<00:00, 54.08it/s, 1023 steps \n"
     ]
    },
    {
     "name": "stdout",
     "output_type": "stream",
     "text": [
      "\n",
      "                mean       std    median      5.0%     95.0%     n_eff     r_hat\n",
      "  k_length      0.77      0.00      0.77      0.77      0.77      2.37      3.57\n",
      "   k_scale   1044.28      0.00   1044.28   1044.28   1044.28      0.50      1.00\n",
      "     noise      0.01      0.00      0.01      0.01      0.01       nan       nan\n",
      "\n",
      "\n",
      "Step 3/5\n"
     ]
    },
    {
     "name": "stderr",
     "output_type": "stream",
     "text": [
      "/lustre/isaac/scratch/upratius/projects/gpax/gpax/models/gp.py:111: FutureWarning: `noise_prior` is deprecated and will be removed in a future version. Please use `noise_prior_dist` instead, which accepts an instance of a numpyro.distributions Distribution object, e.g., `dist.HalfNormal(scale=0.1)`, rather than a function that calls `numpyro.sample`.\n",
      "  warnings.warn(\n",
      "/lustre/isaac/scratch/upratius/projects/gpax/gpax/models/gp.py:119: UserWarning: `kernel_prior` will remain available for complex priors. However, for modifying only the lengthscales, it is recommended to use `lengthscale_prior_dist` instead. `lengthscale_prior_dist` accepts an instance of a numpyro.distributions Distribution object, e.g., `dist.Gamma(2, 5)`, rather than a function that calls `numpyro.sample`.\n",
      "  warnings.warn(\n",
      "sample: 100%|█| 4000/4000 [01:02<00:00, 64.25it/s, 1023 steps \n"
     ]
    },
    {
     "name": "stdout",
     "output_type": "stream",
     "text": [
      "\n",
      "                mean       std    median      5.0%     95.0%     n_eff     r_hat\n",
      "  k_length      0.74      0.00      0.74      0.74      0.74      2.53      3.15\n",
      "   k_scale   1796.61      0.00   1796.61   1796.61   1796.61       nan       nan\n",
      "     noise      0.01      0.00      0.01      0.01      0.01      0.50      1.00\n",
      "\n",
      "\n",
      "Step 4/5\n"
     ]
    },
    {
     "name": "stderr",
     "output_type": "stream",
     "text": [
      "/lustre/isaac/scratch/upratius/projects/gpax/gpax/models/gp.py:111: FutureWarning: `noise_prior` is deprecated and will be removed in a future version. Please use `noise_prior_dist` instead, which accepts an instance of a numpyro.distributions Distribution object, e.g., `dist.HalfNormal(scale=0.1)`, rather than a function that calls `numpyro.sample`.\n",
      "  warnings.warn(\n",
      "/lustre/isaac/scratch/upratius/projects/gpax/gpax/models/gp.py:119: UserWarning: `kernel_prior` will remain available for complex priors. However, for modifying only the lengthscales, it is recommended to use `lengthscale_prior_dist` instead. `lengthscale_prior_dist` accepts an instance of a numpyro.distributions Distribution object, e.g., `dist.Gamma(2, 5)`, rather than a function that calls `numpyro.sample`.\n",
      "  warnings.warn(\n",
      "sample: 100%|█| 4000/4000 [01:11<00:00, 55.60it/s, 1023 steps \n"
     ]
    },
    {
     "name": "stdout",
     "output_type": "stream",
     "text": [
      "\n",
      "                mean       std    median      5.0%     95.0%     n_eff     r_hat\n",
      "  k_length      0.75      0.00      0.75      0.75      0.76      2.44      3.08\n",
      "   k_scale   1853.54      0.00   1853.54   1853.54   1853.54      0.50      1.00\n",
      "     noise      0.01      0.00      0.01      0.01      0.01      0.50      1.00\n",
      "\n",
      "\n",
      "Step 5/5\n"
     ]
    },
    {
     "name": "stderr",
     "output_type": "stream",
     "text": [
      "/lustre/isaac/scratch/upratius/projects/gpax/gpax/models/gp.py:111: FutureWarning: `noise_prior` is deprecated and will be removed in a future version. Please use `noise_prior_dist` instead, which accepts an instance of a numpyro.distributions Distribution object, e.g., `dist.HalfNormal(scale=0.1)`, rather than a function that calls `numpyro.sample`.\n",
      "  warnings.warn(\n",
      "/lustre/isaac/scratch/upratius/projects/gpax/gpax/models/gp.py:119: UserWarning: `kernel_prior` will remain available for complex priors. However, for modifying only the lengthscales, it is recommended to use `lengthscale_prior_dist` instead. `lengthscale_prior_dist` accepts an instance of a numpyro.distributions Distribution object, e.g., `dist.Gamma(2, 5)`, rather than a function that calls `numpyro.sample`.\n",
      "  warnings.warn(\n",
      "sample: 100%|█| 4000/4000 [01:18<00:00, 51.10it/s, 1023 steps \n"
     ]
    },
    {
     "name": "stdout",
     "output_type": "stream",
     "text": [
      "\n",
      "                mean       std    median      5.0%     95.0%     n_eff     r_hat\n",
      "  k_length      0.74      0.00      0.74      0.74      0.74      2.51      2.85\n",
      "   k_scale   1225.29      0.00   1225.29   1225.29   1225.29      0.50      1.00\n",
      "     noise      0.01      0.00      0.01      0.01      0.01      0.50      1.00\n",
      "\n",
      "Seed: 2, n_init: 20, Noise Level: 0.5\n",
      "\n",
      "Step 1/5\n"
     ]
    },
    {
     "name": "stderr",
     "output_type": "stream",
     "text": [
      "/lustre/isaac/scratch/upratius/projects/gpax/gpax/models/gp.py:111: FutureWarning: `noise_prior` is deprecated and will be removed in a future version. Please use `noise_prior_dist` instead, which accepts an instance of a numpyro.distributions Distribution object, e.g., `dist.HalfNormal(scale=0.1)`, rather than a function that calls `numpyro.sample`.\n",
      "  warnings.warn(\n",
      "/lustre/isaac/scratch/upratius/projects/gpax/gpax/models/gp.py:119: UserWarning: `kernel_prior` will remain available for complex priors. However, for modifying only the lengthscales, it is recommended to use `lengthscale_prior_dist` instead. `lengthscale_prior_dist` accepts an instance of a numpyro.distributions Distribution object, e.g., `dist.Gamma(2, 5)`, rather than a function that calls `numpyro.sample`.\n",
      "  warnings.warn(\n",
      "sample: 100%|█| 4000/4000 [00:03<00:00, 1259.29it/s, 7 steps o\n"
     ]
    },
    {
     "name": "stdout",
     "output_type": "stream",
     "text": [
      "\n",
      "                mean       std    median      5.0%     95.0%     n_eff     r_hat\n",
      "  k_length      1.50      0.40      1.60      0.91      2.00   1529.65      1.00\n",
      "   k_scale 116887.55  26172.67 113047.02  75429.32 156277.38   1215.53      1.00\n",
      "     noise      0.01      0.01      0.01      0.00      0.02   1075.58      1.00\n",
      "\n",
      "\n",
      "Step 2/5\n"
     ]
    },
    {
     "name": "stderr",
     "output_type": "stream",
     "text": [
      "/lustre/isaac/scratch/upratius/projects/gpax/gpax/models/gp.py:111: FutureWarning: `noise_prior` is deprecated and will be removed in a future version. Please use `noise_prior_dist` instead, which accepts an instance of a numpyro.distributions Distribution object, e.g., `dist.HalfNormal(scale=0.1)`, rather than a function that calls `numpyro.sample`.\n",
      "  warnings.warn(\n",
      "/lustre/isaac/scratch/upratius/projects/gpax/gpax/models/gp.py:119: UserWarning: `kernel_prior` will remain available for complex priors. However, for modifying only the lengthscales, it is recommended to use `lengthscale_prior_dist` instead. `lengthscale_prior_dist` accepts an instance of a numpyro.distributions Distribution object, e.g., `dist.Gamma(2, 5)`, rather than a function that calls `numpyro.sample`.\n",
      "  warnings.warn(\n",
      "sample: 100%|█| 4000/4000 [01:11<00:00, 56.16it/s, 1023 steps \n"
     ]
    },
    {
     "name": "stdout",
     "output_type": "stream",
     "text": [
      "\n",
      "                mean       std    median      5.0%     95.0%     n_eff     r_hat\n",
      "  k_length      0.69      0.02      0.69      0.67      0.71      2.41      3.26\n",
      "   k_scale  24016.94    296.13  24034.71  23626.46  24425.04      2.56      3.50\n",
      "     noise      0.01      0.00      0.01      0.01      0.01      3.47      1.85\n",
      "\n",
      "\n",
      "Step 3/5\n"
     ]
    },
    {
     "name": "stderr",
     "output_type": "stream",
     "text": [
      "/lustre/isaac/scratch/upratius/projects/gpax/gpax/models/gp.py:111: FutureWarning: `noise_prior` is deprecated and will be removed in a future version. Please use `noise_prior_dist` instead, which accepts an instance of a numpyro.distributions Distribution object, e.g., `dist.HalfNormal(scale=0.1)`, rather than a function that calls `numpyro.sample`.\n",
      "  warnings.warn(\n",
      "/lustre/isaac/scratch/upratius/projects/gpax/gpax/models/gp.py:119: UserWarning: `kernel_prior` will remain available for complex priors. However, for modifying only the lengthscales, it is recommended to use `lengthscale_prior_dist` instead. `lengthscale_prior_dist` accepts an instance of a numpyro.distributions Distribution object, e.g., `dist.Gamma(2, 5)`, rather than a function that calls `numpyro.sample`.\n",
      "  warnings.warn(\n",
      "sample: 100%|█| 4000/4000 [01:04<00:00, 62.37it/s, 1023 steps \n"
     ]
    },
    {
     "name": "stdout",
     "output_type": "stream",
     "text": [
      "\n",
      "                mean       std    median      5.0%     95.0%     n_eff     r_hat\n",
      "  k_length      0.69      0.00      0.69      0.69      0.69      2.62      2.93\n",
      "   k_scale   1000.69      0.00   1000.69   1000.69   1000.69      0.50      1.00\n",
      "     noise      0.01      0.00      0.01      0.01      0.01      0.50      1.00\n",
      "\n",
      "\n",
      "Step 4/5\n"
     ]
    },
    {
     "name": "stderr",
     "output_type": "stream",
     "text": [
      "/lustre/isaac/scratch/upratius/projects/gpax/gpax/models/gp.py:111: FutureWarning: `noise_prior` is deprecated and will be removed in a future version. Please use `noise_prior_dist` instead, which accepts an instance of a numpyro.distributions Distribution object, e.g., `dist.HalfNormal(scale=0.1)`, rather than a function that calls `numpyro.sample`.\n",
      "  warnings.warn(\n",
      "/lustre/isaac/scratch/upratius/projects/gpax/gpax/models/gp.py:119: UserWarning: `kernel_prior` will remain available for complex priors. However, for modifying only the lengthscales, it is recommended to use `lengthscale_prior_dist` instead. `lengthscale_prior_dist` accepts an instance of a numpyro.distributions Distribution object, e.g., `dist.Gamma(2, 5)`, rather than a function that calls `numpyro.sample`.\n",
      "  warnings.warn(\n",
      "sample: 100%|█| 4000/4000 [01:11<00:00, 55.71it/s, 1023 steps \n"
     ]
    },
    {
     "name": "stdout",
     "output_type": "stream",
     "text": [
      "\n",
      "                mean       std    median      5.0%     95.0%     n_eff     r_hat\n",
      "  k_length      0.93      0.00      0.93      0.93      0.94      2.71      2.50\n",
      "   k_scale    239.18      0.00    239.18    239.18    239.18       nan       nan\n",
      "     noise      0.01      0.00      0.01      0.01      0.01      0.50      1.00\n",
      "\n",
      "\n",
      "Step 5/5\n"
     ]
    },
    {
     "name": "stderr",
     "output_type": "stream",
     "text": [
      "/lustre/isaac/scratch/upratius/projects/gpax/gpax/models/gp.py:111: FutureWarning: `noise_prior` is deprecated and will be removed in a future version. Please use `noise_prior_dist` instead, which accepts an instance of a numpyro.distributions Distribution object, e.g., `dist.HalfNormal(scale=0.1)`, rather than a function that calls `numpyro.sample`.\n",
      "  warnings.warn(\n",
      "/lustre/isaac/scratch/upratius/projects/gpax/gpax/models/gp.py:119: UserWarning: `kernel_prior` will remain available for complex priors. However, for modifying only the lengthscales, it is recommended to use `lengthscale_prior_dist` instead. `lengthscale_prior_dist` accepts an instance of a numpyro.distributions Distribution object, e.g., `dist.Gamma(2, 5)`, rather than a function that calls `numpyro.sample`.\n",
      "  warnings.warn(\n",
      "sample: 100%|█| 4000/4000 [01:17<00:00, 51.35it/s, 1023 steps \n"
     ]
    },
    {
     "name": "stdout",
     "output_type": "stream",
     "text": [
      "\n",
      "                mean       std    median      5.0%     95.0%     n_eff     r_hat\n",
      "  k_length      0.69      0.00      0.69      0.69      0.69      2.78      2.91\n",
      "   k_scale   1985.26      0.00   1985.26   1985.26   1985.26      0.50      1.00\n",
      "     noise      0.01      0.00      0.01      0.01      0.01      0.50      1.00\n",
      "\n",
      "Seed: 3, n_init: 10, Noise Level: 0\n",
      "\n",
      "Step 1/5\n"
     ]
    },
    {
     "name": "stderr",
     "output_type": "stream",
     "text": [
      "/lustre/isaac/scratch/upratius/projects/gpax/gpax/models/gp.py:111: FutureWarning: `noise_prior` is deprecated and will be removed in a future version. Please use `noise_prior_dist` instead, which accepts an instance of a numpyro.distributions Distribution object, e.g., `dist.HalfNormal(scale=0.1)`, rather than a function that calls `numpyro.sample`.\n",
      "  warnings.warn(\n",
      "/lustre/isaac/scratch/upratius/projects/gpax/gpax/models/gp.py:119: UserWarning: `kernel_prior` will remain available for complex priors. However, for modifying only the lengthscales, it is recommended to use `lengthscale_prior_dist` instead. `lengthscale_prior_dist` accepts an instance of a numpyro.distributions Distribution object, e.g., `dist.Gamma(2, 5)`, rather than a function that calls `numpyro.sample`.\n",
      "  warnings.warn(\n",
      "sample: 100%|█| 4000/4000 [00:02<00:00, 1364.40it/s, 7 steps o\n"
     ]
    },
    {
     "name": "stdout",
     "output_type": "stream",
     "text": [
      "\n",
      "                mean       std    median      5.0%     95.0%     n_eff     r_hat\n",
      "  k_length      1.09      0.51      1.12      0.33      1.93   1670.82      1.00\n",
      "   k_scale  72827.19  18358.48  70312.22  45540.64 100423.82    978.72      1.00\n",
      "     noise      0.01      0.01      0.01      0.00      0.02   1387.74      1.01\n",
      "\n",
      "\n",
      "Step 2/5\n"
     ]
    },
    {
     "name": "stderr",
     "output_type": "stream",
     "text": [
      "/lustre/isaac/scratch/upratius/projects/gpax/gpax/models/gp.py:111: FutureWarning: `noise_prior` is deprecated and will be removed in a future version. Please use `noise_prior_dist` instead, which accepts an instance of a numpyro.distributions Distribution object, e.g., `dist.HalfNormal(scale=0.1)`, rather than a function that calls `numpyro.sample`.\n",
      "  warnings.warn(\n",
      "/lustre/isaac/scratch/upratius/projects/gpax/gpax/models/gp.py:119: UserWarning: `kernel_prior` will remain available for complex priors. However, for modifying only the lengthscales, it is recommended to use `lengthscale_prior_dist` instead. `lengthscale_prior_dist` accepts an instance of a numpyro.distributions Distribution object, e.g., `dist.Gamma(2, 5)`, rather than a function that calls `numpyro.sample`.\n",
      "  warnings.warn(\n",
      "sample: 100%|█| 4000/4000 [00:31<00:00, 125.78it/s, 1023 steps\n"
     ]
    },
    {
     "name": "stdout",
     "output_type": "stream",
     "text": [
      "\n",
      "                mean       std    median      5.0%     95.0%     n_eff     r_hat\n",
      "  k_length      0.66      0.00      0.66      0.66      0.66      2.56      2.91\n",
      "   k_scale   1285.04      0.00   1285.04   1285.04   1285.04       nan       nan\n",
      "     noise      0.01      0.00      0.01      0.01      0.01      0.50      1.00\n",
      "\n",
      "\n",
      "Step 3/5\n"
     ]
    },
    {
     "name": "stderr",
     "output_type": "stream",
     "text": [
      "/lustre/isaac/scratch/upratius/projects/gpax/gpax/models/gp.py:111: FutureWarning: `noise_prior` is deprecated and will be removed in a future version. Please use `noise_prior_dist` instead, which accepts an instance of a numpyro.distributions Distribution object, e.g., `dist.HalfNormal(scale=0.1)`, rather than a function that calls `numpyro.sample`.\n",
      "  warnings.warn(\n",
      "/lustre/isaac/scratch/upratius/projects/gpax/gpax/models/gp.py:119: UserWarning: `kernel_prior` will remain available for complex priors. However, for modifying only the lengthscales, it is recommended to use `lengthscale_prior_dist` instead. `lengthscale_prior_dist` accepts an instance of a numpyro.distributions Distribution object, e.g., `dist.Gamma(2, 5)`, rather than a function that calls `numpyro.sample`.\n",
      "  warnings.warn(\n",
      "sample: 100%|█| 4000/4000 [00:30<00:00, 133.06it/s, 511 steps \n"
     ]
    },
    {
     "name": "stdout",
     "output_type": "stream",
     "text": [
      "\n",
      "                mean       std    median      5.0%     95.0%     n_eff     r_hat\n",
      "  k_length      0.82      0.01      0.82      0.81      0.84      2.63      2.63\n",
      "   k_scale  29644.94   5260.62  31315.31  22760.34  36941.11      3.04      2.09\n",
      "     noise      0.01      0.00      0.01      0.01      0.01      3.26      1.73\n",
      "\n",
      "\n",
      "Step 4/5\n"
     ]
    },
    {
     "name": "stderr",
     "output_type": "stream",
     "text": [
      "/lustre/isaac/scratch/upratius/projects/gpax/gpax/models/gp.py:111: FutureWarning: `noise_prior` is deprecated and will be removed in a future version. Please use `noise_prior_dist` instead, which accepts an instance of a numpyro.distributions Distribution object, e.g., `dist.HalfNormal(scale=0.1)`, rather than a function that calls `numpyro.sample`.\n",
      "  warnings.warn(\n",
      "/lustre/isaac/scratch/upratius/projects/gpax/gpax/models/gp.py:119: UserWarning: `kernel_prior` will remain available for complex priors. However, for modifying only the lengthscales, it is recommended to use `lengthscale_prior_dist` instead. `lengthscale_prior_dist` accepts an instance of a numpyro.distributions Distribution object, e.g., `dist.Gamma(2, 5)`, rather than a function that calls `numpyro.sample`.\n",
      "  warnings.warn(\n",
      "sample: 100%|█| 4000/4000 [00:38<00:00, 102.98it/s, 1023 steps\n"
     ]
    },
    {
     "name": "stdout",
     "output_type": "stream",
     "text": [
      "\n",
      "                mean       std    median      5.0%     95.0%     n_eff     r_hat\n",
      "  k_length      0.68      0.00      0.68      0.68      0.68      2.43      3.25\n",
      "   k_scale    697.36      0.00    697.36    697.36    697.36      0.50      1.00\n",
      "     noise      0.01      0.00      0.01      0.01      0.01      0.50      1.00\n",
      "\n",
      "\n",
      "Step 5/5\n"
     ]
    },
    {
     "name": "stderr",
     "output_type": "stream",
     "text": [
      "/lustre/isaac/scratch/upratius/projects/gpax/gpax/models/gp.py:111: FutureWarning: `noise_prior` is deprecated and will be removed in a future version. Please use `noise_prior_dist` instead, which accepts an instance of a numpyro.distributions Distribution object, e.g., `dist.HalfNormal(scale=0.1)`, rather than a function that calls `numpyro.sample`.\n",
      "  warnings.warn(\n",
      "/lustre/isaac/scratch/upratius/projects/gpax/gpax/models/gp.py:119: UserWarning: `kernel_prior` will remain available for complex priors. However, for modifying only the lengthscales, it is recommended to use `lengthscale_prior_dist` instead. `lengthscale_prior_dist` accepts an instance of a numpyro.distributions Distribution object, e.g., `dist.Gamma(2, 5)`, rather than a function that calls `numpyro.sample`.\n",
      "  warnings.warn(\n",
      "sample: 100%|█| 4000/4000 [00:35<00:00, 111.64it/s, 1023 steps\n"
     ]
    },
    {
     "name": "stdout",
     "output_type": "stream",
     "text": [
      "\n",
      "                mean       std    median      5.0%     95.0%     n_eff     r_hat\n",
      "  k_length      0.67      0.00      0.67      0.67      0.67      2.58      3.11\n",
      "   k_scale    680.96      0.00    680.96    680.96    680.96       nan       nan\n",
      "     noise      0.01      0.00      0.01      0.01      0.01      0.50      1.00\n",
      "\n",
      "Seed: 3, n_init: 10, Noise Level: 0.01\n",
      "\n",
      "Step 1/5\n"
     ]
    },
    {
     "name": "stderr",
     "output_type": "stream",
     "text": [
      "/lustre/isaac/scratch/upratius/projects/gpax/gpax/models/gp.py:111: FutureWarning: `noise_prior` is deprecated and will be removed in a future version. Please use `noise_prior_dist` instead, which accepts an instance of a numpyro.distributions Distribution object, e.g., `dist.HalfNormal(scale=0.1)`, rather than a function that calls `numpyro.sample`.\n",
      "  warnings.warn(\n",
      "/lustre/isaac/scratch/upratius/projects/gpax/gpax/models/gp.py:119: UserWarning: `kernel_prior` will remain available for complex priors. However, for modifying only the lengthscales, it is recommended to use `lengthscale_prior_dist` instead. `lengthscale_prior_dist` accepts an instance of a numpyro.distributions Distribution object, e.g., `dist.Gamma(2, 5)`, rather than a function that calls `numpyro.sample`.\n",
      "  warnings.warn(\n",
      "sample: 100%|█| 4000/4000 [00:02<00:00, 1382.69it/s, 7 steps o\n"
     ]
    },
    {
     "name": "stdout",
     "output_type": "stream",
     "text": [
      "\n",
      "                mean       std    median      5.0%     95.0%     n_eff     r_hat\n",
      "  k_length      1.08      0.52      1.10      0.29      1.92   1407.85      1.00\n",
      "   k_scale  72597.62  17751.08  69995.16  44860.73  99821.12   1096.96      1.00\n",
      "     noise      0.01      0.01      0.01      0.00      0.02   1354.13      1.00\n",
      "\n",
      "\n",
      "Step 2/5\n"
     ]
    },
    {
     "name": "stderr",
     "output_type": "stream",
     "text": [
      "/lustre/isaac/scratch/upratius/projects/gpax/gpax/models/gp.py:111: FutureWarning: `noise_prior` is deprecated and will be removed in a future version. Please use `noise_prior_dist` instead, which accepts an instance of a numpyro.distributions Distribution object, e.g., `dist.HalfNormal(scale=0.1)`, rather than a function that calls `numpyro.sample`.\n",
      "  warnings.warn(\n",
      "/lustre/isaac/scratch/upratius/projects/gpax/gpax/models/gp.py:119: UserWarning: `kernel_prior` will remain available for complex priors. However, for modifying only the lengthscales, it is recommended to use `lengthscale_prior_dist` instead. `lengthscale_prior_dist` accepts an instance of a numpyro.distributions Distribution object, e.g., `dist.Gamma(2, 5)`, rather than a function that calls `numpyro.sample`.\n",
      "  warnings.warn(\n",
      "sample: 100%|█| 4000/4000 [00:31<00:00, 125.61it/s, 1023 steps\n"
     ]
    },
    {
     "name": "stdout",
     "output_type": "stream",
     "text": [
      "\n",
      "                mean       std    median      5.0%     95.0%     n_eff     r_hat\n",
      "  k_length      0.69      0.00      0.68      0.68      0.69      2.50      3.50\n",
      "   k_scale   2849.67      2.81   2850.45   2844.25   2852.92      4.00      1.54\n",
      "     noise      0.01      0.00      0.01      0.01      0.01      3.62      1.67\n",
      "\n",
      "\n",
      "Step 3/5\n"
     ]
    },
    {
     "name": "stderr",
     "output_type": "stream",
     "text": [
      "/lustre/isaac/scratch/upratius/projects/gpax/gpax/models/gp.py:111: FutureWarning: `noise_prior` is deprecated and will be removed in a future version. Please use `noise_prior_dist` instead, which accepts an instance of a numpyro.distributions Distribution object, e.g., `dist.HalfNormal(scale=0.1)`, rather than a function that calls `numpyro.sample`.\n",
      "  warnings.warn(\n",
      "/lustre/isaac/scratch/upratius/projects/gpax/gpax/models/gp.py:119: UserWarning: `kernel_prior` will remain available for complex priors. However, for modifying only the lengthscales, it is recommended to use `lengthscale_prior_dist` instead. `lengthscale_prior_dist` accepts an instance of a numpyro.distributions Distribution object, e.g., `dist.Gamma(2, 5)`, rather than a function that calls `numpyro.sample`.\n",
      "  warnings.warn(\n",
      "sample: 100%|█| 4000/4000 [00:33<00:00, 119.68it/s, 1023 steps\n"
     ]
    },
    {
     "name": "stdout",
     "output_type": "stream",
     "text": [
      "\n",
      "                mean       std    median      5.0%     95.0%     n_eff     r_hat\n",
      "  k_length      0.76      0.01      0.76      0.75      0.78      3.01      1.96\n",
      "   k_scale  17294.53    181.36  17285.67  17008.40  17589.36     15.01      1.00\n",
      "     noise      0.01      0.00      0.01      0.01      0.01      2.62      2.75\n",
      "\n",
      "\n",
      "Step 4/5\n"
     ]
    },
    {
     "name": "stderr",
     "output_type": "stream",
     "text": [
      "/lustre/isaac/scratch/upratius/projects/gpax/gpax/models/gp.py:111: FutureWarning: `noise_prior` is deprecated and will be removed in a future version. Please use `noise_prior_dist` instead, which accepts an instance of a numpyro.distributions Distribution object, e.g., `dist.HalfNormal(scale=0.1)`, rather than a function that calls `numpyro.sample`.\n",
      "  warnings.warn(\n",
      "/lustre/isaac/scratch/upratius/projects/gpax/gpax/models/gp.py:119: UserWarning: `kernel_prior` will remain available for complex priors. However, for modifying only the lengthscales, it is recommended to use `lengthscale_prior_dist` instead. `lengthscale_prior_dist` accepts an instance of a numpyro.distributions Distribution object, e.g., `dist.Gamma(2, 5)`, rather than a function that calls `numpyro.sample`.\n",
      "  warnings.warn(\n",
      "sample: 100%|█| 4000/4000 [00:37<00:00, 105.46it/s, 1023 steps\n"
     ]
    },
    {
     "name": "stdout",
     "output_type": "stream",
     "text": [
      "\n",
      "                mean       std    median      5.0%     95.0%     n_eff     r_hat\n",
      "  k_length      0.70      0.00      0.71      0.70      0.71      2.74      2.41\n",
      "   k_scale  21914.92   4980.35  22556.78  13193.37  28289.91      2.54      2.85\n",
      "     noise      0.01      0.00      0.01      0.01      0.01      3.70      1.79\n",
      "\n",
      "\n",
      "Step 5/5\n"
     ]
    },
    {
     "name": "stderr",
     "output_type": "stream",
     "text": [
      "/lustre/isaac/scratch/upratius/projects/gpax/gpax/models/gp.py:111: FutureWarning: `noise_prior` is deprecated and will be removed in a future version. Please use `noise_prior_dist` instead, which accepts an instance of a numpyro.distributions Distribution object, e.g., `dist.HalfNormal(scale=0.1)`, rather than a function that calls `numpyro.sample`.\n",
      "  warnings.warn(\n",
      "/lustre/isaac/scratch/upratius/projects/gpax/gpax/models/gp.py:119: UserWarning: `kernel_prior` will remain available for complex priors. However, for modifying only the lengthscales, it is recommended to use `lengthscale_prior_dist` instead. `lengthscale_prior_dist` accepts an instance of a numpyro.distributions Distribution object, e.g., `dist.Gamma(2, 5)`, rather than a function that calls `numpyro.sample`.\n",
      "  warnings.warn(\n",
      "sample: 100%|█| 4000/4000 [00:36<00:00, 110.02it/s, 1023 steps\n"
     ]
    },
    {
     "name": "stdout",
     "output_type": "stream",
     "text": [
      "\n",
      "                mean       std    median      5.0%     95.0%     n_eff     r_hat\n",
      "  k_length      0.66      0.00      0.66      0.66      0.66      2.94      2.45\n",
      "   k_scale    782.16      0.00    782.16    782.16    782.16      0.50      1.00\n",
      "     noise      0.01      0.00      0.01      0.01      0.01      0.50      1.00\n",
      "\n",
      "Seed: 3, n_init: 10, Noise Level: 0.1\n",
      "\n",
      "Step 1/5\n"
     ]
    },
    {
     "name": "stderr",
     "output_type": "stream",
     "text": [
      "/lustre/isaac/scratch/upratius/projects/gpax/gpax/models/gp.py:111: FutureWarning: `noise_prior` is deprecated and will be removed in a future version. Please use `noise_prior_dist` instead, which accepts an instance of a numpyro.distributions Distribution object, e.g., `dist.HalfNormal(scale=0.1)`, rather than a function that calls `numpyro.sample`.\n",
      "  warnings.warn(\n",
      "/lustre/isaac/scratch/upratius/projects/gpax/gpax/models/gp.py:119: UserWarning: `kernel_prior` will remain available for complex priors. However, for modifying only the lengthscales, it is recommended to use `lengthscale_prior_dist` instead. `lengthscale_prior_dist` accepts an instance of a numpyro.distributions Distribution object, e.g., `dist.Gamma(2, 5)`, rather than a function that calls `numpyro.sample`.\n",
      "  warnings.warn(\n",
      "sample: 100%|█| 4000/4000 [00:02<00:00, 1414.25it/s, 7 steps o\n"
     ]
    },
    {
     "name": "stdout",
     "output_type": "stream",
     "text": [
      "\n",
      "                mean       std    median      5.0%     95.0%     n_eff     r_hat\n",
      "  k_length      1.09      0.54      1.09      0.34      1.99   1345.22      1.00\n",
      "   k_scale  73442.73  18546.60  70887.00  44081.99 100563.94   1125.69      1.00\n",
      "     noise      0.01      0.01      0.01      0.00      0.02   1401.42      1.00\n",
      "\n",
      "\n",
      "Step 2/5\n"
     ]
    },
    {
     "name": "stderr",
     "output_type": "stream",
     "text": [
      "/lustre/isaac/scratch/upratius/projects/gpax/gpax/models/gp.py:111: FutureWarning: `noise_prior` is deprecated and will be removed in a future version. Please use `noise_prior_dist` instead, which accepts an instance of a numpyro.distributions Distribution object, e.g., `dist.HalfNormal(scale=0.1)`, rather than a function that calls `numpyro.sample`.\n",
      "  warnings.warn(\n",
      "/lustre/isaac/scratch/upratius/projects/gpax/gpax/models/gp.py:119: UserWarning: `kernel_prior` will remain available for complex priors. However, for modifying only the lengthscales, it is recommended to use `lengthscale_prior_dist` instead. `lengthscale_prior_dist` accepts an instance of a numpyro.distributions Distribution object, e.g., `dist.Gamma(2, 5)`, rather than a function that calls `numpyro.sample`.\n",
      "  warnings.warn(\n",
      "sample: 100%|█| 4000/4000 [00:31<00:00, 127.01it/s, 1023 steps\n"
     ]
    },
    {
     "name": "stdout",
     "output_type": "stream",
     "text": [
      "\n",
      "                mean       std    median      5.0%     95.0%     n_eff     r_hat\n",
      "  k_length      0.72      0.04      0.72      0.67      0.78      2.58      2.54\n",
      "   k_scale  20545.85    303.07  20494.04  20097.95  21003.21      7.80      1.56\n",
      "     noise      0.01      0.00      0.01      0.01      0.01      8.85      1.19\n",
      "\n",
      "\n",
      "Step 3/5\n"
     ]
    },
    {
     "name": "stderr",
     "output_type": "stream",
     "text": [
      "/lustre/isaac/scratch/upratius/projects/gpax/gpax/models/gp.py:111: FutureWarning: `noise_prior` is deprecated and will be removed in a future version. Please use `noise_prior_dist` instead, which accepts an instance of a numpyro.distributions Distribution object, e.g., `dist.HalfNormal(scale=0.1)`, rather than a function that calls `numpyro.sample`.\n",
      "  warnings.warn(\n",
      "/lustre/isaac/scratch/upratius/projects/gpax/gpax/models/gp.py:119: UserWarning: `kernel_prior` will remain available for complex priors. However, for modifying only the lengthscales, it is recommended to use `lengthscale_prior_dist` instead. `lengthscale_prior_dist` accepts an instance of a numpyro.distributions Distribution object, e.g., `dist.Gamma(2, 5)`, rather than a function that calls `numpyro.sample`.\n",
      "  warnings.warn(\n",
      "sample: 100%|█| 4000/4000 [00:33<00:00, 120.69it/s, 32 steps o\n"
     ]
    },
    {
     "name": "stdout",
     "output_type": "stream",
     "text": [
      "\n",
      "                mean       std    median      5.0%     95.0%     n_eff     r_hat\n",
      "  k_length      1.22      0.00      1.22      1.22      1.23      3.40      1.95\n",
      "   k_scale  46053.85   4719.94  46442.46  38450.46  52729.11      3.84      2.02\n",
      "     noise      0.01      0.00      0.01      0.01      0.01      4.81      1.69\n",
      "\n",
      "\n",
      "Step 4/5\n"
     ]
    },
    {
     "name": "stderr",
     "output_type": "stream",
     "text": [
      "/lustre/isaac/scratch/upratius/projects/gpax/gpax/models/gp.py:111: FutureWarning: `noise_prior` is deprecated and will be removed in a future version. Please use `noise_prior_dist` instead, which accepts an instance of a numpyro.distributions Distribution object, e.g., `dist.HalfNormal(scale=0.1)`, rather than a function that calls `numpyro.sample`.\n",
      "  warnings.warn(\n",
      "/lustre/isaac/scratch/upratius/projects/gpax/gpax/models/gp.py:119: UserWarning: `kernel_prior` will remain available for complex priors. However, for modifying only the lengthscales, it is recommended to use `lengthscale_prior_dist` instead. `lengthscale_prior_dist` accepts an instance of a numpyro.distributions Distribution object, e.g., `dist.Gamma(2, 5)`, rather than a function that calls `numpyro.sample`.\n",
      "  warnings.warn(\n",
      "sample: 100%|█| 4000/4000 [00:37<00:00, 107.03it/s, 1023 steps\n"
     ]
    },
    {
     "name": "stdout",
     "output_type": "stream",
     "text": [
      "\n",
      "                mean       std    median      5.0%     95.0%     n_eff     r_hat\n",
      "  k_length      0.66      0.00      0.66      0.66      0.66      3.10      2.49\n",
      "   k_scale   2318.61      0.00   2318.61   2318.61   2318.61      0.50      1.00\n",
      "     noise      0.01      0.00      0.01      0.01      0.01      0.50      1.00\n",
      "\n",
      "\n",
      "Step 5/5\n"
     ]
    },
    {
     "name": "stderr",
     "output_type": "stream",
     "text": [
      "/lustre/isaac/scratch/upratius/projects/gpax/gpax/models/gp.py:111: FutureWarning: `noise_prior` is deprecated and will be removed in a future version. Please use `noise_prior_dist` instead, which accepts an instance of a numpyro.distributions Distribution object, e.g., `dist.HalfNormal(scale=0.1)`, rather than a function that calls `numpyro.sample`.\n",
      "  warnings.warn(\n",
      "/lustre/isaac/scratch/upratius/projects/gpax/gpax/models/gp.py:119: UserWarning: `kernel_prior` will remain available for complex priors. However, for modifying only the lengthscales, it is recommended to use `lengthscale_prior_dist` instead. `lengthscale_prior_dist` accepts an instance of a numpyro.distributions Distribution object, e.g., `dist.Gamma(2, 5)`, rather than a function that calls `numpyro.sample`.\n",
      "  warnings.warn(\n",
      "sample: 100%|█| 4000/4000 [00:35<00:00, 113.72it/s, 1023 steps\n"
     ]
    },
    {
     "name": "stdout",
     "output_type": "stream",
     "text": [
      "\n",
      "                mean       std    median      5.0%     95.0%     n_eff     r_hat\n",
      "  k_length      0.61      0.00      0.61      0.61      0.61      2.88      2.52\n",
      "   k_scale    392.86      0.00    392.86    392.86    392.86      0.50      1.00\n",
      "     noise      0.01      0.00      0.01      0.01      0.01      0.50      1.00\n",
      "\n",
      "Seed: 3, n_init: 10, Noise Level: 0.5\n",
      "\n",
      "Step 1/5\n"
     ]
    },
    {
     "name": "stderr",
     "output_type": "stream",
     "text": [
      "/lustre/isaac/scratch/upratius/projects/gpax/gpax/models/gp.py:111: FutureWarning: `noise_prior` is deprecated and will be removed in a future version. Please use `noise_prior_dist` instead, which accepts an instance of a numpyro.distributions Distribution object, e.g., `dist.HalfNormal(scale=0.1)`, rather than a function that calls `numpyro.sample`.\n",
      "  warnings.warn(\n",
      "/lustre/isaac/scratch/upratius/projects/gpax/gpax/models/gp.py:119: UserWarning: `kernel_prior` will remain available for complex priors. However, for modifying only the lengthscales, it is recommended to use `lengthscale_prior_dist` instead. `lengthscale_prior_dist` accepts an instance of a numpyro.distributions Distribution object, e.g., `dist.Gamma(2, 5)`, rather than a function that calls `numpyro.sample`.\n",
      "  warnings.warn(\n",
      "sample: 100%|█| 4000/4000 [00:02<00:00, 1367.00it/s, 7 steps o\n"
     ]
    },
    {
     "name": "stdout",
     "output_type": "stream",
     "text": [
      "\n",
      "                mean       std    median      5.0%     95.0%     n_eff     r_hat\n",
      "  k_length      1.11      0.53      1.15      0.36      1.99   1465.46      1.00\n",
      "   k_scale  72984.98  18601.47  69862.14  45510.64 101631.62   1006.12      1.00\n",
      "     noise      0.01      0.01      0.01      0.00      0.02   1488.59      1.00\n",
      "\n",
      "\n",
      "Step 2/5\n"
     ]
    },
    {
     "name": "stderr",
     "output_type": "stream",
     "text": [
      "/lustre/isaac/scratch/upratius/projects/gpax/gpax/models/gp.py:111: FutureWarning: `noise_prior` is deprecated and will be removed in a future version. Please use `noise_prior_dist` instead, which accepts an instance of a numpyro.distributions Distribution object, e.g., `dist.HalfNormal(scale=0.1)`, rather than a function that calls `numpyro.sample`.\n",
      "  warnings.warn(\n",
      "/lustre/isaac/scratch/upratius/projects/gpax/gpax/models/gp.py:119: UserWarning: `kernel_prior` will remain available for complex priors. However, for modifying only the lengthscales, it is recommended to use `lengthscale_prior_dist` instead. `lengthscale_prior_dist` accepts an instance of a numpyro.distributions Distribution object, e.g., `dist.Gamma(2, 5)`, rather than a function that calls `numpyro.sample`.\n",
      "  warnings.warn(\n",
      "sample: 100%|█| 4000/4000 [00:32<00:00, 124.92it/s, 1023 steps\n"
     ]
    },
    {
     "name": "stdout",
     "output_type": "stream",
     "text": [
      "\n",
      "                mean       std    median      5.0%     95.0%     n_eff     r_hat\n",
      "  k_length      0.70      0.00      0.70      0.70      0.70      2.39      4.23\n",
      "   k_scale   7140.82      0.00   7140.82   7140.82   7140.82      0.50      1.00\n",
      "     noise      0.01      0.00      0.01      0.01      0.01      0.50      1.00\n",
      "\n",
      "\n",
      "Step 3/5\n"
     ]
    },
    {
     "name": "stderr",
     "output_type": "stream",
     "text": [
      "/lustre/isaac/scratch/upratius/projects/gpax/gpax/models/gp.py:111: FutureWarning: `noise_prior` is deprecated and will be removed in a future version. Please use `noise_prior_dist` instead, which accepts an instance of a numpyro.distributions Distribution object, e.g., `dist.HalfNormal(scale=0.1)`, rather than a function that calls `numpyro.sample`.\n",
      "  warnings.warn(\n",
      "/lustre/isaac/scratch/upratius/projects/gpax/gpax/models/gp.py:119: UserWarning: `kernel_prior` will remain available for complex priors. However, for modifying only the lengthscales, it is recommended to use `lengthscale_prior_dist` instead. `lengthscale_prior_dist` accepts an instance of a numpyro.distributions Distribution object, e.g., `dist.Gamma(2, 5)`, rather than a function that calls `numpyro.sample`.\n",
      "  warnings.warn(\n",
      "sample: 100%|█| 4000/4000 [00:35<00:00, 113.60it/s, 1023 steps\n"
     ]
    },
    {
     "name": "stdout",
     "output_type": "stream",
     "text": [
      "\n",
      "                mean       std    median      5.0%     95.0%     n_eff     r_hat\n",
      "  k_length      0.64      0.00      0.64      0.64      0.64      3.38      2.02\n",
      "   k_scale    181.07      0.00    181.07    181.07    181.07      0.50      1.00\n",
      "     noise      0.01      0.00      0.01      0.01      0.01      0.50      1.00\n",
      "\n",
      "\n",
      "Step 4/5\n"
     ]
    },
    {
     "name": "stderr",
     "output_type": "stream",
     "text": [
      "/lustre/isaac/scratch/upratius/projects/gpax/gpax/models/gp.py:111: FutureWarning: `noise_prior` is deprecated and will be removed in a future version. Please use `noise_prior_dist` instead, which accepts an instance of a numpyro.distributions Distribution object, e.g., `dist.HalfNormal(scale=0.1)`, rather than a function that calls `numpyro.sample`.\n",
      "  warnings.warn(\n",
      "/lustre/isaac/scratch/upratius/projects/gpax/gpax/models/gp.py:119: UserWarning: `kernel_prior` will remain available for complex priors. However, for modifying only the lengthscales, it is recommended to use `lengthscale_prior_dist` instead. `lengthscale_prior_dist` accepts an instance of a numpyro.distributions Distribution object, e.g., `dist.Gamma(2, 5)`, rather than a function that calls `numpyro.sample`.\n",
      "  warnings.warn(\n",
      "sample: 100%|█| 4000/4000 [00:37<00:00, 105.85it/s, 1023 steps\n"
     ]
    },
    {
     "name": "stdout",
     "output_type": "stream",
     "text": [
      "\n",
      "                mean       std    median      5.0%     95.0%     n_eff     r_hat\n",
      "  k_length      0.65      0.00      0.65      0.65      0.65      0.50      1.00\n",
      "   k_scale    625.13      0.00    625.13    625.13    625.13      0.50      1.00\n",
      "     noise      0.01      0.00      0.01      0.01      0.01      0.50      1.00\n",
      "\n",
      "\n",
      "Step 5/5\n"
     ]
    },
    {
     "name": "stderr",
     "output_type": "stream",
     "text": [
      "/lustre/isaac/scratch/upratius/projects/gpax/gpax/models/gp.py:111: FutureWarning: `noise_prior` is deprecated and will be removed in a future version. Please use `noise_prior_dist` instead, which accepts an instance of a numpyro.distributions Distribution object, e.g., `dist.HalfNormal(scale=0.1)`, rather than a function that calls `numpyro.sample`.\n",
      "  warnings.warn(\n",
      "/lustre/isaac/scratch/upratius/projects/gpax/gpax/models/gp.py:119: UserWarning: `kernel_prior` will remain available for complex priors. However, for modifying only the lengthscales, it is recommended to use `lengthscale_prior_dist` instead. `lengthscale_prior_dist` accepts an instance of a numpyro.distributions Distribution object, e.g., `dist.Gamma(2, 5)`, rather than a function that calls `numpyro.sample`.\n",
      "  warnings.warn(\n",
      "sample: 100%|█| 4000/4000 [00:35<00:00, 112.48it/s, 1023 steps\n"
     ]
    },
    {
     "name": "stdout",
     "output_type": "stream",
     "text": [
      "\n",
      "                mean       std    median      5.0%     95.0%     n_eff     r_hat\n",
      "  k_length      0.68      0.00      0.68      0.68      0.68      2.71      3.05\n",
      "   k_scale     78.94      0.00     78.94     78.94     78.94      0.50      1.00\n",
      "     noise      0.01      0.00      0.01      0.01      0.01      0.50      1.00\n",
      "\n",
      "Seed: 3, n_init: 15, Noise Level: 0\n",
      "\n",
      "Step 1/5\n"
     ]
    },
    {
     "name": "stderr",
     "output_type": "stream",
     "text": [
      "/lustre/isaac/scratch/upratius/projects/gpax/gpax/models/gp.py:111: FutureWarning: `noise_prior` is deprecated and will be removed in a future version. Please use `noise_prior_dist` instead, which accepts an instance of a numpyro.distributions Distribution object, e.g., `dist.HalfNormal(scale=0.1)`, rather than a function that calls `numpyro.sample`.\n",
      "  warnings.warn(\n",
      "/lustre/isaac/scratch/upratius/projects/gpax/gpax/models/gp.py:119: UserWarning: `kernel_prior` will remain available for complex priors. However, for modifying only the lengthscales, it is recommended to use `lengthscale_prior_dist` instead. `lengthscale_prior_dist` accepts an instance of a numpyro.distributions Distribution object, e.g., `dist.Gamma(2, 5)`, rather than a function that calls `numpyro.sample`.\n",
      "  warnings.warn(\n",
      "sample: 100%|█| 4000/4000 [00:02<00:00, 1337.31it/s, 7 steps o\n"
     ]
    },
    {
     "name": "stdout",
     "output_type": "stream",
     "text": [
      "\n",
      "                mean       std    median      5.0%     95.0%     n_eff     r_hat\n",
      "  k_length      1.10      0.53      1.10      0.36      2.00   1518.59      1.00\n",
      "   k_scale  92965.45  21841.80  89628.97  62175.77 127285.95   1193.38      1.00\n",
      "     noise      0.01      0.01      0.01      0.00      0.02   1338.88      1.00\n",
      "\n",
      "\n",
      "Step 2/5\n"
     ]
    },
    {
     "name": "stderr",
     "output_type": "stream",
     "text": [
      "/lustre/isaac/scratch/upratius/projects/gpax/gpax/models/gp.py:111: FutureWarning: `noise_prior` is deprecated and will be removed in a future version. Please use `noise_prior_dist` instead, which accepts an instance of a numpyro.distributions Distribution object, e.g., `dist.HalfNormal(scale=0.1)`, rather than a function that calls `numpyro.sample`.\n",
      "  warnings.warn(\n",
      "/lustre/isaac/scratch/upratius/projects/gpax/gpax/models/gp.py:119: UserWarning: `kernel_prior` will remain available for complex priors. However, for modifying only the lengthscales, it is recommended to use `lengthscale_prior_dist` instead. `lengthscale_prior_dist` accepts an instance of a numpyro.distributions Distribution object, e.g., `dist.Gamma(2, 5)`, rather than a function that calls `numpyro.sample`.\n",
      "  warnings.warn(\n",
      "sample: 100%|█| 4000/4000 [00:46<00:00, 86.93it/s, 1023 steps \n"
     ]
    },
    {
     "name": "stdout",
     "output_type": "stream",
     "text": [
      "\n",
      "                mean       std    median      5.0%     95.0%     n_eff     r_hat\n",
      "  k_length      0.74      0.00      0.74      0.74      0.74      3.06      2.49\n",
      "   k_scale   1281.33      0.00   1281.33   1281.33   1281.33       nan       nan\n",
      "     noise      0.01      0.00      0.01      0.01      0.01      0.50      1.00\n",
      "\n",
      "\n",
      "Step 3/5\n"
     ]
    },
    {
     "name": "stderr",
     "output_type": "stream",
     "text": [
      "/lustre/isaac/scratch/upratius/projects/gpax/gpax/models/gp.py:111: FutureWarning: `noise_prior` is deprecated and will be removed in a future version. Please use `noise_prior_dist` instead, which accepts an instance of a numpyro.distributions Distribution object, e.g., `dist.HalfNormal(scale=0.1)`, rather than a function that calls `numpyro.sample`.\n",
      "  warnings.warn(\n",
      "/lustre/isaac/scratch/upratius/projects/gpax/gpax/models/gp.py:119: UserWarning: `kernel_prior` will remain available for complex priors. However, for modifying only the lengthscales, it is recommended to use `lengthscale_prior_dist` instead. `lengthscale_prior_dist` accepts an instance of a numpyro.distributions Distribution object, e.g., `dist.Gamma(2, 5)`, rather than a function that calls `numpyro.sample`.\n",
      "  warnings.warn(\n",
      "sample: 100%|█| 4000/4000 [00:51<00:00, 77.30it/s, 1023 steps \n"
     ]
    },
    {
     "name": "stdout",
     "output_type": "stream",
     "text": [
      "\n",
      "                mean       std    median      5.0%     95.0%     n_eff     r_hat\n",
      "  k_length      0.69      0.00      0.69      0.69      0.69      2.65      2.93\n",
      "   k_scale   1172.89      0.00   1172.89   1172.89   1172.89      0.50      1.00\n",
      "     noise      0.01      0.00      0.01      0.01      0.01      0.50      1.00\n",
      "\n",
      "\n",
      "Step 4/5\n"
     ]
    },
    {
     "name": "stderr",
     "output_type": "stream",
     "text": [
      "/lustre/isaac/scratch/upratius/projects/gpax/gpax/models/gp.py:111: FutureWarning: `noise_prior` is deprecated and will be removed in a future version. Please use `noise_prior_dist` instead, which accepts an instance of a numpyro.distributions Distribution object, e.g., `dist.HalfNormal(scale=0.1)`, rather than a function that calls `numpyro.sample`.\n",
      "  warnings.warn(\n",
      "/lustre/isaac/scratch/upratius/projects/gpax/gpax/models/gp.py:119: UserWarning: `kernel_prior` will remain available for complex priors. However, for modifying only the lengthscales, it is recommended to use `lengthscale_prior_dist` instead. `lengthscale_prior_dist` accepts an instance of a numpyro.distributions Distribution object, e.g., `dist.Gamma(2, 5)`, rather than a function that calls `numpyro.sample`.\n",
      "  warnings.warn(\n",
      "sample: 100%|█| 4000/4000 [00:53<00:00, 75.24it/s, 1023 steps \n"
     ]
    },
    {
     "name": "stdout",
     "output_type": "stream",
     "text": [
      "\n",
      "                mean       std    median      5.0%     95.0%     n_eff     r_hat\n",
      "  k_length      0.64      0.00      0.64      0.64      0.64      2.42      3.78\n",
      "   k_scale   1595.62      0.00   1595.62   1595.62   1595.62      0.50      1.00\n",
      "     noise      0.01      0.00      0.01      0.01      0.01       nan       nan\n",
      "\n",
      "\n",
      "Step 5/5\n"
     ]
    },
    {
     "name": "stderr",
     "output_type": "stream",
     "text": [
      "/lustre/isaac/scratch/upratius/projects/gpax/gpax/models/gp.py:111: FutureWarning: `noise_prior` is deprecated and will be removed in a future version. Please use `noise_prior_dist` instead, which accepts an instance of a numpyro.distributions Distribution object, e.g., `dist.HalfNormal(scale=0.1)`, rather than a function that calls `numpyro.sample`.\n",
      "  warnings.warn(\n",
      "/lustre/isaac/scratch/upratius/projects/gpax/gpax/models/gp.py:119: UserWarning: `kernel_prior` will remain available for complex priors. However, for modifying only the lengthscales, it is recommended to use `lengthscale_prior_dist` instead. `lengthscale_prior_dist` accepts an instance of a numpyro.distributions Distribution object, e.g., `dist.Gamma(2, 5)`, rather than a function that calls `numpyro.sample`.\n",
      "  warnings.warn(\n",
      "sample: 100%|█| 4000/4000 [01:02<00:00, 64.17it/s, 1023 steps \n"
     ]
    },
    {
     "name": "stdout",
     "output_type": "stream",
     "text": [
      "\n",
      "                mean       std    median      5.0%     95.0%     n_eff     r_hat\n",
      "  k_length      0.68      0.00      0.68      0.68      0.68      3.13      2.18\n",
      "   k_scale    993.19      0.00    993.19    993.19    993.19      0.50      1.00\n",
      "     noise      0.01      0.00      0.01      0.01      0.01      0.50      1.00\n",
      "\n",
      "Seed: 3, n_init: 15, Noise Level: 0.01\n",
      "\n",
      "Step 1/5\n"
     ]
    },
    {
     "name": "stderr",
     "output_type": "stream",
     "text": [
      "/lustre/isaac/scratch/upratius/projects/gpax/gpax/models/gp.py:111: FutureWarning: `noise_prior` is deprecated and will be removed in a future version. Please use `noise_prior_dist` instead, which accepts an instance of a numpyro.distributions Distribution object, e.g., `dist.HalfNormal(scale=0.1)`, rather than a function that calls `numpyro.sample`.\n",
      "  warnings.warn(\n",
      "/lustre/isaac/scratch/upratius/projects/gpax/gpax/models/gp.py:119: UserWarning: `kernel_prior` will remain available for complex priors. However, for modifying only the lengthscales, it is recommended to use `lengthscale_prior_dist` instead. `lengthscale_prior_dist` accepts an instance of a numpyro.distributions Distribution object, e.g., `dist.Gamma(2, 5)`, rather than a function that calls `numpyro.sample`.\n",
      "  warnings.warn(\n",
      "sample: 100%|█| 4000/4000 [00:03<00:00, 1314.98it/s, 7 steps o\n"
     ]
    },
    {
     "name": "stdout",
     "output_type": "stream",
     "text": [
      "\n",
      "                mean       std    median      5.0%     95.0%     n_eff     r_hat\n",
      "  k_length      1.10      0.52      1.10      0.37      1.99   1444.20      1.00\n",
      "   k_scale  93594.58  22037.80  90110.72  62150.04 128535.92   1150.32      1.00\n",
      "     noise      0.01      0.01      0.01      0.00      0.02   1532.01      1.00\n",
      "\n",
      "\n",
      "Step 2/5\n"
     ]
    },
    {
     "name": "stderr",
     "output_type": "stream",
     "text": [
      "/lustre/isaac/scratch/upratius/projects/gpax/gpax/models/gp.py:111: FutureWarning: `noise_prior` is deprecated and will be removed in a future version. Please use `noise_prior_dist` instead, which accepts an instance of a numpyro.distributions Distribution object, e.g., `dist.HalfNormal(scale=0.1)`, rather than a function that calls `numpyro.sample`.\n",
      "  warnings.warn(\n",
      "/lustre/isaac/scratch/upratius/projects/gpax/gpax/models/gp.py:119: UserWarning: `kernel_prior` will remain available for complex priors. However, for modifying only the lengthscales, it is recommended to use `lengthscale_prior_dist` instead. `lengthscale_prior_dist` accepts an instance of a numpyro.distributions Distribution object, e.g., `dist.Gamma(2, 5)`, rather than a function that calls `numpyro.sample`.\n",
      "  warnings.warn(\n",
      "sample: 100%|█| 4000/4000 [00:21<00:00, 186.69it/s, 93 steps o\n"
     ]
    },
    {
     "name": "stdout",
     "output_type": "stream",
     "text": [
      "\n",
      "                mean       std    median      5.0%     95.0%     n_eff     r_hat\n",
      "  k_length      0.84      0.00      0.84      0.84      0.84      8.90      1.22\n",
      "   k_scale  35965.30    573.32  36036.41  35207.02  36779.65      7.67      1.05\n",
      "     noise      0.01      0.00      0.01      0.01      0.01      8.18      1.05\n",
      "\n",
      "\n",
      "Step 3/5\n"
     ]
    },
    {
     "name": "stderr",
     "output_type": "stream",
     "text": [
      "/lustre/isaac/scratch/upratius/projects/gpax/gpax/models/gp.py:111: FutureWarning: `noise_prior` is deprecated and will be removed in a future version. Please use `noise_prior_dist` instead, which accepts an instance of a numpyro.distributions Distribution object, e.g., `dist.HalfNormal(scale=0.1)`, rather than a function that calls `numpyro.sample`.\n",
      "  warnings.warn(\n",
      "/lustre/isaac/scratch/upratius/projects/gpax/gpax/models/gp.py:119: UserWarning: `kernel_prior` will remain available for complex priors. However, for modifying only the lengthscales, it is recommended to use `lengthscale_prior_dist` instead. `lengthscale_prior_dist` accepts an instance of a numpyro.distributions Distribution object, e.g., `dist.Gamma(2, 5)`, rather than a function that calls `numpyro.sample`.\n",
      "  warnings.warn(\n",
      "sample: 100%|█| 4000/4000 [00:35<00:00, 111.49it/s, 29 steps o\n"
     ]
    },
    {
     "name": "stdout",
     "output_type": "stream",
     "text": [
      "\n",
      "                mean       std    median      5.0%     95.0%     n_eff     r_hat\n",
      "  k_length      0.72      0.00      0.72      0.72      0.72      6.12      1.11\n",
      "   k_scale  34234.30   1889.20  34463.96  32046.79  36858.13      5.48      1.44\n",
      "     noise      0.01      0.00      0.01      0.01      0.01      3.34      1.63\n",
      "\n",
      "\n",
      "Step 4/5\n"
     ]
    },
    {
     "name": "stderr",
     "output_type": "stream",
     "text": [
      "/lustre/isaac/scratch/upratius/projects/gpax/gpax/models/gp.py:111: FutureWarning: `noise_prior` is deprecated and will be removed in a future version. Please use `noise_prior_dist` instead, which accepts an instance of a numpyro.distributions Distribution object, e.g., `dist.HalfNormal(scale=0.1)`, rather than a function that calls `numpyro.sample`.\n",
      "  warnings.warn(\n",
      "/lustre/isaac/scratch/upratius/projects/gpax/gpax/models/gp.py:119: UserWarning: `kernel_prior` will remain available for complex priors. However, for modifying only the lengthscales, it is recommended to use `lengthscale_prior_dist` instead. `lengthscale_prior_dist` accepts an instance of a numpyro.distributions Distribution object, e.g., `dist.Gamma(2, 5)`, rather than a function that calls `numpyro.sample`.\n",
      "  warnings.warn(\n",
      "sample: 100%|█| 4000/4000 [00:52<00:00, 76.06it/s, 1023 steps \n"
     ]
    },
    {
     "name": "stdout",
     "output_type": "stream",
     "text": [
      "\n",
      "                mean       std    median      5.0%     95.0%     n_eff     r_hat\n",
      "  k_length      0.69      0.00      0.69      0.69      0.69      2.57      3.06\n",
      "   k_scale    902.09      0.00    902.09    902.09    902.09      0.50      1.00\n",
      "     noise      0.01      0.00      0.01      0.01      0.01      0.50      1.00\n",
      "\n",
      "\n",
      "Step 5/5\n"
     ]
    },
    {
     "name": "stderr",
     "output_type": "stream",
     "text": [
      "/lustre/isaac/scratch/upratius/projects/gpax/gpax/models/gp.py:111: FutureWarning: `noise_prior` is deprecated and will be removed in a future version. Please use `noise_prior_dist` instead, which accepts an instance of a numpyro.distributions Distribution object, e.g., `dist.HalfNormal(scale=0.1)`, rather than a function that calls `numpyro.sample`.\n",
      "  warnings.warn(\n",
      "/lustre/isaac/scratch/upratius/projects/gpax/gpax/models/gp.py:119: UserWarning: `kernel_prior` will remain available for complex priors. However, for modifying only the lengthscales, it is recommended to use `lengthscale_prior_dist` instead. `lengthscale_prior_dist` accepts an instance of a numpyro.distributions Distribution object, e.g., `dist.Gamma(2, 5)`, rather than a function that calls `numpyro.sample`.\n",
      "  warnings.warn(\n",
      "sample: 100%|█| 4000/4000 [01:01<00:00, 64.61it/s, 1023 steps \n"
     ]
    },
    {
     "name": "stdout",
     "output_type": "stream",
     "text": [
      "\n",
      "                mean       std    median      5.0%     95.0%     n_eff     r_hat\n",
      "  k_length      0.68      0.00      0.68      0.68      0.68      2.56      2.85\n",
      "   k_scale    307.71      0.00    307.71    307.71    307.71       nan       nan\n",
      "     noise      0.01      0.00      0.01      0.01      0.01      0.50      1.00\n",
      "\n",
      "Seed: 3, n_init: 15, Noise Level: 0.1\n",
      "\n",
      "Step 1/5\n"
     ]
    },
    {
     "name": "stderr",
     "output_type": "stream",
     "text": [
      "/lustre/isaac/scratch/upratius/projects/gpax/gpax/models/gp.py:111: FutureWarning: `noise_prior` is deprecated and will be removed in a future version. Please use `noise_prior_dist` instead, which accepts an instance of a numpyro.distributions Distribution object, e.g., `dist.HalfNormal(scale=0.1)`, rather than a function that calls `numpyro.sample`.\n",
      "  warnings.warn(\n",
      "/lustre/isaac/scratch/upratius/projects/gpax/gpax/models/gp.py:119: UserWarning: `kernel_prior` will remain available for complex priors. However, for modifying only the lengthscales, it is recommended to use `lengthscale_prior_dist` instead. `lengthscale_prior_dist` accepts an instance of a numpyro.distributions Distribution object, e.g., `dist.Gamma(2, 5)`, rather than a function that calls `numpyro.sample`.\n",
      "  warnings.warn(\n",
      "sample: 100%|█| 4000/4000 [00:03<00:00, 1305.07it/s, 7 steps o\n"
     ]
    },
    {
     "name": "stdout",
     "output_type": "stream",
     "text": [
      "\n",
      "                mean       std    median      5.0%     95.0%     n_eff     r_hat\n",
      "  k_length      1.13      0.53      1.15      0.37      2.00   1311.67      1.00\n",
      "   k_scale  93333.09  21738.07  90516.12  60132.22 126522.04   1211.89      1.00\n",
      "     noise      0.01      0.01      0.01      0.00      0.02   1079.81      1.00\n",
      "\n",
      "\n",
      "Step 2/5\n"
     ]
    },
    {
     "name": "stderr",
     "output_type": "stream",
     "text": [
      "/lustre/isaac/scratch/upratius/projects/gpax/gpax/models/gp.py:111: FutureWarning: `noise_prior` is deprecated and will be removed in a future version. Please use `noise_prior_dist` instead, which accepts an instance of a numpyro.distributions Distribution object, e.g., `dist.HalfNormal(scale=0.1)`, rather than a function that calls `numpyro.sample`.\n",
      "  warnings.warn(\n",
      "/lustre/isaac/scratch/upratius/projects/gpax/gpax/models/gp.py:119: UserWarning: `kernel_prior` will remain available for complex priors. However, for modifying only the lengthscales, it is recommended to use `lengthscale_prior_dist` instead. `lengthscale_prior_dist` accepts an instance of a numpyro.distributions Distribution object, e.g., `dist.Gamma(2, 5)`, rather than a function that calls `numpyro.sample`.\n",
      "  warnings.warn(\n",
      "sample: 100%|█| 4000/4000 [00:46<00:00, 86.23it/s, 1023 steps \n"
     ]
    },
    {
     "name": "stdout",
     "output_type": "stream",
     "text": [
      "\n",
      "                mean       std    median      5.0%     95.0%     n_eff     r_hat\n",
      "  k_length      0.69      0.00      0.69      0.69      0.69      2.52      2.88\n",
      "   k_scale   1541.87      0.00   1541.87   1541.87   1541.87      0.50      1.00\n",
      "     noise      0.01      0.00      0.01      0.01      0.01      0.50      1.00\n",
      "\n",
      "\n",
      "Step 3/5\n"
     ]
    },
    {
     "name": "stderr",
     "output_type": "stream",
     "text": [
      "/lustre/isaac/scratch/upratius/projects/gpax/gpax/models/gp.py:111: FutureWarning: `noise_prior` is deprecated and will be removed in a future version. Please use `noise_prior_dist` instead, which accepts an instance of a numpyro.distributions Distribution object, e.g., `dist.HalfNormal(scale=0.1)`, rather than a function that calls `numpyro.sample`.\n",
      "  warnings.warn(\n",
      "/lustre/isaac/scratch/upratius/projects/gpax/gpax/models/gp.py:119: UserWarning: `kernel_prior` will remain available for complex priors. However, for modifying only the lengthscales, it is recommended to use `lengthscale_prior_dist` instead. `lengthscale_prior_dist` accepts an instance of a numpyro.distributions Distribution object, e.g., `dist.Gamma(2, 5)`, rather than a function that calls `numpyro.sample`.\n",
      "  warnings.warn(\n",
      "sample: 100%|█| 4000/4000 [00:44<00:00, 90.58it/s, 647 steps o\n"
     ]
    },
    {
     "name": "stdout",
     "output_type": "stream",
     "text": [
      "\n",
      "                mean       std    median      5.0%     95.0%     n_eff     r_hat\n",
      "  k_length      1.10      0.00      1.10      1.09      1.10      2.93      2.29\n",
      "   k_scale  32615.19    683.14  32782.82  31548.90  33491.86     18.84      1.11\n",
      "     noise      0.01      0.00      0.01      0.01      0.01      3.49      1.69\n",
      "\n",
      "\n",
      "Step 4/5\n"
     ]
    },
    {
     "name": "stderr",
     "output_type": "stream",
     "text": [
      "/lustre/isaac/scratch/upratius/projects/gpax/gpax/models/gp.py:111: FutureWarning: `noise_prior` is deprecated and will be removed in a future version. Please use `noise_prior_dist` instead, which accepts an instance of a numpyro.distributions Distribution object, e.g., `dist.HalfNormal(scale=0.1)`, rather than a function that calls `numpyro.sample`.\n",
      "  warnings.warn(\n",
      "/lustre/isaac/scratch/upratius/projects/gpax/gpax/models/gp.py:119: UserWarning: `kernel_prior` will remain available for complex priors. However, for modifying only the lengthscales, it is recommended to use `lengthscale_prior_dist` instead. `lengthscale_prior_dist` accepts an instance of a numpyro.distributions Distribution object, e.g., `dist.Gamma(2, 5)`, rather than a function that calls `numpyro.sample`.\n",
      "  warnings.warn(\n",
      "sample: 100%|█| 4000/4000 [00:52<00:00, 75.79it/s, 1023 steps \n"
     ]
    },
    {
     "name": "stdout",
     "output_type": "stream",
     "text": [
      "\n",
      "                mean       std    median      5.0%     95.0%     n_eff     r_hat\n",
      "  k_length      0.75      0.01      0.75      0.75      0.76      2.38      3.80\n",
      "   k_scale   9405.91    124.95   9414.80   9194.33   9575.03      2.78      2.57\n",
      "     noise      0.01      0.00      0.01      0.01      0.01      3.28      2.10\n",
      "\n",
      "\n",
      "Step 5/5\n"
     ]
    },
    {
     "name": "stderr",
     "output_type": "stream",
     "text": [
      "/lustre/isaac/scratch/upratius/projects/gpax/gpax/models/gp.py:111: FutureWarning: `noise_prior` is deprecated and will be removed in a future version. Please use `noise_prior_dist` instead, which accepts an instance of a numpyro.distributions Distribution object, e.g., `dist.HalfNormal(scale=0.1)`, rather than a function that calls `numpyro.sample`.\n",
      "  warnings.warn(\n",
      "/lustre/isaac/scratch/upratius/projects/gpax/gpax/models/gp.py:119: UserWarning: `kernel_prior` will remain available for complex priors. However, for modifying only the lengthscales, it is recommended to use `lengthscale_prior_dist` instead. `lengthscale_prior_dist` accepts an instance of a numpyro.distributions Distribution object, e.g., `dist.Gamma(2, 5)`, rather than a function that calls `numpyro.sample`.\n",
      "  warnings.warn(\n",
      "sample: 100%|█| 4000/4000 [01:01<00:00, 65.41it/s, 1023 steps \n"
     ]
    },
    {
     "name": "stdout",
     "output_type": "stream",
     "text": [
      "\n",
      "                mean       std    median      5.0%     95.0%     n_eff     r_hat\n",
      "  k_length      0.68      0.00      0.68      0.68      0.68      5.63      1.45\n",
      "   k_scale   1010.56      0.00   1010.56   1010.56   1010.56      0.50      1.00\n",
      "     noise      0.01      0.00      0.01      0.01      0.01       nan       nan\n",
      "\n",
      "Seed: 3, n_init: 15, Noise Level: 0.5\n",
      "\n",
      "Step 1/5\n"
     ]
    },
    {
     "name": "stderr",
     "output_type": "stream",
     "text": [
      "/lustre/isaac/scratch/upratius/projects/gpax/gpax/models/gp.py:111: FutureWarning: `noise_prior` is deprecated and will be removed in a future version. Please use `noise_prior_dist` instead, which accepts an instance of a numpyro.distributions Distribution object, e.g., `dist.HalfNormal(scale=0.1)`, rather than a function that calls `numpyro.sample`.\n",
      "  warnings.warn(\n",
      "/lustre/isaac/scratch/upratius/projects/gpax/gpax/models/gp.py:119: UserWarning: `kernel_prior` will remain available for complex priors. However, for modifying only the lengthscales, it is recommended to use `lengthscale_prior_dist` instead. `lengthscale_prior_dist` accepts an instance of a numpyro.distributions Distribution object, e.g., `dist.Gamma(2, 5)`, rather than a function that calls `numpyro.sample`.\n",
      "  warnings.warn(\n",
      "sample: 100%|█| 4000/4000 [00:03<00:00, 1326.89it/s, 7 steps o\n"
     ]
    },
    {
     "name": "stdout",
     "output_type": "stream",
     "text": [
      "\n",
      "                mean       std    median      5.0%     95.0%     n_eff     r_hat\n",
      "  k_length      1.11      0.53      1.14      0.33      1.96   1604.20      1.00\n",
      "   k_scale  92860.34  21734.16  89477.55  57990.46 125428.90   1250.82      1.00\n",
      "     noise      0.01      0.01      0.01      0.00      0.02   1338.40      1.00\n",
      "\n",
      "\n",
      "Step 2/5\n"
     ]
    },
    {
     "name": "stderr",
     "output_type": "stream",
     "text": [
      "/lustre/isaac/scratch/upratius/projects/gpax/gpax/models/gp.py:111: FutureWarning: `noise_prior` is deprecated and will be removed in a future version. Please use `noise_prior_dist` instead, which accepts an instance of a numpyro.distributions Distribution object, e.g., `dist.HalfNormal(scale=0.1)`, rather than a function that calls `numpyro.sample`.\n",
      "  warnings.warn(\n",
      "/lustre/isaac/scratch/upratius/projects/gpax/gpax/models/gp.py:119: UserWarning: `kernel_prior` will remain available for complex priors. However, for modifying only the lengthscales, it is recommended to use `lengthscale_prior_dist` instead. `lengthscale_prior_dist` accepts an instance of a numpyro.distributions Distribution object, e.g., `dist.Gamma(2, 5)`, rather than a function that calls `numpyro.sample`.\n",
      "  warnings.warn(\n",
      "sample: 100%|█| 4000/4000 [00:45<00:00, 88.13it/s, 1023 steps \n"
     ]
    },
    {
     "name": "stdout",
     "output_type": "stream",
     "text": [
      "\n",
      "                mean       std    median      5.0%     95.0%     n_eff     r_hat\n",
      "  k_length      0.65      0.00      0.65      0.65      0.65      3.73      1.39\n",
      "   k_scale    273.22      0.00    273.22    273.22    273.22      0.50      1.00\n",
      "     noise      0.01      0.00      0.01      0.01      0.01      0.50      1.00\n",
      "\n",
      "\n",
      "Step 3/5\n"
     ]
    },
    {
     "name": "stderr",
     "output_type": "stream",
     "text": [
      "/lustre/isaac/scratch/upratius/projects/gpax/gpax/models/gp.py:111: FutureWarning: `noise_prior` is deprecated and will be removed in a future version. Please use `noise_prior_dist` instead, which accepts an instance of a numpyro.distributions Distribution object, e.g., `dist.HalfNormal(scale=0.1)`, rather than a function that calls `numpyro.sample`.\n",
      "  warnings.warn(\n",
      "/lustre/isaac/scratch/upratius/projects/gpax/gpax/models/gp.py:119: UserWarning: `kernel_prior` will remain available for complex priors. However, for modifying only the lengthscales, it is recommended to use `lengthscale_prior_dist` instead. `lengthscale_prior_dist` accepts an instance of a numpyro.distributions Distribution object, e.g., `dist.Gamma(2, 5)`, rather than a function that calls `numpyro.sample`.\n",
      "  warnings.warn(\n",
      "sample: 100%|█| 4000/4000 [00:52<00:00, 75.98it/s, 1023 steps \n"
     ]
    },
    {
     "name": "stdout",
     "output_type": "stream",
     "text": [
      "\n",
      "                mean       std    median      5.0%     95.0%     n_eff     r_hat\n",
      "  k_length      0.67      0.00      0.67      0.67      0.67      4.60      1.48\n",
      "   k_scale    218.84      0.00    218.84    218.84    218.84      0.50      1.00\n",
      "     noise      0.01      0.00      0.01      0.01      0.01      0.50      1.00\n",
      "\n",
      "\n",
      "Step 4/5\n"
     ]
    },
    {
     "name": "stderr",
     "output_type": "stream",
     "text": [
      "/lustre/isaac/scratch/upratius/projects/gpax/gpax/models/gp.py:111: FutureWarning: `noise_prior` is deprecated and will be removed in a future version. Please use `noise_prior_dist` instead, which accepts an instance of a numpyro.distributions Distribution object, e.g., `dist.HalfNormal(scale=0.1)`, rather than a function that calls `numpyro.sample`.\n",
      "  warnings.warn(\n",
      "/lustre/isaac/scratch/upratius/projects/gpax/gpax/models/gp.py:119: UserWarning: `kernel_prior` will remain available for complex priors. However, for modifying only the lengthscales, it is recommended to use `lengthscale_prior_dist` instead. `lengthscale_prior_dist` accepts an instance of a numpyro.distributions Distribution object, e.g., `dist.Gamma(2, 5)`, rather than a function that calls `numpyro.sample`.\n",
      "  warnings.warn(\n",
      "sample: 100%|█| 4000/4000 [00:53<00:00, 74.19it/s, 1023 steps \n"
     ]
    },
    {
     "name": "stdout",
     "output_type": "stream",
     "text": [
      "\n",
      "                mean       std    median      5.0%     95.0%     n_eff     r_hat\n",
      "  k_length      0.67      0.00      0.67      0.67      0.67      2.87      2.23\n",
      "   k_scale    325.07      0.00    325.07    325.07    325.07      0.50      1.00\n",
      "     noise      0.01      0.00      0.01      0.01      0.01      0.50      1.00\n",
      "\n",
      "\n",
      "Step 5/5\n"
     ]
    },
    {
     "name": "stderr",
     "output_type": "stream",
     "text": [
      "/lustre/isaac/scratch/upratius/projects/gpax/gpax/models/gp.py:111: FutureWarning: `noise_prior` is deprecated and will be removed in a future version. Please use `noise_prior_dist` instead, which accepts an instance of a numpyro.distributions Distribution object, e.g., `dist.HalfNormal(scale=0.1)`, rather than a function that calls `numpyro.sample`.\n",
      "  warnings.warn(\n",
      "/lustre/isaac/scratch/upratius/projects/gpax/gpax/models/gp.py:119: UserWarning: `kernel_prior` will remain available for complex priors. However, for modifying only the lengthscales, it is recommended to use `lengthscale_prior_dist` instead. `lengthscale_prior_dist` accepts an instance of a numpyro.distributions Distribution object, e.g., `dist.Gamma(2, 5)`, rather than a function that calls `numpyro.sample`.\n",
      "  warnings.warn(\n",
      "sample: 100%|█| 4000/4000 [01:02<00:00, 64.51it/s, 1023 steps \n"
     ]
    },
    {
     "name": "stdout",
     "output_type": "stream",
     "text": [
      "\n",
      "                mean       std    median      5.0%     95.0%     n_eff     r_hat\n",
      "  k_length      0.65      0.00      0.65      0.65      0.65      2.47      2.86\n",
      "   k_scale     76.61      0.00     76.61     76.61     76.61      0.50      1.00\n",
      "     noise      0.01      0.00      0.01      0.01      0.01       nan       nan\n",
      "\n",
      "Seed: 3, n_init: 20, Noise Level: 0\n",
      "\n",
      "Step 1/5\n"
     ]
    },
    {
     "name": "stderr",
     "output_type": "stream",
     "text": [
      "/lustre/isaac/scratch/upratius/projects/gpax/gpax/models/gp.py:111: FutureWarning: `noise_prior` is deprecated and will be removed in a future version. Please use `noise_prior_dist` instead, which accepts an instance of a numpyro.distributions Distribution object, e.g., `dist.HalfNormal(scale=0.1)`, rather than a function that calls `numpyro.sample`.\n",
      "  warnings.warn(\n",
      "/lustre/isaac/scratch/upratius/projects/gpax/gpax/models/gp.py:119: UserWarning: `kernel_prior` will remain available for complex priors. However, for modifying only the lengthscales, it is recommended to use `lengthscale_prior_dist` instead. `lengthscale_prior_dist` accepts an instance of a numpyro.distributions Distribution object, e.g., `dist.Gamma(2, 5)`, rather than a function that calls `numpyro.sample`.\n",
      "  warnings.warn(\n",
      "sample: 100%|█| 4000/4000 [00:03<00:00, 1249.57it/s, 7 steps o\n"
     ]
    },
    {
     "name": "stdout",
     "output_type": "stream",
     "text": [
      "\n",
      "                mean       std    median      5.0%     95.0%     n_eff     r_hat\n",
      "  k_length      1.11      0.53      1.12      0.35      1.99   1416.08      1.00\n",
      "   k_scale 103793.10  22921.46 100951.85  68617.83 139373.88   1388.80      1.00\n",
      "     noise      0.01      0.01      0.01      0.00      0.02    975.40      1.00\n",
      "\n",
      "\n",
      "Step 2/5\n"
     ]
    },
    {
     "name": "stderr",
     "output_type": "stream",
     "text": [
      "/lustre/isaac/scratch/upratius/projects/gpax/gpax/models/gp.py:111: FutureWarning: `noise_prior` is deprecated and will be removed in a future version. Please use `noise_prior_dist` instead, which accepts an instance of a numpyro.distributions Distribution object, e.g., `dist.HalfNormal(scale=0.1)`, rather than a function that calls `numpyro.sample`.\n",
      "  warnings.warn(\n",
      "/lustre/isaac/scratch/upratius/projects/gpax/gpax/models/gp.py:119: UserWarning: `kernel_prior` will remain available for complex priors. However, for modifying only the lengthscales, it is recommended to use `lengthscale_prior_dist` instead. `lengthscale_prior_dist` accepts an instance of a numpyro.distributions Distribution object, e.g., `dist.Gamma(2, 5)`, rather than a function that calls `numpyro.sample`.\n",
      "  warnings.warn(\n",
      "sample: 100%|█| 4000/4000 [00:19<00:00, 208.22it/s, 2 steps of\n"
     ]
    },
    {
     "name": "stdout",
     "output_type": "stream",
     "text": [
      "\n",
      "                mean       std    median      5.0%     95.0%     n_eff     r_hat\n",
      "  k_length      0.87      0.00      0.87      0.87      0.87      1.50      1.74\n",
      "   k_scale  81931.34      0.00  81931.34  81931.34  81931.34       nan       nan\n",
      "     noise      0.01      0.00      0.01      0.01      0.01       nan       nan\n",
      "\n",
      "\n",
      "Step 3/5\n"
     ]
    },
    {
     "name": "stderr",
     "output_type": "stream",
     "text": [
      "/lustre/isaac/scratch/upratius/projects/gpax/gpax/models/gp.py:111: FutureWarning: `noise_prior` is deprecated and will be removed in a future version. Please use `noise_prior_dist` instead, which accepts an instance of a numpyro.distributions Distribution object, e.g., `dist.HalfNormal(scale=0.1)`, rather than a function that calls `numpyro.sample`.\n",
      "  warnings.warn(\n",
      "/lustre/isaac/scratch/upratius/projects/gpax/gpax/models/gp.py:119: UserWarning: `kernel_prior` will remain available for complex priors. However, for modifying only the lengthscales, it is recommended to use `lengthscale_prior_dist` instead. `lengthscale_prior_dist` accepts an instance of a numpyro.distributions Distribution object, e.g., `dist.Gamma(2, 5)`, rather than a function that calls `numpyro.sample`.\n",
      "  warnings.warn(\n",
      "sample: 100%|█| 4000/4000 [01:01<00:00, 64.93it/s, 1023 steps \n"
     ]
    },
    {
     "name": "stdout",
     "output_type": "stream",
     "text": [
      "\n",
      "                mean       std    median      5.0%     95.0%     n_eff     r_hat\n",
      "  k_length      0.65      0.01      0.65      0.64      0.66      2.54      2.88\n",
      "   k_scale  16396.64   2730.67  16537.21  12003.95  20176.70      2.49      2.89\n",
      "     noise      0.01      0.00      0.01      0.01      0.01      3.51      1.93\n",
      "\n",
      "\n",
      "Step 4/5\n"
     ]
    },
    {
     "name": "stderr",
     "output_type": "stream",
     "text": [
      "/lustre/isaac/scratch/upratius/projects/gpax/gpax/models/gp.py:111: FutureWarning: `noise_prior` is deprecated and will be removed in a future version. Please use `noise_prior_dist` instead, which accepts an instance of a numpyro.distributions Distribution object, e.g., `dist.HalfNormal(scale=0.1)`, rather than a function that calls `numpyro.sample`.\n",
      "  warnings.warn(\n",
      "/lustre/isaac/scratch/upratius/projects/gpax/gpax/models/gp.py:119: UserWarning: `kernel_prior` will remain available for complex priors. However, for modifying only the lengthscales, it is recommended to use `lengthscale_prior_dist` instead. `lengthscale_prior_dist` accepts an instance of a numpyro.distributions Distribution object, e.g., `dist.Gamma(2, 5)`, rather than a function that calls `numpyro.sample`.\n",
      "  warnings.warn(\n",
      "sample: 100%|█| 4000/4000 [01:12<00:00, 55.37it/s, 1023 steps \n"
     ]
    },
    {
     "name": "stdout",
     "output_type": "stream",
     "text": [
      "\n",
      "                mean       std    median      5.0%     95.0%     n_eff     r_hat\n",
      "  k_length      0.68      0.00      0.68      0.68      0.68      2.60      3.29\n",
      "   k_scale   1287.73      0.00   1287.73   1287.73   1287.73       nan       nan\n",
      "     noise      0.01      0.00      0.01      0.01      0.01      0.50      1.00\n",
      "\n",
      "\n",
      "Step 5/5\n"
     ]
    },
    {
     "name": "stderr",
     "output_type": "stream",
     "text": [
      "/lustre/isaac/scratch/upratius/projects/gpax/gpax/models/gp.py:111: FutureWarning: `noise_prior` is deprecated and will be removed in a future version. Please use `noise_prior_dist` instead, which accepts an instance of a numpyro.distributions Distribution object, e.g., `dist.HalfNormal(scale=0.1)`, rather than a function that calls `numpyro.sample`.\n",
      "  warnings.warn(\n",
      "/lustre/isaac/scratch/upratius/projects/gpax/gpax/models/gp.py:119: UserWarning: `kernel_prior` will remain available for complex priors. However, for modifying only the lengthscales, it is recommended to use `lengthscale_prior_dist` instead. `lengthscale_prior_dist` accepts an instance of a numpyro.distributions Distribution object, e.g., `dist.Gamma(2, 5)`, rather than a function that calls `numpyro.sample`.\n",
      "  warnings.warn(\n",
      "sample: 100%|█| 4000/4000 [01:18<00:00, 51.28it/s, 1023 steps \n"
     ]
    },
    {
     "name": "stdout",
     "output_type": "stream",
     "text": [
      "\n",
      "                mean       std    median      5.0%     95.0%     n_eff     r_hat\n",
      "  k_length      0.70      0.00      0.70      0.70      0.70      2.49      3.48\n",
      "   k_scale    344.00      0.00    344.00    344.00    344.00      0.50      1.00\n",
      "     noise      0.01      0.00      0.01      0.01      0.01       nan       nan\n",
      "\n",
      "Seed: 3, n_init: 20, Noise Level: 0.01\n",
      "\n",
      "Step 1/5\n"
     ]
    },
    {
     "name": "stderr",
     "output_type": "stream",
     "text": [
      "/lustre/isaac/scratch/upratius/projects/gpax/gpax/models/gp.py:111: FutureWarning: `noise_prior` is deprecated and will be removed in a future version. Please use `noise_prior_dist` instead, which accepts an instance of a numpyro.distributions Distribution object, e.g., `dist.HalfNormal(scale=0.1)`, rather than a function that calls `numpyro.sample`.\n",
      "  warnings.warn(\n",
      "/lustre/isaac/scratch/upratius/projects/gpax/gpax/models/gp.py:119: UserWarning: `kernel_prior` will remain available for complex priors. However, for modifying only the lengthscales, it is recommended to use `lengthscale_prior_dist` instead. `lengthscale_prior_dist` accepts an instance of a numpyro.distributions Distribution object, e.g., `dist.Gamma(2, 5)`, rather than a function that calls `numpyro.sample`.\n",
      "  warnings.warn(\n",
      "sample: 100%|█| 4000/4000 [00:03<00:00, 1268.59it/s, 7 steps o\n"
     ]
    },
    {
     "name": "stdout",
     "output_type": "stream",
     "text": [
      "\n",
      "                mean       std    median      5.0%     95.0%     n_eff     r_hat\n",
      "  k_length      1.10      0.53      1.11      0.34      1.97   1668.94      1.00\n",
      "   k_scale 105032.97  22799.59 102893.23  69152.84 139024.75   1271.63      1.00\n",
      "     noise      0.01      0.01      0.01      0.00      0.02   1200.58      1.00\n",
      "\n",
      "\n",
      "Step 2/5\n"
     ]
    },
    {
     "name": "stderr",
     "output_type": "stream",
     "text": [
      "/lustre/isaac/scratch/upratius/projects/gpax/gpax/models/gp.py:111: FutureWarning: `noise_prior` is deprecated and will be removed in a future version. Please use `noise_prior_dist` instead, which accepts an instance of a numpyro.distributions Distribution object, e.g., `dist.HalfNormal(scale=0.1)`, rather than a function that calls `numpyro.sample`.\n",
      "  warnings.warn(\n",
      "/lustre/isaac/scratch/upratius/projects/gpax/gpax/models/gp.py:119: UserWarning: `kernel_prior` will remain available for complex priors. However, for modifying only the lengthscales, it is recommended to use `lengthscale_prior_dist` instead. `lengthscale_prior_dist` accepts an instance of a numpyro.distributions Distribution object, e.g., `dist.Gamma(2, 5)`, rather than a function that calls `numpyro.sample`.\n",
      "  warnings.warn(\n",
      "sample: 100%|█| 4000/4000 [01:12<00:00, 54.84it/s, 1023 steps \n"
     ]
    },
    {
     "name": "stdout",
     "output_type": "stream",
     "text": [
      "\n",
      "                mean       std    median      5.0%     95.0%     n_eff     r_hat\n",
      "  k_length      0.64      0.00      0.64      0.64      0.64      2.44      3.46\n",
      "   k_scale   4593.36      0.00   4593.36   4593.36   4593.36      0.50      1.00\n",
      "     noise      0.01      0.00      0.01      0.01      0.01      4.45      1.48\n",
      "\n",
      "\n",
      "Step 3/5\n"
     ]
    },
    {
     "name": "stderr",
     "output_type": "stream",
     "text": [
      "/lustre/isaac/scratch/upratius/projects/gpax/gpax/models/gp.py:111: FutureWarning: `noise_prior` is deprecated and will be removed in a future version. Please use `noise_prior_dist` instead, which accepts an instance of a numpyro.distributions Distribution object, e.g., `dist.HalfNormal(scale=0.1)`, rather than a function that calls `numpyro.sample`.\n",
      "  warnings.warn(\n",
      "/lustre/isaac/scratch/upratius/projects/gpax/gpax/models/gp.py:119: UserWarning: `kernel_prior` will remain available for complex priors. However, for modifying only the lengthscales, it is recommended to use `lengthscale_prior_dist` instead. `lengthscale_prior_dist` accepts an instance of a numpyro.distributions Distribution object, e.g., `dist.Gamma(2, 5)`, rather than a function that calls `numpyro.sample`.\n",
      "  warnings.warn(\n",
      "sample: 100%|█| 4000/4000 [01:03<00:00, 63.41it/s, 1023 steps \n"
     ]
    },
    {
     "name": "stdout",
     "output_type": "stream",
     "text": [
      "\n",
      "                mean       std    median      5.0%     95.0%     n_eff     r_hat\n",
      "  k_length      0.67      0.00      0.67      0.67      0.67      2.68      2.72\n",
      "   k_scale    343.26      0.00    343.26    343.26    343.26      0.50      1.00\n",
      "     noise      0.01      0.00      0.01      0.01      0.01      0.50      1.00\n",
      "\n",
      "\n",
      "Step 4/5\n"
     ]
    },
    {
     "name": "stderr",
     "output_type": "stream",
     "text": [
      "/lustre/isaac/scratch/upratius/projects/gpax/gpax/models/gp.py:111: FutureWarning: `noise_prior` is deprecated and will be removed in a future version. Please use `noise_prior_dist` instead, which accepts an instance of a numpyro.distributions Distribution object, e.g., `dist.HalfNormal(scale=0.1)`, rather than a function that calls `numpyro.sample`.\n",
      "  warnings.warn(\n",
      "/lustre/isaac/scratch/upratius/projects/gpax/gpax/models/gp.py:119: UserWarning: `kernel_prior` will remain available for complex priors. However, for modifying only the lengthscales, it is recommended to use `lengthscale_prior_dist` instead. `lengthscale_prior_dist` accepts an instance of a numpyro.distributions Distribution object, e.g., `dist.Gamma(2, 5)`, rather than a function that calls `numpyro.sample`.\n",
      "  warnings.warn(\n",
      "sample: 100%|█| 4000/4000 [01:10<00:00, 56.47it/s, 1023 steps \n"
     ]
    },
    {
     "name": "stdout",
     "output_type": "stream",
     "text": [
      "\n",
      "                mean       std    median      5.0%     95.0%     n_eff     r_hat\n",
      "  k_length      0.73      0.00      0.73      0.72      0.73      2.90      2.60\n",
      "   k_scale  15385.37    137.50  15365.96  15194.92  15600.57      2.95      2.60\n",
      "     noise      0.01      0.00      0.01      0.01      0.01      4.96      1.78\n",
      "\n",
      "\n",
      "Step 5/5\n"
     ]
    },
    {
     "name": "stderr",
     "output_type": "stream",
     "text": [
      "/lustre/isaac/scratch/upratius/projects/gpax/gpax/models/gp.py:111: FutureWarning: `noise_prior` is deprecated and will be removed in a future version. Please use `noise_prior_dist` instead, which accepts an instance of a numpyro.distributions Distribution object, e.g., `dist.HalfNormal(scale=0.1)`, rather than a function that calls `numpyro.sample`.\n",
      "  warnings.warn(\n",
      "/lustre/isaac/scratch/upratius/projects/gpax/gpax/models/gp.py:119: UserWarning: `kernel_prior` will remain available for complex priors. However, for modifying only the lengthscales, it is recommended to use `lengthscale_prior_dist` instead. `lengthscale_prior_dist` accepts an instance of a numpyro.distributions Distribution object, e.g., `dist.Gamma(2, 5)`, rather than a function that calls `numpyro.sample`.\n",
      "  warnings.warn(\n",
      "sample: 100%|█| 4000/4000 [01:17<00:00, 51.49it/s, 1023 steps \n"
     ]
    },
    {
     "name": "stdout",
     "output_type": "stream",
     "text": [
      "\n",
      "                mean       std    median      5.0%     95.0%     n_eff     r_hat\n",
      "  k_length      0.66      0.00      0.66      0.66      0.66      3.40      2.21\n",
      "   k_scale    374.75      0.00    374.75    374.75    374.75      0.50      1.00\n",
      "     noise      0.01      0.00      0.01      0.01      0.01      0.50      1.00\n",
      "\n",
      "Seed: 3, n_init: 20, Noise Level: 0.1\n",
      "\n",
      "Step 1/5\n"
     ]
    },
    {
     "name": "stderr",
     "output_type": "stream",
     "text": [
      "/lustre/isaac/scratch/upratius/projects/gpax/gpax/models/gp.py:111: FutureWarning: `noise_prior` is deprecated and will be removed in a future version. Please use `noise_prior_dist` instead, which accepts an instance of a numpyro.distributions Distribution object, e.g., `dist.HalfNormal(scale=0.1)`, rather than a function that calls `numpyro.sample`.\n",
      "  warnings.warn(\n",
      "/lustre/isaac/scratch/upratius/projects/gpax/gpax/models/gp.py:119: UserWarning: `kernel_prior` will remain available for complex priors. However, for modifying only the lengthscales, it is recommended to use `lengthscale_prior_dist` instead. `lengthscale_prior_dist` accepts an instance of a numpyro.distributions Distribution object, e.g., `dist.Gamma(2, 5)`, rather than a function that calls `numpyro.sample`.\n",
      "  warnings.warn(\n",
      "sample: 100%|█| 4000/4000 [00:03<00:00, 1241.89it/s, 7 steps o\n"
     ]
    },
    {
     "name": "stdout",
     "output_type": "stream",
     "text": [
      "\n",
      "                mean       std    median      5.0%     95.0%     n_eff     r_hat\n",
      "  k_length      1.11      0.53      1.12      0.35      1.98   1166.88      1.00\n",
      "   k_scale 104306.29  22616.40 101626.67  71035.95 141794.48   1016.80      1.00\n",
      "     noise      0.01      0.01      0.01      0.00      0.02   1335.59      1.00\n",
      "\n",
      "\n",
      "Step 2/5\n"
     ]
    },
    {
     "name": "stderr",
     "output_type": "stream",
     "text": [
      "/lustre/isaac/scratch/upratius/projects/gpax/gpax/models/gp.py:111: FutureWarning: `noise_prior` is deprecated and will be removed in a future version. Please use `noise_prior_dist` instead, which accepts an instance of a numpyro.distributions Distribution object, e.g., `dist.HalfNormal(scale=0.1)`, rather than a function that calls `numpyro.sample`.\n",
      "  warnings.warn(\n",
      "/lustre/isaac/scratch/upratius/projects/gpax/gpax/models/gp.py:119: UserWarning: `kernel_prior` will remain available for complex priors. However, for modifying only the lengthscales, it is recommended to use `lengthscale_prior_dist` instead. `lengthscale_prior_dist` accepts an instance of a numpyro.distributions Distribution object, e.g., `dist.Gamma(2, 5)`, rather than a function that calls `numpyro.sample`.\n",
      "  warnings.warn(\n",
      "sample: 100%|█| 4000/4000 [01:13<00:00, 54.40it/s, 1023 steps \n"
     ]
    },
    {
     "name": "stdout",
     "output_type": "stream",
     "text": [
      "\n",
      "                mean       std    median      5.0%     95.0%     n_eff     r_hat\n",
      "  k_length      0.69      0.00      0.69      0.69      0.69      2.87      2.79\n",
      "   k_scale    430.68      0.00    430.68    430.68    430.68      0.50      1.00\n",
      "     noise      0.01      0.00      0.01      0.01      0.01      0.50      1.00\n",
      "\n",
      "\n",
      "Step 3/5\n"
     ]
    },
    {
     "name": "stderr",
     "output_type": "stream",
     "text": [
      "/lustre/isaac/scratch/upratius/projects/gpax/gpax/models/gp.py:111: FutureWarning: `noise_prior` is deprecated and will be removed in a future version. Please use `noise_prior_dist` instead, which accepts an instance of a numpyro.distributions Distribution object, e.g., `dist.HalfNormal(scale=0.1)`, rather than a function that calls `numpyro.sample`.\n",
      "  warnings.warn(\n",
      "/lustre/isaac/scratch/upratius/projects/gpax/gpax/models/gp.py:119: UserWarning: `kernel_prior` will remain available for complex priors. However, for modifying only the lengthscales, it is recommended to use `lengthscale_prior_dist` instead. `lengthscale_prior_dist` accepts an instance of a numpyro.distributions Distribution object, e.g., `dist.Gamma(2, 5)`, rather than a function that calls `numpyro.sample`.\n",
      "  warnings.warn(\n",
      "sample: 100%|█| 4000/4000 [01:02<00:00, 63.78it/s, 1023 steps \n"
     ]
    },
    {
     "name": "stdout",
     "output_type": "stream",
     "text": [
      "\n",
      "                mean       std    median      5.0%     95.0%     n_eff     r_hat\n",
      "  k_length      0.69      0.00      0.69      0.69      0.69      2.49      3.55\n",
      "   k_scale   4437.30      0.00   4437.30   4437.30   4437.30       nan       nan\n",
      "     noise      0.01      0.00      0.01      0.01      0.01      8.50      1.02\n",
      "\n",
      "\n",
      "Step 4/5\n"
     ]
    },
    {
     "name": "stderr",
     "output_type": "stream",
     "text": [
      "/lustre/isaac/scratch/upratius/projects/gpax/gpax/models/gp.py:111: FutureWarning: `noise_prior` is deprecated and will be removed in a future version. Please use `noise_prior_dist` instead, which accepts an instance of a numpyro.distributions Distribution object, e.g., `dist.HalfNormal(scale=0.1)`, rather than a function that calls `numpyro.sample`.\n",
      "  warnings.warn(\n",
      "/lustre/isaac/scratch/upratius/projects/gpax/gpax/models/gp.py:119: UserWarning: `kernel_prior` will remain available for complex priors. However, for modifying only the lengthscales, it is recommended to use `lengthscale_prior_dist` instead. `lengthscale_prior_dist` accepts an instance of a numpyro.distributions Distribution object, e.g., `dist.Gamma(2, 5)`, rather than a function that calls `numpyro.sample`.\n",
      "  warnings.warn(\n",
      "sample: 100%|█| 4000/4000 [01:09<00:00, 57.88it/s, 1023 steps \n"
     ]
    },
    {
     "name": "stdout",
     "output_type": "stream",
     "text": [
      "\n",
      "                mean       std    median      5.0%     95.0%     n_eff     r_hat\n",
      "  k_length      0.75      0.00      0.75      0.75      0.76      2.51      3.08\n",
      "   k_scale  16119.34     66.89  16109.67  16023.27  16241.33      7.75      1.30\n",
      "     noise      0.01      0.00      0.01      0.01      0.01      3.25      2.36\n",
      "\n",
      "\n",
      "Step 5/5\n"
     ]
    },
    {
     "name": "stderr",
     "output_type": "stream",
     "text": [
      "/lustre/isaac/scratch/upratius/projects/gpax/gpax/models/gp.py:111: FutureWarning: `noise_prior` is deprecated and will be removed in a future version. Please use `noise_prior_dist` instead, which accepts an instance of a numpyro.distributions Distribution object, e.g., `dist.HalfNormal(scale=0.1)`, rather than a function that calls `numpyro.sample`.\n",
      "  warnings.warn(\n",
      "/lustre/isaac/scratch/upratius/projects/gpax/gpax/models/gp.py:119: UserWarning: `kernel_prior` will remain available for complex priors. However, for modifying only the lengthscales, it is recommended to use `lengthscale_prior_dist` instead. `lengthscale_prior_dist` accepts an instance of a numpyro.distributions Distribution object, e.g., `dist.Gamma(2, 5)`, rather than a function that calls `numpyro.sample`.\n",
      "  warnings.warn(\n",
      "sample: 100%|█| 4000/4000 [01:17<00:00, 51.66it/s, 1023 steps \n"
     ]
    },
    {
     "name": "stdout",
     "output_type": "stream",
     "text": [
      "\n",
      "                mean       std    median      5.0%     95.0%     n_eff     r_hat\n",
      "  k_length      0.54      0.00      0.54      0.54      0.54      2.68      2.73\n",
      "   k_scale   1269.00      0.00   1269.00   1269.00   1269.00      0.50      1.00\n",
      "     noise      0.01      0.00      0.01      0.01      0.01      0.50      1.00\n",
      "\n",
      "Seed: 3, n_init: 20, Noise Level: 0.5\n",
      "\n",
      "Step 1/5\n"
     ]
    },
    {
     "name": "stderr",
     "output_type": "stream",
     "text": [
      "/lustre/isaac/scratch/upratius/projects/gpax/gpax/models/gp.py:111: FutureWarning: `noise_prior` is deprecated and will be removed in a future version. Please use `noise_prior_dist` instead, which accepts an instance of a numpyro.distributions Distribution object, e.g., `dist.HalfNormal(scale=0.1)`, rather than a function that calls `numpyro.sample`.\n",
      "  warnings.warn(\n",
      "/lustre/isaac/scratch/upratius/projects/gpax/gpax/models/gp.py:119: UserWarning: `kernel_prior` will remain available for complex priors. However, for modifying only the lengthscales, it is recommended to use `lengthscale_prior_dist` instead. `lengthscale_prior_dist` accepts an instance of a numpyro.distributions Distribution object, e.g., `dist.Gamma(2, 5)`, rather than a function that calls `numpyro.sample`.\n",
      "  warnings.warn(\n",
      "sample: 100%|█| 4000/4000 [00:03<00:00, 1271.50it/s, 7 steps o\n"
     ]
    },
    {
     "name": "stdout",
     "output_type": "stream",
     "text": [
      "\n",
      "                mean       std    median      5.0%     95.0%     n_eff     r_hat\n",
      "  k_length      1.10      0.52      1.11      0.33      1.95   1569.24      1.00\n",
      "   k_scale 104599.68  23676.24 101679.95  67753.70 138586.31   1137.48      1.00\n",
      "     noise      0.01      0.01      0.01      0.00      0.02   1359.68      1.00\n",
      "\n",
      "\n",
      "Step 2/5\n"
     ]
    },
    {
     "name": "stderr",
     "output_type": "stream",
     "text": [
      "/lustre/isaac/scratch/upratius/projects/gpax/gpax/models/gp.py:111: FutureWarning: `noise_prior` is deprecated and will be removed in a future version. Please use `noise_prior_dist` instead, which accepts an instance of a numpyro.distributions Distribution object, e.g., `dist.HalfNormal(scale=0.1)`, rather than a function that calls `numpyro.sample`.\n",
      "  warnings.warn(\n",
      "/lustre/isaac/scratch/upratius/projects/gpax/gpax/models/gp.py:119: UserWarning: `kernel_prior` will remain available for complex priors. However, for modifying only the lengthscales, it is recommended to use `lengthscale_prior_dist` instead. `lengthscale_prior_dist` accepts an instance of a numpyro.distributions Distribution object, e.g., `dist.Gamma(2, 5)`, rather than a function that calls `numpyro.sample`.\n",
      "  warnings.warn(\n",
      "sample: 100%|█| 4000/4000 [01:12<00:00, 55.34it/s, 1023 steps \n"
     ]
    },
    {
     "name": "stdout",
     "output_type": "stream",
     "text": [
      "\n",
      "                mean       std    median      5.0%     95.0%     n_eff     r_hat\n",
      "  k_length      0.69      0.00      0.69      0.69      0.69      2.53      3.18\n",
      "   k_scale    685.96      0.00    685.96    685.96    685.96      0.50      1.00\n",
      "     noise      0.01      0.00      0.01      0.01      0.01      0.50      1.00\n",
      "\n",
      "\n",
      "Step 3/5\n"
     ]
    },
    {
     "name": "stderr",
     "output_type": "stream",
     "text": [
      "/lustre/isaac/scratch/upratius/projects/gpax/gpax/models/gp.py:111: FutureWarning: `noise_prior` is deprecated and will be removed in a future version. Please use `noise_prior_dist` instead, which accepts an instance of a numpyro.distributions Distribution object, e.g., `dist.HalfNormal(scale=0.1)`, rather than a function that calls `numpyro.sample`.\n",
      "  warnings.warn(\n",
      "/lustre/isaac/scratch/upratius/projects/gpax/gpax/models/gp.py:119: UserWarning: `kernel_prior` will remain available for complex priors. However, for modifying only the lengthscales, it is recommended to use `lengthscale_prior_dist` instead. `lengthscale_prior_dist` accepts an instance of a numpyro.distributions Distribution object, e.g., `dist.Gamma(2, 5)`, rather than a function that calls `numpyro.sample`.\n",
      "  warnings.warn(\n",
      "sample: 100%|█| 4000/4000 [01:02<00:00, 64.02it/s, 1023 steps \n"
     ]
    },
    {
     "name": "stdout",
     "output_type": "stream",
     "text": [
      "\n",
      "                mean       std    median      5.0%     95.0%     n_eff     r_hat\n",
      "  k_length      0.69      0.00      0.69      0.69      0.69      2.88      2.15\n",
      "   k_scale     65.58      0.00     65.58     65.58     65.58      0.50      1.00\n",
      "     noise      0.01      0.00      0.01      0.01      0.01      0.50      1.00\n",
      "\n",
      "\n",
      "Step 4/5\n"
     ]
    },
    {
     "name": "stderr",
     "output_type": "stream",
     "text": [
      "/lustre/isaac/scratch/upratius/projects/gpax/gpax/models/gp.py:111: FutureWarning: `noise_prior` is deprecated and will be removed in a future version. Please use `noise_prior_dist` instead, which accepts an instance of a numpyro.distributions Distribution object, e.g., `dist.HalfNormal(scale=0.1)`, rather than a function that calls `numpyro.sample`.\n",
      "  warnings.warn(\n",
      "/lustre/isaac/scratch/upratius/projects/gpax/gpax/models/gp.py:119: UserWarning: `kernel_prior` will remain available for complex priors. However, for modifying only the lengthscales, it is recommended to use `lengthscale_prior_dist` instead. `lengthscale_prior_dist` accepts an instance of a numpyro.distributions Distribution object, e.g., `dist.Gamma(2, 5)`, rather than a function that calls `numpyro.sample`.\n",
      "  warnings.warn(\n",
      "sample: 100%|█| 4000/4000 [01:12<00:00, 55.18it/s, 1023 steps \n"
     ]
    },
    {
     "name": "stdout",
     "output_type": "stream",
     "text": [
      "\n",
      "                mean       std    median      5.0%     95.0%     n_eff     r_hat\n",
      "  k_length      0.70      0.00      0.70      0.70      0.70      3.08      2.58\n",
      "   k_scale    158.34      0.00    158.34    158.34    158.34       nan       nan\n",
      "     noise      0.01      0.00      0.01      0.01      0.01      0.50      1.00\n",
      "\n",
      "\n",
      "Step 5/5\n"
     ]
    },
    {
     "name": "stderr",
     "output_type": "stream",
     "text": [
      "/lustre/isaac/scratch/upratius/projects/gpax/gpax/models/gp.py:111: FutureWarning: `noise_prior` is deprecated and will be removed in a future version. Please use `noise_prior_dist` instead, which accepts an instance of a numpyro.distributions Distribution object, e.g., `dist.HalfNormal(scale=0.1)`, rather than a function that calls `numpyro.sample`.\n",
      "  warnings.warn(\n",
      "/lustre/isaac/scratch/upratius/projects/gpax/gpax/models/gp.py:119: UserWarning: `kernel_prior` will remain available for complex priors. However, for modifying only the lengthscales, it is recommended to use `lengthscale_prior_dist` instead. `lengthscale_prior_dist` accepts an instance of a numpyro.distributions Distribution object, e.g., `dist.Gamma(2, 5)`, rather than a function that calls `numpyro.sample`.\n",
      "  warnings.warn(\n",
      "sample: 100%|█| 4000/4000 [01:17<00:00, 51.64it/s, 1023 steps \n"
     ]
    },
    {
     "name": "stdout",
     "output_type": "stream",
     "text": [
      "\n",
      "                mean       std    median      5.0%     95.0%     n_eff     r_hat\n",
      "  k_length      0.67      0.00      0.67      0.67      0.67      0.50      1.00\n",
      "   k_scale    437.95      0.00    437.95    437.95    437.95      0.50      1.00\n",
      "     noise      0.01      0.00      0.01      0.01      0.01      0.50      1.00\n",
      "\n",
      "    Seed  n_init  Noise_Level        MSE Average_Uncertainty\n",
      "0      1      10         0.00  206665.11            4.705776\n",
      "1      1      10         0.01  206703.03           1.1732969\n",
      "2      1      10         0.10  206704.39           1.4820279\n",
      "3      1      10         0.50  206695.95           1.1728493\n",
      "4      1      15         0.00  206429.17            4.312067\n",
      "5      1      15         0.01  206703.86                 nan\n",
      "6      1      15         0.10  206194.23           41.119843\n",
      "7      1      15         0.50  206438.97                 nan\n",
      "8      1      20         0.00   204810.6                 nan\n",
      "9      1      20         0.01  204980.75           3.6358469\n",
      "10     1      20         0.10  205313.08            9.566991\n",
      "11     1      20         0.50  205050.28                 nan\n",
      "12     2      10         0.00   206827.7                 nan\n",
      "13     2      10         0.01  206230.03                 nan\n",
      "14     2      10         0.10   206634.8                 nan\n",
      "15     2      10         0.50  206980.36                 nan\n",
      "16     2      15         0.00   204085.3                 nan\n",
      "17     2      15         0.01   204540.2                 nan\n",
      "18     2      15         0.10  202565.88                 nan\n",
      "19     2      15         0.50  205339.92                 nan\n",
      "20     2      20         0.00  200644.86                 nan\n",
      "21     2      20         0.01   201124.2                 nan\n",
      "22     2      20         0.10  200712.36                 nan\n",
      "23     2      20         0.50  201804.08                 nan\n",
      "24     3      10         0.00  205953.39                 nan\n",
      "25     3      10         0.01  205981.02                 nan\n",
      "26     3      10         0.10  206296.47                 nan\n",
      "27     3      10         0.50  205876.56                 nan\n",
      "28     3      15         0.00  202675.38                 nan\n",
      "29     3      15         0.01  202699.94                 nan\n",
      "30     3      15         0.10  202658.06                 nan\n",
      "31     3      15         0.50  202984.28                 nan\n",
      "32     3      20         0.00  201440.75                 nan\n",
      "33     3      20         0.01  201990.44                 nan\n",
      "34     3      20         0.10  203485.16                 nan\n",
      "35     3      20         0.50  201839.02                 nan\n"
     ]
    }
   ],
   "source": [
    "# Define your parameter space\n",
    "seeds = [1, 2, 3]\n",
    "n_inits = [10, 15, 20]\n",
    "noise_levels = [0, 0.01, 0.1, 0.5]\n",
    "\n",
    "# Assuming create_data and run_gp functions are defined elsewhere\n",
    "\n",
    "# Run the grid search\n",
    "results_df = grid_search(seeds, n_inits, noise_levels)\n",
    "\n",
    "# Display the results DataFrame\n",
    "print(results_df)"
   ]
  },
  {
   "cell_type": "code",
   "execution_count": null,
   "id": "5cd33131",
   "metadata": {},
   "outputs": [],
   "source": [
    "results_df.to_csv('grid_search_results.csv', index=False)"
   ]
  },
  {
   "cell_type": "code",
   "execution_count": 49,
   "id": "46f6f5b0",
   "metadata": {},
   "outputs": [
    {
     "data": {
      "text/html": [
       "<div>\n",
       "<style scoped>\n",
       "    .dataframe tbody tr th:only-of-type {\n",
       "        vertical-align: middle;\n",
       "    }\n",
       "\n",
       "    .dataframe tbody tr th {\n",
       "        vertical-align: top;\n",
       "    }\n",
       "\n",
       "    .dataframe thead th {\n",
       "        text-align: right;\n",
       "    }\n",
       "</style>\n",
       "<table border=\"1\" class=\"dataframe\">\n",
       "  <thead>\n",
       "    <tr style=\"text-align: right;\">\n",
       "      <th></th>\n",
       "      <th>Seed</th>\n",
       "      <th>n_init</th>\n",
       "      <th>Noise_Level</th>\n",
       "      <th>MSE</th>\n",
       "      <th>Average_Uncertainty</th>\n",
       "    </tr>\n",
       "  </thead>\n",
       "  <tbody>\n",
       "    <tr>\n",
       "      <th>0</th>\n",
       "      <td>1</td>\n",
       "      <td>10</td>\n",
       "      <td>0.00</td>\n",
       "      <td>206665.11</td>\n",
       "      <td>4.705776</td>\n",
       "    </tr>\n",
       "    <tr>\n",
       "      <th>1</th>\n",
       "      <td>1</td>\n",
       "      <td>10</td>\n",
       "      <td>0.01</td>\n",
       "      <td>206703.03</td>\n",
       "      <td>1.1732969</td>\n",
       "    </tr>\n",
       "    <tr>\n",
       "      <th>2</th>\n",
       "      <td>1</td>\n",
       "      <td>10</td>\n",
       "      <td>0.10</td>\n",
       "      <td>206704.39</td>\n",
       "      <td>1.4820279</td>\n",
       "    </tr>\n",
       "    <tr>\n",
       "      <th>3</th>\n",
       "      <td>1</td>\n",
       "      <td>10</td>\n",
       "      <td>0.50</td>\n",
       "      <td>206695.95</td>\n",
       "      <td>1.1728493</td>\n",
       "    </tr>\n",
       "    <tr>\n",
       "      <th>4</th>\n",
       "      <td>1</td>\n",
       "      <td>15</td>\n",
       "      <td>0.00</td>\n",
       "      <td>206429.17</td>\n",
       "      <td>4.312067</td>\n",
       "    </tr>\n",
       "    <tr>\n",
       "      <th>5</th>\n",
       "      <td>1</td>\n",
       "      <td>15</td>\n",
       "      <td>0.01</td>\n",
       "      <td>206703.86</td>\n",
       "      <td>nan</td>\n",
       "    </tr>\n",
       "    <tr>\n",
       "      <th>6</th>\n",
       "      <td>1</td>\n",
       "      <td>15</td>\n",
       "      <td>0.10</td>\n",
       "      <td>206194.23</td>\n",
       "      <td>41.119843</td>\n",
       "    </tr>\n",
       "    <tr>\n",
       "      <th>7</th>\n",
       "      <td>1</td>\n",
       "      <td>15</td>\n",
       "      <td>0.50</td>\n",
       "      <td>206438.97</td>\n",
       "      <td>nan</td>\n",
       "    </tr>\n",
       "    <tr>\n",
       "      <th>8</th>\n",
       "      <td>1</td>\n",
       "      <td>20</td>\n",
       "      <td>0.00</td>\n",
       "      <td>204810.6</td>\n",
       "      <td>nan</td>\n",
       "    </tr>\n",
       "    <tr>\n",
       "      <th>9</th>\n",
       "      <td>1</td>\n",
       "      <td>20</td>\n",
       "      <td>0.01</td>\n",
       "      <td>204980.75</td>\n",
       "      <td>3.6358469</td>\n",
       "    </tr>\n",
       "    <tr>\n",
       "      <th>10</th>\n",
       "      <td>1</td>\n",
       "      <td>20</td>\n",
       "      <td>0.10</td>\n",
       "      <td>205313.08</td>\n",
       "      <td>9.566991</td>\n",
       "    </tr>\n",
       "    <tr>\n",
       "      <th>11</th>\n",
       "      <td>1</td>\n",
       "      <td>20</td>\n",
       "      <td>0.50</td>\n",
       "      <td>205050.28</td>\n",
       "      <td>nan</td>\n",
       "    </tr>\n",
       "    <tr>\n",
       "      <th>12</th>\n",
       "      <td>2</td>\n",
       "      <td>10</td>\n",
       "      <td>0.00</td>\n",
       "      <td>206827.7</td>\n",
       "      <td>nan</td>\n",
       "    </tr>\n",
       "    <tr>\n",
       "      <th>13</th>\n",
       "      <td>2</td>\n",
       "      <td>10</td>\n",
       "      <td>0.01</td>\n",
       "      <td>206230.03</td>\n",
       "      <td>nan</td>\n",
       "    </tr>\n",
       "    <tr>\n",
       "      <th>14</th>\n",
       "      <td>2</td>\n",
       "      <td>10</td>\n",
       "      <td>0.10</td>\n",
       "      <td>206634.8</td>\n",
       "      <td>nan</td>\n",
       "    </tr>\n",
       "    <tr>\n",
       "      <th>15</th>\n",
       "      <td>2</td>\n",
       "      <td>10</td>\n",
       "      <td>0.50</td>\n",
       "      <td>206980.36</td>\n",
       "      <td>nan</td>\n",
       "    </tr>\n",
       "    <tr>\n",
       "      <th>16</th>\n",
       "      <td>2</td>\n",
       "      <td>15</td>\n",
       "      <td>0.00</td>\n",
       "      <td>204085.3</td>\n",
       "      <td>nan</td>\n",
       "    </tr>\n",
       "    <tr>\n",
       "      <th>17</th>\n",
       "      <td>2</td>\n",
       "      <td>15</td>\n",
       "      <td>0.01</td>\n",
       "      <td>204540.2</td>\n",
       "      <td>nan</td>\n",
       "    </tr>\n",
       "    <tr>\n",
       "      <th>18</th>\n",
       "      <td>2</td>\n",
       "      <td>15</td>\n",
       "      <td>0.10</td>\n",
       "      <td>202565.88</td>\n",
       "      <td>nan</td>\n",
       "    </tr>\n",
       "    <tr>\n",
       "      <th>19</th>\n",
       "      <td>2</td>\n",
       "      <td>15</td>\n",
       "      <td>0.50</td>\n",
       "      <td>205339.92</td>\n",
       "      <td>nan</td>\n",
       "    </tr>\n",
       "    <tr>\n",
       "      <th>20</th>\n",
       "      <td>2</td>\n",
       "      <td>20</td>\n",
       "      <td>0.00</td>\n",
       "      <td>200644.86</td>\n",
       "      <td>nan</td>\n",
       "    </tr>\n",
       "    <tr>\n",
       "      <th>21</th>\n",
       "      <td>2</td>\n",
       "      <td>20</td>\n",
       "      <td>0.01</td>\n",
       "      <td>201124.2</td>\n",
       "      <td>nan</td>\n",
       "    </tr>\n",
       "    <tr>\n",
       "      <th>22</th>\n",
       "      <td>2</td>\n",
       "      <td>20</td>\n",
       "      <td>0.10</td>\n",
       "      <td>200712.36</td>\n",
       "      <td>nan</td>\n",
       "    </tr>\n",
       "    <tr>\n",
       "      <th>23</th>\n",
       "      <td>2</td>\n",
       "      <td>20</td>\n",
       "      <td>0.50</td>\n",
       "      <td>201804.08</td>\n",
       "      <td>nan</td>\n",
       "    </tr>\n",
       "    <tr>\n",
       "      <th>24</th>\n",
       "      <td>3</td>\n",
       "      <td>10</td>\n",
       "      <td>0.00</td>\n",
       "      <td>205953.39</td>\n",
       "      <td>nan</td>\n",
       "    </tr>\n",
       "    <tr>\n",
       "      <th>25</th>\n",
       "      <td>3</td>\n",
       "      <td>10</td>\n",
       "      <td>0.01</td>\n",
       "      <td>205981.02</td>\n",
       "      <td>nan</td>\n",
       "    </tr>\n",
       "    <tr>\n",
       "      <th>26</th>\n",
       "      <td>3</td>\n",
       "      <td>10</td>\n",
       "      <td>0.10</td>\n",
       "      <td>206296.47</td>\n",
       "      <td>nan</td>\n",
       "    </tr>\n",
       "    <tr>\n",
       "      <th>27</th>\n",
       "      <td>3</td>\n",
       "      <td>10</td>\n",
       "      <td>0.50</td>\n",
       "      <td>205876.56</td>\n",
       "      <td>nan</td>\n",
       "    </tr>\n",
       "    <tr>\n",
       "      <th>28</th>\n",
       "      <td>3</td>\n",
       "      <td>15</td>\n",
       "      <td>0.00</td>\n",
       "      <td>202675.38</td>\n",
       "      <td>nan</td>\n",
       "    </tr>\n",
       "    <tr>\n",
       "      <th>29</th>\n",
       "      <td>3</td>\n",
       "      <td>15</td>\n",
       "      <td>0.01</td>\n",
       "      <td>202699.94</td>\n",
       "      <td>nan</td>\n",
       "    </tr>\n",
       "    <tr>\n",
       "      <th>30</th>\n",
       "      <td>3</td>\n",
       "      <td>15</td>\n",
       "      <td>0.10</td>\n",
       "      <td>202658.06</td>\n",
       "      <td>nan</td>\n",
       "    </tr>\n",
       "    <tr>\n",
       "      <th>31</th>\n",
       "      <td>3</td>\n",
       "      <td>15</td>\n",
       "      <td>0.50</td>\n",
       "      <td>202984.28</td>\n",
       "      <td>nan</td>\n",
       "    </tr>\n",
       "    <tr>\n",
       "      <th>32</th>\n",
       "      <td>3</td>\n",
       "      <td>20</td>\n",
       "      <td>0.00</td>\n",
       "      <td>201440.75</td>\n",
       "      <td>nan</td>\n",
       "    </tr>\n",
       "    <tr>\n",
       "      <th>33</th>\n",
       "      <td>3</td>\n",
       "      <td>20</td>\n",
       "      <td>0.01</td>\n",
       "      <td>201990.44</td>\n",
       "      <td>nan</td>\n",
       "    </tr>\n",
       "    <tr>\n",
       "      <th>34</th>\n",
       "      <td>3</td>\n",
       "      <td>20</td>\n",
       "      <td>0.10</td>\n",
       "      <td>203485.16</td>\n",
       "      <td>nan</td>\n",
       "    </tr>\n",
       "    <tr>\n",
       "      <th>35</th>\n",
       "      <td>3</td>\n",
       "      <td>20</td>\n",
       "      <td>0.50</td>\n",
       "      <td>201839.02</td>\n",
       "      <td>nan</td>\n",
       "    </tr>\n",
       "  </tbody>\n",
       "</table>\n",
       "</div>"
      ],
      "text/plain": [
       "    Seed  n_init  Noise_Level        MSE Average_Uncertainty\n",
       "0      1      10         0.00  206665.11            4.705776\n",
       "1      1      10         0.01  206703.03           1.1732969\n",
       "2      1      10         0.10  206704.39           1.4820279\n",
       "3      1      10         0.50  206695.95           1.1728493\n",
       "4      1      15         0.00  206429.17            4.312067\n",
       "5      1      15         0.01  206703.86                 nan\n",
       "6      1      15         0.10  206194.23           41.119843\n",
       "7      1      15         0.50  206438.97                 nan\n",
       "8      1      20         0.00   204810.6                 nan\n",
       "9      1      20         0.01  204980.75           3.6358469\n",
       "10     1      20         0.10  205313.08            9.566991\n",
       "11     1      20         0.50  205050.28                 nan\n",
       "12     2      10         0.00   206827.7                 nan\n",
       "13     2      10         0.01  206230.03                 nan\n",
       "14     2      10         0.10   206634.8                 nan\n",
       "15     2      10         0.50  206980.36                 nan\n",
       "16     2      15         0.00   204085.3                 nan\n",
       "17     2      15         0.01   204540.2                 nan\n",
       "18     2      15         0.10  202565.88                 nan\n",
       "19     2      15         0.50  205339.92                 nan\n",
       "20     2      20         0.00  200644.86                 nan\n",
       "21     2      20         0.01   201124.2                 nan\n",
       "22     2      20         0.10  200712.36                 nan\n",
       "23     2      20         0.50  201804.08                 nan\n",
       "24     3      10         0.00  205953.39                 nan\n",
       "25     3      10         0.01  205981.02                 nan\n",
       "26     3      10         0.10  206296.47                 nan\n",
       "27     3      10         0.50  205876.56                 nan\n",
       "28     3      15         0.00  202675.38                 nan\n",
       "29     3      15         0.01  202699.94                 nan\n",
       "30     3      15         0.10  202658.06                 nan\n",
       "31     3      15         0.50  202984.28                 nan\n",
       "32     3      20         0.00  201440.75                 nan\n",
       "33     3      20         0.01  201990.44                 nan\n",
       "34     3      20         0.10  203485.16                 nan\n",
       "35     3      20         0.50  201839.02                 nan"
      ]
     },
     "execution_count": 49,
     "metadata": {},
     "output_type": "execute_result"
    }
   ],
   "source": [
    "results_df"
   ]
  },
  {
   "cell_type": "code",
   "execution_count": null,
   "id": "373fb5c5",
   "metadata": {},
   "outputs": [],
   "source": []
  }
 ],
 "metadata": {
  "kernelspec": {
   "display_name": "Python [conda env:.conda-gpax_hae]",
   "language": "python",
   "name": "conda-env-.conda-gpax_hae-py"
  },
  "language_info": {
   "codemirror_mode": {
    "name": "ipython",
    "version": 3
   },
   "file_extension": ".py",
   "mimetype": "text/x-python",
   "name": "python",
   "nbconvert_exporter": "python",
   "pygments_lexer": "ipython3",
   "version": "3.10.0"
  },
  "varInspector": {
   "cols": {
    "lenName": 16,
    "lenType": 16,
    "lenVar": 40
   },
   "kernels_config": {
    "python": {
     "delete_cmd_postfix": "",
     "delete_cmd_prefix": "del ",
     "library": "var_list.py",
     "varRefreshCmd": "print(var_dic_list())"
    },
    "r": {
     "delete_cmd_postfix": ") ",
     "delete_cmd_prefix": "rm(",
     "library": "var_list.r",
     "varRefreshCmd": "cat(var_dic_list()) "
    }
   },
   "types_to_exclude": [
    "module",
    "function",
    "builtin_function_or_method",
    "instance",
    "_Feature"
   ],
   "window_display": false
  }
 },
 "nbformat": 4,
 "nbformat_minor": 5
}
