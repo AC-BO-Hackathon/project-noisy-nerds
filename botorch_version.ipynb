{
 "cells": [
  {
   "cell_type": "code",
   "execution_count": 2,
   "id": "f57ee6a8",
   "metadata": {},
   "outputs": [],
   "source": [
    "# ! pip install botorch gpytorch\n"
   ]
  },
  {
   "cell_type": "code",
   "execution_count": 4,
   "id": "5c34ef68",
   "metadata": {},
   "outputs": [],
   "source": [
    "import numpyro\n",
    "import numpy as np"
   ]
  },
  {
   "cell_type": "code",
   "execution_count": 5,
   "id": "02c76902",
   "metadata": {},
   "outputs": [],
   "source": [
    "\n",
    "\n",
    "def schwefel_1d(x):\n",
    "\n",
    "    return 418.9829  - x * np.sin(np.sqrt(np.abs(x)))\n",
    "\n",
    "def schwefel_nd(args):\n",
    "    output = 0\n",
    "    \n",
    "    for dim in range(args):\n",
    "        output += schwefel_1d(args[dim])\n",
    "\n",
    "def add_gaussian_noise(signal, noise_level):\n",
    "\n",
    "    return signal + np.random.normal(0, noise_level, 1)[0]\n",
    "\n",
    "def schwefel_1d_with_noise(x, noise_level = 0.01):\n",
    "    # Calculate the Schwefel function value\n",
    "\n",
    "    schwefel_value = schwefel_1d(x)\n",
    "\n",
    "    # Add Gaussian noise to the Schwefel function value\n",
    "\n",
    "    noisy_schwefel_value = add_gaussian_noise(schwefel_value, noise_level)\n",
    "\n",
    "    return noisy_schwefel_value\n",
    "\n",
    "def schwefel_nd_with_noise(args, noise_level = 0.01):\n",
    "    # Calculate the Schwefel function value\n",
    "\n",
    "    schwefel_value = schwefel_nd(args)\n",
    "\n",
    "    # Add Gaussian noise to the Schwefel function value\n",
    "\n",
    "    noisy_schwefel_value = add_gaussian_noise(schwefel_value, noise_level)\n",
    "\n",
    "    return noisy_schwefel_value\n",
    "\n",
    "\n"
   ]
  },
  {
   "cell_type": "code",
   "execution_count": 52,
   "id": "40045ab7",
   "metadata": {},
   "outputs": [],
   "source": [
    "\n",
    "def create_data(seed, n_init, noise_level):\n",
    "\n",
    "    np.random.seed(seed)\n",
    "    X_bounds = np.array([-500,  500])\n",
    "    X = np.random.uniform(X_bounds[0], X_bounds[1], size=( n_init,))\n",
    "    X = np.append(X, X_bounds)\n",
    "    X = np.sort(X)\n",
    "    y = schwefel_1d_with_noise(X, noise_level = noise_level)\n",
    "\n",
    "    X_unmeasured = np.linspace(X_bounds[0], X_bounds[1], 200)\n",
    "    ground_truth = schwefel_1d_with_noise(X_unmeasured, noise_level = 0)\n",
    "    \n",
    "    return X.reshape(-1,1), y.reshape(-1,1), X_unmeasured.reshape(-1,1), ground_truth.reshape(-1,1)\n"
   ]
  },
  {
   "cell_type": "code",
   "execution_count": 82,
   "id": "039fd0e6",
   "metadata": {},
   "outputs": [],
   "source": [
    "import torch\n",
    "from botorch.models import SingleTaskGP\n",
    "from botorch.fit import fit_gpytorch_model\n",
    "from gpytorch.mlls import ExactMarginalLogLikelihood\n",
    "from botorch.acquisition import ExpectedImprovement\n",
    "from gpytorch.distributions import MultivariateNormal\n",
    "import gpytorch\n",
    "\n",
    "def step(X_measured, y_measured, X_unmeasured):\n",
    "    # Convert data to tensors\n",
    "    \n",
    "    \n",
    "    # Initialize GP model\n",
    "#     print(X_measured.shape, y_measured.unsqueeze(-1).shape)\n",
    "    gp_model = SingleTaskGP(torch.tensor(X_measured), torch.tensor(y_measured))\n",
    "    \n",
    "    # Fit GP model\n",
    "    mll = ExactMarginalLogLikelihood(gp_model.likelihood, gp_model)\n",
    "    fit_gpytorch_model(mll)\n",
    "    \n",
    "    # Predict on unmeasured data\n",
    "    gp_model.eval()\n",
    "    with torch.no_grad(), gpytorch.settings.fast_pred_var():\n",
    "        posterior = gp_model(torch.tensor(X_unmeasured))\n",
    "        # For visualization or further processing, you can obtain mean and variance\n",
    "        y_pred = posterior.mean\n",
    "        y_sampled = posterior.variance.sqrt()\n",
    "    \n",
    "    # Compute acquisition function (Expected Improvement here)\n",
    "    EI = ExpectedImprovement(model=gp_model, best_f=y_measured.max(), maximize=True)\n",
    "    acq_values = EI(X_unmeasured.unsqueeze(-2))\n",
    "    \n",
    "    return acq_values, (y_pred, y_sampled)\n"
   ]
  },
  {
   "cell_type": "code",
   "execution_count": 83,
   "id": "bd51843c",
   "metadata": {},
   "outputs": [],
   "source": [
    "import numpy as np\n",
    "\n",
    "def run_gp(num_steps, X, y, X_unmeasured, ground_truth, schwefel_1d_with_noise, noise_level):\n",
    "    X = torch.tensor(X)\n",
    "    y = torch.tensor(y)\n",
    "    X_unmeasured = torch.tensor(X_unmeasured)\n",
    "    ground_truth = torch.tensor(ground_truth)\n",
    "    \n",
    "    for e in range(num_steps):\n",
    "        print(f\"\\nStep {e+1}/{num_steps}\")\n",
    "        # Compute acquisition function and get predictions\n",
    "        acq, (y_pred, y_sampled) = step(X, y, X_unmeasured)\n",
    "        \n",
    "        # Get the next point to evaluate\n",
    "        idx = acq.argmax()  # Use argmax since EI maximizes the acquisition\n",
    "        next_point = X_unmeasured[idx]\n",
    "        \n",
    "        # Measure the point\n",
    "        next_point_value = schwefel_1d_with_noise(next_point.numpy(), noise_level)\n",
    "        \n",
    "        # Update measured data\n",
    "        X = torch.cat([X, next_point.unsqueeze(0)], dim=0)\n",
    "        y = torch.cat([y, torch.tensor([next_point_value], dtype=torch.float)], dim=0)\n",
    "    \n",
    "    # Calculate metrics after the loop\n",
    "    mse = torch.mean((y_pred - ground_truth) ** 2).item()\n",
    "    average_uncertainty = torch.mean(y_sampled).item()\n",
    "    \n",
    "    return mse, average_uncertainty\n"
   ]
  },
  {
   "cell_type": "code",
   "execution_count": 84,
   "id": "e351421a",
   "metadata": {},
   "outputs": [],
   "source": [
    "import itertools\n",
    "import pandas as pd\n",
    "\n",
    "def grid_search(seeds, n_inits, noise_levels):\n",
    "    results = []  # Initialize an empty list to store results\n",
    "\n",
    "    # Iterate over all combinations of seeds, n_inits, and noise_levels\n",
    "    for seed, n_init, noise_level in itertools.product(seeds, n_inits, noise_levels):\n",
    "        print(f\"Seed: {seed}, n_init: {n_init}, Noise Level: {noise_level}\")\n",
    "        \n",
    "        # Create data for the current combination\n",
    "        X, y, X_unmeasured, ground_truth = create_data(seed, n_init, noise_level)\n",
    "        print(X.shape)  # Should be [n, d] where d is the number of dimensions/features\n",
    "        print(y.shape) \n",
    "        # Run Gaussian Process (GP) optimization/modeling for the current combination\n",
    "        mse, average_uncertainty = run_gp(5, X, y, X_unmeasured, ground_truth, schwefel_1d_with_noise, noise_level)\n",
    "        \n",
    "        # Collect the results\n",
    "        results.append({\n",
    "            \"Seed\": seed,\n",
    "            \"n_init\": n_init,\n",
    "            \"Noise_Level\": noise_level,\n",
    "            \"MSE\": mse,\n",
    "            \"Average_Uncertainty\": average_uncertainty\n",
    "        })\n",
    "\n",
    "    # Convert the results to a pandas DataFrame for easy analysis and reporting\n",
    "    results_df = pd.DataFrame(results)\n",
    "    \n",
    "    return results_df\n",
    "\n",
    "\n"
   ]
  },
  {
   "cell_type": "code",
   "execution_count": 85,
   "id": "a6d4b4ec",
   "metadata": {},
   "outputs": [
    {
     "name": "stdout",
     "output_type": "stream",
     "text": [
      "Seed: 1, n_init: 10, Noise Level: 0\n",
      "(12, 1)\n",
      "(12, 1)\n",
      "\n",
      "Step 1/5\n"
     ]
    },
    {
     "name": "stderr",
     "output_type": "stream",
     "text": [
      "/tmp/ipykernel_1292286/1166517645.py:15: UserWarning: To copy construct from a tensor, it is recommended to use sourceTensor.clone().detach() or sourceTensor.clone().detach().requires_grad_(True), rather than torch.tensor(sourceTensor).\n",
      "  gp_model = SingleTaskGP(torch.tensor(X_measured), torch.tensor(y_measured))\n",
      "/nfs/home/upratius/.conda/envs/gpax_hae/lib/python3.10/site-packages/botorch/models/utils/assorted.py:174: InputDataWarning: Input data is not contained to the unit cube. Please consider min-max scaling the input data.\n",
      "  warnings.warn(msg, InputDataWarning)\n",
      "/nfs/home/upratius/.conda/envs/gpax_hae/lib/python3.10/site-packages/botorch/models/utils/assorted.py:202: InputDataWarning: Input data is not standardized (mean = tensor([408.9969], dtype=torch.float64), std = tensor([192.5982], dtype=torch.float64)). Please consider scaling the input to zero mean and unit variance.\n",
      "  warnings.warn(msg, InputDataWarning)\n",
      "/tmp/ipykernel_1292286/1166517645.py:24: UserWarning: To copy construct from a tensor, it is recommended to use sourceTensor.clone().detach() or sourceTensor.clone().detach().requires_grad_(True), rather than torch.tensor(sourceTensor).\n",
      "  posterior = gp_model(torch.tensor(X_unmeasured))\n",
      "/tmp/ipykernel_1292286/2749167649.py:23: UserWarning: Creating a tensor from a list of numpy.ndarrays is extremely slow. Please consider converting the list to a single numpy.ndarray with numpy.array() before converting to a tensor. (Triggered internally at ../torch/csrc/utils/tensor_new.cpp:261.)\n",
      "  y = torch.cat([y, torch.tensor([next_point_value], dtype=torch.float)], dim=0)\n",
      "/tmp/ipykernel_1292286/1166517645.py:15: UserWarning: To copy construct from a tensor, it is recommended to use sourceTensor.clone().detach() or sourceTensor.clone().detach().requires_grad_(True), rather than torch.tensor(sourceTensor).\n",
      "  gp_model = SingleTaskGP(torch.tensor(X_measured), torch.tensor(y_measured))\n",
      "/nfs/home/upratius/.conda/envs/gpax_hae/lib/python3.10/site-packages/botorch/models/utils/assorted.py:174: InputDataWarning: Input data is not contained to the unit cube. Please consider min-max scaling the input data.\n",
      "  warnings.warn(msg, InputDataWarning)\n",
      "/nfs/home/upratius/.conda/envs/gpax_hae/lib/python3.10/site-packages/botorch/models/utils/assorted.py:202: InputDataWarning: Input data is not standardized (mean = tensor([425.0158], dtype=torch.float64), std = tensor([193.2324], dtype=torch.float64)). Please consider scaling the input to zero mean and unit variance.\n",
      "  warnings.warn(msg, InputDataWarning)\n",
      "/tmp/ipykernel_1292286/1166517645.py:24: UserWarning: To copy construct from a tensor, it is recommended to use sourceTensor.clone().detach() or sourceTensor.clone().detach().requires_grad_(True), rather than torch.tensor(sourceTensor).\n",
      "  posterior = gp_model(torch.tensor(X_unmeasured))\n",
      "/tmp/ipykernel_1292286/1166517645.py:15: UserWarning: To copy construct from a tensor, it is recommended to use sourceTensor.clone().detach() or sourceTensor.clone().detach().requires_grad_(True), rather than torch.tensor(sourceTensor).\n",
      "  gp_model = SingleTaskGP(torch.tensor(X_measured), torch.tensor(y_measured))\n",
      "/nfs/home/upratius/.conda/envs/gpax_hae/lib/python3.10/site-packages/botorch/models/utils/assorted.py:174: InputDataWarning: Input data is not contained to the unit cube. Please consider min-max scaling the input data.\n",
      "  warnings.warn(msg, InputDataWarning)\n",
      "/nfs/home/upratius/.conda/envs/gpax_hae/lib/python3.10/site-packages/botorch/models/utils/assorted.py:202: InputDataWarning: Input data is not standardized (mean = tensor([438.7463], dtype=torch.float64), std = tensor([192.6290], dtype=torch.float64)). Please consider scaling the input to zero mean and unit variance.\n",
      "  warnings.warn(msg, InputDataWarning)\n"
     ]
    },
    {
     "name": "stdout",
     "output_type": "stream",
     "text": [
      "\n",
      "Step 2/5\n",
      "\n",
      "Step 3/5\n"
     ]
    },
    {
     "name": "stderr",
     "output_type": "stream",
     "text": [
      "/tmp/ipykernel_1292286/1166517645.py:24: UserWarning: To copy construct from a tensor, it is recommended to use sourceTensor.clone().detach() or sourceTensor.clone().detach().requires_grad_(True), rather than torch.tensor(sourceTensor).\n",
      "  posterior = gp_model(torch.tensor(X_unmeasured))\n",
      "/tmp/ipykernel_1292286/1166517645.py:15: UserWarning: To copy construct from a tensor, it is recommended to use sourceTensor.clone().detach() or sourceTensor.clone().detach().requires_grad_(True), rather than torch.tensor(sourceTensor).\n",
      "  gp_model = SingleTaskGP(torch.tensor(X_measured), torch.tensor(y_measured))\n",
      "/nfs/home/upratius/.conda/envs/gpax_hae/lib/python3.10/site-packages/botorch/models/utils/assorted.py:174: InputDataWarning: Input data is not contained to the unit cube. Please consider min-max scaling the input data.\n",
      "  warnings.warn(msg, InputDataWarning)\n",
      "/nfs/home/upratius/.conda/envs/gpax_hae/lib/python3.10/site-packages/botorch/models/utils/assorted.py:202: InputDataWarning: Input data is not standardized (mean = tensor([464.2757], dtype=torch.float64), std = tensor([210.3134], dtype=torch.float64)). Please consider scaling the input to zero mean and unit variance.\n",
      "  warnings.warn(msg, InputDataWarning)\n",
      "/tmp/ipykernel_1292286/1166517645.py:24: UserWarning: To copy construct from a tensor, it is recommended to use sourceTensor.clone().detach() or sourceTensor.clone().detach().requires_grad_(True), rather than torch.tensor(sourceTensor).\n",
      "  posterior = gp_model(torch.tensor(X_unmeasured))\n"
     ]
    },
    {
     "name": "stdout",
     "output_type": "stream",
     "text": [
      "\n",
      "Step 4/5\n",
      "\n",
      "Step 5/5\n",
      "Seed: 1, n_init: 10, Noise Level: 0.01\n",
      "(12, 1)\n",
      "(12, 1)\n",
      "\n",
      "Step 1/5\n"
     ]
    },
    {
     "name": "stderr",
     "output_type": "stream",
     "text": [
      "/tmp/ipykernel_1292286/1166517645.py:15: UserWarning: To copy construct from a tensor, it is recommended to use sourceTensor.clone().detach() or sourceTensor.clone().detach().requires_grad_(True), rather than torch.tensor(sourceTensor).\n",
      "  gp_model = SingleTaskGP(torch.tensor(X_measured), torch.tensor(y_measured))\n",
      "/nfs/home/upratius/.conda/envs/gpax_hae/lib/python3.10/site-packages/botorch/models/utils/assorted.py:174: InputDataWarning: Input data is not contained to the unit cube. Please consider min-max scaling the input data.\n",
      "  warnings.warn(msg, InputDataWarning)\n",
      "/nfs/home/upratius/.conda/envs/gpax_hae/lib/python3.10/site-packages/botorch/models/utils/assorted.py:202: InputDataWarning: Input data is not standardized (mean = tensor([450.1581], dtype=torch.float64), std = tensor([210.8836], dtype=torch.float64)). Please consider scaling the input to zero mean and unit variance.\n",
      "  warnings.warn(msg, InputDataWarning)\n",
      "/tmp/ipykernel_1292286/1166517645.py:24: UserWarning: To copy construct from a tensor, it is recommended to use sourceTensor.clone().detach() or sourceTensor.clone().detach().requires_grad_(True), rather than torch.tensor(sourceTensor).\n",
      "  posterior = gp_model(torch.tensor(X_unmeasured))\n",
      "/tmp/ipykernel_1292286/1166517645.py:15: UserWarning: To copy construct from a tensor, it is recommended to use sourceTensor.clone().detach() or sourceTensor.clone().detach().requires_grad_(True), rather than torch.tensor(sourceTensor).\n",
      "  gp_model = SingleTaskGP(torch.tensor(X_measured), torch.tensor(y_measured))\n",
      "/nfs/home/upratius/.conda/envs/gpax_hae/lib/python3.10/site-packages/botorch/models/utils/assorted.py:174: InputDataWarning: Input data is not contained to the unit cube. Please consider min-max scaling the input data.\n",
      "  warnings.warn(msg, InputDataWarning)\n",
      "/nfs/home/upratius/.conda/envs/gpax_hae/lib/python3.10/site-packages/botorch/models/utils/assorted.py:202: InputDataWarning: Input data is not standardized (mean = tensor([409.0144], dtype=torch.float64), std = tensor([192.5982], dtype=torch.float64)). Please consider scaling the input to zero mean and unit variance.\n",
      "  warnings.warn(msg, InputDataWarning)\n",
      "/tmp/ipykernel_1292286/1166517645.py:24: UserWarning: To copy construct from a tensor, it is recommended to use sourceTensor.clone().detach() or sourceTensor.clone().detach().requires_grad_(True), rather than torch.tensor(sourceTensor).\n",
      "  posterior = gp_model(torch.tensor(X_unmeasured))\n",
      "/tmp/ipykernel_1292286/1166517645.py:15: UserWarning: To copy construct from a tensor, it is recommended to use sourceTensor.clone().detach() or sourceTensor.clone().detach().requires_grad_(True), rather than torch.tensor(sourceTensor).\n",
      "  gp_model = SingleTaskGP(torch.tensor(X_measured), torch.tensor(y_measured))\n",
      "/nfs/home/upratius/.conda/envs/gpax_hae/lib/python3.10/site-packages/botorch/models/utils/assorted.py:174: InputDataWarning: Input data is not contained to the unit cube. Please consider min-max scaling the input data.\n",
      "  warnings.warn(msg, InputDataWarning)\n",
      "/nfs/home/upratius/.conda/envs/gpax_hae/lib/python3.10/site-packages/botorch/models/utils/assorted.py:202: InputDataWarning: Input data is not standardized (mean = tensor([425.0322], dtype=torch.float64), std = tensor([193.2312], dtype=torch.float64)). Please consider scaling the input to zero mean and unit variance.\n",
      "  warnings.warn(msg, InputDataWarning)\n",
      "/tmp/ipykernel_1292286/1166517645.py:24: UserWarning: To copy construct from a tensor, it is recommended to use sourceTensor.clone().detach() or sourceTensor.clone().detach().requires_grad_(True), rather than torch.tensor(sourceTensor).\n",
      "  posterior = gp_model(torch.tensor(X_unmeasured))\n",
      "/tmp/ipykernel_1292286/1166517645.py:15: UserWarning: To copy construct from a tensor, it is recommended to use sourceTensor.clone().detach() or sourceTensor.clone().detach().requires_grad_(True), rather than torch.tensor(sourceTensor).\n",
      "  gp_model = SingleTaskGP(torch.tensor(X_measured), torch.tensor(y_measured))\n",
      "/nfs/home/upratius/.conda/envs/gpax_hae/lib/python3.10/site-packages/botorch/models/utils/assorted.py:174: InputDataWarning: Input data is not contained to the unit cube. Please consider min-max scaling the input data.\n",
      "  warnings.warn(msg, InputDataWarning)\n",
      "/nfs/home/upratius/.conda/envs/gpax_hae/lib/python3.10/site-packages/botorch/models/utils/assorted.py:202: InputDataWarning: Input data is not standardized (mean = tensor([411.7007], dtype=torch.float64), std = tensor([192.2351], dtype=torch.float64)). Please consider scaling the input to zero mean and unit variance.\n",
      "  warnings.warn(msg, InputDataWarning)\n"
     ]
    },
    {
     "name": "stdout",
     "output_type": "stream",
     "text": [
      "\n",
      "Step 2/5\n",
      "\n",
      "Step 3/5\n"
     ]
    },
    {
     "name": "stderr",
     "output_type": "stream",
     "text": [
      "/tmp/ipykernel_1292286/1166517645.py:24: UserWarning: To copy construct from a tensor, it is recommended to use sourceTensor.clone().detach() or sourceTensor.clone().detach().requires_grad_(True), rather than torch.tensor(sourceTensor).\n",
      "  posterior = gp_model(torch.tensor(X_unmeasured))\n",
      "/tmp/ipykernel_1292286/1166517645.py:15: UserWarning: To copy construct from a tensor, it is recommended to use sourceTensor.clone().detach() or sourceTensor.clone().detach().requires_grad_(True), rather than torch.tensor(sourceTensor).\n",
      "  gp_model = SingleTaskGP(torch.tensor(X_measured), torch.tensor(y_measured))\n",
      "/nfs/home/upratius/.conda/envs/gpax_hae/lib/python3.10/site-packages/botorch/models/utils/assorted.py:174: InputDataWarning: Input data is not contained to the unit cube. Please consider min-max scaling the input data.\n",
      "  warnings.warn(msg, InputDataWarning)\n",
      "/nfs/home/upratius/.conda/envs/gpax_hae/lib/python3.10/site-packages/botorch/models/utils/assorted.py:202: InputDataWarning: Input data is not standardized (mean = tensor([425.4045], dtype=torch.float64), std = tensor([192.6957], dtype=torch.float64)). Please consider scaling the input to zero mean and unit variance.\n",
      "  warnings.warn(msg, InputDataWarning)\n"
     ]
    },
    {
     "name": "stdout",
     "output_type": "stream",
     "text": [
      "\n",
      "Step 4/5\n"
     ]
    },
    {
     "name": "stderr",
     "output_type": "stream",
     "text": [
      "/tmp/ipykernel_1292286/1166517645.py:24: UserWarning: To copy construct from a tensor, it is recommended to use sourceTensor.clone().detach() or sourceTensor.clone().detach().requires_grad_(True), rather than torch.tensor(sourceTensor).\n",
      "  posterior = gp_model(torch.tensor(X_unmeasured))\n",
      "/tmp/ipykernel_1292286/1166517645.py:15: UserWarning: To copy construct from a tensor, it is recommended to use sourceTensor.clone().detach() or sourceTensor.clone().detach().requires_grad_(True), rather than torch.tensor(sourceTensor).\n",
      "  gp_model = SingleTaskGP(torch.tensor(X_measured), torch.tensor(y_measured))\n",
      "/nfs/home/upratius/.conda/envs/gpax_hae/lib/python3.10/site-packages/botorch/models/utils/assorted.py:174: InputDataWarning: Input data is not contained to the unit cube. Please consider min-max scaling the input data.\n",
      "  warnings.warn(msg, InputDataWarning)\n",
      "/nfs/home/upratius/.conda/envs/gpax_hae/lib/python3.10/site-packages/botorch/models/utils/assorted.py:202: InputDataWarning: Input data is not standardized (mean = tensor([413.7150], dtype=torch.float64), std = tensor([191.9440], dtype=torch.float64)). Please consider scaling the input to zero mean and unit variance.\n",
      "  warnings.warn(msg, InputDataWarning)\n"
     ]
    },
    {
     "name": "stdout",
     "output_type": "stream",
     "text": [
      "\n",
      "Step 5/5\n"
     ]
    },
    {
     "name": "stderr",
     "output_type": "stream",
     "text": [
      "/tmp/ipykernel_1292286/1166517645.py:24: UserWarning: To copy construct from a tensor, it is recommended to use sourceTensor.clone().detach() or sourceTensor.clone().detach().requires_grad_(True), rather than torch.tensor(sourceTensor).\n",
      "  posterior = gp_model(torch.tensor(X_unmeasured))\n",
      "/tmp/ipykernel_1292286/1166517645.py:15: UserWarning: To copy construct from a tensor, it is recommended to use sourceTensor.clone().detach() or sourceTensor.clone().detach().requires_grad_(True), rather than torch.tensor(sourceTensor).\n",
      "  gp_model = SingleTaskGP(torch.tensor(X_measured), torch.tensor(y_measured))\n",
      "/nfs/home/upratius/.conda/envs/gpax_hae/lib/python3.10/site-packages/botorch/models/utils/assorted.py:174: InputDataWarning: Input data is not contained to the unit cube. Please consider min-max scaling the input data.\n",
      "  warnings.warn(msg, InputDataWarning)\n",
      "/nfs/home/upratius/.conda/envs/gpax_hae/lib/python3.10/site-packages/botorch/models/utils/assorted.py:202: InputDataWarning: Input data is not standardized (mean = tensor([409.1714], dtype=torch.float64), std = tensor([192.5982], dtype=torch.float64)). Please consider scaling the input to zero mean and unit variance.\n",
      "  warnings.warn(msg, InputDataWarning)\n"
     ]
    },
    {
     "name": "stdout",
     "output_type": "stream",
     "text": [
      "Seed: 1, n_init: 10, Noise Level: 0.1\n",
      "(12, 1)\n",
      "(12, 1)\n",
      "\n",
      "Step 1/5\n"
     ]
    },
    {
     "name": "stderr",
     "output_type": "stream",
     "text": [
      "/tmp/ipykernel_1292286/1166517645.py:24: UserWarning: To copy construct from a tensor, it is recommended to use sourceTensor.clone().detach() or sourceTensor.clone().detach().requires_grad_(True), rather than torch.tensor(sourceTensor).\n",
      "  posterior = gp_model(torch.tensor(X_unmeasured))\n",
      "/tmp/ipykernel_1292286/1166517645.py:15: UserWarning: To copy construct from a tensor, it is recommended to use sourceTensor.clone().detach() or sourceTensor.clone().detach().requires_grad_(True), rather than torch.tensor(sourceTensor).\n",
      "  gp_model = SingleTaskGP(torch.tensor(X_measured), torch.tensor(y_measured))\n",
      "/nfs/home/upratius/.conda/envs/gpax_hae/lib/python3.10/site-packages/botorch/models/utils/assorted.py:174: InputDataWarning: Input data is not contained to the unit cube. Please consider min-max scaling the input data.\n",
      "  warnings.warn(msg, InputDataWarning)\n",
      "/nfs/home/upratius/.conda/envs/gpax_hae/lib/python3.10/site-packages/botorch/models/utils/assorted.py:202: InputDataWarning: Input data is not standardized (mean = tensor([425.1794], dtype=torch.float64), std = tensor([193.2206], dtype=torch.float64)). Please consider scaling the input to zero mean and unit variance.\n",
      "  warnings.warn(msg, InputDataWarning)\n",
      "/tmp/ipykernel_1292286/1166517645.py:24: UserWarning: To copy construct from a tensor, it is recommended to use sourceTensor.clone().detach() or sourceTensor.clone().detach().requires_grad_(True), rather than torch.tensor(sourceTensor).\n",
      "  posterior = gp_model(torch.tensor(X_unmeasured))\n",
      "/tmp/ipykernel_1292286/1166517645.py:15: UserWarning: To copy construct from a tensor, it is recommended to use sourceTensor.clone().detach() or sourceTensor.clone().detach().requires_grad_(True), rather than torch.tensor(sourceTensor).\n",
      "  gp_model = SingleTaskGP(torch.tensor(X_measured), torch.tensor(y_measured))\n",
      "/nfs/home/upratius/.conda/envs/gpax_hae/lib/python3.10/site-packages/botorch/models/utils/assorted.py:174: InputDataWarning: Input data is not contained to the unit cube. Please consider min-max scaling the input data.\n",
      "  warnings.warn(msg, InputDataWarning)\n",
      "/nfs/home/upratius/.conda/envs/gpax_hae/lib/python3.10/site-packages/botorch/models/utils/assorted.py:202: InputDataWarning: Input data is not standardized (mean = tensor([411.8357], dtype=torch.float64), std = tensor([192.2370], dtype=torch.float64)). Please consider scaling the input to zero mean and unit variance.\n",
      "  warnings.warn(msg, InputDataWarning)\n"
     ]
    },
    {
     "name": "stdout",
     "output_type": "stream",
     "text": [
      "\n",
      "Step 2/5\n",
      "\n",
      "Step 3/5\n"
     ]
    },
    {
     "name": "stderr",
     "output_type": "stream",
     "text": [
      "/tmp/ipykernel_1292286/1166517645.py:24: UserWarning: To copy construct from a tensor, it is recommended to use sourceTensor.clone().detach() or sourceTensor.clone().detach().requires_grad_(True), rather than torch.tensor(sourceTensor).\n",
      "  posterior = gp_model(torch.tensor(X_unmeasured))\n",
      "/tmp/ipykernel_1292286/1166517645.py:15: UserWarning: To copy construct from a tensor, it is recommended to use sourceTensor.clone().detach() or sourceTensor.clone().detach().requires_grad_(True), rather than torch.tensor(sourceTensor).\n",
      "  gp_model = SingleTaskGP(torch.tensor(X_measured), torch.tensor(y_measured))\n",
      "/nfs/home/upratius/.conda/envs/gpax_hae/lib/python3.10/site-packages/botorch/models/utils/assorted.py:174: InputDataWarning: Input data is not contained to the unit cube. Please consider min-max scaling the input data.\n",
      "  warnings.warn(msg, InputDataWarning)\n",
      "/nfs/home/upratius/.conda/envs/gpax_hae/lib/python3.10/site-packages/botorch/models/utils/assorted.py:202: InputDataWarning: Input data is not standardized (mean = tensor([439.1689], dtype=torch.float64), std = tensor([213.3587], dtype=torch.float64)). Please consider scaling the input to zero mean and unit variance.\n",
      "  warnings.warn(msg, InputDataWarning)\n",
      "/tmp/ipykernel_1292286/1166517645.py:24: UserWarning: To copy construct from a tensor, it is recommended to use sourceTensor.clone().detach() or sourceTensor.clone().detach().requires_grad_(True), rather than torch.tensor(sourceTensor).\n",
      "  posterior = gp_model(torch.tensor(X_unmeasured))\n",
      "/tmp/ipykernel_1292286/1166517645.py:15: UserWarning: To copy construct from a tensor, it is recommended to use sourceTensor.clone().detach() or sourceTensor.clone().detach().requires_grad_(True), rather than torch.tensor(sourceTensor).\n",
      "  gp_model = SingleTaskGP(torch.tensor(X_measured), torch.tensor(y_measured))\n",
      "/nfs/home/upratius/.conda/envs/gpax_hae/lib/python3.10/site-packages/botorch/models/utils/assorted.py:174: InputDataWarning: Input data is not contained to the unit cube. Please consider min-max scaling the input data.\n",
      "  warnings.warn(msg, InputDataWarning)\n",
      "/nfs/home/upratius/.conda/envs/gpax_hae/lib/python3.10/site-packages/botorch/models/utils/assorted.py:202: InputDataWarning: Input data is not standardized (mean = tensor([426.6076], dtype=torch.float64), std = tensor([212.1597], dtype=torch.float64)). Please consider scaling the input to zero mean and unit variance.\n",
      "  warnings.warn(msg, InputDataWarning)\n"
     ]
    },
    {
     "name": "stdout",
     "output_type": "stream",
     "text": [
      "\n",
      "Step 4/5\n",
      "\n",
      "Step 5/5\n"
     ]
    },
    {
     "name": "stderr",
     "output_type": "stream",
     "text": [
      "/tmp/ipykernel_1292286/1166517645.py:24: UserWarning: To copy construct from a tensor, it is recommended to use sourceTensor.clone().detach() or sourceTensor.clone().detach().requires_grad_(True), rather than torch.tensor(sourceTensor).\n",
      "  posterior = gp_model(torch.tensor(X_unmeasured))\n",
      "/tmp/ipykernel_1292286/1166517645.py:15: UserWarning: To copy construct from a tensor, it is recommended to use sourceTensor.clone().detach() or sourceTensor.clone().detach().requires_grad_(True), rather than torch.tensor(sourceTensor).\n",
      "  gp_model = SingleTaskGP(torch.tensor(X_measured), torch.tensor(y_measured))\n",
      "/nfs/home/upratius/.conda/envs/gpax_hae/lib/python3.10/site-packages/botorch/models/utils/assorted.py:174: InputDataWarning: Input data is not contained to the unit cube. Please consider min-max scaling the input data.\n",
      "  warnings.warn(msg, InputDataWarning)\n",
      "/nfs/home/upratius/.conda/envs/gpax_hae/lib/python3.10/site-packages/botorch/models/utils/assorted.py:202: InputDataWarning: Input data is not standardized (mean = tensor([409.8693], dtype=torch.float64), std = tensor([192.5982], dtype=torch.float64)). Please consider scaling the input to zero mean and unit variance.\n",
      "  warnings.warn(msg, InputDataWarning)\n",
      "/tmp/ipykernel_1292286/1166517645.py:24: UserWarning: To copy construct from a tensor, it is recommended to use sourceTensor.clone().detach() or sourceTensor.clone().detach().requires_grad_(True), rather than torch.tensor(sourceTensor).\n",
      "  posterior = gp_model(torch.tensor(X_unmeasured))\n",
      "/tmp/ipykernel_1292286/1166517645.py:15: UserWarning: To copy construct from a tensor, it is recommended to use sourceTensor.clone().detach() or sourceTensor.clone().detach().requires_grad_(True), rather than torch.tensor(sourceTensor).\n",
      "  gp_model = SingleTaskGP(torch.tensor(X_measured), torch.tensor(y_measured))\n",
      "/nfs/home/upratius/.conda/envs/gpax_hae/lib/python3.10/site-packages/botorch/models/utils/assorted.py:174: InputDataWarning: Input data is not contained to the unit cube. Please consider min-max scaling the input data.\n",
      "  warnings.warn(msg, InputDataWarning)\n",
      "/nfs/home/upratius/.conda/envs/gpax_hae/lib/python3.10/site-packages/botorch/models/utils/assorted.py:202: InputDataWarning: Input data is not standardized (mean = tensor([396.6912], dtype=torch.float64), std = tensor([190.4220], dtype=torch.float64)). Please consider scaling the input to zero mean and unit variance.\n",
      "  warnings.warn(msg, InputDataWarning)\n"
     ]
    },
    {
     "name": "stdout",
     "output_type": "stream",
     "text": [
      "Seed: 1, n_init: 10, Noise Level: 0.5\n",
      "(12, 1)\n",
      "(12, 1)\n",
      "\n",
      "Step 1/5\n",
      "\n",
      "Step 2/5\n"
     ]
    },
    {
     "name": "stderr",
     "output_type": "stream",
     "text": [
      "/tmp/ipykernel_1292286/1166517645.py:24: UserWarning: To copy construct from a tensor, it is recommended to use sourceTensor.clone().detach() or sourceTensor.clone().detach().requires_grad_(True), rather than torch.tensor(sourceTensor).\n",
      "  posterior = gp_model(torch.tensor(X_unmeasured))\n",
      "/tmp/ipykernel_1292286/1166517645.py:15: UserWarning: To copy construct from a tensor, it is recommended to use sourceTensor.clone().detach() or sourceTensor.clone().detach().requires_grad_(True), rather than torch.tensor(sourceTensor).\n",
      "  gp_model = SingleTaskGP(torch.tensor(X_measured), torch.tensor(y_measured))\n",
      "/nfs/home/upratius/.conda/envs/gpax_hae/lib/python3.10/site-packages/botorch/models/utils/assorted.py:174: InputDataWarning: Input data is not contained to the unit cube. Please consider min-max scaling the input data.\n",
      "  warnings.warn(msg, InputDataWarning)\n",
      "/nfs/home/upratius/.conda/envs/gpax_hae/lib/python3.10/site-packages/botorch/models/utils/assorted.py:202: InputDataWarning: Input data is not standardized (mean = tensor([412.4360], dtype=torch.float64), std = tensor([192.2026], dtype=torch.float64)). Please consider scaling the input to zero mean and unit variance.\n",
      "  warnings.warn(msg, InputDataWarning)\n"
     ]
    },
    {
     "name": "stdout",
     "output_type": "stream",
     "text": [
      "\n",
      "Step 3/5\n"
     ]
    },
    {
     "name": "stderr",
     "output_type": "stream",
     "text": [
      "/tmp/ipykernel_1292286/1166517645.py:24: UserWarning: To copy construct from a tensor, it is recommended to use sourceTensor.clone().detach() or sourceTensor.clone().detach().requires_grad_(True), rather than torch.tensor(sourceTensor).\n",
      "  posterior = gp_model(torch.tensor(X_unmeasured))\n",
      "/tmp/ipykernel_1292286/1166517645.py:15: UserWarning: To copy construct from a tensor, it is recommended to use sourceTensor.clone().detach() or sourceTensor.clone().detach().requires_grad_(True), rather than torch.tensor(sourceTensor).\n",
      "  gp_model = SingleTaskGP(torch.tensor(X_measured), torch.tensor(y_measured))\n",
      "/nfs/home/upratius/.conda/envs/gpax_hae/lib/python3.10/site-packages/botorch/models/utils/assorted.py:174: InputDataWarning: Input data is not contained to the unit cube. Please consider min-max scaling the input data.\n",
      "  warnings.warn(msg, InputDataWarning)\n",
      "/nfs/home/upratius/.conda/envs/gpax_hae/lib/python3.10/site-packages/botorch/models/utils/assorted.py:202: InputDataWarning: Input data is not standardized (mean = tensor([439.7681], dtype=torch.float64), std = tensor([213.3280], dtype=torch.float64)). Please consider scaling the input to zero mean and unit variance.\n",
      "  warnings.warn(msg, InputDataWarning)\n",
      "/tmp/ipykernel_1292286/1166517645.py:24: UserWarning: To copy construct from a tensor, it is recommended to use sourceTensor.clone().detach() or sourceTensor.clone().detach().requires_grad_(True), rather than torch.tensor(sourceTensor).\n",
      "  posterior = gp_model(torch.tensor(X_unmeasured))\n",
      "/tmp/ipykernel_1292286/1166517645.py:15: UserWarning: To copy construct from a tensor, it is recommended to use sourceTensor.clone().detach() or sourceTensor.clone().detach().requires_grad_(True), rather than torch.tensor(sourceTensor).\n",
      "  gp_model = SingleTaskGP(torch.tensor(X_measured), torch.tensor(y_measured))\n",
      "/nfs/home/upratius/.conda/envs/gpax_hae/lib/python3.10/site-packages/botorch/models/utils/assorted.py:174: InputDataWarning: Input data is not contained to the unit cube. Please consider min-max scaling the input data.\n",
      "  warnings.warn(msg, InputDataWarning)\n",
      "/nfs/home/upratius/.conda/envs/gpax_hae/lib/python3.10/site-packages/botorch/models/utils/assorted.py:202: InputDataWarning: Input data is not standardized (mean = tensor([427.1178], dtype=torch.float64), std = tensor([212.2154], dtype=torch.float64)). Please consider scaling the input to zero mean and unit variance.\n",
      "  warnings.warn(msg, InputDataWarning)\n"
     ]
    },
    {
     "name": "stdout",
     "output_type": "stream",
     "text": [
      "\n",
      "Step 4/5\n",
      "\n",
      "Step 5/5\n"
     ]
    },
    {
     "name": "stderr",
     "output_type": "stream",
     "text": [
      "/tmp/ipykernel_1292286/1166517645.py:24: UserWarning: To copy construct from a tensor, it is recommended to use sourceTensor.clone().detach() or sourceTensor.clone().detach().requires_grad_(True), rather than torch.tensor(sourceTensor).\n",
      "  posterior = gp_model(torch.tensor(X_unmeasured))\n",
      "/tmp/ipykernel_1292286/1166517645.py:15: UserWarning: To copy construct from a tensor, it is recommended to use sourceTensor.clone().detach() or sourceTensor.clone().detach().requires_grad_(True), rather than torch.tensor(sourceTensor).\n",
      "  gp_model = SingleTaskGP(torch.tensor(X_measured), torch.tensor(y_measured))\n",
      "/nfs/home/upratius/.conda/envs/gpax_hae/lib/python3.10/site-packages/botorch/models/utils/assorted.py:174: InputDataWarning: Input data is not contained to the unit cube. Please consider min-max scaling the input data.\n",
      "  warnings.warn(msg, InputDataWarning)\n",
      "/nfs/home/upratius/.conda/envs/gpax_hae/lib/python3.10/site-packages/botorch/models/utils/assorted.py:202: InputDataWarning: Input data is not standardized (mean = tensor([381.6458], dtype=torch.float64), std = tensor([186.7202], dtype=torch.float64)). Please consider scaling the input to zero mean and unit variance.\n",
      "  warnings.warn(msg, InputDataWarning)\n"
     ]
    },
    {
     "name": "stdout",
     "output_type": "stream",
     "text": [
      "Seed: 1, n_init: 15, Noise Level: 0\n",
      "(17, 1)\n",
      "(17, 1)\n",
      "\n",
      "Step 1/5\n"
     ]
    },
    {
     "name": "stderr",
     "output_type": "stream",
     "text": [
      "/tmp/ipykernel_1292286/1166517645.py:24: UserWarning: To copy construct from a tensor, it is recommended to use sourceTensor.clone().detach() or sourceTensor.clone().detach().requires_grad_(True), rather than torch.tensor(sourceTensor).\n",
      "  posterior = gp_model(torch.tensor(X_unmeasured))\n",
      "/tmp/ipykernel_1292286/1166517645.py:15: UserWarning: To copy construct from a tensor, it is recommended to use sourceTensor.clone().detach() or sourceTensor.clone().detach().requires_grad_(True), rather than torch.tensor(sourceTensor).\n",
      "  gp_model = SingleTaskGP(torch.tensor(X_measured), torch.tensor(y_measured))\n",
      "/nfs/home/upratius/.conda/envs/gpax_hae/lib/python3.10/site-packages/botorch/models/utils/assorted.py:174: InputDataWarning: Input data is not contained to the unit cube. Please consider min-max scaling the input data.\n",
      "  warnings.warn(msg, InputDataWarning)\n",
      "/nfs/home/upratius/.conda/envs/gpax_hae/lib/python3.10/site-packages/botorch/models/utils/assorted.py:202: InputDataWarning: Input data is not standardized (mean = tensor([394.7345], dtype=torch.float64), std = tensor([189.4657], dtype=torch.float64)). Please consider scaling the input to zero mean and unit variance.\n",
      "  warnings.warn(msg, InputDataWarning)\n"
     ]
    },
    {
     "name": "stdout",
     "output_type": "stream",
     "text": [
      "\n",
      "Step 2/5\n",
      "\n",
      "Step 3/5\n"
     ]
    },
    {
     "name": "stderr",
     "output_type": "stream",
     "text": [
      "/tmp/ipykernel_1292286/1166517645.py:24: UserWarning: To copy construct from a tensor, it is recommended to use sourceTensor.clone().detach() or sourceTensor.clone().detach().requires_grad_(True), rather than torch.tensor(sourceTensor).\n",
      "  posterior = gp_model(torch.tensor(X_unmeasured))\n",
      "/tmp/ipykernel_1292286/1166517645.py:15: UserWarning: To copy construct from a tensor, it is recommended to use sourceTensor.clone().detach() or sourceTensor.clone().detach().requires_grad_(True), rather than torch.tensor(sourceTensor).\n",
      "  gp_model = SingleTaskGP(torch.tensor(X_measured), torch.tensor(y_measured))\n",
      "/nfs/home/upratius/.conda/envs/gpax_hae/lib/python3.10/site-packages/botorch/models/utils/assorted.py:174: InputDataWarning: Input data is not contained to the unit cube. Please consider min-max scaling the input data.\n",
      "  warnings.warn(msg, InputDataWarning)\n",
      "/nfs/home/upratius/.conda/envs/gpax_hae/lib/python3.10/site-packages/botorch/models/utils/assorted.py:202: InputDataWarning: Input data is not standardized (mean = tensor([386.5061], dtype=torch.float64), std = tensor([187.5884], dtype=torch.float64)). Please consider scaling the input to zero mean and unit variance.\n",
      "  warnings.warn(msg, InputDataWarning)\n",
      "/tmp/ipykernel_1292286/1166517645.py:24: UserWarning: To copy construct from a tensor, it is recommended to use sourceTensor.clone().detach() or sourceTensor.clone().detach().requires_grad_(True), rather than torch.tensor(sourceTensor).\n",
      "  posterior = gp_model(torch.tensor(X_unmeasured))\n",
      "/tmp/ipykernel_1292286/1166517645.py:15: UserWarning: To copy construct from a tensor, it is recommended to use sourceTensor.clone().detach() or sourceTensor.clone().detach().requires_grad_(True), rather than torch.tensor(sourceTensor).\n",
      "  gp_model = SingleTaskGP(torch.tensor(X_measured), torch.tensor(y_measured))\n",
      "/nfs/home/upratius/.conda/envs/gpax_hae/lib/python3.10/site-packages/botorch/models/utils/assorted.py:174: InputDataWarning: Input data is not contained to the unit cube. Please consider min-max scaling the input data.\n",
      "  warnings.warn(msg, InputDataWarning)\n",
      "/nfs/home/upratius/.conda/envs/gpax_hae/lib/python3.10/site-packages/botorch/models/utils/assorted.py:202: InputDataWarning: Input data is not standardized (mean = tensor([379.1005], dtype=torch.float64), std = tensor([185.5645], dtype=torch.float64)). Please consider scaling the input to zero mean and unit variance.\n",
      "  warnings.warn(msg, InputDataWarning)\n",
      "/tmp/ipykernel_1292286/1166517645.py:24: UserWarning: To copy construct from a tensor, it is recommended to use sourceTensor.clone().detach() or sourceTensor.clone().detach().requires_grad_(True), rather than torch.tensor(sourceTensor).\n",
      "  posterior = gp_model(torch.tensor(X_unmeasured))\n",
      "/tmp/ipykernel_1292286/1166517645.py:15: UserWarning: To copy construct from a tensor, it is recommended to use sourceTensor.clone().detach() or sourceTensor.clone().detach().requires_grad_(True), rather than torch.tensor(sourceTensor).\n",
      "  gp_model = SingleTaskGP(torch.tensor(X_measured), torch.tensor(y_measured))\n",
      "/nfs/home/upratius/.conda/envs/gpax_hae/lib/python3.10/site-packages/botorch/models/utils/assorted.py:174: InputDataWarning: Input data is not contained to the unit cube. Please consider min-max scaling the input data.\n",
      "  warnings.warn(msg, InputDataWarning)\n",
      "/nfs/home/upratius/.conda/envs/gpax_hae/lib/python3.10/site-packages/botorch/models/utils/assorted.py:202: InputDataWarning: Input data is not standardized (mean = tensor([390.4406], dtype=torch.float64), std = tensor([188.1835], dtype=torch.float64)). Please consider scaling the input to zero mean and unit variance.\n",
      "  warnings.warn(msg, InputDataWarning)\n"
     ]
    },
    {
     "name": "stdout",
     "output_type": "stream",
     "text": [
      "\n",
      "Step 4/5\n",
      "\n",
      "Step 5/5\n"
     ]
    },
    {
     "name": "stderr",
     "output_type": "stream",
     "text": [
      "/tmp/ipykernel_1292286/1166517645.py:24: UserWarning: To copy construct from a tensor, it is recommended to use sourceTensor.clone().detach() or sourceTensor.clone().detach().requires_grad_(True), rather than torch.tensor(sourceTensor).\n",
      "  posterior = gp_model(torch.tensor(X_unmeasured))\n",
      "/tmp/ipykernel_1292286/1166517645.py:15: UserWarning: To copy construct from a tensor, it is recommended to use sourceTensor.clone().detach() or sourceTensor.clone().detach().requires_grad_(True), rather than torch.tensor(sourceTensor).\n",
      "  gp_model = SingleTaskGP(torch.tensor(X_measured), torch.tensor(y_measured))\n",
      "/nfs/home/upratius/.conda/envs/gpax_hae/lib/python3.10/site-packages/botorch/models/utils/assorted.py:174: InputDataWarning: Input data is not contained to the unit cube. Please consider min-max scaling the input data.\n",
      "  warnings.warn(msg, InputDataWarning)\n",
      "/nfs/home/upratius/.conda/envs/gpax_hae/lib/python3.10/site-packages/botorch/models/utils/assorted.py:202: InputDataWarning: Input data is not standardized (mean = tensor([381.6372], dtype=torch.float64), std = tensor([186.7202], dtype=torch.float64)). Please consider scaling the input to zero mean and unit variance.\n",
      "  warnings.warn(msg, InputDataWarning)\n",
      "/tmp/ipykernel_1292286/1166517645.py:24: UserWarning: To copy construct from a tensor, it is recommended to use sourceTensor.clone().detach() or sourceTensor.clone().detach().requires_grad_(True), rather than torch.tensor(sourceTensor).\n",
      "  posterior = gp_model(torch.tensor(X_unmeasured))\n",
      "/tmp/ipykernel_1292286/1166517645.py:15: UserWarning: To copy construct from a tensor, it is recommended to use sourceTensor.clone().detach() or sourceTensor.clone().detach().requires_grad_(True), rather than torch.tensor(sourceTensor).\n",
      "  gp_model = SingleTaskGP(torch.tensor(X_measured), torch.tensor(y_measured))\n",
      "/nfs/home/upratius/.conda/envs/gpax_hae/lib/python3.10/site-packages/botorch/models/utils/assorted.py:174: InputDataWarning: Input data is not contained to the unit cube. Please consider min-max scaling the input data.\n",
      "  warnings.warn(msg, InputDataWarning)\n",
      "/nfs/home/upratius/.conda/envs/gpax_hae/lib/python3.10/site-packages/botorch/models/utils/assorted.py:202: InputDataWarning: Input data is not standardized (mean = tensor([373.6786], dtype=torch.float64), std = tensor([184.2653], dtype=torch.float64)). Please consider scaling the input to zero mean and unit variance.\n",
      "  warnings.warn(msg, InputDataWarning)\n"
     ]
    },
    {
     "name": "stdout",
     "output_type": "stream",
     "text": [
      "Seed: 1, n_init: 15, Noise Level: 0.01\n",
      "(17, 1)\n",
      "(17, 1)\n",
      "\n",
      "Step 1/5\n",
      "\n",
      "Step 2/5\n"
     ]
    },
    {
     "name": "stderr",
     "output_type": "stream",
     "text": [
      "/tmp/ipykernel_1292286/1166517645.py:24: UserWarning: To copy construct from a tensor, it is recommended to use sourceTensor.clone().detach() or sourceTensor.clone().detach().requires_grad_(True), rather than torch.tensor(sourceTensor).\n",
      "  posterior = gp_model(torch.tensor(X_unmeasured))\n",
      "/tmp/ipykernel_1292286/1166517645.py:15: UserWarning: To copy construct from a tensor, it is recommended to use sourceTensor.clone().detach() or sourceTensor.clone().detach().requires_grad_(True), rather than torch.tensor(sourceTensor).\n",
      "  gp_model = SingleTaskGP(torch.tensor(X_measured), torch.tensor(y_measured))\n",
      "/nfs/home/upratius/.conda/envs/gpax_hae/lib/python3.10/site-packages/botorch/models/utils/assorted.py:174: InputDataWarning: Input data is not contained to the unit cube. Please consider min-max scaling the input data.\n",
      "  warnings.warn(msg, InputDataWarning)\n",
      "/nfs/home/upratius/.conda/envs/gpax_hae/lib/python3.10/site-packages/botorch/models/utils/assorted.py:202: InputDataWarning: Input data is not standardized (mean = tensor([366.5585], dtype=torch.float64), std = tensor([181.7433], dtype=torch.float64)). Please consider scaling the input to zero mean and unit variance.\n",
      "  warnings.warn(msg, InputDataWarning)\n",
      "/tmp/ipykernel_1292286/1166517645.py:24: UserWarning: To copy construct from a tensor, it is recommended to use sourceTensor.clone().detach() or sourceTensor.clone().detach().requires_grad_(True), rather than torch.tensor(sourceTensor).\n",
      "  posterior = gp_model(torch.tensor(X_unmeasured))\n",
      "/tmp/ipykernel_1292286/1166517645.py:15: UserWarning: To copy construct from a tensor, it is recommended to use sourceTensor.clone().detach() or sourceTensor.clone().detach().requires_grad_(True), rather than torch.tensor(sourceTensor).\n",
      "  gp_model = SingleTaskGP(torch.tensor(X_measured), torch.tensor(y_measured))\n",
      "/nfs/home/upratius/.conda/envs/gpax_hae/lib/python3.10/site-packages/botorch/models/utils/assorted.py:174: InputDataWarning: Input data is not contained to the unit cube. Please consider min-max scaling the input data.\n",
      "  warnings.warn(msg, InputDataWarning)\n",
      "/nfs/home/upratius/.conda/envs/gpax_hae/lib/python3.10/site-packages/botorch/models/utils/assorted.py:202: InputDataWarning: Input data is not standardized (mean = tensor([360.1505], dtype=torch.float64), std = tensor([179.2021], dtype=torch.float64)). Please consider scaling the input to zero mean and unit variance.\n",
      "  warnings.warn(msg, InputDataWarning)\n"
     ]
    },
    {
     "name": "stdout",
     "output_type": "stream",
     "text": [
      "\n",
      "Step 3/5\n",
      "\n",
      "Step 4/5\n"
     ]
    },
    {
     "name": "stderr",
     "output_type": "stream",
     "text": [
      "/tmp/ipykernel_1292286/1166517645.py:24: UserWarning: To copy construct from a tensor, it is recommended to use sourceTensor.clone().detach() or sourceTensor.clone().detach().requires_grad_(True), rather than torch.tensor(sourceTensor).\n",
      "  posterior = gp_model(torch.tensor(X_unmeasured))\n",
      "/tmp/ipykernel_1292286/1166517645.py:15: UserWarning: To copy construct from a tensor, it is recommended to use sourceTensor.clone().detach() or sourceTensor.clone().detach().requires_grad_(True), rather than torch.tensor(sourceTensor).\n",
      "  gp_model = SingleTaskGP(torch.tensor(X_measured), torch.tensor(y_measured))\n",
      "/nfs/home/upratius/.conda/envs/gpax_hae/lib/python3.10/site-packages/botorch/models/utils/assorted.py:174: InputDataWarning: Input data is not contained to the unit cube. Please consider min-max scaling the input data.\n",
      "  warnings.warn(msg, InputDataWarning)\n",
      "/nfs/home/upratius/.conda/envs/gpax_hae/lib/python3.10/site-packages/botorch/models/utils/assorted.py:202: InputDataWarning: Input data is not standardized (mean = tensor([372.3927], dtype=torch.float64), std = tensor([183.4531], dtype=torch.float64)). Please consider scaling the input to zero mean and unit variance.\n",
      "  warnings.warn(msg, InputDataWarning)\n"
     ]
    },
    {
     "name": "stdout",
     "output_type": "stream",
     "text": [
      "\n",
      "Step 5/5\n"
     ]
    },
    {
     "name": "stderr",
     "output_type": "stream",
     "text": [
      "/tmp/ipykernel_1292286/1166517645.py:24: UserWarning: To copy construct from a tensor, it is recommended to use sourceTensor.clone().detach() or sourceTensor.clone().detach().requires_grad_(True), rather than torch.tensor(sourceTensor).\n",
      "  posterior = gp_model(torch.tensor(X_unmeasured))\n",
      "/tmp/ipykernel_1292286/1166517645.py:15: UserWarning: To copy construct from a tensor, it is recommended to use sourceTensor.clone().detach() or sourceTensor.clone().detach().requires_grad_(True), rather than torch.tensor(sourceTensor).\n",
      "  gp_model = SingleTaskGP(torch.tensor(X_measured), torch.tensor(y_measured))\n",
      "/nfs/home/upratius/.conda/envs/gpax_hae/lib/python3.10/site-packages/botorch/models/utils/assorted.py:174: InputDataWarning: Input data is not contained to the unit cube. Please consider min-max scaling the input data.\n",
      "  warnings.warn(msg, InputDataWarning)\n",
      "/nfs/home/upratius/.conda/envs/gpax_hae/lib/python3.10/site-packages/botorch/models/utils/assorted.py:202: InputDataWarning: Input data is not standardized (mean = tensor([381.5598], dtype=torch.float64), std = tensor([186.7202], dtype=torch.float64)). Please consider scaling the input to zero mean and unit variance.\n",
      "  warnings.warn(msg, InputDataWarning)\n"
     ]
    },
    {
     "name": "stdout",
     "output_type": "stream",
     "text": [
      "Seed: 1, n_init: 15, Noise Level: 0.1\n",
      "(17, 1)\n",
      "(17, 1)\n",
      "\n",
      "Step 1/5\n",
      "\n",
      "Step 2/5\n"
     ]
    },
    {
     "name": "stderr",
     "output_type": "stream",
     "text": [
      "/tmp/ipykernel_1292286/1166517645.py:24: UserWarning: To copy construct from a tensor, it is recommended to use sourceTensor.clone().detach() or sourceTensor.clone().detach().requires_grad_(True), rather than torch.tensor(sourceTensor).\n",
      "  posterior = gp_model(torch.tensor(X_unmeasured))\n",
      "/tmp/ipykernel_1292286/1166517645.py:15: UserWarning: To copy construct from a tensor, it is recommended to use sourceTensor.clone().detach() or sourceTensor.clone().detach().requires_grad_(True), rather than torch.tensor(sourceTensor).\n",
      "  gp_model = SingleTaskGP(torch.tensor(X_measured), torch.tensor(y_measured))\n",
      "/nfs/home/upratius/.conda/envs/gpax_hae/lib/python3.10/site-packages/botorch/models/utils/assorted.py:174: InputDataWarning: Input data is not contained to the unit cube. Please consider min-max scaling the input data.\n",
      "  warnings.warn(msg, InputDataWarning)\n",
      "/nfs/home/upratius/.conda/envs/gpax_hae/lib/python3.10/site-packages/botorch/models/utils/assorted.py:202: InputDataWarning: Input data is not standardized (mean = tensor([373.6000], dtype=torch.float64), std = tensor([184.2663], dtype=torch.float64)). Please consider scaling the input to zero mean and unit variance.\n",
      "  warnings.warn(msg, InputDataWarning)\n",
      "/tmp/ipykernel_1292286/1166517645.py:24: UserWarning: To copy construct from a tensor, it is recommended to use sourceTensor.clone().detach() or sourceTensor.clone().detach().requires_grad_(True), rather than torch.tensor(sourceTensor).\n",
      "  posterior = gp_model(torch.tensor(X_unmeasured))\n",
      "/tmp/ipykernel_1292286/1166517645.py:15: UserWarning: To copy construct from a tensor, it is recommended to use sourceTensor.clone().detach() or sourceTensor.clone().detach().requires_grad_(True), rather than torch.tensor(sourceTensor).\n",
      "  gp_model = SingleTaskGP(torch.tensor(X_measured), torch.tensor(y_measured))\n",
      "/nfs/home/upratius/.conda/envs/gpax_hae/lib/python3.10/site-packages/botorch/models/utils/assorted.py:174: InputDataWarning: Input data is not contained to the unit cube. Please consider min-max scaling the input data.\n",
      "  warnings.warn(msg, InputDataWarning)\n",
      "/nfs/home/upratius/.conda/envs/gpax_hae/lib/python3.10/site-packages/botorch/models/utils/assorted.py:202: InputDataWarning: Input data is not standardized (mean = tensor([366.4848], dtype=torch.float64), std = tensor([181.7405], dtype=torch.float64)). Please consider scaling the input to zero mean and unit variance.\n",
      "  warnings.warn(msg, InputDataWarning)\n"
     ]
    },
    {
     "name": "stdout",
     "output_type": "stream",
     "text": [
      "\n",
      "Step 3/5\n",
      "\n",
      "Step 4/5\n"
     ]
    },
    {
     "name": "stderr",
     "output_type": "stream",
     "text": [
      "/tmp/ipykernel_1292286/1166517645.py:24: UserWarning: To copy construct from a tensor, it is recommended to use sourceTensor.clone().detach() or sourceTensor.clone().detach().requires_grad_(True), rather than torch.tensor(sourceTensor).\n",
      "  posterior = gp_model(torch.tensor(X_unmeasured))\n",
      "/tmp/ipykernel_1292286/1166517645.py:15: UserWarning: To copy construct from a tensor, it is recommended to use sourceTensor.clone().detach() or sourceTensor.clone().detach().requires_grad_(True), rather than torch.tensor(sourceTensor).\n",
      "  gp_model = SingleTaskGP(torch.tensor(X_measured), torch.tensor(y_measured))\n",
      "/nfs/home/upratius/.conda/envs/gpax_hae/lib/python3.10/site-packages/botorch/models/utils/assorted.py:174: InputDataWarning: Input data is not contained to the unit cube. Please consider min-max scaling the input data.\n",
      "  warnings.warn(msg, InputDataWarning)\n",
      "/nfs/home/upratius/.conda/envs/gpax_hae/lib/python3.10/site-packages/botorch/models/utils/assorted.py:202: InputDataWarning: Input data is not standardized (mean = tensor([360.0831], dtype=torch.float64), std = tensor([179.1950], dtype=torch.float64)). Please consider scaling the input to zero mean and unit variance.\n",
      "  warnings.warn(msg, InputDataWarning)\n",
      "/tmp/ipykernel_1292286/1166517645.py:24: UserWarning: To copy construct from a tensor, it is recommended to use sourceTensor.clone().detach() or sourceTensor.clone().detach().requires_grad_(True), rather than torch.tensor(sourceTensor).\n",
      "  posterior = gp_model(torch.tensor(X_unmeasured))\n",
      "/tmp/ipykernel_1292286/1166517645.py:15: UserWarning: To copy construct from a tensor, it is recommended to use sourceTensor.clone().detach() or sourceTensor.clone().detach().requires_grad_(True), rather than torch.tensor(sourceTensor).\n",
      "  gp_model = SingleTaskGP(torch.tensor(X_measured), torch.tensor(y_measured))\n",
      "/nfs/home/upratius/.conda/envs/gpax_hae/lib/python3.10/site-packages/botorch/models/utils/assorted.py:174: InputDataWarning: Input data is not contained to the unit cube. Please consider min-max scaling the input data.\n",
      "  warnings.warn(msg, InputDataWarning)\n",
      "/nfs/home/upratius/.conda/envs/gpax_hae/lib/python3.10/site-packages/botorch/models/utils/assorted.py:202: InputDataWarning: Input data is not standardized (mean = tensor([354.2857], dtype=torch.float64), std = tensor([176.6667], dtype=torch.float64)). Please consider scaling the input to zero mean and unit variance.\n",
      "  warnings.warn(msg, InputDataWarning)\n"
     ]
    },
    {
     "name": "stdout",
     "output_type": "stream",
     "text": [
      "\n",
      "Step 5/5\n",
      "Seed: 1, n_init: 15, Noise Level: 0.5\n",
      "(17, 1)\n",
      "(17, 1)\n",
      "\n",
      "Step 1/5\n"
     ]
    },
    {
     "name": "stderr",
     "output_type": "stream",
     "text": [
      "/tmp/ipykernel_1292286/1166517645.py:24: UserWarning: To copy construct from a tensor, it is recommended to use sourceTensor.clone().detach() or sourceTensor.clone().detach().requires_grad_(True), rather than torch.tensor(sourceTensor).\n",
      "  posterior = gp_model(torch.tensor(X_unmeasured))\n",
      "/tmp/ipykernel_1292286/1166517645.py:15: UserWarning: To copy construct from a tensor, it is recommended to use sourceTensor.clone().detach() or sourceTensor.clone().detach().requires_grad_(True), rather than torch.tensor(sourceTensor).\n",
      "  gp_model = SingleTaskGP(torch.tensor(X_measured), torch.tensor(y_measured))\n",
      "/nfs/home/upratius/.conda/envs/gpax_hae/lib/python3.10/site-packages/botorch/models/utils/assorted.py:174: InputDataWarning: Input data is not contained to the unit cube. Please consider min-max scaling the input data.\n",
      "  warnings.warn(msg, InputDataWarning)\n",
      "/nfs/home/upratius/.conda/envs/gpax_hae/lib/python3.10/site-packages/botorch/models/utils/assorted.py:202: InputDataWarning: Input data is not standardized (mean = tensor([381.2159], dtype=torch.float64), std = tensor([186.7202], dtype=torch.float64)). Please consider scaling the input to zero mean and unit variance.\n",
      "  warnings.warn(msg, InputDataWarning)\n",
      "/tmp/ipykernel_1292286/1166517645.py:24: UserWarning: To copy construct from a tensor, it is recommended to use sourceTensor.clone().detach() or sourceTensor.clone().detach().requires_grad_(True), rather than torch.tensor(sourceTensor).\n",
      "  posterior = gp_model(torch.tensor(X_unmeasured))\n",
      "/tmp/ipykernel_1292286/1166517645.py:15: UserWarning: To copy construct from a tensor, it is recommended to use sourceTensor.clone().detach() or sourceTensor.clone().detach().requires_grad_(True), rather than torch.tensor(sourceTensor).\n",
      "  gp_model = SingleTaskGP(torch.tensor(X_measured), torch.tensor(y_measured))\n",
      "/nfs/home/upratius/.conda/envs/gpax_hae/lib/python3.10/site-packages/botorch/models/utils/assorted.py:174: InputDataWarning: Input data is not contained to the unit cube. Please consider min-max scaling the input data.\n",
      "  warnings.warn(msg, InputDataWarning)\n",
      "/nfs/home/upratius/.conda/envs/gpax_hae/lib/python3.10/site-packages/botorch/models/utils/assorted.py:202: InputDataWarning: Input data is not standardized (mean = tensor([394.2976], dtype=torch.float64), std = tensor([189.4571], dtype=torch.float64)). Please consider scaling the input to zero mean and unit variance.\n",
      "  warnings.warn(msg, InputDataWarning)\n"
     ]
    },
    {
     "name": "stdout",
     "output_type": "stream",
     "text": [
      "\n",
      "Step 2/5\n"
     ]
    },
    {
     "name": "stderr",
     "output_type": "stream",
     "text": [
      "/tmp/ipykernel_1292286/1166517645.py:24: UserWarning: To copy construct from a tensor, it is recommended to use sourceTensor.clone().detach() or sourceTensor.clone().detach().requires_grad_(True), rather than torch.tensor(sourceTensor).\n",
      "  posterior = gp_model(torch.tensor(X_unmeasured))\n",
      "/tmp/ipykernel_1292286/1166517645.py:15: UserWarning: To copy construct from a tensor, it is recommended to use sourceTensor.clone().detach() or sourceTensor.clone().detach().requires_grad_(True), rather than torch.tensor(sourceTensor).\n",
      "  gp_model = SingleTaskGP(torch.tensor(X_measured), torch.tensor(y_measured))\n",
      "/nfs/home/upratius/.conda/envs/gpax_hae/lib/python3.10/site-packages/botorch/models/utils/assorted.py:174: InputDataWarning: Input data is not contained to the unit cube. Please consider min-max scaling the input data.\n",
      "  warnings.warn(msg, InputDataWarning)\n",
      "/nfs/home/upratius/.conda/envs/gpax_hae/lib/python3.10/site-packages/botorch/models/utils/assorted.py:202: InputDataWarning: Input data is not standardized (mean = tensor([386.0969], dtype=torch.float64), std = tensor([187.5570], dtype=torch.float64)). Please consider scaling the input to zero mean and unit variance.\n",
      "  warnings.warn(msg, InputDataWarning)\n"
     ]
    },
    {
     "name": "stdout",
     "output_type": "stream",
     "text": [
      "\n",
      "Step 3/5\n"
     ]
    },
    {
     "name": "stderr",
     "output_type": "stream",
     "text": [
      "/tmp/ipykernel_1292286/1166517645.py:24: UserWarning: To copy construct from a tensor, it is recommended to use sourceTensor.clone().detach() or sourceTensor.clone().detach().requires_grad_(True), rather than torch.tensor(sourceTensor).\n",
      "  posterior = gp_model(torch.tensor(X_unmeasured))\n",
      "/tmp/ipykernel_1292286/1166517645.py:15: UserWarning: To copy construct from a tensor, it is recommended to use sourceTensor.clone().detach() or sourceTensor.clone().detach().requires_grad_(True), rather than torch.tensor(sourceTensor).\n",
      "  gp_model = SingleTaskGP(torch.tensor(X_measured), torch.tensor(y_measured))\n",
      "/nfs/home/upratius/.conda/envs/gpax_hae/lib/python3.10/site-packages/botorch/models/utils/assorted.py:174: InputDataWarning: Input data is not contained to the unit cube. Please consider min-max scaling the input data.\n",
      "  warnings.warn(msg, InputDataWarning)\n",
      "/nfs/home/upratius/.conda/envs/gpax_hae/lib/python3.10/site-packages/botorch/models/utils/assorted.py:202: InputDataWarning: Input data is not standardized (mean = tensor([397.6683], dtype=torch.float64), std = tensor([189.7476], dtype=torch.float64)). Please consider scaling the input to zero mean and unit variance.\n",
      "  warnings.warn(msg, InputDataWarning)\n"
     ]
    },
    {
     "name": "stdout",
     "output_type": "stream",
     "text": [
      "\n",
      "Step 4/5\n",
      "\n",
      "Step 5/5\n"
     ]
    },
    {
     "name": "stderr",
     "output_type": "stream",
     "text": [
      "/tmp/ipykernel_1292286/1166517645.py:24: UserWarning: To copy construct from a tensor, it is recommended to use sourceTensor.clone().detach() or sourceTensor.clone().detach().requires_grad_(True), rather than torch.tensor(sourceTensor).\n",
      "  posterior = gp_model(torch.tensor(X_unmeasured))\n",
      "/tmp/ipykernel_1292286/1166517645.py:15: UserWarning: To copy construct from a tensor, it is recommended to use sourceTensor.clone().detach() or sourceTensor.clone().detach().requires_grad_(True), rather than torch.tensor(sourceTensor).\n",
      "  gp_model = SingleTaskGP(torch.tensor(X_measured), torch.tensor(y_measured))\n",
      "/nfs/home/upratius/.conda/envs/gpax_hae/lib/python3.10/site-packages/botorch/models/utils/assorted.py:174: InputDataWarning: Input data is not contained to the unit cube. Please consider min-max scaling the input data.\n",
      "  warnings.warn(msg, InputDataWarning)\n",
      "/nfs/home/upratius/.conda/envs/gpax_hae/lib/python3.10/site-packages/botorch/models/utils/assorted.py:202: InputDataWarning: Input data is not standardized (mean = tensor([390.0703], dtype=torch.float64), std = tensor([188.1920], dtype=torch.float64)). Please consider scaling the input to zero mean and unit variance.\n",
      "  warnings.warn(msg, InputDataWarning)\n",
      "/tmp/ipykernel_1292286/1166517645.py:24: UserWarning: To copy construct from a tensor, it is recommended to use sourceTensor.clone().detach() or sourceTensor.clone().detach().requires_grad_(True), rather than torch.tensor(sourceTensor).\n",
      "  posterior = gp_model(torch.tensor(X_unmeasured))\n",
      "/tmp/ipykernel_1292286/1166517645.py:15: UserWarning: To copy construct from a tensor, it is recommended to use sourceTensor.clone().detach() or sourceTensor.clone().detach().requires_grad_(True), rather than torch.tensor(sourceTensor).\n",
      "  gp_model = SingleTaskGP(torch.tensor(X_measured), torch.tensor(y_measured))\n",
      "/nfs/home/upratius/.conda/envs/gpax_hae/lib/python3.10/site-packages/botorch/models/utils/assorted.py:174: InputDataWarning: Input data is not contained to the unit cube. Please consider min-max scaling the input data.\n",
      "  warnings.warn(msg, InputDataWarning)\n",
      "/nfs/home/upratius/.conda/envs/gpax_hae/lib/python3.10/site-packages/botorch/models/utils/assorted.py:202: InputDataWarning: Input data is not standardized (mean = tensor([373.2881], dtype=torch.float64), std = tensor([174.3064], dtype=torch.float64)). Please consider scaling the input to zero mean and unit variance.\n",
      "  warnings.warn(msg, InputDataWarning)\n"
     ]
    },
    {
     "name": "stdout",
     "output_type": "stream",
     "text": [
      "Seed: 1, n_init: 20, Noise Level: 0\n",
      "(22, 1)\n",
      "(22, 1)\n",
      "\n",
      "Step 1/5\n"
     ]
    },
    {
     "name": "stderr",
     "output_type": "stream",
     "text": [
      "/tmp/ipykernel_1292286/1166517645.py:24: UserWarning: To copy construct from a tensor, it is recommended to use sourceTensor.clone().detach() or sourceTensor.clone().detach().requires_grad_(True), rather than torch.tensor(sourceTensor).\n",
      "  posterior = gp_model(torch.tensor(X_unmeasured))\n",
      "/tmp/ipykernel_1292286/1166517645.py:15: UserWarning: To copy construct from a tensor, it is recommended to use sourceTensor.clone().detach() or sourceTensor.clone().detach().requires_grad_(True), rather than torch.tensor(sourceTensor).\n",
      "  gp_model = SingleTaskGP(torch.tensor(X_measured), torch.tensor(y_measured))\n",
      "/nfs/home/upratius/.conda/envs/gpax_hae/lib/python3.10/site-packages/botorch/models/utils/assorted.py:174: InputDataWarning: Input data is not contained to the unit cube. Please consider min-max scaling the input data.\n",
      "  warnings.warn(msg, InputDataWarning)\n",
      "/nfs/home/upratius/.conda/envs/gpax_hae/lib/python3.10/site-packages/botorch/models/utils/assorted.py:202: InputDataWarning: Input data is not standardized (mean = tensor([383.1265], dtype=torch.float64), std = tensor([176.7144], dtype=torch.float64)). Please consider scaling the input to zero mean and unit variance.\n",
      "  warnings.warn(msg, InputDataWarning)\n",
      "/tmp/ipykernel_1292286/1166517645.py:24: UserWarning: To copy construct from a tensor, it is recommended to use sourceTensor.clone().detach() or sourceTensor.clone().detach().requires_grad_(True), rather than torch.tensor(sourceTensor).\n",
      "  posterior = gp_model(torch.tensor(X_unmeasured))\n",
      "/tmp/ipykernel_1292286/1166517645.py:15: UserWarning: To copy construct from a tensor, it is recommended to use sourceTensor.clone().detach() or sourceTensor.clone().detach().requires_grad_(True), rather than torch.tensor(sourceTensor).\n",
      "  gp_model = SingleTaskGP(torch.tensor(X_measured), torch.tensor(y_measured))\n",
      "/nfs/home/upratius/.conda/envs/gpax_hae/lib/python3.10/site-packages/botorch/models/utils/assorted.py:174: InputDataWarning: Input data is not contained to the unit cube. Please consider min-max scaling the input data.\n",
      "  warnings.warn(msg, InputDataWarning)\n",
      "/nfs/home/upratius/.conda/envs/gpax_hae/lib/python3.10/site-packages/botorch/models/utils/assorted.py:202: InputDataWarning: Input data is not standardized (mean = tensor([377.0960], dtype=torch.float64), std = tensor([175.3369], dtype=torch.float64)). Please consider scaling the input to zero mean and unit variance.\n",
      "  warnings.warn(msg, InputDataWarning)\n"
     ]
    },
    {
     "name": "stdout",
     "output_type": "stream",
     "text": [
      "\n",
      "Step 2/5\n",
      "\n",
      "Step 3/5\n"
     ]
    },
    {
     "name": "stderr",
     "output_type": "stream",
     "text": [
      "/tmp/ipykernel_1292286/1166517645.py:24: UserWarning: To copy construct from a tensor, it is recommended to use sourceTensor.clone().detach() or sourceTensor.clone().detach().requires_grad_(True), rather than torch.tensor(sourceTensor).\n",
      "  posterior = gp_model(torch.tensor(X_unmeasured))\n",
      "/tmp/ipykernel_1292286/1166517645.py:15: UserWarning: To copy construct from a tensor, it is recommended to use sourceTensor.clone().detach() or sourceTensor.clone().detach().requires_grad_(True), rather than torch.tensor(sourceTensor).\n",
      "  gp_model = SingleTaskGP(torch.tensor(X_measured), torch.tensor(y_measured))\n",
      "/nfs/home/upratius/.conda/envs/gpax_hae/lib/python3.10/site-packages/botorch/models/utils/assorted.py:174: InputDataWarning: Input data is not contained to the unit cube. Please consider min-max scaling the input data.\n",
      "  warnings.warn(msg, InputDataWarning)\n",
      "/nfs/home/upratius/.conda/envs/gpax_hae/lib/python3.10/site-packages/botorch/models/utils/assorted.py:202: InputDataWarning: Input data is not standardized (mean = tensor([371.5479], dtype=torch.float64), std = tensor([173.8724], dtype=torch.float64)). Please consider scaling the input to zero mean and unit variance.\n",
      "  warnings.warn(msg, InputDataWarning)\n"
     ]
    },
    {
     "name": "stdout",
     "output_type": "stream",
     "text": [
      "\n",
      "Step 4/5\n"
     ]
    },
    {
     "name": "stderr",
     "output_type": "stream",
     "text": [
      "/tmp/ipykernel_1292286/1166517645.py:24: UserWarning: To copy construct from a tensor, it is recommended to use sourceTensor.clone().detach() or sourceTensor.clone().detach().requires_grad_(True), rather than torch.tensor(sourceTensor).\n",
      "  posterior = gp_model(torch.tensor(X_unmeasured))\n",
      "/tmp/ipykernel_1292286/1166517645.py:15: UserWarning: To copy construct from a tensor, it is recommended to use sourceTensor.clone().detach() or sourceTensor.clone().detach().requires_grad_(True), rather than torch.tensor(sourceTensor).\n",
      "  gp_model = SingleTaskGP(torch.tensor(X_measured), torch.tensor(y_measured))\n",
      "/nfs/home/upratius/.conda/envs/gpax_hae/lib/python3.10/site-packages/botorch/models/utils/assorted.py:174: InputDataWarning: Input data is not contained to the unit cube. Please consider min-max scaling the input data.\n",
      "  warnings.warn(msg, InputDataWarning)\n",
      "/nfs/home/upratius/.conda/envs/gpax_hae/lib/python3.10/site-packages/botorch/models/utils/assorted.py:202: InputDataWarning: Input data is not standardized (mean = tensor([366.4266], dtype=torch.float64), std = tensor([172.3493], dtype=torch.float64)). Please consider scaling the input to zero mean and unit variance.\n",
      "  warnings.warn(msg, InputDataWarning)\n"
     ]
    },
    {
     "name": "stdout",
     "output_type": "stream",
     "text": [
      "\n",
      "Step 5/5\n"
     ]
    },
    {
     "name": "stderr",
     "output_type": "stream",
     "text": [
      "/tmp/ipykernel_1292286/1166517645.py:24: UserWarning: To copy construct from a tensor, it is recommended to use sourceTensor.clone().detach() or sourceTensor.clone().detach().requires_grad_(True), rather than torch.tensor(sourceTensor).\n",
      "  posterior = gp_model(torch.tensor(X_unmeasured))\n",
      "/tmp/ipykernel_1292286/1166517645.py:15: UserWarning: To copy construct from a tensor, it is recommended to use sourceTensor.clone().detach() or sourceTensor.clone().detach().requires_grad_(True), rather than torch.tensor(sourceTensor).\n",
      "  gp_model = SingleTaskGP(torch.tensor(X_measured), torch.tensor(y_measured))\n",
      "/nfs/home/upratius/.conda/envs/gpax_hae/lib/python3.10/site-packages/botorch/models/utils/assorted.py:174: InputDataWarning: Input data is not contained to the unit cube. Please consider min-max scaling the input data.\n",
      "  warnings.warn(msg, InputDataWarning)\n",
      "/nfs/home/upratius/.conda/envs/gpax_hae/lib/python3.10/site-packages/botorch/models/utils/assorted.py:202: InputDataWarning: Input data is not standardized (mean = tensor([373.2994], dtype=torch.float64), std = tensor([174.3064], dtype=torch.float64)). Please consider scaling the input to zero mean and unit variance.\n",
      "  warnings.warn(msg, InputDataWarning)\n",
      "/tmp/ipykernel_1292286/1166517645.py:24: UserWarning: To copy construct from a tensor, it is recommended to use sourceTensor.clone().detach() or sourceTensor.clone().detach().requires_grad_(True), rather than torch.tensor(sourceTensor).\n",
      "  posterior = gp_model(torch.tensor(X_unmeasured))\n",
      "/tmp/ipykernel_1292286/1166517645.py:15: UserWarning: To copy construct from a tensor, it is recommended to use sourceTensor.clone().detach() or sourceTensor.clone().detach().requires_grad_(True), rather than torch.tensor(sourceTensor).\n",
      "  gp_model = SingleTaskGP(torch.tensor(X_measured), torch.tensor(y_measured))\n",
      "/nfs/home/upratius/.conda/envs/gpax_hae/lib/python3.10/site-packages/botorch/models/utils/assorted.py:174: InputDataWarning: Input data is not contained to the unit cube. Please consider min-max scaling the input data.\n",
      "  warnings.warn(msg, InputDataWarning)\n",
      "/nfs/home/upratius/.conda/envs/gpax_hae/lib/python3.10/site-packages/botorch/models/utils/assorted.py:202: InputDataWarning: Input data is not standardized (mean = tensor([367.4339], dtype=torch.float64), std = tensor([172.6065], dtype=torch.float64)). Please consider scaling the input to zero mean and unit variance.\n",
      "  warnings.warn(msg, InputDataWarning)\n"
     ]
    },
    {
     "name": "stdout",
     "output_type": "stream",
     "text": [
      "Seed: 1, n_init: 20, Noise Level: 0.01\n",
      "(22, 1)\n",
      "(22, 1)\n",
      "\n",
      "Step 1/5\n",
      "\n",
      "Step 2/5\n"
     ]
    },
    {
     "name": "stderr",
     "output_type": "stream",
     "text": [
      "/tmp/ipykernel_1292286/1166517645.py:24: UserWarning: To copy construct from a tensor, it is recommended to use sourceTensor.clone().detach() or sourceTensor.clone().detach().requires_grad_(True), rather than torch.tensor(sourceTensor).\n",
      "  posterior = gp_model(torch.tensor(X_unmeasured))\n",
      "/tmp/ipykernel_1292286/1166517645.py:15: UserWarning: To copy construct from a tensor, it is recommended to use sourceTensor.clone().detach() or sourceTensor.clone().detach().requires_grad_(True), rather than torch.tensor(sourceTensor).\n",
      "  gp_model = SingleTaskGP(torch.tensor(X_measured), torch.tensor(y_measured))\n",
      "/nfs/home/upratius/.conda/envs/gpax_hae/lib/python3.10/site-packages/botorch/models/utils/assorted.py:174: InputDataWarning: Input data is not contained to the unit cube. Please consider min-max scaling the input data.\n",
      "  warnings.warn(msg, InputDataWarning)\n",
      "/nfs/home/upratius/.conda/envs/gpax_hae/lib/python3.10/site-packages/botorch/models/utils/assorted.py:202: InputDataWarning: Input data is not standardized (mean = tensor([386.3607], dtype=torch.float64), std = tensor([192.6008], dtype=torch.float64)). Please consider scaling the input to zero mean and unit variance.\n",
      "  warnings.warn(msg, InputDataWarning)\n",
      "/tmp/ipykernel_1292286/1166517645.py:24: UserWarning: To copy construct from a tensor, it is recommended to use sourceTensor.clone().detach() or sourceTensor.clone().detach().requires_grad_(True), rather than torch.tensor(sourceTensor).\n",
      "  posterior = gp_model(torch.tensor(X_unmeasured))\n",
      "/tmp/ipykernel_1292286/1166517645.py:15: UserWarning: To copy construct from a tensor, it is recommended to use sourceTensor.clone().detach() or sourceTensor.clone().detach().requires_grad_(True), rather than torch.tensor(sourceTensor).\n",
      "  gp_model = SingleTaskGP(torch.tensor(X_measured), torch.tensor(y_measured))\n",
      "/nfs/home/upratius/.conda/envs/gpax_hae/lib/python3.10/site-packages/botorch/models/utils/assorted.py:174: InputDataWarning: Input data is not contained to the unit cube. Please consider min-max scaling the input data.\n",
      "  warnings.warn(msg, InputDataWarning)\n",
      "/nfs/home/upratius/.conda/envs/gpax_hae/lib/python3.10/site-packages/botorch/models/utils/assorted.py:202: InputDataWarning: Input data is not standardized (mean = tensor([403.7738], dtype=torch.float64), std = tensor([207.6772], dtype=torch.float64)). Please consider scaling the input to zero mean and unit variance.\n",
      "  warnings.warn(msg, InputDataWarning)\n"
     ]
    },
    {
     "name": "stdout",
     "output_type": "stream",
     "text": [
      "\n",
      "Step 3/5\n",
      "\n",
      "Step 4/5\n"
     ]
    },
    {
     "name": "stderr",
     "output_type": "stream",
     "text": [
      "/tmp/ipykernel_1292286/1166517645.py:24: UserWarning: To copy construct from a tensor, it is recommended to use sourceTensor.clone().detach() or sourceTensor.clone().detach().requires_grad_(True), rather than torch.tensor(sourceTensor).\n",
      "  posterior = gp_model(torch.tensor(X_unmeasured))\n",
      "/tmp/ipykernel_1292286/1166517645.py:15: UserWarning: To copy construct from a tensor, it is recommended to use sourceTensor.clone().detach() or sourceTensor.clone().detach().requires_grad_(True), rather than torch.tensor(sourceTensor).\n",
      "  gp_model = SingleTaskGP(torch.tensor(X_measured), torch.tensor(y_measured))\n",
      "/nfs/home/upratius/.conda/envs/gpax_hae/lib/python3.10/site-packages/botorch/models/utils/assorted.py:174: InputDataWarning: Input data is not contained to the unit cube. Please consider min-max scaling the input data.\n",
      "  warnings.warn(msg, InputDataWarning)\n",
      "/nfs/home/upratius/.conda/envs/gpax_hae/lib/python3.10/site-packages/botorch/models/utils/assorted.py:202: InputDataWarning: Input data is not standardized (mean = tensor([397.4132], dtype=torch.float64), std = tensor([206.0497], dtype=torch.float64)). Please consider scaling the input to zero mean and unit variance.\n",
      "  warnings.warn(msg, InputDataWarning)\n",
      "/tmp/ipykernel_1292286/1166517645.py:24: UserWarning: To copy construct from a tensor, it is recommended to use sourceTensor.clone().detach() or sourceTensor.clone().detach().requires_grad_(True), rather than torch.tensor(sourceTensor).\n",
      "  posterior = gp_model(torch.tensor(X_unmeasured))\n",
      "/tmp/ipykernel_1292286/1166517645.py:15: UserWarning: To copy construct from a tensor, it is recommended to use sourceTensor.clone().detach() or sourceTensor.clone().detach().requires_grad_(True), rather than torch.tensor(sourceTensor).\n",
      "  gp_model = SingleTaskGP(torch.tensor(X_measured), torch.tensor(y_measured))\n",
      "/nfs/home/upratius/.conda/envs/gpax_hae/lib/python3.10/site-packages/botorch/models/utils/assorted.py:174: InputDataWarning: Input data is not contained to the unit cube. Please consider min-max scaling the input data.\n",
      "  warnings.warn(msg, InputDataWarning)\n",
      "/nfs/home/upratius/.conda/envs/gpax_hae/lib/python3.10/site-packages/botorch/models/utils/assorted.py:202: InputDataWarning: Input data is not standardized (mean = tensor([373.4014], dtype=torch.float64), std = tensor([174.3064], dtype=torch.float64)). Please consider scaling the input to zero mean and unit variance.\n",
      "  warnings.warn(msg, InputDataWarning)\n"
     ]
    },
    {
     "name": "stdout",
     "output_type": "stream",
     "text": [
      "\n",
      "Step 5/5\n",
      "Seed: 1, n_init: 20, Noise Level: 0.1\n",
      "(22, 1)\n",
      "(22, 1)\n",
      "\n",
      "Step 1/5\n"
     ]
    },
    {
     "name": "stderr",
     "output_type": "stream",
     "text": [
      "/tmp/ipykernel_1292286/1166517645.py:24: UserWarning: To copy construct from a tensor, it is recommended to use sourceTensor.clone().detach() or sourceTensor.clone().detach().requires_grad_(True), rather than torch.tensor(sourceTensor).\n",
      "  posterior = gp_model(torch.tensor(X_unmeasured))\n",
      "/tmp/ipykernel_1292286/1166517645.py:15: UserWarning: To copy construct from a tensor, it is recommended to use sourceTensor.clone().detach() or sourceTensor.clone().detach().requires_grad_(True), rather than torch.tensor(sourceTensor).\n",
      "  gp_model = SingleTaskGP(torch.tensor(X_measured), torch.tensor(y_measured))\n",
      "/nfs/home/upratius/.conda/envs/gpax_hae/lib/python3.10/site-packages/botorch/models/utils/assorted.py:174: InputDataWarning: Input data is not contained to the unit cube. Please consider min-max scaling the input data.\n",
      "  warnings.warn(msg, InputDataWarning)\n",
      "/nfs/home/upratius/.conda/envs/gpax_hae/lib/python3.10/site-packages/botorch/models/utils/assorted.py:202: InputDataWarning: Input data is not standardized (mean = tensor([384.0025], dtype=torch.float64), std = tensor([177.7258], dtype=torch.float64)). Please consider scaling the input to zero mean and unit variance.\n",
      "  warnings.warn(msg, InputDataWarning)\n"
     ]
    },
    {
     "name": "stdout",
     "output_type": "stream",
     "text": [
      "\n",
      "Step 2/5\n"
     ]
    },
    {
     "name": "stderr",
     "output_type": "stream",
     "text": [
      "/tmp/ipykernel_1292286/1166517645.py:24: UserWarning: To copy construct from a tensor, it is recommended to use sourceTensor.clone().detach() or sourceTensor.clone().detach().requires_grad_(True), rather than torch.tensor(sourceTensor).\n",
      "  posterior = gp_model(torch.tensor(X_unmeasured))\n",
      "/tmp/ipykernel_1292286/1166517645.py:15: UserWarning: To copy construct from a tensor, it is recommended to use sourceTensor.clone().detach() or sourceTensor.clone().detach().requires_grad_(True), rather than torch.tensor(sourceTensor).\n",
      "  gp_model = SingleTaskGP(torch.tensor(X_measured), torch.tensor(y_measured))\n",
      "/nfs/home/upratius/.conda/envs/gpax_hae/lib/python3.10/site-packages/botorch/models/utils/assorted.py:174: InputDataWarning: Input data is not contained to the unit cube. Please consider min-max scaling the input data.\n",
      "  warnings.warn(msg, InputDataWarning)\n",
      "/nfs/home/upratius/.conda/envs/gpax_hae/lib/python3.10/site-packages/botorch/models/utils/assorted.py:202: InputDataWarning: Input data is not standardized (mean = tensor([393.7172], dtype=torch.float64), std = tensor([180.2169], dtype=torch.float64)). Please consider scaling the input to zero mean and unit variance.\n",
      "  warnings.warn(msg, InputDataWarning)\n"
     ]
    },
    {
     "name": "stdout",
     "output_type": "stream",
     "text": [
      "\n",
      "Step 3/5\n"
     ]
    },
    {
     "name": "stderr",
     "output_type": "stream",
     "text": [
      "/tmp/ipykernel_1292286/1166517645.py:24: UserWarning: To copy construct from a tensor, it is recommended to use sourceTensor.clone().detach() or sourceTensor.clone().detach().requires_grad_(True), rather than torch.tensor(sourceTensor).\n",
      "  posterior = gp_model(torch.tensor(X_unmeasured))\n",
      "/tmp/ipykernel_1292286/1166517645.py:15: UserWarning: To copy construct from a tensor, it is recommended to use sourceTensor.clone().detach() or sourceTensor.clone().detach().requires_grad_(True), rather than torch.tensor(sourceTensor).\n",
      "  gp_model = SingleTaskGP(torch.tensor(X_measured), torch.tensor(y_measured))\n",
      "/nfs/home/upratius/.conda/envs/gpax_hae/lib/python3.10/site-packages/botorch/models/utils/assorted.py:174: InputDataWarning: Input data is not contained to the unit cube. Please consider min-max scaling the input data.\n",
      "  warnings.warn(msg, InputDataWarning)\n",
      "/nfs/home/upratius/.conda/envs/gpax_hae/lib/python3.10/site-packages/botorch/models/utils/assorted.py:202: InputDataWarning: Input data is not standardized (mean = tensor([387.5044], dtype=torch.float64), std = tensor([179.1364], dtype=torch.float64)). Please consider scaling the input to zero mean and unit variance.\n",
      "  warnings.warn(msg, InputDataWarning)\n"
     ]
    },
    {
     "name": "stdout",
     "output_type": "stream",
     "text": [
      "\n",
      "Step 4/5\n"
     ]
    },
    {
     "name": "stderr",
     "output_type": "stream",
     "text": [
      "/tmp/ipykernel_1292286/1166517645.py:24: UserWarning: To copy construct from a tensor, it is recommended to use sourceTensor.clone().detach() or sourceTensor.clone().detach().requires_grad_(True), rather than torch.tensor(sourceTensor).\n",
      "  posterior = gp_model(torch.tensor(X_unmeasured))\n",
      "/tmp/ipykernel_1292286/1166517645.py:15: UserWarning: To copy construct from a tensor, it is recommended to use sourceTensor.clone().detach() or sourceTensor.clone().detach().requires_grad_(True), rather than torch.tensor(sourceTensor).\n",
      "  gp_model = SingleTaskGP(torch.tensor(X_measured), torch.tensor(y_measured))\n",
      "/nfs/home/upratius/.conda/envs/gpax_hae/lib/python3.10/site-packages/botorch/models/utils/assorted.py:174: InputDataWarning: Input data is not contained to the unit cube. Please consider min-max scaling the input data.\n",
      "  warnings.warn(msg, InputDataWarning)\n",
      "/nfs/home/upratius/.conda/envs/gpax_hae/lib/python3.10/site-packages/botorch/models/utils/assorted.py:202: InputDataWarning: Input data is not standardized (mean = tensor([381.7716], dtype=torch.float64), std = tensor([177.9347], dtype=torch.float64)). Please consider scaling the input to zero mean and unit variance.\n",
      "  warnings.warn(msg, InputDataWarning)\n",
      "/tmp/ipykernel_1292286/1166517645.py:24: UserWarning: To copy construct from a tensor, it is recommended to use sourceTensor.clone().detach() or sourceTensor.clone().detach().requires_grad_(True), rather than torch.tensor(sourceTensor).\n",
      "  posterior = gp_model(torch.tensor(X_unmeasured))\n",
      "/tmp/ipykernel_1292286/1166517645.py:15: UserWarning: To copy construct from a tensor, it is recommended to use sourceTensor.clone().detach() or sourceTensor.clone().detach().requires_grad_(True), rather than torch.tensor(sourceTensor).\n",
      "  gp_model = SingleTaskGP(torch.tensor(X_measured), torch.tensor(y_measured))\n",
      "/nfs/home/upratius/.conda/envs/gpax_hae/lib/python3.10/site-packages/botorch/models/utils/assorted.py:174: InputDataWarning: Input data is not contained to the unit cube. Please consider min-max scaling the input data.\n",
      "  warnings.warn(msg, InputDataWarning)\n",
      "/nfs/home/upratius/.conda/envs/gpax_hae/lib/python3.10/site-packages/botorch/models/utils/assorted.py:202: InputDataWarning: Input data is not standardized (mean = tensor([373.8549], dtype=torch.float64), std = tensor([174.3064], dtype=torch.float64)). Please consider scaling the input to zero mean and unit variance.\n",
      "  warnings.warn(msg, InputDataWarning)\n"
     ]
    },
    {
     "name": "stdout",
     "output_type": "stream",
     "text": [
      "\n",
      "Step 5/5\n",
      "Seed: 1, n_init: 20, Noise Level: 0.5\n",
      "(22, 1)\n",
      "(22, 1)\n",
      "\n",
      "Step 1/5\n"
     ]
    },
    {
     "name": "stderr",
     "output_type": "stream",
     "text": [
      "/tmp/ipykernel_1292286/1166517645.py:24: UserWarning: To copy construct from a tensor, it is recommended to use sourceTensor.clone().detach() or sourceTensor.clone().detach().requires_grad_(True), rather than torch.tensor(sourceTensor).\n",
      "  posterior = gp_model(torch.tensor(X_unmeasured))\n",
      "/tmp/ipykernel_1292286/1166517645.py:15: UserWarning: To copy construct from a tensor, it is recommended to use sourceTensor.clone().detach() or sourceTensor.clone().detach().requires_grad_(True), rather than torch.tensor(sourceTensor).\n",
      "  gp_model = SingleTaskGP(torch.tensor(X_measured), torch.tensor(y_measured))\n",
      "/nfs/home/upratius/.conda/envs/gpax_hae/lib/python3.10/site-packages/botorch/models/utils/assorted.py:174: InputDataWarning: Input data is not contained to the unit cube. Please consider min-max scaling the input data.\n",
      "  warnings.warn(msg, InputDataWarning)\n",
      "/nfs/home/upratius/.conda/envs/gpax_hae/lib/python3.10/site-packages/botorch/models/utils/assorted.py:202: InputDataWarning: Input data is not standardized (mean = tensor([384.4333], dtype=torch.float64), std = tensor([177.6947], dtype=torch.float64)). Please consider scaling the input to zero mean and unit variance.\n",
      "  warnings.warn(msg, InputDataWarning)\n"
     ]
    },
    {
     "name": "stdout",
     "output_type": "stream",
     "text": [
      "\n",
      "Step 2/5\n"
     ]
    },
    {
     "name": "stderr",
     "output_type": "stream",
     "text": [
      "/tmp/ipykernel_1292286/1166517645.py:24: UserWarning: To copy construct from a tensor, it is recommended to use sourceTensor.clone().detach() or sourceTensor.clone().detach().requires_grad_(True), rather than torch.tensor(sourceTensor).\n",
      "  posterior = gp_model(torch.tensor(X_unmeasured))\n",
      "/tmp/ipykernel_1292286/1166517645.py:15: UserWarning: To copy construct from a tensor, it is recommended to use sourceTensor.clone().detach() or sourceTensor.clone().detach().requires_grad_(True), rather than torch.tensor(sourceTensor).\n",
      "  gp_model = SingleTaskGP(torch.tensor(X_measured), torch.tensor(y_measured))\n",
      "/nfs/home/upratius/.conda/envs/gpax_hae/lib/python3.10/site-packages/botorch/models/utils/assorted.py:174: InputDataWarning: Input data is not contained to the unit cube. Please consider min-max scaling the input data.\n",
      "  warnings.warn(msg, InputDataWarning)\n",
      "/nfs/home/upratius/.conda/envs/gpax_hae/lib/python3.10/site-packages/botorch/models/utils/assorted.py:202: InputDataWarning: Input data is not standardized (mean = tensor([378.3300], dtype=torch.float64), std = tensor([176.3422], dtype=torch.float64)). Please consider scaling the input to zero mean and unit variance.\n",
      "  warnings.warn(msg, InputDataWarning)\n",
      "/tmp/ipykernel_1292286/1166517645.py:24: UserWarning: To copy construct from a tensor, it is recommended to use sourceTensor.clone().detach() or sourceTensor.clone().detach().requires_grad_(True), rather than torch.tensor(sourceTensor).\n",
      "  posterior = gp_model(torch.tensor(X_unmeasured))\n",
      "/tmp/ipykernel_1292286/1166517645.py:15: UserWarning: To copy construct from a tensor, it is recommended to use sourceTensor.clone().detach() or sourceTensor.clone().detach().requires_grad_(True), rather than torch.tensor(sourceTensor).\n",
      "  gp_model = SingleTaskGP(torch.tensor(X_measured), torch.tensor(y_measured))\n",
      "/nfs/home/upratius/.conda/envs/gpax_hae/lib/python3.10/site-packages/botorch/models/utils/assorted.py:174: InputDataWarning: Input data is not contained to the unit cube. Please consider min-max scaling the input data.\n",
      "  warnings.warn(msg, InputDataWarning)\n",
      "/nfs/home/upratius/.conda/envs/gpax_hae/lib/python3.10/site-packages/botorch/models/utils/assorted.py:202: InputDataWarning: Input data is not standardized (mean = tensor([387.8873], dtype=torch.float64), std = tensor([179.1213], dtype=torch.float64)). Please consider scaling the input to zero mean and unit variance.\n",
      "  warnings.warn(msg, InputDataWarning)\n"
     ]
    },
    {
     "name": "stdout",
     "output_type": "stream",
     "text": [
      "\n",
      "Step 3/5\n",
      "\n",
      "Step 4/5\n"
     ]
    },
    {
     "name": "stderr",
     "output_type": "stream",
     "text": [
      "/tmp/ipykernel_1292286/1166517645.py:24: UserWarning: To copy construct from a tensor, it is recommended to use sourceTensor.clone().detach() or sourceTensor.clone().detach().requires_grad_(True), rather than torch.tensor(sourceTensor).\n",
      "  posterior = gp_model(torch.tensor(X_unmeasured))\n",
      "/tmp/ipykernel_1292286/1166517645.py:15: UserWarning: To copy construct from a tensor, it is recommended to use sourceTensor.clone().detach() or sourceTensor.clone().detach().requires_grad_(True), rather than torch.tensor(sourceTensor).\n",
      "  gp_model = SingleTaskGP(torch.tensor(X_measured), torch.tensor(y_measured))\n",
      "/nfs/home/upratius/.conda/envs/gpax_hae/lib/python3.10/site-packages/botorch/models/utils/assorted.py:174: InputDataWarning: Input data is not contained to the unit cube. Please consider min-max scaling the input data.\n",
      "  warnings.warn(msg, InputDataWarning)\n",
      "/nfs/home/upratius/.conda/envs/gpax_hae/lib/python3.10/site-packages/botorch/models/utils/assorted.py:202: InputDataWarning: Input data is not standardized (mean = tensor([404.5832], dtype=torch.float64), std = tensor([195.0604], dtype=torch.float64)). Please consider scaling the input to zero mean and unit variance.\n",
      "  warnings.warn(msg, InputDataWarning)\n"
     ]
    },
    {
     "name": "stdout",
     "output_type": "stream",
     "text": [
      "\n",
      "Step 5/5\n"
     ]
    },
    {
     "name": "stderr",
     "output_type": "stream",
     "text": [
      "/tmp/ipykernel_1292286/1166517645.py:24: UserWarning: To copy construct from a tensor, it is recommended to use sourceTensor.clone().detach() or sourceTensor.clone().detach().requires_grad_(True), rather than torch.tensor(sourceTensor).\n",
      "  posterior = gp_model(torch.tensor(X_unmeasured))\n",
      "/tmp/ipykernel_1292286/1166517645.py:15: UserWarning: To copy construct from a tensor, it is recommended to use sourceTensor.clone().detach() or sourceTensor.clone().detach().requires_grad_(True), rather than torch.tensor(sourceTensor).\n",
      "  gp_model = SingleTaskGP(torch.tensor(X_measured), torch.tensor(y_measured))\n",
      "/nfs/home/upratius/.conda/envs/gpax_hae/lib/python3.10/site-packages/botorch/models/utils/assorted.py:174: InputDataWarning: Input data is not contained to the unit cube. Please consider min-max scaling the input data.\n",
      "  warnings.warn(msg, InputDataWarning)\n",
      "/nfs/home/upratius/.conda/envs/gpax_hae/lib/python3.10/site-packages/botorch/models/utils/assorted.py:202: InputDataWarning: Input data is not standardized (mean = tensor([455.0257], dtype=torch.float64), std = tensor([143.6594], dtype=torch.float64)). Please consider scaling the input to zero mean and unit variance.\n",
      "  warnings.warn(msg, InputDataWarning)\n",
      "/tmp/ipykernel_1292286/1166517645.py:24: UserWarning: To copy construct from a tensor, it is recommended to use sourceTensor.clone().detach() or sourceTensor.clone().detach().requires_grad_(True), rather than torch.tensor(sourceTensor).\n",
      "  posterior = gp_model(torch.tensor(X_unmeasured))\n",
      "/tmp/ipykernel_1292286/1166517645.py:15: UserWarning: To copy construct from a tensor, it is recommended to use sourceTensor.clone().detach() or sourceTensor.clone().detach().requires_grad_(True), rather than torch.tensor(sourceTensor).\n",
      "  gp_model = SingleTaskGP(torch.tensor(X_measured), torch.tensor(y_measured))\n",
      "/nfs/home/upratius/.conda/envs/gpax_hae/lib/python3.10/site-packages/botorch/models/utils/assorted.py:174: InputDataWarning: Input data is not contained to the unit cube. Please consider min-max scaling the input data.\n",
      "  warnings.warn(msg, InputDataWarning)\n",
      "/nfs/home/upratius/.conda/envs/gpax_hae/lib/python3.10/site-packages/botorch/models/utils/assorted.py:202: InputDataWarning: Input data is not standardized (mean = tensor([466.1446], dtype=torch.float64), std = tensor([143.2668], dtype=torch.float64)). Please consider scaling the input to zero mean and unit variance.\n",
      "  warnings.warn(msg, InputDataWarning)\n",
      "/tmp/ipykernel_1292286/1166517645.py:24: UserWarning: To copy construct from a tensor, it is recommended to use sourceTensor.clone().detach() or sourceTensor.clone().detach().requires_grad_(True), rather than torch.tensor(sourceTensor).\n",
      "  posterior = gp_model(torch.tensor(X_unmeasured))\n"
     ]
    },
    {
     "name": "stdout",
     "output_type": "stream",
     "text": [
      "Seed: 2, n_init: 10, Noise Level: 0\n",
      "(12, 1)\n",
      "(12, 1)\n",
      "\n",
      "Step 1/5\n",
      "\n",
      "Step 2/5\n",
      "\n",
      "Step 3/5\n",
      "\n",
      "Step 4/5\n"
     ]
    },
    {
     "name": "stderr",
     "output_type": "stream",
     "text": [
      "/tmp/ipykernel_1292286/1166517645.py:15: UserWarning: To copy construct from a tensor, it is recommended to use sourceTensor.clone().detach() or sourceTensor.clone().detach().requires_grad_(True), rather than torch.tensor(sourceTensor).\n",
      "  gp_model = SingleTaskGP(torch.tensor(X_measured), torch.tensor(y_measured))\n",
      "/nfs/home/upratius/.conda/envs/gpax_hae/lib/python3.10/site-packages/botorch/models/utils/assorted.py:174: InputDataWarning: Input data is not contained to the unit cube. Please consider min-max scaling the input data.\n",
      "  warnings.warn(msg, InputDataWarning)\n",
      "/nfs/home/upratius/.conda/envs/gpax_hae/lib/python3.10/site-packages/botorch/models/utils/assorted.py:202: InputDataWarning: Input data is not standardized (mean = tensor([449.8767], dtype=torch.float64), std = tensor([150.5043], dtype=torch.float64)). Please consider scaling the input to zero mean and unit variance.\n",
      "  warnings.warn(msg, InputDataWarning)\n",
      "/tmp/ipykernel_1292286/1166517645.py:24: UserWarning: To copy construct from a tensor, it is recommended to use sourceTensor.clone().detach() or sourceTensor.clone().detach().requires_grad_(True), rather than torch.tensor(sourceTensor).\n",
      "  posterior = gp_model(torch.tensor(X_unmeasured))\n",
      "/tmp/ipykernel_1292286/1166517645.py:15: UserWarning: To copy construct from a tensor, it is recommended to use sourceTensor.clone().detach() or sourceTensor.clone().detach().requires_grad_(True), rather than torch.tensor(sourceTensor).\n",
      "  gp_model = SingleTaskGP(torch.tensor(X_measured), torch.tensor(y_measured))\n",
      "/nfs/home/upratius/.conda/envs/gpax_hae/lib/python3.10/site-packages/botorch/models/utils/assorted.py:174: InputDataWarning: Input data is not contained to the unit cube. Please consider min-max scaling the input data.\n",
      "  warnings.warn(msg, InputDataWarning)\n",
      "/nfs/home/upratius/.conda/envs/gpax_hae/lib/python3.10/site-packages/botorch/models/utils/assorted.py:202: InputDataWarning: Input data is not standardized (mean = tensor([459.8564], dtype=torch.float64), std = tensor([150.0916], dtype=torch.float64)). Please consider scaling the input to zero mean and unit variance.\n",
      "  warnings.warn(msg, InputDataWarning)\n",
      "/tmp/ipykernel_1292286/1166517645.py:24: UserWarning: To copy construct from a tensor, it is recommended to use sourceTensor.clone().detach() or sourceTensor.clone().detach().requires_grad_(True), rather than torch.tensor(sourceTensor).\n",
      "  posterior = gp_model(torch.tensor(X_unmeasured))\n",
      "/tmp/ipykernel_1292286/1166517645.py:15: UserWarning: To copy construct from a tensor, it is recommended to use sourceTensor.clone().detach() or sourceTensor.clone().detach().requires_grad_(True), rather than torch.tensor(sourceTensor).\n",
      "  gp_model = SingleTaskGP(torch.tensor(X_measured), torch.tensor(y_measured))\n",
      "/nfs/home/upratius/.conda/envs/gpax_hae/lib/python3.10/site-packages/botorch/models/utils/assorted.py:174: InputDataWarning: Input data is not contained to the unit cube. Please consider min-max scaling the input data.\n",
      "  warnings.warn(msg, InputDataWarning)\n",
      "/nfs/home/upratius/.conda/envs/gpax_hae/lib/python3.10/site-packages/botorch/models/utils/assorted.py:202: InputDataWarning: Input data is not standardized (mean = tensor([468.5886], dtype=torch.float64), std = tensor([149.1499], dtype=torch.float64)). Please consider scaling the input to zero mean and unit variance.\n",
      "  warnings.warn(msg, InputDataWarning)\n",
      "/tmp/ipykernel_1292286/1166517645.py:24: UserWarning: To copy construct from a tensor, it is recommended to use sourceTensor.clone().detach() or sourceTensor.clone().detach().requires_grad_(True), rather than torch.tensor(sourceTensor).\n",
      "  posterior = gp_model(torch.tensor(X_unmeasured))\n",
      "/tmp/ipykernel_1292286/1166517645.py:15: UserWarning: To copy construct from a tensor, it is recommended to use sourceTensor.clone().detach() or sourceTensor.clone().detach().requires_grad_(True), rather than torch.tensor(sourceTensor).\n",
      "  gp_model = SingleTaskGP(torch.tensor(X_measured), torch.tensor(y_measured))\n",
      "/nfs/home/upratius/.conda/envs/gpax_hae/lib/python3.10/site-packages/botorch/models/utils/assorted.py:174: InputDataWarning: Input data is not contained to the unit cube. Please consider min-max scaling the input data.\n",
      "  warnings.warn(msg, InputDataWarning)\n",
      "/nfs/home/upratius/.conda/envs/gpax_hae/lib/python3.10/site-packages/botorch/models/utils/assorted.py:202: InputDataWarning: Input data is not standardized (mean = tensor([455.0312], dtype=torch.float64), std = tensor([143.6594], dtype=torch.float64)). Please consider scaling the input to zero mean and unit variance.\n",
      "  warnings.warn(msg, InputDataWarning)\n"
     ]
    },
    {
     "name": "stdout",
     "output_type": "stream",
     "text": [
      "\n",
      "Step 5/5\n",
      "Seed: 2, n_init: 10, Noise Level: 0.01\n",
      "(12, 1)\n",
      "(12, 1)\n",
      "\n",
      "Step 1/5\n"
     ]
    },
    {
     "name": "stderr",
     "output_type": "stream",
     "text": [
      "/tmp/ipykernel_1292286/1166517645.py:24: UserWarning: To copy construct from a tensor, it is recommended to use sourceTensor.clone().detach() or sourceTensor.clone().detach().requires_grad_(True), rather than torch.tensor(sourceTensor).\n",
      "  posterior = gp_model(torch.tensor(X_unmeasured))\n",
      "/tmp/ipykernel_1292286/1166517645.py:15: UserWarning: To copy construct from a tensor, it is recommended to use sourceTensor.clone().detach() or sourceTensor.clone().detach().requires_grad_(True), rather than torch.tensor(sourceTensor).\n",
      "  gp_model = SingleTaskGP(torch.tensor(X_measured), torch.tensor(y_measured))\n",
      "/nfs/home/upratius/.conda/envs/gpax_hae/lib/python3.10/site-packages/botorch/models/utils/assorted.py:174: InputDataWarning: Input data is not contained to the unit cube. Please consider min-max scaling the input data.\n",
      "  warnings.warn(msg, InputDataWarning)\n",
      "/nfs/home/upratius/.conda/envs/gpax_hae/lib/python3.10/site-packages/botorch/models/utils/assorted.py:202: InputDataWarning: Input data is not standardized (mean = tensor([466.1497], dtype=torch.float64), std = tensor([143.2664], dtype=torch.float64)). Please consider scaling the input to zero mean and unit variance.\n",
      "  warnings.warn(msg, InputDataWarning)\n"
     ]
    },
    {
     "name": "stdout",
     "output_type": "stream",
     "text": [
      "\n",
      "Step 2/5\n"
     ]
    },
    {
     "name": "stderr",
     "output_type": "stream",
     "text": [
      "/tmp/ipykernel_1292286/1166517645.py:24: UserWarning: To copy construct from a tensor, it is recommended to use sourceTensor.clone().detach() or sourceTensor.clone().detach().requires_grad_(True), rather than torch.tensor(sourceTensor).\n",
      "  posterior = gp_model(torch.tensor(X_unmeasured))\n",
      "/tmp/ipykernel_1292286/1166517645.py:15: UserWarning: To copy construct from a tensor, it is recommended to use sourceTensor.clone().detach() or sourceTensor.clone().detach().requires_grad_(True), rather than torch.tensor(sourceTensor).\n",
      "  gp_model = SingleTaskGP(torch.tensor(X_measured), torch.tensor(y_measured))\n",
      "/nfs/home/upratius/.conda/envs/gpax_hae/lib/python3.10/site-packages/botorch/models/utils/assorted.py:174: InputDataWarning: Input data is not contained to the unit cube. Please consider min-max scaling the input data.\n",
      "  warnings.warn(msg, InputDataWarning)\n",
      "/nfs/home/upratius/.conda/envs/gpax_hae/lib/python3.10/site-packages/botorch/models/utils/assorted.py:202: InputDataWarning: Input data is not standardized (mean = tensor([449.8807], dtype=torch.float64), std = tensor([150.5057], dtype=torch.float64)). Please consider scaling the input to zero mean and unit variance.\n",
      "  warnings.warn(msg, InputDataWarning)\n"
     ]
    },
    {
     "name": "stdout",
     "output_type": "stream",
     "text": [
      "\n",
      "Step 3/5\n",
      "\n",
      "Step 4/5\n"
     ]
    },
    {
     "name": "stderr",
     "output_type": "stream",
     "text": [
      "/tmp/ipykernel_1292286/1166517645.py:24: UserWarning: To copy construct from a tensor, it is recommended to use sourceTensor.clone().detach() or sourceTensor.clone().detach().requires_grad_(True), rather than torch.tensor(sourceTensor).\n",
      "  posterior = gp_model(torch.tensor(X_unmeasured))\n",
      "/tmp/ipykernel_1292286/1166517645.py:15: UserWarning: To copy construct from a tensor, it is recommended to use sourceTensor.clone().detach() or sourceTensor.clone().detach().requires_grad_(True), rather than torch.tensor(sourceTensor).\n",
      "  gp_model = SingleTaskGP(torch.tensor(X_measured), torch.tensor(y_measured))\n",
      "/nfs/home/upratius/.conda/envs/gpax_hae/lib/python3.10/site-packages/botorch/models/utils/assorted.py:174: InputDataWarning: Input data is not contained to the unit cube. Please consider min-max scaling the input data.\n",
      "  warnings.warn(msg, InputDataWarning)\n",
      "/nfs/home/upratius/.conda/envs/gpax_hae/lib/python3.10/site-packages/botorch/models/utils/assorted.py:202: InputDataWarning: Input data is not standardized (mean = tensor([459.8604], dtype=torch.float64), std = tensor([150.0930], dtype=torch.float64)). Please consider scaling the input to zero mean and unit variance.\n",
      "  warnings.warn(msg, InputDataWarning)\n",
      "/tmp/ipykernel_1292286/1166517645.py:24: UserWarning: To copy construct from a tensor, it is recommended to use sourceTensor.clone().detach() or sourceTensor.clone().detach().requires_grad_(True), rather than torch.tensor(sourceTensor).\n",
      "  posterior = gp_model(torch.tensor(X_unmeasured))\n",
      "/tmp/ipykernel_1292286/1166517645.py:15: UserWarning: To copy construct from a tensor, it is recommended to use sourceTensor.clone().detach() or sourceTensor.clone().detach().requires_grad_(True), rather than torch.tensor(sourceTensor).\n",
      "  gp_model = SingleTaskGP(torch.tensor(X_measured), torch.tensor(y_measured))\n",
      "/nfs/home/upratius/.conda/envs/gpax_hae/lib/python3.10/site-packages/botorch/models/utils/assorted.py:174: InputDataWarning: Input data is not contained to the unit cube. Please consider min-max scaling the input data.\n",
      "  warnings.warn(msg, InputDataWarning)\n",
      "/nfs/home/upratius/.conda/envs/gpax_hae/lib/python3.10/site-packages/botorch/models/utils/assorted.py:202: InputDataWarning: Input data is not standardized (mean = tensor([468.5920], dtype=torch.float64), std = tensor([149.1506], dtype=torch.float64)). Please consider scaling the input to zero mean and unit variance.\n",
      "  warnings.warn(msg, InputDataWarning)\n"
     ]
    },
    {
     "name": "stdout",
     "output_type": "stream",
     "text": [
      "\n",
      "Step 5/5\n",
      "Seed: 2, n_init: 10, Noise Level: 0.1\n",
      "(12, 1)\n",
      "(12, 1)\n",
      "\n",
      "Step 1/5\n"
     ]
    },
    {
     "name": "stderr",
     "output_type": "stream",
     "text": [
      "/tmp/ipykernel_1292286/1166517645.py:24: UserWarning: To copy construct from a tensor, it is recommended to use sourceTensor.clone().detach() or sourceTensor.clone().detach().requires_grad_(True), rather than torch.tensor(sourceTensor).\n",
      "  posterior = gp_model(torch.tensor(X_unmeasured))\n",
      "/tmp/ipykernel_1292286/1166517645.py:15: UserWarning: To copy construct from a tensor, it is recommended to use sourceTensor.clone().detach() or sourceTensor.clone().detach().requires_grad_(True), rather than torch.tensor(sourceTensor).\n",
      "  gp_model = SingleTaskGP(torch.tensor(X_measured), torch.tensor(y_measured))\n",
      "/nfs/home/upratius/.conda/envs/gpax_hae/lib/python3.10/site-packages/botorch/models/utils/assorted.py:174: InputDataWarning: Input data is not contained to the unit cube. Please consider min-max scaling the input data.\n",
      "  warnings.warn(msg, InputDataWarning)\n",
      "/nfs/home/upratius/.conda/envs/gpax_hae/lib/python3.10/site-packages/botorch/models/utils/assorted.py:202: InputDataWarning: Input data is not standardized (mean = tensor([455.0808], dtype=torch.float64), std = tensor([143.6594], dtype=torch.float64)). Please consider scaling the input to zero mean and unit variance.\n",
      "  warnings.warn(msg, InputDataWarning)\n",
      "/tmp/ipykernel_1292286/1166517645.py:24: UserWarning: To copy construct from a tensor, it is recommended to use sourceTensor.clone().detach() or sourceTensor.clone().detach().requires_grad_(True), rather than torch.tensor(sourceTensor).\n",
      "  posterior = gp_model(torch.tensor(X_unmeasured))\n",
      "/tmp/ipykernel_1292286/1166517645.py:15: UserWarning: To copy construct from a tensor, it is recommended to use sourceTensor.clone().detach() or sourceTensor.clone().detach().requires_grad_(True), rather than torch.tensor(sourceTensor).\n",
      "  gp_model = SingleTaskGP(torch.tensor(X_measured), torch.tensor(y_measured))\n",
      "/nfs/home/upratius/.conda/envs/gpax_hae/lib/python3.10/site-packages/botorch/models/utils/assorted.py:174: InputDataWarning: Input data is not contained to the unit cube. Please consider min-max scaling the input data.\n",
      "  warnings.warn(msg, InputDataWarning)\n",
      "/nfs/home/upratius/.conda/envs/gpax_hae/lib/python3.10/site-packages/botorch/models/utils/assorted.py:202: InputDataWarning: Input data is not standardized (mean = tensor([466.1958], dtype=torch.float64), std = tensor([143.2629], dtype=torch.float64)). Please consider scaling the input to zero mean and unit variance.\n",
      "  warnings.warn(msg, InputDataWarning)\n"
     ]
    },
    {
     "name": "stdout",
     "output_type": "stream",
     "text": [
      "\n",
      "Step 2/5\n",
      "\n",
      "Step 3/5\n"
     ]
    },
    {
     "name": "stderr",
     "output_type": "stream",
     "text": [
      "/tmp/ipykernel_1292286/1166517645.py:24: UserWarning: To copy construct from a tensor, it is recommended to use sourceTensor.clone().detach() or sourceTensor.clone().detach().requires_grad_(True), rather than torch.tensor(sourceTensor).\n",
      "  posterior = gp_model(torch.tensor(X_unmeasured))\n",
      "/tmp/ipykernel_1292286/1166517645.py:15: UserWarning: To copy construct from a tensor, it is recommended to use sourceTensor.clone().detach() or sourceTensor.clone().detach().requires_grad_(True), rather than torch.tensor(sourceTensor).\n",
      "  gp_model = SingleTaskGP(torch.tensor(X_measured), torch.tensor(y_measured))\n",
      "/nfs/home/upratius/.conda/envs/gpax_hae/lib/python3.10/site-packages/botorch/models/utils/assorted.py:174: InputDataWarning: Input data is not contained to the unit cube. Please consider min-max scaling the input data.\n",
      "  warnings.warn(msg, InputDataWarning)\n",
      "/nfs/home/upratius/.conda/envs/gpax_hae/lib/python3.10/site-packages/botorch/models/utils/assorted.py:202: InputDataWarning: Input data is not standardized (mean = tensor([449.9163], dtype=torch.float64), std = tensor([150.5184], dtype=torch.float64)). Please consider scaling the input to zero mean and unit variance.\n",
      "  warnings.warn(msg, InputDataWarning)\n",
      "/tmp/ipykernel_1292286/1166517645.py:24: UserWarning: To copy construct from a tensor, it is recommended to use sourceTensor.clone().detach() or sourceTensor.clone().detach().requires_grad_(True), rather than torch.tensor(sourceTensor).\n",
      "  posterior = gp_model(torch.tensor(X_unmeasured))\n",
      "/tmp/ipykernel_1292286/1166517645.py:15: UserWarning: To copy construct from a tensor, it is recommended to use sourceTensor.clone().detach() or sourceTensor.clone().detach().requires_grad_(True), rather than torch.tensor(sourceTensor).\n",
      "  gp_model = SingleTaskGP(torch.tensor(X_measured), torch.tensor(y_measured))\n",
      "/nfs/home/upratius/.conda/envs/gpax_hae/lib/python3.10/site-packages/botorch/models/utils/assorted.py:174: InputDataWarning: Input data is not contained to the unit cube. Please consider min-max scaling the input data.\n",
      "  warnings.warn(msg, InputDataWarning)\n",
      "/nfs/home/upratius/.conda/envs/gpax_hae/lib/python3.10/site-packages/botorch/models/utils/assorted.py:202: InputDataWarning: Input data is not standardized (mean = tensor([459.8969], dtype=torch.float64), std = tensor([150.1057], dtype=torch.float64)). Please consider scaling the input to zero mean and unit variance.\n",
      "  warnings.warn(msg, InputDataWarning)\n"
     ]
    },
    {
     "name": "stdout",
     "output_type": "stream",
     "text": [
      "\n",
      "Step 4/5\n"
     ]
    },
    {
     "name": "stderr",
     "output_type": "stream",
     "text": [
      "/tmp/ipykernel_1292286/1166517645.py:24: UserWarning: To copy construct from a tensor, it is recommended to use sourceTensor.clone().detach() or sourceTensor.clone().detach().requires_grad_(True), rather than torch.tensor(sourceTensor).\n",
      "  posterior = gp_model(torch.tensor(X_unmeasured))\n",
      "/tmp/ipykernel_1292286/1166517645.py:15: UserWarning: To copy construct from a tensor, it is recommended to use sourceTensor.clone().detach() or sourceTensor.clone().detach().requires_grad_(True), rather than torch.tensor(sourceTensor).\n",
      "  gp_model = SingleTaskGP(torch.tensor(X_measured), torch.tensor(y_measured))\n",
      "/nfs/home/upratius/.conda/envs/gpax_hae/lib/python3.10/site-packages/botorch/models/utils/assorted.py:174: InputDataWarning: Input data is not contained to the unit cube. Please consider min-max scaling the input data.\n",
      "  warnings.warn(msg, InputDataWarning)\n",
      "/nfs/home/upratius/.conda/envs/gpax_hae/lib/python3.10/site-packages/botorch/models/utils/assorted.py:202: InputDataWarning: Input data is not standardized (mean = tensor([446.0492], dtype=torch.float64), std = tensor([155.2345], dtype=torch.float64)). Please consider scaling the input to zero mean and unit variance.\n",
      "  warnings.warn(msg, InputDataWarning)\n"
     ]
    },
    {
     "name": "stdout",
     "output_type": "stream",
     "text": [
      "\n",
      "Step 5/5\n"
     ]
    },
    {
     "name": "stderr",
     "output_type": "stream",
     "text": [
      "/tmp/ipykernel_1292286/1166517645.py:24: UserWarning: To copy construct from a tensor, it is recommended to use sourceTensor.clone().detach() or sourceTensor.clone().detach().requires_grad_(True), rather than torch.tensor(sourceTensor).\n",
      "  posterior = gp_model(torch.tensor(X_unmeasured))\n",
      "/tmp/ipykernel_1292286/1166517645.py:15: UserWarning: To copy construct from a tensor, it is recommended to use sourceTensor.clone().detach() or sourceTensor.clone().detach().requires_grad_(True), rather than torch.tensor(sourceTensor).\n",
      "  gp_model = SingleTaskGP(torch.tensor(X_measured), torch.tensor(y_measured))\n",
      "/nfs/home/upratius/.conda/envs/gpax_hae/lib/python3.10/site-packages/botorch/models/utils/assorted.py:174: InputDataWarning: Input data is not contained to the unit cube. Please consider min-max scaling the input data.\n",
      "  warnings.warn(msg, InputDataWarning)\n",
      "/nfs/home/upratius/.conda/envs/gpax_hae/lib/python3.10/site-packages/botorch/models/utils/assorted.py:202: InputDataWarning: Input data is not standardized (mean = tensor([455.3014], dtype=torch.float64), std = tensor([143.6594], dtype=torch.float64)). Please consider scaling the input to zero mean and unit variance.\n",
      "  warnings.warn(msg, InputDataWarning)\n",
      "/tmp/ipykernel_1292286/1166517645.py:24: UserWarning: To copy construct from a tensor, it is recommended to use sourceTensor.clone().detach() or sourceTensor.clone().detach().requires_grad_(True), rather than torch.tensor(sourceTensor).\n",
      "  posterior = gp_model(torch.tensor(X_unmeasured))\n",
      "/tmp/ipykernel_1292286/1166517645.py:15: UserWarning: To copy construct from a tensor, it is recommended to use sourceTensor.clone().detach() or sourceTensor.clone().detach().requires_grad_(True), rather than torch.tensor(sourceTensor).\n",
      "  gp_model = SingleTaskGP(torch.tensor(X_measured), torch.tensor(y_measured))\n",
      "/nfs/home/upratius/.conda/envs/gpax_hae/lib/python3.10/site-packages/botorch/models/utils/assorted.py:174: InputDataWarning: Input data is not contained to the unit cube. Please consider min-max scaling the input data.\n",
      "  warnings.warn(msg, InputDataWarning)\n",
      "/nfs/home/upratius/.conda/envs/gpax_hae/lib/python3.10/site-packages/botorch/models/utils/assorted.py:202: InputDataWarning: Input data is not standardized (mean = tensor([466.4007], dtype=torch.float64), std = tensor([143.2471], dtype=torch.float64)). Please consider scaling the input to zero mean and unit variance.\n",
      "  warnings.warn(msg, InputDataWarning)\n"
     ]
    },
    {
     "name": "stdout",
     "output_type": "stream",
     "text": [
      "Seed: 2, n_init: 10, Noise Level: 0.5\n",
      "(12, 1)\n",
      "(12, 1)\n",
      "\n",
      "Step 1/5\n",
      "\n",
      "Step 2/5\n"
     ]
    },
    {
     "name": "stderr",
     "output_type": "stream",
     "text": [
      "/tmp/ipykernel_1292286/1166517645.py:24: UserWarning: To copy construct from a tensor, it is recommended to use sourceTensor.clone().detach() or sourceTensor.clone().detach().requires_grad_(True), rather than torch.tensor(sourceTensor).\n",
      "  posterior = gp_model(torch.tensor(X_unmeasured))\n",
      "/tmp/ipykernel_1292286/1166517645.py:15: UserWarning: To copy construct from a tensor, it is recommended to use sourceTensor.clone().detach() or sourceTensor.clone().detach().requires_grad_(True), rather than torch.tensor(sourceTensor).\n",
      "  gp_model = SingleTaskGP(torch.tensor(X_measured), torch.tensor(y_measured))\n",
      "/nfs/home/upratius/.conda/envs/gpax_hae/lib/python3.10/site-packages/botorch/models/utils/assorted.py:174: InputDataWarning: Input data is not contained to the unit cube. Please consider min-max scaling the input data.\n",
      "  warnings.warn(msg, InputDataWarning)\n",
      "/nfs/home/upratius/.conda/envs/gpax_hae/lib/python3.10/site-packages/botorch/models/utils/assorted.py:202: InputDataWarning: Input data is not standardized (mean = tensor([450.0746], dtype=torch.float64), std = tensor([150.5752], dtype=torch.float64)). Please consider scaling the input to zero mean and unit variance.\n",
      "  warnings.warn(msg, InputDataWarning)\n"
     ]
    },
    {
     "name": "stdout",
     "output_type": "stream",
     "text": [
      "\n",
      "Step 3/5\n"
     ]
    },
    {
     "name": "stderr",
     "output_type": "stream",
     "text": [
      "/tmp/ipykernel_1292286/1166517645.py:24: UserWarning: To copy construct from a tensor, it is recommended to use sourceTensor.clone().detach() or sourceTensor.clone().detach().requires_grad_(True), rather than torch.tensor(sourceTensor).\n",
      "  posterior = gp_model(torch.tensor(X_unmeasured))\n",
      "/tmp/ipykernel_1292286/1166517645.py:15: UserWarning: To copy construct from a tensor, it is recommended to use sourceTensor.clone().detach() or sourceTensor.clone().detach().requires_grad_(True), rather than torch.tensor(sourceTensor).\n",
      "  gp_model = SingleTaskGP(torch.tensor(X_measured), torch.tensor(y_measured))\n",
      "/nfs/home/upratius/.conda/envs/gpax_hae/lib/python3.10/site-packages/botorch/models/utils/assorted.py:174: InputDataWarning: Input data is not contained to the unit cube. Please consider min-max scaling the input data.\n",
      "  warnings.warn(msg, InputDataWarning)\n",
      "/nfs/home/upratius/.conda/envs/gpax_hae/lib/python3.10/site-packages/botorch/models/utils/assorted.py:202: InputDataWarning: Input data is not standardized (mean = tensor([435.9805], dtype=torch.float64), std = tensor([155.0259], dtype=torch.float64)). Please consider scaling the input to zero mean and unit variance.\n",
      "  warnings.warn(msg, InputDataWarning)\n",
      "/tmp/ipykernel_1292286/1166517645.py:24: UserWarning: To copy construct from a tensor, it is recommended to use sourceTensor.clone().detach() or sourceTensor.clone().detach().requires_grad_(True), rather than torch.tensor(sourceTensor).\n",
      "  posterior = gp_model(torch.tensor(X_unmeasured))\n",
      "/tmp/ipykernel_1292286/1166517645.py:15: UserWarning: To copy construct from a tensor, it is recommended to use sourceTensor.clone().detach() or sourceTensor.clone().detach().requires_grad_(True), rather than torch.tensor(sourceTensor).\n",
      "  gp_model = SingleTaskGP(torch.tensor(X_measured), torch.tensor(y_measured))\n",
      "/nfs/home/upratius/.conda/envs/gpax_hae/lib/python3.10/site-packages/botorch/models/utils/assorted.py:174: InputDataWarning: Input data is not contained to the unit cube. Please consider min-max scaling the input data.\n",
      "  warnings.warn(msg, InputDataWarning)\n",
      "/nfs/home/upratius/.conda/envs/gpax_hae/lib/python3.10/site-packages/botorch/models/utils/assorted.py:202: InputDataWarning: Input data is not standardized (mean = tensor([446.1863], dtype=torch.float64), std = tensor([155.2333], dtype=torch.float64)). Please consider scaling the input to zero mean and unit variance.\n",
      "  warnings.warn(msg, InputDataWarning)\n"
     ]
    },
    {
     "name": "stdout",
     "output_type": "stream",
     "text": [
      "\n",
      "Step 4/5\n",
      "\n",
      "Step 5/5\n"
     ]
    },
    {
     "name": "stderr",
     "output_type": "stream",
     "text": [
      "/tmp/ipykernel_1292286/1166517645.py:24: UserWarning: To copy construct from a tensor, it is recommended to use sourceTensor.clone().detach() or sourceTensor.clone().detach().requires_grad_(True), rather than torch.tensor(sourceTensor).\n",
      "  posterior = gp_model(torch.tensor(X_unmeasured))\n",
      "/tmp/ipykernel_1292286/1166517645.py:15: UserWarning: To copy construct from a tensor, it is recommended to use sourceTensor.clone().detach() or sourceTensor.clone().detach().requires_grad_(True), rather than torch.tensor(sourceTensor).\n",
      "  gp_model = SingleTaskGP(torch.tensor(X_measured), torch.tensor(y_measured))\n",
      "/nfs/home/upratius/.conda/envs/gpax_hae/lib/python3.10/site-packages/botorch/models/utils/assorted.py:174: InputDataWarning: Input data is not contained to the unit cube. Please consider min-max scaling the input data.\n",
      "  warnings.warn(msg, InputDataWarning)\n",
      "/nfs/home/upratius/.conda/envs/gpax_hae/lib/python3.10/site-packages/botorch/models/utils/assorted.py:202: InputDataWarning: Input data is not standardized (mean = tensor([442.5289], dtype=torch.float64), std = tensor([144.8233], dtype=torch.float64)). Please consider scaling the input to zero mean and unit variance.\n",
      "  warnings.warn(msg, InputDataWarning)\n"
     ]
    },
    {
     "name": "stdout",
     "output_type": "stream",
     "text": [
      "Seed: 2, n_init: 15, Noise Level: 0\n",
      "(17, 1)\n",
      "(17, 1)\n",
      "\n",
      "Step 1/5\n"
     ]
    },
    {
     "name": "stderr",
     "output_type": "stream",
     "text": [
      "/tmp/ipykernel_1292286/1166517645.py:24: UserWarning: To copy construct from a tensor, it is recommended to use sourceTensor.clone().detach() or sourceTensor.clone().detach().requires_grad_(True), rather than torch.tensor(sourceTensor).\n",
      "  posterior = gp_model(torch.tensor(X_unmeasured))\n",
      "/tmp/ipykernel_1292286/1166517645.py:15: UserWarning: To copy construct from a tensor, it is recommended to use sourceTensor.clone().detach() or sourceTensor.clone().detach().requires_grad_(True), rather than torch.tensor(sourceTensor).\n",
      "  gp_model = SingleTaskGP(torch.tensor(X_measured), torch.tensor(y_measured))\n",
      "/nfs/home/upratius/.conda/envs/gpax_hae/lib/python3.10/site-packages/botorch/models/utils/assorted.py:174: InputDataWarning: Input data is not contained to the unit cube. Please consider min-max scaling the input data.\n",
      "  warnings.warn(msg, InputDataWarning)\n",
      "/nfs/home/upratius/.conda/envs/gpax_hae/lib/python3.10/site-packages/botorch/models/utils/assorted.py:202: InputDataWarning: Input data is not standardized (mean = tensor([451.2535], dtype=torch.float64), std = tensor([145.2935], dtype=torch.float64)). Please consider scaling the input to zero mean and unit variance.\n",
      "  warnings.warn(msg, InputDataWarning)\n"
     ]
    },
    {
     "name": "stdout",
     "output_type": "stream",
     "text": [
      "\n",
      "Step 2/5\n"
     ]
    },
    {
     "name": "stderr",
     "output_type": "stream",
     "text": [
      "/tmp/ipykernel_1292286/1166517645.py:24: UserWarning: To copy construct from a tensor, it is recommended to use sourceTensor.clone().detach() or sourceTensor.clone().detach().requires_grad_(True), rather than torch.tensor(sourceTensor).\n",
      "  posterior = gp_model(torch.tensor(X_unmeasured))\n",
      "/tmp/ipykernel_1292286/1166517645.py:15: UserWarning: To copy construct from a tensor, it is recommended to use sourceTensor.clone().detach() or sourceTensor.clone().detach().requires_grad_(True), rather than torch.tensor(sourceTensor).\n",
      "  gp_model = SingleTaskGP(torch.tensor(X_measured), torch.tensor(y_measured))\n",
      "/nfs/home/upratius/.conda/envs/gpax_hae/lib/python3.10/site-packages/botorch/models/utils/assorted.py:174: InputDataWarning: Input data is not contained to the unit cube. Please consider min-max scaling the input data.\n",
      "  warnings.warn(msg, InputDataWarning)\n",
      "/nfs/home/upratius/.conda/envs/gpax_hae/lib/python3.10/site-packages/botorch/models/utils/assorted.py:202: InputDataWarning: Input data is not standardized (mean = tensor([459.0598], dtype=torch.float64), std = tensor([145.2419], dtype=torch.float64)). Please consider scaling the input to zero mean and unit variance.\n",
      "  warnings.warn(msg, InputDataWarning)\n",
      "/tmp/ipykernel_1292286/1166517645.py:24: UserWarning: To copy construct from a tensor, it is recommended to use sourceTensor.clone().detach() or sourceTensor.clone().detach().requires_grad_(True), rather than torch.tensor(sourceTensor).\n",
      "  posterior = gp_model(torch.tensor(X_unmeasured))\n",
      "/tmp/ipykernel_1292286/1166517645.py:15: UserWarning: To copy construct from a tensor, it is recommended to use sourceTensor.clone().detach() or sourceTensor.clone().detach().requires_grad_(True), rather than torch.tensor(sourceTensor).\n",
      "  gp_model = SingleTaskGP(torch.tensor(X_measured), torch.tensor(y_measured))\n",
      "/nfs/home/upratius/.conda/envs/gpax_hae/lib/python3.10/site-packages/botorch/models/utils/assorted.py:174: InputDataWarning: Input data is not contained to the unit cube. Please consider min-max scaling the input data.\n",
      "  warnings.warn(msg, InputDataWarning)\n",
      "/nfs/home/upratius/.conda/envs/gpax_hae/lib/python3.10/site-packages/botorch/models/utils/assorted.py:202: InputDataWarning: Input data is not standardized (mean = tensor([466.0854], dtype=torch.float64), std = tensor([144.8175], dtype=torch.float64)). Please consider scaling the input to zero mean and unit variance.\n",
      "  warnings.warn(msg, InputDataWarning)\n"
     ]
    },
    {
     "name": "stdout",
     "output_type": "stream",
     "text": [
      "\n",
      "Step 3/5\n",
      "\n",
      "Step 4/5\n"
     ]
    },
    {
     "name": "stderr",
     "output_type": "stream",
     "text": [
      "/tmp/ipykernel_1292286/1166517645.py:24: UserWarning: To copy construct from a tensor, it is recommended to use sourceTensor.clone().detach() or sourceTensor.clone().detach().requires_grad_(True), rather than torch.tensor(sourceTensor).\n",
      "  posterior = gp_model(torch.tensor(X_unmeasured))\n",
      "/tmp/ipykernel_1292286/1166517645.py:15: UserWarning: To copy construct from a tensor, it is recommended to use sourceTensor.clone().detach() or sourceTensor.clone().detach().requires_grad_(True), rather than torch.tensor(sourceTensor).\n",
      "  gp_model = SingleTaskGP(torch.tensor(X_measured), torch.tensor(y_measured))\n",
      "/nfs/home/upratius/.conda/envs/gpax_hae/lib/python3.10/site-packages/botorch/models/utils/assorted.py:174: InputDataWarning: Input data is not contained to the unit cube. Please consider min-max scaling the input data.\n",
      "  warnings.warn(msg, InputDataWarning)\n",
      "/nfs/home/upratius/.conda/envs/gpax_hae/lib/python3.10/site-packages/botorch/models/utils/assorted.py:202: InputDataWarning: Input data is not standardized (mean = tensor([455.2429], dtype=torch.float64), std = tensor([149.6404], dtype=torch.float64)). Please consider scaling the input to zero mean and unit variance.\n",
      "  warnings.warn(msg, InputDataWarning)\n"
     ]
    },
    {
     "name": "stdout",
     "output_type": "stream",
     "text": [
      "\n",
      "Step 5/5\n"
     ]
    },
    {
     "name": "stderr",
     "output_type": "stream",
     "text": [
      "/tmp/ipykernel_1292286/1166517645.py:24: UserWarning: To copy construct from a tensor, it is recommended to use sourceTensor.clone().detach() or sourceTensor.clone().detach().requires_grad_(True), rather than torch.tensor(sourceTensor).\n",
      "  posterior = gp_model(torch.tensor(X_unmeasured))\n",
      "/tmp/ipykernel_1292286/1166517645.py:15: UserWarning: To copy construct from a tensor, it is recommended to use sourceTensor.clone().detach() or sourceTensor.clone().detach().requires_grad_(True), rather than torch.tensor(sourceTensor).\n",
      "  gp_model = SingleTaskGP(torch.tensor(X_measured), torch.tensor(y_measured))\n",
      "/nfs/home/upratius/.conda/envs/gpax_hae/lib/python3.10/site-packages/botorch/models/utils/assorted.py:174: InputDataWarning: Input data is not contained to the unit cube. Please consider min-max scaling the input data.\n",
      "  warnings.warn(msg, InputDataWarning)\n",
      "/nfs/home/upratius/.conda/envs/gpax_hae/lib/python3.10/site-packages/botorch/models/utils/assorted.py:202: InputDataWarning: Input data is not standardized (mean = tensor([442.5337], dtype=torch.float64), std = tensor([144.8233], dtype=torch.float64)). Please consider scaling the input to zero mean and unit variance.\n",
      "  warnings.warn(msg, InputDataWarning)\n"
     ]
    },
    {
     "name": "stdout",
     "output_type": "stream",
     "text": [
      "Seed: 2, n_init: 15, Noise Level: 0.01\n",
      "(17, 1)\n",
      "(17, 1)\n",
      "\n",
      "Step 1/5\n"
     ]
    },
    {
     "name": "stderr",
     "output_type": "stream",
     "text": [
      "/tmp/ipykernel_1292286/1166517645.py:24: UserWarning: To copy construct from a tensor, it is recommended to use sourceTensor.clone().detach() or sourceTensor.clone().detach().requires_grad_(True), rather than torch.tensor(sourceTensor).\n",
      "  posterior = gp_model(torch.tensor(X_unmeasured))\n",
      "/tmp/ipykernel_1292286/1166517645.py:15: UserWarning: To copy construct from a tensor, it is recommended to use sourceTensor.clone().detach() or sourceTensor.clone().detach().requires_grad_(True), rather than torch.tensor(sourceTensor).\n",
      "  gp_model = SingleTaskGP(torch.tensor(X_measured), torch.tensor(y_measured))\n",
      "/nfs/home/upratius/.conda/envs/gpax_hae/lib/python3.10/site-packages/botorch/models/utils/assorted.py:174: InputDataWarning: Input data is not contained to the unit cube. Please consider min-max scaling the input data.\n",
      "  warnings.warn(msg, InputDataWarning)\n",
      "/nfs/home/upratius/.conda/envs/gpax_hae/lib/python3.10/site-packages/botorch/models/utils/assorted.py:202: InputDataWarning: Input data is not standardized (mean = tensor([431.1933], dtype=torch.float64), std = tensor([148.5091], dtype=torch.float64)). Please consider scaling the input to zero mean and unit variance.\n",
      "  warnings.warn(msg, InputDataWarning)\n"
     ]
    },
    {
     "name": "stdout",
     "output_type": "stream",
     "text": [
      "\n",
      "Step 2/5\n"
     ]
    },
    {
     "name": "stderr",
     "output_type": "stream",
     "text": [
      "/tmp/ipykernel_1292286/1166517645.py:24: UserWarning: To copy construct from a tensor, it is recommended to use sourceTensor.clone().detach() or sourceTensor.clone().detach().requires_grad_(True), rather than torch.tensor(sourceTensor).\n",
      "  posterior = gp_model(torch.tensor(X_unmeasured))\n",
      "/tmp/ipykernel_1292286/1166517645.py:15: UserWarning: To copy construct from a tensor, it is recommended to use sourceTensor.clone().detach() or sourceTensor.clone().detach().requires_grad_(True), rather than torch.tensor(sourceTensor).\n",
      "  gp_model = SingleTaskGP(torch.tensor(X_measured), torch.tensor(y_measured))\n",
      "/nfs/home/upratius/.conda/envs/gpax_hae/lib/python3.10/site-packages/botorch/models/utils/assorted.py:174: InputDataWarning: Input data is not contained to the unit cube. Please consider min-max scaling the input data.\n",
      "  warnings.warn(msg, InputDataWarning)\n",
      "/nfs/home/upratius/.conda/envs/gpax_hae/lib/python3.10/site-packages/botorch/models/utils/assorted.py:202: InputDataWarning: Input data is not standardized (mean = tensor([421.0459], dtype=torch.float64), std = tensor([150.9506], dtype=torch.float64)). Please consider scaling the input to zero mean and unit variance.\n",
      "  warnings.warn(msg, InputDataWarning)\n"
     ]
    },
    {
     "name": "stdout",
     "output_type": "stream",
     "text": [
      "\n",
      "Step 3/5\n"
     ]
    },
    {
     "name": "stderr",
     "output_type": "stream",
     "text": [
      "/tmp/ipykernel_1292286/1166517645.py:24: UserWarning: To copy construct from a tensor, it is recommended to use sourceTensor.clone().detach() or sourceTensor.clone().detach().requires_grad_(True), rather than torch.tensor(sourceTensor).\n",
      "  posterior = gp_model(torch.tensor(X_unmeasured))\n",
      "/tmp/ipykernel_1292286/1166517645.py:15: UserWarning: To copy construct from a tensor, it is recommended to use sourceTensor.clone().detach() or sourceTensor.clone().detach().requires_grad_(True), rather than torch.tensor(sourceTensor).\n",
      "  gp_model = SingleTaskGP(torch.tensor(X_measured), torch.tensor(y_measured))\n",
      "/nfs/home/upratius/.conda/envs/gpax_hae/lib/python3.10/site-packages/botorch/models/utils/assorted.py:174: InputDataWarning: Input data is not contained to the unit cube. Please consider min-max scaling the input data.\n",
      "  warnings.warn(msg, InputDataWarning)\n",
      "/nfs/home/upratius/.conda/envs/gpax_hae/lib/python3.10/site-packages/botorch/models/utils/assorted.py:202: InputDataWarning: Input data is not standardized (mean = tensor([429.9722], dtype=torch.float64), std = tensor([152.2511], dtype=torch.float64)). Please consider scaling the input to zero mean and unit variance.\n",
      "  warnings.warn(msg, InputDataWarning)\n",
      "/tmp/ipykernel_1292286/1166517645.py:24: UserWarning: To copy construct from a tensor, it is recommended to use sourceTensor.clone().detach() or sourceTensor.clone().detach().requires_grad_(True), rather than torch.tensor(sourceTensor).\n",
      "  posterior = gp_model(torch.tensor(X_unmeasured))\n",
      "/tmp/ipykernel_1292286/1166517645.py:15: UserWarning: To copy construct from a tensor, it is recommended to use sourceTensor.clone().detach() or sourceTensor.clone().detach().requires_grad_(True), rather than torch.tensor(sourceTensor).\n",
      "  gp_model = SingleTaskGP(torch.tensor(X_measured), torch.tensor(y_measured))\n",
      "/nfs/home/upratius/.conda/envs/gpax_hae/lib/python3.10/site-packages/botorch/models/utils/assorted.py:174: InputDataWarning: Input data is not contained to the unit cube. Please consider min-max scaling the input data.\n",
      "  warnings.warn(msg, InputDataWarning)\n",
      "/nfs/home/upratius/.conda/envs/gpax_hae/lib/python3.10/site-packages/botorch/models/utils/assorted.py:202: InputDataWarning: Input data is not standardized (mean = tensor([420.8490], dtype=torch.float64), std = tensor([154.1728], dtype=torch.float64)). Please consider scaling the input to zero mean and unit variance.\n",
      "  warnings.warn(msg, InputDataWarning)\n"
     ]
    },
    {
     "name": "stdout",
     "output_type": "stream",
     "text": [
      "\n",
      "Step 4/5\n",
      "\n",
      "Step 5/5\n"
     ]
    },
    {
     "name": "stderr",
     "output_type": "stream",
     "text": [
      "/tmp/ipykernel_1292286/1166517645.py:24: UserWarning: To copy construct from a tensor, it is recommended to use sourceTensor.clone().detach() or sourceTensor.clone().detach().requires_grad_(True), rather than torch.tensor(sourceTensor).\n",
      "  posterior = gp_model(torch.tensor(X_unmeasured))\n",
      "/tmp/ipykernel_1292286/1166517645.py:15: UserWarning: To copy construct from a tensor, it is recommended to use sourceTensor.clone().detach() or sourceTensor.clone().detach().requires_grad_(True), rather than torch.tensor(sourceTensor).\n",
      "  gp_model = SingleTaskGP(torch.tensor(X_measured), torch.tensor(y_measured))\n",
      "/nfs/home/upratius/.conda/envs/gpax_hae/lib/python3.10/site-packages/botorch/models/utils/assorted.py:174: InputDataWarning: Input data is not contained to the unit cube. Please consider min-max scaling the input data.\n",
      "  warnings.warn(msg, InputDataWarning)\n",
      "/nfs/home/upratius/.conda/envs/gpax_hae/lib/python3.10/site-packages/botorch/models/utils/assorted.py:202: InputDataWarning: Input data is not standardized (mean = tensor([442.5769], dtype=torch.float64), std = tensor([144.8233], dtype=torch.float64)). Please consider scaling the input to zero mean and unit variance.\n",
      "  warnings.warn(msg, InputDataWarning)\n"
     ]
    },
    {
     "name": "stdout",
     "output_type": "stream",
     "text": [
      "Seed: 2, n_init: 15, Noise Level: 0.1\n",
      "(17, 1)\n",
      "(17, 1)\n",
      "\n",
      "Step 1/5\n"
     ]
    },
    {
     "name": "stderr",
     "output_type": "stream",
     "text": [
      "/tmp/ipykernel_1292286/1166517645.py:24: UserWarning: To copy construct from a tensor, it is recommended to use sourceTensor.clone().detach() or sourceTensor.clone().detach().requires_grad_(True), rather than torch.tensor(sourceTensor).\n",
      "  posterior = gp_model(torch.tensor(X_unmeasured))\n",
      "/tmp/ipykernel_1292286/1166517645.py:15: UserWarning: To copy construct from a tensor, it is recommended to use sourceTensor.clone().detach() or sourceTensor.clone().detach().requires_grad_(True), rather than torch.tensor(sourceTensor).\n",
      "  gp_model = SingleTaskGP(torch.tensor(X_measured), torch.tensor(y_measured))\n",
      "/nfs/home/upratius/.conda/envs/gpax_hae/lib/python3.10/site-packages/botorch/models/utils/assorted.py:174: InputDataWarning: Input data is not contained to the unit cube. Please consider min-max scaling the input data.\n",
      "  warnings.warn(msg, InputDataWarning)\n",
      "/nfs/home/upratius/.conda/envs/gpax_hae/lib/python3.10/site-packages/botorch/models/utils/assorted.py:202: InputDataWarning: Input data is not standardized (mean = tensor([431.2401], dtype=torch.float64), std = tensor([148.5041], dtype=torch.float64)). Please consider scaling the input to zero mean and unit variance.\n",
      "  warnings.warn(msg, InputDataWarning)\n"
     ]
    },
    {
     "name": "stdout",
     "output_type": "stream",
     "text": [
      "\n",
      "Step 2/5\n"
     ]
    },
    {
     "name": "stderr",
     "output_type": "stream",
     "text": [
      "/tmp/ipykernel_1292286/1166517645.py:24: UserWarning: To copy construct from a tensor, it is recommended to use sourceTensor.clone().detach() or sourceTensor.clone().detach().requires_grad_(True), rather than torch.tensor(sourceTensor).\n",
      "  posterior = gp_model(torch.tensor(X_unmeasured))\n",
      "/tmp/ipykernel_1292286/1166517645.py:15: UserWarning: To copy construct from a tensor, it is recommended to use sourceTensor.clone().detach() or sourceTensor.clone().detach().requires_grad_(True), rather than torch.tensor(sourceTensor).\n",
      "  gp_model = SingleTaskGP(torch.tensor(X_measured), torch.tensor(y_measured))\n",
      "/nfs/home/upratius/.conda/envs/gpax_hae/lib/python3.10/site-packages/botorch/models/utils/assorted.py:174: InputDataWarning: Input data is not contained to the unit cube. Please consider min-max scaling the input data.\n",
      "  warnings.warn(msg, InputDataWarning)\n",
      "/nfs/home/upratius/.conda/envs/gpax_hae/lib/python3.10/site-packages/botorch/models/utils/assorted.py:202: InputDataWarning: Input data is not standardized (mean = tensor([421.0902], dtype=torch.float64), std = tensor([150.9492], dtype=torch.float64)). Please consider scaling the input to zero mean and unit variance.\n",
      "  warnings.warn(msg, InputDataWarning)\n",
      "/tmp/ipykernel_1292286/1166517645.py:24: UserWarning: To copy construct from a tensor, it is recommended to use sourceTensor.clone().detach() or sourceTensor.clone().detach().requires_grad_(True), rather than torch.tensor(sourceTensor).\n",
      "  posterior = gp_model(torch.tensor(X_unmeasured))\n",
      "/tmp/ipykernel_1292286/1166517645.py:15: UserWarning: To copy construct from a tensor, it is recommended to use sourceTensor.clone().detach() or sourceTensor.clone().detach().requires_grad_(True), rather than torch.tensor(sourceTensor).\n",
      "  gp_model = SingleTaskGP(torch.tensor(X_measured), torch.tensor(y_measured))\n",
      "/nfs/home/upratius/.conda/envs/gpax_hae/lib/python3.10/site-packages/botorch/models/utils/assorted.py:174: InputDataWarning: Input data is not contained to the unit cube. Please consider min-max scaling the input data.\n",
      "  warnings.warn(msg, InputDataWarning)\n",
      "/nfs/home/upratius/.conda/envs/gpax_hae/lib/python3.10/site-packages/botorch/models/utils/assorted.py:202: InputDataWarning: Input data is not standardized (mean = tensor([430.0144], dtype=torch.float64), std = tensor([152.2472], dtype=torch.float64)). Please consider scaling the input to zero mean and unit variance.\n",
      "  warnings.warn(msg, InputDataWarning)\n"
     ]
    },
    {
     "name": "stdout",
     "output_type": "stream",
     "text": [
      "\n",
      "Step 3/5\n",
      "\n",
      "Step 4/5\n"
     ]
    },
    {
     "name": "stderr",
     "output_type": "stream",
     "text": [
      "/tmp/ipykernel_1292286/1166517645.py:24: UserWarning: To copy construct from a tensor, it is recommended to use sourceTensor.clone().detach() or sourceTensor.clone().detach().requires_grad_(True), rather than torch.tensor(sourceTensor).\n",
      "  posterior = gp_model(torch.tensor(X_unmeasured))\n",
      "/tmp/ipykernel_1292286/1166517645.py:15: UserWarning: To copy construct from a tensor, it is recommended to use sourceTensor.clone().detach() or sourceTensor.clone().detach().requires_grad_(True), rather than torch.tensor(sourceTensor).\n",
      "  gp_model = SingleTaskGP(torch.tensor(X_measured), torch.tensor(y_measured))\n",
      "/nfs/home/upratius/.conda/envs/gpax_hae/lib/python3.10/site-packages/botorch/models/utils/assorted.py:174: InputDataWarning: Input data is not contained to the unit cube. Please consider min-max scaling the input data.\n",
      "  warnings.warn(msg, InputDataWarning)\n",
      "/nfs/home/upratius/.conda/envs/gpax_hae/lib/python3.10/site-packages/botorch/models/utils/assorted.py:202: InputDataWarning: Input data is not standardized (mean = tensor([438.0846], dtype=torch.float64), std = tensor([152.9312], dtype=torch.float64)). Please consider scaling the input to zero mean and unit variance.\n",
      "  warnings.warn(msg, InputDataWarning)\n"
     ]
    },
    {
     "name": "stdout",
     "output_type": "stream",
     "text": [
      "\n",
      "Step 5/5\n"
     ]
    },
    {
     "name": "stderr",
     "output_type": "stream",
     "text": [
      "/tmp/ipykernel_1292286/1166517645.py:24: UserWarning: To copy construct from a tensor, it is recommended to use sourceTensor.clone().detach() or sourceTensor.clone().detach().requires_grad_(True), rather than torch.tensor(sourceTensor).\n",
      "  posterior = gp_model(torch.tensor(X_unmeasured))\n",
      "/tmp/ipykernel_1292286/1166517645.py:15: UserWarning: To copy construct from a tensor, it is recommended to use sourceTensor.clone().detach() or sourceTensor.clone().detach().requires_grad_(True), rather than torch.tensor(sourceTensor).\n",
      "  gp_model = SingleTaskGP(torch.tensor(X_measured), torch.tensor(y_measured))\n",
      "/nfs/home/upratius/.conda/envs/gpax_hae/lib/python3.10/site-packages/botorch/models/utils/assorted.py:174: InputDataWarning: Input data is not contained to the unit cube. Please consider min-max scaling the input data.\n",
      "  warnings.warn(msg, InputDataWarning)\n",
      "/nfs/home/upratius/.conda/envs/gpax_hae/lib/python3.10/site-packages/botorch/models/utils/assorted.py:202: InputDataWarning: Input data is not standardized (mean = tensor([442.7689], dtype=torch.float64), std = tensor([144.8233], dtype=torch.float64)). Please consider scaling the input to zero mean and unit variance.\n",
      "  warnings.warn(msg, InputDataWarning)\n"
     ]
    },
    {
     "name": "stdout",
     "output_type": "stream",
     "text": [
      "Seed: 2, n_init: 15, Noise Level: 0.5\n",
      "(17, 1)\n",
      "(17, 1)\n",
      "\n",
      "Step 1/5\n"
     ]
    },
    {
     "name": "stderr",
     "output_type": "stream",
     "text": [
      "/tmp/ipykernel_1292286/1166517645.py:24: UserWarning: To copy construct from a tensor, it is recommended to use sourceTensor.clone().detach() or sourceTensor.clone().detach().requires_grad_(True), rather than torch.tensor(sourceTensor).\n",
      "  posterior = gp_model(torch.tensor(X_unmeasured))\n",
      "/tmp/ipykernel_1292286/1166517645.py:15: UserWarning: To copy construct from a tensor, it is recommended to use sourceTensor.clone().detach() or sourceTensor.clone().detach().requires_grad_(True), rather than torch.tensor(sourceTensor).\n",
      "  gp_model = SingleTaskGP(torch.tensor(X_measured), torch.tensor(y_measured))\n",
      "/nfs/home/upratius/.conda/envs/gpax_hae/lib/python3.10/site-packages/botorch/models/utils/assorted.py:174: InputDataWarning: Input data is not contained to the unit cube. Please consider min-max scaling the input data.\n",
      "  warnings.warn(msg, InputDataWarning)\n",
      "/nfs/home/upratius/.conda/envs/gpax_hae/lib/python3.10/site-packages/botorch/models/utils/assorted.py:202: InputDataWarning: Input data is not standardized (mean = tensor([451.5139], dtype=torch.float64), std = tensor([145.3154], dtype=torch.float64)). Please consider scaling the input to zero mean and unit variance.\n",
      "  warnings.warn(msg, InputDataWarning)\n",
      "/tmp/ipykernel_1292286/1166517645.py:24: UserWarning: To copy construct from a tensor, it is recommended to use sourceTensor.clone().detach() or sourceTensor.clone().detach().requires_grad_(True), rather than torch.tensor(sourceTensor).\n",
      "  posterior = gp_model(torch.tensor(X_unmeasured))\n",
      "/tmp/ipykernel_1292286/1166517645.py:15: UserWarning: To copy construct from a tensor, it is recommended to use sourceTensor.clone().detach() or sourceTensor.clone().detach().requires_grad_(True), rather than torch.tensor(sourceTensor).\n",
      "  gp_model = SingleTaskGP(torch.tensor(X_measured), torch.tensor(y_measured))\n",
      "/nfs/home/upratius/.conda/envs/gpax_hae/lib/python3.10/site-packages/botorch/models/utils/assorted.py:174: InputDataWarning: Input data is not contained to the unit cube. Please consider min-max scaling the input data.\n",
      "  warnings.warn(msg, InputDataWarning)\n",
      "/nfs/home/upratius/.conda/envs/gpax_hae/lib/python3.10/site-packages/botorch/models/utils/assorted.py:202: InputDataWarning: Input data is not standardized (mean = tensor([459.3059], dtype=torch.float64), std = tensor([145.2481], dtype=torch.float64)). Please consider scaling the input to zero mean and unit variance.\n",
      "  warnings.warn(msg, InputDataWarning)\n"
     ]
    },
    {
     "name": "stdout",
     "output_type": "stream",
     "text": [
      "\n",
      "Step 2/5\n",
      "\n",
      "Step 3/5\n"
     ]
    },
    {
     "name": "stderr",
     "output_type": "stream",
     "text": [
      "/tmp/ipykernel_1292286/1166517645.py:24: UserWarning: To copy construct from a tensor, it is recommended to use sourceTensor.clone().detach() or sourceTensor.clone().detach().requires_grad_(True), rather than torch.tensor(sourceTensor).\n",
      "  posterior = gp_model(torch.tensor(X_unmeasured))\n",
      "/tmp/ipykernel_1292286/1166517645.py:15: UserWarning: To copy construct from a tensor, it is recommended to use sourceTensor.clone().detach() or sourceTensor.clone().detach().requires_grad_(True), rather than torch.tensor(sourceTensor).\n",
      "  gp_model = SingleTaskGP(torch.tensor(X_measured), torch.tensor(y_measured))\n",
      "/nfs/home/upratius/.conda/envs/gpax_hae/lib/python3.10/site-packages/botorch/models/utils/assorted.py:174: InputDataWarning: Input data is not contained to the unit cube. Please consider min-max scaling the input data.\n",
      "  warnings.warn(msg, InputDataWarning)\n",
      "/nfs/home/upratius/.conda/envs/gpax_hae/lib/python3.10/site-packages/botorch/models/utils/assorted.py:202: InputDataWarning: Input data is not standardized (mean = tensor([448.2605], dtype=torch.float64), std = tensor([149.7553], dtype=torch.float64)). Please consider scaling the input to zero mean and unit variance.\n",
      "  warnings.warn(msg, InputDataWarning)\n",
      "/tmp/ipykernel_1292286/1166517645.py:24: UserWarning: To copy construct from a tensor, it is recommended to use sourceTensor.clone().detach() or sourceTensor.clone().detach().requires_grad_(True), rather than torch.tensor(sourceTensor).\n",
      "  posterior = gp_model(torch.tensor(X_unmeasured))\n",
      "/tmp/ipykernel_1292286/1166517645.py:15: UserWarning: To copy construct from a tensor, it is recommended to use sourceTensor.clone().detach() or sourceTensor.clone().detach().requires_grad_(True), rather than torch.tensor(sourceTensor).\n",
      "  gp_model = SingleTaskGP(torch.tensor(X_measured), torch.tensor(y_measured))\n",
      "/nfs/home/upratius/.conda/envs/gpax_hae/lib/python3.10/site-packages/botorch/models/utils/assorted.py:174: InputDataWarning: Input data is not contained to the unit cube. Please consider min-max scaling the input data.\n",
      "  warnings.warn(msg, InputDataWarning)\n",
      "/nfs/home/upratius/.conda/envs/gpax_hae/lib/python3.10/site-packages/botorch/models/utils/assorted.py:202: InputDataWarning: Input data is not standardized (mean = tensor([438.2470], dtype=torch.float64), std = tensor([153.0065], dtype=torch.float64)). Please consider scaling the input to zero mean and unit variance.\n",
      "  warnings.warn(msg, InputDataWarning)\n"
     ]
    },
    {
     "name": "stdout",
     "output_type": "stream",
     "text": [
      "\n",
      "Step 4/5\n",
      "\n",
      "Step 5/5\n"
     ]
    },
    {
     "name": "stderr",
     "output_type": "stream",
     "text": [
      "/tmp/ipykernel_1292286/1166517645.py:24: UserWarning: To copy construct from a tensor, it is recommended to use sourceTensor.clone().detach() or sourceTensor.clone().detach().requires_grad_(True), rather than torch.tensor(sourceTensor).\n",
      "  posterior = gp_model(torch.tensor(X_unmeasured))\n",
      "/tmp/ipykernel_1292286/1166517645.py:15: UserWarning: To copy construct from a tensor, it is recommended to use sourceTensor.clone().detach() or sourceTensor.clone().detach().requires_grad_(True), rather than torch.tensor(sourceTensor).\n",
      "  gp_model = SingleTaskGP(torch.tensor(X_measured), torch.tensor(y_measured))\n",
      "/nfs/home/upratius/.conda/envs/gpax_hae/lib/python3.10/site-packages/botorch/models/utils/assorted.py:174: InputDataWarning: Input data is not contained to the unit cube. Please consider min-max scaling the input data.\n",
      "  warnings.warn(msg, InputDataWarning)\n",
      "/nfs/home/upratius/.conda/envs/gpax_hae/lib/python3.10/site-packages/botorch/models/utils/assorted.py:202: InputDataWarning: Input data is not standardized (mean = tensor([472.6196], dtype=torch.float64), std = tensor([159.4100], dtype=torch.float64)). Please consider scaling the input to zero mean and unit variance.\n",
      "  warnings.warn(msg, InputDataWarning)\n",
      "/tmp/ipykernel_1292286/1166517645.py:24: UserWarning: To copy construct from a tensor, it is recommended to use sourceTensor.clone().detach() or sourceTensor.clone().detach().requires_grad_(True), rather than torch.tensor(sourceTensor).\n",
      "  posterior = gp_model(torch.tensor(X_unmeasured))\n",
      "/tmp/ipykernel_1292286/1166517645.py:15: UserWarning: To copy construct from a tensor, it is recommended to use sourceTensor.clone().detach() or sourceTensor.clone().detach().requires_grad_(True), rather than torch.tensor(sourceTensor).\n",
      "  gp_model = SingleTaskGP(torch.tensor(X_measured), torch.tensor(y_measured))\n",
      "/nfs/home/upratius/.conda/envs/gpax_hae/lib/python3.10/site-packages/botorch/models/utils/assorted.py:174: InputDataWarning: Input data is not contained to the unit cube. Please consider min-max scaling the input data.\n",
      "  warnings.warn(msg, InputDataWarning)\n",
      "/nfs/home/upratius/.conda/envs/gpax_hae/lib/python3.10/site-packages/botorch/models/utils/assorted.py:202: InputDataWarning: Input data is not standardized (mean = tensor([470.7104], dtype=torch.float64), std = tensor([156.0138], dtype=torch.float64)). Please consider scaling the input to zero mean and unit variance.\n",
      "  warnings.warn(msg, InputDataWarning)\n"
     ]
    },
    {
     "name": "stdout",
     "output_type": "stream",
     "text": [
      "Seed: 2, n_init: 20, Noise Level: 0\n",
      "(22, 1)\n",
      "(22, 1)\n",
      "\n",
      "Step 1/5\n",
      "\n",
      "Step 2/5\n"
     ]
    },
    {
     "name": "stderr",
     "output_type": "stream",
     "text": [
      "/tmp/ipykernel_1292286/1166517645.py:24: UserWarning: To copy construct from a tensor, it is recommended to use sourceTensor.clone().detach() or sourceTensor.clone().detach().requires_grad_(True), rather than torch.tensor(sourceTensor).\n",
      "  posterior = gp_model(torch.tensor(X_unmeasured))\n",
      "/tmp/ipykernel_1292286/1166517645.py:15: UserWarning: To copy construct from a tensor, it is recommended to use sourceTensor.clone().detach() or sourceTensor.clone().detach().requires_grad_(True), rather than torch.tensor(sourceTensor).\n",
      "  gp_model = SingleTaskGP(torch.tensor(X_measured), torch.tensor(y_measured))\n",
      "/nfs/home/upratius/.conda/envs/gpax_hae/lib/python3.10/site-packages/botorch/models/utils/assorted.py:174: InputDataWarning: Input data is not contained to the unit cube. Please consider min-max scaling the input data.\n",
      "  warnings.warn(msg, InputDataWarning)\n",
      "/nfs/home/upratius/.conda/envs/gpax_hae/lib/python3.10/site-packages/botorch/models/utils/assorted.py:202: InputDataWarning: Input data is not standardized (mean = tensor([461.0306], dtype=torch.float64), std = tensor([159.7837], dtype=torch.float64)). Please consider scaling the input to zero mean and unit variance.\n",
      "  warnings.warn(msg, InputDataWarning)\n",
      "/tmp/ipykernel_1292286/1166517645.py:24: UserWarning: To copy construct from a tensor, it is recommended to use sourceTensor.clone().detach() or sourceTensor.clone().detach().requires_grad_(True), rather than torch.tensor(sourceTensor).\n",
      "  posterior = gp_model(torch.tensor(X_unmeasured))\n",
      "/tmp/ipykernel_1292286/1166517645.py:15: UserWarning: To copy construct from a tensor, it is recommended to use sourceTensor.clone().detach() or sourceTensor.clone().detach().requires_grad_(True), rather than torch.tensor(sourceTensor).\n",
      "  gp_model = SingleTaskGP(torch.tensor(X_measured), torch.tensor(y_measured))\n",
      "/nfs/home/upratius/.conda/envs/gpax_hae/lib/python3.10/site-packages/botorch/models/utils/assorted.py:174: InputDataWarning: Input data is not contained to the unit cube. Please consider min-max scaling the input data.\n",
      "  warnings.warn(msg, InputDataWarning)\n",
      "/nfs/home/upratius/.conda/envs/gpax_hae/lib/python3.10/site-packages/botorch/models/utils/assorted.py:202: InputDataWarning: Input data is not standardized (mean = tensor([476.0985], dtype=torch.float64), std = tensor([173.6177], dtype=torch.float64)). Please consider scaling the input to zero mean and unit variance.\n",
      "  warnings.warn(msg, InputDataWarning)\n"
     ]
    },
    {
     "name": "stdout",
     "output_type": "stream",
     "text": [
      "\n",
      "Step 3/5\n",
      "\n",
      "Step 4/5\n"
     ]
    },
    {
     "name": "stderr",
     "output_type": "stream",
     "text": [
      "/tmp/ipykernel_1292286/1166517645.py:24: UserWarning: To copy construct from a tensor, it is recommended to use sourceTensor.clone().detach() or sourceTensor.clone().detach().requires_grad_(True), rather than torch.tensor(sourceTensor).\n",
      "  posterior = gp_model(torch.tensor(X_unmeasured))\n",
      "/tmp/ipykernel_1292286/1166517645.py:15: UserWarning: To copy construct from a tensor, it is recommended to use sourceTensor.clone().detach() or sourceTensor.clone().detach().requires_grad_(True), rather than torch.tensor(sourceTensor).\n",
      "  gp_model = SingleTaskGP(torch.tensor(X_measured), torch.tensor(y_measured))\n",
      "/nfs/home/upratius/.conda/envs/gpax_hae/lib/python3.10/site-packages/botorch/models/utils/assorted.py:174: InputDataWarning: Input data is not contained to the unit cube. Please consider min-max scaling the input data.\n",
      "  warnings.warn(msg, InputDataWarning)\n",
      "/nfs/home/upratius/.conda/envs/gpax_hae/lib/python3.10/site-packages/botorch/models/utils/assorted.py:202: InputDataWarning: Input data is not standardized (mean = tensor([490.0074], dtype=torch.float64), std = tensor([184.3020], dtype=torch.float64)). Please consider scaling the input to zero mean and unit variance.\n",
      "  warnings.warn(msg, InputDataWarning)\n"
     ]
    },
    {
     "name": "stdout",
     "output_type": "stream",
     "text": [
      "\n",
      "Step 5/5\n",
      "Seed: 2, n_init: 20, Noise Level: 0.01\n",
      "(22, 1)\n",
      "(22, 1)\n",
      "\n",
      "Step 1/5\n"
     ]
    },
    {
     "name": "stderr",
     "output_type": "stream",
     "text": [
      "/tmp/ipykernel_1292286/1166517645.py:24: UserWarning: To copy construct from a tensor, it is recommended to use sourceTensor.clone().detach() or sourceTensor.clone().detach().requires_grad_(True), rather than torch.tensor(sourceTensor).\n",
      "  posterior = gp_model(torch.tensor(X_unmeasured))\n",
      "/tmp/ipykernel_1292286/1166517645.py:15: UserWarning: To copy construct from a tensor, it is recommended to use sourceTensor.clone().detach() or sourceTensor.clone().detach().requires_grad_(True), rather than torch.tensor(sourceTensor).\n",
      "  gp_model = SingleTaskGP(torch.tensor(X_measured), torch.tensor(y_measured))\n",
      "/nfs/home/upratius/.conda/envs/gpax_hae/lib/python3.10/site-packages/botorch/models/utils/assorted.py:174: InputDataWarning: Input data is not contained to the unit cube. Please consider min-max scaling the input data.\n",
      "  warnings.warn(msg, InputDataWarning)\n",
      "/nfs/home/upratius/.conda/envs/gpax_hae/lib/python3.10/site-packages/botorch/models/utils/assorted.py:202: InputDataWarning: Input data is not standardized (mean = tensor([472.6121], dtype=torch.float64), std = tensor([159.4100], dtype=torch.float64)). Please consider scaling the input to zero mean and unit variance.\n",
      "  warnings.warn(msg, InputDataWarning)\n",
      "/tmp/ipykernel_1292286/1166517645.py:24: UserWarning: To copy construct from a tensor, it is recommended to use sourceTensor.clone().detach() or sourceTensor.clone().detach().requires_grad_(True), rather than torch.tensor(sourceTensor).\n",
      "  posterior = gp_model(torch.tensor(X_unmeasured))\n",
      "/tmp/ipykernel_1292286/1166517645.py:15: UserWarning: To copy construct from a tensor, it is recommended to use sourceTensor.clone().detach() or sourceTensor.clone().detach().requires_grad_(True), rather than torch.tensor(sourceTensor).\n",
      "  gp_model = SingleTaskGP(torch.tensor(X_measured), torch.tensor(y_measured))\n",
      "/nfs/home/upratius/.conda/envs/gpax_hae/lib/python3.10/site-packages/botorch/models/utils/assorted.py:174: InputDataWarning: Input data is not contained to the unit cube. Please consider min-max scaling the input data.\n",
      "  warnings.warn(msg, InputDataWarning)\n",
      "/nfs/home/upratius/.conda/envs/gpax_hae/lib/python3.10/site-packages/botorch/models/utils/assorted.py:202: InputDataWarning: Input data is not standardized (mean = tensor([470.7029], dtype=torch.float64), std = tensor([156.0138], dtype=torch.float64)). Please consider scaling the input to zero mean and unit variance.\n",
      "  warnings.warn(msg, InputDataWarning)\n"
     ]
    },
    {
     "name": "stdout",
     "output_type": "stream",
     "text": [
      "\n",
      "Step 2/5\n",
      "\n",
      "Step 3/5\n"
     ]
    },
    {
     "name": "stderr",
     "output_type": "stream",
     "text": [
      "/tmp/ipykernel_1292286/1166517645.py:24: UserWarning: To copy construct from a tensor, it is recommended to use sourceTensor.clone().detach() or sourceTensor.clone().detach().requires_grad_(True), rather than torch.tensor(sourceTensor).\n",
      "  posterior = gp_model(torch.tensor(X_unmeasured))\n",
      "/tmp/ipykernel_1292286/1166517645.py:15: UserWarning: To copy construct from a tensor, it is recommended to use sourceTensor.clone().detach() or sourceTensor.clone().detach().requires_grad_(True), rather than torch.tensor(sourceTensor).\n",
      "  gp_model = SingleTaskGP(torch.tensor(X_measured), torch.tensor(y_measured))\n",
      "/nfs/home/upratius/.conda/envs/gpax_hae/lib/python3.10/site-packages/botorch/models/utils/assorted.py:174: InputDataWarning: Input data is not contained to the unit cube. Please consider min-max scaling the input data.\n",
      "  warnings.warn(msg, InputDataWarning)\n",
      "/nfs/home/upratius/.conda/envs/gpax_hae/lib/python3.10/site-packages/botorch/models/utils/assorted.py:202: InputDataWarning: Input data is not standardized (mean = tensor([485.9956], dtype=torch.float64), std = tensor([169.9847], dtype=torch.float64)). Please consider scaling the input to zero mean and unit variance.\n",
      "  warnings.warn(msg, InputDataWarning)\n",
      "/tmp/ipykernel_1292286/1166517645.py:24: UserWarning: To copy construct from a tensor, it is recommended to use sourceTensor.clone().detach() or sourceTensor.clone().detach().requires_grad_(True), rather than torch.tensor(sourceTensor).\n",
      "  posterior = gp_model(torch.tensor(X_unmeasured))\n",
      "/tmp/ipykernel_1292286/1166517645.py:15: UserWarning: To copy construct from a tensor, it is recommended to use sourceTensor.clone().detach() or sourceTensor.clone().detach().requires_grad_(True), rather than torch.tensor(sourceTensor).\n",
      "  gp_model = SingleTaskGP(torch.tensor(X_measured), torch.tensor(y_measured))\n",
      "/nfs/home/upratius/.conda/envs/gpax_hae/lib/python3.10/site-packages/botorch/models/utils/assorted.py:174: InputDataWarning: Input data is not contained to the unit cube. Please consider min-max scaling the input data.\n",
      "  warnings.warn(msg, InputDataWarning)\n",
      "/nfs/home/upratius/.conda/envs/gpax_hae/lib/python3.10/site-packages/botorch/models/utils/assorted.py:202: InputDataWarning: Input data is not standardized (mean = tensor([500.0650], dtype=torch.float64), std = tensor([180.6643], dtype=torch.float64)). Please consider scaling the input to zero mean and unit variance.\n",
      "  warnings.warn(msg, InputDataWarning)\n",
      "/tmp/ipykernel_1292286/1166517645.py:24: UserWarning: To copy construct from a tensor, it is recommended to use sourceTensor.clone().detach() or sourceTensor.clone().detach().requires_grad_(True), rather than torch.tensor(sourceTensor).\n",
      "  posterior = gp_model(torch.tensor(X_unmeasured))\n",
      "/tmp/ipykernel_1292286/1166517645.py:15: UserWarning: To copy construct from a tensor, it is recommended to use sourceTensor.clone().detach() or sourceTensor.clone().detach().requires_grad_(True), rather than torch.tensor(sourceTensor).\n",
      "  gp_model = SingleTaskGP(torch.tensor(X_measured), torch.tensor(y_measured))\n",
      "/nfs/home/upratius/.conda/envs/gpax_hae/lib/python3.10/site-packages/botorch/models/utils/assorted.py:174: InputDataWarning: Input data is not contained to the unit cube. Please consider min-max scaling the input data.\n",
      "  warnings.warn(msg, InputDataWarning)\n",
      "/nfs/home/upratius/.conda/envs/gpax_hae/lib/python3.10/site-packages/botorch/models/utils/assorted.py:202: InputDataWarning: Input data is not standardized (mean = tensor([490.0003], dtype=torch.float64), std = tensor([184.3034], dtype=torch.float64)). Please consider scaling the input to zero mean and unit variance.\n",
      "  warnings.warn(msg, InputDataWarning)\n"
     ]
    },
    {
     "name": "stdout",
     "output_type": "stream",
     "text": [
      "\n",
      "Step 4/5\n",
      "\n",
      "Step 5/5\n"
     ]
    },
    {
     "name": "stderr",
     "output_type": "stream",
     "text": [
      "/tmp/ipykernel_1292286/1166517645.py:24: UserWarning: To copy construct from a tensor, it is recommended to use sourceTensor.clone().detach() or sourceTensor.clone().detach().requires_grad_(True), rather than torch.tensor(sourceTensor).\n",
      "  posterior = gp_model(torch.tensor(X_unmeasured))\n",
      "/tmp/ipykernel_1292286/1166517645.py:15: UserWarning: To copy construct from a tensor, it is recommended to use sourceTensor.clone().detach() or sourceTensor.clone().detach().requires_grad_(True), rather than torch.tensor(sourceTensor).\n",
      "  gp_model = SingleTaskGP(torch.tensor(X_measured), torch.tensor(y_measured))\n",
      "/nfs/home/upratius/.conda/envs/gpax_hae/lib/python3.10/site-packages/botorch/models/utils/assorted.py:174: InputDataWarning: Input data is not contained to the unit cube. Please consider min-max scaling the input data.\n",
      "  warnings.warn(msg, InputDataWarning)\n",
      "/nfs/home/upratius/.conda/envs/gpax_hae/lib/python3.10/site-packages/botorch/models/utils/assorted.py:202: InputDataWarning: Input data is not standardized (mean = tensor([472.5448], dtype=torch.float64), std = tensor([159.4100], dtype=torch.float64)). Please consider scaling the input to zero mean and unit variance.\n",
      "  warnings.warn(msg, InputDataWarning)\n"
     ]
    },
    {
     "name": "stdout",
     "output_type": "stream",
     "text": [
      "Seed: 2, n_init: 20, Noise Level: 0.1\n",
      "(22, 1)\n",
      "(22, 1)\n",
      "\n",
      "Step 1/5\n"
     ]
    },
    {
     "name": "stderr",
     "output_type": "stream",
     "text": [
      "/tmp/ipykernel_1292286/1166517645.py:24: UserWarning: To copy construct from a tensor, it is recommended to use sourceTensor.clone().detach() or sourceTensor.clone().detach().requires_grad_(True), rather than torch.tensor(sourceTensor).\n",
      "  posterior = gp_model(torch.tensor(X_unmeasured))\n",
      "/tmp/ipykernel_1292286/1166517645.py:15: UserWarning: To copy construct from a tensor, it is recommended to use sourceTensor.clone().detach() or sourceTensor.clone().detach().requires_grad_(True), rather than torch.tensor(sourceTensor).\n",
      "  gp_model = SingleTaskGP(torch.tensor(X_measured), torch.tensor(y_measured))\n",
      "/nfs/home/upratius/.conda/envs/gpax_hae/lib/python3.10/site-packages/botorch/models/utils/assorted.py:174: InputDataWarning: Input data is not contained to the unit cube. Please consider min-max scaling the input data.\n",
      "  warnings.warn(msg, InputDataWarning)\n",
      "/nfs/home/upratius/.conda/envs/gpax_hae/lib/python3.10/site-packages/botorch/models/utils/assorted.py:202: InputDataWarning: Input data is not standardized (mean = tensor([462.3605], dtype=torch.float64), std = tensor([163.2238], dtype=torch.float64)). Please consider scaling the input to zero mean and unit variance.\n",
      "  warnings.warn(msg, InputDataWarning)\n"
     ]
    },
    {
     "name": "stdout",
     "output_type": "stream",
     "text": [
      "\n",
      "Step 2/5\n"
     ]
    },
    {
     "name": "stderr",
     "output_type": "stream",
     "text": [
      "/tmp/ipykernel_1292286/1166517645.py:24: UserWarning: To copy construct from a tensor, it is recommended to use sourceTensor.clone().detach() or sourceTensor.clone().detach().requires_grad_(True), rather than torch.tensor(sourceTensor).\n",
      "  posterior = gp_model(torch.tensor(X_unmeasured))\n",
      "/tmp/ipykernel_1292286/1166517645.py:15: UserWarning: To copy construct from a tensor, it is recommended to use sourceTensor.clone().detach() or sourceTensor.clone().detach().requires_grad_(True), rather than torch.tensor(sourceTensor).\n",
      "  gp_model = SingleTaskGP(torch.tensor(X_measured), torch.tensor(y_measured))\n",
      "/nfs/home/upratius/.conda/envs/gpax_hae/lib/python3.10/site-packages/botorch/models/utils/assorted.py:174: InputDataWarning: Input data is not contained to the unit cube. Please consider min-max scaling the input data.\n",
      "  warnings.warn(msg, InputDataWarning)\n",
      "/nfs/home/upratius/.conda/envs/gpax_hae/lib/python3.10/site-packages/botorch/models/utils/assorted.py:202: InputDataWarning: Input data is not standardized (mean = tensor([478.0002], dtype=torch.float64), std = tensor([177.0708], dtype=torch.float64)). Please consider scaling the input to zero mean and unit variance.\n",
      "  warnings.warn(msg, InputDataWarning)\n"
     ]
    },
    {
     "name": "stdout",
     "output_type": "stream",
     "text": [
      "\n",
      "Step 3/5\n",
      "\n",
      "Step 4/5\n"
     ]
    },
    {
     "name": "stderr",
     "output_type": "stream",
     "text": [
      "/tmp/ipykernel_1292286/1166517645.py:24: UserWarning: To copy construct from a tensor, it is recommended to use sourceTensor.clone().detach() or sourceTensor.clone().detach().requires_grad_(True), rather than torch.tensor(sourceTensor).\n",
      "  posterior = gp_model(torch.tensor(X_unmeasured))\n",
      "/tmp/ipykernel_1292286/1166517645.py:15: UserWarning: To copy construct from a tensor, it is recommended to use sourceTensor.clone().detach() or sourceTensor.clone().detach().requires_grad_(True), rather than torch.tensor(sourceTensor).\n",
      "  gp_model = SingleTaskGP(torch.tensor(X_measured), torch.tensor(y_measured))\n",
      "/nfs/home/upratius/.conda/envs/gpax_hae/lib/python3.10/site-packages/botorch/models/utils/assorted.py:174: InputDataWarning: Input data is not contained to the unit cube. Please consider min-max scaling the input data.\n",
      "  warnings.warn(msg, InputDataWarning)\n",
      "/nfs/home/upratius/.conda/envs/gpax_hae/lib/python3.10/site-packages/botorch/models/utils/assorted.py:202: InputDataWarning: Input data is not standardized (mean = tensor([492.3903], dtype=torch.float64), std = tensor([187.6821], dtype=torch.float64)). Please consider scaling the input to zero mean and unit variance.\n",
      "  warnings.warn(msg, InputDataWarning)\n",
      "/tmp/ipykernel_1292286/1166517645.py:24: UserWarning: To copy construct from a tensor, it is recommended to use sourceTensor.clone().detach() or sourceTensor.clone().detach().requires_grad_(True), rather than torch.tensor(sourceTensor).\n",
      "  posterior = gp_model(torch.tensor(X_unmeasured))\n",
      "/tmp/ipykernel_1292286/1166517645.py:15: UserWarning: To copy construct from a tensor, it is recommended to use sourceTensor.clone().detach() or sourceTensor.clone().detach().requires_grad_(True), rather than torch.tensor(sourceTensor).\n",
      "  gp_model = SingleTaskGP(torch.tensor(X_measured), torch.tensor(y_measured))\n",
      "/nfs/home/upratius/.conda/envs/gpax_hae/lib/python3.10/site-packages/botorch/models/utils/assorted.py:174: InputDataWarning: Input data is not contained to the unit cube. Please consider min-max scaling the input data.\n",
      "  warnings.warn(msg, InputDataWarning)\n",
      "/nfs/home/upratius/.conda/envs/gpax_hae/lib/python3.10/site-packages/botorch/models/utils/assorted.py:202: InputDataWarning: Input data is not standardized (mean = tensor([482.6174], dtype=torch.float64), std = tensor([190.5226], dtype=torch.float64)). Please consider scaling the input to zero mean and unit variance.\n",
      "  warnings.warn(msg, InputDataWarning)\n",
      "/tmp/ipykernel_1292286/1166517645.py:24: UserWarning: To copy construct from a tensor, it is recommended to use sourceTensor.clone().detach() or sourceTensor.clone().detach().requires_grad_(True), rather than torch.tensor(sourceTensor).\n",
      "  posterior = gp_model(torch.tensor(X_unmeasured))\n",
      "/tmp/ipykernel_1292286/1166517645.py:15: UserWarning: To copy construct from a tensor, it is recommended to use sourceTensor.clone().detach() or sourceTensor.clone().detach().requires_grad_(True), rather than torch.tensor(sourceTensor).\n",
      "  gp_model = SingleTaskGP(torch.tensor(X_measured), torch.tensor(y_measured))\n",
      "/nfs/home/upratius/.conda/envs/gpax_hae/lib/python3.10/site-packages/botorch/models/utils/assorted.py:174: InputDataWarning: Input data is not contained to the unit cube. Please consider min-max scaling the input data.\n",
      "  warnings.warn(msg, InputDataWarning)\n",
      "/nfs/home/upratius/.conda/envs/gpax_hae/lib/python3.10/site-packages/botorch/models/utils/assorted.py:202: InputDataWarning: Input data is not standardized (mean = tensor([472.2456], dtype=torch.float64), std = tensor([159.4100], dtype=torch.float64)). Please consider scaling the input to zero mean and unit variance.\n",
      "  warnings.warn(msg, InputDataWarning)\n"
     ]
    },
    {
     "name": "stdout",
     "output_type": "stream",
     "text": [
      "\n",
      "Step 5/5\n",
      "Seed: 2, n_init: 20, Noise Level: 0.5\n",
      "(22, 1)\n",
      "(22, 1)\n",
      "\n",
      "Step 1/5\n"
     ]
    },
    {
     "name": "stderr",
     "output_type": "stream",
     "text": [
      "/tmp/ipykernel_1292286/1166517645.py:24: UserWarning: To copy construct from a tensor, it is recommended to use sourceTensor.clone().detach() or sourceTensor.clone().detach().requires_grad_(True), rather than torch.tensor(sourceTensor).\n",
      "  posterior = gp_model(torch.tensor(X_unmeasured))\n",
      "/tmp/ipykernel_1292286/1166517645.py:15: UserWarning: To copy construct from a tensor, it is recommended to use sourceTensor.clone().detach() or sourceTensor.clone().detach().requires_grad_(True), rather than torch.tensor(sourceTensor).\n",
      "  gp_model = SingleTaskGP(torch.tensor(X_measured), torch.tensor(y_measured))\n",
      "/nfs/home/upratius/.conda/envs/gpax_hae/lib/python3.10/site-packages/botorch/models/utils/assorted.py:174: InputDataWarning: Input data is not contained to the unit cube. Please consider min-max scaling the input data.\n",
      "  warnings.warn(msg, InputDataWarning)\n",
      "/nfs/home/upratius/.conda/envs/gpax_hae/lib/python3.10/site-packages/botorch/models/utils/assorted.py:202: InputDataWarning: Input data is not standardized (mean = tensor([464.4431], dtype=torch.float64), std = tensor([160.1771], dtype=torch.float64)). Please consider scaling the input to zero mean and unit variance.\n",
      "  warnings.warn(msg, InputDataWarning)\n"
     ]
    },
    {
     "name": "stdout",
     "output_type": "stream",
     "text": [
      "\n",
      "Step 2/5\n"
     ]
    },
    {
     "name": "stderr",
     "output_type": "stream",
     "text": [
      "/tmp/ipykernel_1292286/1166517645.py:24: UserWarning: To copy construct from a tensor, it is recommended to use sourceTensor.clone().detach() or sourceTensor.clone().detach().requires_grad_(True), rather than torch.tensor(sourceTensor).\n",
      "  posterior = gp_model(torch.tensor(X_unmeasured))\n",
      "/tmp/ipykernel_1292286/1166517645.py:15: UserWarning: To copy construct from a tensor, it is recommended to use sourceTensor.clone().detach() or sourceTensor.clone().detach().requires_grad_(True), rather than torch.tensor(sourceTensor).\n",
      "  gp_model = SingleTaskGP(torch.tensor(X_measured), torch.tensor(y_measured))\n",
      "/nfs/home/upratius/.conda/envs/gpax_hae/lib/python3.10/site-packages/botorch/models/utils/assorted.py:174: InputDataWarning: Input data is not contained to the unit cube. Please consider min-max scaling the input data.\n",
      "  warnings.warn(msg, InputDataWarning)\n",
      "/nfs/home/upratius/.conda/envs/gpax_hae/lib/python3.10/site-packages/botorch/models/utils/assorted.py:202: InputDataWarning: Input data is not standardized (mean = tensor([479.9934], dtype=torch.float64), std = tensor([174.1972], dtype=torch.float64)). Please consider scaling the input to zero mean and unit variance.\n",
      "  warnings.warn(msg, InputDataWarning)\n"
     ]
    },
    {
     "name": "stdout",
     "output_type": "stream",
     "text": [
      "\n",
      "Step 3/5\n"
     ]
    },
    {
     "name": "stderr",
     "output_type": "stream",
     "text": [
      "/tmp/ipykernel_1292286/1166517645.py:24: UserWarning: To copy construct from a tensor, it is recommended to use sourceTensor.clone().detach() or sourceTensor.clone().detach().requires_grad_(True), rather than torch.tensor(sourceTensor).\n",
      "  posterior = gp_model(torch.tensor(X_unmeasured))\n",
      "/tmp/ipykernel_1292286/1166517645.py:15: UserWarning: To copy construct from a tensor, it is recommended to use sourceTensor.clone().detach() or sourceTensor.clone().detach().requires_grad_(True), rather than torch.tensor(sourceTensor).\n",
      "  gp_model = SingleTaskGP(torch.tensor(X_measured), torch.tensor(y_measured))\n",
      "/nfs/home/upratius/.conda/envs/gpax_hae/lib/python3.10/site-packages/botorch/models/utils/assorted.py:174: InputDataWarning: Input data is not contained to the unit cube. Please consider min-max scaling the input data.\n",
      "  warnings.warn(msg, InputDataWarning)\n",
      "/nfs/home/upratius/.conda/envs/gpax_hae/lib/python3.10/site-packages/botorch/models/utils/assorted.py:202: InputDataWarning: Input data is not standardized (mean = tensor([494.3080], dtype=torch.float64), std = tensor([184.9405], dtype=torch.float64)). Please consider scaling the input to zero mean and unit variance.\n",
      "  warnings.warn(msg, InputDataWarning)\n",
      "/tmp/ipykernel_1292286/1166517645.py:24: UserWarning: To copy construct from a tensor, it is recommended to use sourceTensor.clone().detach() or sourceTensor.clone().detach().requires_grad_(True), rather than torch.tensor(sourceTensor).\n",
      "  posterior = gp_model(torch.tensor(X_unmeasured))\n",
      "/tmp/ipykernel_1292286/1166517645.py:15: UserWarning: To copy construct from a tensor, it is recommended to use sourceTensor.clone().detach() or sourceTensor.clone().detach().requires_grad_(True), rather than torch.tensor(sourceTensor).\n",
      "  gp_model = SingleTaskGP(torch.tensor(X_measured), torch.tensor(y_measured))\n",
      "/nfs/home/upratius/.conda/envs/gpax_hae/lib/python3.10/site-packages/botorch/models/utils/assorted.py:174: InputDataWarning: Input data is not contained to the unit cube. Please consider min-max scaling the input data.\n",
      "  warnings.warn(msg, InputDataWarning)\n",
      "/nfs/home/upratius/.conda/envs/gpax_hae/lib/python3.10/site-packages/botorch/models/utils/assorted.py:202: InputDataWarning: Input data is not standardized (mean = tensor([507.4974], dtype=torch.float64), std = tensor([193.2819], dtype=torch.float64)). Please consider scaling the input to zero mean and unit variance.\n",
      "  warnings.warn(msg, InputDataWarning)\n"
     ]
    },
    {
     "name": "stdout",
     "output_type": "stream",
     "text": [
      "\n",
      "Step 4/5\n",
      "\n",
      "Step 5/5\n"
     ]
    },
    {
     "name": "stderr",
     "output_type": "stream",
     "text": [
      "/tmp/ipykernel_1292286/1166517645.py:24: UserWarning: To copy construct from a tensor, it is recommended to use sourceTensor.clone().detach() or sourceTensor.clone().detach().requires_grad_(True), rather than torch.tensor(sourceTensor).\n",
      "  posterior = gp_model(torch.tensor(X_unmeasured))\n",
      "/tmp/ipykernel_1292286/1166517645.py:15: UserWarning: To copy construct from a tensor, it is recommended to use sourceTensor.clone().detach() or sourceTensor.clone().detach().requires_grad_(True), rather than torch.tensor(sourceTensor).\n",
      "  gp_model = SingleTaskGP(torch.tensor(X_measured), torch.tensor(y_measured))\n",
      "/nfs/home/upratius/.conda/envs/gpax_hae/lib/python3.10/site-packages/botorch/models/utils/assorted.py:174: InputDataWarning: Input data is not contained to the unit cube. Please consider min-max scaling the input data.\n",
      "  warnings.warn(msg, InputDataWarning)\n",
      "/nfs/home/upratius/.conda/envs/gpax_hae/lib/python3.10/site-packages/botorch/models/utils/assorted.py:202: InputDataWarning: Input data is not standardized (mean = tensor([382.9359], dtype=torch.float64), std = tensor([229.6067], dtype=torch.float64)). Please consider scaling the input to zero mean and unit variance.\n",
      "  warnings.warn(msg, InputDataWarning)\n",
      "/tmp/ipykernel_1292286/1166517645.py:24: UserWarning: To copy construct from a tensor, it is recommended to use sourceTensor.clone().detach() or sourceTensor.clone().detach().requires_grad_(True), rather than torch.tensor(sourceTensor).\n",
      "  posterior = gp_model(torch.tensor(X_unmeasured))\n",
      "/tmp/ipykernel_1292286/1166517645.py:15: UserWarning: To copy construct from a tensor, it is recommended to use sourceTensor.clone().detach() or sourceTensor.clone().detach().requires_grad_(True), rather than torch.tensor(sourceTensor).\n",
      "  gp_model = SingleTaskGP(torch.tensor(X_measured), torch.tensor(y_measured))\n",
      "/nfs/home/upratius/.conda/envs/gpax_hae/lib/python3.10/site-packages/botorch/models/utils/assorted.py:174: InputDataWarning: Input data is not contained to the unit cube. Please consider min-max scaling the input data.\n",
      "  warnings.warn(msg, InputDataWarning)\n",
      "/nfs/home/upratius/.conda/envs/gpax_hae/lib/python3.10/site-packages/botorch/models/utils/assorted.py:202: InputDataWarning: Input data is not standardized (mean = tensor([401.0157], dtype=torch.float64), std = tensor([229.2932], dtype=torch.float64)). Please consider scaling the input to zero mean and unit variance.\n",
      "  warnings.warn(msg, InputDataWarning)\n",
      "/tmp/ipykernel_1292286/1166517645.py:24: UserWarning: To copy construct from a tensor, it is recommended to use sourceTensor.clone().detach() or sourceTensor.clone().detach().requires_grad_(True), rather than torch.tensor(sourceTensor).\n",
      "  posterior = gp_model(torch.tensor(X_unmeasured))\n",
      "/tmp/ipykernel_1292286/1166517645.py:15: UserWarning: To copy construct from a tensor, it is recommended to use sourceTensor.clone().detach() or sourceTensor.clone().detach().requires_grad_(True), rather than torch.tensor(sourceTensor).\n",
      "  gp_model = SingleTaskGP(torch.tensor(X_measured), torch.tensor(y_measured))\n",
      "/nfs/home/upratius/.conda/envs/gpax_hae/lib/python3.10/site-packages/botorch/models/utils/assorted.py:174: InputDataWarning: Input data is not contained to the unit cube. Please consider min-max scaling the input data.\n",
      "  warnings.warn(msg, InputDataWarning)\n",
      "/nfs/home/upratius/.conda/envs/gpax_hae/lib/python3.10/site-packages/botorch/models/utils/assorted.py:202: InputDataWarning: Input data is not standardized (mean = tensor([416.5126], dtype=torch.float64), std = tensor([227.8010], dtype=torch.float64)). Please consider scaling the input to zero mean and unit variance.\n",
      "  warnings.warn(msg, InputDataWarning)\n"
     ]
    },
    {
     "name": "stdout",
     "output_type": "stream",
     "text": [
      "Seed: 3, n_init: 10, Noise Level: 0\n",
      "(12, 1)\n",
      "(12, 1)\n",
      "\n",
      "Step 1/5\n",
      "\n",
      "Step 2/5\n",
      "\n",
      "Step 3/5\n"
     ]
    },
    {
     "name": "stderr",
     "output_type": "stream",
     "text": [
      "/tmp/ipykernel_1292286/1166517645.py:24: UserWarning: To copy construct from a tensor, it is recommended to use sourceTensor.clone().detach() or sourceTensor.clone().detach().requires_grad_(True), rather than torch.tensor(sourceTensor).\n",
      "  posterior = gp_model(torch.tensor(X_unmeasured))\n",
      "/tmp/ipykernel_1292286/1166517645.py:15: UserWarning: To copy construct from a tensor, it is recommended to use sourceTensor.clone().detach() or sourceTensor.clone().detach().requires_grad_(True), rather than torch.tensor(sourceTensor).\n",
      "  gp_model = SingleTaskGP(torch.tensor(X_measured), torch.tensor(y_measured))\n",
      "/nfs/home/upratius/.conda/envs/gpax_hae/lib/python3.10/site-packages/botorch/models/utils/assorted.py:174: InputDataWarning: Input data is not contained to the unit cube. Please consider min-max scaling the input data.\n",
      "  warnings.warn(msg, InputDataWarning)\n",
      "/nfs/home/upratius/.conda/envs/gpax_hae/lib/python3.10/site-packages/botorch/models/utils/assorted.py:202: InputDataWarning: Input data is not standardized (mean = tensor([429.9433], dtype=torch.float64), std = tensor([225.5934], dtype=torch.float64)). Please consider scaling the input to zero mean and unit variance.\n",
      "  warnings.warn(msg, InputDataWarning)\n"
     ]
    },
    {
     "name": "stdout",
     "output_type": "stream",
     "text": [
      "\n",
      "Step 4/5\n"
     ]
    },
    {
     "name": "stderr",
     "output_type": "stream",
     "text": [
      "/tmp/ipykernel_1292286/1166517645.py:24: UserWarning: To copy construct from a tensor, it is recommended to use sourceTensor.clone().detach() or sourceTensor.clone().detach().requires_grad_(True), rather than torch.tensor(sourceTensor).\n",
      "  posterior = gp_model(torch.tensor(X_unmeasured))\n",
      "/tmp/ipykernel_1292286/1166517645.py:15: UserWarning: To copy construct from a tensor, it is recommended to use sourceTensor.clone().detach() or sourceTensor.clone().detach().requires_grad_(True), rather than torch.tensor(sourceTensor).\n",
      "  gp_model = SingleTaskGP(torch.tensor(X_measured), torch.tensor(y_measured))\n",
      "/nfs/home/upratius/.conda/envs/gpax_hae/lib/python3.10/site-packages/botorch/models/utils/assorted.py:174: InputDataWarning: Input data is not contained to the unit cube. Please consider min-max scaling the input data.\n",
      "  warnings.warn(msg, InputDataWarning)\n",
      "/nfs/home/upratius/.conda/envs/gpax_hae/lib/python3.10/site-packages/botorch/models/utils/assorted.py:202: InputDataWarning: Input data is not standardized (mean = tensor([449.1041], dtype=torch.float64), std = tensor([231.0276], dtype=torch.float64)). Please consider scaling the input to zero mean and unit variance.\n",
      "  warnings.warn(msg, InputDataWarning)\n"
     ]
    },
    {
     "name": "stdout",
     "output_type": "stream",
     "text": [
      "\n",
      "Step 5/5\n"
     ]
    },
    {
     "name": "stderr",
     "output_type": "stream",
     "text": [
      "/tmp/ipykernel_1292286/1166517645.py:24: UserWarning: To copy construct from a tensor, it is recommended to use sourceTensor.clone().detach() or sourceTensor.clone().detach().requires_grad_(True), rather than torch.tensor(sourceTensor).\n",
      "  posterior = gp_model(torch.tensor(X_unmeasured))\n",
      "/tmp/ipykernel_1292286/1166517645.py:15: UserWarning: To copy construct from a tensor, it is recommended to use sourceTensor.clone().detach() or sourceTensor.clone().detach().requires_grad_(True), rather than torch.tensor(sourceTensor).\n",
      "  gp_model = SingleTaskGP(torch.tensor(X_measured), torch.tensor(y_measured))\n",
      "/nfs/home/upratius/.conda/envs/gpax_hae/lib/python3.10/site-packages/botorch/models/utils/assorted.py:174: InputDataWarning: Input data is not contained to the unit cube. Please consider min-max scaling the input data.\n",
      "  warnings.warn(msg, InputDataWarning)\n",
      "/nfs/home/upratius/.conda/envs/gpax_hae/lib/python3.10/site-packages/botorch/models/utils/assorted.py:202: InputDataWarning: Input data is not standardized (mean = tensor([382.9354], dtype=torch.float64), std = tensor([229.6067], dtype=torch.float64)). Please consider scaling the input to zero mean and unit variance.\n",
      "  warnings.warn(msg, InputDataWarning)\n",
      "/tmp/ipykernel_1292286/1166517645.py:24: UserWarning: To copy construct from a tensor, it is recommended to use sourceTensor.clone().detach() or sourceTensor.clone().detach().requires_grad_(True), rather than torch.tensor(sourceTensor).\n",
      "  posterior = gp_model(torch.tensor(X_unmeasured))\n",
      "/tmp/ipykernel_1292286/1166517645.py:15: UserWarning: To copy construct from a tensor, it is recommended to use sourceTensor.clone().detach() or sourceTensor.clone().detach().requires_grad_(True), rather than torch.tensor(sourceTensor).\n",
      "  gp_model = SingleTaskGP(torch.tensor(X_measured), torch.tensor(y_measured))\n",
      "/nfs/home/upratius/.conda/envs/gpax_hae/lib/python3.10/site-packages/botorch/models/utils/assorted.py:174: InputDataWarning: Input data is not contained to the unit cube. Please consider min-max scaling the input data.\n",
      "  warnings.warn(msg, InputDataWarning)\n",
      "/nfs/home/upratius/.conda/envs/gpax_hae/lib/python3.10/site-packages/botorch/models/utils/assorted.py:202: InputDataWarning: Input data is not standardized (mean = tensor([401.0142], dtype=torch.float64), std = tensor([229.2922], dtype=torch.float64)). Please consider scaling the input to zero mean and unit variance.\n",
      "  warnings.warn(msg, InputDataWarning)\n"
     ]
    },
    {
     "name": "stdout",
     "output_type": "stream",
     "text": [
      "Seed: 3, n_init: 10, Noise Level: 0.01\n",
      "(12, 1)\n",
      "(12, 1)\n",
      "\n",
      "Step 1/5\n",
      "\n",
      "Step 2/5\n"
     ]
    },
    {
     "name": "stderr",
     "output_type": "stream",
     "text": [
      "/tmp/ipykernel_1292286/1166517645.py:24: UserWarning: To copy construct from a tensor, it is recommended to use sourceTensor.clone().detach() or sourceTensor.clone().detach().requires_grad_(True), rather than torch.tensor(sourceTensor).\n",
      "  posterior = gp_model(torch.tensor(X_unmeasured))\n",
      "/tmp/ipykernel_1292286/1166517645.py:15: UserWarning: To copy construct from a tensor, it is recommended to use sourceTensor.clone().detach() or sourceTensor.clone().detach().requires_grad_(True), rather than torch.tensor(sourceTensor).\n",
      "  gp_model = SingleTaskGP(torch.tensor(X_measured), torch.tensor(y_measured))\n",
      "/nfs/home/upratius/.conda/envs/gpax_hae/lib/python3.10/site-packages/botorch/models/utils/assorted.py:174: InputDataWarning: Input data is not contained to the unit cube. Please consider min-max scaling the input data.\n",
      "  warnings.warn(msg, InputDataWarning)\n",
      "/nfs/home/upratius/.conda/envs/gpax_hae/lib/python3.10/site-packages/botorch/models/utils/assorted.py:202: InputDataWarning: Input data is not standardized (mean = tensor([416.5119], dtype=torch.float64), std = tensor([227.8008], dtype=torch.float64)). Please consider scaling the input to zero mean and unit variance.\n",
      "  warnings.warn(msg, InputDataWarning)\n"
     ]
    },
    {
     "name": "stdout",
     "output_type": "stream",
     "text": [
      "\n",
      "Step 3/5\n"
     ]
    },
    {
     "name": "stderr",
     "output_type": "stream",
     "text": [
      "/tmp/ipykernel_1292286/1166517645.py:24: UserWarning: To copy construct from a tensor, it is recommended to use sourceTensor.clone().detach() or sourceTensor.clone().detach().requires_grad_(True), rather than torch.tensor(sourceTensor).\n",
      "  posterior = gp_model(torch.tensor(X_unmeasured))\n",
      "/tmp/ipykernel_1292286/1166517645.py:15: UserWarning: To copy construct from a tensor, it is recommended to use sourceTensor.clone().detach() or sourceTensor.clone().detach().requires_grad_(True), rather than torch.tensor(sourceTensor).\n",
      "  gp_model = SingleTaskGP(torch.tensor(X_measured), torch.tensor(y_measured))\n",
      "/nfs/home/upratius/.conda/envs/gpax_hae/lib/python3.10/site-packages/botorch/models/utils/assorted.py:174: InputDataWarning: Input data is not contained to the unit cube. Please consider min-max scaling the input data.\n",
      "  warnings.warn(msg, InputDataWarning)\n",
      "/nfs/home/upratius/.conda/envs/gpax_hae/lib/python3.10/site-packages/botorch/models/utils/assorted.py:202: InputDataWarning: Input data is not standardized (mean = tensor([437.8462], dtype=torch.float64), std = tensor([234.5501], dtype=torch.float64)). Please consider scaling the input to zero mean and unit variance.\n",
      "  warnings.warn(msg, InputDataWarning)\n"
     ]
    },
    {
     "name": "stdout",
     "output_type": "stream",
     "text": [
      "\n",
      "Step 4/5\n"
     ]
    },
    {
     "name": "stderr",
     "output_type": "stream",
     "text": [
      "/tmp/ipykernel_1292286/1166517645.py:24: UserWarning: To copy construct from a tensor, it is recommended to use sourceTensor.clone().detach() or sourceTensor.clone().detach().requires_grad_(True), rather than torch.tensor(sourceTensor).\n",
      "  posterior = gp_model(torch.tensor(X_unmeasured))\n",
      "/tmp/ipykernel_1292286/1166517645.py:15: UserWarning: To copy construct from a tensor, it is recommended to use sourceTensor.clone().detach() or sourceTensor.clone().detach().requires_grad_(True), rather than torch.tensor(sourceTensor).\n",
      "  gp_model = SingleTaskGP(torch.tensor(X_measured), torch.tensor(y_measured))\n",
      "/nfs/home/upratius/.conda/envs/gpax_hae/lib/python3.10/site-packages/botorch/models/utils/assorted.py:174: InputDataWarning: Input data is not contained to the unit cube. Please consider min-max scaling the input data.\n",
      "  warnings.warn(msg, InputDataWarning)\n",
      "/nfs/home/upratius/.conda/envs/gpax_hae/lib/python3.10/site-packages/botorch/models/utils/assorted.py:202: InputDataWarning: Input data is not standardized (mean = tensor([425.3814], dtype=torch.float64), std = tensor([232.0174], dtype=torch.float64)). Please consider scaling the input to zero mean and unit variance.\n",
      "  warnings.warn(msg, InputDataWarning)\n",
      "/tmp/ipykernel_1292286/1166517645.py:24: UserWarning: To copy construct from a tensor, it is recommended to use sourceTensor.clone().detach() or sourceTensor.clone().detach().requires_grad_(True), rather than torch.tensor(sourceTensor).\n",
      "  posterior = gp_model(torch.tensor(X_unmeasured))\n",
      "/tmp/ipykernel_1292286/1166517645.py:15: UserWarning: To copy construct from a tensor, it is recommended to use sourceTensor.clone().detach() or sourceTensor.clone().detach().requires_grad_(True), rather than torch.tensor(sourceTensor).\n",
      "  gp_model = SingleTaskGP(torch.tensor(X_measured), torch.tensor(y_measured))\n",
      "/nfs/home/upratius/.conda/envs/gpax_hae/lib/python3.10/site-packages/botorch/models/utils/assorted.py:174: InputDataWarning: Input data is not contained to the unit cube. Please consider min-max scaling the input data.\n",
      "  warnings.warn(msg, InputDataWarning)\n",
      "/nfs/home/upratius/.conda/envs/gpax_hae/lib/python3.10/site-packages/botorch/models/utils/assorted.py:202: InputDataWarning: Input data is not standardized (mean = tensor([382.9315], dtype=torch.float64), std = tensor([229.6067], dtype=torch.float64)). Please consider scaling the input to zero mean and unit variance.\n",
      "  warnings.warn(msg, InputDataWarning)\n"
     ]
    },
    {
     "name": "stdout",
     "output_type": "stream",
     "text": [
      "\n",
      "Step 5/5\n",
      "Seed: 3, n_init: 10, Noise Level: 0.1\n",
      "(12, 1)\n",
      "(12, 1)\n",
      "\n",
      "Step 1/5\n"
     ]
    },
    {
     "name": "stderr",
     "output_type": "stream",
     "text": [
      "/tmp/ipykernel_1292286/1166517645.py:24: UserWarning: To copy construct from a tensor, it is recommended to use sourceTensor.clone().detach() or sourceTensor.clone().detach().requires_grad_(True), rather than torch.tensor(sourceTensor).\n",
      "  posterior = gp_model(torch.tensor(X_unmeasured))\n",
      "/tmp/ipykernel_1292286/1166517645.py:15: UserWarning: To copy construct from a tensor, it is recommended to use sourceTensor.clone().detach() or sourceTensor.clone().detach().requires_grad_(True), rather than torch.tensor(sourceTensor).\n",
      "  gp_model = SingleTaskGP(torch.tensor(X_measured), torch.tensor(y_measured))\n",
      "/nfs/home/upratius/.conda/envs/gpax_hae/lib/python3.10/site-packages/botorch/models/utils/assorted.py:174: InputDataWarning: Input data is not contained to the unit cube. Please consider min-max scaling the input data.\n",
      "  warnings.warn(msg, InputDataWarning)\n",
      "/nfs/home/upratius/.conda/envs/gpax_hae/lib/python3.10/site-packages/botorch/models/utils/assorted.py:202: InputDataWarning: Input data is not standardized (mean = tensor([401.0015], dtype=torch.float64), std = tensor([229.2832], dtype=torch.float64)). Please consider scaling the input to zero mean and unit variance.\n",
      "  warnings.warn(msg, InputDataWarning)\n"
     ]
    },
    {
     "name": "stdout",
     "output_type": "stream",
     "text": [
      "\n",
      "Step 2/5\n"
     ]
    },
    {
     "name": "stderr",
     "output_type": "stream",
     "text": [
      "/tmp/ipykernel_1292286/1166517645.py:24: UserWarning: To copy construct from a tensor, it is recommended to use sourceTensor.clone().detach() or sourceTensor.clone().detach().requires_grad_(True), rather than torch.tensor(sourceTensor).\n",
      "  posterior = gp_model(torch.tensor(X_unmeasured))\n",
      "/tmp/ipykernel_1292286/1166517645.py:15: UserWarning: To copy construct from a tensor, it is recommended to use sourceTensor.clone().detach() or sourceTensor.clone().detach().requires_grad_(True), rather than torch.tensor(sourceTensor).\n",
      "  gp_model = SingleTaskGP(torch.tensor(X_measured), torch.tensor(y_measured))\n",
      "/nfs/home/upratius/.conda/envs/gpax_hae/lib/python3.10/site-packages/botorch/models/utils/assorted.py:174: InputDataWarning: Input data is not contained to the unit cube. Please consider min-max scaling the input data.\n",
      "  warnings.warn(msg, InputDataWarning)\n",
      "/nfs/home/upratius/.conda/envs/gpax_hae/lib/python3.10/site-packages/botorch/models/utils/assorted.py:202: InputDataWarning: Input data is not standardized (mean = tensor([389.3930], dtype=torch.float64), std = tensor([224.5295], dtype=torch.float64)). Please consider scaling the input to zero mean and unit variance.\n",
      "  warnings.warn(msg, InputDataWarning)\n"
     ]
    },
    {
     "name": "stdout",
     "output_type": "stream",
     "text": [
      "\n",
      "Step 3/5\n"
     ]
    },
    {
     "name": "stderr",
     "output_type": "stream",
     "text": [
      "/tmp/ipykernel_1292286/1166517645.py:24: UserWarning: To copy construct from a tensor, it is recommended to use sourceTensor.clone().detach() or sourceTensor.clone().detach().requires_grad_(True), rather than torch.tensor(sourceTensor).\n",
      "  posterior = gp_model(torch.tensor(X_unmeasured))\n",
      "/tmp/ipykernel_1292286/1166517645.py:15: UserWarning: To copy construct from a tensor, it is recommended to use sourceTensor.clone().detach() or sourceTensor.clone().detach().requires_grad_(True), rather than torch.tensor(sourceTensor).\n",
      "  gp_model = SingleTaskGP(torch.tensor(X_measured), torch.tensor(y_measured))\n",
      "/nfs/home/upratius/.conda/envs/gpax_hae/lib/python3.10/site-packages/botorch/models/utils/assorted.py:174: InputDataWarning: Input data is not contained to the unit cube. Please consider min-max scaling the input data.\n",
      "  warnings.warn(msg, InputDataWarning)\n",
      "/nfs/home/upratius/.conda/envs/gpax_hae/lib/python3.10/site-packages/botorch/models/utils/assorted.py:202: InputDataWarning: Input data is not standardized (mean = tensor([412.5404], dtype=torch.float64), std = tensor([234.1999], dtype=torch.float64)). Please consider scaling the input to zero mean and unit variance.\n",
      "  warnings.warn(msg, InputDataWarning)\n"
     ]
    },
    {
     "name": "stdout",
     "output_type": "stream",
     "text": [
      "\n",
      "Step 4/5\n"
     ]
    },
    {
     "name": "stderr",
     "output_type": "stream",
     "text": [
      "/tmp/ipykernel_1292286/1166517645.py:24: UserWarning: To copy construct from a tensor, it is recommended to use sourceTensor.clone().detach() or sourceTensor.clone().detach().requires_grad_(True), rather than torch.tensor(sourceTensor).\n",
      "  posterior = gp_model(torch.tensor(X_unmeasured))\n",
      "/tmp/ipykernel_1292286/1166517645.py:15: UserWarning: To copy construct from a tensor, it is recommended to use sourceTensor.clone().detach() or sourceTensor.clone().detach().requires_grad_(True), rather than torch.tensor(sourceTensor).\n",
      "  gp_model = SingleTaskGP(torch.tensor(X_measured), torch.tensor(y_measured))\n",
      "/nfs/home/upratius/.conda/envs/gpax_hae/lib/python3.10/site-packages/botorch/models/utils/assorted.py:174: InputDataWarning: Input data is not contained to the unit cube. Please consider min-max scaling the input data.\n",
      "  warnings.warn(msg, InputDataWarning)\n",
      "/nfs/home/upratius/.conda/envs/gpax_hae/lib/python3.10/site-packages/botorch/models/utils/assorted.py:202: InputDataWarning: Input data is not standardized (mean = tensor([432.7996], dtype=torch.float64), std = tensor([240.3329], dtype=torch.float64)). Please consider scaling the input to zero mean and unit variance.\n",
      "  warnings.warn(msg, InputDataWarning)\n",
      "/tmp/ipykernel_1292286/1166517645.py:24: UserWarning: To copy construct from a tensor, it is recommended to use sourceTensor.clone().detach() or sourceTensor.clone().detach().requires_grad_(True), rather than torch.tensor(sourceTensor).\n",
      "  posterior = gp_model(torch.tensor(X_unmeasured))\n"
     ]
    },
    {
     "name": "stdout",
     "output_type": "stream",
     "text": [
      "\n",
      "Step 5/5\n",
      "Seed: 3, n_init: 10, Noise Level: 0.5\n",
      "(12, 1)\n",
      "(12, 1)\n",
      "\n",
      "Step 1/5\n"
     ]
    },
    {
     "name": "stderr",
     "output_type": "stream",
     "text": [
      "/tmp/ipykernel_1292286/1166517645.py:15: UserWarning: To copy construct from a tensor, it is recommended to use sourceTensor.clone().detach() or sourceTensor.clone().detach().requires_grad_(True), rather than torch.tensor(sourceTensor).\n",
      "  gp_model = SingleTaskGP(torch.tensor(X_measured), torch.tensor(y_measured))\n",
      "/nfs/home/upratius/.conda/envs/gpax_hae/lib/python3.10/site-packages/botorch/models/utils/assorted.py:174: InputDataWarning: Input data is not contained to the unit cube. Please consider min-max scaling the input data.\n",
      "  warnings.warn(msg, InputDataWarning)\n",
      "/nfs/home/upratius/.conda/envs/gpax_hae/lib/python3.10/site-packages/botorch/models/utils/assorted.py:202: InputDataWarning: Input data is not standardized (mean = tensor([382.9140], dtype=torch.float64), std = tensor([229.6067], dtype=torch.float64)). Please consider scaling the input to zero mean and unit variance.\n",
      "  warnings.warn(msg, InputDataWarning)\n",
      "/tmp/ipykernel_1292286/1166517645.py:24: UserWarning: To copy construct from a tensor, it is recommended to use sourceTensor.clone().detach() or sourceTensor.clone().detach().requires_grad_(True), rather than torch.tensor(sourceTensor).\n",
      "  posterior = gp_model(torch.tensor(X_unmeasured))\n",
      "/tmp/ipykernel_1292286/1166517645.py:15: UserWarning: To copy construct from a tensor, it is recommended to use sourceTensor.clone().detach() or sourceTensor.clone().detach().requires_grad_(True), rather than torch.tensor(sourceTensor).\n",
      "  gp_model = SingleTaskGP(torch.tensor(X_measured), torch.tensor(y_measured))\n",
      "/nfs/home/upratius/.conda/envs/gpax_hae/lib/python3.10/site-packages/botorch/models/utils/assorted.py:174: InputDataWarning: Input data is not contained to the unit cube. Please consider min-max scaling the input data.\n",
      "  warnings.warn(msg, InputDataWarning)\n",
      "/nfs/home/upratius/.conda/envs/gpax_hae/lib/python3.10/site-packages/botorch/models/utils/assorted.py:202: InputDataWarning: Input data is not standardized (mean = tensor([371.7465], dtype=torch.float64), std = tensor([223.4887], dtype=torch.float64)). Please consider scaling the input to zero mean and unit variance.\n",
      "  warnings.warn(msg, InputDataWarning)\n"
     ]
    },
    {
     "name": "stdout",
     "output_type": "stream",
     "text": [
      "\n",
      "Step 2/5\n",
      "\n",
      "Step 3/5\n"
     ]
    },
    {
     "name": "stderr",
     "output_type": "stream",
     "text": [
      "/tmp/ipykernel_1292286/1166517645.py:24: UserWarning: To copy construct from a tensor, it is recommended to use sourceTensor.clone().detach() or sourceTensor.clone().detach().requires_grad_(True), rather than torch.tensor(sourceTensor).\n",
      "  posterior = gp_model(torch.tensor(X_unmeasured))\n",
      "/tmp/ipykernel_1292286/1166517645.py:15: UserWarning: To copy construct from a tensor, it is recommended to use sourceTensor.clone().detach() or sourceTensor.clone().detach().requires_grad_(True), rather than torch.tensor(sourceTensor).\n",
      "  gp_model = SingleTaskGP(torch.tensor(X_measured), torch.tensor(y_measured))\n",
      "/nfs/home/upratius/.conda/envs/gpax_hae/lib/python3.10/site-packages/botorch/models/utils/assorted.py:174: InputDataWarning: Input data is not contained to the unit cube. Please consider min-max scaling the input data.\n",
      "  warnings.warn(msg, InputDataWarning)\n",
      "/nfs/home/upratius/.conda/envs/gpax_hae/lib/python3.10/site-packages/botorch/models/utils/assorted.py:202: InputDataWarning: Input data is not standardized (mean = tensor([397.8331], dtype=torch.float64), std = tensor([235.8649], dtype=torch.float64)). Please consider scaling the input to zero mean and unit variance.\n",
      "  warnings.warn(msg, InputDataWarning)\n",
      "/tmp/ipykernel_1292286/1166517645.py:24: UserWarning: To copy construct from a tensor, it is recommended to use sourceTensor.clone().detach() or sourceTensor.clone().detach().requires_grad_(True), rather than torch.tensor(sourceTensor).\n",
      "  posterior = gp_model(torch.tensor(X_unmeasured))\n",
      "/tmp/ipykernel_1292286/1166517645.py:15: UserWarning: To copy construct from a tensor, it is recommended to use sourceTensor.clone().detach() or sourceTensor.clone().detach().requires_grad_(True), rather than torch.tensor(sourceTensor).\n",
      "  gp_model = SingleTaskGP(torch.tensor(X_measured), torch.tensor(y_measured))\n",
      "/nfs/home/upratius/.conda/envs/gpax_hae/lib/python3.10/site-packages/botorch/models/utils/assorted.py:174: InputDataWarning: Input data is not contained to the unit cube. Please consider min-max scaling the input data.\n",
      "  warnings.warn(msg, InputDataWarning)\n",
      "/nfs/home/upratius/.conda/envs/gpax_hae/lib/python3.10/site-packages/botorch/models/utils/assorted.py:202: InputDataWarning: Input data is not standardized (mean = tensor([420.4413], dtype=torch.float64), std = tensor([243.5683], dtype=torch.float64)). Please consider scaling the input to zero mean and unit variance.\n",
      "  warnings.warn(msg, InputDataWarning)\n"
     ]
    },
    {
     "name": "stdout",
     "output_type": "stream",
     "text": [
      "\n",
      "Step 4/5\n"
     ]
    },
    {
     "name": "stderr",
     "output_type": "stream",
     "text": [
      "/tmp/ipykernel_1292286/1166517645.py:24: UserWarning: To copy construct from a tensor, it is recommended to use sourceTensor.clone().detach() or sourceTensor.clone().detach().requires_grad_(True), rather than torch.tensor(sourceTensor).\n",
      "  posterior = gp_model(torch.tensor(X_unmeasured))\n",
      "/tmp/ipykernel_1292286/1166517645.py:15: UserWarning: To copy construct from a tensor, it is recommended to use sourceTensor.clone().detach() or sourceTensor.clone().detach().requires_grad_(True), rather than torch.tensor(sourceTensor).\n",
      "  gp_model = SingleTaskGP(torch.tensor(X_measured), torch.tensor(y_measured))\n",
      "/nfs/home/upratius/.conda/envs/gpax_hae/lib/python3.10/site-packages/botorch/models/utils/assorted.py:174: InputDataWarning: Input data is not contained to the unit cube. Please consider min-max scaling the input data.\n",
      "  warnings.warn(msg, InputDataWarning)\n",
      "/nfs/home/upratius/.conda/envs/gpax_hae/lib/python3.10/site-packages/botorch/models/utils/assorted.py:202: InputDataWarning: Input data is not standardized (mean = tensor([440.2494], dtype=torch.float64), std = tensor([248.2907], dtype=torch.float64)). Please consider scaling the input to zero mean and unit variance.\n",
      "  warnings.warn(msg, InputDataWarning)\n"
     ]
    },
    {
     "name": "stdout",
     "output_type": "stream",
     "text": [
      "\n",
      "Step 5/5\n"
     ]
    },
    {
     "name": "stderr",
     "output_type": "stream",
     "text": [
      "/tmp/ipykernel_1292286/1166517645.py:24: UserWarning: To copy construct from a tensor, it is recommended to use sourceTensor.clone().detach() or sourceTensor.clone().detach().requires_grad_(True), rather than torch.tensor(sourceTensor).\n",
      "  posterior = gp_model(torch.tensor(X_unmeasured))\n",
      "/tmp/ipykernel_1292286/1166517645.py:15: UserWarning: To copy construct from a tensor, it is recommended to use sourceTensor.clone().detach() or sourceTensor.clone().detach().requires_grad_(True), rather than torch.tensor(sourceTensor).\n",
      "  gp_model = SingleTaskGP(torch.tensor(X_measured), torch.tensor(y_measured))\n",
      "/nfs/home/upratius/.conda/envs/gpax_hae/lib/python3.10/site-packages/botorch/models/utils/assorted.py:174: InputDataWarning: Input data is not contained to the unit cube. Please consider min-max scaling the input data.\n",
      "  warnings.warn(msg, InputDataWarning)\n",
      "/nfs/home/upratius/.conda/envs/gpax_hae/lib/python3.10/site-packages/botorch/models/utils/assorted.py:202: InputDataWarning: Input data is not standardized (mean = tensor([408.5142], dtype=torch.float64), std = tensor([202.5659], dtype=torch.float64)). Please consider scaling the input to zero mean and unit variance.\n",
      "  warnings.warn(msg, InputDataWarning)\n",
      "/tmp/ipykernel_1292286/1166517645.py:24: UserWarning: To copy construct from a tensor, it is recommended to use sourceTensor.clone().detach() or sourceTensor.clone().detach().requires_grad_(True), rather than torch.tensor(sourceTensor).\n",
      "  posterior = gp_model(torch.tensor(X_unmeasured))\n",
      "/tmp/ipykernel_1292286/1166517645.py:15: UserWarning: To copy construct from a tensor, it is recommended to use sourceTensor.clone().detach() or sourceTensor.clone().detach().requires_grad_(True), rather than torch.tensor(sourceTensor).\n",
      "  gp_model = SingleTaskGP(torch.tensor(X_measured), torch.tensor(y_measured))\n",
      "/nfs/home/upratius/.conda/envs/gpax_hae/lib/python3.10/site-packages/botorch/models/utils/assorted.py:174: InputDataWarning: Input data is not contained to the unit cube. Please consider min-max scaling the input data.\n",
      "  warnings.warn(msg, InputDataWarning)\n",
      "/nfs/home/upratius/.conda/envs/gpax_hae/lib/python3.10/site-packages/botorch/models/utils/assorted.py:202: InputDataWarning: Input data is not standardized (mean = tensor([399.0631], dtype=torch.float64), std = tensor([200.5669], dtype=torch.float64)). Please consider scaling the input to zero mean and unit variance.\n",
      "  warnings.warn(msg, InputDataWarning)\n"
     ]
    },
    {
     "name": "stdout",
     "output_type": "stream",
     "text": [
      "Seed: 3, n_init: 15, Noise Level: 0\n",
      "(17, 1)\n",
      "(17, 1)\n",
      "\n",
      "Step 1/5\n",
      "\n",
      "Step 2/5\n",
      "\n",
      "Step 3/5\n"
     ]
    },
    {
     "name": "stderr",
     "output_type": "stream",
     "text": [
      "/tmp/ipykernel_1292286/1166517645.py:24: UserWarning: To copy construct from a tensor, it is recommended to use sourceTensor.clone().detach() or sourceTensor.clone().detach().requires_grad_(True), rather than torch.tensor(sourceTensor).\n",
      "  posterior = gp_model(torch.tensor(X_unmeasured))\n",
      "/tmp/ipykernel_1292286/1166517645.py:15: UserWarning: To copy construct from a tensor, it is recommended to use sourceTensor.clone().detach() or sourceTensor.clone().detach().requires_grad_(True), rather than torch.tensor(sourceTensor).\n",
      "  gp_model = SingleTaskGP(torch.tensor(X_measured), torch.tensor(y_measured))\n",
      "/nfs/home/upratius/.conda/envs/gpax_hae/lib/python3.10/site-packages/botorch/models/utils/assorted.py:174: InputDataWarning: Input data is not contained to the unit cube. Please consider min-max scaling the input data.\n",
      "  warnings.warn(msg, InputDataWarning)\n",
      "/nfs/home/upratius/.conda/envs/gpax_hae/lib/python3.10/site-packages/botorch/models/utils/assorted.py:202: InputDataWarning: Input data is not standardized (mean = tensor([416.8238], dtype=torch.float64), std = tensor([209.7275], dtype=torch.float64)). Please consider scaling the input to zero mean and unit variance.\n",
      "  warnings.warn(msg, InputDataWarning)\n",
      "/tmp/ipykernel_1292286/1166517645.py:24: UserWarning: To copy construct from a tensor, it is recommended to use sourceTensor.clone().detach() or sourceTensor.clone().detach().requires_grad_(True), rather than torch.tensor(sourceTensor).\n",
      "  posterior = gp_model(torch.tensor(X_unmeasured))\n",
      "/tmp/ipykernel_1292286/1166517645.py:15: UserWarning: To copy construct from a tensor, it is recommended to use sourceTensor.clone().detach() or sourceTensor.clone().detach().requires_grad_(True), rather than torch.tensor(sourceTensor).\n",
      "  gp_model = SingleTaskGP(torch.tensor(X_measured), torch.tensor(y_measured))\n",
      "/nfs/home/upratius/.conda/envs/gpax_hae/lib/python3.10/site-packages/botorch/models/utils/assorted.py:174: InputDataWarning: Input data is not contained to the unit cube. Please consider min-max scaling the input data.\n",
      "  warnings.warn(msg, InputDataWarning)\n",
      "/nfs/home/upratius/.conda/envs/gpax_hae/lib/python3.10/site-packages/botorch/models/utils/assorted.py:202: InputDataWarning: Input data is not standardized (mean = tensor([407.9023], dtype=torch.float64), std = tensor([207.9963], dtype=torch.float64)). Please consider scaling the input to zero mean and unit variance.\n",
      "  warnings.warn(msg, InputDataWarning)\n"
     ]
    },
    {
     "name": "stdout",
     "output_type": "stream",
     "text": [
      "\n",
      "Step 4/5\n"
     ]
    },
    {
     "name": "stderr",
     "output_type": "stream",
     "text": [
      "/tmp/ipykernel_1292286/1166517645.py:24: UserWarning: To copy construct from a tensor, it is recommended to use sourceTensor.clone().detach() or sourceTensor.clone().detach().requires_grad_(True), rather than torch.tensor(sourceTensor).\n",
      "  posterior = gp_model(torch.tensor(X_unmeasured))\n",
      "/tmp/ipykernel_1292286/1166517645.py:15: UserWarning: To copy construct from a tensor, it is recommended to use sourceTensor.clone().detach() or sourceTensor.clone().detach().requires_grad_(True), rather than torch.tensor(sourceTensor).\n",
      "  gp_model = SingleTaskGP(torch.tensor(X_measured), torch.tensor(y_measured))\n",
      "/nfs/home/upratius/.conda/envs/gpax_hae/lib/python3.10/site-packages/botorch/models/utils/assorted.py:174: InputDataWarning: Input data is not contained to the unit cube. Please consider min-max scaling the input data.\n",
      "  warnings.warn(msg, InputDataWarning)\n",
      "/nfs/home/upratius/.conda/envs/gpax_hae/lib/python3.10/site-packages/botorch/models/utils/assorted.py:202: InputDataWarning: Input data is not standardized (mean = tensor([399.8305], dtype=torch.float64), std = tensor([206.0767], dtype=torch.float64)). Please consider scaling the input to zero mean and unit variance.\n",
      "  warnings.warn(msg, InputDataWarning)\n"
     ]
    },
    {
     "name": "stdout",
     "output_type": "stream",
     "text": [
      "\n",
      "Step 5/5\n"
     ]
    },
    {
     "name": "stderr",
     "output_type": "stream",
     "text": [
      "/tmp/ipykernel_1292286/1166517645.py:24: UserWarning: To copy construct from a tensor, it is recommended to use sourceTensor.clone().detach() or sourceTensor.clone().detach().requires_grad_(True), rather than torch.tensor(sourceTensor).\n",
      "  posterior = gp_model(torch.tensor(X_unmeasured))\n",
      "/tmp/ipykernel_1292286/1166517645.py:15: UserWarning: To copy construct from a tensor, it is recommended to use sourceTensor.clone().detach() or sourceTensor.clone().detach().requires_grad_(True), rather than torch.tensor(sourceTensor).\n",
      "  gp_model = SingleTaskGP(torch.tensor(X_measured), torch.tensor(y_measured))\n",
      "/nfs/home/upratius/.conda/envs/gpax_hae/lib/python3.10/site-packages/botorch/models/utils/assorted.py:174: InputDataWarning: Input data is not contained to the unit cube. Please consider min-max scaling the input data.\n",
      "  warnings.warn(msg, InputDataWarning)\n",
      "/nfs/home/upratius/.conda/envs/gpax_hae/lib/python3.10/site-packages/botorch/models/utils/assorted.py:202: InputDataWarning: Input data is not standardized (mean = tensor([408.5108], dtype=torch.float64), std = tensor([202.5659], dtype=torch.float64)). Please consider scaling the input to zero mean and unit variance.\n",
      "  warnings.warn(msg, InputDataWarning)\n",
      "/tmp/ipykernel_1292286/1166517645.py:24: UserWarning: To copy construct from a tensor, it is recommended to use sourceTensor.clone().detach() or sourceTensor.clone().detach().requires_grad_(True), rather than torch.tensor(sourceTensor).\n",
      "  posterior = gp_model(torch.tensor(X_unmeasured))\n",
      "/tmp/ipykernel_1292286/1166517645.py:15: UserWarning: To copy construct from a tensor, it is recommended to use sourceTensor.clone().detach() or sourceTensor.clone().detach().requires_grad_(True), rather than torch.tensor(sourceTensor).\n",
      "  gp_model = SingleTaskGP(torch.tensor(X_measured), torch.tensor(y_measured))\n",
      "/nfs/home/upratius/.conda/envs/gpax_hae/lib/python3.10/site-packages/botorch/models/utils/assorted.py:174: InputDataWarning: Input data is not contained to the unit cube. Please consider min-max scaling the input data.\n",
      "  warnings.warn(msg, InputDataWarning)\n",
      "/nfs/home/upratius/.conda/envs/gpax_hae/lib/python3.10/site-packages/botorch/models/utils/assorted.py:202: InputDataWarning: Input data is not standardized (mean = tensor([399.0589], dtype=torch.float64), std = tensor([200.5675], dtype=torch.float64)). Please consider scaling the input to zero mean and unit variance.\n",
      "  warnings.warn(msg, InputDataWarning)\n"
     ]
    },
    {
     "name": "stdout",
     "output_type": "stream",
     "text": [
      "Seed: 3, n_init: 15, Noise Level: 0.01\n",
      "(17, 1)\n",
      "(17, 1)\n",
      "\n",
      "Step 1/5\n",
      "\n",
      "Step 2/5\n"
     ]
    },
    {
     "name": "stderr",
     "output_type": "stream",
     "text": [
      "/tmp/ipykernel_1292286/1166517645.py:24: UserWarning: To copy construct from a tensor, it is recommended to use sourceTensor.clone().detach() or sourceTensor.clone().detach().requires_grad_(True), rather than torch.tensor(sourceTensor).\n",
      "  posterior = gp_model(torch.tensor(X_unmeasured))\n",
      "/tmp/ipykernel_1292286/1166517645.py:15: UserWarning: To copy construct from a tensor, it is recommended to use sourceTensor.clone().detach() or sourceTensor.clone().detach().requires_grad_(True), rather than torch.tensor(sourceTensor).\n",
      "  gp_model = SingleTaskGP(torch.tensor(X_measured), torch.tensor(y_measured))\n",
      "/nfs/home/upratius/.conda/envs/gpax_hae/lib/python3.10/site-packages/botorch/models/utils/assorted.py:174: InputDataWarning: Input data is not contained to the unit cube. Please consider min-max scaling the input data.\n",
      "  warnings.warn(msg, InputDataWarning)\n",
      "/nfs/home/upratius/.conda/envs/gpax_hae/lib/python3.10/site-packages/botorch/models/utils/assorted.py:202: InputDataWarning: Input data is not standardized (mean = tensor([409.5393], dtype=torch.float64), std = tensor([200.1984], dtype=torch.float64)). Please consider scaling the input to zero mean and unit variance.\n",
      "  warnings.warn(msg, InputDataWarning)\n",
      "/tmp/ipykernel_1292286/1166517645.py:24: UserWarning: To copy construct from a tensor, it is recommended to use sourceTensor.clone().detach() or sourceTensor.clone().detach().requires_grad_(True), rather than torch.tensor(sourceTensor).\n",
      "  posterior = gp_model(torch.tensor(X_unmeasured))\n",
      "/tmp/ipykernel_1292286/1166517645.py:15: UserWarning: To copy construct from a tensor, it is recommended to use sourceTensor.clone().detach() or sourceTensor.clone().detach().requires_grad_(True), rather than torch.tensor(sourceTensor).\n",
      "  gp_model = SingleTaskGP(torch.tensor(X_measured), torch.tensor(y_measured))\n",
      "/nfs/home/upratius/.conda/envs/gpax_hae/lib/python3.10/site-packages/botorch/models/utils/assorted.py:174: InputDataWarning: Input data is not contained to the unit cube. Please consider min-max scaling the input data.\n",
      "  warnings.warn(msg, InputDataWarning)\n",
      "/nfs/home/upratius/.conda/envs/gpax_hae/lib/python3.10/site-packages/botorch/models/utils/assorted.py:202: InputDataWarning: Input data is not standardized (mean = tensor([430.8755], dtype=torch.float64), std = tensor([216.9669], dtype=torch.float64)). Please consider scaling the input to zero mean and unit variance.\n",
      "  warnings.warn(msg, InputDataWarning)\n"
     ]
    },
    {
     "name": "stdout",
     "output_type": "stream",
     "text": [
      "\n",
      "Step 3/5\n",
      "\n",
      "Step 4/5\n",
      "\n",
      "Step 5/5\n"
     ]
    },
    {
     "name": "stderr",
     "output_type": "stream",
     "text": [
      "/tmp/ipykernel_1292286/1166517645.py:24: UserWarning: To copy construct from a tensor, it is recommended to use sourceTensor.clone().detach() or sourceTensor.clone().detach().requires_grad_(True), rather than torch.tensor(sourceTensor).\n",
      "  posterior = gp_model(torch.tensor(X_unmeasured))\n",
      "/tmp/ipykernel_1292286/1166517645.py:15: UserWarning: To copy construct from a tensor, it is recommended to use sourceTensor.clone().detach() or sourceTensor.clone().detach().requires_grad_(True), rather than torch.tensor(sourceTensor).\n",
      "  gp_model = SingleTaskGP(torch.tensor(X_measured), torch.tensor(y_measured))\n",
      "/nfs/home/upratius/.conda/envs/gpax_hae/lib/python3.10/site-packages/botorch/models/utils/assorted.py:174: InputDataWarning: Input data is not contained to the unit cube. Please consider min-max scaling the input data.\n",
      "  warnings.warn(msg, InputDataWarning)\n",
      "/nfs/home/upratius/.conda/envs/gpax_hae/lib/python3.10/site-packages/botorch/models/utils/assorted.py:202: InputDataWarning: Input data is not standardized (mean = tensor([450.1801], dtype=torch.float64), std = tensor([229.2312], dtype=torch.float64)). Please consider scaling the input to zero mean and unit variance.\n",
      "  warnings.warn(msg, InputDataWarning)\n",
      "/tmp/ipykernel_1292286/1166517645.py:24: UserWarning: To copy construct from a tensor, it is recommended to use sourceTensor.clone().detach() or sourceTensor.clone().detach().requires_grad_(True), rather than torch.tensor(sourceTensor).\n",
      "  posterior = gp_model(torch.tensor(X_unmeasured))\n",
      "/tmp/ipykernel_1292286/1166517645.py:15: UserWarning: To copy construct from a tensor, it is recommended to use sourceTensor.clone().detach() or sourceTensor.clone().detach().requires_grad_(True), rather than torch.tensor(sourceTensor).\n",
      "  gp_model = SingleTaskGP(torch.tensor(X_measured), torch.tensor(y_measured))\n",
      "/nfs/home/upratius/.conda/envs/gpax_hae/lib/python3.10/site-packages/botorch/models/utils/assorted.py:174: InputDataWarning: Input data is not contained to the unit cube. Please consider min-max scaling the input data.\n",
      "  warnings.warn(msg, InputDataWarning)\n",
      "/nfs/home/upratius/.conda/envs/gpax_hae/lib/python3.10/site-packages/botorch/models/utils/assorted.py:202: InputDataWarning: Input data is not standardized (mean = tensor([408.4795], dtype=torch.float64), std = tensor([202.5659], dtype=torch.float64)). Please consider scaling the input to zero mean and unit variance.\n",
      "  warnings.warn(msg, InputDataWarning)\n"
     ]
    },
    {
     "name": "stdout",
     "output_type": "stream",
     "text": [
      "Seed: 3, n_init: 15, Noise Level: 0.1\n",
      "(17, 1)\n",
      "(17, 1)\n",
      "\n",
      "Step 1/5\n"
     ]
    },
    {
     "name": "stderr",
     "output_type": "stream",
     "text": [
      "/tmp/ipykernel_1292286/1166517645.py:24: UserWarning: To copy construct from a tensor, it is recommended to use sourceTensor.clone().detach() or sourceTensor.clone().detach().requires_grad_(True), rather than torch.tensor(sourceTensor).\n",
      "  posterior = gp_model(torch.tensor(X_unmeasured))\n",
      "/tmp/ipykernel_1292286/1166517645.py:15: UserWarning: To copy construct from a tensor, it is recommended to use sourceTensor.clone().detach() or sourceTensor.clone().detach().requires_grad_(True), rather than torch.tensor(sourceTensor).\n",
      "  gp_model = SingleTaskGP(torch.tensor(X_measured), torch.tensor(y_measured))\n",
      "/nfs/home/upratius/.conda/envs/gpax_hae/lib/python3.10/site-packages/botorch/models/utils/assorted.py:174: InputDataWarning: Input data is not contained to the unit cube. Please consider min-max scaling the input data.\n",
      "  warnings.warn(msg, InputDataWarning)\n",
      "/nfs/home/upratius/.conda/envs/gpax_hae/lib/python3.10/site-packages/botorch/models/utils/assorted.py:202: InputDataWarning: Input data is not standardized (mean = tensor([399.0213], dtype=torch.float64), std = tensor([200.5729], dtype=torch.float64)). Please consider scaling the input to zero mean and unit variance.\n",
      "  warnings.warn(msg, InputDataWarning)\n"
     ]
    },
    {
     "name": "stdout",
     "output_type": "stream",
     "text": [
      "\n",
      "Step 2/5\n",
      "\n",
      "Step 3/5\n"
     ]
    },
    {
     "name": "stderr",
     "output_type": "stream",
     "text": [
      "/tmp/ipykernel_1292286/1166517645.py:24: UserWarning: To copy construct from a tensor, it is recommended to use sourceTensor.clone().detach() or sourceTensor.clone().detach().requires_grad_(True), rather than torch.tensor(sourceTensor).\n",
      "  posterior = gp_model(torch.tensor(X_unmeasured))\n",
      "/tmp/ipykernel_1292286/1166517645.py:15: UserWarning: To copy construct from a tensor, it is recommended to use sourceTensor.clone().detach() or sourceTensor.clone().detach().requires_grad_(True), rather than torch.tensor(sourceTensor).\n",
      "  gp_model = SingleTaskGP(torch.tensor(X_measured), torch.tensor(y_measured))\n",
      "/nfs/home/upratius/.conda/envs/gpax_hae/lib/python3.10/site-packages/botorch/models/utils/assorted.py:174: InputDataWarning: Input data is not contained to the unit cube. Please consider min-max scaling the input data.\n",
      "  warnings.warn(msg, InputDataWarning)\n",
      "/nfs/home/upratius/.conda/envs/gpax_hae/lib/python3.10/site-packages/botorch/models/utils/assorted.py:202: InputDataWarning: Input data is not standardized (mean = tensor([409.5055], dtype=torch.float64), std = tensor([200.2074], dtype=torch.float64)). Please consider scaling the input to zero mean and unit variance.\n",
      "  warnings.warn(msg, InputDataWarning)\n",
      "/tmp/ipykernel_1292286/1166517645.py:24: UserWarning: To copy construct from a tensor, it is recommended to use sourceTensor.clone().detach() or sourceTensor.clone().detach().requires_grad_(True), rather than torch.tensor(sourceTensor).\n",
      "  posterior = gp_model(torch.tensor(X_unmeasured))\n"
     ]
    },
    {
     "name": "stdout",
     "output_type": "stream",
     "text": [
      "\n",
      "Step 4/5\n"
     ]
    },
    {
     "name": "stderr",
     "output_type": "stream",
     "text": [
      "/tmp/ipykernel_1292286/1166517645.py:15: UserWarning: To copy construct from a tensor, it is recommended to use sourceTensor.clone().detach() or sourceTensor.clone().detach().requires_grad_(True), rather than torch.tensor(sourceTensor).\n",
      "  gp_model = SingleTaskGP(torch.tensor(X_measured), torch.tensor(y_measured))\n",
      "/nfs/home/upratius/.conda/envs/gpax_hae/lib/python3.10/site-packages/botorch/models/utils/assorted.py:174: InputDataWarning: Input data is not contained to the unit cube. Please consider min-max scaling the input data.\n",
      "  warnings.warn(msg, InputDataWarning)\n",
      "/nfs/home/upratius/.conda/envs/gpax_hae/lib/python3.10/site-packages/botorch/models/utils/assorted.py:202: InputDataWarning: Input data is not standardized (mean = tensor([419.9207], dtype=torch.float64), std = tensor([200.3570], dtype=torch.float64)). Please consider scaling the input to zero mean and unit variance.\n",
      "  warnings.warn(msg, InputDataWarning)\n",
      "/tmp/ipykernel_1292286/1166517645.py:24: UserWarning: To copy construct from a tensor, it is recommended to use sourceTensor.clone().detach() or sourceTensor.clone().detach().requires_grad_(True), rather than torch.tensor(sourceTensor).\n",
      "  posterior = gp_model(torch.tensor(X_unmeasured))\n"
     ]
    },
    {
     "name": "stdout",
     "output_type": "stream",
     "text": [
      "\n",
      "Step 5/5\n"
     ]
    },
    {
     "name": "stderr",
     "output_type": "stream",
     "text": [
      "/tmp/ipykernel_1292286/1166517645.py:15: UserWarning: To copy construct from a tensor, it is recommended to use sourceTensor.clone().detach() or sourceTensor.clone().detach().requires_grad_(True), rather than torch.tensor(sourceTensor).\n",
      "  gp_model = SingleTaskGP(torch.tensor(X_measured), torch.tensor(y_measured))\n",
      "/nfs/home/upratius/.conda/envs/gpax_hae/lib/python3.10/site-packages/botorch/models/utils/assorted.py:174: InputDataWarning: Input data is not contained to the unit cube. Please consider min-max scaling the input data.\n",
      "  warnings.warn(msg, InputDataWarning)\n",
      "/nfs/home/upratius/.conda/envs/gpax_hae/lib/python3.10/site-packages/botorch/models/utils/assorted.py:202: InputDataWarning: Input data is not standardized (mean = tensor([411.2736], dtype=torch.float64), std = tensor([199.2637], dtype=torch.float64)). Please consider scaling the input to zero mean and unit variance.\n",
      "  warnings.warn(msg, InputDataWarning)\n",
      "/tmp/ipykernel_1292286/1166517645.py:24: UserWarning: To copy construct from a tensor, it is recommended to use sourceTensor.clone().detach() or sourceTensor.clone().detach().requires_grad_(True), rather than torch.tensor(sourceTensor).\n",
      "  posterior = gp_model(torch.tensor(X_unmeasured))\n",
      "/tmp/ipykernel_1292286/1166517645.py:15: UserWarning: To copy construct from a tensor, it is recommended to use sourceTensor.clone().detach() or sourceTensor.clone().detach().requires_grad_(True), rather than torch.tensor(sourceTensor).\n",
      "  gp_model = SingleTaskGP(torch.tensor(X_measured), torch.tensor(y_measured))\n",
      "/nfs/home/upratius/.conda/envs/gpax_hae/lib/python3.10/site-packages/botorch/models/utils/assorted.py:174: InputDataWarning: Input data is not contained to the unit cube. Please consider min-max scaling the input data.\n",
      "  warnings.warn(msg, InputDataWarning)\n",
      "/nfs/home/upratius/.conda/envs/gpax_hae/lib/python3.10/site-packages/botorch/models/utils/assorted.py:202: InputDataWarning: Input data is not standardized (mean = tensor([408.3406], dtype=torch.float64), std = tensor([202.5659], dtype=torch.float64)). Please consider scaling the input to zero mean and unit variance.\n",
      "  warnings.warn(msg, InputDataWarning)\n",
      "/tmp/ipykernel_1292286/1166517645.py:24: UserWarning: To copy construct from a tensor, it is recommended to use sourceTensor.clone().detach() or sourceTensor.clone().detach().requires_grad_(True), rather than torch.tensor(sourceTensor).\n",
      "  posterior = gp_model(torch.tensor(X_unmeasured))\n"
     ]
    },
    {
     "name": "stdout",
     "output_type": "stream",
     "text": [
      "Seed: 3, n_init: 15, Noise Level: 0.5\n",
      "(17, 1)\n",
      "(17, 1)\n",
      "\n",
      "Step 1/5\n",
      "\n",
      "Step 2/5\n"
     ]
    },
    {
     "name": "stderr",
     "output_type": "stream",
     "text": [
      "/tmp/ipykernel_1292286/1166517645.py:15: UserWarning: To copy construct from a tensor, it is recommended to use sourceTensor.clone().detach() or sourceTensor.clone().detach().requires_grad_(True), rather than torch.tensor(sourceTensor).\n",
      "  gp_model = SingleTaskGP(torch.tensor(X_measured), torch.tensor(y_measured))\n",
      "/nfs/home/upratius/.conda/envs/gpax_hae/lib/python3.10/site-packages/botorch/models/utils/assorted.py:174: InputDataWarning: Input data is not contained to the unit cube. Please consider min-max scaling the input data.\n",
      "  warnings.warn(msg, InputDataWarning)\n",
      "/nfs/home/upratius/.conda/envs/gpax_hae/lib/python3.10/site-packages/botorch/models/utils/assorted.py:202: InputDataWarning: Input data is not standardized (mean = tensor([426.5274], dtype=torch.float64), std = tensor([211.1230], dtype=torch.float64)). Please consider scaling the input to zero mean and unit variance.\n",
      "  warnings.warn(msg, InputDataWarning)\n",
      "/tmp/ipykernel_1292286/1166517645.py:24: UserWarning: To copy construct from a tensor, it is recommended to use sourceTensor.clone().detach() or sourceTensor.clone().detach().requires_grad_(True), rather than torch.tensor(sourceTensor).\n",
      "  posterior = gp_model(torch.tensor(X_unmeasured))\n",
      "/tmp/ipykernel_1292286/1166517645.py:15: UserWarning: To copy construct from a tensor, it is recommended to use sourceTensor.clone().detach() or sourceTensor.clone().detach().requires_grad_(True), rather than torch.tensor(sourceTensor).\n",
      "  gp_model = SingleTaskGP(torch.tensor(X_measured), torch.tensor(y_measured))\n",
      "/nfs/home/upratius/.conda/envs/gpax_hae/lib/python3.10/site-packages/botorch/models/utils/assorted.py:174: InputDataWarning: Input data is not contained to the unit cube. Please consider min-max scaling the input data.\n",
      "  warnings.warn(msg, InputDataWarning)\n",
      "/nfs/home/upratius/.conda/envs/gpax_hae/lib/python3.10/site-packages/botorch/models/utils/assorted.py:202: InputDataWarning: Input data is not standardized (mean = tensor([442.8530], dtype=torch.float64), std = tensor([217.1650], dtype=torch.float64)). Please consider scaling the input to zero mean and unit variance.\n",
      "  warnings.warn(msg, InputDataWarning)\n"
     ]
    },
    {
     "name": "stdout",
     "output_type": "stream",
     "text": [
      "\n",
      "Step 3/5\n"
     ]
    },
    {
     "name": "stderr",
     "output_type": "stream",
     "text": [
      "/tmp/ipykernel_1292286/1166517645.py:24: UserWarning: To copy construct from a tensor, it is recommended to use sourceTensor.clone().detach() or sourceTensor.clone().detach().requires_grad_(True), rather than torch.tensor(sourceTensor).\n",
      "  posterior = gp_model(torch.tensor(X_unmeasured))\n",
      "/tmp/ipykernel_1292286/1166517645.py:15: UserWarning: To copy construct from a tensor, it is recommended to use sourceTensor.clone().detach() or sourceTensor.clone().detach().requires_grad_(True), rather than torch.tensor(sourceTensor).\n",
      "  gp_model = SingleTaskGP(torch.tensor(X_measured), torch.tensor(y_measured))\n",
      "/nfs/home/upratius/.conda/envs/gpax_hae/lib/python3.10/site-packages/botorch/models/utils/assorted.py:174: InputDataWarning: Input data is not contained to the unit cube. Please consider min-max scaling the input data.\n",
      "  warnings.warn(msg, InputDataWarning)\n",
      "/nfs/home/upratius/.conda/envs/gpax_hae/lib/python3.10/site-packages/botorch/models/utils/assorted.py:202: InputDataWarning: Input data is not standardized (mean = tensor([432.5893], dtype=torch.float64), std = tensor([216.2993], dtype=torch.float64)). Please consider scaling the input to zero mean and unit variance.\n",
      "  warnings.warn(msg, InputDataWarning)\n"
     ]
    },
    {
     "name": "stdout",
     "output_type": "stream",
     "text": [
      "\n",
      "Step 4/5\n",
      "\n",
      "Step 5/5\n"
     ]
    },
    {
     "name": "stderr",
     "output_type": "stream",
     "text": [
      "/tmp/ipykernel_1292286/1166517645.py:24: UserWarning: To copy construct from a tensor, it is recommended to use sourceTensor.clone().detach() or sourceTensor.clone().detach().requires_grad_(True), rather than torch.tensor(sourceTensor).\n",
      "  posterior = gp_model(torch.tensor(X_unmeasured))\n",
      "/tmp/ipykernel_1292286/1166517645.py:15: UserWarning: To copy construct from a tensor, it is recommended to use sourceTensor.clone().detach() or sourceTensor.clone().detach().requires_grad_(True), rather than torch.tensor(sourceTensor).\n",
      "  gp_model = SingleTaskGP(torch.tensor(X_measured), torch.tensor(y_measured))\n",
      "/nfs/home/upratius/.conda/envs/gpax_hae/lib/python3.10/site-packages/botorch/models/utils/assorted.py:174: InputDataWarning: Input data is not contained to the unit cube. Please consider min-max scaling the input data.\n",
      "  warnings.warn(msg, InputDataWarning)\n",
      "/nfs/home/upratius/.conda/envs/gpax_hae/lib/python3.10/site-packages/botorch/models/utils/assorted.py:202: InputDataWarning: Input data is not standardized (mean = tensor([423.3267], dtype=torch.float64), std = tensor([215.0531], dtype=torch.float64)). Please consider scaling the input to zero mean and unit variance.\n",
      "  warnings.warn(msg, InputDataWarning)\n",
      "/tmp/ipykernel_1292286/1166517645.py:24: UserWarning: To copy construct from a tensor, it is recommended to use sourceTensor.clone().detach() or sourceTensor.clone().detach().requires_grad_(True), rather than torch.tensor(sourceTensor).\n",
      "  posterior = gp_model(torch.tensor(X_unmeasured))\n",
      "/tmp/ipykernel_1292286/1166517645.py:15: UserWarning: To copy construct from a tensor, it is recommended to use sourceTensor.clone().detach() or sourceTensor.clone().detach().requires_grad_(True), rather than torch.tensor(sourceTensor).\n",
      "  gp_model = SingleTaskGP(torch.tensor(X_measured), torch.tensor(y_measured))\n",
      "/nfs/home/upratius/.conda/envs/gpax_hae/lib/python3.10/site-packages/botorch/models/utils/assorted.py:174: InputDataWarning: Input data is not contained to the unit cube. Please consider min-max scaling the input data.\n",
      "  warnings.warn(msg, InputDataWarning)\n",
      "/nfs/home/upratius/.conda/envs/gpax_hae/lib/python3.10/site-packages/botorch/models/utils/assorted.py:202: InputDataWarning: Input data is not standardized (mean = tensor([415.3312], dtype=torch.float64), std = tensor([178.7128], dtype=torch.float64)). Please consider scaling the input to zero mean and unit variance.\n",
      "  warnings.warn(msg, InputDataWarning)\n"
     ]
    },
    {
     "name": "stdout",
     "output_type": "stream",
     "text": [
      "Seed: 3, n_init: 20, Noise Level: 0\n",
      "(22, 1)\n",
      "(22, 1)\n",
      "\n",
      "Step 1/5\n"
     ]
    },
    {
     "name": "stderr",
     "output_type": "stream",
     "text": [
      "/tmp/ipykernel_1292286/1166517645.py:24: UserWarning: To copy construct from a tensor, it is recommended to use sourceTensor.clone().detach() or sourceTensor.clone().detach().requires_grad_(True), rather than torch.tensor(sourceTensor).\n",
      "  posterior = gp_model(torch.tensor(X_unmeasured))\n",
      "/tmp/ipykernel_1292286/1166517645.py:15: UserWarning: To copy construct from a tensor, it is recommended to use sourceTensor.clone().detach() or sourceTensor.clone().detach().requires_grad_(True), rather than torch.tensor(sourceTensor).\n",
      "  gp_model = SingleTaskGP(torch.tensor(X_measured), torch.tensor(y_measured))\n",
      "/nfs/home/upratius/.conda/envs/gpax_hae/lib/python3.10/site-packages/botorch/models/utils/assorted.py:174: InputDataWarning: Input data is not contained to the unit cube. Please consider min-max scaling the input data.\n",
      "  warnings.warn(msg, InputDataWarning)\n",
      "/nfs/home/upratius/.conda/envs/gpax_hae/lib/python3.10/site-packages/botorch/models/utils/assorted.py:202: InputDataWarning: Input data is not standardized (mean = tensor([424.1417], dtype=torch.float64), std = tensor([179.6439], dtype=torch.float64)). Please consider scaling the input to zero mean and unit variance.\n",
      "  warnings.warn(msg, InputDataWarning)\n"
     ]
    },
    {
     "name": "stdout",
     "output_type": "stream",
     "text": [
      "\n",
      "Step 2/5\n"
     ]
    },
    {
     "name": "stderr",
     "output_type": "stream",
     "text": [
      "/tmp/ipykernel_1292286/1166517645.py:24: UserWarning: To copy construct from a tensor, it is recommended to use sourceTensor.clone().detach() or sourceTensor.clone().detach().requires_grad_(True), rather than torch.tensor(sourceTensor).\n",
      "  posterior = gp_model(torch.tensor(X_unmeasured))\n",
      "/tmp/ipykernel_1292286/1166517645.py:15: UserWarning: To copy construct from a tensor, it is recommended to use sourceTensor.clone().detach() or sourceTensor.clone().detach().requires_grad_(True), rather than torch.tensor(sourceTensor).\n",
      "  gp_model = SingleTaskGP(torch.tensor(X_measured), torch.tensor(y_measured))\n",
      "/nfs/home/upratius/.conda/envs/gpax_hae/lib/python3.10/site-packages/botorch/models/utils/assorted.py:174: InputDataWarning: Input data is not contained to the unit cube. Please consider min-max scaling the input data.\n",
      "  warnings.warn(msg, InputDataWarning)\n",
      "/nfs/home/upratius/.conda/envs/gpax_hae/lib/python3.10/site-packages/botorch/models/utils/assorted.py:202: InputDataWarning: Input data is not standardized (mean = tensor([437.1573], dtype=torch.float64), std = tensor([186.9078], dtype=torch.float64)). Please consider scaling the input to zero mean and unit variance.\n",
      "  warnings.warn(msg, InputDataWarning)\n",
      "/tmp/ipykernel_1292286/1166517645.py:24: UserWarning: To copy construct from a tensor, it is recommended to use sourceTensor.clone().detach() or sourceTensor.clone().detach().requires_grad_(True), rather than torch.tensor(sourceTensor).\n",
      "  posterior = gp_model(torch.tensor(X_unmeasured))\n",
      "/tmp/ipykernel_1292286/1166517645.py:15: UserWarning: To copy construct from a tensor, it is recommended to use sourceTensor.clone().detach() or sourceTensor.clone().detach().requires_grad_(True), rather than torch.tensor(sourceTensor).\n",
      "  gp_model = SingleTaskGP(torch.tensor(X_measured), torch.tensor(y_measured))\n",
      "/nfs/home/upratius/.conda/envs/gpax_hae/lib/python3.10/site-packages/botorch/models/utils/assorted.py:174: InputDataWarning: Input data is not contained to the unit cube. Please consider min-max scaling the input data.\n",
      "  warnings.warn(msg, InputDataWarning)\n",
      "/nfs/home/upratius/.conda/envs/gpax_hae/lib/python3.10/site-packages/botorch/models/utils/assorted.py:202: InputDataWarning: Input data is not standardized (mean = tensor([429.2068], dtype=torch.float64), std = tensor([187.2411], dtype=torch.float64)). Please consider scaling the input to zero mean and unit variance.\n",
      "  warnings.warn(msg, InputDataWarning)\n"
     ]
    },
    {
     "name": "stdout",
     "output_type": "stream",
     "text": [
      "\n",
      "Step 3/5\n",
      "\n",
      "Step 4/5\n"
     ]
    },
    {
     "name": "stderr",
     "output_type": "stream",
     "text": [
      "/tmp/ipykernel_1292286/1166517645.py:24: UserWarning: To copy construct from a tensor, it is recommended to use sourceTensor.clone().detach() or sourceTensor.clone().detach().requires_grad_(True), rather than torch.tensor(sourceTensor).\n",
      "  posterior = gp_model(torch.tensor(X_unmeasured))\n",
      "/tmp/ipykernel_1292286/1166517645.py:15: UserWarning: To copy construct from a tensor, it is recommended to use sourceTensor.clone().detach() or sourceTensor.clone().detach().requires_grad_(True), rather than torch.tensor(sourceTensor).\n",
      "  gp_model = SingleTaskGP(torch.tensor(X_measured), torch.tensor(y_measured))\n",
      "/nfs/home/upratius/.conda/envs/gpax_hae/lib/python3.10/site-packages/botorch/models/utils/assorted.py:174: InputDataWarning: Input data is not contained to the unit cube. Please consider min-max scaling the input data.\n",
      "  warnings.warn(msg, InputDataWarning)\n",
      "/nfs/home/upratius/.conda/envs/gpax_hae/lib/python3.10/site-packages/botorch/models/utils/assorted.py:202: InputDataWarning: Input data is not standardized (mean = tensor([439.6166], dtype=torch.float64), std = tensor([190.9826], dtype=torch.float64)). Please consider scaling the input to zero mean and unit variance.\n",
      "  warnings.warn(msg, InputDataWarning)\n",
      "/tmp/ipykernel_1292286/1166517645.py:24: UserWarning: To copy construct from a tensor, it is recommended to use sourceTensor.clone().detach() or sourceTensor.clone().detach().requires_grad_(True), rather than torch.tensor(sourceTensor).\n",
      "  posterior = gp_model(torch.tensor(X_unmeasured))\n"
     ]
    },
    {
     "name": "stdout",
     "output_type": "stream",
     "text": [
      "\n",
      "Step 5/5\n",
      "Seed: 3, n_init: 20, Noise Level: 0.01\n",
      "(22, 1)\n",
      "(22, 1)\n",
      "\n",
      "Step 1/5\n"
     ]
    },
    {
     "name": "stderr",
     "output_type": "stream",
     "text": [
      "/tmp/ipykernel_1292286/1166517645.py:15: UserWarning: To copy construct from a tensor, it is recommended to use sourceTensor.clone().detach() or sourceTensor.clone().detach().requires_grad_(True), rather than torch.tensor(sourceTensor).\n",
      "  gp_model = SingleTaskGP(torch.tensor(X_measured), torch.tensor(y_measured))\n",
      "/nfs/home/upratius/.conda/envs/gpax_hae/lib/python3.10/site-packages/botorch/models/utils/assorted.py:174: InputDataWarning: Input data is not contained to the unit cube. Please consider min-max scaling the input data.\n",
      "  warnings.warn(msg, InputDataWarning)\n",
      "/nfs/home/upratius/.conda/envs/gpax_hae/lib/python3.10/site-packages/botorch/models/utils/assorted.py:202: InputDataWarning: Input data is not standardized (mean = tensor([415.3410], dtype=torch.float64), std = tensor([178.7128], dtype=torch.float64)). Please consider scaling the input to zero mean and unit variance.\n",
      "  warnings.warn(msg, InputDataWarning)\n",
      "/tmp/ipykernel_1292286/1166517645.py:24: UserWarning: To copy construct from a tensor, it is recommended to use sourceTensor.clone().detach() or sourceTensor.clone().detach().requires_grad_(True), rather than torch.tensor(sourceTensor).\n",
      "  posterior = gp_model(torch.tensor(X_unmeasured))\n",
      "/tmp/ipykernel_1292286/1166517645.py:15: UserWarning: To copy construct from a tensor, it is recommended to use sourceTensor.clone().detach() or sourceTensor.clone().detach().requires_grad_(True), rather than torch.tensor(sourceTensor).\n",
      "  gp_model = SingleTaskGP(torch.tensor(X_measured), torch.tensor(y_measured))\n",
      "/nfs/home/upratius/.conda/envs/gpax_hae/lib/python3.10/site-packages/botorch/models/utils/assorted.py:174: InputDataWarning: Input data is not contained to the unit cube. Please consider min-max scaling the input data.\n",
      "  warnings.warn(msg, InputDataWarning)\n",
      "/nfs/home/upratius/.conda/envs/gpax_hae/lib/python3.10/site-packages/botorch/models/utils/assorted.py:202: InputDataWarning: Input data is not standardized (mean = tensor([429.3046], dtype=torch.float64), std = tensor([187.0057], dtype=torch.float64)). Please consider scaling the input to zero mean and unit variance.\n",
      "  warnings.warn(msg, InputDataWarning)\n"
     ]
    },
    {
     "name": "stdout",
     "output_type": "stream",
     "text": [
      "\n",
      "Step 2/5\n"
     ]
    },
    {
     "name": "stderr",
     "output_type": "stream",
     "text": [
      "/tmp/ipykernel_1292286/1166517645.py:24: UserWarning: To copy construct from a tensor, it is recommended to use sourceTensor.clone().detach() or sourceTensor.clone().detach().requires_grad_(True), rather than torch.tensor(sourceTensor).\n",
      "  posterior = gp_model(torch.tensor(X_unmeasured))\n",
      "/tmp/ipykernel_1292286/1166517645.py:15: UserWarning: To copy construct from a tensor, it is recommended to use sourceTensor.clone().detach() or sourceTensor.clone().detach().requires_grad_(True), rather than torch.tensor(sourceTensor).\n",
      "  gp_model = SingleTaskGP(torch.tensor(X_measured), torch.tensor(y_measured))\n",
      "/nfs/home/upratius/.conda/envs/gpax_hae/lib/python3.10/site-packages/botorch/models/utils/assorted.py:174: InputDataWarning: Input data is not contained to the unit cube. Please consider min-max scaling the input data.\n",
      "  warnings.warn(msg, InputDataWarning)\n",
      "/nfs/home/upratius/.conda/envs/gpax_hae/lib/python3.10/site-packages/botorch/models/utils/assorted.py:202: InputDataWarning: Input data is not standardized (mean = tensor([421.3499], dtype=torch.float64), std = tensor([187.0009], dtype=torch.float64)). Please consider scaling the input to zero mean and unit variance.\n",
      "  warnings.warn(msg, InputDataWarning)\n",
      "/tmp/ipykernel_1292286/1166517645.py:24: UserWarning: To copy construct from a tensor, it is recommended to use sourceTensor.clone().detach() or sourceTensor.clone().detach().requires_grad_(True), rather than torch.tensor(sourceTensor).\n",
      "  posterior = gp_model(torch.tensor(X_unmeasured))\n",
      "/tmp/ipykernel_1292286/1166517645.py:15: UserWarning: To copy construct from a tensor, it is recommended to use sourceTensor.clone().detach() or sourceTensor.clone().detach().requires_grad_(True), rather than torch.tensor(sourceTensor).\n",
      "  gp_model = SingleTaskGP(torch.tensor(X_measured), torch.tensor(y_measured))\n",
      "/nfs/home/upratius/.conda/envs/gpax_hae/lib/python3.10/site-packages/botorch/models/utils/assorted.py:174: InputDataWarning: Input data is not contained to the unit cube. Please consider min-max scaling the input data.\n",
      "  warnings.warn(msg, InputDataWarning)\n",
      "/nfs/home/upratius/.conda/envs/gpax_hae/lib/python3.10/site-packages/botorch/models/utils/assorted.py:202: InputDataWarning: Input data is not standardized (mean = tensor([433.9572], dtype=torch.float64), std = tensor([193.6126], dtype=torch.float64)). Please consider scaling the input to zero mean and unit variance.\n",
      "  warnings.warn(msg, InputDataWarning)\n"
     ]
    },
    {
     "name": "stdout",
     "output_type": "stream",
     "text": [
      "\n",
      "Step 3/5\n",
      "\n",
      "Step 4/5\n"
     ]
    },
    {
     "name": "stderr",
     "output_type": "stream",
     "text": [
      "/tmp/ipykernel_1292286/1166517645.py:24: UserWarning: To copy construct from a tensor, it is recommended to use sourceTensor.clone().detach() or sourceTensor.clone().detach().requires_grad_(True), rather than torch.tensor(sourceTensor).\n",
      "  posterior = gp_model(torch.tensor(X_unmeasured))\n",
      "/tmp/ipykernel_1292286/1166517645.py:15: UserWarning: To copy construct from a tensor, it is recommended to use sourceTensor.clone().detach() or sourceTensor.clone().detach().requires_grad_(True), rather than torch.tensor(sourceTensor).\n",
      "  gp_model = SingleTaskGP(torch.tensor(X_measured), torch.tensor(y_measured))\n",
      "/nfs/home/upratius/.conda/envs/gpax_hae/lib/python3.10/site-packages/botorch/models/utils/assorted.py:174: InputDataWarning: Input data is not contained to the unit cube. Please consider min-max scaling the input data.\n",
      "  warnings.warn(msg, InputDataWarning)\n",
      "/nfs/home/upratius/.conda/envs/gpax_hae/lib/python3.10/site-packages/botorch/models/utils/assorted.py:202: InputDataWarning: Input data is not standardized (mean = tensor([445.5941], dtype=torch.float64), std = tensor([198.7644], dtype=torch.float64)). Please consider scaling the input to zero mean and unit variance.\n",
      "  warnings.warn(msg, InputDataWarning)\n"
     ]
    },
    {
     "name": "stdout",
     "output_type": "stream",
     "text": [
      "\n",
      "Step 5/5\n"
     ]
    },
    {
     "name": "stderr",
     "output_type": "stream",
     "text": [
      "/tmp/ipykernel_1292286/1166517645.py:24: UserWarning: To copy construct from a tensor, it is recommended to use sourceTensor.clone().detach() or sourceTensor.clone().detach().requires_grad_(True), rather than torch.tensor(sourceTensor).\n",
      "  posterior = gp_model(torch.tensor(X_unmeasured))\n",
      "/tmp/ipykernel_1292286/1166517645.py:15: UserWarning: To copy construct from a tensor, it is recommended to use sourceTensor.clone().detach() or sourceTensor.clone().detach().requires_grad_(True), rather than torch.tensor(sourceTensor).\n",
      "  gp_model = SingleTaskGP(torch.tensor(X_measured), torch.tensor(y_measured))\n",
      "/nfs/home/upratius/.conda/envs/gpax_hae/lib/python3.10/site-packages/botorch/models/utils/assorted.py:174: InputDataWarning: Input data is not contained to the unit cube. Please consider min-max scaling the input data.\n",
      "  warnings.warn(msg, InputDataWarning)\n",
      "/nfs/home/upratius/.conda/envs/gpax_hae/lib/python3.10/site-packages/botorch/models/utils/assorted.py:202: InputDataWarning: Input data is not standardized (mean = tensor([415.4294], dtype=torch.float64), std = tensor([178.7128], dtype=torch.float64)). Please consider scaling the input to zero mean and unit variance.\n",
      "  warnings.warn(msg, InputDataWarning)\n"
     ]
    },
    {
     "name": "stdout",
     "output_type": "stream",
     "text": [
      "Seed: 3, n_init: 20, Noise Level: 0.1\n",
      "(22, 1)\n",
      "(22, 1)\n",
      "\n",
      "Step 1/5\n"
     ]
    },
    {
     "name": "stderr",
     "output_type": "stream",
     "text": [
      "/tmp/ipykernel_1292286/1166517645.py:24: UserWarning: To copy construct from a tensor, it is recommended to use sourceTensor.clone().detach() or sourceTensor.clone().detach().requires_grad_(True), rather than torch.tensor(sourceTensor).\n",
      "  posterior = gp_model(torch.tensor(X_unmeasured))\n",
      "/tmp/ipykernel_1292286/1166517645.py:15: UserWarning: To copy construct from a tensor, it is recommended to use sourceTensor.clone().detach() or sourceTensor.clone().detach().requires_grad_(True), rather than torch.tensor(sourceTensor).\n",
      "  gp_model = SingleTaskGP(torch.tensor(X_measured), torch.tensor(y_measured))\n",
      "/nfs/home/upratius/.conda/envs/gpax_hae/lib/python3.10/site-packages/botorch/models/utils/assorted.py:174: InputDataWarning: Input data is not contained to the unit cube. Please consider min-max scaling the input data.\n",
      "  warnings.warn(msg, InputDataWarning)\n",
      "/nfs/home/upratius/.conda/envs/gpax_hae/lib/python3.10/site-packages/botorch/models/utils/assorted.py:202: InputDataWarning: Input data is not standardized (mean = tensor([427.7909], dtype=torch.float64), std = tensor([184.3939], dtype=torch.float64)). Please consider scaling the input to zero mean and unit variance.\n",
      "  warnings.warn(msg, InputDataWarning)\n"
     ]
    },
    {
     "name": "stdout",
     "output_type": "stream",
     "text": [
      "\n",
      "Step 2/5\n"
     ]
    },
    {
     "name": "stderr",
     "output_type": "stream",
     "text": [
      "/tmp/ipykernel_1292286/1166517645.py:24: UserWarning: To copy construct from a tensor, it is recommended to use sourceTensor.clone().detach() or sourceTensor.clone().detach().requires_grad_(True), rather than torch.tensor(sourceTensor).\n",
      "  posterior = gp_model(torch.tensor(X_unmeasured))\n",
      "/tmp/ipykernel_1292286/1166517645.py:15: UserWarning: To copy construct from a tensor, it is recommended to use sourceTensor.clone().detach() or sourceTensor.clone().detach().requires_grad_(True), rather than torch.tensor(sourceTensor).\n",
      "  gp_model = SingleTaskGP(torch.tensor(X_measured), torch.tensor(y_measured))\n",
      "/nfs/home/upratius/.conda/envs/gpax_hae/lib/python3.10/site-packages/botorch/models/utils/assorted.py:174: InputDataWarning: Input data is not contained to the unit cube. Please consider min-max scaling the input data.\n",
      "  warnings.warn(msg, InputDataWarning)\n",
      "/nfs/home/upratius/.conda/envs/gpax_hae/lib/python3.10/site-packages/botorch/models/utils/assorted.py:202: InputDataWarning: Input data is not standardized (mean = tensor([439.1264], dtype=torch.float64), std = tensor([188.6972], dtype=torch.float64)). Please consider scaling the input to zero mean and unit variance.\n",
      "  warnings.warn(msg, InputDataWarning)\n",
      "/tmp/ipykernel_1292286/1166517645.py:24: UserWarning: To copy construct from a tensor, it is recommended to use sourceTensor.clone().detach() or sourceTensor.clone().detach().requires_grad_(True), rather than torch.tensor(sourceTensor).\n",
      "  posterior = gp_model(torch.tensor(X_unmeasured))\n"
     ]
    },
    {
     "name": "stdout",
     "output_type": "stream",
     "text": [
      "\n",
      "Step 3/5\n",
      "\n",
      "Step 4/5\n"
     ]
    },
    {
     "name": "stderr",
     "output_type": "stream",
     "text": [
      "/tmp/ipykernel_1292286/1166517645.py:15: UserWarning: To copy construct from a tensor, it is recommended to use sourceTensor.clone().detach() or sourceTensor.clone().detach().requires_grad_(True), rather than torch.tensor(sourceTensor).\n",
      "  gp_model = SingleTaskGP(torch.tensor(X_measured), torch.tensor(y_measured))\n",
      "/nfs/home/upratius/.conda/envs/gpax_hae/lib/python3.10/site-packages/botorch/models/utils/assorted.py:174: InputDataWarning: Input data is not contained to the unit cube. Please consider min-max scaling the input data.\n",
      "  warnings.warn(msg, InputDataWarning)\n",
      "/nfs/home/upratius/.conda/envs/gpax_hae/lib/python3.10/site-packages/botorch/models/utils/assorted.py:202: InputDataWarning: Input data is not standardized (mean = tensor([451.0280], dtype=torch.float64), std = tensor([194.0727], dtype=torch.float64)). Please consider scaling the input to zero mean and unit variance.\n",
      "  warnings.warn(msg, InputDataWarning)\n",
      "/tmp/ipykernel_1292286/1166517645.py:24: UserWarning: To copy construct from a tensor, it is recommended to use sourceTensor.clone().detach() or sourceTensor.clone().detach().requires_grad_(True), rather than torch.tensor(sourceTensor).\n",
      "  posterior = gp_model(torch.tensor(X_unmeasured))\n",
      "/tmp/ipykernel_1292286/1166517645.py:15: UserWarning: To copy construct from a tensor, it is recommended to use sourceTensor.clone().detach() or sourceTensor.clone().detach().requires_grad_(True), rather than torch.tensor(sourceTensor).\n",
      "  gp_model = SingleTaskGP(torch.tensor(X_measured), torch.tensor(y_measured))\n",
      "/nfs/home/upratius/.conda/envs/gpax_hae/lib/python3.10/site-packages/botorch/models/utils/assorted.py:174: InputDataWarning: Input data is not contained to the unit cube. Please consider min-max scaling the input data.\n",
      "  warnings.warn(msg, InputDataWarning)\n",
      "/nfs/home/upratius/.conda/envs/gpax_hae/lib/python3.10/site-packages/botorch/models/utils/assorted.py:202: InputDataWarning: Input data is not standardized (mean = tensor([462.0092], dtype=torch.float64), std = tensor([198.2244], dtype=torch.float64)). Please consider scaling the input to zero mean and unit variance.\n",
      "  warnings.warn(msg, InputDataWarning)\n",
      "/tmp/ipykernel_1292286/1166517645.py:24: UserWarning: To copy construct from a tensor, it is recommended to use sourceTensor.clone().detach() or sourceTensor.clone().detach().requires_grad_(True), rather than torch.tensor(sourceTensor).\n",
      "  posterior = gp_model(torch.tensor(X_unmeasured))\n",
      "/tmp/ipykernel_1292286/1166517645.py:15: UserWarning: To copy construct from a tensor, it is recommended to use sourceTensor.clone().detach() or sourceTensor.clone().detach().requires_grad_(True), rather than torch.tensor(sourceTensor).\n",
      "  gp_model = SingleTaskGP(torch.tensor(X_measured), torch.tensor(y_measured))\n",
      "/nfs/home/upratius/.conda/envs/gpax_hae/lib/python3.10/site-packages/botorch/models/utils/assorted.py:174: InputDataWarning: Input data is not contained to the unit cube. Please consider min-max scaling the input data.\n",
      "  warnings.warn(msg, InputDataWarning)\n",
      "/nfs/home/upratius/.conda/envs/gpax_hae/lib/python3.10/site-packages/botorch/models/utils/assorted.py:202: InputDataWarning: Input data is not standardized (mean = tensor([415.8223], dtype=torch.float64), std = tensor([178.7128], dtype=torch.float64)). Please consider scaling the input to zero mean and unit variance.\n",
      "  warnings.warn(msg, InputDataWarning)\n"
     ]
    },
    {
     "name": "stdout",
     "output_type": "stream",
     "text": [
      "\n",
      "Step 5/5\n",
      "Seed: 3, n_init: 20, Noise Level: 0.5\n",
      "(22, 1)\n",
      "(22, 1)\n",
      "\n",
      "Step 1/5\n"
     ]
    },
    {
     "name": "stderr",
     "output_type": "stream",
     "text": [
      "/tmp/ipykernel_1292286/1166517645.py:24: UserWarning: To copy construct from a tensor, it is recommended to use sourceTensor.clone().detach() or sourceTensor.clone().detach().requires_grad_(True), rather than torch.tensor(sourceTensor).\n",
      "  posterior = gp_model(torch.tensor(X_unmeasured))\n",
      "/tmp/ipykernel_1292286/1166517645.py:15: UserWarning: To copy construct from a tensor, it is recommended to use sourceTensor.clone().detach() or sourceTensor.clone().detach().requires_grad_(True), rather than torch.tensor(sourceTensor).\n",
      "  gp_model = SingleTaskGP(torch.tensor(X_measured), torch.tensor(y_measured))\n",
      "/nfs/home/upratius/.conda/envs/gpax_hae/lib/python3.10/site-packages/botorch/models/utils/assorted.py:174: InputDataWarning: Input data is not contained to the unit cube. Please consider min-max scaling the input data.\n",
      "  warnings.warn(msg, InputDataWarning)\n",
      "/nfs/home/upratius/.conda/envs/gpax_hae/lib/python3.10/site-packages/botorch/models/utils/assorted.py:202: InputDataWarning: Input data is not standardized (mean = tensor([429.7398], dtype=torch.float64), std = tensor([186.9266], dtype=torch.float64)). Please consider scaling the input to zero mean and unit variance.\n",
      "  warnings.warn(msg, InputDataWarning)\n",
      "/tmp/ipykernel_1292286/1166517645.py:24: UserWarning: To copy construct from a tensor, it is recommended to use sourceTensor.clone().detach() or sourceTensor.clone().detach().requires_grad_(True), rather than torch.tensor(sourceTensor).\n",
      "  posterior = gp_model(torch.tensor(X_unmeasured))\n",
      "/tmp/ipykernel_1292286/1166517645.py:15: UserWarning: To copy construct from a tensor, it is recommended to use sourceTensor.clone().detach() or sourceTensor.clone().detach().requires_grad_(True), rather than torch.tensor(sourceTensor).\n",
      "  gp_model = SingleTaskGP(torch.tensor(X_measured), torch.tensor(y_measured))\n",
      "/nfs/home/upratius/.conda/envs/gpax_hae/lib/python3.10/site-packages/botorch/models/utils/assorted.py:174: InputDataWarning: Input data is not contained to the unit cube. Please consider min-max scaling the input data.\n",
      "  warnings.warn(msg, InputDataWarning)\n",
      "/nfs/home/upratius/.conda/envs/gpax_hae/lib/python3.10/site-packages/botorch/models/utils/assorted.py:202: InputDataWarning: Input data is not standardized (mean = tensor([442.5179], dtype=torch.float64), std = tensor([193.2383], dtype=torch.float64)). Please consider scaling the input to zero mean and unit variance.\n",
      "  warnings.warn(msg, InputDataWarning)\n"
     ]
    },
    {
     "name": "stdout",
     "output_type": "stream",
     "text": [
      "\n",
      "Step 2/5\n",
      "\n",
      "Step 3/5\n"
     ]
    },
    {
     "name": "stderr",
     "output_type": "stream",
     "text": [
      "/tmp/ipykernel_1292286/1166517645.py:24: UserWarning: To copy construct from a tensor, it is recommended to use sourceTensor.clone().detach() or sourceTensor.clone().detach().requires_grad_(True), rather than torch.tensor(sourceTensor).\n",
      "  posterior = gp_model(torch.tensor(X_unmeasured))\n",
      "/tmp/ipykernel_1292286/1166517645.py:15: UserWarning: To copy construct from a tensor, it is recommended to use sourceTensor.clone().detach() or sourceTensor.clone().detach().requires_grad_(True), rather than torch.tensor(sourceTensor).\n",
      "  gp_model = SingleTaskGP(torch.tensor(X_measured), torch.tensor(y_measured))\n",
      "/nfs/home/upratius/.conda/envs/gpax_hae/lib/python3.10/site-packages/botorch/models/utils/assorted.py:174: InputDataWarning: Input data is not contained to the unit cube. Please consider min-max scaling the input data.\n",
      "  warnings.warn(msg, InputDataWarning)\n",
      "/nfs/home/upratius/.conda/envs/gpax_hae/lib/python3.10/site-packages/botorch/models/utils/assorted.py:202: InputDataWarning: Input data is not standardized (mean = tensor([454.3075], dtype=torch.float64), std = tensor([198.1415], dtype=torch.float64)). Please consider scaling the input to zero mean and unit variance.\n",
      "  warnings.warn(msg, InputDataWarning)\n"
     ]
    },
    {
     "name": "stdout",
     "output_type": "stream",
     "text": [
      "\n",
      "Step 4/5\n",
      "\n",
      "Step 5/5\n"
     ]
    },
    {
     "name": "stderr",
     "output_type": "stream",
     "text": [
      "/tmp/ipykernel_1292286/1166517645.py:24: UserWarning: To copy construct from a tensor, it is recommended to use sourceTensor.clone().detach() or sourceTensor.clone().detach().requires_grad_(True), rather than torch.tensor(sourceTensor).\n",
      "  posterior = gp_model(torch.tensor(X_unmeasured))\n",
      "/tmp/ipykernel_1292286/1166517645.py:15: UserWarning: To copy construct from a tensor, it is recommended to use sourceTensor.clone().detach() or sourceTensor.clone().detach().requires_grad_(True), rather than torch.tensor(sourceTensor).\n",
      "  gp_model = SingleTaskGP(torch.tensor(X_measured), torch.tensor(y_measured))\n",
      "/nfs/home/upratius/.conda/envs/gpax_hae/lib/python3.10/site-packages/botorch/models/utils/assorted.py:174: InputDataWarning: Input data is not contained to the unit cube. Please consider min-max scaling the input data.\n",
      "  warnings.warn(msg, InputDataWarning)\n",
      "/nfs/home/upratius/.conda/envs/gpax_hae/lib/python3.10/site-packages/botorch/models/utils/assorted.py:202: InputDataWarning: Input data is not standardized (mean = tensor([465.1663], dtype=torch.float64), std = tensor([201.8796], dtype=torch.float64)). Please consider scaling the input to zero mean and unit variance.\n",
      "  warnings.warn(msg, InputDataWarning)\n",
      "/tmp/ipykernel_1292286/1166517645.py:24: UserWarning: To copy construct from a tensor, it is recommended to use sourceTensor.clone().detach() or sourceTensor.clone().detach().requires_grad_(True), rather than torch.tensor(sourceTensor).\n",
      "  posterior = gp_model(torch.tensor(X_unmeasured))\n"
     ]
    },
    {
     "name": "stdout",
     "output_type": "stream",
     "text": [
      "    Seed  n_init  Noise_Level           MSE  Average_Uncertainty\n",
      "0      1      10         0.00  42108.119088            17.544797\n",
      "1      1      10         0.01  40813.529530            15.307410\n",
      "2      1      10         0.10  37841.945077            15.802484\n",
      "3      1      10         0.50  37550.871366             3.830761\n",
      "4      1      15         0.00  38389.632000            14.470949\n",
      "5      1      15         0.01  38349.540837            12.016277\n",
      "6      1      15         0.10  37489.492780            11.868182\n",
      "7      1      15         0.50  38289.508883             3.746136\n",
      "8      1      20         0.00  40191.983264             3.811547\n",
      "9      1      20         0.01  37858.782132            22.654309\n",
      "10     1      20         0.10  37773.534062            17.449285\n",
      "11     1      20         0.50  40106.162783            20.949178\n",
      "12     2      10         0.00  40301.273881            19.379407\n",
      "13     2      10         0.01  40308.008804            19.379004\n",
      "14     2      10         0.10  38778.941866            10.257270\n",
      "15     2      10         0.50  38225.941709             4.929497\n",
      "16     2      15         0.00  38749.761702             4.129729\n",
      "17     2      15         0.01  38660.032543            14.906107\n",
      "18     2      15         0.10  37840.004933             4.291684\n",
      "19     2      15         0.50  37846.269125             4.292110\n",
      "20     2      20         0.00  42369.545363            19.049765\n",
      "21     2      20         0.01  40294.001498            17.056114\n",
      "22     2      20         0.10  39115.475050            10.273374\n",
      "23     2      20         0.50  45580.410145            18.010720\n",
      "24     3      10         0.00  40642.425485             6.167951\n",
      "25     3      10         0.01  39174.924580            14.297714\n",
      "26     3      10         0.10  37548.821345            15.840703\n",
      "27     3      10         0.50  37905.882849             3.912628\n",
      "28     3      15         0.00  37822.923411             3.523961\n",
      "29     3      15         0.01  43567.768930            16.288372\n",
      "30     3      15         0.10  38178.293287            23.374256\n",
      "31     3      15         0.50  41235.754444             7.550453\n",
      "32     3      20         0.00  37889.521772            23.649989\n",
      "33     3      20         0.01  39445.484274            14.958631\n",
      "34     3      20         0.10  44042.980326            18.591112\n",
      "35     3      20         0.50  39537.842423             4.317835\n"
     ]
    }
   ],
   "source": [
    "# Define your parameter space\n",
    "seeds = [1, 2, 3]\n",
    "n_inits = [10, 15, 20]\n",
    "noise_levels = [0, 0.01, 0.1, 0.5]\n",
    "\n",
    "# Assuming create_data and run_gp functions are defined elsewhere\n",
    "\n",
    "# Run the grid search\n",
    "results_df = grid_search(seeds, n_inits, noise_levels)\n",
    "\n",
    "# Display the results DataFrame\n",
    "print(results_df)"
   ]
  },
  {
   "cell_type": "code",
   "execution_count": 86,
   "id": "ee93bd4f",
   "metadata": {},
   "outputs": [],
   "source": [
    "results_df.to_csv('grid_search_results_botorch.csv', index=False)"
   ]
  },
  {
   "cell_type": "code",
   "execution_count": 87,
   "id": "0ea1507d",
   "metadata": {},
   "outputs": [
    {
     "data": {
      "text/html": [
       "<div>\n",
       "<style scoped>\n",
       "    .dataframe tbody tr th:only-of-type {\n",
       "        vertical-align: middle;\n",
       "    }\n",
       "\n",
       "    .dataframe tbody tr th {\n",
       "        vertical-align: top;\n",
       "    }\n",
       "\n",
       "    .dataframe thead th {\n",
       "        text-align: right;\n",
       "    }\n",
       "</style>\n",
       "<table border=\"1\" class=\"dataframe\">\n",
       "  <thead>\n",
       "    <tr style=\"text-align: right;\">\n",
       "      <th></th>\n",
       "      <th>Seed</th>\n",
       "      <th>n_init</th>\n",
       "      <th>Noise_Level</th>\n",
       "      <th>MSE</th>\n",
       "      <th>Average_Uncertainty</th>\n",
       "    </tr>\n",
       "  </thead>\n",
       "  <tbody>\n",
       "    <tr>\n",
       "      <th>0</th>\n",
       "      <td>1</td>\n",
       "      <td>10</td>\n",
       "      <td>0.00</td>\n",
       "      <td>42108.119088</td>\n",
       "      <td>17.544797</td>\n",
       "    </tr>\n",
       "    <tr>\n",
       "      <th>1</th>\n",
       "      <td>1</td>\n",
       "      <td>10</td>\n",
       "      <td>0.01</td>\n",
       "      <td>40813.529530</td>\n",
       "      <td>15.307410</td>\n",
       "    </tr>\n",
       "    <tr>\n",
       "      <th>2</th>\n",
       "      <td>1</td>\n",
       "      <td>10</td>\n",
       "      <td>0.10</td>\n",
       "      <td>37841.945077</td>\n",
       "      <td>15.802484</td>\n",
       "    </tr>\n",
       "    <tr>\n",
       "      <th>3</th>\n",
       "      <td>1</td>\n",
       "      <td>10</td>\n",
       "      <td>0.50</td>\n",
       "      <td>37550.871366</td>\n",
       "      <td>3.830761</td>\n",
       "    </tr>\n",
       "    <tr>\n",
       "      <th>4</th>\n",
       "      <td>1</td>\n",
       "      <td>15</td>\n",
       "      <td>0.00</td>\n",
       "      <td>38389.632000</td>\n",
       "      <td>14.470949</td>\n",
       "    </tr>\n",
       "    <tr>\n",
       "      <th>5</th>\n",
       "      <td>1</td>\n",
       "      <td>15</td>\n",
       "      <td>0.01</td>\n",
       "      <td>38349.540837</td>\n",
       "      <td>12.016277</td>\n",
       "    </tr>\n",
       "    <tr>\n",
       "      <th>6</th>\n",
       "      <td>1</td>\n",
       "      <td>15</td>\n",
       "      <td>0.10</td>\n",
       "      <td>37489.492780</td>\n",
       "      <td>11.868182</td>\n",
       "    </tr>\n",
       "    <tr>\n",
       "      <th>7</th>\n",
       "      <td>1</td>\n",
       "      <td>15</td>\n",
       "      <td>0.50</td>\n",
       "      <td>38289.508883</td>\n",
       "      <td>3.746136</td>\n",
       "    </tr>\n",
       "    <tr>\n",
       "      <th>8</th>\n",
       "      <td>1</td>\n",
       "      <td>20</td>\n",
       "      <td>0.00</td>\n",
       "      <td>40191.983264</td>\n",
       "      <td>3.811547</td>\n",
       "    </tr>\n",
       "    <tr>\n",
       "      <th>9</th>\n",
       "      <td>1</td>\n",
       "      <td>20</td>\n",
       "      <td>0.01</td>\n",
       "      <td>37858.782132</td>\n",
       "      <td>22.654309</td>\n",
       "    </tr>\n",
       "    <tr>\n",
       "      <th>10</th>\n",
       "      <td>1</td>\n",
       "      <td>20</td>\n",
       "      <td>0.10</td>\n",
       "      <td>37773.534062</td>\n",
       "      <td>17.449285</td>\n",
       "    </tr>\n",
       "    <tr>\n",
       "      <th>11</th>\n",
       "      <td>1</td>\n",
       "      <td>20</td>\n",
       "      <td>0.50</td>\n",
       "      <td>40106.162783</td>\n",
       "      <td>20.949178</td>\n",
       "    </tr>\n",
       "    <tr>\n",
       "      <th>12</th>\n",
       "      <td>2</td>\n",
       "      <td>10</td>\n",
       "      <td>0.00</td>\n",
       "      <td>40301.273881</td>\n",
       "      <td>19.379407</td>\n",
       "    </tr>\n",
       "    <tr>\n",
       "      <th>13</th>\n",
       "      <td>2</td>\n",
       "      <td>10</td>\n",
       "      <td>0.01</td>\n",
       "      <td>40308.008804</td>\n",
       "      <td>19.379004</td>\n",
       "    </tr>\n",
       "    <tr>\n",
       "      <th>14</th>\n",
       "      <td>2</td>\n",
       "      <td>10</td>\n",
       "      <td>0.10</td>\n",
       "      <td>38778.941866</td>\n",
       "      <td>10.257270</td>\n",
       "    </tr>\n",
       "    <tr>\n",
       "      <th>15</th>\n",
       "      <td>2</td>\n",
       "      <td>10</td>\n",
       "      <td>0.50</td>\n",
       "      <td>38225.941709</td>\n",
       "      <td>4.929497</td>\n",
       "    </tr>\n",
       "    <tr>\n",
       "      <th>16</th>\n",
       "      <td>2</td>\n",
       "      <td>15</td>\n",
       "      <td>0.00</td>\n",
       "      <td>38749.761702</td>\n",
       "      <td>4.129729</td>\n",
       "    </tr>\n",
       "    <tr>\n",
       "      <th>17</th>\n",
       "      <td>2</td>\n",
       "      <td>15</td>\n",
       "      <td>0.01</td>\n",
       "      <td>38660.032543</td>\n",
       "      <td>14.906107</td>\n",
       "    </tr>\n",
       "    <tr>\n",
       "      <th>18</th>\n",
       "      <td>2</td>\n",
       "      <td>15</td>\n",
       "      <td>0.10</td>\n",
       "      <td>37840.004933</td>\n",
       "      <td>4.291684</td>\n",
       "    </tr>\n",
       "    <tr>\n",
       "      <th>19</th>\n",
       "      <td>2</td>\n",
       "      <td>15</td>\n",
       "      <td>0.50</td>\n",
       "      <td>37846.269125</td>\n",
       "      <td>4.292110</td>\n",
       "    </tr>\n",
       "    <tr>\n",
       "      <th>20</th>\n",
       "      <td>2</td>\n",
       "      <td>20</td>\n",
       "      <td>0.00</td>\n",
       "      <td>42369.545363</td>\n",
       "      <td>19.049765</td>\n",
       "    </tr>\n",
       "    <tr>\n",
       "      <th>21</th>\n",
       "      <td>2</td>\n",
       "      <td>20</td>\n",
       "      <td>0.01</td>\n",
       "      <td>40294.001498</td>\n",
       "      <td>17.056114</td>\n",
       "    </tr>\n",
       "    <tr>\n",
       "      <th>22</th>\n",
       "      <td>2</td>\n",
       "      <td>20</td>\n",
       "      <td>0.10</td>\n",
       "      <td>39115.475050</td>\n",
       "      <td>10.273374</td>\n",
       "    </tr>\n",
       "    <tr>\n",
       "      <th>23</th>\n",
       "      <td>2</td>\n",
       "      <td>20</td>\n",
       "      <td>0.50</td>\n",
       "      <td>45580.410145</td>\n",
       "      <td>18.010720</td>\n",
       "    </tr>\n",
       "    <tr>\n",
       "      <th>24</th>\n",
       "      <td>3</td>\n",
       "      <td>10</td>\n",
       "      <td>0.00</td>\n",
       "      <td>40642.425485</td>\n",
       "      <td>6.167951</td>\n",
       "    </tr>\n",
       "    <tr>\n",
       "      <th>25</th>\n",
       "      <td>3</td>\n",
       "      <td>10</td>\n",
       "      <td>0.01</td>\n",
       "      <td>39174.924580</td>\n",
       "      <td>14.297714</td>\n",
       "    </tr>\n",
       "    <tr>\n",
       "      <th>26</th>\n",
       "      <td>3</td>\n",
       "      <td>10</td>\n",
       "      <td>0.10</td>\n",
       "      <td>37548.821345</td>\n",
       "      <td>15.840703</td>\n",
       "    </tr>\n",
       "    <tr>\n",
       "      <th>27</th>\n",
       "      <td>3</td>\n",
       "      <td>10</td>\n",
       "      <td>0.50</td>\n",
       "      <td>37905.882849</td>\n",
       "      <td>3.912628</td>\n",
       "    </tr>\n",
       "    <tr>\n",
       "      <th>28</th>\n",
       "      <td>3</td>\n",
       "      <td>15</td>\n",
       "      <td>0.00</td>\n",
       "      <td>37822.923411</td>\n",
       "      <td>3.523961</td>\n",
       "    </tr>\n",
       "    <tr>\n",
       "      <th>29</th>\n",
       "      <td>3</td>\n",
       "      <td>15</td>\n",
       "      <td>0.01</td>\n",
       "      <td>43567.768930</td>\n",
       "      <td>16.288372</td>\n",
       "    </tr>\n",
       "    <tr>\n",
       "      <th>30</th>\n",
       "      <td>3</td>\n",
       "      <td>15</td>\n",
       "      <td>0.10</td>\n",
       "      <td>38178.293287</td>\n",
       "      <td>23.374256</td>\n",
       "    </tr>\n",
       "    <tr>\n",
       "      <th>31</th>\n",
       "      <td>3</td>\n",
       "      <td>15</td>\n",
       "      <td>0.50</td>\n",
       "      <td>41235.754444</td>\n",
       "      <td>7.550453</td>\n",
       "    </tr>\n",
       "    <tr>\n",
       "      <th>32</th>\n",
       "      <td>3</td>\n",
       "      <td>20</td>\n",
       "      <td>0.00</td>\n",
       "      <td>37889.521772</td>\n",
       "      <td>23.649989</td>\n",
       "    </tr>\n",
       "    <tr>\n",
       "      <th>33</th>\n",
       "      <td>3</td>\n",
       "      <td>20</td>\n",
       "      <td>0.01</td>\n",
       "      <td>39445.484274</td>\n",
       "      <td>14.958631</td>\n",
       "    </tr>\n",
       "    <tr>\n",
       "      <th>34</th>\n",
       "      <td>3</td>\n",
       "      <td>20</td>\n",
       "      <td>0.10</td>\n",
       "      <td>44042.980326</td>\n",
       "      <td>18.591112</td>\n",
       "    </tr>\n",
       "    <tr>\n",
       "      <th>35</th>\n",
       "      <td>3</td>\n",
       "      <td>20</td>\n",
       "      <td>0.50</td>\n",
       "      <td>39537.842423</td>\n",
       "      <td>4.317835</td>\n",
       "    </tr>\n",
       "  </tbody>\n",
       "</table>\n",
       "</div>"
      ],
      "text/plain": [
       "    Seed  n_init  Noise_Level           MSE  Average_Uncertainty\n",
       "0      1      10         0.00  42108.119088            17.544797\n",
       "1      1      10         0.01  40813.529530            15.307410\n",
       "2      1      10         0.10  37841.945077            15.802484\n",
       "3      1      10         0.50  37550.871366             3.830761\n",
       "4      1      15         0.00  38389.632000            14.470949\n",
       "5      1      15         0.01  38349.540837            12.016277\n",
       "6      1      15         0.10  37489.492780            11.868182\n",
       "7      1      15         0.50  38289.508883             3.746136\n",
       "8      1      20         0.00  40191.983264             3.811547\n",
       "9      1      20         0.01  37858.782132            22.654309\n",
       "10     1      20         0.10  37773.534062            17.449285\n",
       "11     1      20         0.50  40106.162783            20.949178\n",
       "12     2      10         0.00  40301.273881            19.379407\n",
       "13     2      10         0.01  40308.008804            19.379004\n",
       "14     2      10         0.10  38778.941866            10.257270\n",
       "15     2      10         0.50  38225.941709             4.929497\n",
       "16     2      15         0.00  38749.761702             4.129729\n",
       "17     2      15         0.01  38660.032543            14.906107\n",
       "18     2      15         0.10  37840.004933             4.291684\n",
       "19     2      15         0.50  37846.269125             4.292110\n",
       "20     2      20         0.00  42369.545363            19.049765\n",
       "21     2      20         0.01  40294.001498            17.056114\n",
       "22     2      20         0.10  39115.475050            10.273374\n",
       "23     2      20         0.50  45580.410145            18.010720\n",
       "24     3      10         0.00  40642.425485             6.167951\n",
       "25     3      10         0.01  39174.924580            14.297714\n",
       "26     3      10         0.10  37548.821345            15.840703\n",
       "27     3      10         0.50  37905.882849             3.912628\n",
       "28     3      15         0.00  37822.923411             3.523961\n",
       "29     3      15         0.01  43567.768930            16.288372\n",
       "30     3      15         0.10  38178.293287            23.374256\n",
       "31     3      15         0.50  41235.754444             7.550453\n",
       "32     3      20         0.00  37889.521772            23.649989\n",
       "33     3      20         0.01  39445.484274            14.958631\n",
       "34     3      20         0.10  44042.980326            18.591112\n",
       "35     3      20         0.50  39537.842423             4.317835"
      ]
     },
     "execution_count": 87,
     "metadata": {},
     "output_type": "execute_result"
    }
   ],
   "source": [
    "results_df"
   ]
  },
  {
   "cell_type": "code",
   "execution_count": 88,
   "id": "6556e778",
   "metadata": {},
   "outputs": [
    {
     "data": {
      "image/png": "[encoded data removed]",
      "text/plain": [
       "<Figure size 1400x600 with 2 Axes>"
      ]
     },
     "metadata": {},
     "output_type": "display_data"
    }
   ],
   "source": [
    "import matplotlib.pyplot as plt\n",
    "import pandas as pd\n",
    "\n",
    "# Convert the list of dictionaries into a DataFrame for easier manipulation\n",
    "df = results_df\n",
    "\n",
    "# Plot settings\n",
    "plt.figure(figsize=(14, 6))\n",
    "\n",
    "# Plot 1: MSE\n",
    "plt.subplot(1, 2, 1)  # 1 row, 2 columns, first plot\n",
    "for key, grp in df.groupby(['Seed', 'n_init']):\n",
    "    plt.plot(grp['Noise_Level'], grp['MSE'], marker='o', linestyle='-', label=f'Seed {key[0]}, n_init {key[1]}')\n",
    "plt.title('MSE vs. Noise Level')\n",
    "plt.xlabel('Noise Level')\n",
    "plt.ylabel('MSE')\n",
    "plt.legend()\n",
    "plt.grid(True)\n",
    "\n",
    "# Plot 2: Average Uncertainty\n",
    "plt.subplot(1, 2, 2)  # 1 row, 2 columns, second plot\n",
    "for key, grp in df.groupby(['Seed', 'n_init']):\n",
    "    plt.plot(grp['Noise_Level'], grp['Average_Uncertainty'], marker='x', linestyle='--', label=f'Seed {key[0]}, n_init {key[1]}')\n",
    "plt.title('Average Uncertainty vs. Noise Level')\n",
    "plt.xlabel('Noise Level')\n",
    "plt.ylabel('Average Uncertainty')\n",
    "plt.legend()\n",
    "plt.grid(True)\n",
    "\n",
    "plt.tight_layout()\n",
    "plt.show()\n"
   ]
  },
  {
   "cell_type": "code",
   "execution_count": null,
   "id": "b10b4cd4",
   "metadata": {},
   "outputs": [],
   "source": []
  }
 ],
 "metadata": {
  "kernelspec": {
   "display_name": "Python [conda env:.conda-gpax_hae]",
   "language": "python",
   "name": "conda-env-.conda-gpax_hae-py"
  },
  "language_info": {
   "codemirror_mode": {
    "name": "ipython",
    "version": 3
   },
   "file_extension": ".py",
   "mimetype": "text/x-python",
   "name": "python",
   "nbconvert_exporter": "python",
   "pygments_lexer": "ipython3",
   "version": "3.10.0"
  },
  "varInspector": {
   "cols": {
    "lenName": 16,
    "lenType": 16,
    "lenVar": 40
   },
   "kernels_config": {
    "python": {
     "delete_cmd_postfix": "",
     "delete_cmd_prefix": "del ",
     "library": "var_list.py",
     "varRefreshCmd": "print(var_dic_list())"
    },
    "r": {
     "delete_cmd_postfix": ") ",
     "delete_cmd_prefix": "rm(",
     "library": "var_list.r",
     "varRefreshCmd": "cat(var_dic_list()) "
    }
   },
   "types_to_exclude": [
    "module",
    "function",
    "builtin_function_or_method",
    "instance",
    "_Feature"
   ],
   "window_display": false
  }
 },
 "nbformat": 4,
 "nbformat_minor": 5
}
