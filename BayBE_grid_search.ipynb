{
 "cells": [
  {
   "cell_type": "code",
   "execution_count": 8,
   "id": "fc7d83ca-d889-49f9-a332-785d3267512d",
   "metadata": {},
   "outputs": [],
   "source": [
    "import numpy as np\n",
    "from src import schwefel\n",
    "from src import baybe_utils\n",
    "from src import visualization"
   ]
  },
  {
   "cell_type": "markdown",
   "id": "3e9d8019-5827-4325-b0e4-cc1f80745270",
   "metadata": {},
   "source": [
    "## BayBE Schwefel function optimization examples\n",
    "\n",
    "### Brenden Pelkie\n",
    "\n",
    "This notebook walks through a quick grid search to explore the impact of measurement noise on optimization performance of a vanilla BO implementation in BayBE."
   ]
  },
  {
   "cell_type": "markdown",
   "id": "44701cdf-29e6-47f7-84f5-abfd5112a2e9",
   "metadata": {},
   "source": [
    "### 1. Pick parameters\n",
    "\n",
    "First define parameters for optimization. Here we set the number of BO iterations/cycles to run, the number of random initial observations to include, the dimensionality of the schwefel function to optimize, the noise level of the schwefel observations, and the number of obserations to make per iteration/BO batch cycle"
   ]
  },
  {
   "cell_type": "code",
   "execution_count": 2,
   "id": "b158f689-b0e5-478e-b7a6-2cb586acf4c5",
   "metadata": {},
   "outputs": [],
   "source": [
    "NUM_ITERATIONS = 15\n",
    "NUM_INIT_OBS = 5\n",
    "N_DIMS_SCHWEF = 1\n",
    "NOISE_LEVEL_SCHWEF = 0\n",
    "ITERATION_BATCH_SIZE = 1"
   ]
  },
  {
   "cell_type": "markdown",
   "id": "3b3e07e3-3daa-4196-b17f-8982e0598db9",
   "metadata": {},
   "source": [
    "For the grid search over number of BO iterations and noise, select the desired values here"
   ]
  },
  {
   "cell_type": "code",
   "execution_count": 3,
   "id": "0670300a-6f94-4b37-9854-d4b0b5251b40",
   "metadata": {},
   "outputs": [],
   "source": [
    "num_iterations = [5,10,15]#[5,10,20,40,60,80]\n",
    "noise = [0, 0.1]# [0, 0.1, 0.2, 0.5]\n"
   ]
  },
  {
   "cell_type": "markdown",
   "id": "4705ebb3-86ad-41f5-8c23-0f883b79a871",
   "metadata": {},
   "source": [
    "### 2. Run grid search"
   ]
  },
  {
   "cell_type": "code",
   "execution_count": 4,
   "id": "6a78944a-2833-407a-9bbc-86206155b2d8",
   "metadata": {},
   "outputs": [
    {
     "name": "stdout",
     "output_type": "stream",
     "text": [
      "Collecting initial observations\n",
      "Beginning optimization campaign\n"
     ]
    },
    {
     "name": "stderr",
     "output_type": "stream",
     "text": [
      "100%|████████████████████████████████████████████████████████████████████████████████████████████████████████████████████████████████████████████████████████████████| 5/5 [00:01<00:00,  4.91it/s]\n"
     ]
    },
    {
     "name": "stdout",
     "output_type": "stream",
     "text": [
      "Collecting initial observations\n",
      "Beginning optimization campaign\n"
     ]
    },
    {
     "name": "stderr",
     "output_type": "stream",
     "text": [
      "100%|████████████████████████████████████████████████████████████████████████████████████████████████████████████████████████████████████████████████████████████████| 5/5 [00:00<00:00,  6.07it/s]\n"
     ]
    },
    {
     "name": "stdout",
     "output_type": "stream",
     "text": [
      "Collecting initial observations\n",
      "Beginning optimization campaign\n"
     ]
    },
    {
     "name": "stderr",
     "output_type": "stream",
     "text": [
      "100%|██████████████████████████████████████████████████████████████████████████████████████████████████████████████████████████████████████████████████████████████| 10/10 [00:01<00:00,  7.29it/s]\n"
     ]
    },
    {
     "name": "stdout",
     "output_type": "stream",
     "text": [
      "Collecting initial observations\n",
      "Beginning optimization campaign\n"
     ]
    },
    {
     "name": "stderr",
     "output_type": "stream",
     "text": [
      "100%|██████████████████████████████████████████████████████████████████████████████████████████████████████████████████████████████████████████████████████████████| 10/10 [00:01<00:00,  5.12it/s]\n"
     ]
    },
    {
     "name": "stdout",
     "output_type": "stream",
     "text": [
      "Collecting initial observations\n",
      "Beginning optimization campaign\n"
     ]
    },
    {
     "name": "stderr",
     "output_type": "stream",
     "text": [
      "100%|██████████████████████████████████████████████████████████████████████████████████████████████████████████████████████████████████████████████████████████████| 15/15 [00:02<00:00,  5.02it/s]\n"
     ]
    },
    {
     "name": "stdout",
     "output_type": "stream",
     "text": [
      "Collecting initial observations\n",
      "Beginning optimization campaign\n"
     ]
    },
    {
     "name": "stderr",
     "output_type": "stream",
     "text": [
      "100%|██████████████████████████████████████████████████████████████████████████████████████████████████████████████████████████████████████████████████████████████| 15/15 [00:02<00:00,  5.63it/s]\n"
     ]
    }
   ],
   "source": [
    "grid_results = baybe_utils.iteration_noise_grid_search(num_iterations, noise, NUM_INIT_OBS, N_DIMS_SCHWEF, ITERATION_BATCH_SIZE)"
   ]
  },
  {
   "cell_type": "markdown",
   "id": "4f403581-1dd2-4a10-b98e-fcd147ec0bba",
   "metadata": {},
   "source": [
    "### 3. Process and visualize results"
   ]
  },
  {
   "cell_type": "code",
   "execution_count": 5,
   "id": "a10e5944-1038-4bec-bb54-66a60f22ccec",
   "metadata": {},
   "outputs": [],
   "source": [
    "n_its, noise, performance_matrix = baybe_utils.process_grid_searh_results(grid_results)"
   ]
  },
  {
   "cell_type": "code",
   "execution_count": 7,
   "id": "524e2642-4a6d-458e-bade-05106c17e4ab",
   "metadata": {},
   "outputs": [
    {
     "data": {
      "text/plain": [
       "<Axes: xlabel='Noise level', ylabel='Number of BO iterations'>"
      ]
     },
     "execution_count": 7,
     "metadata": {},
     "output_type": "execute_result"
    },
    {
     "data": {
      "image/png": "[encoded data removed]",
      "text/plain": [
       "<Figure size 640x480 with 2 Axes>"
      ]
     },
     "metadata": {},
     "output_type": "display_data"
    }
   ],
   "source": [
    "visualization.grid_search_heatmap(n_its, noise, performance_matrix)"
   ]
  },
  {
   "cell_type": "code",
   "execution_count": null,
   "id": "6f476b1b-3931-435c-a85a-73b76c5ecdd5",
   "metadata": {},
   "outputs": [],
   "source": []
  }
 ],
 "metadata": {
  "kernelspec": {
   "display_name": "Python 3 (ipykernel)",
   "language": "python",
   "name": "python3"
  },
  "language_info": {
   "codemirror_mode": {
    "name": "ipython",
    "version": 3
   },
   "file_extension": ".py",
   "mimetype": "text/x-python",
   "name": "python",
   "nbconvert_exporter": "python",
   "pygments_lexer": "ipython3",
   "version": "3.12.2"
  }
 },
 "nbformat": 4,
 "nbformat_minor": 5
}
