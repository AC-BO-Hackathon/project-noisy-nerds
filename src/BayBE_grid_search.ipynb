{
 "cells": [
  {
   "cell_type": "code",
   "execution_count": 1,
   "id": "01039780-75fe-4d45-ad43-a3802d21f6f2",
   "metadata": {},
   "outputs": [],
   "source": [
    "%load_ext autoreload\n",
    "%autoreload 2"
   ]
  },
  {
   "cell_type": "code",
   "execution_count": 2,
   "id": "fc7d83ca-d889-49f9-a332-785d3267512d",
   "metadata": {},
   "outputs": [
    {
     "name": "stderr",
     "output_type": "stream",
     "text": [
      "/home/brendenpelkie/miniconda3/envs/noisybo/lib/python3.12/site-packages/baybe/telemetry.py:222: UserWarning: WARNING: BayBE Telemetry endpoint https://public.telemetry.baybe.p.uptimize.merckgroup.com:4317 cannot be reached. Disabling telemetry. The exception encountered was: ConnectionError, HTTPConnectionPool(host='verkehrsnachrichten.merck.de', port=80): Max retries exceeded with url: / (Caused by NameResolutionError(\"<urllib3.connection.HTTPConnection object at 0x7f36f0dfd9a0>: Failed to resolve 'verkehrsnachrichten.merck.de' ([Errno -2] Name or service not known)\"))\n",
      "  warnings.warn(\n"
     ]
    }
   ],
   "source": [
    "import numpy as np\n",
    "from src import schwefel\n",
    "from src import baybe_utils\n",
    "from src import visualization\n",
    "\n",
    "import matplotlib.pyplot as plt"
   ]
  },
  {
   "cell_type": "markdown",
   "id": "3e9d8019-5827-4325-b0e4-cc1f80745270",
   "metadata": {},
   "source": [
    "## BayBE Schwefel function optimization examples\n",
    "\n",
    "### Brenden Pelkie\n",
    "\n",
    "This notebook walks through a quick grid search to explore the impact of measurement noise on optimization performance of a vanilla BO implementation in BayBE."
   ]
  },
  {
   "cell_type": "markdown",
   "id": "44701cdf-29e6-47f7-84f5-abfd5112a2e9",
   "metadata": {},
   "source": [
    "### 1. Pick parameters\n",
    "\n",
    "First define parameters for optimization. Here we set the number of BO iterations/cycles to run, the number of random initial observations to include, the dimensionality of the schwefel function to optimize, the noise level of the schwefel observations, and the number of obserations to make per iteration/BO batch cycle"
   ]
  },
  {
   "cell_type": "code",
   "execution_count": 9,
   "id": "b158f689-b0e5-478e-b7a6-2cb586acf4c5",
   "metadata": {},
   "outputs": [],
   "source": [
    "NUM_ITERATIONS = 15\n",
    "NUM_INIT_OBS = 5\n",
    "N_DIMS_SCHWEF = 2\n",
    "NOISE_LEVEL_SCHWEF = 0\n",
    "ITERATION_BATCH_SIZE = 1\n",
    "SCHWEFEL_RANGE = (-50,50)"
   ]
  },
  {
   "cell_type": "markdown",
   "id": "3b3e07e3-3daa-4196-b17f-8982e0598db9",
   "metadata": {},
   "source": [
    "For the grid search over number of BO iterations and noise, select the desired values here"
   ]
  },
  {
   "cell_type": "code",
   "execution_count": 11,
   "id": "0670300a-6f94-4b37-9854-d4b0b5251b40",
   "metadata": {},
   "outputs": [],
   "source": [
    "num_iterations = [5]#[5,10,20,40,60,80]\n",
    "noise = [0]# [0, 0.1, 0.2, 0.5]\n"
   ]
  },
  {
   "cell_type": "markdown",
   "id": "4705ebb3-86ad-41f5-8c23-0f883b79a871",
   "metadata": {},
   "source": [
    "### 2. Run grid search"
   ]
  },
  {
   "cell_type": "code",
   "execution_count": 12,
   "id": "6a78944a-2833-407a-9bbc-86206155b2d8",
   "metadata": {},
   "outputs": [
    {
     "name": "stdout",
     "output_type": "stream",
     "text": [
      "Collecting initial observations\n",
      "Beginning optimization campaign\n"
     ]
    },
    {
     "name": "stderr",
     "output_type": "stream",
     "text": [
      "100%|████████████████████████████████████████████████████████████████████████████████████████████████████████████████████████████████████████████████████████████████| 5/5 [00:04<00:00,  1.17it/s]\n"
     ]
    }
   ],
   "source": [
    "grid_results = baybe_utils.iteration_noise_grid_search(num_iterations, noise, NUM_INIT_OBS, N_DIMS_SCHWEF, ITERATION_BATCH_SIZE, SCHWEFEL_RANGE=SCHWEFEL_RANGE)"
   ]
  },
  {
   "cell_type": "markdown",
   "id": "4f403581-1dd2-4a10-b98e-fcd147ec0bba",
   "metadata": {},
   "source": [
    "### 3. Process and visualize results"
   ]
  },
  {
   "cell_type": "code",
   "execution_count": 13,
   "id": "a10e5944-1038-4bec-bb54-66a60f22ccec",
   "metadata": {},
   "outputs": [],
   "source": [
    "n_its, noise, performance_matrix = baybe_utils.process_grid_searh_results(grid_results)"
   ]
  },
  {
   "cell_type": "code",
   "execution_count": 14,
   "id": "524e2642-4a6d-458e-bade-05106c17e4ab",
   "metadata": {},
   "outputs": [
    {
     "data": {
      "text/plain": [
       "<Axes: xlabel='Noise level', ylabel='Number of BO iterations'>"
      ]
     },
     "execution_count": 14,
     "metadata": {},
     "output_type": "execute_result"
    },
    {
     "data": {
      "image/png": "[encoded data removed]",
      "text/plain": [
       "<Figure size 640x480 with 2 Axes>"
      ]
     },
     "metadata": {},
     "output_type": "display_data"
    }
   ],
   "source": [
    "visualization.grid_search_heatmap(n_its, noise, performance_matrix)"
   ]
  },
  {
   "cell_type": "code",
   "execution_count": 15,
   "id": "6f476b1b-3931-435c-a85a-73b76c5ecdd5",
   "metadata": {},
   "outputs": [],
   "source": [
    "test_result = grid_results['5']['0'].measurements"
   ]
  },
  {
   "cell_type": "code",
   "execution_count": 27,
   "id": "bf8e4a92-88a6-4218-b7a4-dcbd83477b2c",
   "metadata": {},
   "outputs": [],
   "source": [
    "x_names = [f'schwefel{i+1}' for i in range(N_DIMS_SCHWEF)]"
   ]
  },
  {
   "cell_type": "code",
   "execution_count": 29,
   "id": "9d2c5714-e918-4dfc-a379-051c78f34e08",
   "metadata": {},
   "outputs": [],
   "source": [
    "x_train = test_result[x_names].to_numpy()\n",
    "y_train = test_result['schwefel'].to_numpy()"
   ]
  },
  {
   "cell_type": "code",
   "execution_count": 30,
   "id": "5da6d938-47b0-450c-a4c4-80590aa1af6c",
   "metadata": {},
   "outputs": [
    {
     "data": {
      "text/plain": [
       "array([ 704.85928745,  555.62241542, 1314.4367682 ,  590.92000549,\n",
       "        774.57368413, 1154.99341253, 1199.14411706,  583.68789976,\n",
       "        541.86150018, 1195.2620041 ])"
      ]
     },
     "execution_count": 30,
     "metadata": {},
     "output_type": "execute_result"
    }
   ],
   "source": [
    "y_train"
   ]
  },
  {
   "cell_type": "code",
   "execution_count": 33,
   "id": "fe513817-58d2-4148-baff-fdc5cb531a1e",
   "metadata": {},
   "outputs": [],
   "source": [
    "schwef = schwefel.SchwefelProblem(n_var = 2, noise_level = 0)"
   ]
  },
  {
   "cell_type": "code",
   "execution_count": 42,
   "id": "3f4c8244-65bf-4e23-a57a-a1c04d49f3ed",
   "metadata": {},
   "outputs": [],
   "source": [
    "y_test = schwef.y(x_train)"
   ]
  },
  {
   "cell_type": "code",
   "execution_count": 46,
   "id": "5e207b2d-d704-4305-8d3b-e883dd2eee9d",
   "metadata": {},
   "outputs": [
    {
     "data": {
      "text/plain": [
       "array([[-353.1162661 , -115.77679551],\n",
       "       [-100.48640485, -327.1966037 ],\n",
       "       [ 139.7688944 , -438.20087406],\n",
       "       [-486.63820259,  378.28871931],\n",
       "       [-325.39646572, -219.090224  ],\n",
       "       [-180.23321345,  500.        ],\n",
       "       [ 500.        ,  500.        ],\n",
       "       [-500.        , -104.2417874 ],\n",
       "       [-132.38714138, -500.        ],\n",
       "       [-448.33851406,   95.06174804]])"
      ]
     },
     "execution_count": 46,
     "metadata": {},
     "output_type": "execute_result"
    }
   ],
   "source": [
    "x_train"
   ]
  },
  {
   "cell_type": "code",
   "execution_count": 47,
   "id": "1ddf0eea-504b-47f5-9100-3c626ffa124f",
   "metadata": {},
   "outputs": [
    {
     "data": {
      "text/plain": [
       "array([ 704.85928745,  555.62241542, 1314.4367682 ,  590.92000549,\n",
       "        774.57368413, 1154.99341253, 1199.14411706,  583.68789976,\n",
       "        541.86150018, 1195.2620041 ])"
      ]
     },
     "execution_count": 47,
     "metadata": {},
     "output_type": "execute_result"
    }
   ],
   "source": [
    "schwef.f(x_train)"
   ]
  },
  {
   "cell_type": "code",
   "execution_count": 48,
   "id": "58182f79-46a5-4567-96d3-0c8dda176487",
   "metadata": {},
   "outputs": [
    {
     "data": {
      "text/plain": [
       "array([[ 704.85928745,  555.62241542, 1314.4367682 ,  590.92000549,\n",
       "         774.57368413, 1154.99341253, 1199.14411706,  583.68789976,\n",
       "         541.86150018, 1195.2620041 ],\n",
       "       [ 704.85928745,  555.62241542, 1314.4367682 ,  590.92000549,\n",
       "         774.57368413, 1154.99341253, 1199.14411706,  583.68789976,\n",
       "         541.86150018, 1195.2620041 ],\n",
       "       [ 704.85928745,  555.62241542, 1314.4367682 ,  590.92000549,\n",
       "         774.57368413, 1154.99341253, 1199.14411706,  583.68789976,\n",
       "         541.86150018, 1195.2620041 ],\n",
       "       [ 704.85928745,  555.62241542, 1314.4367682 ,  590.92000549,\n",
       "         774.57368413, 1154.99341253, 1199.14411706,  583.68789976,\n",
       "         541.86150018, 1195.2620041 ],\n",
       "       [ 704.85928745,  555.62241542, 1314.4367682 ,  590.92000549,\n",
       "         774.57368413, 1154.99341253, 1199.14411706,  583.68789976,\n",
       "         541.86150018, 1195.2620041 ],\n",
       "       [ 704.85928745,  555.62241542, 1314.4367682 ,  590.92000549,\n",
       "         774.57368413, 1154.99341253, 1199.14411706,  583.68789976,\n",
       "         541.86150018, 1195.2620041 ],\n",
       "       [ 704.85928745,  555.62241542, 1314.4367682 ,  590.92000549,\n",
       "         774.57368413, 1154.99341253, 1199.14411706,  583.68789976,\n",
       "         541.86150018, 1195.2620041 ],\n",
       "       [ 704.85928745,  555.62241542, 1314.4367682 ,  590.92000549,\n",
       "         774.57368413, 1154.99341253, 1199.14411706,  583.68789976,\n",
       "         541.86150018, 1195.2620041 ],\n",
       "       [ 704.85928745,  555.62241542, 1314.4367682 ,  590.92000549,\n",
       "         774.57368413, 1154.99341253, 1199.14411706,  583.68789976,\n",
       "         541.86150018, 1195.2620041 ],\n",
       "       [ 704.85928745,  555.62241542, 1314.4367682 ,  590.92000549,\n",
       "         774.57368413, 1154.99341253, 1199.14411706,  583.68789976,\n",
       "         541.86150018, 1195.2620041 ]])"
      ]
     },
     "execution_count": 48,
     "metadata": {},
     "output_type": "execute_result"
    }
   ],
   "source": [
    "schwef.y(x_train)"
   ]
  },
  {
   "cell_type": "code",
   "execution_count": 39,
   "id": "1c39cc34-8209-426e-b1f4-4761456e7022",
   "metadata": {},
   "outputs": [
    {
     "data": {
      "text/plain": [
       "array([[-353.1162661 , -115.77679551],\n",
       "       [-100.48640485, -327.1966037 ],\n",
       "       [ 139.7688944 , -438.20087406],\n",
       "       [-486.63820259,  378.28871931],\n",
       "       [-325.39646572, -219.090224  ],\n",
       "       [-180.23321345,  500.        ],\n",
       "       [ 500.        ,  500.        ],\n",
       "       [-500.        , -104.2417874 ],\n",
       "       [-132.38714138, -500.        ],\n",
       "       [-448.33851406,   95.06174804]])"
      ]
     },
     "execution_count": 39,
     "metadata": {},
     "output_type": "execute_result"
    }
   ],
   "source": [
    "x_train"
   ]
  },
  {
   "cell_type": "code",
   "execution_count": null,
   "id": "f78a53d0-a21f-4ac4-91bc-eb786e1ad5fe",
   "metadata": {},
   "outputs": [],
   "source": []
  }
 ],
 "metadata": {
  "kernelspec": {
   "display_name": "Python 3 (ipykernel)",
   "language": "python",
   "name": "python3"
  },
  "language_info": {
   "codemirror_mode": {
    "name": "ipython",
    "version": 3
   },
   "file_extension": ".py",
   "mimetype": "text/x-python",
   "name": "python",
   "nbconvert_exporter": "python",
   "pygments_lexer": "ipython3",
   "version": "3.12.2"
  }
 },
 "nbformat": 4,
 "nbformat_minor": 5
}
