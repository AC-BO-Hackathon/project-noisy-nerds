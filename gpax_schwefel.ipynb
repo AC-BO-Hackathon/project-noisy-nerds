{
 "cells": [
  {
   "cell_type": "code",
   "execution_count": 23,
   "id": "281bd8fb",
   "metadata": {},
   "outputs": [],
   "source": [
    "from src.schwefel import SchwefelProblem\n",
    "from time import time\n",
    "import gpax\n",
    "import numpyro"
   ]
  },
  {
   "cell_type": "code",
   "execution_count": 38,
   "id": "c8ae607a",
   "metadata": {},
   "outputs": [],
   "source": [
    "\n",
    "\n",
    "def schwefel_1d(x):\n",
    "\n",
    "    return 418.9829  - x * np.sin(np.sqrt(np.abs(x)))\n",
    "\n",
    "def schwefel_nd(args):\n",
    "    output = 0\n",
    "    \n",
    "    for dim in range(args):\n",
    "        output += schwefel_1d(args[dim])\n",
    "\n",
    "def add_gaussian_noise(signal, noise_level):\n",
    "\n",
    "    return signal + np.random.normal(0, noise_level, 1)[0]\n",
    "\n",
    "def schwefel_1d_with_noise(x, noise_level = 0.01):\n",
    "    # Calculate the Schwefel function value\n",
    "\n",
    "    schwefel_value = schwefel_1d(x)\n",
    "\n",
    "    # Add Gaussian noise to the Schwefel function value\n",
    "\n",
    "    noisy_schwefel_value = add_gaussian_noise(schwefel_value, noise_level)\n",
    "\n",
    "    return noisy_schwefel_value\n",
    "\n",
    "def schwefel_nd_with_noise(args, noise_level = 0.01):\n",
    "    # Calculate the Schwefel function value\n",
    "\n",
    "    schwefel_value = schwefel_nd(args)\n",
    "\n",
    "    # Add Gaussian noise to the Schwefel function value\n",
    "\n",
    "    noisy_schwefel_value = add_gaussian_noise(schwefel_value, noise_level)\n",
    "\n",
    "    return noisy_schwefel_value\n",
    "\n",
    "\n"
   ]
  },
  {
   "cell_type": "code",
   "execution_count": 39,
   "id": "335c5c2d",
   "metadata": {},
   "outputs": [],
   "source": [
    "\n",
    "def create_data(seed, n_init, noise_level):\n",
    "\n",
    "    np.random.seed(seed)\n",
    "    X_bounds = np.array([-500,  500])\n",
    "    X = np.random.uniform(X_bounds[0], X_bounds[1], size=( n_init,))\n",
    "    X = np.append(X, X_bounds)\n",
    "    X = np.sort(X)\n",
    "    y = schwefel_1d_with_noise(X, noise_level = noise_level)\n",
    "\n",
    "    X_unmeasured = np.linspace(X_bounds[0], X_bounds[1], 200)\n",
    "    ground_truth = schwefel_1d_with_noise(X_unmeasured, noise_level = 0)\n",
    "    \n",
    "    return X, y, X_unmeasured, ground_truth\n"
   ]
  },
  {
   "cell_type": "code",
   "execution_count": 40,
   "id": "cfccdc91",
   "metadata": {},
   "outputs": [],
   "source": [
    "noise_prior = lambda: numpyro.sample(\"noise\", numpyro.distributions.HalfNormal(0.01))"
   ]
  },
  {
   "cell_type": "code",
   "execution_count": 41,
   "id": "16409b46",
   "metadata": {},
   "outputs": [],
   "source": [
    "def gp_kernel_prior():\n",
    "    length = numpyro.sample(\"k_length\", numpyro.distributions.Uniform(0.1, 2)) #0.1 2\n",
    "    scale = numpyro.sample(\"k_scale\", numpyro.distributions.LogNormal(0, 1))\n",
    "    # the hyperparameters are returned as dictionary\n",
    "    return {\"k_length\": length, \"k_scale\": scale}"
   ]
  },
  {
   "cell_type": "code",
   "execution_count": 42,
   "id": "0c835b3f",
   "metadata": {},
   "outputs": [],
   "source": [
    "def step(X_measured, y_measured, X_unmeasured):\n",
    "    # Get random number generator keys for training and prediction\n",
    "    rng_key1, rng_key2 = gpax.utils.get_keys()\n",
    "    # Initialize GP model\n",
    "    gp_model = gpax.ExactGP(1, kernel='Matern', kernel_prior=gp_kernel_prior, noise_prior=noise_prior)\n",
    "    #gpax.ExactGP(1, kernel='Matern')\n",
    "    # Run HMC to obtain posterior samples for the GP model parameters\n",
    "    gp_model.fit(rng_key1, X_measured, y_measured)\n",
    "    # Get predictions (we don't need this step for optimization - only for visualization purposes)\n",
    "    y_pred, y_sampled = gp_model.predict(rng_key2, X_unmeasured, noiseless=True, n= 10)\n",
    "\n",
    "    # Compute acquisition function\n",
    "\n",
    "    #Upper confidence bound\n",
    "    #obj = gpax.acquisition.UCB(rng_key2, gp_model, X_unmeasured, beta= 10, maximize=False, noiseless=True)\n",
    "\n",
    "    #Expected improvement\n",
    "    obj = gpax.acquisition.EI(rng_key2, gp_model, X_unmeasured, xi=0.01, maximize=False, n=10, noiseless=True) #xi = 0.01\n",
    "\n",
    "    # pure uncertainty-based\n",
    "    #obj = gpax.acquisition.UE(rng_key2, gp_model, X_unmeasured, noiseless=True)\n",
    "\n",
    "    return obj, (y_pred, y_sampled)"
   ]
  },
  {
   "cell_type": "code",
   "execution_count": 43,
   "id": "c11b722b",
   "metadata": {},
   "outputs": [],
   "source": [
    "def run_gp(num_steps, X, y, X_unmeasured, ground_truth, schwefel_1d_with_noise, noise_level ):\n",
    "    for e in range(num_steps):\n",
    "        print(\"\\nStep {}/{}\".format(e+1, num_steps))\n",
    "        # Compute acquisition function\n",
    "        acq, (y_pred, y_sampled) = step(X, y, X_unmeasured)\n",
    "        # Get the next point to evaluate\n",
    "        idx = acq.argmin()\n",
    "        next_point = X_unmeasured[idx:idx+1]\n",
    "\n",
    "        # Measure the point\n",
    "        next_point_value = schwefel_1d_with_noise(next_point, noise_level)\n",
    "        #Note that in experiment this is the step when you go to the lab. Strong insentive to learn how to make convergence faster!\n",
    "\n",
    "        # Update measured data\n",
    "        X = np.append(X, X_unmeasured[idx:idx+1])\n",
    "        y = np.append(y, next_point_value)\n",
    "\n",
    "#         # Plot observed points, mean prediction, and acqusition function\n",
    "#         lower_b = y_pred - y_sampled.std(axis=(0,1))\n",
    "#         upper_b = y_pred + y_sampled.std(axis=(0,1))\n",
    "#         fig, (ax1, ax2) = plt.subplots(1, 2, dpi=100, figsize=(14, 5.5))\n",
    "#         ax1.scatter(X[:-1], y[:-1], marker='x', c='k', label=\"Observations\", s=64)\n",
    "#         ax1.fill_between(X_unmeasured, lower_b, upper_b, color='r', alpha=0.3, label=\"Model uncertainty\")\n",
    "#         ax2.plot(X_unmeasured, acq, lw=2, c='orangered', label='Acquisition function')\n",
    "#         ax2.scatter(X_unmeasured[idx], acq[idx], s=90, c='orangered', label='Next point to measure')\n",
    "#         for ax in fig.axes:\n",
    "#             ax.plot(X_unmeasured, y_pred, lw=2, c='b', label='Posterior mean')\n",
    "#             ax.plot(X_unmeasured, ground_truth, label='Ground truth')\n",
    "#             #ax.set_ylim(3.0, 8)\n",
    "#             ax.set_xlabel(\"$X$\", fontsize=16)\n",
    "#             ax.set_ylabel(\"$y$\", fontsize=16)\n",
    "#             ax.legend(loc='best', fontsize=10)\n",
    "#         plt.show()\n",
    "    # Quantifying prediction accuracy\n",
    "    mse = np.mean((y_pred - ground_truth)**2)\n",
    "    average_uncertainty = np.mean(y_sampled.std(axis=(0,1)))    \n",
    "    return mse, average_uncertainty"
   ]
  },
  {
   "cell_type": "markdown",
   "id": "39d0ab03",
   "metadata": {},
   "source": [
    "# run experiments"
   ]
  },
  {
   "cell_type": "code",
   "execution_count": 46,
   "id": "877bc158",
   "metadata": {},
   "outputs": [],
   "source": [
    "import itertools\n",
    "import pandas as pd\n",
    "\n",
    "def grid_search(seeds, n_inits, noise_levels):\n",
    "    results = []  # Initialize an empty list to store results\n",
    "\n",
    "    # Iterate over all combinations of seeds, n_inits, and noise_levels\n",
    "    for seed, n_init, noise_level in itertools.product(seeds, n_inits, noise_levels):\n",
    "        print(f\"Seed: {seed}, n_init: {n_init}, Noise Level: {noise_level}\")\n",
    "        \n",
    "        # Create data for the current combination\n",
    "        X, y, X_unmeasured, ground_truth = create_data(seed, n_init, noise_level)\n",
    "        \n",
    "        # Run Gaussian Process (GP) optimization/modeling for the current combination\n",
    "        mse, average_uncertainty = run_gp(5, X, y, X_unmeasured, ground_truth, schwefel_1d_with_noise, noise_level)\n",
    "        \n",
    "        # Collect the results\n",
    "        results.append({\n",
    "            \"Seed\": seed,\n",
    "            \"n_init\": n_init,\n",
    "            \"Noise_Level\": noise_level,\n",
    "            \"MSE\": mse,\n",
    "            \"Average_Uncertainty\": average_uncertainty\n",
    "        })\n",
    "\n",
    "    # Convert the results to a pandas DataFrame for easy analysis and reporting\n",
    "    results_df = pd.DataFrame(results)\n",
    "    \n",
    "    return results_df\n",
    "\n",
    "\n"
   ]
  },
  {
   "cell_type": "code",
   "execution_count": null,
   "id": "e05ed635",
   "metadata": {},
   "outputs": [
    {
     "name": "stdout",
     "output_type": "stream",
     "text": [
      "Seed: 1, n_init: 10, Noise Level: 0\n",
      "\n",
      "Step 1/5\n"
     ]
    },
    {
     "name": "stderr",
     "output_type": "stream",
     "text": [
      "sample: 100%|█| 4000/4000 [00:18<00:00, 219.94it/s, 3 steps of\n"
     ]
    },
    {
     "name": "stdout",
     "output_type": "stream",
     "text": [
      "\n",
      "                mean       std    median      5.0%     95.0%     n_eff     r_hat\n",
      "  k_length      0.68      0.00      0.68      0.68      0.68      1.26      1.00\n",
      "   k_scale    453.36      0.00    453.36    453.36    453.36       nan       nan\n",
      "     noise      0.01      0.00      0.01      0.01      0.01      0.50      1.00\n",
      "\n",
      "\n",
      "Step 2/5\n"
     ]
    },
    {
     "name": "stderr",
     "output_type": "stream",
     "text": [
      "/lustre/isaac/scratch/upratius/projects/gpax/gpax/models/gp.py:111: FutureWarning: `noise_prior` is deprecated and will be removed in a future version. Please use `noise_prior_dist` instead, which accepts an instance of a numpyro.distributions Distribution object, e.g., `dist.HalfNormal(scale=0.1)`, rather than a function that calls `numpyro.sample`.\n",
      "  warnings.warn(\n",
      "/lustre/isaac/scratch/upratius/projects/gpax/gpax/models/gp.py:119: UserWarning: `kernel_prior` will remain available for complex priors. However, for modifying only the lengthscales, it is recommended to use `lengthscale_prior_dist` instead. `lengthscale_prior_dist` accepts an instance of a numpyro.distributions Distribution object, e.g., `dist.Gamma(2, 5)`, rather than a function that calls `numpyro.sample`.\n",
      "  warnings.warn(\n",
      "sample: 100%|█| 4000/4000 [00:21<00:00, 184.16it/s, 6 steps of\n"
     ]
    },
    {
     "name": "stdout",
     "output_type": "stream",
     "text": [
      "\n",
      "                mean       std    median      5.0%     95.0%     n_eff     r_hat\n",
      "  k_length      0.68      0.00      0.68      0.68      0.68      0.50      1.00\n",
      "   k_scale     43.01      0.00     43.01     43.00     43.01      6.19      1.21\n",
      "     noise      0.01      0.00      0.01      0.01      0.01      0.50      1.00\n",
      "\n",
      "\n",
      "Step 3/5\n"
     ]
    },
    {
     "name": "stderr",
     "output_type": "stream",
     "text": [
      "/lustre/isaac/scratch/upratius/projects/gpax/gpax/models/gp.py:111: FutureWarning: `noise_prior` is deprecated and will be removed in a future version. Please use `noise_prior_dist` instead, which accepts an instance of a numpyro.distributions Distribution object, e.g., `dist.HalfNormal(scale=0.1)`, rather than a function that calls `numpyro.sample`.\n",
      "  warnings.warn(\n",
      "/lustre/isaac/scratch/upratius/projects/gpax/gpax/models/gp.py:119: UserWarning: `kernel_prior` will remain available for complex priors. However, for modifying only the lengthscales, it is recommended to use `lengthscale_prior_dist` instead. `lengthscale_prior_dist` accepts an instance of a numpyro.distributions Distribution object, e.g., `dist.Gamma(2, 5)`, rather than a function that calls `numpyro.sample`.\n",
      "  warnings.warn(\n",
      "sample: 100%|█| 4000/4000 [00:28<00:00, 140.09it/s, 9 steps of\n"
     ]
    },
    {
     "name": "stdout",
     "output_type": "stream",
     "text": [
      "\n",
      "                mean       std    median      5.0%     95.0%     n_eff     r_hat\n",
      "  k_length      0.65      0.00      0.65      0.65      0.65     66.33      1.00\n",
      "   k_scale     32.17      0.00     32.17     32.17     32.17      0.50      1.00\n",
      "     noise      0.01      0.00      0.01      0.01      0.01      0.50      1.00\n",
      "\n",
      "\n",
      "Step 4/5\n"
     ]
    },
    {
     "name": "stderr",
     "output_type": "stream",
     "text": [
      "/lustre/isaac/scratch/upratius/projects/gpax/gpax/models/gp.py:111: FutureWarning: `noise_prior` is deprecated and will be removed in a future version. Please use `noise_prior_dist` instead, which accepts an instance of a numpyro.distributions Distribution object, e.g., `dist.HalfNormal(scale=0.1)`, rather than a function that calls `numpyro.sample`.\n",
      "  warnings.warn(\n",
      "/lustre/isaac/scratch/upratius/projects/gpax/gpax/models/gp.py:119: UserWarning: `kernel_prior` will remain available for complex priors. However, for modifying only the lengthscales, it is recommended to use `lengthscale_prior_dist` instead. `lengthscale_prior_dist` accepts an instance of a numpyro.distributions Distribution object, e.g., `dist.Gamma(2, 5)`, rather than a function that calls `numpyro.sample`.\n",
      "  warnings.warn(\n",
      "sample: 100%|█| 4000/4000 [00:29<00:00, 134.14it/s, 19 steps o\n"
     ]
    },
    {
     "name": "stdout",
     "output_type": "stream",
     "text": [
      "\n",
      "                mean       std    median      5.0%     95.0%     n_eff     r_hat\n",
      "  k_length      0.67      0.00      0.67      0.67      0.67    103.83      1.00\n",
      "   k_scale     62.30      0.00     62.30     62.30     62.30      0.50      1.00\n",
      "     noise      0.01      0.00      0.01      0.01      0.01      0.50      1.00\n",
      "\n",
      "\n",
      "Step 5/5\n"
     ]
    },
    {
     "name": "stderr",
     "output_type": "stream",
     "text": [
      "/lustre/isaac/scratch/upratius/projects/gpax/gpax/models/gp.py:111: FutureWarning: `noise_prior` is deprecated and will be removed in a future version. Please use `noise_prior_dist` instead, which accepts an instance of a numpyro.distributions Distribution object, e.g., `dist.HalfNormal(scale=0.1)`, rather than a function that calls `numpyro.sample`.\n",
      "  warnings.warn(\n",
      "/lustre/isaac/scratch/upratius/projects/gpax/gpax/models/gp.py:119: UserWarning: `kernel_prior` will remain available for complex priors. However, for modifying only the lengthscales, it is recommended to use `lengthscale_prior_dist` instead. `lengthscale_prior_dist` accepts an instance of a numpyro.distributions Distribution object, e.g., `dist.Gamma(2, 5)`, rather than a function that calls `numpyro.sample`.\n",
      "  warnings.warn(\n",
      "sample: 100%|█| 4000/4000 [00:33<00:00, 120.15it/s, 1 steps of\n"
     ]
    },
    {
     "name": "stdout",
     "output_type": "stream",
     "text": [
      "\n",
      "                mean       std    median      5.0%     95.0%     n_eff     r_hat\n",
      "  k_length      0.68      0.00      0.68      0.68      0.68      0.50      1.00\n",
      "   k_scale     23.13      0.00     23.13     23.13     23.13      0.50      1.00\n",
      "     noise      0.01      0.00      0.01      0.01      0.01      0.50      1.00\n",
      "\n",
      "Seed: 1, n_init: 10, Noise Level: 0.01\n",
      "\n",
      "Step 1/5\n"
     ]
    },
    {
     "name": "stderr",
     "output_type": "stream",
     "text": [
      "/lustre/isaac/scratch/upratius/projects/gpax/gpax/models/gp.py:111: FutureWarning: `noise_prior` is deprecated and will be removed in a future version. Please use `noise_prior_dist` instead, which accepts an instance of a numpyro.distributions Distribution object, e.g., `dist.HalfNormal(scale=0.1)`, rather than a function that calls `numpyro.sample`.\n",
      "  warnings.warn(\n",
      "/lustre/isaac/scratch/upratius/projects/gpax/gpax/models/gp.py:119: UserWarning: `kernel_prior` will remain available for complex priors. However, for modifying only the lengthscales, it is recommended to use `lengthscale_prior_dist` instead. `lengthscale_prior_dist` accepts an instance of a numpyro.distributions Distribution object, e.g., `dist.Gamma(2, 5)`, rather than a function that calls `numpyro.sample`.\n",
      "  warnings.warn(\n",
      "sample: 100%|█| 4000/4000 [00:20<00:00, 194.76it/s, 10 steps o\n"
     ]
    },
    {
     "name": "stdout",
     "output_type": "stream",
     "text": [
      "\n",
      "                mean       std    median      5.0%     95.0%     n_eff     r_hat\n",
      "  k_length      0.68      0.00      0.68      0.68      0.68      0.85      1.00\n",
      "   k_scale     51.21      0.00     51.21     51.21     51.21     10.25      1.11\n",
      "     noise      0.01      0.00      0.01      0.01      0.01      0.50      1.00\n",
      "\n",
      "\n",
      "Step 2/5\n"
     ]
    },
    {
     "name": "stderr",
     "output_type": "stream",
     "text": [
      "/lustre/isaac/scratch/upratius/projects/gpax/gpax/models/gp.py:111: FutureWarning: `noise_prior` is deprecated and will be removed in a future version. Please use `noise_prior_dist` instead, which accepts an instance of a numpyro.distributions Distribution object, e.g., `dist.HalfNormal(scale=0.1)`, rather than a function that calls `numpyro.sample`.\n",
      "  warnings.warn(\n",
      "/lustre/isaac/scratch/upratius/projects/gpax/gpax/models/gp.py:119: UserWarning: `kernel_prior` will remain available for complex priors. However, for modifying only the lengthscales, it is recommended to use `lengthscale_prior_dist` instead. `lengthscale_prior_dist` accepts an instance of a numpyro.distributions Distribution object, e.g., `dist.Gamma(2, 5)`, rather than a function that calls `numpyro.sample`.\n",
      "  warnings.warn(\n",
      "sample: 100%|█| 4000/4000 [00:25<00:00, 155.65it/s, 24 steps o\n"
     ]
    },
    {
     "name": "stdout",
     "output_type": "stream",
     "text": [
      "\n",
      "                mean       std    median      5.0%     95.0%     n_eff     r_hat\n",
      "  k_length      0.67      0.00      0.67      0.67      0.67    111.50      1.00\n",
      "   k_scale     55.50      0.00     55.50     55.50     55.50       nan       nan\n",
      "     noise      0.01      0.00      0.01      0.01      0.01       nan       nan\n",
      "\n",
      "\n",
      "Step 3/5\n"
     ]
    },
    {
     "name": "stderr",
     "output_type": "stream",
     "text": [
      "/lustre/isaac/scratch/upratius/projects/gpax/gpax/models/gp.py:111: FutureWarning: `noise_prior` is deprecated and will be removed in a future version. Please use `noise_prior_dist` instead, which accepts an instance of a numpyro.distributions Distribution object, e.g., `dist.HalfNormal(scale=0.1)`, rather than a function that calls `numpyro.sample`.\n",
      "  warnings.warn(\n",
      "/lustre/isaac/scratch/upratius/projects/gpax/gpax/models/gp.py:119: UserWarning: `kernel_prior` will remain available for complex priors. However, for modifying only the lengthscales, it is recommended to use `lengthscale_prior_dist` instead. `lengthscale_prior_dist` accepts an instance of a numpyro.distributions Distribution object, e.g., `dist.Gamma(2, 5)`, rather than a function that calls `numpyro.sample`.\n",
      "  warnings.warn(\n",
      "sample: 100%|█| 4000/4000 [00:33<00:00, 121.13it/s, 59 steps o\n"
     ]
    },
    {
     "name": "stdout",
     "output_type": "stream",
     "text": [
      "\n",
      "                mean       std    median      5.0%     95.0%     n_eff     r_hat\n",
      "  k_length      0.68      0.00      0.68      0.68      0.68      0.50      1.00\n",
      "   k_scale     15.22      0.00     15.22     15.22     15.22      0.50      1.00\n",
      "     noise      0.01      0.00      0.01      0.01      0.01      0.50      1.00\n",
      "\n",
      "\n",
      "Step 4/5\n"
     ]
    },
    {
     "name": "stderr",
     "output_type": "stream",
     "text": [
      "/lustre/isaac/scratch/upratius/projects/gpax/gpax/models/gp.py:111: FutureWarning: `noise_prior` is deprecated and will be removed in a future version. Please use `noise_prior_dist` instead, which accepts an instance of a numpyro.distributions Distribution object, e.g., `dist.HalfNormal(scale=0.1)`, rather than a function that calls `numpyro.sample`.\n",
      "  warnings.warn(\n",
      "/lustre/isaac/scratch/upratius/projects/gpax/gpax/models/gp.py:119: UserWarning: `kernel_prior` will remain available for complex priors. However, for modifying only the lengthscales, it is recommended to use `lengthscale_prior_dist` instead. `lengthscale_prior_dist` accepts an instance of a numpyro.distributions Distribution object, e.g., `dist.Gamma(2, 5)`, rather than a function that calls `numpyro.sample`.\n",
      "  warnings.warn(\n",
      "sample: 100%|█| 4000/4000 [00:31<00:00, 128.46it/s, 4 steps of\n"
     ]
    },
    {
     "name": "stdout",
     "output_type": "stream",
     "text": [
      "\n",
      "                mean       std    median      5.0%     95.0%     n_eff     r_hat\n",
      "  k_length      0.67      0.00      0.67      0.67      0.67      0.50      1.00\n",
      "   k_scale     39.38      0.00     39.38     39.38     39.38       nan       nan\n",
      "     noise      0.01      0.00      0.01      0.01      0.01      0.50      1.00\n",
      "\n",
      "\n",
      "Step 5/5\n"
     ]
    },
    {
     "name": "stderr",
     "output_type": "stream",
     "text": [
      "/lustre/isaac/scratch/upratius/projects/gpax/gpax/models/gp.py:111: FutureWarning: `noise_prior` is deprecated and will be removed in a future version. Please use `noise_prior_dist` instead, which accepts an instance of a numpyro.distributions Distribution object, e.g., `dist.HalfNormal(scale=0.1)`, rather than a function that calls `numpyro.sample`.\n",
      "  warnings.warn(\n",
      "/lustre/isaac/scratch/upratius/projects/gpax/gpax/models/gp.py:119: UserWarning: `kernel_prior` will remain available for complex priors. However, for modifying only the lengthscales, it is recommended to use `lengthscale_prior_dist` instead. `lengthscale_prior_dist` accepts an instance of a numpyro.distributions Distribution object, e.g., `dist.Gamma(2, 5)`, rather than a function that calls `numpyro.sample`.\n",
      "  warnings.warn(\n",
      "sample: 100%|█| 4000/4000 [00:35<00:00, 113.39it/s, 1023 steps\n"
     ]
    },
    {
     "name": "stdout",
     "output_type": "stream",
     "text": [
      "\n",
      "                mean       std    median      5.0%     95.0%     n_eff     r_hat\n",
      "  k_length      0.67      0.00      0.67      0.67      0.67       nan       nan\n",
      "   k_scale      1.44      0.00      1.44      1.44      1.44      0.50      1.00\n",
      "     noise      0.01      0.00      0.01      0.01      0.01      0.50      1.00\n",
      "\n",
      "Seed: 1, n_init: 10, Noise Level: 0.1\n",
      "\n",
      "Step 1/5\n"
     ]
    },
    {
     "name": "stderr",
     "output_type": "stream",
     "text": [
      "/lustre/isaac/scratch/upratius/projects/gpax/gpax/models/gp.py:111: FutureWarning: `noise_prior` is deprecated and will be removed in a future version. Please use `noise_prior_dist` instead, which accepts an instance of a numpyro.distributions Distribution object, e.g., `dist.HalfNormal(scale=0.1)`, rather than a function that calls `numpyro.sample`.\n",
      "  warnings.warn(\n",
      "/lustre/isaac/scratch/upratius/projects/gpax/gpax/models/gp.py:119: UserWarning: `kernel_prior` will remain available for complex priors. However, for modifying only the lengthscales, it is recommended to use `lengthscale_prior_dist` instead. `lengthscale_prior_dist` accepts an instance of a numpyro.distributions Distribution object, e.g., `dist.Gamma(2, 5)`, rather than a function that calls `numpyro.sample`.\n",
      "  warnings.warn(\n",
      "sample: 100%|█| 4000/4000 [00:27<00:00, 143.14it/s, 1023 steps\n"
     ]
    },
    {
     "name": "stdout",
     "output_type": "stream",
     "text": [
      "\n",
      "                mean       std    median      5.0%     95.0%     n_eff     r_hat\n",
      "  k_length      0.67      0.00      0.67      0.67      0.67       nan       nan\n",
      "   k_scale      1.43      0.00      1.43      1.43      1.43      2.54      2.68\n",
      "     noise      0.01      0.00      0.01      0.01      0.01      0.50      1.00\n",
      "\n",
      "\n",
      "Step 2/5\n"
     ]
    },
    {
     "name": "stderr",
     "output_type": "stream",
     "text": [
      "/lustre/isaac/scratch/upratius/projects/gpax/gpax/models/gp.py:111: FutureWarning: `noise_prior` is deprecated and will be removed in a future version. Please use `noise_prior_dist` instead, which accepts an instance of a numpyro.distributions Distribution object, e.g., `dist.HalfNormal(scale=0.1)`, rather than a function that calls `numpyro.sample`.\n",
      "  warnings.warn(\n",
      "/lustre/isaac/scratch/upratius/projects/gpax/gpax/models/gp.py:119: UserWarning: `kernel_prior` will remain available for complex priors. However, for modifying only the lengthscales, it is recommended to use `lengthscale_prior_dist` instead. `lengthscale_prior_dist` accepts an instance of a numpyro.distributions Distribution object, e.g., `dist.Gamma(2, 5)`, rather than a function that calls `numpyro.sample`.\n",
      "  warnings.warn(\n",
      "sample: 100%|█| 4000/4000 [00:31<00:00, 126.65it/s, 1023 steps\n"
     ]
    },
    {
     "name": "stdout",
     "output_type": "stream",
     "text": [
      "\n",
      "                mean       std    median      5.0%     95.0%     n_eff     r_hat\n",
      "  k_length      0.67      0.00      0.67      0.67      0.67      0.50      1.00\n",
      "   k_scale      2.29      0.00      2.29      2.29      2.29      0.50      1.00\n",
      "     noise      0.01      0.00      0.01      0.01      0.01      0.50      1.00\n",
      "\n",
      "\n",
      "Step 3/5\n"
     ]
    },
    {
     "name": "stderr",
     "output_type": "stream",
     "text": [
      "/lustre/isaac/scratch/upratius/projects/gpax/gpax/models/gp.py:111: FutureWarning: `noise_prior` is deprecated and will be removed in a future version. Please use `noise_prior_dist` instead, which accepts an instance of a numpyro.distributions Distribution object, e.g., `dist.HalfNormal(scale=0.1)`, rather than a function that calls `numpyro.sample`.\n",
      "  warnings.warn(\n",
      "/lustre/isaac/scratch/upratius/projects/gpax/gpax/models/gp.py:119: UserWarning: `kernel_prior` will remain available for complex priors. However, for modifying only the lengthscales, it is recommended to use `lengthscale_prior_dist` instead. `lengthscale_prior_dist` accepts an instance of a numpyro.distributions Distribution object, e.g., `dist.Gamma(2, 5)`, rather than a function that calls `numpyro.sample`.\n",
      "  warnings.warn(\n",
      "sample: 100%|█| 4000/4000 [00:27<00:00, 147.69it/s, 4 steps of\n"
     ]
    },
    {
     "name": "stdout",
     "output_type": "stream",
     "text": [
      "\n",
      "                mean       std    median      5.0%     95.0%     n_eff     r_hat\n",
      "  k_length      0.66      0.00      0.66      0.66      0.66     33.72      1.00\n",
      "   k_scale    110.68      0.00    110.68    110.68    110.68      0.50      1.00\n",
      "     noise      0.01      0.00      0.01      0.01      0.01      0.50      1.00\n",
      "\n",
      "\n",
      "Step 4/5\n"
     ]
    },
    {
     "name": "stderr",
     "output_type": "stream",
     "text": [
      "/lustre/isaac/scratch/upratius/projects/gpax/gpax/models/gp.py:111: FutureWarning: `noise_prior` is deprecated and will be removed in a future version. Please use `noise_prior_dist` instead, which accepts an instance of a numpyro.distributions Distribution object, e.g., `dist.HalfNormal(scale=0.1)`, rather than a function that calls `numpyro.sample`.\n",
      "  warnings.warn(\n",
      "/lustre/isaac/scratch/upratius/projects/gpax/gpax/models/gp.py:119: UserWarning: `kernel_prior` will remain available for complex priors. However, for modifying only the lengthscales, it is recommended to use `lengthscale_prior_dist` instead. `lengthscale_prior_dist` accepts an instance of a numpyro.distributions Distribution object, e.g., `dist.Gamma(2, 5)`, rather than a function that calls `numpyro.sample`.\n",
      "  warnings.warn(\n",
      "sample: 100%|█| 4000/4000 [00:32<00:00, 123.35it/s, 46 steps o\n"
     ]
    },
    {
     "name": "stdout",
     "output_type": "stream",
     "text": [
      "\n",
      "                mean       std    median      5.0%     95.0%     n_eff     r_hat\n",
      "  k_length      0.55      0.00      0.55      0.55      0.55     25.39      1.02\n",
      "   k_scale     61.08      0.00     61.08     61.08     61.08      0.50      1.00\n",
      "     noise      0.01      0.00      0.01      0.01      0.01      0.50      1.00\n",
      "\n",
      "\n",
      "Step 5/5\n"
     ]
    },
    {
     "name": "stderr",
     "output_type": "stream",
     "text": [
      "/lustre/isaac/scratch/upratius/projects/gpax/gpax/models/gp.py:111: FutureWarning: `noise_prior` is deprecated and will be removed in a future version. Please use `noise_prior_dist` instead, which accepts an instance of a numpyro.distributions Distribution object, e.g., `dist.HalfNormal(scale=0.1)`, rather than a function that calls `numpyro.sample`.\n",
      "  warnings.warn(\n",
      "/lustre/isaac/scratch/upratius/projects/gpax/gpax/models/gp.py:119: UserWarning: `kernel_prior` will remain available for complex priors. However, for modifying only the lengthscales, it is recommended to use `lengthscale_prior_dist` instead. `lengthscale_prior_dist` accepts an instance of a numpyro.distributions Distribution object, e.g., `dist.Gamma(2, 5)`, rather than a function that calls `numpyro.sample`.\n",
      "  warnings.warn(\n",
      "sample: 100%|█| 4000/4000 [00:36<00:00, 110.28it/s, 1023 steps\n"
     ]
    },
    {
     "name": "stdout",
     "output_type": "stream",
     "text": [
      "\n",
      "                mean       std    median      5.0%     95.0%     n_eff     r_hat\n",
      "  k_length      0.67      0.00      0.67      0.67      0.67      0.50      1.00\n",
      "   k_scale      2.29      0.00      2.29      2.29      2.29       nan       nan\n",
      "     noise      0.01      0.00      0.01      0.01      0.01       nan       nan\n",
      "\n",
      "Seed: 1, n_init: 10, Noise Level: 0.5\n",
      "\n",
      "Step 1/5\n"
     ]
    },
    {
     "name": "stderr",
     "output_type": "stream",
     "text": [
      "/lustre/isaac/scratch/upratius/projects/gpax/gpax/models/gp.py:111: FutureWarning: `noise_prior` is deprecated and will be removed in a future version. Please use `noise_prior_dist` instead, which accepts an instance of a numpyro.distributions Distribution object, e.g., `dist.HalfNormal(scale=0.1)`, rather than a function that calls `numpyro.sample`.\n",
      "  warnings.warn(\n",
      "/lustre/isaac/scratch/upratius/projects/gpax/gpax/models/gp.py:119: UserWarning: `kernel_prior` will remain available for complex priors. However, for modifying only the lengthscales, it is recommended to use `lengthscale_prior_dist` instead. `lengthscale_prior_dist` accepts an instance of a numpyro.distributions Distribution object, e.g., `dist.Gamma(2, 5)`, rather than a function that calls `numpyro.sample`.\n",
      "  warnings.warn(\n",
      "sample: 100%|█| 4000/4000 [00:27<00:00, 143.49it/s, 1023 steps\n"
     ]
    },
    {
     "name": "stdout",
     "output_type": "stream",
     "text": [
      "\n",
      "                mean       std    median      5.0%     95.0%     n_eff     r_hat\n",
      "  k_length      0.67      0.00      0.67      0.67      0.67       nan       nan\n",
      "   k_scale      1.43      0.00      1.43      1.43      1.43      0.50      1.00\n",
      "     noise      0.01      0.00      0.01      0.01      0.01      0.50      1.00\n",
      "\n",
      "\n",
      "Step 2/5\n"
     ]
    },
    {
     "name": "stderr",
     "output_type": "stream",
     "text": [
      "/lustre/isaac/scratch/upratius/projects/gpax/gpax/models/gp.py:111: FutureWarning: `noise_prior` is deprecated and will be removed in a future version. Please use `noise_prior_dist` instead, which accepts an instance of a numpyro.distributions Distribution object, e.g., `dist.HalfNormal(scale=0.1)`, rather than a function that calls `numpyro.sample`.\n",
      "  warnings.warn(\n",
      "/lustre/isaac/scratch/upratius/projects/gpax/gpax/models/gp.py:119: UserWarning: `kernel_prior` will remain available for complex priors. However, for modifying only the lengthscales, it is recommended to use `lengthscale_prior_dist` instead. `lengthscale_prior_dist` accepts an instance of a numpyro.distributions Distribution object, e.g., `dist.Gamma(2, 5)`, rather than a function that calls `numpyro.sample`.\n",
      "  warnings.warn(\n",
      "sample: 100%|█| 4000/4000 [00:29<00:00, 134.99it/s, 42 steps o\n"
     ]
    },
    {
     "name": "stdout",
     "output_type": "stream",
     "text": [
      "\n",
      "                mean       std    median      5.0%     95.0%     n_eff     r_hat\n",
      "  k_length      0.65      0.00      0.65      0.65      0.65       nan       nan\n",
      "   k_scale     22.43      0.00     22.43     22.43     22.43      0.50      1.00\n",
      "     noise      0.01      0.00      0.01      0.01      0.01      0.50      1.00\n",
      "\n",
      "\n",
      "Step 3/5\n"
     ]
    },
    {
     "name": "stderr",
     "output_type": "stream",
     "text": [
      "/lustre/isaac/scratch/upratius/projects/gpax/gpax/models/gp.py:111: FutureWarning: `noise_prior` is deprecated and will be removed in a future version. Please use `noise_prior_dist` instead, which accepts an instance of a numpyro.distributions Distribution object, e.g., `dist.HalfNormal(scale=0.1)`, rather than a function that calls `numpyro.sample`.\n",
      "  warnings.warn(\n",
      "/lustre/isaac/scratch/upratius/projects/gpax/gpax/models/gp.py:119: UserWarning: `kernel_prior` will remain available for complex priors. However, for modifying only the lengthscales, it is recommended to use `lengthscale_prior_dist` instead. `lengthscale_prior_dist` accepts an instance of a numpyro.distributions Distribution object, e.g., `dist.Gamma(2, 5)`, rather than a function that calls `numpyro.sample`.\n",
      "  warnings.warn(\n",
      "sample: 100%|█| 4000/4000 [00:28<00:00, 140.47it/s, 10 steps o\n"
     ]
    },
    {
     "name": "stdout",
     "output_type": "stream",
     "text": [
      "\n",
      "                mean       std    median      5.0%     95.0%     n_eff     r_hat\n",
      "  k_length      0.68      0.00      0.68      0.68      0.68       nan       nan\n",
      "   k_scale     19.19      0.00     19.19     19.19     19.19       nan       nan\n",
      "     noise      0.01      0.00      0.01      0.01      0.01      0.50      1.00\n",
      "\n",
      "\n",
      "Step 4/5\n"
     ]
    },
    {
     "name": "stderr",
     "output_type": "stream",
     "text": [
      "/lustre/isaac/scratch/upratius/projects/gpax/gpax/models/gp.py:111: FutureWarning: `noise_prior` is deprecated and will be removed in a future version. Please use `noise_prior_dist` instead, which accepts an instance of a numpyro.distributions Distribution object, e.g., `dist.HalfNormal(scale=0.1)`, rather than a function that calls `numpyro.sample`.\n",
      "  warnings.warn(\n",
      "/lustre/isaac/scratch/upratius/projects/gpax/gpax/models/gp.py:119: UserWarning: `kernel_prior` will remain available for complex priors. However, for modifying only the lengthscales, it is recommended to use `lengthscale_prior_dist` instead. `lengthscale_prior_dist` accepts an instance of a numpyro.distributions Distribution object, e.g., `dist.Gamma(2, 5)`, rather than a function that calls `numpyro.sample`.\n",
      "  warnings.warn(\n",
      "sample: 100%|█| 4000/4000 [00:34<00:00, 114.43it/s, 59 steps o\n"
     ]
    },
    {
     "name": "stdout",
     "output_type": "stream",
     "text": [
      "\n",
      "                mean       std    median      5.0%     95.0%     n_eff     r_hat\n",
      "  k_length      0.65      0.00      0.65      0.65      0.65      0.50      1.00\n",
      "   k_scale     19.17      0.00     19.17     19.17     19.17      0.50      1.00\n",
      "     noise      0.01      0.00      0.01      0.01      0.01      0.50      1.00\n",
      "\n",
      "\n",
      "Step 5/5\n"
     ]
    },
    {
     "name": "stderr",
     "output_type": "stream",
     "text": [
      "/lustre/isaac/scratch/upratius/projects/gpax/gpax/models/gp.py:111: FutureWarning: `noise_prior` is deprecated and will be removed in a future version. Please use `noise_prior_dist` instead, which accepts an instance of a numpyro.distributions Distribution object, e.g., `dist.HalfNormal(scale=0.1)`, rather than a function that calls `numpyro.sample`.\n",
      "  warnings.warn(\n",
      "/lustre/isaac/scratch/upratius/projects/gpax/gpax/models/gp.py:119: UserWarning: `kernel_prior` will remain available for complex priors. However, for modifying only the lengthscales, it is recommended to use `lengthscale_prior_dist` instead. `lengthscale_prior_dist` accepts an instance of a numpyro.distributions Distribution object, e.g., `dist.Gamma(2, 5)`, rather than a function that calls `numpyro.sample`.\n",
      "  warnings.warn(\n",
      "sample: 100%|█| 4000/4000 [00:36<00:00, 109.37it/s, 1023 steps\n"
     ]
    },
    {
     "name": "stdout",
     "output_type": "stream",
     "text": [
      "\n",
      "                mean       std    median      5.0%     95.0%     n_eff     r_hat\n",
      "  k_length      0.67      0.00      0.67      0.67      0.67       nan       nan\n",
      "   k_scale      1.43      0.00      1.43      1.43      1.43      0.50      1.00\n",
      "     noise      0.01      0.00      0.01      0.01      0.01      0.50      1.00\n",
      "\n",
      "Seed: 1, n_init: 15, Noise Level: 0\n",
      "\n",
      "Step 1/5\n"
     ]
    },
    {
     "name": "stderr",
     "output_type": "stream",
     "text": [
      "/lustre/isaac/scratch/upratius/projects/gpax/gpax/models/gp.py:111: FutureWarning: `noise_prior` is deprecated and will be removed in a future version. Please use `noise_prior_dist` instead, which accepts an instance of a numpyro.distributions Distribution object, e.g., `dist.HalfNormal(scale=0.1)`, rather than a function that calls `numpyro.sample`.\n",
      "  warnings.warn(\n",
      "/lustre/isaac/scratch/upratius/projects/gpax/gpax/models/gp.py:119: UserWarning: `kernel_prior` will remain available for complex priors. However, for modifying only the lengthscales, it is recommended to use `lengthscale_prior_dist` instead. `lengthscale_prior_dist` accepts an instance of a numpyro.distributions Distribution object, e.g., `dist.Gamma(2, 5)`, rather than a function that calls `numpyro.sample`.\n",
      "  warnings.warn(\n",
      "sample: 100%|█| 4000/4000 [00:42<00:00, 94.46it/s, 907 steps o\n"
     ]
    },
    {
     "name": "stdout",
     "output_type": "stream",
     "text": [
      "\n",
      "                mean       std    median      5.0%     95.0%     n_eff     r_hat\n",
      "  k_length      0.67      0.00      0.67      0.67      0.67     11.89      1.05\n",
      "   k_scale     21.37      0.00     21.37     21.37     21.37      0.50      1.00\n",
      "     noise      0.01      0.00      0.01      0.01      0.01      0.50      1.00\n",
      "\n",
      "\n",
      "Step 2/5\n"
     ]
    },
    {
     "name": "stderr",
     "output_type": "stream",
     "text": [
      "/lustre/isaac/scratch/upratius/projects/gpax/gpax/models/gp.py:111: FutureWarning: `noise_prior` is deprecated and will be removed in a future version. Please use `noise_prior_dist` instead, which accepts an instance of a numpyro.distributions Distribution object, e.g., `dist.HalfNormal(scale=0.1)`, rather than a function that calls `numpyro.sample`.\n",
      "  warnings.warn(\n",
      "/lustre/isaac/scratch/upratius/projects/gpax/gpax/models/gp.py:119: UserWarning: `kernel_prior` will remain available for complex priors. However, for modifying only the lengthscales, it is recommended to use `lengthscale_prior_dist` instead. `lengthscale_prior_dist` accepts an instance of a numpyro.distributions Distribution object, e.g., `dist.Gamma(2, 5)`, rather than a function that calls `numpyro.sample`.\n",
      "  warnings.warn(\n",
      "sample: 100%|█| 4000/4000 [00:42<00:00, 93.05it/s, 2 steps of \n"
     ]
    },
    {
     "name": "stdout",
     "output_type": "stream",
     "text": [
      "\n",
      "                mean       std    median      5.0%     95.0%     n_eff     r_hat\n",
      "  k_length      0.69      0.00      0.69      0.69      0.69      0.50      1.00\n",
      "   k_scale     19.05      0.00     19.05     19.05     19.05       nan       nan\n",
      "     noise      0.01      0.00      0.01      0.01      0.01      0.50      1.00\n",
      "\n",
      "\n",
      "Step 3/5\n"
     ]
    },
    {
     "name": "stderr",
     "output_type": "stream",
     "text": [
      "/lustre/isaac/scratch/upratius/projects/gpax/gpax/models/gp.py:111: FutureWarning: `noise_prior` is deprecated and will be removed in a future version. Please use `noise_prior_dist` instead, which accepts an instance of a numpyro.distributions Distribution object, e.g., `dist.HalfNormal(scale=0.1)`, rather than a function that calls `numpyro.sample`.\n",
      "  warnings.warn(\n",
      "/lustre/isaac/scratch/upratius/projects/gpax/gpax/models/gp.py:119: UserWarning: `kernel_prior` will remain available for complex priors. However, for modifying only the lengthscales, it is recommended to use `lengthscale_prior_dist` instead. `lengthscale_prior_dist` accepts an instance of a numpyro.distributions Distribution object, e.g., `dist.Gamma(2, 5)`, rather than a function that calls `numpyro.sample`.\n",
      "  warnings.warn(\n",
      "sample:  96%|▉| 3853/4000 [00:50<00:01, 79.92it/s, 1023 steps "
     ]
    }
   ],
   "source": [
    "# Define your parameter space\n",
    "seeds = [1, 2, 3]\n",
    "n_inits = [10, 15, 20]\n",
    "noise_levels = [0, 0.01, 0.1, 0.5]\n",
    "\n",
    "# Assuming create_data and run_gp functions are defined elsewhere\n",
    "\n",
    "# Run the grid search\n",
    "results_df = grid_search(seeds, n_inits, noise_levels)\n",
    "\n",
    "# Display the results DataFrame\n",
    "print(results_df)"
   ]
  },
  {
   "cell_type": "code",
   "execution_count": null,
   "id": "b3274d33",
   "metadata": {},
   "outputs": [],
   "source": [
    "results_df.to_csv('grid_search_results.csv', index=False)"
   ]
  },
  {
   "cell_type": "code",
   "execution_count": null,
   "id": "24c5164c",
   "metadata": {},
   "outputs": [],
   "source": []
  }
 ],
 "metadata": {
  "kernelspec": {
   "display_name": "Python [conda env:.conda-gpax_hae]",
   "language": "python",
   "name": "conda-env-.conda-gpax_hae-py"
  },
  "language_info": {
   "codemirror_mode": {
    "name": "ipython",
    "version": 3
   },
   "file_extension": ".py",
   "mimetype": "text/x-python",
   "name": "python",
   "nbconvert_exporter": "python",
   "pygments_lexer": "ipython3",
   "version": "3.10.0"
  },
  "varInspector": {
   "cols": {
    "lenName": 16,
    "lenType": 16,
    "lenVar": 40
   },
   "kernels_config": {
    "python": {
     "delete_cmd_postfix": "",
     "delete_cmd_prefix": "del ",
     "library": "var_list.py",
     "varRefreshCmd": "print(var_dic_list())"
    },
    "r": {
     "delete_cmd_postfix": ") ",
     "delete_cmd_prefix": "rm(",
     "library": "var_list.r",
     "varRefreshCmd": "cat(var_dic_list()) "
    }
   },
   "types_to_exclude": [
    "module",
    "function",
    "builtin_function_or_method",
    "instance",
    "_Feature"
   ],
   "window_display": false
  }
 },
 "nbformat": 4,
 "nbformat_minor": 5
}
